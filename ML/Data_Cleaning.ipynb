{
  "nbformat": 4,
  "nbformat_minor": 0,
  "metadata": {
    "colab": {
      "name": "ML/Data_Cleaning.ipynb",
      "provenance": [],
      "mount_file_id": "https://github.com/yishairasowsky/Sefaria-Project/blob/master/ML/Data_Cleaning.ipynb",
      "authorship_tag": "ABX9TyMztRJxdI8eZZQ3spGkarQs",
      "include_colab_link": true
    },
    "kernelspec": {
      "name": "python3",
      "display_name": "Python 3"
    }
  },
  "cells": [
    {
      "cell_type": "markdown",
      "metadata": {
        "id": "view-in-github",
        "colab_type": "text"
      },
      "source": [
        "<a href=\"https://colab.research.google.com/github/yishairasowsky/Sefaria-Project/blob/master/ML/Data_Cleaning.ipynb\" target=\"_parent\"><img src=\"https://colab.research.google.com/assets/colab-badge.svg\" alt=\"Open In Colab\"/></a>"
      ]
    },
    {
      "cell_type": "code",
      "metadata": {
        "id": "vc3AD5b-xv7U",
        "colab_type": "code",
        "colab": {}
      },
      "source": [
        "import numpy as np \n",
        "import pandas as pd\n",
        "# import pkl"
      ],
      "execution_count": 0,
      "outputs": []
    },
    {
      "cell_type": "code",
      "metadata": {
        "id": "avtMtciLyLhy",
        "colab_type": "code",
        "colab": {
          "base_uri": "https://localhost:8080/",
          "height": 945
        },
        "outputId": "317d93a0-b4e4-45a4-fa38-b3c9693d6b9d"
      },
      "source": [
        "# Here I tried to pick an encoding type that would accomodate the Hebrew characters. No luck yet.\n",
        "encoding = \"latin-1\"\n",
        "# encoding = 'unicode_escape'\n",
        "# encoding = \"ISO-8859-1\"\n",
        "# encoding = \"ISO-8859-8\"\n",
        "# encoding = \"cp1255\"\n",
        "\n",
        "full_df = pd.read_csv(\n",
        "    '/content/drive/My Drive/Colab Datasets/topic_data.csv',\n",
        "    encoding=encoding,\n",
        "    # quoting=3,\n",
        "    error_bad_lines=False,\n",
        "    engine='python'\n",
        "    # )[:5000]\n",
        "    )"
      ],
      "execution_count": 16,
      "outputs": [
        {
          "output_type": "stream",
          "text": [
            "Skipping line 1099: field larger than field limit (131072)\n",
            "Skipping line 1155: ',' expected after '\"'\n",
            "Skipping line 22113: unexpected end of data\n",
            "Skipping line 1099: Expected 5 fields in line 1099, saw 12\n",
            "Skipping line 1100: Expected 5 fields in line 1100, saw 10\n",
            "Skipping line 1101: Expected 5 fields in line 1101, saw 9\n",
            "Skipping line 1102: Expected 5 fields in line 1102, saw 9\n",
            "Skipping line 1104: Expected 5 fields in line 1104, saw 13\n",
            "Skipping line 1106: Expected 5 fields in line 1106, saw 7\n",
            "Skipping line 1107: Expected 5 fields in line 1107, saw 9\n",
            "Skipping line 1108: Expected 5 fields in line 1108, saw 13\n",
            "Skipping line 1109: Expected 5 fields in line 1109, saw 19\n",
            "Skipping line 1110: Expected 5 fields in line 1110, saw 9\n",
            "Skipping line 1111: Expected 5 fields in line 1111, saw 13\n",
            "Skipping line 1112: Expected 5 fields in line 1112, saw 6\n",
            "Skipping line 1113: Expected 5 fields in line 1113, saw 7\n",
            "Skipping line 1114: Expected 5 fields in line 1114, saw 13\n",
            "Skipping line 1115: Expected 5 fields in line 1115, saw 8\n",
            "Skipping line 1116: Expected 5 fields in line 1116, saw 7\n",
            "Skipping line 1119: Expected 5 fields in line 1119, saw 11\n",
            "Skipping line 1120: Expected 5 fields in line 1120, saw 7\n",
            "Skipping line 1121: Expected 5 fields in line 1121, saw 17\n",
            "Skipping line 1122: Expected 5 fields in line 1122, saw 9\n",
            "Skipping line 1123: Expected 5 fields in line 1123, saw 12\n",
            "Skipping line 1124: Expected 5 fields in line 1124, saw 15\n",
            "Skipping line 1125: Expected 5 fields in line 1125, saw 10\n",
            "Skipping line 1126: Expected 5 fields in line 1126, saw 10\n",
            "Skipping line 1127: Expected 5 fields in line 1127, saw 13\n",
            "Skipping line 1128: Expected 5 fields in line 1128, saw 12\n",
            "Skipping line 1129: Expected 5 fields in line 1129, saw 14\n",
            "Skipping line 1130: Expected 5 fields in line 1130, saw 12\n",
            "Skipping line 1131: Expected 5 fields in line 1131, saw 8\n",
            "Skipping line 1132: Expected 5 fields in line 1132, saw 7\n",
            "Skipping line 1134: Expected 5 fields in line 1134, saw 7\n",
            "Skipping line 1135: Expected 5 fields in line 1135, saw 8\n",
            "Skipping line 1137: Expected 5 fields in line 1137, saw 14\n",
            "Skipping line 1138: Expected 5 fields in line 1138, saw 12\n",
            "Skipping line 1139: Expected 5 fields in line 1139, saw 7\n",
            "Skipping line 1140: Expected 5 fields in line 1140, saw 9\n",
            "Skipping line 1141: Expected 5 fields in line 1141, saw 16\n",
            "Skipping line 1142: Expected 5 fields in line 1142, saw 8\n",
            "Skipping line 1143: Expected 5 fields in line 1143, saw 10\n",
            "Skipping line 1144: Expected 5 fields in line 1144, saw 13\n",
            "Skipping line 1145: Expected 5 fields in line 1145, saw 10\n",
            "Skipping line 1147: Expected 5 fields in line 1147, saw 9\n",
            "Skipping line 1148: Expected 5 fields in line 1148, saw 15\n",
            "Skipping line 1149: Expected 5 fields in line 1149, saw 8\n",
            "Skipping line 1150: Expected 5 fields in line 1150, saw 11\n",
            "Skipping line 1151: Expected 5 fields in line 1151, saw 16\n",
            "Skipping line 1152: Expected 5 fields in line 1152, saw 10\n",
            "Skipping line 1153: Expected 5 fields in line 1153, saw 9\n"
          ],
          "name": "stderr"
        }
      ]
    },
    {
      "cell_type": "code",
      "metadata": {
        "id": "hB8_MOwDyllp",
        "colab_type": "code",
        "outputId": "e3b914e8-59ab-46bc-aac6-1d4cb7f20083",
        "colab": {
          "base_uri": "https://localhost:8080/",
          "height": 72
        }
      },
      "source": [
        "print(\"Original shape:\",full_df.shape)\n",
        "\n",
        "full_df.dropna(inplace=True)\n",
        "print(\"Without nulls\",full_df.shape)\n",
        "\n",
        "full_df.drop_duplicates(inplace=True)\n",
        "print(\"Without duplicates\",full_df.shape)\n"
      ],
      "execution_count": 17,
      "outputs": [
        {
          "output_type": "stream",
          "text": [
            "Original shape: (22061, 5)\n",
            "Without nulls (14535, 5)\n",
            "Without duplicates (14535, 5)\n"
          ],
          "name": "stdout"
        }
      ]
    },
    {
      "cell_type": "code",
      "metadata": {
        "id": "BE9Jitz04wfu",
        "colab_type": "code",
        "outputId": "e8133f46-4038-4ffc-8925-a88d0ec2b114",
        "colab": {
          "base_uri": "https://localhost:8080/",
          "height": 371
        }
      },
      "source": [
        "full_df.head()\n"
      ],
      "execution_count": 18,
      "outputs": [
        {
          "output_type": "execute_result",
          "data": {
            "text/html": [
              "<div>\n",
              "<style scoped>\n",
              "    .dataframe tbody tr th:only-of-type {\n",
              "        vertical-align: middle;\n",
              "    }\n",
              "\n",
              "    .dataframe tbody tr th {\n",
              "        vertical-align: top;\n",
              "    }\n",
              "\n",
              "    .dataframe thead th {\n",
              "        text-align: right;\n",
              "    }\n",
              "</style>\n",
              "<table border=\"1\" class=\"dataframe\">\n",
              "  <thead>\n",
              "    <tr style=\"text-align: right;\">\n",
              "      <th></th>\n",
              "      <th>Ref</th>\n",
              "      <th>En</th>\n",
              "      <th>He</th>\n",
              "      <th>Topics</th>\n",
              "      <th>Expanded Topics</th>\n",
              "    </tr>\n",
              "  </thead>\n",
              "  <tbody>\n",
              "    <tr>\n",
              "      <th>0</th>\n",
              "      <td>Bekhorot 28a:5</td>\n",
              "      <td>Â§ The mishna teaches: If &lt;b&gt;a blemish develop...</td>\n",
              "      <td>× ××× ×× ××× ××ª×× ×©× ×ª× ×¨×©××...</td>\n",
              "      <td>laws-of-animal-firstlings</td>\n",
              "      <td>laws-of-animal-firstlings laws-of-worship-of-g...</td>\n",
              "    </tr>\n",
              "    <tr>\n",
              "      <th>1</th>\n",
              "      <td>Sforno on Genesis 21:22:1</td>\n",
              "      <td>××××§×× ×¢××, seeing that Gâd clearly...</td>\n",
              "      <td>&lt;b&gt;××××× ×¢××&lt;/b&gt; ××¤××× ×× × ××...</td>\n",
              "      <td>abraham-and-abimelech</td>\n",
              "      <td>entity specific-biblical-person-relationship r...</td>\n",
              "    </tr>\n",
              "    <tr>\n",
              "      <th>3</th>\n",
              "      <td>Gittin 78a:1</td>\n",
              "      <td>&lt;b&gt;a modifier,&lt;/b&gt; meaning that this board is ...</td>\n",
              "      <td>×©× ×××× ××× ×××ª ××× ×©× ×××...</td>\n",
              "      <td>dinei-haget</td>\n",
              "      <td>entity halakhah continuant laws mitzvot generi...</td>\n",
              "    </tr>\n",
              "    <tr>\n",
              "      <th>5</th>\n",
              "      <td>Sanhedrin 2a:5</td>\n",
              "      <td>The &lt;b&gt;intercalation of the month&lt;/b&gt; is perfo...</td>\n",
              "      <td>×¢××××¨ ××××© ××©××©× ×¢××××¨ ××©...</td>\n",
              "      <td>laws-of-judges-and-courts judgements1 laws-of-...</td>\n",
              "      <td>beit-din group-of-people independent-continuan...</td>\n",
              "    </tr>\n",
              "    <tr>\n",
              "      <th>6</th>\n",
              "      <td>Pesachim 78a:15</td>\n",
              "      <td>&lt;b&gt;The statement of Rabbi Eliezer&lt;/b&gt; is corre...</td>\n",
              "      <td>×××¨× ×¨×× ××××¢××¨ ×××××× ×©×...</td>\n",
              "      <td>torah-study-and-a-livelihood life</td>\n",
              "      <td>lifecycle-events entity philosophy religion to...</td>\n",
              "    </tr>\n",
              "  </tbody>\n",
              "</table>\n",
              "</div>"
            ],
            "text/plain": [
              "                         Ref  ...                                    Expanded Topics\n",
              "0             Bekhorot 28a:5  ...  laws-of-animal-firstlings laws-of-worship-of-g...\n",
              "1  Sforno on Genesis 21:22:1  ...  entity specific-biblical-person-relationship r...\n",
              "3               Gittin 78a:1  ...  entity halakhah continuant laws mitzvot generi...\n",
              "5             Sanhedrin 2a:5  ...  beit-din group-of-people independent-continuan...\n",
              "6            Pesachim 78a:15  ...  lifecycle-events entity philosophy religion to...\n",
              "\n",
              "[5 rows x 5 columns]"
            ]
          },
          "metadata": {
            "tags": []
          },
          "execution_count": 18
        }
      ]
    },
    {
      "cell_type": "code",
      "metadata": {
        "id": "hM2BDn1l0mC1",
        "colab_type": "code",
        "colab": {}
      },
      "source": [
        "from bs4 import BeautifulSoup\n",
        "import re\n",
        "import nltk\n",
        "import string\n",
        "nltk.download('stopwords')\n",
        "from nltk.corpus import stopwords\n",
        "\n",
        "STOPWORDS = set(stopwords.words('english'))\n",
        "\n",
        "def preprocess_text(sentence):\n",
        "\n",
        "    # HTML decoding\n",
        "    sentence = BeautifulSoup(sentence, \"lxml\").text \n",
        "    \n",
        "    # lowercase text\n",
        "    sentence = sentence.lower() \n",
        "\n",
        "    # Remove punctuations and numbers\n",
        "    sentence = re.sub('[^a-zA-Z]', ' ', sentence)\n",
        "\n",
        "    # Single character removal\n",
        "    sentence = re.sub(r\"\\s+[a-zA-Z]\\s+\", ' ', sentence)\n",
        "\n",
        "    # Removing multiple spaces\n",
        "    sentence = re.sub(r'\\s+', ' ', sentence)\n",
        "\n",
        "    # Removing stopwords\n",
        "    sentence = ' '.join(word for word in sentence.split() if word not in STOPWORDS) # delete stopwors from text\n",
        "\n",
        "    return sentence\n",
        "\n",
        "clean_df = full_df[['En','Topics']]\n",
        "clean_df.En = clean_df.En.apply(preprocess_text)\n",
        "clean_df.head()"
      ],
      "execution_count": 0,
      "outputs": []
    },
    {
      "cell_type": "code",
      "metadata": {
        "id": "qPO8U1e53irn",
        "colab_type": "code",
        "colab": {}
      },
      "source": [
        "clean_df.to_pickle(\"/content/drive/My Drive/Colab Datasets/clean_df.pkl\")"
      ],
      "execution_count": 0,
      "outputs": []
    },
    {
      "cell_type": "code",
      "metadata": {
        "id": "lUl9R9ez2xe6",
        "colab_type": "code",
        "colab": {}
      },
      "source": [
        "from nltk.stem.snowball import SnowballStemmer\n",
        "\n",
        "stemmer = SnowballStemmer(\"english\")\n",
        "\n",
        "def stemming(sentence):\n",
        "    stemSentence = \"\"\n",
        "    for word in sentence.split():\n",
        "        stem = stemmer.stem(word)\n",
        "        stemSentence += stem\n",
        "        stemSentence += \" \"\n",
        "    stemSentence = stemSentence.strip()\n",
        "    return stemSentence\n",
        "\n",
        "stem_df = clean_df\n",
        "stem_df.En = stem_df.En.apply(stemming)\n",
        "stem_df.head()"
      ],
      "execution_count": 0,
      "outputs": []
    },
    {
      "cell_type": "code",
      "metadata": {
        "id": "vtEUrLkN318V",
        "colab_type": "code",
        "colab": {}
      },
      "source": [
        "stem_df.to_pickle(\"/content/drive/My Drive/Colab Datasets/stem_df.pkl\")"
      ],
      "execution_count": 0,
      "outputs": []
    },
    {
      "cell_type": "code",
      "metadata": {
        "id": "IcDVggVJyqVR",
        "colab_type": "code",
        "colab": {}
      },
      "source": [
        "eng_df = stem_df[['En','Topics']]\n",
        "topics_df = eng_df.join(eng_df.pop('Topics').str.get_dummies(' '))\n",
        "topics_df.head()"
      ],
      "execution_count": 0,
      "outputs": []
    },
    {
      "cell_type": "code",
      "metadata": {
        "id": "FNEU5Lu60L9E",
        "colab_type": "code",
        "colab": {}
      },
      "source": [
        "topics_df.to_pickle(\"/content/drive/My Drive/Colab Datasets/topics_df.pkl\")"
      ],
      "execution_count": 0,
      "outputs": []
    },
    {
      "cell_type": "code",
      "metadata": {
        "id": "bv7zUfst3_yi",
        "colab_type": "code",
        "colab": {}
      },
      "source": [
        ""
      ],
      "execution_count": 0,
      "outputs": []
    }
  ]
}