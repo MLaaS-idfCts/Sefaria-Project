{
 "cells": [
  {
   "cell_type": "code",
   "execution_count": 321,
   "metadata": {},
   "outputs": [],
   "source": [
    "should_stem = False\n",
    "should_remove_stopwords = False"
   ]
  },
  {
   "cell_type": "code",
   "execution_count": 322,
   "metadata": {},
   "outputs": [],
   "source": [
    "import sys\n",
    "# sys.path.insert(1, '/persistent/Sefaria-Project/ML/scripts/classes.py')\n",
    "sys.path.insert(1, '/persistent/Sefaria-Project/ML/scripts/')"
   ]
  },
  {
   "cell_type": "code",
   "execution_count": 323,
   "metadata": {},
   "outputs": [],
   "source": [
    "import numpy as np\n",
    "import pandas as pd"
   ]
  },
  {
   "cell_type": "code",
   "execution_count": 324,
   "metadata": {},
   "outputs": [
    {
     "data": {
      "text/plain": [
       "['prayer',\n",
       " 'procedures-for-judges-and-conduct-towards-them',\n",
       " 'learning',\n",
       " 'kings',\n",
       " 'hilchot-chol-hamoed',\n",
       " 'laws-of-judges-and-courts',\n",
       " 'laws-of-animal-sacrifices',\n",
       " 'financial-ramifications-of-marriage',\n",
       " 'idolatry',\n",
       " 'laws-of-transferring-between-domains']"
      ]
     },
     "execution_count": 324,
     "metadata": {},
     "output_type": "execute_result"
    }
   ],
   "source": [
    "from tqdm import tqdm\n",
    "from datetime import datetime\n",
    "from sklearn.metrics import accuracy_score\n",
    "# from classes import DataManager, PipelineFactory, my_example_topics\n",
    "my_example_topics = ['prayer', 'procedures-for-judges-and-conduct-towards-them', 'learning', 'kings', 'hilchot-chol-hamoed', 'laws-of-judges-and-courts', 'laws-of-animal-sacrifices', 'financial-ramifications-of-marriage', 'idolatry', 'laws-of-transferring-between-domains']\n",
    "\n",
    "my_example_topics"
   ]
  },
  {
   "cell_type": "code",
   "execution_count": 328,
   "metadata": {},
   "outputs": [],
   "source": [
    "start_time = datetime.now()\n",
    "import csv\n",
    "NUM_TOPICS = 40\n",
    "NUM_DATA_POINTS = 5000\n",
    "pd.options.display.max_colwidth = 100"
   ]
  },
  {
   "cell_type": "code",
   "execution_count": 329,
   "metadata": {},
   "outputs": [
    {
     "data": {
      "text/html": [
       "<div>\n",
       "<style scoped>\n",
       "    .dataframe tbody tr th:only-of-type {\n",
       "        vertical-align: middle;\n",
       "    }\n",
       "\n",
       "    .dataframe tbody tr th {\n",
       "        vertical-align: top;\n",
       "    }\n",
       "\n",
       "    .dataframe thead th {\n",
       "        text-align: right;\n",
       "    }\n",
       "</style>\n",
       "<table border=\"1\" class=\"dataframe\">\n",
       "  <thead>\n",
       "    <tr style=\"text-align: right;\">\n",
       "      <th></th>\n",
       "      <th>Ref</th>\n",
       "      <th>En</th>\n",
       "      <th>He</th>\n",
       "      <th>Topics</th>\n",
       "      <th>Expanded Topics</th>\n",
       "    </tr>\n",
       "  </thead>\n",
       "  <tbody>\n",
       "    <tr>\n",
       "      <th>0</th>\n",
       "      <td>Avodah Zarah 52b:13</td>\n",
       "      <td>The Gemara answers: The two cases are not comparable. &lt;b&gt;There,&lt;/b&gt; the coins of Jerusalem &lt;b&gt;ha...</td>\n",
       "      <td>התם לא אשתמשו בהו לגבוה הכא כיון דאשתמש בהו לגבוה לאו אורח ארעא לאשתמושי בהו הדיוטא:</td>\n",
       "      <td>derekh-eretz laws-of-building-the-temple-and-its-furnishings</td>\n",
       "      <td>continuant laws laws-of-building-the-temple-and-its-furnishings halachic-process acts laws-of-th...</td>\n",
       "    </tr>\n",
       "    <tr>\n",
       "      <th>1</th>\n",
       "      <td>Tractate Kallah Rabbati 1:23</td>\n",
       "      <td>If one has intercourse by the light of a lamp he will have epileptic children.&lt;br&gt;&lt;small&gt;GEMARA&lt;...</td>\n",
       "      <td>(&lt;big&gt;&lt;strong&gt;ברייתא&lt;/strong&gt;&lt;/big&gt;) המשמש מטתו לאור הנר הוויין לו בנים נכפים: &lt;big&gt;&lt;strong&gt;[גמ׳...</td>\n",
       "      <td>sexual-intercourse</td>\n",
       "      <td>acts occurent entity sexual-intercourse</td>\n",
       "    </tr>\n",
       "    <tr>\n",
       "      <th>2</th>\n",
       "      <td>Temurah 7b:12</td>\n",
       "      <td>&lt;strong&gt;MISHNA:&lt;/strong&gt; &lt;b&gt;The priests substitute for their&lt;/b&gt; own offerings &lt;b&gt;and Israelites...</td>\n",
       "      <td>&lt;big&gt;&lt;strong&gt;מתני׳&lt;/strong&gt;&lt;/big&gt; הכהנים ממירין בשלהן וישראל ממירין בשלהן אין הכהנים ממירין לא ב...</td>\n",
       "      <td>substitutions-of-sacrifices laws-of-substitution-of-offerings</td>\n",
       "      <td>continuant substitutions-of-sacrifices laws halachic-process acts laws-of-substitution-of-offeri...</td>\n",
       "    </tr>\n",
       "    <tr>\n",
       "      <th>3</th>\n",
       "      <td>Mishneh Torah, Levirate Marriage and Release 1:20</td>\n",
       "      <td>NaN</td>\n",
       "      <td>הַחוֹלֵץ לִיבִמְתּוֹ וְנִמְצֵאת מְעֻבֶּרֶת וְיָלְדָה. אִם הָיָה וָלָד שֶׁל קַיָּמָא הֲרֵי זוֹ כּ...</td>\n",
       "      <td>dinei-yibum</td>\n",
       "      <td>continuant laws entity dinei-yibum halakhah generically-dependent-continuant mitzvot family-law</td>\n",
       "    </tr>\n",
       "    <tr>\n",
       "      <th>4</th>\n",
       "      <td>Rosh Hashanah 25a:8</td>\n",
       "      <td>&lt;b&gt;Rabbi Yoḥanan said: What is the reason&lt;/b&gt; for the opinion &lt;b&gt;of the house of Rabbi&lt;/b&gt; Yehud...</td>\n",
       "      <td>א\"ר יוחנן מ\"ט דבי רבי דכתיב (תהלים קד, יט) עשה ירח למועדים שמש ידע מבואו שמש הוא דידע מבואו ירח ...</td>\n",
       "      <td>months calculations-to-verify-the-sighting-of-the-new-moon-in-its-time</td>\n",
       "      <td>material-entity group-of-inanimate-objects entity independent-continuant months luminaries one-d...</td>\n",
       "    </tr>\n",
       "  </tbody>\n",
       "</table>\n",
       "</div>"
      ],
      "text/plain": [
       "                                                 Ref  \\\n",
       "0                                Avodah Zarah 52b:13   \n",
       "1                       Tractate Kallah Rabbati 1:23   \n",
       "2                                      Temurah 7b:12   \n",
       "3  Mishneh Torah, Levirate Marriage and Release 1:20   \n",
       "4                                Rosh Hashanah 25a:8   \n",
       "\n",
       "                                                                                                    En  \\\n",
       "0  The Gemara answers: The two cases are not comparable. <b>There,</b> the coins of Jerusalem <b>ha...   \n",
       "1  If one has intercourse by the light of a lamp he will have epileptic children.<br><small>GEMARA<...   \n",
       "2  <strong>MISHNA:</strong> <b>The priests substitute for their</b> own offerings <b>and Israelites...   \n",
       "3                                                                                                  NaN   \n",
       "4  <b>Rabbi Yoḥanan said: What is the reason</b> for the opinion <b>of the house of Rabbi</b> Yehud...   \n",
       "\n",
       "                                                                                                    He  \\\n",
       "0                 התם לא אשתמשו בהו לגבוה הכא כיון דאשתמש בהו לגבוה לאו אורח ארעא לאשתמושי בהו הדיוטא:   \n",
       "1  (<big><strong>ברייתא</strong></big>) המשמש מטתו לאור הנר הוויין לו בנים נכפים: <big><strong>[גמ׳...   \n",
       "2  <big><strong>מתני׳</strong></big> הכהנים ממירין בשלהן וישראל ממירין בשלהן אין הכהנים ממירין לא ב...   \n",
       "3  הַחוֹלֵץ לִיבִמְתּוֹ וְנִמְצֵאת מְעֻבֶּרֶת וְיָלְדָה. אִם הָיָה וָלָד שֶׁל קַיָּמָא הֲרֵי זוֹ כּ...   \n",
       "4  א\"ר יוחנן מ\"ט דבי רבי דכתיב (תהלים קד, יט) עשה ירח למועדים שמש ידע מבואו שמש הוא דידע מבואו ירח ...   \n",
       "\n",
       "                                                                   Topics  \\\n",
       "0            derekh-eretz laws-of-building-the-temple-and-its-furnishings   \n",
       "1                                                      sexual-intercourse   \n",
       "2           substitutions-of-sacrifices laws-of-substitution-of-offerings   \n",
       "3                                                             dinei-yibum   \n",
       "4  months calculations-to-verify-the-sighting-of-the-new-moon-in-its-time   \n",
       "\n",
       "                                                                                       Expanded Topics  \n",
       "0  continuant laws laws-of-building-the-temple-and-its-furnishings halachic-process acts laws-of-th...  \n",
       "1                                                              acts occurent entity sexual-intercourse  \n",
       "2  continuant substitutions-of-sacrifices laws halachic-process acts laws-of-substitution-of-offeri...  \n",
       "3      continuant laws entity dinei-yibum halakhah generically-dependent-continuant mitzvot family-law  \n",
       "4  material-entity group-of-inanimate-objects entity independent-continuant months luminaries one-d...  "
      ]
     },
     "execution_count": 329,
     "metadata": {},
     "output_type": "execute_result"
    }
   ],
   "source": [
    "df = pd.read_csv('/persistent/Sefaria-Project/ML/data/yishai_data.csv',quoting=2, error_bad_lines=False)[:NUM_DATA_POINTS]\n",
    "df.head()"
   ]
  },
  {
   "cell_type": "code",
   "execution_count": 330,
   "metadata": {
    "scrolled": false
   },
   "outputs": [
    {
     "name": "stdout",
     "output_type": "stream",
     "text": [
      "<class 'pandas.core.frame.DataFrame'>\n",
      "RangeIndex: 5000 entries, 0 to 4999\n",
      "Data columns (total 5 columns):\n",
      " #   Column           Non-Null Count  Dtype \n",
      "---  ------           --------------  ----- \n",
      " 0   Ref              5000 non-null   object\n",
      " 1   En               3330 non-null   object\n",
      " 2   He               4986 non-null   object\n",
      " 3   Topics           5000 non-null   object\n",
      " 4   Expanded Topics  5000 non-null   object\n",
      "dtypes: object(5)\n",
      "memory usage: 195.4+ KB\n"
     ]
    }
   ],
   "source": [
    "df.info()"
   ]
  },
  {
   "cell_type": "code",
   "execution_count": 331,
   "metadata": {},
   "outputs": [],
   "source": [
    "df = df.dropna()"
   ]
  },
  {
   "cell_type": "code",
   "execution_count": 332,
   "metadata": {},
   "outputs": [
    {
     "name": "stdout",
     "output_type": "stream",
     "text": [
      "<class 'pandas.core.frame.DataFrame'>\n",
      "Int64Index: 3329 entries, 0 to 4999\n",
      "Data columns (total 5 columns):\n",
      " #   Column           Non-Null Count  Dtype \n",
      "---  ------           --------------  ----- \n",
      " 0   Ref              3329 non-null   object\n",
      " 1   En               3329 non-null   object\n",
      " 2   He               3329 non-null   object\n",
      " 3   Topics           3329 non-null   object\n",
      " 4   Expanded Topics  3329 non-null   object\n",
      "dtypes: object(5)\n",
      "memory usage: 156.0+ KB\n"
     ]
    }
   ],
   "source": [
    "df.info()"
   ]
  },
  {
   "cell_type": "code",
   "execution_count": 333,
   "metadata": {},
   "outputs": [
    {
     "data": {
      "text/html": [
       "<div>\n",
       "<style scoped>\n",
       "    .dataframe tbody tr th:only-of-type {\n",
       "        vertical-align: middle;\n",
       "    }\n",
       "\n",
       "    .dataframe tbody tr th {\n",
       "        vertical-align: top;\n",
       "    }\n",
       "\n",
       "    .dataframe thead th {\n",
       "        text-align: right;\n",
       "    }\n",
       "</style>\n",
       "<table border=\"1\" class=\"dataframe\">\n",
       "  <thead>\n",
       "    <tr style=\"text-align: right;\">\n",
       "      <th></th>\n",
       "      <th>Ref</th>\n",
       "      <th>En</th>\n",
       "      <th>Topics</th>\n",
       "    </tr>\n",
       "  </thead>\n",
       "  <tbody>\n",
       "    <tr>\n",
       "      <th>0</th>\n",
       "      <td>Avodah Zarah 52b:13</td>\n",
       "      <td>The Gemara answers: The two cases are not comparable. &lt;b&gt;There,&lt;/b&gt; the coins of Jerusalem &lt;b&gt;ha...</td>\n",
       "      <td>derekh-eretz laws-of-building-the-temple-and-its-furnishings</td>\n",
       "    </tr>\n",
       "    <tr>\n",
       "      <th>1</th>\n",
       "      <td>Tractate Kallah Rabbati 1:23</td>\n",
       "      <td>If one has intercourse by the light of a lamp he will have epileptic children.&lt;br&gt;&lt;small&gt;GEMARA&lt;...</td>\n",
       "      <td>sexual-intercourse</td>\n",
       "    </tr>\n",
       "    <tr>\n",
       "      <th>2</th>\n",
       "      <td>Temurah 7b:12</td>\n",
       "      <td>&lt;strong&gt;MISHNA:&lt;/strong&gt; &lt;b&gt;The priests substitute for their&lt;/b&gt; own offerings &lt;b&gt;and Israelites...</td>\n",
       "      <td>substitutions-of-sacrifices laws-of-substitution-of-offerings</td>\n",
       "    </tr>\n",
       "    <tr>\n",
       "      <th>4</th>\n",
       "      <td>Rosh Hashanah 25a:8</td>\n",
       "      <td>&lt;b&gt;Rabbi Yoḥanan said: What is the reason&lt;/b&gt; for the opinion &lt;b&gt;of the house of Rabbi&lt;/b&gt; Yehud...</td>\n",
       "      <td>months calculations-to-verify-the-sighting-of-the-new-moon-in-its-time</td>\n",
       "    </tr>\n",
       "    <tr>\n",
       "      <th>7</th>\n",
       "      <td>Ketubot 12b:6</td>\n",
       "      <td>&lt;strong&gt;GEMARA:&lt;/strong&gt; &lt;b&gt;It was stated:&lt;/b&gt; With regard to one who approaches another and say...</td>\n",
       "      <td>laws-of-litigant-oaths safek</td>\n",
       "    </tr>\n",
       "  </tbody>\n",
       "</table>\n",
       "</div>"
      ],
      "text/plain": [
       "                            Ref  \\\n",
       "0           Avodah Zarah 52b:13   \n",
       "1  Tractate Kallah Rabbati 1:23   \n",
       "2                 Temurah 7b:12   \n",
       "4           Rosh Hashanah 25a:8   \n",
       "7                 Ketubot 12b:6   \n",
       "\n",
       "                                                                                                    En  \\\n",
       "0  The Gemara answers: The two cases are not comparable. <b>There,</b> the coins of Jerusalem <b>ha...   \n",
       "1  If one has intercourse by the light of a lamp he will have epileptic children.<br><small>GEMARA<...   \n",
       "2  <strong>MISHNA:</strong> <b>The priests substitute for their</b> own offerings <b>and Israelites...   \n",
       "4  <b>Rabbi Yoḥanan said: What is the reason</b> for the opinion <b>of the house of Rabbi</b> Yehud...   \n",
       "7  <strong>GEMARA:</strong> <b>It was stated:</b> With regard to one who approaches another and say...   \n",
       "\n",
       "                                                                   Topics  \n",
       "0            derekh-eretz laws-of-building-the-temple-and-its-furnishings  \n",
       "1                                                      sexual-intercourse  \n",
       "2           substitutions-of-sacrifices laws-of-substitution-of-offerings  \n",
       "4  months calculations-to-verify-the-sighting-of-the-new-moon-in-its-time  \n",
       "7                                            laws-of-litigant-oaths safek  "
      ]
     },
     "execution_count": 333,
     "metadata": {},
     "output_type": "execute_result"
    }
   ],
   "source": [
    "df = df[['Ref','En','Topics']]\n",
    "df.head()"
   ]
  },
  {
   "cell_type": "code",
   "execution_count": 334,
   "metadata": {},
   "outputs": [],
   "source": [
    "df = df.rename(columns={'Ref': 'id', 'En': 'comment_text'})"
   ]
  },
  {
   "cell_type": "code",
   "execution_count": 335,
   "metadata": {},
   "outputs": [
    {
     "data": {
      "text/html": [
       "<div>\n",
       "<style scoped>\n",
       "    .dataframe tbody tr th:only-of-type {\n",
       "        vertical-align: middle;\n",
       "    }\n",
       "\n",
       "    .dataframe tbody tr th {\n",
       "        vertical-align: top;\n",
       "    }\n",
       "\n",
       "    .dataframe thead th {\n",
       "        text-align: right;\n",
       "    }\n",
       "</style>\n",
       "<table border=\"1\" class=\"dataframe\">\n",
       "  <thead>\n",
       "    <tr style=\"text-align: right;\">\n",
       "      <th></th>\n",
       "      <th>id</th>\n",
       "      <th>comment_text</th>\n",
       "      <th>400</th>\n",
       "      <th>a-day-or-two</th>\n",
       "      <th>a-strong-arm</th>\n",
       "      <th>aaron</th>\n",
       "      <th>aaron-and-his-sons</th>\n",
       "      <th>abaye</th>\n",
       "      <th>abba-halafta</th>\n",
       "      <th>abel</th>\n",
       "      <th>...</th>\n",
       "      <th>you-shall-not-cut-yourself</th>\n",
       "      <th>young-torah-scholars</th>\n",
       "      <th>young-women</th>\n",
       "      <th>zeal</th>\n",
       "      <th>zechariah</th>\n",
       "      <th>zedekiah</th>\n",
       "      <th>zedekiah-the-son-of-chenaanah</th>\n",
       "      <th>zevulun</th>\n",
       "      <th>zimri</th>\n",
       "      <th>zion</th>\n",
       "    </tr>\n",
       "  </thead>\n",
       "  <tbody>\n",
       "    <tr>\n",
       "      <th>0</th>\n",
       "      <td>Avodah Zarah 52b:13</td>\n",
       "      <td>The Gemara answers: The two cases are not comparable. &lt;b&gt;There,&lt;/b&gt; the coins of Jerusalem &lt;b&gt;ha...</td>\n",
       "      <td>0</td>\n",
       "      <td>0</td>\n",
       "      <td>0</td>\n",
       "      <td>0</td>\n",
       "      <td>0</td>\n",
       "      <td>0</td>\n",
       "      <td>0</td>\n",
       "      <td>0</td>\n",
       "      <td>...</td>\n",
       "      <td>0</td>\n",
       "      <td>0</td>\n",
       "      <td>0</td>\n",
       "      <td>0</td>\n",
       "      <td>0</td>\n",
       "      <td>0</td>\n",
       "      <td>0</td>\n",
       "      <td>0</td>\n",
       "      <td>0</td>\n",
       "      <td>0</td>\n",
       "    </tr>\n",
       "    <tr>\n",
       "      <th>1</th>\n",
       "      <td>Tractate Kallah Rabbati 1:23</td>\n",
       "      <td>If one has intercourse by the light of a lamp he will have epileptic children.&lt;br&gt;&lt;small&gt;GEMARA&lt;...</td>\n",
       "      <td>0</td>\n",
       "      <td>0</td>\n",
       "      <td>0</td>\n",
       "      <td>0</td>\n",
       "      <td>0</td>\n",
       "      <td>0</td>\n",
       "      <td>0</td>\n",
       "      <td>0</td>\n",
       "      <td>...</td>\n",
       "      <td>0</td>\n",
       "      <td>0</td>\n",
       "      <td>0</td>\n",
       "      <td>0</td>\n",
       "      <td>0</td>\n",
       "      <td>0</td>\n",
       "      <td>0</td>\n",
       "      <td>0</td>\n",
       "      <td>0</td>\n",
       "      <td>0</td>\n",
       "    </tr>\n",
       "    <tr>\n",
       "      <th>2</th>\n",
       "      <td>Temurah 7b:12</td>\n",
       "      <td>&lt;strong&gt;MISHNA:&lt;/strong&gt; &lt;b&gt;The priests substitute for their&lt;/b&gt; own offerings &lt;b&gt;and Israelites...</td>\n",
       "      <td>0</td>\n",
       "      <td>0</td>\n",
       "      <td>0</td>\n",
       "      <td>0</td>\n",
       "      <td>0</td>\n",
       "      <td>0</td>\n",
       "      <td>0</td>\n",
       "      <td>0</td>\n",
       "      <td>...</td>\n",
       "      <td>0</td>\n",
       "      <td>0</td>\n",
       "      <td>0</td>\n",
       "      <td>0</td>\n",
       "      <td>0</td>\n",
       "      <td>0</td>\n",
       "      <td>0</td>\n",
       "      <td>0</td>\n",
       "      <td>0</td>\n",
       "      <td>0</td>\n",
       "    </tr>\n",
       "    <tr>\n",
       "      <th>4</th>\n",
       "      <td>Rosh Hashanah 25a:8</td>\n",
       "      <td>&lt;b&gt;Rabbi Yoḥanan said: What is the reason&lt;/b&gt; for the opinion &lt;b&gt;of the house of Rabbi&lt;/b&gt; Yehud...</td>\n",
       "      <td>0</td>\n",
       "      <td>0</td>\n",
       "      <td>0</td>\n",
       "      <td>0</td>\n",
       "      <td>0</td>\n",
       "      <td>0</td>\n",
       "      <td>0</td>\n",
       "      <td>0</td>\n",
       "      <td>...</td>\n",
       "      <td>0</td>\n",
       "      <td>0</td>\n",
       "      <td>0</td>\n",
       "      <td>0</td>\n",
       "      <td>0</td>\n",
       "      <td>0</td>\n",
       "      <td>0</td>\n",
       "      <td>0</td>\n",
       "      <td>0</td>\n",
       "      <td>0</td>\n",
       "    </tr>\n",
       "    <tr>\n",
       "      <th>7</th>\n",
       "      <td>Ketubot 12b:6</td>\n",
       "      <td>&lt;strong&gt;GEMARA:&lt;/strong&gt; &lt;b&gt;It was stated:&lt;/b&gt; With regard to one who approaches another and say...</td>\n",
       "      <td>0</td>\n",
       "      <td>0</td>\n",
       "      <td>0</td>\n",
       "      <td>0</td>\n",
       "      <td>0</td>\n",
       "      <td>0</td>\n",
       "      <td>0</td>\n",
       "      <td>0</td>\n",
       "      <td>...</td>\n",
       "      <td>0</td>\n",
       "      <td>0</td>\n",
       "      <td>0</td>\n",
       "      <td>0</td>\n",
       "      <td>0</td>\n",
       "      <td>0</td>\n",
       "      <td>0</td>\n",
       "      <td>0</td>\n",
       "      <td>0</td>\n",
       "      <td>0</td>\n",
       "    </tr>\n",
       "  </tbody>\n",
       "</table>\n",
       "<p>5 rows × 1694 columns</p>\n",
       "</div>"
      ],
      "text/plain": [
       "                             id  \\\n",
       "0           Avodah Zarah 52b:13   \n",
       "1  Tractate Kallah Rabbati 1:23   \n",
       "2                 Temurah 7b:12   \n",
       "4           Rosh Hashanah 25a:8   \n",
       "7                 Ketubot 12b:6   \n",
       "\n",
       "                                                                                          comment_text  \\\n",
       "0  The Gemara answers: The two cases are not comparable. <b>There,</b> the coins of Jerusalem <b>ha...   \n",
       "1  If one has intercourse by the light of a lamp he will have epileptic children.<br><small>GEMARA<...   \n",
       "2  <strong>MISHNA:</strong> <b>The priests substitute for their</b> own offerings <b>and Israelites...   \n",
       "4  <b>Rabbi Yoḥanan said: What is the reason</b> for the opinion <b>of the house of Rabbi</b> Yehud...   \n",
       "7  <strong>GEMARA:</strong> <b>It was stated:</b> With regard to one who approaches another and say...   \n",
       "\n",
       "   400  a-day-or-two  a-strong-arm  aaron  aaron-and-his-sons  abaye  \\\n",
       "0    0             0             0      0                   0      0   \n",
       "1    0             0             0      0                   0      0   \n",
       "2    0             0             0      0                   0      0   \n",
       "4    0             0             0      0                   0      0   \n",
       "7    0             0             0      0                   0      0   \n",
       "\n",
       "   abba-halafta  abel  ...  you-shall-not-cut-yourself  young-torah-scholars  \\\n",
       "0             0     0  ...                           0                     0   \n",
       "1             0     0  ...                           0                     0   \n",
       "2             0     0  ...                           0                     0   \n",
       "4             0     0  ...                           0                     0   \n",
       "7             0     0  ...                           0                     0   \n",
       "\n",
       "   young-women  zeal  zechariah  zedekiah  zedekiah-the-son-of-chenaanah  \\\n",
       "0            0     0          0         0                              0   \n",
       "1            0     0          0         0                              0   \n",
       "2            0     0          0         0                              0   \n",
       "4            0     0          0         0                              0   \n",
       "7            0     0          0         0                              0   \n",
       "\n",
       "   zevulun  zimri  zion  \n",
       "0        0      0     0  \n",
       "1        0      0     0  \n",
       "2        0      0     0  \n",
       "4        0      0     0  \n",
       "7        0      0     0  \n",
       "\n",
       "[5 rows x 1694 columns]"
      ]
     },
     "execution_count": 335,
     "metadata": {},
     "output_type": "execute_result"
    }
   ],
   "source": [
    "df = pd.concat([df, df.pop('Topics').str.get_dummies(sep=' ')], axis=1)\n",
    "df.head()"
   ]
  },
  {
   "cell_type": "code",
   "execution_count": 336,
   "metadata": {},
   "outputs": [
    {
     "name": "stdout",
     "output_type": "stream",
     "text": [
      "id                               0\n",
      "comment_text                     0\n",
      "400                              0\n",
      "a-day-or-two                     0\n",
      "a-strong-arm                     0\n",
      "                                ..\n",
      "zedekiah                         0\n",
      "zedekiah-the-son-of-chenaanah    0\n",
      "zevulun                          0\n",
      "zimri                            0\n",
      "zion                             0\n",
      "Length: 1694, dtype: int64\n"
     ]
    }
   ],
   "source": [
    "data_raw = df\n",
    "missing_values_check = data_raw.isnull().sum()\n",
    "print(missing_values_check)"
   ]
  },
  {
   "cell_type": "code",
   "execution_count": 337,
   "metadata": {},
   "outputs": [
    {
     "name": "stdout",
     "output_type": "stream",
     "text": [
      "Total number of comments =  3329\n",
      "Number of clean comments =  0\n",
      "Number of comments with labels = 3329\n"
     ]
    }
   ],
   "source": [
    "# Comments with no label are considered to be clean comments.\n",
    "# Creating seperate column in dataframe to identify clean comments.\n",
    "\n",
    "# We use axis=1 to count row-wise and axis=0 to count column wise\n",
    "\n",
    "rowSums = data_raw.iloc[:,2:].sum(axis=1)\n",
    "clean_comments_count = (rowSums==0).sum(axis=0)\n",
    "\n",
    "print(\"Total number of comments = \",len(data_raw))\n",
    "print(\"Number of clean comments = \",clean_comments_count)\n",
    "print(\"Number of comments with labels =\",(len(data_raw)-clean_comments_count))"
   ]
  },
  {
   "cell_type": "code",
   "execution_count": 338,
   "metadata": {},
   "outputs": [
    {
     "data": {
      "text/plain": [
       "['id',\n",
       " 'comment_text',\n",
       " 'prayer',\n",
       " 'procedures-for-judges-and-conduct-towards-them',\n",
       " 'learning',\n",
       " 'kings',\n",
       " 'hilchot-chol-hamoed',\n",
       " 'laws-of-judges-and-courts',\n",
       " 'laws-of-animal-sacrifices',\n",
       " 'financial-ramifications-of-marriage',\n",
       " 'idolatry',\n",
       " 'laws-of-transferring-between-domains']"
      ]
     },
     "execution_count": 338,
     "metadata": {},
     "output_type": "execute_result"
    }
   ],
   "source": [
    "columns_wanted = ['id','comment_text'] + my_example_topics\n",
    "columns_wanted"
   ]
  },
  {
   "cell_type": "code",
   "execution_count": 339,
   "metadata": {},
   "outputs": [
    {
     "data": {
      "text/plain": [
       "(3329, 12)"
      ]
     },
     "execution_count": 339,
     "metadata": {},
     "output_type": "execute_result"
    }
   ],
   "source": [
    "data_raw = data_raw[columns_wanted]\n",
    "data_raw.shape"
   ]
  },
  {
   "cell_type": "code",
   "execution_count": null,
   "metadata": {},
   "outputs": [],
   "source": []
  },
  {
   "cell_type": "code",
   "execution_count": 340,
   "metadata": {},
   "outputs": [],
   "source": [
    "df_all_rows = data_raw"
   ]
  },
  {
   "cell_type": "code",
   "execution_count": 341,
   "metadata": {},
   "outputs": [
    {
     "data": {
      "text/html": [
       "<div>\n",
       "<style scoped>\n",
       "    .dataframe tbody tr th:only-of-type {\n",
       "        vertical-align: middle;\n",
       "    }\n",
       "\n",
       "    .dataframe tbody tr th {\n",
       "        vertical-align: top;\n",
       "    }\n",
       "\n",
       "    .dataframe thead th {\n",
       "        text-align: right;\n",
       "    }\n",
       "</style>\n",
       "<table border=\"1\" class=\"dataframe\">\n",
       "  <thead>\n",
       "    <tr style=\"text-align: right;\">\n",
       "      <th></th>\n",
       "      <th>prayer</th>\n",
       "      <th>procedures-for-judges-and-conduct-towards-them</th>\n",
       "      <th>learning</th>\n",
       "      <th>kings</th>\n",
       "      <th>hilchot-chol-hamoed</th>\n",
       "      <th>laws-of-judges-and-courts</th>\n",
       "      <th>laws-of-animal-sacrifices</th>\n",
       "      <th>financial-ramifications-of-marriage</th>\n",
       "      <th>idolatry</th>\n",
       "      <th>laws-of-transferring-between-domains</th>\n",
       "    </tr>\n",
       "  </thead>\n",
       "  <tbody>\n",
       "    <tr>\n",
       "      <th>0</th>\n",
       "      <td>True</td>\n",
       "      <td>True</td>\n",
       "      <td>True</td>\n",
       "      <td>True</td>\n",
       "      <td>True</td>\n",
       "      <td>True</td>\n",
       "      <td>True</td>\n",
       "      <td>True</td>\n",
       "      <td>True</td>\n",
       "      <td>True</td>\n",
       "    </tr>\n",
       "    <tr>\n",
       "      <th>1</th>\n",
       "      <td>True</td>\n",
       "      <td>True</td>\n",
       "      <td>True</td>\n",
       "      <td>True</td>\n",
       "      <td>True</td>\n",
       "      <td>True</td>\n",
       "      <td>True</td>\n",
       "      <td>True</td>\n",
       "      <td>True</td>\n",
       "      <td>True</td>\n",
       "    </tr>\n",
       "    <tr>\n",
       "      <th>2</th>\n",
       "      <td>True</td>\n",
       "      <td>True</td>\n",
       "      <td>True</td>\n",
       "      <td>True</td>\n",
       "      <td>True</td>\n",
       "      <td>True</td>\n",
       "      <td>True</td>\n",
       "      <td>True</td>\n",
       "      <td>True</td>\n",
       "      <td>True</td>\n",
       "    </tr>\n",
       "    <tr>\n",
       "      <th>4</th>\n",
       "      <td>True</td>\n",
       "      <td>True</td>\n",
       "      <td>True</td>\n",
       "      <td>True</td>\n",
       "      <td>True</td>\n",
       "      <td>True</td>\n",
       "      <td>True</td>\n",
       "      <td>True</td>\n",
       "      <td>True</td>\n",
       "      <td>True</td>\n",
       "    </tr>\n",
       "    <tr>\n",
       "      <th>7</th>\n",
       "      <td>True</td>\n",
       "      <td>True</td>\n",
       "      <td>True</td>\n",
       "      <td>True</td>\n",
       "      <td>True</td>\n",
       "      <td>True</td>\n",
       "      <td>True</td>\n",
       "      <td>True</td>\n",
       "      <td>True</td>\n",
       "      <td>True</td>\n",
       "    </tr>\n",
       "    <tr>\n",
       "      <th>...</th>\n",
       "      <td>...</td>\n",
       "      <td>...</td>\n",
       "      <td>...</td>\n",
       "      <td>...</td>\n",
       "      <td>...</td>\n",
       "      <td>...</td>\n",
       "      <td>...</td>\n",
       "      <td>...</td>\n",
       "      <td>...</td>\n",
       "      <td>...</td>\n",
       "    </tr>\n",
       "    <tr>\n",
       "      <th>4993</th>\n",
       "      <td>True</td>\n",
       "      <td>True</td>\n",
       "      <td>True</td>\n",
       "      <td>True</td>\n",
       "      <td>True</td>\n",
       "      <td>True</td>\n",
       "      <td>True</td>\n",
       "      <td>True</td>\n",
       "      <td>True</td>\n",
       "      <td>True</td>\n",
       "    </tr>\n",
       "    <tr>\n",
       "      <th>4996</th>\n",
       "      <td>True</td>\n",
       "      <td>True</td>\n",
       "      <td>True</td>\n",
       "      <td>True</td>\n",
       "      <td>True</td>\n",
       "      <td>True</td>\n",
       "      <td>True</td>\n",
       "      <td>True</td>\n",
       "      <td>True</td>\n",
       "      <td>True</td>\n",
       "    </tr>\n",
       "    <tr>\n",
       "      <th>4997</th>\n",
       "      <td>True</td>\n",
       "      <td>True</td>\n",
       "      <td>True</td>\n",
       "      <td>True</td>\n",
       "      <td>True</td>\n",
       "      <td>True</td>\n",
       "      <td>True</td>\n",
       "      <td>True</td>\n",
       "      <td>True</td>\n",
       "      <td>True</td>\n",
       "    </tr>\n",
       "    <tr>\n",
       "      <th>4998</th>\n",
       "      <td>True</td>\n",
       "      <td>True</td>\n",
       "      <td>True</td>\n",
       "      <td>True</td>\n",
       "      <td>True</td>\n",
       "      <td>True</td>\n",
       "      <td>True</td>\n",
       "      <td>True</td>\n",
       "      <td>True</td>\n",
       "      <td>True</td>\n",
       "    </tr>\n",
       "    <tr>\n",
       "      <th>4999</th>\n",
       "      <td>True</td>\n",
       "      <td>True</td>\n",
       "      <td>True</td>\n",
       "      <td>False</td>\n",
       "      <td>True</td>\n",
       "      <td>True</td>\n",
       "      <td>True</td>\n",
       "      <td>True</td>\n",
       "      <td>True</td>\n",
       "      <td>True</td>\n",
       "    </tr>\n",
       "  </tbody>\n",
       "</table>\n",
       "<p>3329 rows × 10 columns</p>\n",
       "</div>"
      ],
      "text/plain": [
       "      prayer  procedures-for-judges-and-conduct-towards-them  learning  kings  \\\n",
       "0       True                                            True      True   True   \n",
       "1       True                                            True      True   True   \n",
       "2       True                                            True      True   True   \n",
       "4       True                                            True      True   True   \n",
       "7       True                                            True      True   True   \n",
       "...      ...                                             ...       ...    ...   \n",
       "4993    True                                            True      True   True   \n",
       "4996    True                                            True      True   True   \n",
       "4997    True                                            True      True   True   \n",
       "4998    True                                            True      True   True   \n",
       "4999    True                                            True      True  False   \n",
       "\n",
       "      hilchot-chol-hamoed  laws-of-judges-and-courts  \\\n",
       "0                    True                       True   \n",
       "1                    True                       True   \n",
       "2                    True                       True   \n",
       "4                    True                       True   \n",
       "7                    True                       True   \n",
       "...                   ...                        ...   \n",
       "4993                 True                       True   \n",
       "4996                 True                       True   \n",
       "4997                 True                       True   \n",
       "4998                 True                       True   \n",
       "4999                 True                       True   \n",
       "\n",
       "      laws-of-animal-sacrifices  financial-ramifications-of-marriage  \\\n",
       "0                          True                                 True   \n",
       "1                          True                                 True   \n",
       "2                          True                                 True   \n",
       "4                          True                                 True   \n",
       "7                          True                                 True   \n",
       "...                         ...                                  ...   \n",
       "4993                       True                                 True   \n",
       "4996                       True                                 True   \n",
       "4997                       True                                 True   \n",
       "4998                       True                                 True   \n",
       "4999                       True                                 True   \n",
       "\n",
       "      idolatry  laws-of-transferring-between-domains  \n",
       "0         True                                  True  \n",
       "1         True                                  True  \n",
       "2         True                                  True  \n",
       "4         True                                  True  \n",
       "7         True                                  True  \n",
       "...        ...                                   ...  \n",
       "4993      True                                  True  \n",
       "4996      True                                  True  \n",
       "4997      True                                  True  \n",
       "4998      True                                  True  \n",
       "4999      True                                  True  \n",
       "\n",
       "[3329 rows x 10 columns]"
      ]
     },
     "execution_count": 341,
     "metadata": {},
     "output_type": "execute_result"
    }
   ],
   "source": [
    "df_all_rows[my_example_topics] == 0"
   ]
  },
  {
   "cell_type": "code",
   "execution_count": 342,
   "metadata": {},
   "outputs": [
    {
     "data": {
      "text/plain": [
       "0       False\n",
       "1       False\n",
       "2       False\n",
       "4       False\n",
       "7       False\n",
       "        ...  \n",
       "4993    False\n",
       "4996    False\n",
       "4997    False\n",
       "4998    False\n",
       "4999     True\n",
       "Length: 3329, dtype: bool"
      ]
     },
     "execution_count": 342,
     "metadata": {},
     "output_type": "execute_result"
    }
   ],
   "source": [
    "~(df_all_rows[my_example_topics] == 0).all(axis=1)"
   ]
  },
  {
   "cell_type": "code",
   "execution_count": 343,
   "metadata": {},
   "outputs": [
    {
     "data": {
      "text/html": [
       "<div>\n",
       "<style scoped>\n",
       "    .dataframe tbody tr th:only-of-type {\n",
       "        vertical-align: middle;\n",
       "    }\n",
       "\n",
       "    .dataframe tbody tr th {\n",
       "        vertical-align: top;\n",
       "    }\n",
       "\n",
       "    .dataframe thead th {\n",
       "        text-align: right;\n",
       "    }\n",
       "</style>\n",
       "<table border=\"1\" class=\"dataframe\">\n",
       "  <thead>\n",
       "    <tr style=\"text-align: right;\">\n",
       "      <th></th>\n",
       "      <th>id</th>\n",
       "      <th>comment_text</th>\n",
       "      <th>prayer</th>\n",
       "      <th>procedures-for-judges-and-conduct-towards-them</th>\n",
       "      <th>learning</th>\n",
       "      <th>kings</th>\n",
       "      <th>hilchot-chol-hamoed</th>\n",
       "      <th>laws-of-judges-and-courts</th>\n",
       "      <th>laws-of-animal-sacrifices</th>\n",
       "      <th>financial-ramifications-of-marriage</th>\n",
       "      <th>idolatry</th>\n",
       "      <th>laws-of-transferring-between-domains</th>\n",
       "    </tr>\n",
       "  </thead>\n",
       "  <tbody>\n",
       "    <tr>\n",
       "      <th>21</th>\n",
       "      <td>Menachot 5a:6</td>\n",
       "      <td>&lt;b&gt;Rav Adda, son of Rav Yitzḥak, raises an objection&lt;/b&gt; to Rav Adda bar Ahava’s explanation fro...</td>\n",
       "      <td>0</td>\n",
       "      <td>0</td>\n",
       "      <td>0</td>\n",
       "      <td>0</td>\n",
       "      <td>0</td>\n",
       "      <td>0</td>\n",
       "      <td>1</td>\n",
       "      <td>0</td>\n",
       "      <td>0</td>\n",
       "      <td>0</td>\n",
       "    </tr>\n",
       "    <tr>\n",
       "      <th>48</th>\n",
       "      <td>Gittin 37b:5</td>\n",
       "      <td>§ &lt;b&gt;Rav Yehuda says&lt;/b&gt; that &lt;b&gt;Rav Naḥman says: A person is deemed credible to say: I had a &lt;i...</td>\n",
       "      <td>0</td>\n",
       "      <td>1</td>\n",
       "      <td>0</td>\n",
       "      <td>0</td>\n",
       "      <td>0</td>\n",
       "      <td>0</td>\n",
       "      <td>0</td>\n",
       "      <td>0</td>\n",
       "      <td>0</td>\n",
       "      <td>0</td>\n",
       "    </tr>\n",
       "    <tr>\n",
       "      <th>54</th>\n",
       "      <td>Horayot 13a:10</td>\n",
       "      <td>&lt;b&gt;A Torah scholar precedes the king of Israel,&lt;/b&gt; because in the case of &lt;b&gt;a Sage who dies, w...</td>\n",
       "      <td>0</td>\n",
       "      <td>0</td>\n",
       "      <td>0</td>\n",
       "      <td>1</td>\n",
       "      <td>0</td>\n",
       "      <td>0</td>\n",
       "      <td>0</td>\n",
       "      <td>0</td>\n",
       "      <td>0</td>\n",
       "      <td>0</td>\n",
       "    </tr>\n",
       "    <tr>\n",
       "      <th>65</th>\n",
       "      <td>Sotah 41a:16</td>\n",
       "      <td>&lt;b&gt;The synagogue attendant takes a Torah scroll and gives it to the head of the synagogue&lt;/b&gt; th...</td>\n",
       "      <td>0</td>\n",
       "      <td>0</td>\n",
       "      <td>0</td>\n",
       "      <td>1</td>\n",
       "      <td>0</td>\n",
       "      <td>0</td>\n",
       "      <td>0</td>\n",
       "      <td>0</td>\n",
       "      <td>0</td>\n",
       "      <td>0</td>\n",
       "    </tr>\n",
       "    <tr>\n",
       "      <th>69</th>\n",
       "      <td>Rashi on Numbers 15:22:1</td>\n",
       "      <td>וכי תשגו ולא תעשו AND IF YE HAVE ERRED, AND NOT DONE [ALL THESE COMMANDMENTS WHICH THE LORD HATH...</td>\n",
       "      <td>0</td>\n",
       "      <td>0</td>\n",
       "      <td>0</td>\n",
       "      <td>0</td>\n",
       "      <td>0</td>\n",
       "      <td>0</td>\n",
       "      <td>0</td>\n",
       "      <td>0</td>\n",
       "      <td>1</td>\n",
       "      <td>0</td>\n",
       "    </tr>\n",
       "  </tbody>\n",
       "</table>\n",
       "</div>"
      ],
      "text/plain": [
       "                          id  \\\n",
       "21             Menachot 5a:6   \n",
       "48              Gittin 37b:5   \n",
       "54            Horayot 13a:10   \n",
       "65              Sotah 41a:16   \n",
       "69  Rashi on Numbers 15:22:1   \n",
       "\n",
       "                                                                                           comment_text  \\\n",
       "21  <b>Rav Adda, son of Rav Yitzḥak, raises an objection</b> to Rav Adda bar Ahava’s explanation fro...   \n",
       "48  § <b>Rav Yehuda says</b> that <b>Rav Naḥman says: A person is deemed credible to say: I had a <i...   \n",
       "54  <b>A Torah scholar precedes the king of Israel,</b> because in the case of <b>a Sage who dies, w...   \n",
       "65  <b>The synagogue attendant takes a Torah scroll and gives it to the head of the synagogue</b> th...   \n",
       "69  וכי תשגו ולא תעשו AND IF YE HAVE ERRED, AND NOT DONE [ALL THESE COMMANDMENTS WHICH THE LORD HATH...   \n",
       "\n",
       "    prayer  procedures-for-judges-and-conduct-towards-them  learning  kings  \\\n",
       "21       0                                               0         0      0   \n",
       "48       0                                               1         0      0   \n",
       "54       0                                               0         0      1   \n",
       "65       0                                               0         0      1   \n",
       "69       0                                               0         0      0   \n",
       "\n",
       "    hilchot-chol-hamoed  laws-of-judges-and-courts  laws-of-animal-sacrifices  \\\n",
       "21                    0                          0                          1   \n",
       "48                    0                          0                          0   \n",
       "54                    0                          0                          0   \n",
       "65                    0                          0                          0   \n",
       "69                    0                          0                          0   \n",
       "\n",
       "    financial-ramifications-of-marriage  idolatry  \\\n",
       "21                                    0         0   \n",
       "48                                    0         0   \n",
       "54                                    0         0   \n",
       "65                                    0         0   \n",
       "69                                    0         1   \n",
       "\n",
       "    laws-of-transferring-between-domains  \n",
       "21                                     0  \n",
       "48                                     0  \n",
       "54                                     0  \n",
       "65                                     0  \n",
       "69                                     0  "
      ]
     },
     "execution_count": 343,
     "metadata": {},
     "output_type": "execute_result"
    }
   ],
   "source": [
    "df_wanted_rows = data_raw[~(df_all_rows[my_example_topics] == 0).all(axis=1)]\n",
    "df_wanted_rows.head()"
   ]
  },
  {
   "cell_type": "code",
   "execution_count": 344,
   "metadata": {},
   "outputs": [
    {
     "data": {
      "text/plain": [
       "(338, 12)"
      ]
     },
     "execution_count": 344,
     "metadata": {},
     "output_type": "execute_result"
    }
   ],
   "source": [
    "df_wanted_rows.shape"
   ]
  },
  {
   "cell_type": "code",
   "execution_count": 345,
   "metadata": {},
   "outputs": [],
   "source": [
    "data_raw = df_wanted_rows"
   ]
  },
  {
   "cell_type": "code",
   "execution_count": 346,
   "metadata": {},
   "outputs": [
    {
     "data": {
      "text/plain": [
       "(338, 12)"
      ]
     },
     "execution_count": 346,
     "metadata": {},
     "output_type": "execute_result"
    }
   ],
   "source": [
    "data_raw.shape"
   ]
  },
  {
   "cell_type": "code",
   "execution_count": null,
   "metadata": {},
   "outputs": [],
   "source": []
  },
  {
   "cell_type": "code",
   "execution_count": 347,
   "metadata": {},
   "outputs": [
    {
     "data": {
      "text/html": [
       "<div>\n",
       "<style scoped>\n",
       "    .dataframe tbody tr th:only-of-type {\n",
       "        vertical-align: middle;\n",
       "    }\n",
       "\n",
       "    .dataframe tbody tr th {\n",
       "        vertical-align: top;\n",
       "    }\n",
       "\n",
       "    .dataframe thead th {\n",
       "        text-align: right;\n",
       "    }\n",
       "</style>\n",
       "<table border=\"1\" class=\"dataframe\">\n",
       "  <thead>\n",
       "    <tr style=\"text-align: right;\">\n",
       "      <th></th>\n",
       "      <th>id</th>\n",
       "      <th>comment_text</th>\n",
       "      <th>prayer</th>\n",
       "      <th>procedures-for-judges-and-conduct-towards-them</th>\n",
       "      <th>learning</th>\n",
       "      <th>kings</th>\n",
       "      <th>hilchot-chol-hamoed</th>\n",
       "      <th>laws-of-judges-and-courts</th>\n",
       "      <th>laws-of-animal-sacrifices</th>\n",
       "      <th>financial-ramifications-of-marriage</th>\n",
       "      <th>idolatry</th>\n",
       "      <th>laws-of-transferring-between-domains</th>\n",
       "    </tr>\n",
       "  </thead>\n",
       "  <tbody>\n",
       "    <tr>\n",
       "      <th>21</th>\n",
       "      <td>Menachot 5a:6</td>\n",
       "      <td>&lt;b&gt;Rav Adda, son of Rav Yitzḥak, raises an objection&lt;/b&gt; to Rav Adda bar Ahava’s explanation fro...</td>\n",
       "      <td>0</td>\n",
       "      <td>0</td>\n",
       "      <td>0</td>\n",
       "      <td>0</td>\n",
       "      <td>0</td>\n",
       "      <td>0</td>\n",
       "      <td>1</td>\n",
       "      <td>0</td>\n",
       "      <td>0</td>\n",
       "      <td>0</td>\n",
       "    </tr>\n",
       "    <tr>\n",
       "      <th>48</th>\n",
       "      <td>Gittin 37b:5</td>\n",
       "      <td>§ &lt;b&gt;Rav Yehuda says&lt;/b&gt; that &lt;b&gt;Rav Naḥman says: A person is deemed credible to say: I had a &lt;i...</td>\n",
       "      <td>0</td>\n",
       "      <td>1</td>\n",
       "      <td>0</td>\n",
       "      <td>0</td>\n",
       "      <td>0</td>\n",
       "      <td>0</td>\n",
       "      <td>0</td>\n",
       "      <td>0</td>\n",
       "      <td>0</td>\n",
       "      <td>0</td>\n",
       "    </tr>\n",
       "    <tr>\n",
       "      <th>54</th>\n",
       "      <td>Horayot 13a:10</td>\n",
       "      <td>&lt;b&gt;A Torah scholar precedes the king of Israel,&lt;/b&gt; because in the case of &lt;b&gt;a Sage who dies, w...</td>\n",
       "      <td>0</td>\n",
       "      <td>0</td>\n",
       "      <td>0</td>\n",
       "      <td>1</td>\n",
       "      <td>0</td>\n",
       "      <td>0</td>\n",
       "      <td>0</td>\n",
       "      <td>0</td>\n",
       "      <td>0</td>\n",
       "      <td>0</td>\n",
       "    </tr>\n",
       "    <tr>\n",
       "      <th>65</th>\n",
       "      <td>Sotah 41a:16</td>\n",
       "      <td>&lt;b&gt;The synagogue attendant takes a Torah scroll and gives it to the head of the synagogue&lt;/b&gt; th...</td>\n",
       "      <td>0</td>\n",
       "      <td>0</td>\n",
       "      <td>0</td>\n",
       "      <td>1</td>\n",
       "      <td>0</td>\n",
       "      <td>0</td>\n",
       "      <td>0</td>\n",
       "      <td>0</td>\n",
       "      <td>0</td>\n",
       "      <td>0</td>\n",
       "    </tr>\n",
       "    <tr>\n",
       "      <th>69</th>\n",
       "      <td>Rashi on Numbers 15:22:1</td>\n",
       "      <td>וכי תשגו ולא תעשו AND IF YE HAVE ERRED, AND NOT DONE [ALL THESE COMMANDMENTS WHICH THE LORD HATH...</td>\n",
       "      <td>0</td>\n",
       "      <td>0</td>\n",
       "      <td>0</td>\n",
       "      <td>0</td>\n",
       "      <td>0</td>\n",
       "      <td>0</td>\n",
       "      <td>0</td>\n",
       "      <td>0</td>\n",
       "      <td>1</td>\n",
       "      <td>0</td>\n",
       "    </tr>\n",
       "  </tbody>\n",
       "</table>\n",
       "</div>"
      ],
      "text/plain": [
       "                          id  \\\n",
       "21             Menachot 5a:6   \n",
       "48              Gittin 37b:5   \n",
       "54            Horayot 13a:10   \n",
       "65              Sotah 41a:16   \n",
       "69  Rashi on Numbers 15:22:1   \n",
       "\n",
       "                                                                                           comment_text  \\\n",
       "21  <b>Rav Adda, son of Rav Yitzḥak, raises an objection</b> to Rav Adda bar Ahava’s explanation fro...   \n",
       "48  § <b>Rav Yehuda says</b> that <b>Rav Naḥman says: A person is deemed credible to say: I had a <i...   \n",
       "54  <b>A Torah scholar precedes the king of Israel,</b> because in the case of <b>a Sage who dies, w...   \n",
       "65  <b>The synagogue attendant takes a Torah scroll and gives it to the head of the synagogue</b> th...   \n",
       "69  וכי תשגו ולא תעשו AND IF YE HAVE ERRED, AND NOT DONE [ALL THESE COMMANDMENTS WHICH THE LORD HATH...   \n",
       "\n",
       "    prayer  procedures-for-judges-and-conduct-towards-them  learning  kings  \\\n",
       "21       0                                               0         0      0   \n",
       "48       0                                               1         0      0   \n",
       "54       0                                               0         0      1   \n",
       "65       0                                               0         0      1   \n",
       "69       0                                               0         0      0   \n",
       "\n",
       "    hilchot-chol-hamoed  laws-of-judges-and-courts  laws-of-animal-sacrifices  \\\n",
       "21                    0                          0                          1   \n",
       "48                    0                          0                          0   \n",
       "54                    0                          0                          0   \n",
       "65                    0                          0                          0   \n",
       "69                    0                          0                          0   \n",
       "\n",
       "    financial-ramifications-of-marriage  idolatry  \\\n",
       "21                                    0         0   \n",
       "48                                    0         0   \n",
       "54                                    0         0   \n",
       "65                                    0         0   \n",
       "69                                    0         1   \n",
       "\n",
       "    laws-of-transferring-between-domains  \n",
       "21                                     0  \n",
       "48                                     0  \n",
       "54                                     0  \n",
       "65                                     0  \n",
       "69                                     0  "
      ]
     },
     "execution_count": 347,
     "metadata": {},
     "output_type": "execute_result"
    }
   ],
   "source": [
    "data_raw.head()"
   ]
  },
  {
   "cell_type": "code",
   "execution_count": 348,
   "metadata": {},
   "outputs": [
    {
     "name": "stdout",
     "output_type": "stream",
     "text": [
      "['prayer', 'procedures-for-judges-and-conduct-towards-them', 'learning', 'kings', 'hilchot-chol-hamoed', 'laws-of-judges-and-courts', 'laws-of-animal-sacrifices', 'financial-ramifications-of-marriage', 'idolatry', 'laws-of-transferring-between-domains']\n"
     ]
    }
   ],
   "source": [
    "categories = list(data_raw.columns.values)\n",
    "categories = categories[2:]\n",
    "print(categories)"
   ]
  },
  {
   "cell_type": "code",
   "execution_count": 349,
   "metadata": {},
   "outputs": [
    {
     "data": {
      "text/html": [
       "<div>\n",
       "<style scoped>\n",
       "    .dataframe tbody tr th:only-of-type {\n",
       "        vertical-align: middle;\n",
       "    }\n",
       "\n",
       "    .dataframe tbody tr th {\n",
       "        vertical-align: top;\n",
       "    }\n",
       "\n",
       "    .dataframe thead th {\n",
       "        text-align: right;\n",
       "    }\n",
       "</style>\n",
       "<table border=\"1\" class=\"dataframe\">\n",
       "  <thead>\n",
       "    <tr style=\"text-align: right;\">\n",
       "      <th></th>\n",
       "      <th>category</th>\n",
       "      <th>number of comments</th>\n",
       "    </tr>\n",
       "  </thead>\n",
       "  <tbody>\n",
       "    <tr>\n",
       "      <th>0</th>\n",
       "      <td>prayer</td>\n",
       "      <td>31</td>\n",
       "    </tr>\n",
       "    <tr>\n",
       "      <th>1</th>\n",
       "      <td>procedures-for-judges-and-conduct-towards-them</td>\n",
       "      <td>54</td>\n",
       "    </tr>\n",
       "    <tr>\n",
       "      <th>2</th>\n",
       "      <td>learning</td>\n",
       "      <td>28</td>\n",
       "    </tr>\n",
       "    <tr>\n",
       "      <th>3</th>\n",
       "      <td>kings</td>\n",
       "      <td>24</td>\n",
       "    </tr>\n",
       "    <tr>\n",
       "      <th>4</th>\n",
       "      <td>hilchot-chol-hamoed</td>\n",
       "      <td>16</td>\n",
       "    </tr>\n",
       "    <tr>\n",
       "      <th>5</th>\n",
       "      <td>laws-of-judges-and-courts</td>\n",
       "      <td>60</td>\n",
       "    </tr>\n",
       "    <tr>\n",
       "      <th>6</th>\n",
       "      <td>laws-of-animal-sacrifices</td>\n",
       "      <td>37</td>\n",
       "    </tr>\n",
       "    <tr>\n",
       "      <th>7</th>\n",
       "      <td>financial-ramifications-of-marriage</td>\n",
       "      <td>40</td>\n",
       "    </tr>\n",
       "    <tr>\n",
       "      <th>8</th>\n",
       "      <td>idolatry</td>\n",
       "      <td>25</td>\n",
       "    </tr>\n",
       "    <tr>\n",
       "      <th>9</th>\n",
       "      <td>laws-of-transferring-between-domains</td>\n",
       "      <td>47</td>\n",
       "    </tr>\n",
       "  </tbody>\n",
       "</table>\n",
       "</div>"
      ],
      "text/plain": [
       "                                         category  number of comments\n",
       "0                                          prayer                  31\n",
       "1  procedures-for-judges-and-conduct-towards-them                  54\n",
       "2                                        learning                  28\n",
       "3                                           kings                  24\n",
       "4                             hilchot-chol-hamoed                  16\n",
       "5                       laws-of-judges-and-courts                  60\n",
       "6                       laws-of-animal-sacrifices                  37\n",
       "7             financial-ramifications-of-marriage                  40\n",
       "8                                        idolatry                  25\n",
       "9            laws-of-transferring-between-domains                  47"
      ]
     },
     "execution_count": 349,
     "metadata": {},
     "output_type": "execute_result"
    }
   ],
   "source": [
    "\n",
    "# Calculating number of comments in each category\n",
    "\n",
    "counts = []\n",
    "for category in categories:\n",
    "    counts.append((category, data_raw[category].sum()))\n",
    "df_stats = pd.DataFrame(counts, columns=['category', 'number of comments'])\n",
    "df_stats"
   ]
  },
  {
   "cell_type": "code",
   "execution_count": 350,
   "metadata": {},
   "outputs": [
    {
     "data": {
      "image/png": "[encoded data removed]",
      "text/plain": [
       "<Figure size 1080x576 with 1 Axes>"
      ]
     },
     "metadata": {},
     "output_type": "display_data"
    }
   ],
   "source": [
    "# !pip install sns/\n",
    "import seaborn as sns\n",
    "import matplotlib.pyplot as plt\n",
    "\n",
    "sns.set(font_scale = 2)\n",
    "plt.figure(figsize=(15,8))\n",
    "\n",
    "ax= sns.barplot(categories, data_raw.iloc[:,2:].sum().values)\n",
    "\n",
    "plt.title(\"Comments in each category\", fontsize=24)\n",
    "plt.ylabel('Number of comments', fontsize=18)\n",
    "plt.xlabel('Comment Type ', fontsize=18)\n",
    "\n",
    "#adding the text labels\n",
    "rects = ax.patches\n",
    "labels = data_raw.iloc[:,2:].sum().values\n",
    "for rect, label in zip(rects, labels):\n",
    "    height = rect.get_height()\n",
    "    ax.text(rect.get_x() + rect.get_width()/2, height + 0, label, ha='center', va='bottom', fontsize=18)\n",
    "\n",
    "plt.xticks(rotation=90)\n",
    "plt.show()"
   ]
  },
  {
   "cell_type": "code",
   "execution_count": 351,
   "metadata": {},
   "outputs": [
    {
     "data": {
      "image/png": "[encoded data removed]",
      "text/plain": [
       "<Figure size 1080x576 with 1 Axes>"
      ]
     },
     "metadata": {},
     "output_type": "display_data"
    }
   ],
   "source": [
    "rowSums = data_raw.iloc[:,2:].sum(axis=1)\n",
    "multiLabel_counts = rowSums.value_counts()\n",
    "multiLabel_counts = multiLabel_counts.iloc[1:]\n",
    "\n",
    "sns.set(font_scale = 2)\n",
    "plt.figure(figsize=(15,8))\n",
    "\n",
    "ax = sns.barplot(multiLabel_counts.index, multiLabel_counts.values)\n",
    "\n",
    "plt.title(\"Comments having multiple labels \")\n",
    "plt.ylabel('Number of comments', fontsize=18)\n",
    "plt.xlabel('Number of labels', fontsize=18)\n",
    "\n",
    "#adding the text labels\n",
    "rects = ax.patches\n",
    "labels = multiLabel_counts.values\n",
    "for rect, label in zip(rects, labels):\n",
    "    height = rect.get_height()\n",
    "    ax.text(rect.get_x() + rect.get_width()/2, height + 0, label, ha='center', va='bottom')\n",
    "\n",
    "plt.show()"
   ]
  },
  {
   "cell_type": "code",
   "execution_count": 352,
   "metadata": {},
   "outputs": [
    {
     "data": {
      "text/plain": [
       "(2000, 12)"
      ]
     },
     "execution_count": 352,
     "metadata": {},
     "output_type": "execute_result"
    }
   ],
   "source": [
    "data = data_raw\n",
    "data = data_raw.loc[np.random.choice(data_raw.index, size=2000)]\n",
    "data.shape\n"
   ]
  },
  {
   "cell_type": "code",
   "execution_count": 353,
   "metadata": {},
   "outputs": [],
   "source": [
    "\n",
    "import nltk\n",
    "from nltk.corpus import stopwords\n",
    "from nltk.stem.snowball import SnowballStemmer\n",
    "import re\n",
    "\n",
    "import sys\n",
    "import warnings\n",
    "\n",
    "if not sys.warnoptions:\n",
    "    warnings.simplefilter(\"ignore\")"
   ]
  },
  {
   "cell_type": "code",
   "execution_count": 354,
   "metadata": {},
   "outputs": [],
   "source": [
    "def cleanHtml(sentence):\n",
    "    cleanr = re.compile('<.*?>')\n",
    "    cleantext = re.sub(cleanr, ' ', str(sentence))\n",
    "    return cleantext\n",
    "\n",
    "\n",
    "def cleanPunc(sentence): #function to clean the word of any punctuation or special characters\n",
    "    cleaned = re.sub(r'[?|!|\\'|\"|#]',r'',sentence)\n",
    "    cleaned = re.sub(r'[.|,|)|(|\\|/]',r' ',cleaned)\n",
    "    cleaned = cleaned.strip()\n",
    "    cleaned = cleaned.replace(\"\\n\",\" \")\n",
    "    return cleaned\n",
    "\n",
    "\n",
    "def keepAlpha(sentence):\n",
    "    alpha_sent = \"\"\n",
    "    for word in sentence.split():\n",
    "        alpha_word = re.sub('[^a-z A-Z]+', ' ', word)\n",
    "        alpha_sent += alpha_word\n",
    "        alpha_sent += \" \"\n",
    "    alpha_sent = alpha_sent.strip()\n",
    "    return alpha_sent"
   ]
  },
  {
   "cell_type": "code",
   "execution_count": 355,
   "metadata": {},
   "outputs": [
    {
     "data": {
      "text/html": [
       "<div>\n",
       "<style scoped>\n",
       "    .dataframe tbody tr th:only-of-type {\n",
       "        vertical-align: middle;\n",
       "    }\n",
       "\n",
       "    .dataframe tbody tr th {\n",
       "        vertical-align: top;\n",
       "    }\n",
       "\n",
       "    .dataframe thead th {\n",
       "        text-align: right;\n",
       "    }\n",
       "</style>\n",
       "<table border=\"1\" class=\"dataframe\">\n",
       "  <thead>\n",
       "    <tr style=\"text-align: right;\">\n",
       "      <th></th>\n",
       "      <th>id</th>\n",
       "      <th>comment_text</th>\n",
       "      <th>prayer</th>\n",
       "      <th>procedures-for-judges-and-conduct-towards-them</th>\n",
       "      <th>learning</th>\n",
       "      <th>kings</th>\n",
       "      <th>hilchot-chol-hamoed</th>\n",
       "      <th>laws-of-judges-and-courts</th>\n",
       "      <th>laws-of-animal-sacrifices</th>\n",
       "      <th>financial-ramifications-of-marriage</th>\n",
       "      <th>idolatry</th>\n",
       "      <th>laws-of-transferring-between-domains</th>\n",
       "    </tr>\n",
       "  </thead>\n",
       "  <tbody>\n",
       "    <tr>\n",
       "      <th>3825</th>\n",
       "      <td>Shulchan Arukh, Orach Chayim 531:8</td>\n",
       "      <td>every man is permitted to remove his mustache on hol hamoed rema  even in public it is permitted...</td>\n",
       "      <td>0</td>\n",
       "      <td>0</td>\n",
       "      <td>0</td>\n",
       "      <td>0</td>\n",
       "      <td>1</td>\n",
       "      <td>0</td>\n",
       "      <td>0</td>\n",
       "      <td>0</td>\n",
       "      <td>0</td>\n",
       "      <td>0</td>\n",
       "    </tr>\n",
       "    <tr>\n",
       "      <th>938</th>\n",
       "      <td>Shulchan Arukh, Orach Chayim 545:5</td>\n",
       "      <td>it is permitted to write kiddushin contracts pesikta contracts bills of divorce gittin proof of ...</td>\n",
       "      <td>0</td>\n",
       "      <td>0</td>\n",
       "      <td>0</td>\n",
       "      <td>0</td>\n",
       "      <td>1</td>\n",
       "      <td>0</td>\n",
       "      <td>0</td>\n",
       "      <td>0</td>\n",
       "      <td>0</td>\n",
       "      <td>0</td>\n",
       "    </tr>\n",
       "    <tr>\n",
       "      <th>659</th>\n",
       "      <td>Eruvin 7a:14</td>\n",
       "      <td>the gemara raises a question about this ruling  now if you say that where there is a main street...</td>\n",
       "      <td>0</td>\n",
       "      <td>0</td>\n",
       "      <td>0</td>\n",
       "      <td>0</td>\n",
       "      <td>0</td>\n",
       "      <td>0</td>\n",
       "      <td>0</td>\n",
       "      <td>0</td>\n",
       "      <td>0</td>\n",
       "      <td>1</td>\n",
       "    </tr>\n",
       "    <tr>\n",
       "      <th>1665</th>\n",
       "      <td>Sanhedrin 26b:7</td>\n",
       "      <td>the gemara answers  as it is written   he raises up the poor out of the dust he lifts up the nee...</td>\n",
       "      <td>0</td>\n",
       "      <td>1</td>\n",
       "      <td>0</td>\n",
       "      <td>0</td>\n",
       "      <td>0</td>\n",
       "      <td>0</td>\n",
       "      <td>0</td>\n",
       "      <td>0</td>\n",
       "      <td>0</td>\n",
       "      <td>0</td>\n",
       "    </tr>\n",
       "    <tr>\n",
       "      <th>1057</th>\n",
       "      <td>Ketubot 109a:2</td>\n",
       "      <td>gemara  the mishna is not in accordance with the opinion of this tanna as it is taught in the to...</td>\n",
       "      <td>0</td>\n",
       "      <td>0</td>\n",
       "      <td>0</td>\n",
       "      <td>0</td>\n",
       "      <td>0</td>\n",
       "      <td>0</td>\n",
       "      <td>0</td>\n",
       "      <td>1</td>\n",
       "      <td>0</td>\n",
       "      <td>0</td>\n",
       "    </tr>\n",
       "  </tbody>\n",
       "</table>\n",
       "</div>"
      ],
      "text/plain": [
       "                                      id  \\\n",
       "3825  Shulchan Arukh, Orach Chayim 531:8   \n",
       "938   Shulchan Arukh, Orach Chayim 545:5   \n",
       "659                         Eruvin 7a:14   \n",
       "1665                     Sanhedrin 26b:7   \n",
       "1057                      Ketubot 109a:2   \n",
       "\n",
       "                                                                                             comment_text  \\\n",
       "3825  every man is permitted to remove his mustache on hol hamoed rema  even in public it is permitted...   \n",
       "938   it is permitted to write kiddushin contracts pesikta contracts bills of divorce gittin proof of ...   \n",
       "659   the gemara raises a question about this ruling  now if you say that where there is a main street...   \n",
       "1665  the gemara answers  as it is written   he raises up the poor out of the dust he lifts up the nee...   \n",
       "1057  gemara  the mishna is not in accordance with the opinion of this tanna as it is taught in the to...   \n",
       "\n",
       "      prayer  procedures-for-judges-and-conduct-towards-them  learning  kings  \\\n",
       "3825       0                                               0         0      0   \n",
       "938        0                                               0         0      0   \n",
       "659        0                                               0         0      0   \n",
       "1665       0                                               1         0      0   \n",
       "1057       0                                               0         0      0   \n",
       "\n",
       "      hilchot-chol-hamoed  laws-of-judges-and-courts  \\\n",
       "3825                    1                          0   \n",
       "938                     1                          0   \n",
       "659                     0                          0   \n",
       "1665                    0                          0   \n",
       "1057                    0                          0   \n",
       "\n",
       "      laws-of-animal-sacrifices  financial-ramifications-of-marriage  \\\n",
       "3825                          0                                    0   \n",
       "938                           0                                    0   \n",
       "659                           0                                    0   \n",
       "1665                          0                                    0   \n",
       "1057                          0                                    1   \n",
       "\n",
       "      idolatry  laws-of-transferring-between-domains  \n",
       "3825         0                                     0  \n",
       "938          0                                     0  \n",
       "659          0                                     1  \n",
       "1665         0                                     0  \n",
       "1057         0                                     0  "
      ]
     },
     "execution_count": 355,
     "metadata": {},
     "output_type": "execute_result"
    }
   ],
   "source": [
    "\n",
    "data['comment_text'] = data['comment_text'].str.lower()\n",
    "data['comment_text'] = data['comment_text'].apply(cleanHtml)\n",
    "data['comment_text'] = data['comment_text'].apply(cleanPunc)\n",
    "data['comment_text'] = data['comment_text'].apply(keepAlpha)\n",
    "data.head()"
   ]
  },
  {
   "cell_type": "code",
   "execution_count": 356,
   "metadata": {},
   "outputs": [
    {
     "name": "stderr",
     "output_type": "stream",
     "text": [
      "[nltk_data] Downloading package stopwords to /root/nltk_data...\n",
      "[nltk_data]   Package stopwords is already up-to-date!\n"
     ]
    },
    {
     "data": {
      "text/plain": [
       "True"
      ]
     },
     "execution_count": 356,
     "metadata": {},
     "output_type": "execute_result"
    }
   ],
   "source": [
    "import nltk\n",
    "nltk.download('stopwords')"
   ]
  },
  {
   "cell_type": "code",
   "execution_count": 357,
   "metadata": {},
   "outputs": [
    {
     "data": {
      "text/html": [
       "<div>\n",
       "<style scoped>\n",
       "    .dataframe tbody tr th:only-of-type {\n",
       "        vertical-align: middle;\n",
       "    }\n",
       "\n",
       "    .dataframe tbody tr th {\n",
       "        vertical-align: top;\n",
       "    }\n",
       "\n",
       "    .dataframe thead th {\n",
       "        text-align: right;\n",
       "    }\n",
       "</style>\n",
       "<table border=\"1\" class=\"dataframe\">\n",
       "  <thead>\n",
       "    <tr style=\"text-align: right;\">\n",
       "      <th></th>\n",
       "      <th>id</th>\n",
       "      <th>comment_text</th>\n",
       "      <th>prayer</th>\n",
       "      <th>procedures-for-judges-and-conduct-towards-them</th>\n",
       "      <th>learning</th>\n",
       "      <th>kings</th>\n",
       "      <th>hilchot-chol-hamoed</th>\n",
       "      <th>laws-of-judges-and-courts</th>\n",
       "      <th>laws-of-animal-sacrifices</th>\n",
       "      <th>financial-ramifications-of-marriage</th>\n",
       "      <th>idolatry</th>\n",
       "      <th>laws-of-transferring-between-domains</th>\n",
       "    </tr>\n",
       "  </thead>\n",
       "  <tbody>\n",
       "    <tr>\n",
       "      <th>3825</th>\n",
       "      <td>Shulchan Arukh, Orach Chayim 531:8</td>\n",
       "      <td>every man is permitted to remove his mustache on hol hamoed rema  even in public it is permitted...</td>\n",
       "      <td>0</td>\n",
       "      <td>0</td>\n",
       "      <td>0</td>\n",
       "      <td>0</td>\n",
       "      <td>1</td>\n",
       "      <td>0</td>\n",
       "      <td>0</td>\n",
       "      <td>0</td>\n",
       "      <td>0</td>\n",
       "      <td>0</td>\n",
       "    </tr>\n",
       "    <tr>\n",
       "      <th>938</th>\n",
       "      <td>Shulchan Arukh, Orach Chayim 545:5</td>\n",
       "      <td>it is permitted to write kiddushin contracts pesikta contracts bills of divorce gittin proof of ...</td>\n",
       "      <td>0</td>\n",
       "      <td>0</td>\n",
       "      <td>0</td>\n",
       "      <td>0</td>\n",
       "      <td>1</td>\n",
       "      <td>0</td>\n",
       "      <td>0</td>\n",
       "      <td>0</td>\n",
       "      <td>0</td>\n",
       "      <td>0</td>\n",
       "    </tr>\n",
       "    <tr>\n",
       "      <th>659</th>\n",
       "      <td>Eruvin 7a:14</td>\n",
       "      <td>the gemara raises a question about this ruling  now if you say that where there is a main street...</td>\n",
       "      <td>0</td>\n",
       "      <td>0</td>\n",
       "      <td>0</td>\n",
       "      <td>0</td>\n",
       "      <td>0</td>\n",
       "      <td>0</td>\n",
       "      <td>0</td>\n",
       "      <td>0</td>\n",
       "      <td>0</td>\n",
       "      <td>1</td>\n",
       "    </tr>\n",
       "    <tr>\n",
       "      <th>1665</th>\n",
       "      <td>Sanhedrin 26b:7</td>\n",
       "      <td>the gemara answers  as it is written   he raises up the poor out of the dust he lifts up the nee...</td>\n",
       "      <td>0</td>\n",
       "      <td>1</td>\n",
       "      <td>0</td>\n",
       "      <td>0</td>\n",
       "      <td>0</td>\n",
       "      <td>0</td>\n",
       "      <td>0</td>\n",
       "      <td>0</td>\n",
       "      <td>0</td>\n",
       "      <td>0</td>\n",
       "    </tr>\n",
       "    <tr>\n",
       "      <th>1057</th>\n",
       "      <td>Ketubot 109a:2</td>\n",
       "      <td>gemara  the mishna is not in accordance with the opinion of this tanna as it is taught in the to...</td>\n",
       "      <td>0</td>\n",
       "      <td>0</td>\n",
       "      <td>0</td>\n",
       "      <td>0</td>\n",
       "      <td>0</td>\n",
       "      <td>0</td>\n",
       "      <td>0</td>\n",
       "      <td>1</td>\n",
       "      <td>0</td>\n",
       "      <td>0</td>\n",
       "    </tr>\n",
       "  </tbody>\n",
       "</table>\n",
       "</div>"
      ],
      "text/plain": [
       "                                      id  \\\n",
       "3825  Shulchan Arukh, Orach Chayim 531:8   \n",
       "938   Shulchan Arukh, Orach Chayim 545:5   \n",
       "659                         Eruvin 7a:14   \n",
       "1665                     Sanhedrin 26b:7   \n",
       "1057                      Ketubot 109a:2   \n",
       "\n",
       "                                                                                             comment_text  \\\n",
       "3825  every man is permitted to remove his mustache on hol hamoed rema  even in public it is permitted...   \n",
       "938   it is permitted to write kiddushin contracts pesikta contracts bills of divorce gittin proof of ...   \n",
       "659   the gemara raises a question about this ruling  now if you say that where there is a main street...   \n",
       "1665  the gemara answers  as it is written   he raises up the poor out of the dust he lifts up the nee...   \n",
       "1057  gemara  the mishna is not in accordance with the opinion of this tanna as it is taught in the to...   \n",
       "\n",
       "      prayer  procedures-for-judges-and-conduct-towards-them  learning  kings  \\\n",
       "3825       0                                               0         0      0   \n",
       "938        0                                               0         0      0   \n",
       "659        0                                               0         0      0   \n",
       "1665       0                                               1         0      0   \n",
       "1057       0                                               0         0      0   \n",
       "\n",
       "      hilchot-chol-hamoed  laws-of-judges-and-courts  \\\n",
       "3825                    1                          0   \n",
       "938                     1                          0   \n",
       "659                     0                          0   \n",
       "1665                    0                          0   \n",
       "1057                    0                          0   \n",
       "\n",
       "      laws-of-animal-sacrifices  financial-ramifications-of-marriage  \\\n",
       "3825                          0                                    0   \n",
       "938                           0                                    0   \n",
       "659                           0                                    0   \n",
       "1665                          0                                    0   \n",
       "1057                          0                                    1   \n",
       "\n",
       "      idolatry  laws-of-transferring-between-domains  \n",
       "3825         0                                     0  \n",
       "938          0                                     0  \n",
       "659          0                                     1  \n",
       "1665         0                                     0  \n",
       "1057         0                                     0  "
      ]
     },
     "execution_count": 357,
     "metadata": {},
     "output_type": "execute_result"
    }
   ],
   "source": [
    "stop_words = set(stopwords.words('english'))\n",
    "stop_words.update(['zero','one','two','three','four','five','six','seven','eight','nine','ten','may','also','across','among','beside','however','yet','within'])\n",
    "re_stop_words = re.compile(r\"\\b(\" + \"|\".join(stop_words) + \")\\\\W\", re.I)\n",
    "def removeStopWords(sentence):\n",
    "    global re_stop_words\n",
    "    return re_stop_words.sub(\" \", sentence)\n",
    "\n",
    "if should_remove_stopwords:\n",
    "    data['comment_text'] = data['comment_text'].apply(removeStopWords)\n",
    "data.head()"
   ]
  },
  {
   "cell_type": "code",
   "execution_count": 358,
   "metadata": {},
   "outputs": [
    {
     "data": {
      "text/html": [
       "<div>\n",
       "<style scoped>\n",
       "    .dataframe tbody tr th:only-of-type {\n",
       "        vertical-align: middle;\n",
       "    }\n",
       "\n",
       "    .dataframe tbody tr th {\n",
       "        vertical-align: top;\n",
       "    }\n",
       "\n",
       "    .dataframe thead th {\n",
       "        text-align: right;\n",
       "    }\n",
       "</style>\n",
       "<table border=\"1\" class=\"dataframe\">\n",
       "  <thead>\n",
       "    <tr style=\"text-align: right;\">\n",
       "      <th></th>\n",
       "      <th>id</th>\n",
       "      <th>comment_text</th>\n",
       "      <th>prayer</th>\n",
       "      <th>procedures-for-judges-and-conduct-towards-them</th>\n",
       "      <th>learning</th>\n",
       "      <th>kings</th>\n",
       "      <th>hilchot-chol-hamoed</th>\n",
       "      <th>laws-of-judges-and-courts</th>\n",
       "      <th>laws-of-animal-sacrifices</th>\n",
       "      <th>financial-ramifications-of-marriage</th>\n",
       "      <th>idolatry</th>\n",
       "      <th>laws-of-transferring-between-domains</th>\n",
       "    </tr>\n",
       "  </thead>\n",
       "  <tbody>\n",
       "    <tr>\n",
       "      <th>3825</th>\n",
       "      <td>Shulchan Arukh, Orach Chayim 531:8</td>\n",
       "      <td>every man is permitted to remove his mustache on hol hamoed rema  even in public it is permitted...</td>\n",
       "      <td>0</td>\n",
       "      <td>0</td>\n",
       "      <td>0</td>\n",
       "      <td>0</td>\n",
       "      <td>1</td>\n",
       "      <td>0</td>\n",
       "      <td>0</td>\n",
       "      <td>0</td>\n",
       "      <td>0</td>\n",
       "      <td>0</td>\n",
       "    </tr>\n",
       "    <tr>\n",
       "      <th>938</th>\n",
       "      <td>Shulchan Arukh, Orach Chayim 545:5</td>\n",
       "      <td>it is permitted to write kiddushin contracts pesikta contracts bills of divorce gittin proof of ...</td>\n",
       "      <td>0</td>\n",
       "      <td>0</td>\n",
       "      <td>0</td>\n",
       "      <td>0</td>\n",
       "      <td>1</td>\n",
       "      <td>0</td>\n",
       "      <td>0</td>\n",
       "      <td>0</td>\n",
       "      <td>0</td>\n",
       "      <td>0</td>\n",
       "    </tr>\n",
       "    <tr>\n",
       "      <th>659</th>\n",
       "      <td>Eruvin 7a:14</td>\n",
       "      <td>the gemara raises a question about this ruling  now if you say that where there is a main street...</td>\n",
       "      <td>0</td>\n",
       "      <td>0</td>\n",
       "      <td>0</td>\n",
       "      <td>0</td>\n",
       "      <td>0</td>\n",
       "      <td>0</td>\n",
       "      <td>0</td>\n",
       "      <td>0</td>\n",
       "      <td>0</td>\n",
       "      <td>1</td>\n",
       "    </tr>\n",
       "    <tr>\n",
       "      <th>1665</th>\n",
       "      <td>Sanhedrin 26b:7</td>\n",
       "      <td>the gemara answers  as it is written   he raises up the poor out of the dust he lifts up the nee...</td>\n",
       "      <td>0</td>\n",
       "      <td>1</td>\n",
       "      <td>0</td>\n",
       "      <td>0</td>\n",
       "      <td>0</td>\n",
       "      <td>0</td>\n",
       "      <td>0</td>\n",
       "      <td>0</td>\n",
       "      <td>0</td>\n",
       "      <td>0</td>\n",
       "    </tr>\n",
       "    <tr>\n",
       "      <th>1057</th>\n",
       "      <td>Ketubot 109a:2</td>\n",
       "      <td>gemara  the mishna is not in accordance with the opinion of this tanna as it is taught in the to...</td>\n",
       "      <td>0</td>\n",
       "      <td>0</td>\n",
       "      <td>0</td>\n",
       "      <td>0</td>\n",
       "      <td>0</td>\n",
       "      <td>0</td>\n",
       "      <td>0</td>\n",
       "      <td>1</td>\n",
       "      <td>0</td>\n",
       "      <td>0</td>\n",
       "    </tr>\n",
       "  </tbody>\n",
       "</table>\n",
       "</div>"
      ],
      "text/plain": [
       "                                      id  \\\n",
       "3825  Shulchan Arukh, Orach Chayim 531:8   \n",
       "938   Shulchan Arukh, Orach Chayim 545:5   \n",
       "659                         Eruvin 7a:14   \n",
       "1665                     Sanhedrin 26b:7   \n",
       "1057                      Ketubot 109a:2   \n",
       "\n",
       "                                                                                             comment_text  \\\n",
       "3825  every man is permitted to remove his mustache on hol hamoed rema  even in public it is permitted...   \n",
       "938   it is permitted to write kiddushin contracts pesikta contracts bills of divorce gittin proof of ...   \n",
       "659   the gemara raises a question about this ruling  now if you say that where there is a main street...   \n",
       "1665  the gemara answers  as it is written   he raises up the poor out of the dust he lifts up the nee...   \n",
       "1057  gemara  the mishna is not in accordance with the opinion of this tanna as it is taught in the to...   \n",
       "\n",
       "      prayer  procedures-for-judges-and-conduct-towards-them  learning  kings  \\\n",
       "3825       0                                               0         0      0   \n",
       "938        0                                               0         0      0   \n",
       "659        0                                               0         0      0   \n",
       "1665       0                                               1         0      0   \n",
       "1057       0                                               0         0      0   \n",
       "\n",
       "      hilchot-chol-hamoed  laws-of-judges-and-courts  \\\n",
       "3825                    1                          0   \n",
       "938                     1                          0   \n",
       "659                     0                          0   \n",
       "1665                    0                          0   \n",
       "1057                    0                          0   \n",
       "\n",
       "      laws-of-animal-sacrifices  financial-ramifications-of-marriage  \\\n",
       "3825                          0                                    0   \n",
       "938                           0                                    0   \n",
       "659                           0                                    0   \n",
       "1665                          0                                    0   \n",
       "1057                          0                                    1   \n",
       "\n",
       "      idolatry  laws-of-transferring-between-domains  \n",
       "3825         0                                     0  \n",
       "938          0                                     0  \n",
       "659          0                                     1  \n",
       "1665         0                                     0  \n",
       "1057         0                                     0  "
      ]
     },
     "execution_count": 358,
     "metadata": {},
     "output_type": "execute_result"
    }
   ],
   "source": [
    "stemmer = SnowballStemmer(\"english\")\n",
    "def stemming(sentence):\n",
    "    stemSentence = \"\"\n",
    "    for word in sentence.split():\n",
    "        stem = stemmer.stem(word)\n",
    "        stemSentence += stem\n",
    "        stemSentence += \" \"\n",
    "    stemSentence = stemSentence.strip()\n",
    "    return stemSentence\n",
    "\n",
    "if should_stem:\n",
    "    data['comment_text'] = data['comment_text'].apply(stemming)\n",
    "data.head()"
   ]
  },
  {
   "cell_type": "code",
   "execution_count": 359,
   "metadata": {},
   "outputs": [
    {
     "name": "stdout",
     "output_type": "stream",
     "text": [
      "(1400, 12)\n",
      "(600, 12)\n"
     ]
    }
   ],
   "source": [
    "from sklearn.model_selection import train_test_split\n",
    "\n",
    "train, test = train_test_split(data, random_state=42, test_size=0.30, \n",
    "#                                shuffle=True\n",
    "                              )\n",
    "\n",
    "print(train.shape)\n",
    "print(test.shape)"
   ]
  },
  {
   "cell_type": "code",
   "execution_count": 360,
   "metadata": {},
   "outputs": [],
   "source": [
    "\n",
    "train_text = train['comment_text']\n",
    "test_text = test['comment_text']"
   ]
  },
  {
   "cell_type": "code",
   "execution_count": 361,
   "metadata": {},
   "outputs": [
    {
     "data": {
      "text/plain": [
       "3008    and so we hope in you adonai our g d soon to see your splendor  that you will sweep idolatry awa...\n",
       "1531    similarly rav adda bar ahava stated in accordance with the second opinion  from where is it deri...\n",
       "2470    rava added  i will state my reason and i will state their reason i will state my reason  what is...\n",
       "2098    the gemara answers  the gemara answers  but he already tried to lead her astray and she was not ...\n",
       "3695                        the husband has priority over any person in being the heir of his deceased wife\n",
       "Name: comment_text, dtype: object"
      ]
     },
     "execution_count": 361,
     "metadata": {},
     "output_type": "execute_result"
    }
   ],
   "source": [
    "# print(type(test_text))\n",
    "test_text.head()"
   ]
  },
  {
   "cell_type": "code",
   "execution_count": 362,
   "metadata": {},
   "outputs": [
    {
     "data": {
      "text/plain": [
       "TfidfVectorizer(ngram_range=(1, 3), strip_accents='unicode')"
      ]
     },
     "execution_count": 362,
     "metadata": {},
     "output_type": "execute_result"
    }
   ],
   "source": [
    "\n",
    "from sklearn.feature_extraction.text import TfidfVectorizer\n",
    "vectorizer = TfidfVectorizer(strip_accents='unicode', analyzer='word', ngram_range=(1,3), norm='l2')\n",
    "vectorizer.fit(train_text)\n",
    "# vectorizer.fit(test_text)"
   ]
  },
  {
   "cell_type": "code",
   "execution_count": 363,
   "metadata": {},
   "outputs": [],
   "source": [
    "x_train = vectorizer.transform(train_text)\n",
    "y_train = train.drop(labels = ['id','comment_text'], axis=1)\n",
    "\n",
    "x_test = vectorizer.transform(test_text)\n",
    "y_test = test.drop(labels = ['id','comment_text'], axis=1)"
   ]
  },
  {
   "cell_type": "code",
   "execution_count": 364,
   "metadata": {},
   "outputs": [
    {
     "name": "stdout",
     "output_type": "stream",
     "text": [
      "<class 'scipy.sparse.csr.csr_matrix'>\n"
     ]
    },
    {
     "data": {
      "text/plain": [
       "<600x56703 sparse matrix of type '<class 'numpy.float64'>'\n",
       "\twith 152592 stored elements in Compressed Sparse Row format>"
      ]
     },
     "execution_count": 364,
     "metadata": {},
     "output_type": "execute_result"
    }
   ],
   "source": [
    "print(type(x_test))\n",
    "x_test"
   ]
  },
  {
   "cell_type": "code",
   "execution_count": 365,
   "metadata": {},
   "outputs": [],
   "source": [
    "from sklearn.linear_model import LogisticRegression\n",
    "from sklearn.pipeline import Pipeline\n",
    "from sklearn.metrics import accuracy_score\n",
    "from sklearn.multiclass import OneVsRestClassifier"
   ]
  },
  {
   "cell_type": "code",
   "execution_count": 366,
   "metadata": {},
   "outputs": [
    {
     "data": {
      "text/markdown": [
       "**bold**"
      ],
      "text/plain": [
       "<IPython.core.display.Markdown object>"
      ]
     },
     "metadata": {},
     "output_type": "display_data"
    }
   ],
   "source": [
    "from IPython.display import Markdown, display\n",
    "def printmd(string):\n",
    "    display(Markdown(string))\n",
    "printmd('**bold**')"
   ]
  },
  {
   "cell_type": "code",
   "execution_count": 368,
   "metadata": {},
   "outputs": [
    {
     "data": {
      "text/markdown": [
       "**Processing prayer comments...**"
      ],
      "text/plain": [
       "<IPython.core.display.Markdown object>"
      ]
     },
     "metadata": {},
     "output_type": "display_data"
    },
    {
     "name": "stdout",
     "output_type": "stream",
     "text": [
      "Test accuracy is 0.9416666666666667\n",
      "\n",
      "42\n",
      "the lord is far from the wicked  but he heareth the prayer of the righteous\n",
      "\n",
      "106\n",
      "rava said  if the one in need of mercy is a torah scholar it is insufficient to merely pray on his behalf rather one must make himself ill worrying about him\n",
      "\n",
      "136\n",
      "of a truth lord the kings of assyria have laid waste the nations and their lands\n",
      "\n",
      "\n"
     ]
    },
    {
     "data": {
      "text/markdown": [
       "**Processing procedures-for-judges-and-conduct-towards-them comments...**"
      ],
      "text/plain": [
       "<IPython.core.display.Markdown object>"
      ]
     },
     "metadata": {},
     "output_type": "display_data"
    },
    {
     "name": "stdout",
     "output_type": "stream",
     "text": [
      "Test accuracy is 0.935\n",
      "\n",
      "21\n",
      "the gemara asks  and is it true that documents cannot be acquired through words but doesn t rabba bar yitz ak say that rav says  there are two types of documents the first type is where one says to others  take possession of this field for so and so and write the document for him as proof of the sale of the field in this case he may renege with regard to the document i e he may change his mind and tell them not to write it but he may not renege with regard to the field as the buyer has already acquired it\n",
      "\n",
      "23\n",
      "the gemara elaborates  what is the reasoning of the rabbis imposing is stated in the later verse   if ransom is imposed upon him  exodus   and imposing is stated in the earlier verse concerning a person who injures a pregnant woman causing her to miscarry   he shall be punished as the husband of the woman shall impose upon him  exodus   this verbal analogy indicates comparison of the two halakhot   just as there with regard to compensation for causing miscarriage the evaluation is according to the monetary value of the injured party i e the fetus so too here the ransom is according to the value of the injured party\n",
      "\n",
      "29\n",
      "mishna  if one litigant says to the other  my father is trusted to adjudicate for me or  your father is trusted to adjudicate for me or  three cattle herders who are not proficient in halakha are trusted to adjudicate for me all of whom are disqualified from serving as judges rabbi meir says  the one who made the offer can retract it and the rabbis say  he cannot retract it but must accept their verdict\n",
      "\n",
      "\n"
     ]
    },
    {
     "data": {
      "text/markdown": [
       "**Processing learning comments...**"
      ],
      "text/plain": [
       "<IPython.core.display.Markdown object>"
      ]
     },
     "metadata": {},
     "output_type": "display_data"
    },
    {
     "name": "stdout",
     "output_type": "stream",
     "text": [
      "Test accuracy is 0.96\n",
      "\n",
      "16\n",
      "a person does not merit to learn from everyone and it is possible that the only suitable teacher for him lives outside of eretz yisrael and rabbi yosei reported in support of his position  it once happened that yosef the priest went to his teacher in tzeidan outside eretz yisrael to learn torah although the preeminent sage of his generation rabban yo anan ben zakkai lived in eretz yisrael\n",
      "\n",
      "34\n",
      "then they said to him  you declared also that the satiety of the rich will not suffer him to sleep what can this mean certainly it permits him to sleep in fact a man sated with food falls asleep more quickly than others solomon replied  i was speaking about those who possess the riches of the torah and not material possessions for example a man who is distinguished and wealthy in the knowledge of the torah will teach many students and disseminate his knowledge among the masses and he is satisfied in his knowledge of torah and when he dies the disciples he raised do not permit him to be forgotten they sit and labor in the torah the talmud the law and the aggadah quoting the law in his name and recalling him to mind constantly they do not permit him to sleep undisturbed in his grave\n",
      "\n",
      "70\n",
      "they journeyed from refidim and arrived in the desert of sinai etc the position of the verse is peculiar we have already heard in verse one that the israelites arrived in the desert of sinai why did the torah repeat it again perhaps we can explain this in terms of a statement in sanhedrin   that love has a tendency to disregard normal rules as a result of love what took place later may be reported earlier inasmuch as the day the israelites accepted the torah was the day that gd had been waiting for ever since he created the universe it is understandable that the torah reported the arrival of this day at the earliest possible moment this explains the emphasis of the torah on       on this day they arrived the arrival describes the meeting of the lover and his beloved heaven and earth both rejoiced that this day had arrived at last\n",
      "\n",
      "\n"
     ]
    },
    {
     "data": {
      "text/markdown": [
       "**Processing kings comments...**"
      ],
      "text/plain": [
       "<IPython.core.display.Markdown object>"
      ]
     },
     "metadata": {},
     "output_type": "display_data"
    },
    {
     "name": "stdout",
     "output_type": "stream",
     "text": [
      "Test accuracy is 0.935\n",
      "\n",
      "307\n",
      "kohelet sought to find out words of delight  ecclesiastes   which indicates that he sought to find the fiftieth gate but failed to do so kohelet king solomon sought to be like moses but a divine voice issued forth and said to him   and that which was written uprightly even words of truth  ecclesiastes   this is referring to the words of the torah  and what is written there  and there has not arisen a prophet since in israel like moses whom the lord knew face to face  deuteronomy\n",
      "\n",
      "402\n",
      "kohelet sought to find out words of delight  ecclesiastes   which indicates that he sought to find the fiftieth gate but failed to do so kohelet king solomon sought to be like moses but a divine voice issued forth and said to him   and that which was written uprightly even words of truth  ecclesiastes   this is referring to the words of the torah  and what is written there  and there has not arisen a prophet since in israel like moses whom the lord knew face to face  deuteronomy\n",
      "\n",
      "537\n",
      "kohelet sought to find out words of delight  ecclesiastes   which indicates that he sought to find the fiftieth gate but failed to do so kohelet king solomon sought to be like moses but a divine voice issued forth and said to him   and that which was written uprightly even words of truth  ecclesiastes   this is referring to the words of the torah  and what is written there  and there has not arisen a prophet since in israel like moses whom the lord knew face to face  deuteronomy\n",
      "\n",
      "\n"
     ]
    },
    {
     "data": {
      "text/markdown": [
       "**Processing hilchot-chol-hamoed comments...**"
      ],
      "text/plain": [
       "<IPython.core.display.Markdown object>"
      ]
     },
     "metadata": {},
     "output_type": "display_data"
    },
    {
     "name": "stdout",
     "output_type": "stream",
     "text": [
      "Test accuracy is 0.9616666666666667\n",
      "\n",
      "83\n",
      "come and hear the resolution to the dilemma from another source from another source rabbi meir says  with regard to any labor that is for the purpose of the festival\n",
      "\n",
      "277\n",
      "some say a slightly different version of this story in which ameimar said to rav geviha  what is the meaning of ketura if it means tying ornamental knots by hand this is the act of a craftsman which is prohibited if it is referring to burning incense this too is prohibited as he produces a new scent rav ashi said  i said this halakha to rav geviha and i said it in the name of a great man rava that actually it is referring to burning incense which is permitted just as it is permitted to place meat on coals for roasting\n",
      "\n",
      "436\n",
      "some say a slightly different version of this story in which ameimar said to rav geviha  what is the meaning of ketura if it means tying ornamental knots by hand this is the act of a craftsman which is prohibited if it is referring to burning incense this too is prohibited as he produces a new scent rav ashi said  i said this halakha to rav geviha and i said it in the name of a great man rava that actually it is referring to burning incense which is permitted just as it is permitted to place meat on coals for roasting\n",
      "\n",
      "\n"
     ]
    },
    {
     "data": {
      "text/markdown": [
       "**Processing laws-of-judges-and-courts comments...**"
      ],
      "text/plain": [
       "<IPython.core.display.Markdown object>"
      ]
     },
     "metadata": {},
     "output_type": "display_data"
    },
    {
     "name": "stdout",
     "output_type": "stream",
     "text": [
      "Test accuracy is 0.9233333333333333\n",
      "\n",
      "9\n",
      "the gemara suggests  come and hear an alternative proof for rav na man s opinion it is stated in a baraita   with regard to an ox that climbed on the back of another ox to kill it and the owner of the ox on the bottom came and removed his ox and the ox on top consequently fell and died the owner of the ox on the bottom is exempt from paying for the dead ox what is this ruling not stated with regard to a case where the attacker is a forewarned ox where there is no loss to the owner of the bottom ox since even if the owner of the ox on the bottom does not remove his ox he will eventually receive full restitution from the owner of the belligerent ox yet he is exempt from paying restitution for causing the death of the belligerent ox evidently he had the right to take justice into his own hands\n",
      "\n",
      "29\n",
      "mishna  if one litigant says to the other  my father is trusted to adjudicate for me or  your father is trusted to adjudicate for me or  three cattle herders who are not proficient in halakha are trusted to adjudicate for me all of whom are disqualified from serving as judges rabbi meir says  the one who made the offer can retract it and the rabbis say  he cannot retract it but must accept their verdict\n",
      "\n",
      "60\n",
      "rather what is different about damage to an ox caused by an ox and damage to an ox caused by a man so that babylonian judges can rule in these cases even though they are not ordained the difference is that we the judges of babylonia perform the agency of the judges of eretz yisrael just as we do with regard to the halakhot of admissions and loans as we are permitted to rule in those cases as agents of the ordained judges in eretz yisrael if so then in cases of damage caused to a person by a person and cases of damage caused to a person by an ox as well why not say that the judges of babylonia perform the agency of the judges of eretz yisrael just as it is with regard to the halakhot of admissions and loans\n",
      "\n",
      "\n"
     ]
    },
    {
     "data": {
      "text/markdown": [
       "**Processing laws-of-animal-sacrifices comments...**"
      ],
      "text/plain": [
       "<IPython.core.display.Markdown object>"
      ]
     },
     "metadata": {},
     "output_type": "display_data"
    },
    {
     "name": "stdout",
     "output_type": "stream",
     "text": [
      "Test accuracy is 0.9333333333333333\n",
      "\n",
      "18\n",
      "mishna  all cattle sheep and goats enter the pen to be tithed except for an animal crossbred from diverse kinds e g a hybrid of a goat and a sheep  a tereifa   an animal born by caesarean section  one whose time has not yet arrived i e that is younger than eight days old which is when animals become eligible for sacrifice  and an orphan and what is an orphan it is any animal whose mother died or was slaughtered while giving birth to it and thereafter completed giving birth to it rabbi yehoshua says  even if its mother was slaughtered but its hide exists at birth i e if the mother s hide is present after the birth this is not an orphan\n",
      "\n",
      "20\n",
      "rav adda son of rav yitz ak raises an objection to rav adda bar ahava s explanation from a baraita   there is a halakha that applies to birds that does not apply to meal offerings and there is a halakha that applies to meal offerings that does not apply to birds the baraita elaborates  there is a halakha that applies to birds that does not apply to meal offerings as birds may be brought as a gift offering on behalf of two people i e two people may take a vow to bring a single bird offering jointly but with regard to meal offerings it is written   and when one brings a meal offering  leviticus   indicating that only individuals may vow to bring a meal offering\n",
      "\n",
      "24\n",
      "rav adda son of rav yitz ak raises an objection to rav adda bar ahava s explanation from a baraita   there is a halakha that applies to birds that does not apply to meal offerings and there is a halakha that applies to meal offerings that does not apply to birds the baraita elaborates  there is a halakha that applies to birds that does not apply to meal offerings as birds may be brought as a gift offering on behalf of two people i e two people may take a vow to bring a single bird offering jointly but with regard to meal offerings it is written   and when one brings a meal offering  leviticus   indicating that only individuals may vow to bring a meal offering\n",
      "\n",
      "\n"
     ]
    },
    {
     "data": {
      "text/markdown": [
       "**Processing financial-ramifications-of-marriage comments...**"
      ],
      "text/plain": [
       "<IPython.core.display.Markdown object>"
      ]
     },
     "metadata": {},
     "output_type": "display_data"
    },
    {
     "name": "stdout",
     "output_type": "stream",
     "text": [
      "Test accuracy is 0.96\n",
      "\n",
      "3\n",
      "the gemara answers  the gemara answers  but he already tried to lead her astray and she was not led astray in other words he already remarried her after the divorce and she still refused him which proves that he does not have sufficient influence to lead her astray\n",
      "\n",
      "8\n",
      "gemara  the mishna is not in accordance with the opinion of this tanna as it is taught in the tosefta   that rabbi yosei son of rabbi yehuda said  admon and the rabbis did not disagree with regard to one who promises and apportions money for his son in law as a dowry and subsequently went bankrupt that the betrothed woman can say  my father apportioned money for me  what can i do\n",
      "\n",
      "19\n",
      "a widow who came to the court to sue for her board payments  they sell  property from the estate  without prior announcement and give her board payments and similarly she may sell by the order of an expert court but also by the order of a  lower court of  three reliable  men  without prior announcement and similarly if she sold it herself for equal value her sale stands  but there are those who disagree with this\n",
      "\n",
      "\n"
     ]
    },
    {
     "data": {
      "text/markdown": [
       "**Processing idolatry comments...**"
      ],
      "text/plain": [
       "<IPython.core.display.Markdown object>"
      ]
     },
     "metadata": {},
     "output_type": "display_data"
    },
    {
     "name": "stdout",
     "output_type": "stream",
     "text": [
      "Test accuracy is 0.935\n",
      "\n",
      "77\n",
      "the gemara relates  a certain magus said to ameimar  from your midpoint and up is in the domain of hurmiz the god of good who created the significant and important parts of the body and from your midpoint and down is in the domain of ahurmiz the god of bad ameimar said to him  if so how does ahurmiz allow hurmiz to urinate in his territory a person drinks with his mouth which is in his upper half and urinates from below\n",
      "\n",
      "199\n",
      "rather abaye s statement should be understood as follows  one mention of the prohibition is for an idol for which its typical manner of worship is similar to bowing in that the idol is worshipped in an honorable manner but bowing is not its typical manner of worship as it is not typically worshipped by bowing and one mention is a prohibition against bowing to an idol even if it is not similar to its standard manner of worship at all and one mention is to divide idol worship into categories\n",
      "\n",
      "294\n",
      "and it was that on the day that moses finished erecting the mishkan  bamidbar   this is what is written  king shlomo made himself a palanquin  song of songs   this is the world which is made like a type of canopy  king shlomo  is the holy one who made peace between fire and water blending them together and making the firmament from them as it says  and gd called the firmament heavens  because it is fire and water  of the trees of lebanon   means that it the world was constructed from the place of the holy temple r  yosi bar halifta said why is it called foundation stone because from it the world was begun this is what is written  from zion the sum of beauty god appeared   tehillim\n",
      "\n",
      "\n"
     ]
    },
    {
     "data": {
      "text/markdown": [
       "**Processing laws-of-transferring-between-domains comments...**"
      ],
      "text/plain": [
       "<IPython.core.display.Markdown object>"
      ]
     },
     "metadata": {},
     "output_type": "display_data"
    },
    {
     "name": "stdout",
     "output_type": "stream",
     "text": [
      "Test accuracy is 0.965\n",
      "\n",
      "2\n",
      "rava added  i will state my reason and i will state their reason i will state my reason  what is the reason for a cross beam to function as a conspicuous marker that separates the alleyway from the public domain so that the residents of the alleyway should know the boundary within which carrying is permitted and when placed diagonally the cross beam is not sufficiently conspicuous those who see people carrying in the section extending past the short side will think that one is generally permitted to carry in a public domain\n",
      "\n",
      "17\n",
      "ravina said a different explanation  with regard to a sukka since its mitzva is by torah law the sages were stringent however with regard to an alleyway since the entire requirement to place a cross beam across the entrance in order to permit carrying in an alleyway is only by rabbinic law the sages were not stringent\n",
      "\n",
      "33\n",
      "in the case of  one reading a scroll in a karmelit and some of the scroll unraveled into the public domain and some of it was  still  in his hand  if it unraveled outside of four ells  in the public domain  he turns it over on the writing face down and leaves it  this is  a decree lest all of it slip from his hand and he move it four ells  but if  it unraveled within four ells he rolls it towards him likewise if it unravels into a private domain he rolls it towards him  if  he was reading in a private domain and it unraveled into a public domain  if it came to rest there he turns it over on the writing but if it did not rest but was rather suspended in the airspace of the public domain and did not reach the ground he rolls it towards him\n",
      "\n",
      "\n",
      "CPU times: user 138 ms, sys: 61.1 ms, total: 200 ms\n",
      "Wall time: 1.72 s\n"
     ]
    }
   ],
   "source": [
    "\n",
    "%%time\n",
    "\n",
    "# Using pipeline for applying logistic regression and one vs rest classifier\n",
    "LogReg_pipeline = Pipeline([\n",
    "                ('clf', OneVsRestClassifier(LogisticRegression(solver='sag'), n_jobs=-1)),\n",
    "            ])\n",
    "\n",
    "for category in categories:\n",
    "    printmd('**Processing {} comments...**'.format(category))\n",
    "    \n",
    "    # Training logistic regression model on train data\n",
    "    LogReg_pipeline.fit(x_train, train[category])\n",
    "    \n",
    "    # calculating test accuracy\n",
    "    prediction = LogReg_pipeline.predict(x_test)\n",
    "    print('Test accuracy is {}'.format(accuracy_score(test[category], prediction)))\n",
    "    \n",
    "    topic_indices = [i for i, e in enumerate(prediction) if e != 0]\n",
    "\n",
    "    for i in topic_indices[:3]:\n",
    "        print()\n",
    "        print(i)\n",
    "    #     print(data_raw.loc[[i]])\n",
    "        print(test_text.iloc[i])\n",
    "    \n",
    "    print(\"\\n\")"
   ]
  },
  {
   "cell_type": "code",
   "execution_count": 309,
   "metadata": {},
   "outputs": [
    {
     "data": {
      "text/plain": [
       "'laws-of-transferring-between-domains'"
      ]
     },
     "execution_count": 309,
     "metadata": {},
     "output_type": "execute_result"
    }
   ],
   "source": [
    "category"
   ]
  },
  {
   "cell_type": "code",
   "execution_count": 310,
   "metadata": {},
   "outputs": [
    {
     "data": {
      "text/plain": [
       "array([0, 0, 1, 0, 0, 0, 0, 0, 0, 0, 0, 0, 0, 0, 0, 0, 0, 0, 0, 0, 0, 0,\n",
       "       0, 0, 0, 0, 0, 0, 0, 0, 1, 0, 0, 0, 0, 0, 0, 0, 0, 1, 0, 0, 0, 0,\n",
       "       1, 0, 0, 0, 0, 0])"
      ]
     },
     "execution_count": 310,
     "metadata": {},
     "output_type": "execute_result"
    }
   ],
   "source": [
    "prediction = LogReg_pipeline.predict(x_test)\n",
    "# print(type(prediction[:5]))\n",
    "prediction[:50]\n",
    "# prediction"
   ]
  },
  {
   "cell_type": "code",
   "execution_count": 311,
   "metadata": {},
   "outputs": [
    {
     "data": {
      "text/plain": [
       "numpy.ndarray"
      ]
     },
     "execution_count": 311,
     "metadata": {},
     "output_type": "execute_result"
    }
   ],
   "source": [
    "type(prediction)"
   ]
  },
  {
   "cell_type": "code",
   "execution_count": 312,
   "metadata": {},
   "outputs": [
    {
     "data": {
      "text/plain": [
       "(array([  2,  30,  39,  44,  59,  63,  78,  94, 100, 111, 122, 148, 153,\n",
       "        160, 165, 171, 188, 202, 213, 243, 249, 253, 271, 276, 285, 301,\n",
       "        314, 317, 325, 326, 334, 350, 372, 382, 389, 390, 391, 394, 399,\n",
       "        406, 415, 426, 435, 436, 437, 451, 454, 455, 473, 480, 481, 495,\n",
       "        498, 518, 519, 525, 533, 543, 567]),)"
      ]
     },
     "execution_count": 312,
     "metadata": {},
     "output_type": "execute_result"
    }
   ],
   "source": [
    "from numpy import nonzero\n",
    "# domains = list(nonzero(prediction == 1))\n",
    "domains = nonzero(prediction == 1)\n",
    "# domains = (prediction == 1)\n",
    "domains"
   ]
  },
  {
   "cell_type": "code",
   "execution_count": 313,
   "metadata": {},
   "outputs": [],
   "source": [
    "\n",
    "domain_indices = [i for i, e in enumerate(prediction) if e != 0]\n"
   ]
  },
  {
   "cell_type": "code",
   "execution_count": 314,
   "metadata": {},
   "outputs": [
    {
     "data": {
      "text/plain": [
       "list"
      ]
     },
     "execution_count": 314,
     "metadata": {},
     "output_type": "execute_result"
    }
   ],
   "source": [
    "type(domain_indices)"
   ]
  },
  {
   "cell_type": "code",
   "execution_count": 315,
   "metadata": {},
   "outputs": [
    {
     "data": {
      "text/plain": [
       "pandas.core.series.Series"
      ]
     },
     "execution_count": 315,
     "metadata": {},
     "output_type": "execute_result"
    }
   ],
   "source": [
    "type(test_text)"
   ]
  },
  {
   "cell_type": "code",
   "execution_count": 316,
   "metadata": {},
   "outputs": [
    {
     "data": {
      "text/plain": [
       "'day mose finish erect mishkan bamidbar written king shlomo made palanquin song song world made like type canopi king shlomo holi made peac fire water blend togeth make firmament say gd call firmament heaven fire water tree lebanon mean world construct place holi templ r yosi bar halifta said call foundat stone world begun written zion sum beauti god appear tehillim'"
      ]
     },
     "execution_count": 316,
     "metadata": {},
     "output_type": "execute_result"
    }
   ],
   "source": [
    "test_text.iloc[3]"
   ]
  },
  {
   "cell_type": "code",
   "execution_count": 317,
   "metadata": {},
   "outputs": [
    {
     "data": {
      "text/html": [
       "<div>\n",
       "<style scoped>\n",
       "    .dataframe tbody tr th:only-of-type {\n",
       "        vertical-align: middle;\n",
       "    }\n",
       "\n",
       "    .dataframe tbody tr th {\n",
       "        vertical-align: top;\n",
       "    }\n",
       "\n",
       "    .dataframe thead th {\n",
       "        text-align: right;\n",
       "    }\n",
       "</style>\n",
       "<table border=\"1\" class=\"dataframe\">\n",
       "  <thead>\n",
       "    <tr style=\"text-align: right;\">\n",
       "      <th></th>\n",
       "      <th>id</th>\n",
       "      <th>comment_text</th>\n",
       "      <th>prayer</th>\n",
       "      <th>procedures-for-judges-and-conduct-towards-them</th>\n",
       "      <th>learning</th>\n",
       "      <th>kings</th>\n",
       "      <th>hilchot-chol-hamoed</th>\n",
       "      <th>laws-of-judges-and-courts</th>\n",
       "      <th>laws-of-animal-sacrifices</th>\n",
       "      <th>financial-ramifications-of-marriage</th>\n",
       "      <th>idolatry</th>\n",
       "      <th>laws-of-transferring-between-domains</th>\n",
       "    </tr>\n",
       "  </thead>\n",
       "  <tbody>\n",
       "    <tr>\n",
       "      <th>21</th>\n",
       "      <td>Menachot 5a:6</td>\n",
       "      <td>&lt;b&gt;Rav Adda, son of Rav Yitzḥak, raises an objection&lt;/b&gt; to Rav Adda bar Ahava’s explanation fro...</td>\n",
       "      <td>0</td>\n",
       "      <td>0</td>\n",
       "      <td>0</td>\n",
       "      <td>0</td>\n",
       "      <td>0</td>\n",
       "      <td>0</td>\n",
       "      <td>1</td>\n",
       "      <td>0</td>\n",
       "      <td>0</td>\n",
       "      <td>0</td>\n",
       "    </tr>\n",
       "    <tr>\n",
       "      <th>48</th>\n",
       "      <td>Gittin 37b:5</td>\n",
       "      <td>§ &lt;b&gt;Rav Yehuda says&lt;/b&gt; that &lt;b&gt;Rav Naḥman says: A person is deemed credible to say: I had a &lt;i...</td>\n",
       "      <td>0</td>\n",
       "      <td>1</td>\n",
       "      <td>0</td>\n",
       "      <td>0</td>\n",
       "      <td>0</td>\n",
       "      <td>0</td>\n",
       "      <td>0</td>\n",
       "      <td>0</td>\n",
       "      <td>0</td>\n",
       "      <td>0</td>\n",
       "    </tr>\n",
       "    <tr>\n",
       "      <th>54</th>\n",
       "      <td>Horayot 13a:10</td>\n",
       "      <td>&lt;b&gt;A Torah scholar precedes the king of Israel,&lt;/b&gt; because in the case of &lt;b&gt;a Sage who dies, w...</td>\n",
       "      <td>0</td>\n",
       "      <td>0</td>\n",
       "      <td>0</td>\n",
       "      <td>1</td>\n",
       "      <td>0</td>\n",
       "      <td>0</td>\n",
       "      <td>0</td>\n",
       "      <td>0</td>\n",
       "      <td>0</td>\n",
       "      <td>0</td>\n",
       "    </tr>\n",
       "    <tr>\n",
       "      <th>65</th>\n",
       "      <td>Sotah 41a:16</td>\n",
       "      <td>&lt;b&gt;The synagogue attendant takes a Torah scroll and gives it to the head of the synagogue&lt;/b&gt; th...</td>\n",
       "      <td>0</td>\n",
       "      <td>0</td>\n",
       "      <td>0</td>\n",
       "      <td>1</td>\n",
       "      <td>0</td>\n",
       "      <td>0</td>\n",
       "      <td>0</td>\n",
       "      <td>0</td>\n",
       "      <td>0</td>\n",
       "      <td>0</td>\n",
       "    </tr>\n",
       "    <tr>\n",
       "      <th>69</th>\n",
       "      <td>Rashi on Numbers 15:22:1</td>\n",
       "      <td>וכי תשגו ולא תעשו AND IF YE HAVE ERRED, AND NOT DONE [ALL THESE COMMANDMENTS WHICH THE LORD HATH...</td>\n",
       "      <td>0</td>\n",
       "      <td>0</td>\n",
       "      <td>0</td>\n",
       "      <td>0</td>\n",
       "      <td>0</td>\n",
       "      <td>0</td>\n",
       "      <td>0</td>\n",
       "      <td>0</td>\n",
       "      <td>1</td>\n",
       "      <td>0</td>\n",
       "    </tr>\n",
       "  </tbody>\n",
       "</table>\n",
       "</div>"
      ],
      "text/plain": [
       "                          id  \\\n",
       "21             Menachot 5a:6   \n",
       "48              Gittin 37b:5   \n",
       "54            Horayot 13a:10   \n",
       "65              Sotah 41a:16   \n",
       "69  Rashi on Numbers 15:22:1   \n",
       "\n",
       "                                                                                           comment_text  \\\n",
       "21  <b>Rav Adda, son of Rav Yitzḥak, raises an objection</b> to Rav Adda bar Ahava’s explanation fro...   \n",
       "48  § <b>Rav Yehuda says</b> that <b>Rav Naḥman says: A person is deemed credible to say: I had a <i...   \n",
       "54  <b>A Torah scholar precedes the king of Israel,</b> because in the case of <b>a Sage who dies, w...   \n",
       "65  <b>The synagogue attendant takes a Torah scroll and gives it to the head of the synagogue</b> th...   \n",
       "69  וכי תשגו ולא תעשו AND IF YE HAVE ERRED, AND NOT DONE [ALL THESE COMMANDMENTS WHICH THE LORD HATH...   \n",
       "\n",
       "    prayer  procedures-for-judges-and-conduct-towards-them  learning  kings  \\\n",
       "21       0                                               0         0      0   \n",
       "48       0                                               1         0      0   \n",
       "54       0                                               0         0      1   \n",
       "65       0                                               0         0      1   \n",
       "69       0                                               0         0      0   \n",
       "\n",
       "    hilchot-chol-hamoed  laws-of-judges-and-courts  laws-of-animal-sacrifices  \\\n",
       "21                    0                          0                          1   \n",
       "48                    0                          0                          0   \n",
       "54                    0                          0                          0   \n",
       "65                    0                          0                          0   \n",
       "69                    0                          0                          0   \n",
       "\n",
       "    financial-ramifications-of-marriage  idolatry  \\\n",
       "21                                    0         0   \n",
       "48                                    0         0   \n",
       "54                                    0         0   \n",
       "65                                    0         0   \n",
       "69                                    0         1   \n",
       "\n",
       "    laws-of-transferring-between-domains  \n",
       "21                                     0  \n",
       "48                                     0  \n",
       "54                                     0  \n",
       "65                                     0  \n",
       "69                                     0  "
      ]
     },
     "execution_count": 317,
     "metadata": {},
     "output_type": "execute_result"
    }
   ],
   "source": [
    "data_raw.head()"
   ]
  },
  {
   "cell_type": "code",
   "execution_count": null,
   "metadata": {},
   "outputs": [],
   "source": [
    "domain_indices = [i for i, e in enumerate(prediction) if e != 0]\n",
    "\n",
    "for i in domain_indices[:10]:\n",
    "    print()\n",
    "    print(i)\n",
    "#     print(data_raw.loc[[i]])\n",
    "    print(test_text.iloc[i])"
   ]
  },
  {
   "cell_type": "code",
   "execution_count": 318,
   "metadata": {},
   "outputs": [
    {
     "name": "stdout",
     "output_type": "stream",
     "text": [
      "\n",
      "2\n"
     ]
    },
    {
     "ename": "KeyError",
     "evalue": "\"None of [Int64Index([2], dtype='int64')] are in the [index]\"",
     "output_type": "error",
     "traceback": [
      "\u001b[0;31m---------------------------------------------------------------------------\u001b[0m",
      "\u001b[0;31mKeyError\u001b[0m                                  Traceback (most recent call last)",
      "\u001b[0;32m<ipython-input-318-5ccec25dd7bb>\u001b[0m in \u001b[0;36m<module>\u001b[0;34m\u001b[0m\n\u001b[1;32m      2\u001b[0m     \u001b[0mprint\u001b[0m\u001b[0;34m(\u001b[0m\u001b[0;34m)\u001b[0m\u001b[0;34m\u001b[0m\u001b[0;34m\u001b[0m\u001b[0m\n\u001b[1;32m      3\u001b[0m     \u001b[0mprint\u001b[0m\u001b[0;34m(\u001b[0m\u001b[0mi\u001b[0m\u001b[0;34m)\u001b[0m\u001b[0;34m\u001b[0m\u001b[0;34m\u001b[0m\u001b[0m\n\u001b[0;32m----> 4\u001b[0;31m     \u001b[0mprint\u001b[0m\u001b[0;34m(\u001b[0m\u001b[0mdata_raw\u001b[0m\u001b[0;34m.\u001b[0m\u001b[0mloc\u001b[0m\u001b[0;34m[\u001b[0m\u001b[0;34m[\u001b[0m\u001b[0mi\u001b[0m\u001b[0;34m]\u001b[0m\u001b[0;34m]\u001b[0m\u001b[0;34m)\u001b[0m\u001b[0;34m\u001b[0m\u001b[0;34m\u001b[0m\u001b[0m\n\u001b[0m\u001b[1;32m      5\u001b[0m \u001b[0;31m#     print(test_text.iloc[i])\u001b[0m\u001b[0;34m\u001b[0m\u001b[0;34m\u001b[0m\u001b[0;34m\u001b[0m\u001b[0m\n",
      "\u001b[0;32m/usr/local/lib/python3.7/site-packages/pandas/core/indexing.py\u001b[0m in \u001b[0;36m__getitem__\u001b[0;34m(self, key)\u001b[0m\n\u001b[1;32m   1766\u001b[0m \u001b[0;34m\u001b[0m\u001b[0m\n\u001b[1;32m   1767\u001b[0m             \u001b[0mmaybe_callable\u001b[0m \u001b[0;34m=\u001b[0m \u001b[0mcom\u001b[0m\u001b[0;34m.\u001b[0m\u001b[0mapply_if_callable\u001b[0m\u001b[0;34m(\u001b[0m\u001b[0mkey\u001b[0m\u001b[0;34m,\u001b[0m \u001b[0mself\u001b[0m\u001b[0;34m.\u001b[0m\u001b[0mobj\u001b[0m\u001b[0;34m)\u001b[0m\u001b[0;34m\u001b[0m\u001b[0;34m\u001b[0m\u001b[0m\n\u001b[0;32m-> 1768\u001b[0;31m             \u001b[0;32mreturn\u001b[0m \u001b[0mself\u001b[0m\u001b[0;34m.\u001b[0m\u001b[0m_getitem_axis\u001b[0m\u001b[0;34m(\u001b[0m\u001b[0mmaybe_callable\u001b[0m\u001b[0;34m,\u001b[0m \u001b[0maxis\u001b[0m\u001b[0;34m=\u001b[0m\u001b[0maxis\u001b[0m\u001b[0;34m)\u001b[0m\u001b[0;34m\u001b[0m\u001b[0;34m\u001b[0m\u001b[0m\n\u001b[0m\u001b[1;32m   1769\u001b[0m \u001b[0;34m\u001b[0m\u001b[0m\n\u001b[1;32m   1770\u001b[0m     \u001b[0;32mdef\u001b[0m \u001b[0m_is_scalar_access\u001b[0m\u001b[0;34m(\u001b[0m\u001b[0mself\u001b[0m\u001b[0;34m,\u001b[0m \u001b[0mkey\u001b[0m\u001b[0;34m:\u001b[0m \u001b[0mTuple\u001b[0m\u001b[0;34m)\u001b[0m\u001b[0;34m:\u001b[0m\u001b[0;34m\u001b[0m\u001b[0;34m\u001b[0m\u001b[0m\n",
      "\u001b[0;32m/usr/local/lib/python3.7/site-packages/pandas/core/indexing.py\u001b[0m in \u001b[0;36m_getitem_axis\u001b[0;34m(self, key, axis)\u001b[0m\n\u001b[1;32m   1952\u001b[0m                     \u001b[0;32mraise\u001b[0m \u001b[0mValueError\u001b[0m\u001b[0;34m(\u001b[0m\u001b[0;34m\"Cannot index with multidimensional key\"\u001b[0m\u001b[0;34m)\u001b[0m\u001b[0;34m\u001b[0m\u001b[0;34m\u001b[0m\u001b[0m\n\u001b[1;32m   1953\u001b[0m \u001b[0;34m\u001b[0m\u001b[0m\n\u001b[0;32m-> 1954\u001b[0;31m                 \u001b[0;32mreturn\u001b[0m \u001b[0mself\u001b[0m\u001b[0;34m.\u001b[0m\u001b[0m_getitem_iterable\u001b[0m\u001b[0;34m(\u001b[0m\u001b[0mkey\u001b[0m\u001b[0;34m,\u001b[0m \u001b[0maxis\u001b[0m\u001b[0;34m=\u001b[0m\u001b[0maxis\u001b[0m\u001b[0;34m)\u001b[0m\u001b[0;34m\u001b[0m\u001b[0;34m\u001b[0m\u001b[0m\n\u001b[0m\u001b[1;32m   1955\u001b[0m \u001b[0;34m\u001b[0m\u001b[0m\n\u001b[1;32m   1956\u001b[0m             \u001b[0;31m# nested tuple slicing\u001b[0m\u001b[0;34m\u001b[0m\u001b[0;34m\u001b[0m\u001b[0;34m\u001b[0m\u001b[0m\n",
      "\u001b[0;32m/usr/local/lib/python3.7/site-packages/pandas/core/indexing.py\u001b[0m in \u001b[0;36m_getitem_iterable\u001b[0;34m(self, key, axis)\u001b[0m\n\u001b[1;32m   1593\u001b[0m         \u001b[0;32melse\u001b[0m\u001b[0;34m:\u001b[0m\u001b[0;34m\u001b[0m\u001b[0;34m\u001b[0m\u001b[0m\n\u001b[1;32m   1594\u001b[0m             \u001b[0;31m# A collection of keys\u001b[0m\u001b[0;34m\u001b[0m\u001b[0;34m\u001b[0m\u001b[0;34m\u001b[0m\u001b[0m\n\u001b[0;32m-> 1595\u001b[0;31m             \u001b[0mkeyarr\u001b[0m\u001b[0;34m,\u001b[0m \u001b[0mindexer\u001b[0m \u001b[0;34m=\u001b[0m \u001b[0mself\u001b[0m\u001b[0;34m.\u001b[0m\u001b[0m_get_listlike_indexer\u001b[0m\u001b[0;34m(\u001b[0m\u001b[0mkey\u001b[0m\u001b[0;34m,\u001b[0m \u001b[0maxis\u001b[0m\u001b[0;34m,\u001b[0m \u001b[0mraise_missing\u001b[0m\u001b[0;34m=\u001b[0m\u001b[0;32mFalse\u001b[0m\u001b[0;34m)\u001b[0m\u001b[0;34m\u001b[0m\u001b[0;34m\u001b[0m\u001b[0m\n\u001b[0m\u001b[1;32m   1596\u001b[0m             return self.obj._reindex_with_indexers(\n\u001b[1;32m   1597\u001b[0m                 \u001b[0;34m{\u001b[0m\u001b[0maxis\u001b[0m\u001b[0;34m:\u001b[0m \u001b[0;34m[\u001b[0m\u001b[0mkeyarr\u001b[0m\u001b[0;34m,\u001b[0m \u001b[0mindexer\u001b[0m\u001b[0;34m]\u001b[0m\u001b[0;34m}\u001b[0m\u001b[0;34m,\u001b[0m \u001b[0mcopy\u001b[0m\u001b[0;34m=\u001b[0m\u001b[0;32mTrue\u001b[0m\u001b[0;34m,\u001b[0m \u001b[0mallow_dups\u001b[0m\u001b[0;34m=\u001b[0m\u001b[0;32mTrue\u001b[0m\u001b[0;34m\u001b[0m\u001b[0;34m\u001b[0m\u001b[0m\n",
      "\u001b[0;32m/usr/local/lib/python3.7/site-packages/pandas/core/indexing.py\u001b[0m in \u001b[0;36m_get_listlike_indexer\u001b[0;34m(self, key, axis, raise_missing)\u001b[0m\n\u001b[1;32m   1551\u001b[0m \u001b[0;34m\u001b[0m\u001b[0m\n\u001b[1;32m   1552\u001b[0m         self._validate_read_indexer(\n\u001b[0;32m-> 1553\u001b[0;31m             \u001b[0mkeyarr\u001b[0m\u001b[0;34m,\u001b[0m \u001b[0mindexer\u001b[0m\u001b[0;34m,\u001b[0m \u001b[0mo\u001b[0m\u001b[0;34m.\u001b[0m\u001b[0m_get_axis_number\u001b[0m\u001b[0;34m(\u001b[0m\u001b[0maxis\u001b[0m\u001b[0;34m)\u001b[0m\u001b[0;34m,\u001b[0m \u001b[0mraise_missing\u001b[0m\u001b[0;34m=\u001b[0m\u001b[0mraise_missing\u001b[0m\u001b[0;34m\u001b[0m\u001b[0;34m\u001b[0m\u001b[0m\n\u001b[0m\u001b[1;32m   1554\u001b[0m         )\n\u001b[1;32m   1555\u001b[0m         \u001b[0;32mreturn\u001b[0m \u001b[0mkeyarr\u001b[0m\u001b[0;34m,\u001b[0m \u001b[0mindexer\u001b[0m\u001b[0;34m\u001b[0m\u001b[0;34m\u001b[0m\u001b[0m\n",
      "\u001b[0;32m/usr/local/lib/python3.7/site-packages/pandas/core/indexing.py\u001b[0m in \u001b[0;36m_validate_read_indexer\u001b[0;34m(self, key, indexer, axis, raise_missing)\u001b[0m\n\u001b[1;32m   1638\u001b[0m             \u001b[0;32mif\u001b[0m \u001b[0mmissing\u001b[0m \u001b[0;34m==\u001b[0m \u001b[0mlen\u001b[0m\u001b[0;34m(\u001b[0m\u001b[0mindexer\u001b[0m\u001b[0;34m)\u001b[0m\u001b[0;34m:\u001b[0m\u001b[0;34m\u001b[0m\u001b[0;34m\u001b[0m\u001b[0m\n\u001b[1;32m   1639\u001b[0m                 \u001b[0maxis_name\u001b[0m \u001b[0;34m=\u001b[0m \u001b[0mself\u001b[0m\u001b[0;34m.\u001b[0m\u001b[0mobj\u001b[0m\u001b[0;34m.\u001b[0m\u001b[0m_get_axis_name\u001b[0m\u001b[0;34m(\u001b[0m\u001b[0maxis\u001b[0m\u001b[0;34m)\u001b[0m\u001b[0;34m\u001b[0m\u001b[0;34m\u001b[0m\u001b[0m\n\u001b[0;32m-> 1640\u001b[0;31m                 \u001b[0;32mraise\u001b[0m \u001b[0mKeyError\u001b[0m\u001b[0;34m(\u001b[0m\u001b[0;34mf\"None of [{key}] are in the [{axis_name}]\"\u001b[0m\u001b[0;34m)\u001b[0m\u001b[0;34m\u001b[0m\u001b[0;34m\u001b[0m\u001b[0m\n\u001b[0m\u001b[1;32m   1641\u001b[0m \u001b[0;34m\u001b[0m\u001b[0m\n\u001b[1;32m   1642\u001b[0m             \u001b[0;31m# We (temporarily) allow for some missing keys with .loc, except in\u001b[0m\u001b[0;34m\u001b[0m\u001b[0;34m\u001b[0m\u001b[0;34m\u001b[0m\u001b[0m\n",
      "\u001b[0;31mKeyError\u001b[0m: \"None of [Int64Index([2], dtype='int64')] are in the [index]\""
     ]
    }
   ],
   "source": [
    "for i in domain_indices[:10]:\n",
    "    print()\n",
    "    print(i)\n",
    "    print(data_raw.loc[[i]])\n",
    "#     print(test_text.iloc[i])"
   ]
  },
  {
   "cell_type": "code",
   "execution_count": null,
   "metadata": {},
   "outputs": [],
   "source": []
  },
  {
   "cell_type": "code",
   "execution_count": 255,
   "metadata": {},
   "outputs": [
    {
     "name": "stdout",
     "output_type": "stream",
     "text": [
      "3885    say prohibit flame gone flame new differ came possess jew flame concret static object rather con...\n",
      "4255    case well around made board corner board connect corner sure partit even though breach larger st...\n",
      "2337    gemara rais object base plant whose use prohibit sabbat year ad bulb ornithogalum wormwood borit...\n",
      "803     gemara reject previous explan rather measur handbreadth refer channel bank channel state regard ...\n",
      "2337    gemara rais object base plant whose use prohibit sabbat year ad bulb ornithogalum wormwood borit...\n",
      "3572    domain e carri half dri fig public domain time liabl domain e carri item separ public domain exempt\n",
      "4466    gemara answer practic differ regard tini amount tini amount taught baraita rabbi yehuda say tini...\n",
      "4084    rabbi yosei disagre father opinion regard matter rabbi yehuda hold cross beam render alleyway fi...\n",
      "1469    sinc disput rabbi meir rabbi yehuda regard legal status carri object atyp manner mention gemara ...\n",
      "4976    law reach pipe public domain drink person stand public domain put hand gutter long pipe attach p...\n",
      "3720    case carri load head load heavi full bag crate closet similar put head hold hand liabl way carri...\n",
      "1441    case read scroll karmelit scroll unravel public domain still hand unravel outsid ell public doma...\n",
      "2797    gemara reject argument basi comparison open cubit wide render prohibit carri alleyway permit ope...\n",
      "2337    gemara rais object base plant whose use prohibit sabbat year ad bulb ornithogalum wormwood borit...\n",
      "1801    made liabl torah move object amot public domain sage forbad move object amot karmelit sea valley...\n",
      "4287    ravina said differ explan regard sukka sinc mitzva torah law sage stringent regard alleyway sinc...\n",
      "803     gemara reject previous explan rather measur handbreadth refer channel bank channel state regard ...\n",
      "3527    rabbi abba said mishna speak special case receiv e lift object basket terask place atop basket c...\n",
      "1139    base resolv sage permit resolv abay dilemma concern would like throw object hand therebi violat ...\n",
      "307     gemara gemara clarifi ledg protrud say ledg protrud public domain prohibit place object concern ...\n",
      "4183    gemara add rabba said person make pile salt open alleyway place cross beam top salt support cros...\n",
      "3527    rabbi abba said mishna speak special case receiv e lift object basket terask place atop basket c...\n",
      "599     rav son rav ika said say heard rabbi eliez ben ya akov said side public domain consid public dom...\n",
      "803     gemara reject previous explan rather measur handbreadth refer channel bank channel state regard ...\n",
      "2770    learn mishna measur determin liabil carri lime equival use spread depilatori smallest girl tanna...\n",
      "3720    case carri load head load heavi full bag crate closet similar put head hold hand liabl way carri...\n",
      "2797    gemara reject argument basi comparison open cubit wide render prohibit carri alleyway permit ope...\n",
      "1801    made liabl torah move object amot public domain sage forbad move object amot karmelit sea valley...\n",
      "747     gemara ask much length wagon cubit much width beam cubit half mani beam could place wagon could ...\n",
      "3572    domain e carri half dri fig public domain time liabl domain e carri item separ public domain exempt\n",
      "4976    law reach pipe public domain drink person stand public domain put hand gutter long pipe attach p...\n",
      "599     rav son rav ika said say heard rabbi eliez ben ya akov said side public domain consid public dom...\n",
      "3720    case carri load head load heavi full bag crate closet similar put head hold hand liabl way carri...\n",
      "3527    rabbi abba said mishna speak special case receiv e lift object basket terask place atop basket c...\n",
      "803     gemara reject previous explan rather measur handbreadth refer channel bank channel state regard ...\n",
      "3279    rav isda said rav hamnuna say rav hamnuna said rav isda matter sage state object less handbreadt...\n",
      "1139    base resolv sage permit resolv abay dilemma concern would like throw object hand therebi violat ...\n",
      "1467    gemara ask fact latter claus mishna teach measur determin liabil carri parchment equival use wri...\n",
      "659     gemara rais question rule say main street side alleyway valley side suffici construct open form ...\n",
      "3572    domain e carri half dri fig public domain time liabl domain e carri item separ public domain exempt\n",
      "3428    see addit object could rais teacher posit rav pappa said rava rav asi say temporari screen erect...\n",
      "1477    gemara suggest let us say amora im disagre said handbreadth hold permit util area beneath cross ...\n",
      "2470    rava ad state reason state reason state reason reason cross beam function conspicu marker separ ...\n",
      "3720    case carri load head load heavi full bag crate closet similar put head hold hand liabl way carri...\n",
      "4817    hand person consid like handbreadth henc pick object hand someon stand domain place hand someon ...\n",
      "3140    town ovelin found dwell alleyway side post said son set anoth side post rabbi yosei said requir ...\n",
      "1467    gemara ask fact latter claus mishna teach measur determin liabil carri parchment equival use wri...\n",
      "3279    rav isda said rav hamnuna say rav hamnuna said rav isda matter sage state object less handbreadt...\n",
      "3885    say prohibit flame gone flame new differ came possess jew flame concret static object rather con...\n",
      "3527    rabbi abba said mishna speak special case receiv e lift object basket terask place atop basket c...\n",
      "4287    ravina said differ explan regard sukka sinc mitzva torah law sage stringent regard alleyway sinc...\n",
      "4936    wound foot go shoe healthi foot wound foot go singl shoe infant go larg sandal go larg cloak wom...\n",
      "747     gemara ask much length wagon cubit much width beam cubit half mani beam could place wagon could ...\n",
      "2336    gemara ask upper ledg circumst handbreadth deep although exempt domain regard halakhot shabbat m...\n",
      "4516    rather refer first claus baraita say regard rock protrud sea handbreadth high handbreadth wide c...\n",
      "4976    law reach pipe public domain drink person stand public domain put hand gutter long pipe attach p...\n",
      "1801    made liabl torah move object amot public domain sage forbad move object amot karmelit sea valley...\n",
      "4287    ravina said differ explan regard sukka sinc mitzva torah law sage stringent regard alleyway sinc...\n",
      "3428    see addit object could rais teacher posit rav pappa said rava rav asi say temporari screen erect...\n",
      "Name: comment_text, dtype: object\n"
     ]
    }
   ],
   "source": [
    "for i in list(domains):\n",
    "    print(test_text.iloc[i])"
   ]
  },
  {
   "cell_type": "code",
   "execution_count": null,
   "metadata": {},
   "outputs": [],
   "source": []
  },
  {
   "cell_type": "code",
   "execution_count": 239,
   "metadata": {},
   "outputs": [
    {
     "ename": "AttributeError",
     "evalue": "'numpy.ndarray' object has no attribute 'index'",
     "output_type": "error",
     "traceback": [
      "\u001b[0;31m---------------------------------------------------------------------------\u001b[0m",
      "\u001b[0;31mAttributeError\u001b[0m                            Traceback (most recent call last)",
      "\u001b[0;32m<ipython-input-239-45bf1919ef22>\u001b[0m in \u001b[0;36m<module>\u001b[0;34m\u001b[0m\n\u001b[1;32m      1\u001b[0m \u001b[0mmyseries\u001b[0m\u001b[0;34m=\u001b[0m\u001b[0mprediction\u001b[0m\u001b[0;34m\u001b[0m\u001b[0;34m\u001b[0m\u001b[0m\n\u001b[0;32m----> 2\u001b[0;31m \u001b[0mlist\u001b[0m\u001b[0;34m(\u001b[0m\u001b[0mmyseries\u001b[0m\u001b[0;34m[\u001b[0m\u001b[0mmyseries\u001b[0m\u001b[0;34m==\u001b[0m\u001b[0;36m1\u001b[0m\u001b[0;34m]\u001b[0m\u001b[0;34m.\u001b[0m\u001b[0mindex\u001b[0m\u001b[0;34m)\u001b[0m\u001b[0;34m\u001b[0m\u001b[0;34m\u001b[0m\u001b[0m\n\u001b[0m",
      "\u001b[0;31mAttributeError\u001b[0m: 'numpy.ndarray' object has no attribute 'index'"
     ]
    }
   ],
   "source": [
    "myseries=prediction\n",
    "list(myseries[myseries==1].index)"
   ]
  },
  {
   "cell_type": "code",
   "execution_count": 238,
   "metadata": {},
   "outputs": [
    {
     "data": {
      "text/plain": [
       "3450    case clear accord baraita halakhot prayer base templ offer gemara suggest let us say conclus ref...\n",
       "2115    gemara answer mishna incomplet teach follow case statement finder cover phylacteri said concern ...\n",
       "3885    say prohibit flame gone flame new differ came possess jew flame concret static object rather con...\n",
       "2787    day mose finish erect mishkan bamidbar written king shlomo made palanquin song song world made l...\n",
       "1077    similar action involv non sacr properti belong ordinari person perform owner knowledg wish conse...\n",
       "2765    thou shalt teach dilig word express idea sharpli impress mean impress familiar thi mouth person ...\n",
       "3657    gemara add case whose jug broke public domain remov broken piec whose camel fell stand rabbi mei...\n",
       "3187    taught baraita tosefta kiddushin say woman herebi betroth condit abil claim food cloth conjug ri...\n",
       "1385    rava say come hear taught baraita tosefta zeva im regard anim consecr gentil deriv benefit ab in...\n",
       "4026    rav pappi said name rava perform alitza yavam wear quarantin sandal e sandal examin priest found...\n",
       "4848    rav huna said rav huna bar innana test us ask say want nurs say want nurs rather give child wet ...\n",
       "212     root command distanc matter idolatri whether deed speech point memori rise heart ever rabbi memo...\n",
       "3188    die eulog set fix place prayer say humbl pious discipl father abraham presum set fix place praye...\n",
       "1688                                                 ye shall err observ command lord hath spoken unto mose\n",
       "3682    rather abay statement understood follow mention prohibit idol typic manner worship similar bow i...\n",
       "4545    rather disput explain differ disagre case less dinar surplus sage first tanna hold surplus worth...\n",
       "4590    launder cloth intermedi day festiv come countri oversea releas hous captiv come prison intermedi...\n",
       "2787    day mose finish erect mishkan bamidbar written king shlomo made palanquin song song world made l...\n",
       "1531    similar rav adda bar ahava state accord second opinion deriv individu recit kedusha alon state s...\n",
       "968     rabbi design prophet visionari mean demonstr lead astray demonstr mother heresi destruct idea wi...\n",
       "1375    gemara relat shmuel said iyya bar rav son torah come tell great say father said father said foll...\n",
       "823     ameimar said nehard nevertheless hold litig state claim return state modifi version claim gemara...\n",
       "1553    rabbi eliez contrast interpret vers base principl amplif restrict phrase put death shall hang am...\n",
       "1409    israel go egypt hous yaakov peopl foreign speech yehudah sanctuari yisrael dominion sea saw fled...\n",
       "4885                                              forgot count night count day count stand count seat valid\n",
       "3657    gemara add case whose jug broke public domain remov broken piec whose camel fell stand rabbi mei...\n",
       "1747    rav ashi said case depreci valu due continu effect wound injur parti say horn ox buri e still lo...\n",
       "1753    learn mishna discuss disput issu person add flour dough anoth add water rabbi say dough taken fa...\n",
       "2923    call love gd address levavcha seat mind good appreci good gd us n afshecha seat passion urg appr...\n",
       "2708                                        said voic shout masteri neither voic cri overcom nois sing hear\n",
       "4255    case well around made board corner board connect corner sure partit even though breach larger st...\n",
       "1753    learn mishna discuss disput issu person add flour dough anoth add water rabbi say dough taken fa...\n",
       "3459    rav said accustom appli fragrant oil hand meal failur appli oil delay end meal consid finish mea...\n",
       "2203    gemara add matter appli attack larg anim atyp behavior attack small anim sinc typic manner behav...\n",
       "3495    gemara discuss relat matter reish lakish said rabbi yo anan burial corps buri met mitzva overrid...\n",
       "71      write loan contract festiv either lender trust borrow borrow need money scribe eat written note ...\n",
       "2682    halakha taught baraita lend money anoth assur guarantor cannot claim payment debt guarantor outs...\n",
       "3682    rather abay statement understood follow mention prohibit idol typic manner worship similar bow i...\n",
       "69      ye er done command lord hath spoken unto mose idolatri transgress refer cf rashi next passag nat...\n",
       "2337    gemara rais object base plant whose use prohibit sabbat year ad bulb ornithogalum wormwood borit...\n",
       "938     permit write kiddushin contract pesikta contract bill divorc gittin proof divorc final amp testi...\n",
       "3707    r levi state word spoken abraham spoken job job spoke harsh abraham spoke gentl lit job swallow ...\n",
       "1279    state rabbi levi said rabbi eliez state rule express affect mitzva opinion taught baraita child ...\n",
       "4676    inde believ singular understand subject need believ holi bless solitari uniqu prevent withhold a...\n",
       "803     gemara reject previous explan rather measur handbreadth refer channel bank channel state regard ...\n",
       "2203    gemara add matter appli attack larg anim atyp behavior attack small anim sinc typic manner behav...\n",
       "3657    gemara add case whose jug broke public domain remov broken piec whose camel fell stand rabbi mei...\n",
       "2385    gemara discuss similar case said woman betroth condit studi shoneh izkiyya say mean studi halakh...\n",
       "4734    fluent would offer mani prayer supplic slow speech would pray could whenev pleas thus number sep...\n",
       "526                                                                lord god brought land egypt god lord god\n",
       "Name: comment_text, dtype: object"
      ]
     },
     "execution_count": 238,
     "metadata": {},
     "output_type": "execute_result"
    }
   ],
   "source": [
    "test_text[:50]"
   ]
  },
  {
   "cell_type": "code",
   "execution_count": 171,
   "metadata": {
    "scrolled": true
   },
   "outputs": [
    {
     "data": {
      "text/html": [
       "<div>\n",
       "<style scoped>\n",
       "    .dataframe tbody tr th:only-of-type {\n",
       "        vertical-align: middle;\n",
       "    }\n",
       "\n",
       "    .dataframe tbody tr th {\n",
       "        vertical-align: top;\n",
       "    }\n",
       "\n",
       "    .dataframe thead th {\n",
       "        text-align: right;\n",
       "    }\n",
       "</style>\n",
       "<table border=\"1\" class=\"dataframe\">\n",
       "  <thead>\n",
       "    <tr style=\"text-align: right;\">\n",
       "      <th></th>\n",
       "      <th>prayer</th>\n",
       "      <th>procedures-for-judges-and-conduct-towards-them</th>\n",
       "      <th>learning</th>\n",
       "      <th>kings</th>\n",
       "      <th>hilchot-chol-hamoed</th>\n",
       "      <th>laws-of-judges-and-courts</th>\n",
       "      <th>laws-of-animal-sacrifices</th>\n",
       "      <th>financial-ramifications-of-marriage</th>\n",
       "      <th>idolatry</th>\n",
       "      <th>laws-of-transferring-between-domains</th>\n",
       "    </tr>\n",
       "  </thead>\n",
       "  <tbody>\n",
       "    <tr>\n",
       "      <th>2510</th>\n",
       "      <td>0</td>\n",
       "      <td>0</td>\n",
       "      <td>0</td>\n",
       "      <td>0</td>\n",
       "      <td>0</td>\n",
       "      <td>0</td>\n",
       "      <td>0</td>\n",
       "      <td>0</td>\n",
       "      <td>0</td>\n",
       "      <td>0</td>\n",
       "    </tr>\n",
       "    <tr>\n",
       "      <th>1735</th>\n",
       "      <td>0</td>\n",
       "      <td>0</td>\n",
       "      <td>0</td>\n",
       "      <td>0</td>\n",
       "      <td>0</td>\n",
       "      <td>0</td>\n",
       "      <td>0</td>\n",
       "      <td>0</td>\n",
       "      <td>0</td>\n",
       "      <td>0</td>\n",
       "    </tr>\n",
       "    <tr>\n",
       "      <th>1033</th>\n",
       "      <td>0</td>\n",
       "      <td>0</td>\n",
       "      <td>0</td>\n",
       "      <td>0</td>\n",
       "      <td>0</td>\n",
       "      <td>0</td>\n",
       "      <td>1</td>\n",
       "      <td>0</td>\n",
       "      <td>0</td>\n",
       "      <td>0</td>\n",
       "    </tr>\n",
       "    <tr>\n",
       "      <th>4378</th>\n",
       "      <td>0</td>\n",
       "      <td>0</td>\n",
       "      <td>0</td>\n",
       "      <td>0</td>\n",
       "      <td>0</td>\n",
       "      <td>0</td>\n",
       "      <td>0</td>\n",
       "      <td>0</td>\n",
       "      <td>0</td>\n",
       "      <td>0</td>\n",
       "    </tr>\n",
       "    <tr>\n",
       "      <th>367</th>\n",
       "      <td>0</td>\n",
       "      <td>0</td>\n",
       "      <td>0</td>\n",
       "      <td>0</td>\n",
       "      <td>0</td>\n",
       "      <td>0</td>\n",
       "      <td>0</td>\n",
       "      <td>0</td>\n",
       "      <td>0</td>\n",
       "      <td>0</td>\n",
       "    </tr>\n",
       "  </tbody>\n",
       "</table>\n",
       "</div>"
      ],
      "text/plain": [
       "      prayer  procedures-for-judges-and-conduct-towards-them  learning  kings  \\\n",
       "2510       0                                               0         0      0   \n",
       "1735       0                                               0         0      0   \n",
       "1033       0                                               0         0      0   \n",
       "4378       0                                               0         0      0   \n",
       "367        0                                               0         0      0   \n",
       "\n",
       "      hilchot-chol-hamoed  laws-of-judges-and-courts  \\\n",
       "2510                    0                          0   \n",
       "1735                    0                          0   \n",
       "1033                    0                          0   \n",
       "4378                    0                          0   \n",
       "367                     0                          0   \n",
       "\n",
       "      laws-of-animal-sacrifices  financial-ramifications-of-marriage  \\\n",
       "2510                          0                                    0   \n",
       "1735                          0                                    0   \n",
       "1033                          1                                    0   \n",
       "4378                          0                                    0   \n",
       "367                           0                                    0   \n",
       "\n",
       "      idolatry  laws-of-transferring-between-domains  \n",
       "2510         0                                     0  \n",
       "1735         0                                     0  \n",
       "1033         0                                     0  \n",
       "4378         0                                     0  \n",
       "367          0                                     0  "
      ]
     },
     "execution_count": 171,
     "metadata": {},
     "output_type": "execute_result"
    }
   ],
   "source": [
    "y_test.head()"
   ]
  },
  {
   "cell_type": "code",
   "execution_count": 146,
   "metadata": {},
   "outputs": [
    {
     "name": "stdout",
     "output_type": "stream",
     "text": [
      "Accuracy =  0.9433333333333334\n",
      "\n",
      "\n",
      "CPU times: user 11.4 s, sys: 10.9 s, total: 22.3 s\n",
      "Wall time: 22.3 s\n"
     ]
    }
   ],
   "source": [
    "%%time\n",
    "\n",
    "# using binary relevance\n",
    "from skmultilearn.problem_transform import BinaryRelevance\n",
    "from sklearn.naive_bayes import GaussianNB\n",
    "\n",
    "# initialize binary relevance multi-label classifier\n",
    "# with a gaussian naive bayes base classifier\n",
    "classifier = BinaryRelevance(GaussianNB())\n",
    "\n",
    "# train\n",
    "classifier.fit(x_train, y_train)\n",
    "\n",
    "# predict\"\n",
    "predictions = classifier.predict(x_test)\n",
    "\n",
    "# accuracy\n",
    "print(\"Accuracy = \",accuracy_score(y_test,predictions))\n",
    "print(\"\\n\")"
   ]
  },
  {
   "cell_type": "code",
   "execution_count": 147,
   "metadata": {},
   "outputs": [],
   "source": [
    "# using classifier chains\n",
    "from skmultilearn.problem_transform import ClassifierChain\n",
    "from sklearn.linear_model import LogisticRegression"
   ]
  },
  {
   "cell_type": "code",
   "execution_count": 148,
   "metadata": {},
   "outputs": [
    {
     "name": "stdout",
     "output_type": "stream",
     "text": [
      "Accuracy =  0.9083333333333333\n",
      "\n",
      "\n",
      "CPU times: user 1min, sys: 23.5 s, total: 1min 23s\n",
      "Wall time: 49.8 s\n"
     ]
    }
   ],
   "source": [
    "%%time\n",
    "\n",
    "# initialize classifier chains multi-label classifier\n",
    "classifier = ClassifierChain(LogisticRegression())\n",
    "\n",
    "# Training logistic regression model on train data\n",
    "classifier.fit(x_train, y_train)\n",
    "\n",
    "# predict\n",
    "predictions = classifier.predict(x_test)\n",
    "\n",
    "# accuracy\n",
    "print(\"Accuracy = \",accuracy_score(y_test,predictions))\n",
    "print(\"\\n\")"
   ]
  },
  {
   "cell_type": "code",
   "execution_count": 149,
   "metadata": {},
   "outputs": [],
   "source": [
    "# using Label Powerset\n",
    "from skmultilearn.problem_transform import LabelPowerset\n"
   ]
  },
  {
   "cell_type": "code",
   "execution_count": 150,
   "metadata": {},
   "outputs": [
    {
     "name": "stdout",
     "output_type": "stream",
     "text": [
      "Accuracy =  0.9083333333333333\n",
      "\n",
      "\n",
      "CPU times: user 45.2 s, sys: 10.7 s, total: 55.9 s\n",
      "Wall time: 29.5 s\n"
     ]
    }
   ],
   "source": [
    "%%time\n",
    "\n",
    "# initialize label powerset multi-label classifier\n",
    "classifier = LabelPowerset(LogisticRegression())\n",
    "\n",
    "# train\n",
    "classifier.fit(x_train, y_train)\n",
    "\n",
    "# predict\n",
    "predictions = classifier.predict(x_test)\n",
    "\n",
    "# accuracy\n",
    "print(\"Accuracy = \",accuracy_score(y_test,predictions))\n",
    "print(\"\\n\")"
   ]
  },
  {
   "cell_type": "code",
   "execution_count": 151,
   "metadata": {},
   "outputs": [],
   "source": [
    "# http://scikit.ml/api/api/skmultilearn.adapt.html#skmultilearn.adapt.MLkNN\n",
    "\n",
    "from skmultilearn.adapt import MLkNN\n",
    "from scipy.sparse import csr_matrix, lil_matrix\n"
   ]
  },
  {
   "cell_type": "code",
   "execution_count": 107,
   "metadata": {},
   "outputs": [
    {
     "ename": "KeyboardInterrupt",
     "evalue": "",
     "output_type": "error",
     "traceback": [
      "\u001b[0;31m---------------------------------------------------------------------------\u001b[0m",
      "\u001b[0;31mKeyboardInterrupt\u001b[0m                         Traceback (most recent call last)",
      "\u001b[0;32m<timed exec>\u001b[0m in \u001b[0;36m<module>\u001b[0;34m\u001b[0m\n",
      "\u001b[0;32m/usr/local/lib/python3.7/site-packages/skmultilearn/adapt/mlknn.py\u001b[0m in \u001b[0;36mfit\u001b[0;34m(self, X, y)\u001b[0m\n\u001b[1;32m    216\u001b[0m         \u001b[0mself\u001b[0m\u001b[0;34m.\u001b[0m\u001b[0m_prior_prob_true\u001b[0m\u001b[0;34m,\u001b[0m \u001b[0mself\u001b[0m\u001b[0;34m.\u001b[0m\u001b[0m_prior_prob_false\u001b[0m \u001b[0;34m=\u001b[0m \u001b[0mself\u001b[0m\u001b[0;34m.\u001b[0m\u001b[0m_compute_prior\u001b[0m\u001b[0;34m(\u001b[0m\u001b[0mself\u001b[0m\u001b[0;34m.\u001b[0m\u001b[0m_label_cache\u001b[0m\u001b[0;34m)\u001b[0m\u001b[0;34m\u001b[0m\u001b[0;34m\u001b[0m\u001b[0m\n\u001b[1;32m    217\u001b[0m         \u001b[0;31m# Computing the posterior probabilities\u001b[0m\u001b[0;34m\u001b[0m\u001b[0;34m\u001b[0m\u001b[0;34m\u001b[0m\u001b[0m\n\u001b[0;32m--> 218\u001b[0;31m         \u001b[0mself\u001b[0m\u001b[0;34m.\u001b[0m\u001b[0m_cond_prob_true\u001b[0m\u001b[0;34m,\u001b[0m \u001b[0mself\u001b[0m\u001b[0;34m.\u001b[0m\u001b[0m_cond_prob_false\u001b[0m \u001b[0;34m=\u001b[0m \u001b[0mself\u001b[0m\u001b[0;34m.\u001b[0m\u001b[0m_compute_cond\u001b[0m\u001b[0;34m(\u001b[0m\u001b[0mX\u001b[0m\u001b[0;34m,\u001b[0m \u001b[0mself\u001b[0m\u001b[0;34m.\u001b[0m\u001b[0m_label_cache\u001b[0m\u001b[0;34m)\u001b[0m\u001b[0;34m\u001b[0m\u001b[0;34m\u001b[0m\u001b[0m\n\u001b[0m\u001b[1;32m    219\u001b[0m         \u001b[0;32mreturn\u001b[0m \u001b[0mself\u001b[0m\u001b[0;34m\u001b[0m\u001b[0;34m\u001b[0m\u001b[0m\n\u001b[1;32m    220\u001b[0m \u001b[0;34m\u001b[0m\u001b[0m\n",
      "\u001b[0;32m/usr/local/lib/python3.7/site-packages/skmultilearn/adapt/mlknn.py\u001b[0m in \u001b[0;36m_compute_cond\u001b[0;34m(self, X, y)\u001b[0m\n\u001b[1;32m    170\u001b[0m \u001b[0;34m\u001b[0m\u001b[0m\n\u001b[1;32m    171\u001b[0m         neighbors = [a[self.ignore_first_neighbours:] for a in\n\u001b[0;32m--> 172\u001b[0;31m                      self.knn_.kneighbors(X, self.k + self.ignore_first_neighbours, return_distance=False)]\n\u001b[0m\u001b[1;32m    173\u001b[0m \u001b[0;34m\u001b[0m\u001b[0m\n\u001b[1;32m    174\u001b[0m         \u001b[0;32mfor\u001b[0m \u001b[0minstance\u001b[0m \u001b[0;32min\u001b[0m \u001b[0mrange\u001b[0m\u001b[0;34m(\u001b[0m\u001b[0mself\u001b[0m\u001b[0;34m.\u001b[0m\u001b[0m_num_instances\u001b[0m\u001b[0;34m)\u001b[0m\u001b[0;34m:\u001b[0m\u001b[0;34m\u001b[0m\u001b[0;34m\u001b[0m\u001b[0m\n",
      "\u001b[0;32m/usr/local/lib/python3.7/site-packages/sklearn/neighbors/_base.py\u001b[0m in \u001b[0;36mkneighbors\u001b[0;34m(self, X, n_neighbors, return_distance)\u001b[0m\n\u001b[1;32m    663\u001b[0m                 delayed_query(\n\u001b[1;32m    664\u001b[0m                     self._tree, X[s], n_neighbors, return_distance)\n\u001b[0;32m--> 665\u001b[0;31m                 \u001b[0;32mfor\u001b[0m \u001b[0ms\u001b[0m \u001b[0;32min\u001b[0m \u001b[0mgen_even_slices\u001b[0m\u001b[0;34m(\u001b[0m\u001b[0mX\u001b[0m\u001b[0;34m.\u001b[0m\u001b[0mshape\u001b[0m\u001b[0;34m[\u001b[0m\u001b[0;36m0\u001b[0m\u001b[0;34m]\u001b[0m\u001b[0;34m,\u001b[0m \u001b[0mn_jobs\u001b[0m\u001b[0;34m)\u001b[0m\u001b[0;34m\u001b[0m\u001b[0;34m\u001b[0m\u001b[0m\n\u001b[0m\u001b[1;32m    666\u001b[0m             )\n\u001b[1;32m    667\u001b[0m         \u001b[0;32melse\u001b[0m\u001b[0;34m:\u001b[0m\u001b[0;34m\u001b[0m\u001b[0;34m\u001b[0m\u001b[0m\n",
      "\u001b[0;32m/usr/local/lib/python3.7/site-packages/joblib/parallel.py\u001b[0m in \u001b[0;36m__call__\u001b[0;34m(self, iterable)\u001b[0m\n\u001b[1;32m   1027\u001b[0m             \u001b[0;31m# remaining jobs.\u001b[0m\u001b[0;34m\u001b[0m\u001b[0;34m\u001b[0m\u001b[0;34m\u001b[0m\u001b[0m\n\u001b[1;32m   1028\u001b[0m             \u001b[0mself\u001b[0m\u001b[0;34m.\u001b[0m\u001b[0m_iterating\u001b[0m \u001b[0;34m=\u001b[0m \u001b[0;32mFalse\u001b[0m\u001b[0;34m\u001b[0m\u001b[0;34m\u001b[0m\u001b[0m\n\u001b[0;32m-> 1029\u001b[0;31m             \u001b[0;32mif\u001b[0m \u001b[0mself\u001b[0m\u001b[0;34m.\u001b[0m\u001b[0mdispatch_one_batch\u001b[0m\u001b[0;34m(\u001b[0m\u001b[0miterator\u001b[0m\u001b[0;34m)\u001b[0m\u001b[0;34m:\u001b[0m\u001b[0;34m\u001b[0m\u001b[0;34m\u001b[0m\u001b[0m\n\u001b[0m\u001b[1;32m   1030\u001b[0m                 \u001b[0mself\u001b[0m\u001b[0;34m.\u001b[0m\u001b[0m_iterating\u001b[0m \u001b[0;34m=\u001b[0m \u001b[0mself\u001b[0m\u001b[0;34m.\u001b[0m\u001b[0m_original_iterator\u001b[0m \u001b[0;32mis\u001b[0m \u001b[0;32mnot\u001b[0m \u001b[0;32mNone\u001b[0m\u001b[0;34m\u001b[0m\u001b[0;34m\u001b[0m\u001b[0m\n\u001b[1;32m   1031\u001b[0m \u001b[0;34m\u001b[0m\u001b[0m\n",
      "\u001b[0;32m/usr/local/lib/python3.7/site-packages/joblib/parallel.py\u001b[0m in \u001b[0;36mdispatch_one_batch\u001b[0;34m(self, iterator)\u001b[0m\n\u001b[1;32m    845\u001b[0m                 \u001b[0;32mreturn\u001b[0m \u001b[0;32mFalse\u001b[0m\u001b[0;34m\u001b[0m\u001b[0;34m\u001b[0m\u001b[0m\n\u001b[1;32m    846\u001b[0m             \u001b[0;32melse\u001b[0m\u001b[0;34m:\u001b[0m\u001b[0;34m\u001b[0m\u001b[0;34m\u001b[0m\u001b[0m\n\u001b[0;32m--> 847\u001b[0;31m                 \u001b[0mself\u001b[0m\u001b[0;34m.\u001b[0m\u001b[0m_dispatch\u001b[0m\u001b[0;34m(\u001b[0m\u001b[0mtasks\u001b[0m\u001b[0;34m)\u001b[0m\u001b[0;34m\u001b[0m\u001b[0;34m\u001b[0m\u001b[0m\n\u001b[0m\u001b[1;32m    848\u001b[0m                 \u001b[0;32mreturn\u001b[0m \u001b[0;32mTrue\u001b[0m\u001b[0;34m\u001b[0m\u001b[0;34m\u001b[0m\u001b[0m\n\u001b[1;32m    849\u001b[0m \u001b[0;34m\u001b[0m\u001b[0m\n",
      "\u001b[0;32m/usr/local/lib/python3.7/site-packages/joblib/parallel.py\u001b[0m in \u001b[0;36m_dispatch\u001b[0;34m(self, batch)\u001b[0m\n\u001b[1;32m    763\u001b[0m         \u001b[0;32mwith\u001b[0m \u001b[0mself\u001b[0m\u001b[0;34m.\u001b[0m\u001b[0m_lock\u001b[0m\u001b[0;34m:\u001b[0m\u001b[0;34m\u001b[0m\u001b[0;34m\u001b[0m\u001b[0m\n\u001b[1;32m    764\u001b[0m             \u001b[0mjob_idx\u001b[0m \u001b[0;34m=\u001b[0m \u001b[0mlen\u001b[0m\u001b[0;34m(\u001b[0m\u001b[0mself\u001b[0m\u001b[0;34m.\u001b[0m\u001b[0m_jobs\u001b[0m\u001b[0;34m)\u001b[0m\u001b[0;34m\u001b[0m\u001b[0;34m\u001b[0m\u001b[0m\n\u001b[0;32m--> 765\u001b[0;31m             \u001b[0mjob\u001b[0m \u001b[0;34m=\u001b[0m \u001b[0mself\u001b[0m\u001b[0;34m.\u001b[0m\u001b[0m_backend\u001b[0m\u001b[0;34m.\u001b[0m\u001b[0mapply_async\u001b[0m\u001b[0;34m(\u001b[0m\u001b[0mbatch\u001b[0m\u001b[0;34m,\u001b[0m \u001b[0mcallback\u001b[0m\u001b[0;34m=\u001b[0m\u001b[0mcb\u001b[0m\u001b[0;34m)\u001b[0m\u001b[0;34m\u001b[0m\u001b[0;34m\u001b[0m\u001b[0m\n\u001b[0m\u001b[1;32m    766\u001b[0m             \u001b[0;31m# A job can complete so quickly than its callback is\u001b[0m\u001b[0;34m\u001b[0m\u001b[0;34m\u001b[0m\u001b[0;34m\u001b[0m\u001b[0m\n\u001b[1;32m    767\u001b[0m             \u001b[0;31m# called before we get here, causing self._jobs to\u001b[0m\u001b[0;34m\u001b[0m\u001b[0;34m\u001b[0m\u001b[0;34m\u001b[0m\u001b[0m\n",
      "\u001b[0;32m/usr/local/lib/python3.7/site-packages/joblib/_parallel_backends.py\u001b[0m in \u001b[0;36mapply_async\u001b[0;34m(self, func, callback)\u001b[0m\n\u001b[1;32m    204\u001b[0m     \u001b[0;32mdef\u001b[0m \u001b[0mapply_async\u001b[0m\u001b[0;34m(\u001b[0m\u001b[0mself\u001b[0m\u001b[0;34m,\u001b[0m \u001b[0mfunc\u001b[0m\u001b[0;34m,\u001b[0m \u001b[0mcallback\u001b[0m\u001b[0;34m=\u001b[0m\u001b[0;32mNone\u001b[0m\u001b[0;34m)\u001b[0m\u001b[0;34m:\u001b[0m\u001b[0;34m\u001b[0m\u001b[0;34m\u001b[0m\u001b[0m\n\u001b[1;32m    205\u001b[0m         \u001b[0;34m\"\"\"Schedule a func to be run\"\"\"\u001b[0m\u001b[0;34m\u001b[0m\u001b[0;34m\u001b[0m\u001b[0m\n\u001b[0;32m--> 206\u001b[0;31m         \u001b[0mresult\u001b[0m \u001b[0;34m=\u001b[0m \u001b[0mImmediateResult\u001b[0m\u001b[0;34m(\u001b[0m\u001b[0mfunc\u001b[0m\u001b[0;34m)\u001b[0m\u001b[0;34m\u001b[0m\u001b[0;34m\u001b[0m\u001b[0m\n\u001b[0m\u001b[1;32m    207\u001b[0m         \u001b[0;32mif\u001b[0m \u001b[0mcallback\u001b[0m\u001b[0;34m:\u001b[0m\u001b[0;34m\u001b[0m\u001b[0;34m\u001b[0m\u001b[0m\n\u001b[1;32m    208\u001b[0m             \u001b[0mcallback\u001b[0m\u001b[0;34m(\u001b[0m\u001b[0mresult\u001b[0m\u001b[0;34m)\u001b[0m\u001b[0;34m\u001b[0m\u001b[0;34m\u001b[0m\u001b[0m\n",
      "\u001b[0;32m/usr/local/lib/python3.7/site-packages/joblib/_parallel_backends.py\u001b[0m in \u001b[0;36m__init__\u001b[0;34m(self, batch)\u001b[0m\n\u001b[1;32m    568\u001b[0m         \u001b[0;31m# Don't delay the application, to avoid keeping the input\u001b[0m\u001b[0;34m\u001b[0m\u001b[0;34m\u001b[0m\u001b[0;34m\u001b[0m\u001b[0m\n\u001b[1;32m    569\u001b[0m         \u001b[0;31m# arguments in memory\u001b[0m\u001b[0;34m\u001b[0m\u001b[0;34m\u001b[0m\u001b[0;34m\u001b[0m\u001b[0m\n\u001b[0;32m--> 570\u001b[0;31m         \u001b[0mself\u001b[0m\u001b[0;34m.\u001b[0m\u001b[0mresults\u001b[0m \u001b[0;34m=\u001b[0m \u001b[0mbatch\u001b[0m\u001b[0;34m(\u001b[0m\u001b[0;34m)\u001b[0m\u001b[0;34m\u001b[0m\u001b[0;34m\u001b[0m\u001b[0m\n\u001b[0m\u001b[1;32m    571\u001b[0m \u001b[0;34m\u001b[0m\u001b[0m\n\u001b[1;32m    572\u001b[0m     \u001b[0;32mdef\u001b[0m \u001b[0mget\u001b[0m\u001b[0;34m(\u001b[0m\u001b[0mself\u001b[0m\u001b[0;34m)\u001b[0m\u001b[0;34m:\u001b[0m\u001b[0;34m\u001b[0m\u001b[0;34m\u001b[0m\u001b[0m\n",
      "\u001b[0;32m/usr/local/lib/python3.7/site-packages/joblib/parallel.py\u001b[0m in \u001b[0;36m__call__\u001b[0;34m(self)\u001b[0m\n\u001b[1;32m    251\u001b[0m         \u001b[0;32mwith\u001b[0m \u001b[0mparallel_backend\u001b[0m\u001b[0;34m(\u001b[0m\u001b[0mself\u001b[0m\u001b[0;34m.\u001b[0m\u001b[0m_backend\u001b[0m\u001b[0;34m,\u001b[0m \u001b[0mn_jobs\u001b[0m\u001b[0;34m=\u001b[0m\u001b[0mself\u001b[0m\u001b[0;34m.\u001b[0m\u001b[0m_n_jobs\u001b[0m\u001b[0;34m)\u001b[0m\u001b[0;34m:\u001b[0m\u001b[0;34m\u001b[0m\u001b[0;34m\u001b[0m\u001b[0m\n\u001b[1;32m    252\u001b[0m             return [func(*args, **kwargs)\n\u001b[0;32m--> 253\u001b[0;31m                     for func, args, kwargs in self.items]\n\u001b[0m\u001b[1;32m    254\u001b[0m \u001b[0;34m\u001b[0m\u001b[0m\n\u001b[1;32m    255\u001b[0m     \u001b[0;32mdef\u001b[0m \u001b[0m__reduce__\u001b[0m\u001b[0;34m(\u001b[0m\u001b[0mself\u001b[0m\u001b[0;34m)\u001b[0m\u001b[0;34m:\u001b[0m\u001b[0;34m\u001b[0m\u001b[0;34m\u001b[0m\u001b[0m\n",
      "\u001b[0;32m/usr/local/lib/python3.7/site-packages/joblib/parallel.py\u001b[0m in \u001b[0;36m<listcomp>\u001b[0;34m(.0)\u001b[0m\n\u001b[1;32m    251\u001b[0m         \u001b[0;32mwith\u001b[0m \u001b[0mparallel_backend\u001b[0m\u001b[0;34m(\u001b[0m\u001b[0mself\u001b[0m\u001b[0;34m.\u001b[0m\u001b[0m_backend\u001b[0m\u001b[0;34m,\u001b[0m \u001b[0mn_jobs\u001b[0m\u001b[0;34m=\u001b[0m\u001b[0mself\u001b[0m\u001b[0;34m.\u001b[0m\u001b[0m_n_jobs\u001b[0m\u001b[0;34m)\u001b[0m\u001b[0;34m:\u001b[0m\u001b[0;34m\u001b[0m\u001b[0;34m\u001b[0m\u001b[0m\n\u001b[1;32m    252\u001b[0m             return [func(*args, **kwargs)\n\u001b[0;32m--> 253\u001b[0;31m                     for func, args, kwargs in self.items]\n\u001b[0m\u001b[1;32m    254\u001b[0m \u001b[0;34m\u001b[0m\u001b[0m\n\u001b[1;32m    255\u001b[0m     \u001b[0;32mdef\u001b[0m \u001b[0m__reduce__\u001b[0m\u001b[0;34m(\u001b[0m\u001b[0mself\u001b[0m\u001b[0;34m)\u001b[0m\u001b[0;34m:\u001b[0m\u001b[0;34m\u001b[0m\u001b[0;34m\u001b[0m\u001b[0m\n",
      "\u001b[0;32m/usr/local/lib/python3.7/site-packages/sklearn/neighbors/_base.py\u001b[0m in \u001b[0;36m_tree_query_parallel_helper\u001b[0;34m(tree, *args, **kwargs)\u001b[0m\n\u001b[1;32m    490\u001b[0m     \u001b[0munder\u001b[0m \u001b[0mPyPy\u001b[0m\u001b[0;34m.\u001b[0m\u001b[0;34m\u001b[0m\u001b[0;34m\u001b[0m\u001b[0m\n\u001b[1;32m    491\u001b[0m     \"\"\"\n\u001b[0;32m--> 492\u001b[0;31m     \u001b[0;32mreturn\u001b[0m \u001b[0mtree\u001b[0m\u001b[0;34m.\u001b[0m\u001b[0mquery\u001b[0m\u001b[0;34m(\u001b[0m\u001b[0;34m*\u001b[0m\u001b[0margs\u001b[0m\u001b[0;34m,\u001b[0m \u001b[0;34m**\u001b[0m\u001b[0mkwargs\u001b[0m\u001b[0;34m)\u001b[0m\u001b[0;34m\u001b[0m\u001b[0;34m\u001b[0m\u001b[0m\n\u001b[0m\u001b[1;32m    493\u001b[0m \u001b[0;34m\u001b[0m\u001b[0m\n\u001b[1;32m    494\u001b[0m \u001b[0;34m\u001b[0m\u001b[0m\n",
      "\u001b[0;31mKeyboardInterrupt\u001b[0m: "
     ]
    }
   ],
   "source": [
    "%%time\n",
    "\n",
    "classifier_new = MLkNN(k=10)\n",
    "\n",
    "# Note that this classifier can throw up errors when handling sparse matrices.\n",
    "\n",
    "x_train_array = lil_matrix(x_train).toarray()\n",
    "y_train_array = lil_matrix(y_train).toarray()\n",
    "x_test_array = lil_matrix(x_test).toarray()\n",
    "\n",
    "# train\n",
    "classifier_new.fit(x_train_array, y_train_array)\n",
    "\n",
    "# predict\n",
    "predictions_new = classifier_new.predict(x_test_array)\n",
    "\n",
    "# accuracy\n",
    "print(\"Accuracy = \",accuracy_score(y_test,predictions_new))\n",
    "print(\"\\n\")\n"
   ]
  },
  {
   "cell_type": "code",
   "execution_count": null,
   "metadata": {},
   "outputs": [],
   "source": []
  },
  {
   "cell_type": "code",
   "execution_count": 106,
   "metadata": {},
   "outputs": [
    {
     "data": {
      "text/plain": [
       "array([[0., 0., 0., ..., 0., 0., 0.],\n",
       "       [0., 0., 0., ..., 0., 0., 0.],\n",
       "       [0., 0., 0., ..., 0., 0., 0.],\n",
       "       ...,\n",
       "       [0., 0., 0., ..., 0., 0., 0.],\n",
       "       [0., 0., 0., ..., 0., 0., 0.],\n",
       "       [0., 0., 0., ..., 0., 0., 0.]])"
      ]
     },
     "execution_count": 106,
     "metadata": {},
     "output_type": "execute_result"
    }
   ],
   "source": [
    "x_test\n",
    "# classifier_new.predict(x_test)"
   ]
  },
  {
   "cell_type": "code",
   "execution_count": null,
   "metadata": {},
   "outputs": [],
   "source": []
  },
  {
   "cell_type": "code",
   "execution_count": null,
   "metadata": {},
   "outputs": [],
   "source": []
  },
  {
   "cell_type": "code",
   "execution_count": 96,
   "metadata": {},
   "outputs": [
    {
     "name": "stdout",
     "output_type": "stream",
     "text": [
      "<class 'pandas.core.frame.DataFrame'>\n",
      "Int64Index: 600 entries, 34575 to 26610\n",
      "Data columns (total 10 columns):\n",
      " #   Column                                          Non-Null Count  Dtype\n",
      "---  ------                                          --------------  -----\n",
      " 0   prayer                                          600 non-null    int64\n",
      " 1   procedures-for-judges-and-conduct-towards-them  600 non-null    int64\n",
      " 2   learning                                        600 non-null    int64\n",
      " 3   kings                                           600 non-null    int64\n",
      " 4   hilchot-chol-hamoed                             600 non-null    int64\n",
      " 5   laws-of-judges-and-courts                       600 non-null    int64\n",
      " 6   laws-of-animal-sacrifices                       600 non-null    int64\n",
      " 7   financial-ramifications-of-marriage             600 non-null    int64\n",
      " 8   idolatry                                        600 non-null    int64\n",
      " 9   laws-of-transferring-between-domains            600 non-null    int64\n",
      "dtypes: int64(10)\n",
      "memory usage: 71.6 KB\n"
     ]
    }
   ],
   "source": [
    "y_test_copy = y_test\n",
    "y_test_copy.info()"
   ]
  },
  {
   "cell_type": "code",
   "execution_count": 97,
   "metadata": {},
   "outputs": [
    {
     "name": "stdout",
     "output_type": "stream",
     "text": [
      "<class 'pandas.core.frame.DataFrame'>\n",
      "Int64Index: 600 entries, 34575 to 26610\n",
      "Data columns (total 10 columns):\n",
      " #   Column                                          Non-Null Count  Dtype\n",
      "---  ------                                          --------------  -----\n",
      " 0   prayer                                          600 non-null    int64\n",
      " 1   procedures-for-judges-and-conduct-towards-them  600 non-null    int64\n",
      " 2   learning                                        600 non-null    int64\n",
      " 3   kings                                           600 non-null    int64\n",
      " 4   hilchot-chol-hamoed                             600 non-null    int64\n",
      " 5   laws-of-judges-and-courts                       600 non-null    int64\n",
      " 6   laws-of-animal-sacrifices                       600 non-null    int64\n",
      " 7   financial-ramifications-of-marriage             600 non-null    int64\n",
      " 8   idolatry                                        600 non-null    int64\n",
      " 9   laws-of-transferring-between-domains            600 non-null    int64\n",
      "dtypes: int64(10)\n",
      "memory usage: 71.6 KB\n"
     ]
    }
   ],
   "source": [
    "y_test_copy.loc[(df!=0).any(axis=1)]\n",
    "y_test_copy.info()"
   ]
  },
  {
   "cell_type": "code",
   "execution_count": 98,
   "metadata": {},
   "outputs": [
    {
     "data": {
      "text/plain": [
       "pandas.core.frame.DataFrame"
      ]
     },
     "execution_count": 98,
     "metadata": {},
     "output_type": "execute_result"
    }
   ],
   "source": [
    "type(y_test)"
   ]
  },
  {
   "cell_type": "code",
   "execution_count": 99,
   "metadata": {},
   "outputs": [
    {
     "data": {
      "text/plain": [
       "Index(['prayer', 'procedures-for-judges-and-conduct-towards-them', 'learning',\n",
       "       'kings', 'hilchot-chol-hamoed', 'laws-of-judges-and-courts',\n",
       "       'laws-of-animal-sacrifices', 'financial-ramifications-of-marriage',\n",
       "       'idolatry', 'laws-of-transferring-between-domains'],\n",
       "      dtype='object')"
      ]
     },
     "execution_count": 99,
     "metadata": {},
     "output_type": "execute_result"
    }
   ],
   "source": [
    "y_test.columns"
   ]
  },
  {
   "cell_type": "code",
   "execution_count": 100,
   "metadata": {},
   "outputs": [],
   "source": [
    "def get_animal(row):\n",
    "    for c in y_test.columns:\n",
    "        topics = ''\n",
    "        if row[c]==1:\n",
    "            topics += c\n",
    "#             print(type(c))\n",
    "            return topics"
   ]
  },
  {
   "cell_type": "code",
   "execution_count": null,
   "metadata": {},
   "outputs": [],
   "source": []
  },
  {
   "cell_type": "code",
   "execution_count": 105,
   "metadata": {},
   "outputs": [
    {
     "name": "stdout",
     "output_type": "stream",
     "text": [
      "(600,)\n",
      "(54,)\n"
     ]
    },
    {
     "data": {
      "text/plain": [
       "14058                         laws-of-animal-sacrifices\n",
       "6152                                hilchot-chol-hamoed\n",
       "26997                         laws-of-judges-and-courts\n",
       "5578     procedures-for-judges-and-conduct-towards-them\n",
       "27227                                            prayer\n",
       "30745                                             kings\n",
       "1441               laws-of-transferring-between-domains\n",
       "36095    procedures-for-judges-and-conduct-towards-them\n",
       "15416                         laws-of-animal-sacrifices\n",
       "21603                         laws-of-judges-and-courts\n",
       "48660    procedures-for-judges-and-conduct-towards-them\n",
       "29638                               hilchot-chol-hamoed\n",
       "24286                         laws-of-animal-sacrifices\n",
       "27095                               hilchot-chol-hamoed\n",
       "11925                                            prayer\n",
       "37023    procedures-for-judges-and-conduct-towards-them\n",
       "25345    procedures-for-judges-and-conduct-towards-them\n",
       "43997               financial-ramifications-of-marriage\n",
       "24250    procedures-for-judges-and-conduct-towards-them\n",
       "34869                                            prayer\n",
       "6164     procedures-for-judges-and-conduct-towards-them\n",
       "35270                         laws-of-judges-and-courts\n",
       "42692                                          idolatry\n",
       "41381                               hilchot-chol-hamoed\n",
       "47631              laws-of-transferring-between-domains\n",
       "44571               financial-ramifications-of-marriage\n",
       "34168              laws-of-transferring-between-domains\n",
       "44179                                          learning\n",
       "7383                                             prayer\n",
       "1553     procedures-for-judges-and-conduct-towards-them\n",
       "43883    procedures-for-judges-and-conduct-towards-them\n",
       "40469                                          idolatry\n",
       "7320                                           idolatry\n",
       "37656    procedures-for-judges-and-conduct-towards-them\n",
       "40486              laws-of-transferring-between-domains\n",
       "39781               financial-ramifications-of-marriage\n",
       "29741                         laws-of-animal-sacrifices\n",
       "7820     procedures-for-judges-and-conduct-towards-them\n",
       "24150               financial-ramifications-of-marriage\n",
       "47729               financial-ramifications-of-marriage\n",
       "4287               laws-of-transferring-between-domains\n",
       "18014    procedures-for-judges-and-conduct-towards-them\n",
       "47933                                            prayer\n",
       "38867                                          learning\n",
       "43286                         laws-of-animal-sacrifices\n",
       "28641                                            prayer\n",
       "5790                                              kings\n",
       "20232                                             kings\n",
       "46868               financial-ramifications-of-marriage\n",
       "13094                                            prayer\n",
       "40056    procedures-for-judges-and-conduct-towards-them\n",
       "19701    procedures-for-judges-and-conduct-towards-them\n",
       "32740               financial-ramifications-of-marriage\n",
       "33142                                          idolatry\n",
       "dtype: object"
      ]
     },
     "execution_count": 105,
     "metadata": {},
     "output_type": "execute_result"
    }
   ],
   "source": [
    "result = y_test.apply(get_animal, axis=1)\n",
    "# result = result.rank()\n",
    "print(result.shape)\n",
    "result = result.dropna()\n",
    "print(result.shape)\n",
    "result"
   ]
  },
  {
   "cell_type": "code",
   "execution_count": 72,
   "metadata": {},
   "outputs": [
    {
     "ename": "AttributeError",
     "evalue": "'Series' object has no attribute 'columns'",
     "output_type": "error",
     "traceback": [
      "\u001b[0;31m---------------------------------------------------------------------------\u001b[0m",
      "\u001b[0;31mAttributeError\u001b[0m                            Traceback (most recent call last)",
      "\u001b[0;32m<ipython-input-72-7fb7f1761a6d>\u001b[0m in \u001b[0;36m<module>\u001b[0;34m\u001b[0m\n\u001b[0;32m----> 1\u001b[0;31m \u001b[0mresult\u001b[0m\u001b[0;34m.\u001b[0m\u001b[0mcolumns\u001b[0m\u001b[0;34m\u001b[0m\u001b[0;34m\u001b[0m\u001b[0m\n\u001b[0m",
      "\u001b[0;32m/usr/local/lib/python3.7/site-packages/pandas/core/generic.py\u001b[0m in \u001b[0;36m__getattr__\u001b[0;34m(self, name)\u001b[0m\n\u001b[1;32m   5268\u001b[0m             \u001b[0;32mor\u001b[0m \u001b[0mname\u001b[0m \u001b[0;32min\u001b[0m \u001b[0mself\u001b[0m\u001b[0;34m.\u001b[0m\u001b[0m_accessors\u001b[0m\u001b[0;34m\u001b[0m\u001b[0;34m\u001b[0m\u001b[0m\n\u001b[1;32m   5269\u001b[0m         ):\n\u001b[0;32m-> 5270\u001b[0;31m             \u001b[0;32mreturn\u001b[0m \u001b[0mobject\u001b[0m\u001b[0;34m.\u001b[0m\u001b[0m__getattribute__\u001b[0m\u001b[0;34m(\u001b[0m\u001b[0mself\u001b[0m\u001b[0;34m,\u001b[0m \u001b[0mname\u001b[0m\u001b[0;34m)\u001b[0m\u001b[0;34m\u001b[0m\u001b[0;34m\u001b[0m\u001b[0m\n\u001b[0m\u001b[1;32m   5271\u001b[0m         \u001b[0;32melse\u001b[0m\u001b[0;34m:\u001b[0m\u001b[0;34m\u001b[0m\u001b[0;34m\u001b[0m\u001b[0m\n\u001b[1;32m   5272\u001b[0m             \u001b[0;32mif\u001b[0m \u001b[0mself\u001b[0m\u001b[0;34m.\u001b[0m\u001b[0m_info_axis\u001b[0m\u001b[0;34m.\u001b[0m\u001b[0m_can_hold_identifiers_and_holds_name\u001b[0m\u001b[0;34m(\u001b[0m\u001b[0mname\u001b[0m\u001b[0;34m)\u001b[0m\u001b[0;34m:\u001b[0m\u001b[0;34m\u001b[0m\u001b[0;34m\u001b[0m\u001b[0m\n",
      "\u001b[0;31mAttributeError\u001b[0m: 'Series' object has no attribute 'columns'"
     ]
    }
   ],
   "source": [
    "result.columns"
   ]
  },
  {
   "cell_type": "code",
   "execution_count": 66,
   "metadata": {},
   "outputs": [
    {
     "data": {
      "text/plain": [
       "34575    None\n",
       "28558    None\n",
       "42844    None\n",
       "3143     None\n",
       "12947    None\n",
       "dtype: object"
      ]
     },
     "execution_count": 66,
     "metadata": {},
     "output_type": "execute_result"
    }
   ],
   "source": [
    "result[''] = df.groupby('Auction_ID')['Bid_Price'].rank(ascending=False)\n",
    "\n",
    "result.head()"
   ]
  },
  {
   "cell_type": "code",
   "execution_count": null,
   "metadata": {},
   "outputs": [],
   "source": []
  },
  {
   "cell_type": "code",
   "execution_count": null,
   "metadata": {},
   "outputs": [],
   "source": []
  },
  {
   "cell_type": "code",
   "execution_count": 57,
   "metadata": {},
   "outputs": [
    {
     "data": {
      "text/plain": [
       "scipy.sparse.lil.lil_matrix"
      ]
     },
     "execution_count": 57,
     "metadata": {},
     "output_type": "execute_result"
    }
   ],
   "source": [
    "type(predictions_new)"
   ]
  },
  {
   "cell_type": "code",
   "execution_count": null,
   "metadata": {},
   "outputs": [],
   "source": []
  },
  {
   "cell_type": "code",
   "execution_count": 299,
   "metadata": {},
   "outputs": [],
   "source": [
    "import re\n",
    "import nltk\n",
    "import sklearn\n",
    "import matplotlib\n",
    "import numpy as np\n",
    "import pandas as pd\n",
    "import seaborn as sns\n",
    "import sklearn.model_selection\n",
    "import matplotlib.pyplot as plt\n",
    "\n",
    "from tqdm import tqdm\n",
    "from bs4 import BeautifulSoup\n",
    "from datetime import datetime\n",
    "from nltk.corpus import stopwords\n",
    "from sklearn.svm import LinearSVC\n",
    "from nltk.stem import SnowballStemmer\n",
    "from sklearn.pipeline import Pipeline\n",
    "from sklearn.metrics import accuracy_score\n",
    "from sklearn.naive_bayes import MultinomialNB\n",
    "from gensim.parsing.preprocessing import STOPWORDS\n",
    "from sklearn.multiclass import OneVsRestClassifier\n",
    "from sklearn.linear_model import LogisticRegression\n",
    "from sklearn.model_selection import train_test_split\n",
    "from sklearn.feature_extraction.text import TfidfVectorizer\n",
    "\n",
    "# my_example_topics = ['prayer', 'procedures-for-judges-and-conduct-towards-them', 'learning', 'kings', 'hilchot-chol-hamoed', 'laws-of-judges-and-courts', 'laws-of-animal-sacrifices', 'financial-ramifications-of-marriage', 'idolatry', 'laws-of-transferring-between-domains']\n",
    "# my_example_topics = ['prayer', 'procedures-for-judges-and-conduct-towards-them']\n",
    "# my_example_topics = ['prayer']\n",
    "\n",
    "stemmer = SnowballStemmer('english')\n",
    "\n",
    "class DataManager:\n",
    "    \"\"\"\n",
    "    1 input:\n",
    "\n",
    "    - raw data: pandas dataframe (heneforth \"df\")\n",
    "\n",
    "    3 tasks:\n",
    "\n",
    "    - clean data\n",
    "        - keep only three columns: Ref, En, and Topics\n",
    "        - remove rows with null Ref or En\n",
    "        - remove duplicated rows\n",
    "        - add parsed_Ref column to show just relevant subject\n",
    "            - e.g. \"Mishna Torah, Shabbat, 4:7\" --> \"shabbat\"\n",
    "        - clean En column\n",
    "\n",
    "    - breakdown topics\n",
    "        - one-hot-encode the list from Topics column\n",
    "        - present number of topic occurrences\n",
    "\n",
    "    -divide data\n",
    "        - divide labeled from unlabeled.\n",
    "        - within labeled, split into train and test set.\n",
    "\n",
    "    \"\"\"\n",
    "    def __init__(self, raw, num_topics, should_clean = True, should_stem = False):\n",
    "        self.raw = raw\n",
    "        self.num_topics = num_topics\n",
    "        self.should_clean = should_clean\n",
    "        self.should_stem = should_stem\n",
    "\n",
    "    def _select_columns(self):\n",
    "        df = self.raw\n",
    "        return df[[\n",
    "            'Ref',\n",
    "            'En','Topics']]\n",
    "\n",
    "    def _remove_null(self):\n",
    "        df = self._select_columns()\n",
    "        rows_before = df.shape[0]\n",
    "        df = df.dropna(subset=['Ref', 'En'])\n",
    "        rows_after = df.shape[0]\n",
    "        # print(f\"Dropped {rows_before - rows_after} nulls!\")\n",
    "        return df\n",
    "\n",
    "    def _remove_duplicates(self):\n",
    "        df = self._remove_null()\n",
    "        rows_before = df.shape[0]\n",
    "        df = df.drop_duplicates()\n",
    "        rows_after = df.shape[0]\n",
    "        # print(f\"Dropped {rows_before - rows_after} duplicates!\")\n",
    "        return df\n",
    "\n",
    "    def _get_ref_features(self,input_string):\n",
    "        \"\"\"\n",
    "        Given a string, produce the substring that lies \n",
    "        after the last comma (if any) but \n",
    "        before the numbers at the end (if any).\n",
    "        \"\"\"\n",
    "        result = input_string # init\n",
    "        \n",
    "        # get rid of everything before last comma\n",
    "        last_comma = input_string.rfind(', ')\n",
    "        if last_comma != -1:\n",
    "            result = input_string[last_comma + 2:]\n",
    "\n",
    "        # keep only letters and spaces\n",
    "        result = ''.join(char for char in result if char.isalpha() or char == ' ')\n",
    "\n",
    "        # remove single chars\n",
    "        result = ' '.join( [w for w in result.split() if len(w)>1] )\n",
    "        \n",
    "        return result\n",
    "\n",
    "    def _add_ref_features(self):\n",
    "        df = self._remove_duplicates()\n",
    "        df['ref_features'] = df.Ref.apply(self._get_ref_features)\n",
    "        return df\n",
    "\n",
    "    def _clean_text(self, sentence):\n",
    "        # HTML decoding\n",
    "        sentence = BeautifulSoup(sentence, \"lxml\").text \n",
    "        # lowercase text\n",
    "        sentence = sentence.lower() \n",
    "        # Remove punctuations and numbers\n",
    "        sentence = re.sub('[^a-zA-Z]', ' ', sentence)\n",
    "        # Single character removal\n",
    "        sentence = re.sub(r\"\\s+[a-zA-Z]\\s+\", ' ', sentence)\n",
    "        # Removing multiple spaces\n",
    "        sentence = re.sub(r'\\s+', ' ', sentence)\n",
    "        # Removing stopwords\n",
    "        sentence = ' '.join(word for word in sentence.split() if word not in STOPWORDS) # delete stopwors from text\n",
    "        return sentence\n",
    "\n",
    "\n",
    "    def _stem_text(self, sentence):\n",
    "        # instantiate stemmer class\n",
    "        # stemmer = SnowballStemmer('english')\n",
    "\n",
    "        # stem sentence\n",
    "        sentence = ' '.join(stemmer.stem(word) for word in sentence.split())\n",
    "        return sentence\n",
    "\n",
    "\n",
    "    def _clean_columns(self):\n",
    "        \n",
    "        df = self._add_ref_features()\n",
    "        \n",
    "        if self.should_clean:\n",
    "            df.En = df.En.apply(self._clean_text)\n",
    "        \n",
    "        if self.should_stem:\n",
    "            df.En = df.En.apply(self._stem_text)\n",
    "        \n",
    "        return df\n",
    "\n",
    "    def _add_topic_columns(self):\n",
    "        df = self._clean_columns()\n",
    "        start_time = datetime.now()\n",
    "        df = pd.concat([df, df['Topics'].str.get_dummies(sep=' ')], axis=1)\n",
    "#         cols = ['Ref', \n",
    "#         # 'ref_features',\n",
    "#         'En','Topics'] + my_example_topics\n",
    "#         df = df[cols]\n",
    "        # df = df.loc[df['prayer'] + df['procedures-for-judges-and-conduct-towards-them'] > 0]\n",
    "        # df = df.loc[df['prayer'] > 0]\n",
    "        return df\n",
    "\n",
    "\n",
    "    def get_top_topics(self):\n",
    "\n",
    "        df = self._add_topic_columns()\n",
    "        df_topics = df.drop(['Ref', 'ref_features','En','Topics',\n",
    "        # 'Extended-topics'\n",
    "        ], axis=1)\n",
    "\n",
    "        counts = []\n",
    "        topics = list(df_topics.columns.values)\n",
    "\n",
    "        print(\"\\nCounting occurrences of each topic\")\n",
    "        for topic in tqdm(topics):\n",
    "            counts.append((topic, df_topics[topic].sum()))\n",
    "\n",
    "        df_stats = pd.DataFrame(counts, columns=['topic', 'occurrences'])\n",
    "        df_stats_sorted = df_stats.sort_values(by=['occurrences'], ascending=False)\n",
    "        top_topics_df = df_stats_sorted[:self.num_topics]\n",
    "        return top_topics_df\n",
    "\n",
    "\n",
    "    def _get_labeled(self):\n",
    "        df = self._add_topic_columns()\n",
    "        print('Shape of labeled data:',df.shape)\n",
    "        return df[df.Topics.notnull()]\n",
    "        \n",
    "    def _get_unlabeled(self):\n",
    "        df = self._add_topic_columns()\n",
    "        print('Shape of unlabeled data:',df.shape)\n",
    "        return df[df.Topics.isnull()]\n",
    "\n",
    "    def get_train_and_test(self):\n",
    "        labeled_data = self._get_labeled()\n",
    "        train, test = labeled_data[:-1], labeled_data[-5:]\n",
    "        train, test = sklearn.model_selection.train_test_split(labeled_data,random_state=42, test_size=0.33, \n",
    "#         shuffle=True\n",
    "        )\n",
    "        return train, test\n",
    "\n",
    "\n",
    "class PipelineFactory:\n",
    "\n",
    "    def __init__(self, model_code):\n",
    "        self.model_code = model_code\n",
    "        self.stop_words = set(stopwords.words('english'))\n",
    "        self.pipelines = {\n",
    "            \"MultNB\":Pipeline([\n",
    "                ('tfidf', TfidfVectorizer(stop_words=self.stop_words)),\n",
    "                ('clf', OneVsRestClassifier(MultinomialNB(fit_prior=True, class_prior=None))),\n",
    "                ]),\n",
    "            \"LinSVC\":Pipeline([\n",
    "                ('tfidf', TfidfVectorizer(stop_words=self.stop_words)),\n",
    "                ('clf', OneVsRestClassifier(LinearSVC(), n_jobs=1)),\n",
    "                ]),\n",
    "            \"LogReg\":Pipeline([\n",
    "                ('tfidf', TfidfVectorizer(stop_words=self.stop_words)),\n",
    "                ('clf', OneVsRestClassifier(LogisticRegression(solver='sag',max_iter=1000), n_jobs=1)),\n",
    "                ])\n",
    "        }\n",
    "\n",
    "    def get_pipeline(self):\n",
    "        return self.pipelines[self.model_code]\n",
    "\n",
    "\n",
    "# # class Classifier\n",
    "# # class Evaluator\n"
   ]
  },
  {
   "cell_type": "code",
   "execution_count": null,
   "metadata": {},
   "outputs": [],
   "source": [
    "# init data manager class\n",
    "data_manager = DataManager(raw = df, num_topics = NUM_TOPICS)\n",
    "df = data_manager._add_topic_columns()\n",
    "df.head()"
   ]
  },
  {
   "cell_type": "code",
   "execution_count": null,
   "metadata": {},
   "outputs": [],
   "source": [
    "df.info()"
   ]
  },
  {
   "cell_type": "code",
   "execution_count": null,
   "metadata": {},
   "outputs": [],
   "source": [
    "data_raw = df.drop(['ref_features','Topics'],axis=1)\n",
    "data_raw = data_raw[['abraham',\n",
    " 'dinei-yibum',\n",
    " 'financial-ramifications-of-marriage',\n",
    " 'hilchot-kiddushin',\n",
    " 'laws-of-animal-sacrifices',\n",
    " 'laws-of-holidays',\n",
    " 'laws-of-judges-and-courts',\n",
    " 'laws-of-the-impurity-and-prohibition-of-a-menstruant-woman',\n",
    " 'laws-of-the-prohibitions-of-eating-meat',\n",
    " 'laws-of-transferring-between-domains',\n",
    " 'learning',\n",
    " 'moses',\n",
    " 'prayer',\n",
    " 'procedures-for-judges-and-conduct-towards-them',\n",
    " 'rabbinically-forbidden-activities-on-shabbat',\n",
    " 'torah',\n",
    " 'women']]\n",
    "missing_values_check = data_raw.isnull().sum()\n",
    "print(missing_values_check)"
   ]
  },
  {
   "cell_type": "code",
   "execution_count": null,
   "metadata": {},
   "outputs": [],
   "source": [
    "rowSums = data_raw.iloc[:,2:].sum(axis=1)\n",
    "untopicized_passage_count = (rowSums==0).sum(axis=0)\n",
    "\n",
    "print(\"Total number of topicized passages =\",len(data_raw))\n",
    "print(\"Number of untopicized passages =\",untopicized_passage_count)\n",
    "print(\"Number of passages with labels =\",(len(data_raw)-untopicized_passage_count))"
   ]
  },
  {
   "cell_type": "code",
   "execution_count": null,
   "metadata": {},
   "outputs": [],
   "source": [
    "categories = list(data_raw.columns.values)\n",
    "categories = categories[2:]\n",
    "print(categories)"
   ]
  },
  {
   "cell_type": "code",
   "execution_count": null,
   "metadata": {},
   "outputs": [],
   "source": [
    "\n",
    "# Calculating number of comments in each category\n",
    "\n",
    "counts = []\n",
    "for category in categories:\n",
    "    counts.append((category, data_raw[category].sum()))\n",
    "df_stats = pd.DataFrame(counts, columns=['category', 'number of comments'])\n",
    "df_stats"
   ]
  },
  {
   "cell_type": "code",
   "execution_count": null,
   "metadata": {},
   "outputs": [],
   "source": [
    "categories = list(df_stats.loc[df_stats['number of comments'] > 50]['category'])\n",
    "categories"
   ]
  },
  {
   "cell_type": "code",
   "execution_count": null,
   "metadata": {},
   "outputs": [],
   "source": [
    "data_raw = data_raw[categories]\n",
    "data_raw"
   ]
  },
  {
   "cell_type": "code",
   "execution_count": null,
   "metadata": {},
   "outputs": [],
   "source": [
    "sns.set(font_scale = 2)\n",
    "plt.figure(figsize=(15,8))\n",
    "\n",
    "ax= sns.barplot(categories, data_raw.iloc[:,2:].sum().values)\n",
    "\n",
    "plt.title(\"Comments in each category\", fontsize=24)\n",
    "plt.ylabel('Number of comments', fontsize=18)\n",
    "plt.xlabel('Comment Type ', fontsize=18)\n",
    "\n",
    "#adding the text labels\n",
    "rects = ax.patches\n",
    "labels = data_raw.iloc[:,2:].sum().values\n",
    "for rect, label in zip(rects, labels):\n",
    "    height = rect.get_height()\n",
    "    ax.text(rect.get_x() + rect.get_width()/2, height + 5, label, ha='center', va='bottom', fontsize=18)\n",
    "\n",
    "plt.show()"
   ]
  },
  {
   "cell_type": "code",
   "execution_count": null,
   "metadata": {},
   "outputs": [],
   "source": [
    "\n",
    "rowSums = data_raw.iloc[:,2:].sum(axis=1)\n",
    "multiLabel_counts = rowSums.value_counts()\n",
    "multiLabel_counts = multiLabel_counts.iloc[1:]\n",
    "\n",
    "sns.set(font_scale = 2)\n",
    "plt.figure(figsize=(15,8))\n",
    "\n",
    "ax = sns.barplot(multiLabel_counts.index, multiLabel_counts.values)\n",
    "\n",
    "plt.title(\"Comments having multiple labels \")\n",
    "plt.ylabel('Number of comments', fontsize=18)\n",
    "plt.xlabel('Number of labels', fontsize=18)\n",
    "\n",
    "#adding the text labels\n",
    "rects = ax.patches\n",
    "labels = multiLabel_counts.values\n",
    "for rect, label in zip(rects, labels):\n",
    "    height = rect.get_height()\n",
    "    ax.text(rect.get_x() + rect.get_width()/2, height + 5, label, ha='center', va='bottom')\n",
    "\n",
    "plt.show()"
   ]
  },
  {
   "cell_type": "code",
   "execution_count": null,
   "metadata": {},
   "outputs": [],
   "source": []
  },
  {
   "cell_type": "code",
   "execution_count": null,
   "metadata": {},
   "outputs": [],
   "source": [
    "start_time = datetime.now()\n",
    "# split train and test data\n",
    "train, test = data_manager.get_train_and_test()\n",
    "print(f\"To fetch train and test took this much time --> {datetime.now() - start_time}.\")\n",
    "\n",
    "# select relevant input, e.g. words in passage\n",
    "X_train = train.En\n",
    "X_test = test.En"
   ]
  },
  {
   "cell_type": "code",
   "execution_count": null,
   "metadata": {},
   "outputs": [],
   "source": [
    "train.columns"
   ]
  },
  {
   "cell_type": "code",
   "execution_count": null,
   "metadata": {},
   "outputs": [],
   "source": [
    "X_train.head()"
   ]
  },
  {
   "cell_type": "code",
   "execution_count": null,
   "metadata": {},
   "outputs": [],
   "source": [
    "# MY_INDEX = 1\n",
    "MY_INDEX_LIST = range(5)\n",
    "for MY_INDEX in MY_INDEX_LIST:\n",
    "    print(f\"#{MY_INDEX}\")\n",
    "    print('\\n\\nACTUAL PASSAGE:', X_test.iloc[MY_INDEX])\n",
    "    print('\\nACTUAL TOPICS:', (test.iloc[MY_INDEX] == 1).idxmax(axis=1))"
   ]
  },
  {
   "cell_type": "code",
   "execution_count": 283,
   "metadata": {},
   "outputs": [],
   "source": [
    "from sklearn.feature_extraction.text import TfidfVectorizer\n",
    "vectorizer = TfidfVectorizer(strip_accents='unicode', analyzer='word', ngram_range=(1,3), norm='l2')\n",
    "vectorizer.fit(X_train)\n",
    "# vectorizer.fit(test_text)\n",
    "\n",
    "x_train = vectorizer.transform(X_train)\n",
    "y_train = train.drop(labels = ['Ref','En','Topics'], axis=1)\n",
    "\n",
    "x_test = vectorizer.transform(X_test)\n",
    "y_test = test.drop(labels = ['Ref','En','Topics'], axis=1)"
   ]
  },
  {
   "cell_type": "code",
   "execution_count": 284,
   "metadata": {},
   "outputs": [
    {
     "name": "stdout",
     "output_type": "stream",
     "text": [
      "reason sale considered mistaken transaction majority slaves like e thieves gamblers apparently majority followed monetary matters\n",
      "prayer                                            0\n",
      "procedures-for-judges-and-conduct-towards-them    0\n",
      "learning                                          0\n",
      "kings                                             0\n",
      "hilchot-chol-hamoed                               0\n",
      "laws-of-judges-and-courts                         0\n",
      "laws-of-animal-sacrifices                         0\n",
      "financial-ramifications-of-marriage               0\n",
      "idolatry                                          0\n",
      "laws-of-transferring-between-domains              0\n",
      "Name: 992, dtype: int64\n",
      "\n",
      "lends sela pauper time need verse states shall lord answer shall isaiah\n",
      "prayer                                            0\n",
      "procedures-for-judges-and-conduct-towards-them    0\n",
      "learning                                          0\n",
      "kings                                             0\n",
      "hilchot-chol-hamoed                               0\n",
      "laws-of-judges-and-courts                         0\n",
      "laws-of-animal-sacrifices                         0\n",
      "financial-ramifications-of-marriage               0\n",
      "idolatry                                          0\n",
      "laws-of-transferring-between-domains              0\n",
      "Name: 225, dtype: int64\n",
      "\n",
      "blessed god eaten goodness live\n",
      "prayer                                            0\n",
      "procedures-for-judges-and-conduct-towards-them    0\n",
      "learning                                          0\n",
      "kings                                             0\n",
      "hilchot-chol-hamoed                               0\n",
      "laws-of-judges-and-courts                         0\n",
      "laws-of-animal-sacrifices                         0\n",
      "financial-ramifications-of-marriage               0\n",
      "idolatry                                          0\n",
      "laws-of-transferring-between-domains              0\n",
      "Name: 955, dtype: int64\n",
      "\n",
      "man smite bondman bondwoman rod die hand shall surely punished\n",
      "prayer                                            0\n",
      "procedures-for-judges-and-conduct-towards-them    0\n",
      "learning                                          0\n",
      "kings                                             0\n",
      "hilchot-chol-hamoed                               1\n",
      "laws-of-judges-and-courts                         0\n",
      "laws-of-animal-sacrifices                         0\n",
      "financial-ramifications-of-marriage               0\n",
      "idolatry                                          0\n",
      "laws-of-transferring-between-domains              0\n",
      "Name: 334, dtype: int64\n",
      "\n",
      "baraita explains derived bring female goat money consecrated sin offering female lamb female lamb money consecrated sin offering female goat likewise derived bring doves pigeons money consecrated sin offering female lamb female goat tenth ephah fine flour money consecrated sin offering doves pigeons\n",
      "prayer                                            0\n",
      "procedures-for-judges-and-conduct-towards-them    0\n",
      "learning                                          0\n",
      "kings                                             0\n",
      "hilchot-chol-hamoed                               0\n",
      "laws-of-judges-and-courts                         0\n",
      "laws-of-animal-sacrifices                         0\n",
      "financial-ramifications-of-marriage               0\n",
      "idolatry                                          0\n",
      "laws-of-transferring-between-domains              0\n",
      "Name: 957, dtype: int64\n",
      "\n"
     ]
    }
   ],
   "source": [
    "for i in range(5):\n",
    "    print(X_train.iloc[i])\n",
    "    print(y_test.iloc[i])\n",
    "    print()"
   ]
  },
  {
   "cell_type": "code",
   "execution_count": 285,
   "metadata": {},
   "outputs": [
    {
     "data": {
      "text/plain": [
       "['prayer',\n",
       " 'procedures-for-judges-and-conduct-towards-them',\n",
       " 'learning',\n",
       " 'kings',\n",
       " 'hilchot-chol-hamoed',\n",
       " 'laws-of-judges-and-courts',\n",
       " 'laws-of-animal-sacrifices',\n",
       " 'financial-ramifications-of-marriage',\n",
       " 'idolatry',\n",
       " 'laws-of-transferring-between-domains']"
      ]
     },
     "execution_count": 285,
     "metadata": {},
     "output_type": "execute_result"
    }
   ],
   "source": [
    "from sklearn.pipeline import Pipeline\n",
    "from sklearn.metrics import accuracy_score, precision_score, recall_score\n",
    "from sklearn.multiclass import OneVsRestClassifier\n",
    "from sklearn.linear_model import LogisticRegression\n",
    "\n",
    "# Using pipeline for applying logistic regression and one vs rest classifier\n",
    "LogReg_pipeline = Pipeline([\n",
    "                ('clf', OneVsRestClassifier(LogisticRegression(solver='sag'), n_jobs=-1)),\n",
    "            ])\n",
    "\n",
    "categories = my_example_topics\n",
    "categories"
   ]
  },
  {
   "cell_type": "code",
   "execution_count": 286,
   "metadata": {},
   "outputs": [
    {
     "name": "stdout",
     "output_type": "stream",
     "text": [
      "\n",
      "**Processing prayer comments...**\n",
      "Test accuracy is 1.0\n",
      "\n",
      "**Processing procedures-for-judges-and-conduct-towards-them comments...**\n",
      "Test accuracy is 0.9864253393665159\n",
      "\n",
      "**Processing learning comments...**\n",
      "Test accuracy is 0.995475113122172\n",
      "\n",
      "**Processing kings comments...**\n",
      "Test accuracy is 0.9819004524886877\n",
      "\n",
      "**Processing hilchot-chol-hamoed comments...**\n",
      "Test accuracy is 0.9909502262443439\n",
      "\n",
      "**Processing laws-of-judges-and-courts comments...**\n",
      "Test accuracy is 0.9864253393665159\n",
      "\n",
      "**Processing laws-of-animal-sacrifices comments...**\n",
      "Test accuracy is 0.9909502262443439\n",
      "\n",
      "**Processing financial-ramifications-of-marriage comments...**\n",
      "Test accuracy is 0.9909502262443439\n",
      "\n",
      "**Processing idolatry comments...**\n",
      "Test accuracy is 0.9864253393665159\n",
      "\n",
      "**Processing laws-of-transferring-between-domains comments...**\n",
      "Test accuracy is 0.9864253393665159\n"
     ]
    }
   ],
   "source": [
    "for category in categories:\n",
    "    print('\\n**Processing {} comments...**'.format(category))\n",
    "    \n",
    "    # Training logistic regression model on train data\n",
    "    LogReg_pipeline.fit(x_train, train[category])\n",
    "    \n",
    "    # calculating test accuracy\n",
    "    prediction = LogReg_pipeline.predict(x_test)\n",
    "    print('Test accuracy is {}'.format(accuracy_score(test[category], prediction)))\n",
    "#     print('Test precision is {}'.format(precision_score(test[category], prediction)))\n",
    "#     print('Test recall is {}'.format(recall_score(test[category], prediction)))\n",
    "\n",
    "\n",
    "\n",
    "# sys.exit()"
   ]
  },
  {
   "cell_type": "code",
   "execution_count": null,
   "metadata": {},
   "outputs": [],
   "source": []
  },
  {
   "cell_type": "code",
   "execution_count": null,
   "metadata": {},
   "outputs": [],
   "source": []
  },
  {
   "cell_type": "code",
   "execution_count": null,
   "metadata": {},
   "outputs": [],
   "source": []
  },
  {
   "cell_type": "code",
   "execution_count": null,
   "metadata": {},
   "outputs": [],
   "source": []
  },
  {
   "cell_type": "code",
   "execution_count": 189,
   "metadata": {},
   "outputs": [
    {
     "name": "stdout",
     "output_type": "stream",
     "text": [
      "\n",
      "training passages 107\n",
      "testing passages 53\n"
     ]
    },
    {
     "ename": "KeyError",
     "evalue": "\"['ref_features'] not found in axis\"",
     "output_type": "error",
     "traceback": [
      "\u001b[0;31m---------------------------------------------------------------------------\u001b[0m",
      "\u001b[0;31mKeyError\u001b[0m                                  Traceback (most recent call last)",
      "\u001b[0;32m<ipython-input-189-0e85ca51afae>\u001b[0m in \u001b[0;36m<module>\u001b[0;34m\u001b[0m\n\u001b[1;32m      4\u001b[0m \u001b[0;34m\u001b[0m\u001b[0m\n\u001b[1;32m      5\u001b[0m \u001b[0;31m# get most poular topics\u001b[0m\u001b[0;34m\u001b[0m\u001b[0;34m\u001b[0m\u001b[0;34m\u001b[0m\u001b[0m\n\u001b[0;32m----> 6\u001b[0;31m \u001b[0mtop_topics_df\u001b[0m \u001b[0;34m=\u001b[0m \u001b[0mdata_manager\u001b[0m\u001b[0;34m.\u001b[0m\u001b[0mget_top_topics\u001b[0m\u001b[0;34m(\u001b[0m\u001b[0;34m)\u001b[0m\u001b[0;34m\u001b[0m\u001b[0;34m\u001b[0m\u001b[0m\n\u001b[0m\u001b[1;32m      7\u001b[0m \u001b[0mtop_topics_list\u001b[0m \u001b[0;34m=\u001b[0m \u001b[0mlist\u001b[0m\u001b[0;34m(\u001b[0m\u001b[0mtop_topics_df\u001b[0m\u001b[0;34m[\u001b[0m\u001b[0;34m'topic'\u001b[0m\u001b[0;34m]\u001b[0m\u001b[0;34m)\u001b[0m \u001b[0;31m# + ['ammon']\u001b[0m\u001b[0;34m\u001b[0m\u001b[0;34m\u001b[0m\u001b[0m\n\u001b[1;32m      8\u001b[0m \u001b[0mprint\u001b[0m\u001b[0;34m(\u001b[0m\u001b[0mtop_topics_list\u001b[0m\u001b[0;34m)\u001b[0m\u001b[0;34m\u001b[0m\u001b[0;34m\u001b[0m\u001b[0m\n",
      "\u001b[0;32m/persistent/Sefaria-Project/ML/scripts/classes.py\u001b[0m in \u001b[0;36mget_top_topics\u001b[0;34m(self)\u001b[0m\n\u001b[1;32m    164\u001b[0m         df_topics = df.drop(['Ref', 'ref_features','En','Topics',\n\u001b[1;32m    165\u001b[0m         \u001b[0;31m# 'Extended-topics'\u001b[0m\u001b[0;34m\u001b[0m\u001b[0;34m\u001b[0m\u001b[0;34m\u001b[0m\u001b[0m\n\u001b[0;32m--> 166\u001b[0;31m         ], axis=1)\n\u001b[0m\u001b[1;32m    167\u001b[0m \u001b[0;34m\u001b[0m\u001b[0m\n\u001b[1;32m    168\u001b[0m         \u001b[0mcounts\u001b[0m \u001b[0;34m=\u001b[0m \u001b[0;34m[\u001b[0m\u001b[0;34m]\u001b[0m\u001b[0;34m\u001b[0m\u001b[0;34m\u001b[0m\u001b[0m\n",
      "\u001b[0;32m/usr/local/lib/python3.7/site-packages/pandas/core/frame.py\u001b[0m in \u001b[0;36mdrop\u001b[0;34m(self, labels, axis, index, columns, level, inplace, errors)\u001b[0m\n\u001b[1;32m   3995\u001b[0m             \u001b[0mlevel\u001b[0m\u001b[0;34m=\u001b[0m\u001b[0mlevel\u001b[0m\u001b[0;34m,\u001b[0m\u001b[0;34m\u001b[0m\u001b[0;34m\u001b[0m\u001b[0m\n\u001b[1;32m   3996\u001b[0m             \u001b[0minplace\u001b[0m\u001b[0;34m=\u001b[0m\u001b[0minplace\u001b[0m\u001b[0;34m,\u001b[0m\u001b[0;34m\u001b[0m\u001b[0;34m\u001b[0m\u001b[0m\n\u001b[0;32m-> 3997\u001b[0;31m             \u001b[0merrors\u001b[0m\u001b[0;34m=\u001b[0m\u001b[0merrors\u001b[0m\u001b[0;34m,\u001b[0m\u001b[0;34m\u001b[0m\u001b[0;34m\u001b[0m\u001b[0m\n\u001b[0m\u001b[1;32m   3998\u001b[0m         )\n\u001b[1;32m   3999\u001b[0m \u001b[0;34m\u001b[0m\u001b[0m\n",
      "\u001b[0;32m/usr/local/lib/python3.7/site-packages/pandas/core/generic.py\u001b[0m in \u001b[0;36mdrop\u001b[0;34m(self, labels, axis, index, columns, level, inplace, errors)\u001b[0m\n\u001b[1;32m   3934\u001b[0m         \u001b[0;32mfor\u001b[0m \u001b[0maxis\u001b[0m\u001b[0;34m,\u001b[0m \u001b[0mlabels\u001b[0m \u001b[0;32min\u001b[0m \u001b[0maxes\u001b[0m\u001b[0;34m.\u001b[0m\u001b[0mitems\u001b[0m\u001b[0;34m(\u001b[0m\u001b[0;34m)\u001b[0m\u001b[0;34m:\u001b[0m\u001b[0;34m\u001b[0m\u001b[0;34m\u001b[0m\u001b[0m\n\u001b[1;32m   3935\u001b[0m             \u001b[0;32mif\u001b[0m \u001b[0mlabels\u001b[0m \u001b[0;32mis\u001b[0m \u001b[0;32mnot\u001b[0m \u001b[0;32mNone\u001b[0m\u001b[0;34m:\u001b[0m\u001b[0;34m\u001b[0m\u001b[0;34m\u001b[0m\u001b[0m\n\u001b[0;32m-> 3936\u001b[0;31m                 \u001b[0mobj\u001b[0m \u001b[0;34m=\u001b[0m \u001b[0mobj\u001b[0m\u001b[0;34m.\u001b[0m\u001b[0m_drop_axis\u001b[0m\u001b[0;34m(\u001b[0m\u001b[0mlabels\u001b[0m\u001b[0;34m,\u001b[0m \u001b[0maxis\u001b[0m\u001b[0;34m,\u001b[0m \u001b[0mlevel\u001b[0m\u001b[0;34m=\u001b[0m\u001b[0mlevel\u001b[0m\u001b[0;34m,\u001b[0m \u001b[0merrors\u001b[0m\u001b[0;34m=\u001b[0m\u001b[0merrors\u001b[0m\u001b[0;34m)\u001b[0m\u001b[0;34m\u001b[0m\u001b[0;34m\u001b[0m\u001b[0m\n\u001b[0m\u001b[1;32m   3937\u001b[0m \u001b[0;34m\u001b[0m\u001b[0m\n\u001b[1;32m   3938\u001b[0m         \u001b[0;32mif\u001b[0m \u001b[0minplace\u001b[0m\u001b[0;34m:\u001b[0m\u001b[0;34m\u001b[0m\u001b[0;34m\u001b[0m\u001b[0m\n",
      "\u001b[0;32m/usr/local/lib/python3.7/site-packages/pandas/core/generic.py\u001b[0m in \u001b[0;36m_drop_axis\u001b[0;34m(self, labels, axis, level, errors)\u001b[0m\n\u001b[1;32m   3968\u001b[0m                 \u001b[0mnew_axis\u001b[0m \u001b[0;34m=\u001b[0m \u001b[0maxis\u001b[0m\u001b[0;34m.\u001b[0m\u001b[0mdrop\u001b[0m\u001b[0;34m(\u001b[0m\u001b[0mlabels\u001b[0m\u001b[0;34m,\u001b[0m \u001b[0mlevel\u001b[0m\u001b[0;34m=\u001b[0m\u001b[0mlevel\u001b[0m\u001b[0;34m,\u001b[0m \u001b[0merrors\u001b[0m\u001b[0;34m=\u001b[0m\u001b[0merrors\u001b[0m\u001b[0;34m)\u001b[0m\u001b[0;34m\u001b[0m\u001b[0;34m\u001b[0m\u001b[0m\n\u001b[1;32m   3969\u001b[0m             \u001b[0;32melse\u001b[0m\u001b[0;34m:\u001b[0m\u001b[0;34m\u001b[0m\u001b[0;34m\u001b[0m\u001b[0m\n\u001b[0;32m-> 3970\u001b[0;31m                 \u001b[0mnew_axis\u001b[0m \u001b[0;34m=\u001b[0m \u001b[0maxis\u001b[0m\u001b[0;34m.\u001b[0m\u001b[0mdrop\u001b[0m\u001b[0;34m(\u001b[0m\u001b[0mlabels\u001b[0m\u001b[0;34m,\u001b[0m \u001b[0merrors\u001b[0m\u001b[0;34m=\u001b[0m\u001b[0merrors\u001b[0m\u001b[0;34m)\u001b[0m\u001b[0;34m\u001b[0m\u001b[0;34m\u001b[0m\u001b[0m\n\u001b[0m\u001b[1;32m   3971\u001b[0m             \u001b[0mresult\u001b[0m \u001b[0;34m=\u001b[0m \u001b[0mself\u001b[0m\u001b[0;34m.\u001b[0m\u001b[0mreindex\u001b[0m\u001b[0;34m(\u001b[0m\u001b[0;34m**\u001b[0m\u001b[0;34m{\u001b[0m\u001b[0maxis_name\u001b[0m\u001b[0;34m:\u001b[0m \u001b[0mnew_axis\u001b[0m\u001b[0;34m}\u001b[0m\u001b[0;34m)\u001b[0m\u001b[0;34m\u001b[0m\u001b[0;34m\u001b[0m\u001b[0m\n\u001b[1;32m   3972\u001b[0m \u001b[0;34m\u001b[0m\u001b[0m\n",
      "\u001b[0;32m/usr/local/lib/python3.7/site-packages/pandas/core/indexes/base.py\u001b[0m in \u001b[0;36mdrop\u001b[0;34m(self, labels, errors)\u001b[0m\n\u001b[1;32m   5016\u001b[0m         \u001b[0;32mif\u001b[0m \u001b[0mmask\u001b[0m\u001b[0;34m.\u001b[0m\u001b[0many\u001b[0m\u001b[0;34m(\u001b[0m\u001b[0;34m)\u001b[0m\u001b[0;34m:\u001b[0m\u001b[0;34m\u001b[0m\u001b[0;34m\u001b[0m\u001b[0m\n\u001b[1;32m   5017\u001b[0m             \u001b[0;32mif\u001b[0m \u001b[0merrors\u001b[0m \u001b[0;34m!=\u001b[0m \u001b[0;34m\"ignore\"\u001b[0m\u001b[0;34m:\u001b[0m\u001b[0;34m\u001b[0m\u001b[0;34m\u001b[0m\u001b[0m\n\u001b[0;32m-> 5018\u001b[0;31m                 \u001b[0;32mraise\u001b[0m \u001b[0mKeyError\u001b[0m\u001b[0;34m(\u001b[0m\u001b[0;34mf\"{labels[mask]} not found in axis\"\u001b[0m\u001b[0;34m)\u001b[0m\u001b[0;34m\u001b[0m\u001b[0;34m\u001b[0m\u001b[0m\n\u001b[0m\u001b[1;32m   5019\u001b[0m             \u001b[0mindexer\u001b[0m \u001b[0;34m=\u001b[0m \u001b[0mindexer\u001b[0m\u001b[0;34m[\u001b[0m\u001b[0;34m~\u001b[0m\u001b[0mmask\u001b[0m\u001b[0;34m]\u001b[0m\u001b[0;34m\u001b[0m\u001b[0;34m\u001b[0m\u001b[0m\n\u001b[1;32m   5020\u001b[0m         \u001b[0;32mreturn\u001b[0m \u001b[0mself\u001b[0m\u001b[0;34m.\u001b[0m\u001b[0mdelete\u001b[0m\u001b[0;34m(\u001b[0m\u001b[0mindexer\u001b[0m\u001b[0;34m)\u001b[0m\u001b[0;34m\u001b[0m\u001b[0;34m\u001b[0m\u001b[0m\n",
      "\u001b[0;31mKeyError\u001b[0m: \"['ref_features'] not found in axis\""
     ]
    }
   ],
   "source": [
    "# get shape\n",
    "print('\\ntraining passages',X_train.shape[0])\n",
    "print('testing passages',X_test.shape[0])\n",
    "\n",
    "# get most poular topics\n",
    "top_topics_df = data_manager.get_top_topics()\n",
    "top_topics_list = list(top_topics_df['topic']) # + ['ammon']\n",
    "print(top_topics_list)\n",
    "# top_topics = 'laws-of-judges-and-courts judgements1 laws-of-setting-the-months-and-leap-years sanhedrin'.split()\n",
    "# top_topics = 'ammon'.split()\n",
    "# top_topics = 'fate-of-the-nations-of-the-world punishment'.split()"
   ]
  },
  {
   "cell_type": "code",
   "execution_count": null,
   "metadata": {},
   "outputs": [],
   "source": [
    "# select a model: Linear SVC, Multinimial Naive-Bayes, or Logistic Regression\n",
    "pipeline = PipelineFactory(\n",
    "    # 'LinSVC'\n",
    "    'LogReg'\n",
    "    # 'MultNB' # seems buggy! predicts all zeroes!\n",
    "    ).get_pipeline()\n",
    "\n",
    "\n",
    "# init\n",
    "topic_accuracies_testing = {}\n",
    "topic_accuracies_training = {}\n",
    "\n",
    "# for each topic, train (i.e. \"fit\") and classify (\"predict\") and evaulate\n",
    "print(f'For each topic, the model is: training, predicting, and evaluating.')\n",
    "# for topic in tqdm(top_topics_list):\n",
    "for topic in top_topics_list:\n",
    "    \n",
    "    # train the model \n",
    "    pipeline.fit(X_train, train[topic])\n",
    "\n",
    "    # make predictions\n",
    "    prediction_training = pipeline.predict(X_train)\n",
    "    prediction_testing = pipeline.predict(X_test)\n",
    "\n",
    "    for i in range(test.shape[0]):\n",
    "        if prediction_testing[i] != 0:\n",
    "\n",
    "    # for i in range(train.shape[0]):\n",
    "    #     if prediction_training[i] != 0:\n",
    "\n",
    "            print(f\"{topic} --> for test item #{i}!\")\n",
    "            # continue\n",
    "\n",
    "    # print(prediction_testing[test_index].shape)\n",
    "    # print(type(prediction_testing))\n",
    "    # print()\n",
    "    # my_prediction = pipeline.predict(X_test[test_index:test_index+1])\n",
    "\n",
    "    # evaluate and record performance\n",
    "    train_accuracy = accuracy_score(train[topic], prediction_training)\n",
    "    topic_accuracies_training[topic] = round(train_accuracy,3)\n",
    "    \n",
    "    test_accuracy = accuracy_score(test[topic], prediction_testing)\n",
    "    topic_accuracies_testing[topic] = round(test_accuracy,3)\n",
    "\n",
    "# ranked_topic_accuracies = \n",
    "for topic in top_topics_list:\n",
    "# for topic, accuracy in topic_accuracies.items():\n",
    "    # if True:\n",
    "    if False:\n",
    "        print()\n",
    "        print(topic)\n",
    "        print(topic_accuracies_training[topic], '<--', \"train\")\n",
    "        print(topic_accuracies_testing[topic], '<--', \"test\")\n",
    "    continue\n",
    "\n",
    "\n",
    "\n",
    "selected_topics = []\n",
    "# selected_topics = [\"some topic\"]\n",
    "\n",
    "# selected_topics = [topic for topic in test.columns[4:] if test[:,topic] != 0]\n",
    "# for idx, selected_topic in enumerate(test.columns[:10]):\n",
    "\n",
    "for idx, selected_topic in enumerate(selected_topics):\n",
    "    print(idx, selected_topic)\n",
    "\n",
    "print(f\"\\nFinished at {datetime.now()} for {NUM_DATA_POINTS} rows and {NUM_TOPICS} topics!\")"
   ]
  },
  {
   "cell_type": "code",
   "execution_count": null,
   "metadata": {},
   "outputs": [],
   "source": []
  }
 ],
 "metadata": {
  "anaconda-cloud": {},
  "kernelspec": {
   "display_name": "Python 3",
   "language": "python",
   "name": "python3"
  },
  "language_info": {
   "codemirror_mode": {
    "name": "ipython",
    "version": 3
   },
   "file_extension": ".py",
   "mimetype": "text/x-python",
   "name": "python",
   "nbconvert_exporter": "python",
   "pygments_lexer": "ipython3",
   "version": "3.7.7"
  }
 },
 "nbformat": 4,
 "nbformat_minor": 1
}
