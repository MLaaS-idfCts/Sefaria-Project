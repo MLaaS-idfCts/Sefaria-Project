{
  "cells": [
    {
      "cell_type": "markdown",
      "metadata": {
        "id": "view-in-github",
        "colab_type": "text"
      },
      "source": [
        "<a href=\"https://colab.research.google.com/github/yishairasowsky/Sefaria-Project/blob/master/ML/Data_Cleaning.ipynb\" target=\"_parent\"><img src=\"https://colab.research.google.com/assets/colab-badge.svg\" alt=\"Open In Colab\"/></a>"
      ]
    },
    {
      "cell_type": "code",
      "metadata": {
        "id": "vc3AD5b-xv7U",
        "colab_type": "code",
        "colab": {}
      },
      "source": [
        "import numpy as np \n",
        "import pandas as pd\n",
        "# import pkl"
      ],
      "execution_count": 2,
      "outputs": []
    },
    {
      "cell_type": "code",
      "metadata": {
        "id": "avtMtciLyLhy",
        "colab_type": "code",
        "colab": {
          "base_uri": "https://localhost:8080/",
          "height": 945
        },
        "outputId": "d85ca2bf-21c0-4e5b-842f-eff49d15f0c9"
      },
      "source": [
        "# Here I tried to pick an encoding type that would accomodate the Hebrew characters. No luck yet.\n",
        "encoding = \"latin-1\"\n",
        "# encoding = 'unicode_escape'\n",
        "# encoding = \"ISO-8859-1\"\n",
        "# encoding = \"ISO-8859-8\"\n",
        "# encoding = \"cp1255\"\n",
        "\n",
        "full_df = pd.read_csv(\n",
        "    '/root/Sefaria-Project/ML/data/yishai_data.csv',\n",
        "    # '/content/drive/My Drive/Colab Datasets/topic_data.csv',\n",
        "    encoding=encoding,\n",
        "    # quoting=3,\n",
        "    error_bad_lines=False,\n",
        "    engine='python'\n",
        "    # )[:5000]\n",
        "    )"
      ],
      "execution_count": 3,
      "outputs": [
        {
          "output_type": "stream",
          "name": "stderr",
          "text": "Skipping line 1099: field larger than field limit (131072)\nSkipping line 1155: ',' expected after '\"'\nSkipping line 107928: field larger than field limit (131072)\nSkipping line 107971: ',' expected after '\"'\nSkipping line 158935: field larger than field limit (131072)\nSkipping line 158940: ',' expected after '\"'\nSkipping line 1099: Expected 5 fields in line 1099, saw 12\nSkipping line 1100: Expected 5 fields in line 1100, saw 10\nSkipping line 1101: Expected 5 fields in line 1101, saw 9\nSkipping line 1102: Expected 5 fields in line 1102, saw 9\nSkipping line 1104: Expected 5 fields in line 1104, saw 13\nSkipping line 1106: Expected 5 fields in line 1106, saw 7\nSkipping line 1107: Expected 5 fields in line 1107, saw 9\nSkipping line 1108: Expected 5 fields in line 1108, saw 13\nSkipping line 1109: Expected 5 fields in line 1109, saw 19\nSkipping line 1110: Expected 5 fields in line 1110, saw 9\nSkipping line 1111: Expected 5 fields in line 1111, saw 13\nSkipping line 1112: Expected 5 fields in line 1112, saw 6\nSkipping line 1113: Expected 5 fields in line 1113, saw 7\nSkipping line 1114: Expected 5 fields in line 1114, saw 13\nSkipping line 1115: Expected 5 fields in line 1115, saw 8\nSkipping line 1116: Expected 5 fields in line 1116, saw 7\nSkipping line 1119: Expected 5 fields in line 1119, saw 11\nSkipping line 1120: Expected 5 fields in line 1120, saw 7\nSkipping line 1121: Expected 5 fields in line 1121, saw 17\nSkipping line 1122: Expected 5 fields in line 1122, saw 9\nSkipping line 1123: Expected 5 fields in line 1123, saw 12\nSkipping line 1124: Expected 5 fields in line 1124, saw 15\nSkipping line 1125: Expected 5 fields in line 1125, saw 10\nSkipping line 1126: Expected 5 fields in line 1126, saw 10\nSkipping line 1127: Expected 5 fields in line 1127, saw 13\nSkipping line 1128: Expected 5 fields in line 1128, saw 12\nSkipping line 1129: Expected 5 fields in line 1129, saw 14\nSkipping line 1130: Expected 5 fields in line 1130, saw 12\nSkipping line 1131: Expected 5 fields in line 1131, saw 8\nSkipping line 1132: Expected 5 fields in line 1132, saw 7\nSkipping line 1134: Expected 5 fields in line 1134, saw 7\nSkipping line 1135: Expected 5 fields in line 1135, saw 8\nSkipping line 1137: Expected 5 fields in line 1137, saw 14\nSkipping line 1138: Expected 5 fields in line 1138, saw 12\nSkipping line 1139: Expected 5 fields in line 1139, saw 7\nSkipping line 1140: Expected 5 fields in line 1140, saw 9\nSkipping line 1141: Expected 5 fields in line 1141, saw 16\nSkipping line 1142: Expected 5 fields in line 1142, saw 8\nSkipping line 1143: Expected 5 fields in line 1143, saw 10\nSkipping line 1144: Expected 5 fields in line 1144, saw 13\nSkipping line 1145: Expected 5 fields in line 1145, saw 10\nSkipping line 1147: Expected 5 fields in line 1147, saw 9\nSkipping line 1148: Expected 5 fields in line 1148, saw 15\nSkipping line 1149: Expected 5 fields in line 1149, saw 8\nSkipping line 1150: Expected 5 fields in line 1150, saw 11\nSkipping line 1151: Expected 5 fields in line 1151, saw 16\nSkipping line 1152: Expected 5 fields in line 1152, saw 10\nSkipping line 1153: Expected 5 fields in line 1153, saw 9\nSkipping line 107926: Expected 5 fields in line 107926, saw 13\nSkipping line 107927: Expected 5 fields in line 107927, saw 12\nSkipping line 107928: Expected 5 fields in line 107928, saw 9\nSkipping line 107929: Expected 5 fields in line 107929, saw 12\nSkipping line 107930: Expected 5 fields in line 107930, saw 12\nSkipping line 107931: Expected 5 fields in line 107931, saw 19\nSkipping line 107932: Expected 5 fields in line 107932, saw 14\nSkipping line 107933: Expected 5 fields in line 107933, saw 11\nSkipping line 107934: Expected 5 fields in line 107934, saw 8\nSkipping line 107935: Expected 5 fields in line 107935, saw 17\nSkipping line 107936: Expected 5 fields in line 107936, saw 10\nSkipping line 107937: Expected 5 fields in line 107937, saw 13\nSkipping line 107938: Expected 5 fields in line 107938, saw 12\nSkipping line 107939: Expected 5 fields in line 107939, saw 15\nSkipping line 107940: Expected 5 fields in line 107940, saw 14\nSkipping line 107941: Expected 5 fields in line 107941, saw 25\nSkipping line 107942: Expected 5 fields in line 107942, saw 13\nSkipping line 107943: Expected 5 fields in line 107943, saw 17\nSkipping line 107945: Expected 5 fields in line 107945, saw 15\nSkipping line 107946: Expected 5 fields in line 107946, saw 15\nSkipping line 107947: Expected 5 fields in line 107947, saw 12\nSkipping line 107948: Expected 5 fields in line 107948, saw 17\nSkipping line 107949: Expected 5 fields in line 107949, saw 14\nSkipping line 107950: Expected 5 fields in line 107950, saw 13\nSkipping line 107951: Expected 5 fields in line 107951, saw 18\nSkipping line 107952: Expected 5 fields in line 107952, saw 20\nSkipping line 107953: Expected 5 fields in line 107953, saw 9\nSkipping line 107954: Expected 5 fields in line 107954, saw 20\nSkipping line 107955: Expected 5 fields in line 107955, saw 17\nSkipping line 107956: Expected 5 fields in line 107956, saw 21\nSkipping line 107957: Expected 5 fields in line 107957, saw 13\nSkipping line 107958: Expected 5 fields in line 107958, saw 17\nSkipping line 107959: Expected 5 fields in line 107959, saw 17\nSkipping line 107960: Expected 5 fields in line 107960, saw 7\nSkipping line 107961: Expected 5 fields in line 107961, saw 10\nSkipping line 107962: Expected 5 fields in line 107962, saw 7\nSkipping line 107963: Expected 5 fields in line 107963, saw 17\nSkipping line 107964: Expected 5 fields in line 107964, saw 8\nSkipping line 107965: Expected 5 fields in line 107965, saw 12\nSkipping line 107967: Expected 5 fields in line 107967, saw 11\nSkipping line 158931: Expected 5 fields in line 158931, saw 10\nSkipping line 158932: Expected 5 fields in line 158932, saw 12\nSkipping line 158933: Expected 5 fields in line 158933, saw 16\nSkipping line 158934: Expected 5 fields in line 158934, saw 14\n"
        }
      ]
    },
    {
      "cell_type": "code",
      "metadata": {
        "id": "hB8_MOwDyllp",
        "colab_type": "code",
        "outputId": "c53a8089-4d68-47df-f1bd-9a53e0a03d6c",
        "colab": {
          "base_uri": "https://localhost:8080/",
          "height": 72
        }
      },
      "source": [
        "print(\"Original shape:\",full_df.shape)\n",
        "\n",
        "full_df.dropna(inplace=True)\n",
        "print(\"Without nulls\",full_df.shape)\n",
        "\n",
        "full_df.drop_duplicates(inplace=True)\n",
        "print(\"Without duplicates\",full_df.shape)\n"
      ],
      "execution_count": 4,
      "outputs": [
        {
          "output_type": "stream",
          "name": "stdout",
          "text": "Original shape: (174270, 5)\nWithout nulls (114802, 5)\nWithout duplicates (114802, 5)\n"
        }
      ]
    },
    {
      "cell_type": "code",
      "metadata": {
        "id": "BE9Jitz04wfu",
        "colab_type": "code",
        "outputId": "d800db57-b76d-48d0-f76b-75c7ff073cb9",
        "colab": {
          "base_uri": "https://localhost:8080/",
          "height": 371
        }
      },
      "source": [
        "full_df.head()\n"
      ],
      "execution_count": 11,
      "outputs": [
        {
          "output_type": "execute_result",
          "data": {
            "text/plain": "                         Ref  \\\n0             Bekhorot 28a:5   \n1  Sforno on Genesis 21:22:1   \n3               Gittin 78a:1   \n5             Sanhedrin 2a:5   \n6            Pesachim 78a:15   \n\n                                                  En  \\\n0  Â§ The mishna teaches: If <b>a blemish develop...   \n1  ××××§×× ×¢××, seeing that Gâd clearly...   \n3  <b>a modifier,</b> meaning that this board is ...   \n5  The <b>intercalation of the month</b> is perfo...   \n6  <b>The statement of Rabbi Eliezer</b> is corre...   \n\n                                                  He  \\\n0  × ××× ×× ××× ××ª×× ×©× ×ª× ×¨×©××...   \n1  <b>××××× ×¢××</b> ××¤××× ×× × ××...   \n3  ×©× ×××× ××× ×××ª ××× ×©× ×××...   \n5  ×¢××××¨ ××××© ××©××©× ×¢××××¨ ××©...   \n6  ×××¨× ×¨×× ××××¢××¨ ×××××× ×©×...   \n\n                                              Topics  \\\n0                          laws-of-animal-firstlings   \n1                              abraham-and-abimelech   \n3                                        dinei-haget   \n5  laws-of-judges-and-courts judgements1 laws-of-...   \n6                  torah-study-and-a-livelihood life   \n\n                                     Expanded Topics  \n0  laws-of-animal-firstlings laws-of-worship-of-g...  \n1  entity specific-biblical-person-relationship r...  \n3  entity halakhah continuant laws mitzvot generi...  \n5  beit-din group-of-people independent-continuan...  \n6  lifecycle-events entity philosophy religion to...  ",
            "text/html": "<div>\n<style scoped>\n    .dataframe tbody tr th:only-of-type {\n        vertical-align: middle;\n    }\n\n    .dataframe tbody tr th {\n        vertical-align: top;\n    }\n\n    .dataframe thead th {\n        text-align: right;\n    }\n</style>\n<table border=\"1\" class=\"dataframe\">\n  <thead>\n    <tr style=\"text-align: right;\">\n      <th></th>\n      <th>Ref</th>\n      <th>En</th>\n      <th>He</th>\n      <th>Topics</th>\n      <th>Expanded Topics</th>\n    </tr>\n  </thead>\n  <tbody>\n    <tr>\n      <th>0</th>\n      <td>Bekhorot 28a:5</td>\n      <td>Â§ The mishna teaches: If &lt;b&gt;a blemish develop...</td>\n      <td>× ××× ×× ××× ××ª×× ×©× ×ª× ×¨×©××...</td>\n      <td>laws-of-animal-firstlings</td>\n      <td>laws-of-animal-firstlings laws-of-worship-of-g...</td>\n    </tr>\n    <tr>\n      <th>1</th>\n      <td>Sforno on Genesis 21:22:1</td>\n      <td>××××§×× ×¢××, seeing that Gâd clearly...</td>\n      <td>&lt;b&gt;××××× ×¢××&lt;/b&gt; ××¤××× ×× × ××...</td>\n      <td>abraham-and-abimelech</td>\n      <td>entity specific-biblical-person-relationship r...</td>\n    </tr>\n    <tr>\n      <th>3</th>\n      <td>Gittin 78a:1</td>\n      <td>&lt;b&gt;a modifier,&lt;/b&gt; meaning that this board is ...</td>\n      <td>×©× ×××× ××× ×××ª ××× ×©× ×××...</td>\n      <td>dinei-haget</td>\n      <td>entity halakhah continuant laws mitzvot generi...</td>\n    </tr>\n    <tr>\n      <th>5</th>\n      <td>Sanhedrin 2a:5</td>\n      <td>The &lt;b&gt;intercalation of the month&lt;/b&gt; is perfo...</td>\n      <td>×¢××××¨ ××××© ××©××©× ×¢××××¨ ××©...</td>\n      <td>laws-of-judges-and-courts judgements1 laws-of-...</td>\n      <td>beit-din group-of-people independent-continuan...</td>\n    </tr>\n    <tr>\n      <th>6</th>\n      <td>Pesachim 78a:15</td>\n      <td>&lt;b&gt;The statement of Rabbi Eliezer&lt;/b&gt; is corre...</td>\n      <td>×××¨× ×¨×× ××××¢××¨ ×××××× ×©×...</td>\n      <td>torah-study-and-a-livelihood life</td>\n      <td>lifecycle-events entity philosophy religion to...</td>\n    </tr>\n  </tbody>\n</table>\n</div>"
          },
          "metadata": {},
          "execution_count": 11
        }
      ]
    },
    {
      "cell_type": "code",
      "metadata": {
        "id": "wl0eIuYfdAo3",
        "colab_type": "code",
        "colab": {}
      },
      "source": [
        "# full_df = full_df.loc[' ' not in full_df['Topics']]\n",
        "single_class_df = full_df.loc[full_df['Topics'].str.find(' ') == -1]"
      ],
      "execution_count": 14,
      "outputs": []
    },
    {
      "cell_type": "code",
      "execution_count": 15,
      "metadata": {},
      "outputs": [
        {
          "output_type": "stream",
          "name": "stdout",
          "text": "Shape (64397, 5)\n"
        },
        {
          "output_type": "execute_result",
          "data": {
            "text/plain": "                          Ref  \\\n0              Bekhorot 28a:5   \n1   Sforno on Genesis 21:22:1   \n3                Gittin 78a:1   \n8           Bava Kamma 25a:13   \n10  Chizkuni, Numbers 21:28:3   \n\n                                                   En  \\\n0   Â§ The mishna teaches: If <b>a blemish develop...   \n1   ××××§×× ×¢××, seeing that Gâd clearly...   \n3   <b>a modifier,</b> meaning that this board is ...   \n8   Once the Gemara raised the issue, it clarifies...   \n10  ××¢×× ××××ª ××¨× ××, âthe lords of ...   \n\n                                                   He  \\\n0   × ××× ×× ××× ××ª×× ×©× ×ª× ×¨×©××...   \n1   <b>××××× ×¢××</b> ××¤××× ×× × ××...   \n3   ×©× ×××× ××× ×××ª ××× ×©× ×××...   \n8   ×××× ×ª× × ××©××¢×ª ××× ××××¨ ×©×...   \n10  <b>××¢×× ××××ª ××¨× ×</b> ××©×× ××...   \n\n                                               Topics  \\\n0                           laws-of-animal-firstlings   \n1                               abraham-and-abimelech   \n3                                         dinei-haget   \n8   laws-of-those-that-transmit-impurity-via-beds-...   \n10                                               moab   \n\n                                      Expanded Topics  \n0   laws-of-animal-firstlings laws-of-worship-of-g...  \n1   entity specific-biblical-person-relationship r...  \n3   entity halakhah continuant laws mitzvot generi...  \n8   entity continuant laws laws-of-those-that-tran...  \n10  group-of-people object-aggregate peoples indep...  ",
            "text/html": "<div>\n<style scoped>\n    .dataframe tbody tr th:only-of-type {\n        vertical-align: middle;\n    }\n\n    .dataframe tbody tr th {\n        vertical-align: top;\n    }\n\n    .dataframe thead th {\n        text-align: right;\n    }\n</style>\n<table border=\"1\" class=\"dataframe\">\n  <thead>\n    <tr style=\"text-align: right;\">\n      <th></th>\n      <th>Ref</th>\n      <th>En</th>\n      <th>He</th>\n      <th>Topics</th>\n      <th>Expanded Topics</th>\n    </tr>\n  </thead>\n  <tbody>\n    <tr>\n      <th>0</th>\n      <td>Bekhorot 28a:5</td>\n      <td>Â§ The mishna teaches: If &lt;b&gt;a blemish develop...</td>\n      <td>× ××× ×× ××× ××ª×× ×©× ×ª× ×¨×©××...</td>\n      <td>laws-of-animal-firstlings</td>\n      <td>laws-of-animal-firstlings laws-of-worship-of-g...</td>\n    </tr>\n    <tr>\n      <th>1</th>\n      <td>Sforno on Genesis 21:22:1</td>\n      <td>××××§×× ×¢××, seeing that Gâd clearly...</td>\n      <td>&lt;b&gt;××××× ×¢××&lt;/b&gt; ××¤××× ×× × ××...</td>\n      <td>abraham-and-abimelech</td>\n      <td>entity specific-biblical-person-relationship r...</td>\n    </tr>\n    <tr>\n      <th>3</th>\n      <td>Gittin 78a:1</td>\n      <td>&lt;b&gt;a modifier,&lt;/b&gt; meaning that this board is ...</td>\n      <td>×©× ×××× ××× ×××ª ××× ×©× ×××...</td>\n      <td>dinei-haget</td>\n      <td>entity halakhah continuant laws mitzvot generi...</td>\n    </tr>\n    <tr>\n      <th>8</th>\n      <td>Bava Kamma 25a:13</td>\n      <td>Once the Gemara raised the issue, it clarifies...</td>\n      <td>×××× ×ª× × ××©××¢×ª ××× ××××¨ ×©×...</td>\n      <td>laws-of-those-that-transmit-impurity-via-beds-...</td>\n      <td>entity continuant laws laws-of-those-that-tran...</td>\n    </tr>\n    <tr>\n      <th>10</th>\n      <td>Chizkuni, Numbers 21:28:3</td>\n      <td>××¢×× ××××ª ××¨× ××, âthe lords of ...</td>\n      <td>&lt;b&gt;××¢×× ××××ª ××¨× ×&lt;/b&gt; ××©×× ××...</td>\n      <td>moab</td>\n      <td>group-of-people object-aggregate peoples indep...</td>\n    </tr>\n  </tbody>\n</table>\n</div>"
          },
          "metadata": {},
          "execution_count": 15
        }
      ],
      "source": [
        "print(\"Shape\",single_class_df.shape)\n",
        "single_class_df.head()"
      ]
    },
    {
      "cell_type": "code",
      "metadata": {
        "id": "hM2BDn1l0mC1",
        "colab_type": "code",
        "outputId": "368b206e-2910-49bd-8d89-68348853b861",
        "colab": {
          "base_uri": "https://localhost:8080/",
          "height": 364
        }
      },
      "source": [
        "from bs4 import BeautifulSoup\n",
        "import re\n",
        "!pip install nltk\n",
        "import nltk\n",
        "import string\n",
        "nltk.download('stopwords')\n",
        "from nltk.corpus import stopwords\n",
        "\n",
        "STOPWORDS = set(stopwords.words('english'))\n",
        "\n",
        "def preprocess_text(sentence):\n",
        "\n",
        "    # HTML decoding\n",
        "    sentence = BeautifulSoup(sentence, \"lxml\").text \n",
        "    \n",
        "    # lowercase text\n",
        "    sentence = sentence.lower() \n",
        "\n",
        "    # Remove punctuations and numbers\n",
        "    sentence = re.sub('[^a-zA-Z]', ' ', sentence)\n",
        "\n",
        "    # Single character removal\n",
        "    sentence = re.sub(r\"\\s+[a-zA-Z]\\s+\", ' ', sentence)\n",
        "\n",
        "    # Removing multiple spaces\n",
        "    sentence = re.sub(r'\\s+', ' ', sentence)\n",
        "\n",
        "    # Removing stopwords\n",
        "    sentence = ' '.join(word for word in sentence.split() if word not in STOPWORDS) # delete stopwors from text\n",
        "\n",
        "    return sentence\n",
        "\n",
        "clean_df = single_class_df[['En','Topics']]\n",
        "# clean_df = full_df[['En','Topics']]\n",
        "clean_df.En = clean_df.En.apply(preprocess_text)\n",
        "clean_df.head()"
      ],
      "execution_count": 19,
      "outputs": [
        {
          "output_type": "stream",
          "name": "stdout",
          "text": "Requirement already satisfied: nltk in /root/.pyenv/versions/3.7.5/lib/python3.7/site-packages (3.5)\nRequirement already satisfied: regex in /root/.pyenv/versions/3.7.5/lib/python3.7/site-packages (from nltk) (2020.6.8)\nRequirement already satisfied: click in /root/.pyenv/versions/3.7.5/lib/python3.7/site-packages (from nltk) (7.1.2)\nRequirement already satisfied: joblib in /root/.pyenv/versions/3.7.5/lib/python3.7/site-packages (from nltk) (0.15.1)\nRequirement already satisfied: tqdm in /root/.pyenv/versions/3.7.5/lib/python3.7/site-packages (from nltk) (4.46.1)\n[nltk_data] Downloading package stopwords to /root/nltk_data...\n[nltk_data]   Package stopwords is already up-to-date!\n"
        },
        {
          "output_type": "execute_result",
          "data": {
            "text/plain": "                                                   En  \\\n0   mishna teaches blemish developed within first ...   \n1   seeing clearly side afraid afraid personal str...   \n3   modifier meaning board referred unique name mo...   \n8   gemara raised issue clarifies tanna heard said...   \n10  lords high places arnon author quoting samuel ...   \n\n                                               Topics  \n0                           laws-of-animal-firstlings  \n1                               abraham-and-abimelech  \n3                                         dinei-haget  \n8   laws-of-those-that-transmit-impurity-via-beds-...  \n10                                               moab  ",
            "text/html": "<div>\n<style scoped>\n    .dataframe tbody tr th:only-of-type {\n        vertical-align: middle;\n    }\n\n    .dataframe tbody tr th {\n        vertical-align: top;\n    }\n\n    .dataframe thead th {\n        text-align: right;\n    }\n</style>\n<table border=\"1\" class=\"dataframe\">\n  <thead>\n    <tr style=\"text-align: right;\">\n      <th></th>\n      <th>En</th>\n      <th>Topics</th>\n    </tr>\n  </thead>\n  <tbody>\n    <tr>\n      <th>0</th>\n      <td>mishna teaches blemish developed within first ...</td>\n      <td>laws-of-animal-firstlings</td>\n    </tr>\n    <tr>\n      <th>1</th>\n      <td>seeing clearly side afraid afraid personal str...</td>\n      <td>abraham-and-abimelech</td>\n    </tr>\n    <tr>\n      <th>3</th>\n      <td>modifier meaning board referred unique name mo...</td>\n      <td>dinei-haget</td>\n    </tr>\n    <tr>\n      <th>8</th>\n      <td>gemara raised issue clarifies tanna heard said...</td>\n      <td>laws-of-those-that-transmit-impurity-via-beds-...</td>\n    </tr>\n    <tr>\n      <th>10</th>\n      <td>lords high places arnon author quoting samuel ...</td>\n      <td>moab</td>\n    </tr>\n  </tbody>\n</table>\n</div>"
          },
          "metadata": {},
          "execution_count": 19
        }
      ]
    },
    {
      "cell_type": "code",
      "metadata": {
        "id": "qPO8U1e53irn",
        "colab_type": "code",
        "colab": {}
      },
      "source": [
        "# clean_df.to_pickle(\"/content/drive/My Drive/Colab Datasets/clean_df.pkl\")\n",
        "# clean_df.to_pickle(\"/content/drive/My Drive/Colab Datasets/single_class_clean_df.pkl\")\n",
        "clean_df.to_pickle(\"/root/Sefaria-Project/ML/data/single_class_clean_df.pkl\")"
      ],
      "execution_count": 21,
      "outputs": []
    },
    {
      "cell_type": "code",
      "metadata": {
        "id": "lUl9R9ez2xe6",
        "colab_type": "code",
        "outputId": "489179d6-98c5-4102-d699-aaa3149b9022",
        "colab": {
          "base_uri": "https://localhost:8080/",
          "height": 327
        }
      },
      "source": [
        "from nltk.stem.snowball import SnowballStemmer\n",
        "\n",
        "stemmer = SnowballStemmer(\"english\")\n",
        "\n",
        "def stemming(sentence):\n",
        "    stemSentence = \"\"\n",
        "    for word in sentence.split():\n",
        "        stem = stemmer.stem(word)\n",
        "        stemSentence += stem\n",
        "        stemSentence += \" \"\n",
        "    stemSentence = stemSentence.strip()\n",
        "    return stemSentence\n",
        "\n",
        "stem_df = clean_df\n",
        "stem_df.En = stem_df.En.apply(stemming)\n",
        "stem_df.head()"
      ],
      "execution_count": 22,
      "outputs": [
        {
          "output_type": "execute_result",
          "data": {
            "text/plain": "                                                   En  \\\n0   mishna teach blemish develop within first year...   \n1   see clear side afraid afraid person strength a...   \n3   modifi mean board refer uniqu name modifi even...   \n8   gemara rais issu clarifi tanna heard said seme...   \n10  lord high place arnon author quot samuel ii un...   \n\n                                               Topics  \n0                           laws-of-animal-firstlings  \n1                               abraham-and-abimelech  \n3                                         dinei-haget  \n8   laws-of-those-that-transmit-impurity-via-beds-...  \n10                                               moab  ",
            "text/html": "<div>\n<style scoped>\n    .dataframe tbody tr th:only-of-type {\n        vertical-align: middle;\n    }\n\n    .dataframe tbody tr th {\n        vertical-align: top;\n    }\n\n    .dataframe thead th {\n        text-align: right;\n    }\n</style>\n<table border=\"1\" class=\"dataframe\">\n  <thead>\n    <tr style=\"text-align: right;\">\n      <th></th>\n      <th>En</th>\n      <th>Topics</th>\n    </tr>\n  </thead>\n  <tbody>\n    <tr>\n      <th>0</th>\n      <td>mishna teach blemish develop within first year...</td>\n      <td>laws-of-animal-firstlings</td>\n    </tr>\n    <tr>\n      <th>1</th>\n      <td>see clear side afraid afraid person strength a...</td>\n      <td>abraham-and-abimelech</td>\n    </tr>\n    <tr>\n      <th>3</th>\n      <td>modifi mean board refer uniqu name modifi even...</td>\n      <td>dinei-haget</td>\n    </tr>\n    <tr>\n      <th>8</th>\n      <td>gemara rais issu clarifi tanna heard said seme...</td>\n      <td>laws-of-those-that-transmit-impurity-via-beds-...</td>\n    </tr>\n    <tr>\n      <th>10</th>\n      <td>lord high place arnon author quot samuel ii un...</td>\n      <td>moab</td>\n    </tr>\n  </tbody>\n</table>\n</div>"
          },
          "metadata": {},
          "execution_count": 22
        }
      ]
    },
    {
      "cell_type": "code",
      "metadata": {
        "id": "vtEUrLkN318V",
        "colab_type": "code",
        "colab": {}
      },
      "source": [
        "# stem_df.to_pickle(\"/content/drive/My Drive/Colab Datasets/stem_df.pkl\")\n",
        "# stem_df.to_pickle(\"/content/drive/My Drive/Colab Datasets/single_class_stem_df.pkl\")\n",
        "stem_df.to_pickle(\"/root/Sefaria-Project/ML/data/single_class_stem_df.pkl\")\n"
      ],
      "execution_count": 23,
      "outputs": []
    },
    {
      "cell_type": "code",
      "metadata": {
        "id": "IcDVggVJyqVR",
        "colab_type": "code",
        "outputId": "1b32b0a9-5b16-4192-f39c-e8b4bff64d65",
        "colab": {
          "base_uri": "https://localhost:8080/",
          "height": 904
        }
      },
      "source": [
        "# eng_df = stem_df[['En','Topics']]\n",
        "# topics_df = eng_df.join(eng_df.pop('Topics').str.get_dummies(' '))\n",
        "# topics_df.head()"
      ],
      "execution_count": 24,
      "outputs": []
    },
    {
      "cell_type": "code",
      "metadata": {
        "id": "FNEU5Lu60L9E",
        "colab_type": "code",
        "colab": {}
      },
      "source": [
        "topics_df.to_pickle(\"/content/drive/My Drive/Colab Datasets/single_class_topics_df.pkl\")\n",
        "# topics_df.to_pickle(\"/content/drive/My Drive/Colab Datasets/topics_df.pkl\")"
      ],
      "execution_count": 0,
      "outputs": []
    },
    {
      "cell_type": "code",
      "metadata": {
        "id": "bv7zUfst3_yi",
        "colab_type": "code",
        "colab": {}
      },
      "source": [
        ""
      ],
      "execution_count": 0,
      "outputs": []
    }
  ],
  "metadata": {
    "colab": {
      "name": "ML/Data_Cleaning.ipynb",
      "provenance": [],
      "mount_file_id": "https://github.com/yishairasowsky/Sefaria-Project/blob/master/ML/Data_Cleaning.ipynb",
      "authorship_tag": "ABX9TyNiAEBBxbrob7FPY7lP4+Ec",
      "include_colab_link": true
    },
    "kernelspec": {
      "name": "python3",
      "display_name": "Python 3"
    }
  },
  "nbformat": 4,
  "nbformat_minor": 0
}