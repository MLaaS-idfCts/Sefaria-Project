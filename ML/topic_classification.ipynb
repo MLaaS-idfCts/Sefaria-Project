{
  "nbformat": 4,
  "nbformat_minor": 0,
  "metadata": {
    "colab": {
      "name": "topic_classification.ipynb",
      "provenance": [],
      "collapsed_sections": [],
      "mount_file_id": "https://github.com/yishairasowsky/Sefaria-Project/blob/master/ML/topic_classification.ipynb",
      "authorship_tag": "ABX9TyMCF4TYiYe2pggxVlMuKlUD",
      "include_colab_link": true
    },
    "kernelspec": {
      "name": "python3",
      "display_name": "Python 3"
    }
  },
  "cells": [
    {
      "cell_type": "markdown",
      "metadata": {
        "id": "view-in-github",
        "colab_type": "text"
      },
      "source": [
        "<a href=\"https://colab.research.google.com/github/yishairasowsky/Sefaria-Project/blob/master/ML/topic_classification.ipynb\" target=\"_parent\"><img src=\"https://colab.research.google.com/assets/colab-badge.svg\" alt=\"Open In Colab\"/></a>"
      ]
    },
    {
      "cell_type": "code",
      "metadata": {
        "id": "996XuOF9zQp3",
        "colab_type": "code",
        "colab": {}
      },
      "source": [
        "import numpy as np \n",
        "import pandas as pd"
      ],
      "execution_count": 0,
      "outputs": []
    },
    {
      "cell_type": "code",
      "metadata": {
        "id": "_GJq4lAIzY4K",
        "colab_type": "code",
        "colab": {}
      },
      "source": [
        "# prayer_df = pd.read_csv('/content/drive/My Drive/Colab Datasets/prayer-sources.csv', \n",
        "#                         encoding=\"latin-1\"\n",
        "#                         # encoding=\"utf-8\"\n",
        "#                         )\n",
        "# not_prayer_df = pd.read_csv('/content/drive/My Drive/Colab Datasets/not-prayer-sources.csv', \n",
        "# # not_prayer_df = pd.read_csv('/content/not-prayer-sources-more.csv', \n",
        "#                             encoding=\"latin-1\"\n",
        "#                               # encoding=\"utf-8\"\n",
        "#                             )\n",
        "\n",
        "big_df = pd.read_csv('/content/drive/My Drive/Colab Datasets/yishai_data.csv',\n",
        "                            encoding=\"latin-1\"\n",
        "                              # encoding=\"utf-8\"\n",
        ")"
      ],
      "execution_count": 0,
      "outputs": []
    },
    {
      "cell_type": "code",
      "metadata": {
        "id": "BccLtDu7qYNT",
        "colab_type": "code",
        "outputId": "02712647-6a6e-42bd-a6b4-7f7eb4a94d01",
        "colab": {
          "base_uri": "https://localhost:8080/",
          "height": 221
        }
      },
      "source": [
        "big_df.info()"
      ],
      "execution_count": 40,
      "outputs": [
        {
          "output_type": "stream",
          "text": [
            "<class 'pandas.core.frame.DataFrame'>\n",
            "RangeIndex: 189503 entries, 0 to 189502\n",
            "Data columns (total 5 columns):\n",
            " #   Column           Non-Null Count   Dtype \n",
            "---  ------           --------------   ----- \n",
            " 0   Ref              189503 non-null  object\n",
            " 1   En               115612 non-null  object\n",
            " 2   He               188924 non-null  object\n",
            " 3   Topics           189503 non-null  object\n",
            " 4   Expanded Topics  189502 non-null  object\n",
            "dtypes: object(5)\n",
            "memory usage: 7.2+ MB\n"
          ],
          "name": "stdout"
        }
      ]
    },
    {
      "cell_type": "code",
      "metadata": {
        "id": "8SCGaY-iDa1t",
        "colab_type": "code",
        "colab": {
          "base_uri": "https://localhost:8080/",
          "height": 34
        },
        "outputId": "c23c4de0-9658-4707-d752-18ea56a0790d"
      },
      "source": [
        "big_df.shape"
      ],
      "execution_count": 41,
      "outputs": [
        {
          "output_type": "execute_result",
          "data": {
            "text/plain": [
              "(189503, 5)"
            ]
          },
          "metadata": {
            "tags": []
          },
          "execution_count": 41
        }
      ]
    },
    {
      "cell_type": "code",
      "metadata": {
        "id": "oW-U8Ok1Do8T",
        "colab_type": "code",
        "colab": {}
      },
      "source": [
        "small_df = big_df[:1000]"
      ],
      "execution_count": 0,
      "outputs": []
    },
    {
      "cell_type": "code",
      "metadata": {
        "id": "4lcgbbDfDN_p",
        "colab_type": "code",
        "colab": {
          "base_uri": "https://localhost:8080/",
          "height": 193
        },
        "outputId": "3099a5a2-1221-4cf7-983c-bb186e19110a"
      },
      "source": [
        "small_df.sample(3)"
      ],
      "execution_count": 43,
      "outputs": [
        {
          "output_type": "execute_result",
          "data": {
            "text/html": [
              "<div>\n",
              "<style scoped>\n",
              "    .dataframe tbody tr th:only-of-type {\n",
              "        vertical-align: middle;\n",
              "    }\n",
              "\n",
              "    .dataframe tbody tr th {\n",
              "        vertical-align: top;\n",
              "    }\n",
              "\n",
              "    .dataframe thead th {\n",
              "        text-align: right;\n",
              "    }\n",
              "</style>\n",
              "<table border=\"1\" class=\"dataframe\">\n",
              "  <thead>\n",
              "    <tr style=\"text-align: right;\">\n",
              "      <th></th>\n",
              "      <th>Ref</th>\n",
              "      <th>En</th>\n",
              "      <th>He</th>\n",
              "      <th>Topics</th>\n",
              "      <th>Expanded Topics</th>\n",
              "    </tr>\n",
              "  </thead>\n",
              "  <tbody>\n",
              "    <tr>\n",
              "      <th>587</th>\n",
              "      <td>Tur, Choshen Mishpat 90:3</td>\n",
              "      <td>NaN</td>\n",
              "      <td>&lt;i data-commentator=\"Beit_Yosef\" data-order=\"...</td>\n",
              "      <td>injury-law laws-of-robbery laws-of-damages-fro...</td>\n",
              "      <td>laws-of-damages-from-a-fire continuant laws-of...</td>\n",
              "    </tr>\n",
              "    <tr>\n",
              "      <th>230</th>\n",
              "      <td>Rashi on Numbers 36:4:2</td>\n",
              "      <td>××× ×××× ×××× may mean, too: AND WH...</td>\n",
              "      <td>&lt;b&gt;××× ×××× ×××××.&lt;/b&gt; ×Ö¼Ö°××Ö...</td>\n",
              "      <td>inheritance jubilee</td>\n",
              "      <td>temporal-region jubilee material-entity living...</td>\n",
              "    </tr>\n",
              "    <tr>\n",
              "      <th>257</th>\n",
              "      <td>Sefer HaChinukh 257:5</td>\n",
              "      <td>And likewise from the laws of the commandment ...</td>\n",
              "      <td>××× ×××× × ×××¦×× ××¢× ×× ×× ×©...</td>\n",
              "      <td>laws-of-honoring-the-sages</td>\n",
              "      <td>continuant laws-of-torah-study laws-of-honorin...</td>\n",
              "    </tr>\n",
              "  </tbody>\n",
              "</table>\n",
              "</div>"
            ],
            "text/plain": [
              "                           Ref  ...                                    Expanded Topics\n",
              "587  Tur, Choshen Mishpat 90:3  ...  laws-of-damages-from-a-fire continuant laws-of...\n",
              "230    Rashi on Numbers 36:4:2  ...  temporal-region jubilee material-entity living...\n",
              "257      Sefer HaChinukh 257:5  ...  continuant laws-of-torah-study laws-of-honorin...\n",
              "\n",
              "[3 rows x 5 columns]"
            ]
          },
          "metadata": {
            "tags": []
          },
          "execution_count": 43
        }
      ]
    },
    {
      "cell_type": "code",
      "metadata": {
        "id": "86ap1xH17BAF",
        "colab_type": "code",
        "colab": {
          "base_uri": "https://localhost:8080/",
          "height": 480
        },
        "outputId": "cdfa8ba7-f8e6-45bc-b502-b4c8cb2bc91e"
      },
      "source": [
        "df = small_df[['En','Topics']]\n",
        "# df['Topics'] = df['Topics'].str.split()\n",
        "df['Topics'].str.split()\n",
        "# df['Topics'] = df['Topics'].str.split().to_numpy()\n",
        "# df.head(3)\n",
        "df = df.join(df.pop('Topics').str.get_dummies(' '))\n",
        "df.head(3)\n"
      ],
      "execution_count": 54,
      "outputs": [
        {
          "output_type": "execute_result",
          "data": {
            "text/html": [
              "<div>\n",
              "<style scoped>\n",
              "    .dataframe tbody tr th:only-of-type {\n",
              "        vertical-align: middle;\n",
              "    }\n",
              "\n",
              "    .dataframe tbody tr th {\n",
              "        vertical-align: top;\n",
              "    }\n",
              "\n",
              "    .dataframe thead th {\n",
              "        text-align: right;\n",
              "    }\n",
              "</style>\n",
              "<table border=\"1\" class=\"dataframe\">\n",
              "  <thead>\n",
              "    <tr style=\"text-align: right;\">\n",
              "      <th></th>\n",
              "      <th>En</th>\n",
              "      <th>300</th>\n",
              "      <th>aaron</th>\n",
              "      <th>aaron-and-his-sons</th>\n",
              "      <th>aarons-death</th>\n",
              "      <th>abel</th>\n",
              "      <th>abraham</th>\n",
              "      <th>abraham-and-sarah</th>\n",
              "      <th>abraham-and-sodom</th>\n",
              "      <th>abraham-and-the-angels</th>\n",
              "      <th>abraham-and-the-kings</th>\n",
              "      <th>abraham-in-egypt</th>\n",
              "      <th>abraham-in-ur-kasdim-and-his-departure-from-there</th>\n",
              "      <th>absalom</th>\n",
              "      <th>acceptance-of-nazarite-vows-and-its-duration</th>\n",
              "      <th>acquisitions</th>\n",
              "      <th>actuality</th>\n",
              "      <th>adam</th>\n",
              "      <th>adam-before-and-after-the-sin</th>\n",
              "      <th>adams-sin-and-his-punishment</th>\n",
              "      <th>additional-gifts-to-the-priesthood</th>\n",
              "      <th>afflictions</th>\n",
              "      <th>agency</th>\n",
              "      <th>ahab</th>\n",
              "      <th>ahaz</th>\n",
              "      <th>alacrity</th>\n",
              "      <th>amalek</th>\n",
              "      <th>angels</th>\n",
              "      <th>anger</th>\n",
              "      <th>animal-tithes</th>\n",
              "      <th>animals</th>\n",
              "      <th>annihilating-the-memory-of-amalek</th>\n",
              "      <th>anointing-oil</th>\n",
              "      <th>apikoros</th>\n",
              "      <th>appeasement</th>\n",
              "      <th>aram</th>\n",
              "      <th>aron-habrit</th>\n",
              "      <th>arvit</th>\n",
              "      <th>asceticism</th>\n",
              "      <th>ashur</th>\n",
              "      <th>...</th>\n",
              "      <th>tzedakah</th>\n",
              "      <th>tzimtzum</th>\n",
              "      <th>tzitzit</th>\n",
              "      <th>undifferentiated</th>\n",
              "      <th>urine</th>\n",
              "      <th>vegetables</th>\n",
              "      <th>vidui</th>\n",
              "      <th>visions1</th>\n",
              "      <th>vows</th>\n",
              "      <th>wage-workers</th>\n",
              "      <th>war-with-midian</th>\n",
              "      <th>wars</th>\n",
              "      <th>water</th>\n",
              "      <th>wealth</th>\n",
              "      <th>wild-animals</th>\n",
              "      <th>windows</th>\n",
              "      <th>wine</th>\n",
              "      <th>wisdom</th>\n",
              "      <th>witches</th>\n",
              "      <th>witnesses</th>\n",
              "      <th>wives-of-priests</th>\n",
              "      <th>women</th>\n",
              "      <th>wonders</th>\n",
              "      <th>work</th>\n",
              "      <th>work-(×××××)</th>\n",
              "      <th>worlds</th>\n",
              "      <th>writing</th>\n",
              "      <th>yannai</th>\n",
              "      <th>yavesh-gilad</th>\n",
              "      <th>yehonatan</th>\n",
              "      <th>yehoram-(king-of-israel)</th>\n",
              "      <th>yerovam-(son-of-nebat)</th>\n",
              "      <th>yetzer-hara</th>\n",
              "      <th>yirat-shamayim</th>\n",
              "      <th>yom-kippur</th>\n",
              "      <th>yom-kippur-offerings</th>\n",
              "      <th>yom-tov</th>\n",
              "      <th>you-shall-not-cut-yourself</th>\n",
              "      <th>young-torah-scholars</th>\n",
              "      <th>young-women</th>\n",
              "    </tr>\n",
              "  </thead>\n",
              "  <tbody>\n",
              "    <tr>\n",
              "      <th>0</th>\n",
              "      <td>Each and every one of the sons of man has many...</td>\n",
              "      <td>0</td>\n",
              "      <td>0</td>\n",
              "      <td>0</td>\n",
              "      <td>0</td>\n",
              "      <td>0</td>\n",
              "      <td>0</td>\n",
              "      <td>0</td>\n",
              "      <td>0</td>\n",
              "      <td>0</td>\n",
              "      <td>0</td>\n",
              "      <td>0</td>\n",
              "      <td>0</td>\n",
              "      <td>0</td>\n",
              "      <td>0</td>\n",
              "      <td>0</td>\n",
              "      <td>0</td>\n",
              "      <td>0</td>\n",
              "      <td>0</td>\n",
              "      <td>0</td>\n",
              "      <td>0</td>\n",
              "      <td>0</td>\n",
              "      <td>0</td>\n",
              "      <td>0</td>\n",
              "      <td>0</td>\n",
              "      <td>0</td>\n",
              "      <td>0</td>\n",
              "      <td>0</td>\n",
              "      <td>1</td>\n",
              "      <td>0</td>\n",
              "      <td>0</td>\n",
              "      <td>0</td>\n",
              "      <td>0</td>\n",
              "      <td>0</td>\n",
              "      <td>0</td>\n",
              "      <td>0</td>\n",
              "      <td>0</td>\n",
              "      <td>0</td>\n",
              "      <td>0</td>\n",
              "      <td>0</td>\n",
              "      <td>...</td>\n",
              "      <td>0</td>\n",
              "      <td>0</td>\n",
              "      <td>0</td>\n",
              "      <td>0</td>\n",
              "      <td>0</td>\n",
              "      <td>0</td>\n",
              "      <td>0</td>\n",
              "      <td>0</td>\n",
              "      <td>0</td>\n",
              "      <td>0</td>\n",
              "      <td>0</td>\n",
              "      <td>0</td>\n",
              "      <td>0</td>\n",
              "      <td>0</td>\n",
              "      <td>0</td>\n",
              "      <td>0</td>\n",
              "      <td>0</td>\n",
              "      <td>0</td>\n",
              "      <td>0</td>\n",
              "      <td>0</td>\n",
              "      <td>0</td>\n",
              "      <td>0</td>\n",
              "      <td>0</td>\n",
              "      <td>0</td>\n",
              "      <td>0</td>\n",
              "      <td>0</td>\n",
              "      <td>0</td>\n",
              "      <td>0</td>\n",
              "      <td>0</td>\n",
              "      <td>0</td>\n",
              "      <td>0</td>\n",
              "      <td>0</td>\n",
              "      <td>0</td>\n",
              "      <td>0</td>\n",
              "      <td>0</td>\n",
              "      <td>0</td>\n",
              "      <td>0</td>\n",
              "      <td>0</td>\n",
              "      <td>0</td>\n",
              "      <td>0</td>\n",
              "    </tr>\n",
              "    <tr>\n",
              "      <th>1</th>\n",
              "      <td>The Gemara asks: &lt;b&gt;Granted, the entire verse ...</td>\n",
              "      <td>0</td>\n",
              "      <td>0</td>\n",
              "      <td>0</td>\n",
              "      <td>0</td>\n",
              "      <td>0</td>\n",
              "      <td>0</td>\n",
              "      <td>0</td>\n",
              "      <td>0</td>\n",
              "      <td>0</td>\n",
              "      <td>0</td>\n",
              "      <td>0</td>\n",
              "      <td>0</td>\n",
              "      <td>0</td>\n",
              "      <td>0</td>\n",
              "      <td>0</td>\n",
              "      <td>0</td>\n",
              "      <td>0</td>\n",
              "      <td>0</td>\n",
              "      <td>0</td>\n",
              "      <td>0</td>\n",
              "      <td>0</td>\n",
              "      <td>0</td>\n",
              "      <td>0</td>\n",
              "      <td>0</td>\n",
              "      <td>0</td>\n",
              "      <td>0</td>\n",
              "      <td>0</td>\n",
              "      <td>0</td>\n",
              "      <td>0</td>\n",
              "      <td>0</td>\n",
              "      <td>0</td>\n",
              "      <td>0</td>\n",
              "      <td>0</td>\n",
              "      <td>0</td>\n",
              "      <td>0</td>\n",
              "      <td>0</td>\n",
              "      <td>0</td>\n",
              "      <td>0</td>\n",
              "      <td>0</td>\n",
              "      <td>...</td>\n",
              "      <td>0</td>\n",
              "      <td>0</td>\n",
              "      <td>0</td>\n",
              "      <td>0</td>\n",
              "      <td>0</td>\n",
              "      <td>0</td>\n",
              "      <td>0</td>\n",
              "      <td>0</td>\n",
              "      <td>0</td>\n",
              "      <td>0</td>\n",
              "      <td>0</td>\n",
              "      <td>0</td>\n",
              "      <td>0</td>\n",
              "      <td>0</td>\n",
              "      <td>0</td>\n",
              "      <td>0</td>\n",
              "      <td>0</td>\n",
              "      <td>0</td>\n",
              "      <td>0</td>\n",
              "      <td>0</td>\n",
              "      <td>0</td>\n",
              "      <td>0</td>\n",
              "      <td>0</td>\n",
              "      <td>0</td>\n",
              "      <td>0</td>\n",
              "      <td>0</td>\n",
              "      <td>0</td>\n",
              "      <td>0</td>\n",
              "      <td>0</td>\n",
              "      <td>0</td>\n",
              "      <td>0</td>\n",
              "      <td>0</td>\n",
              "      <td>0</td>\n",
              "      <td>0</td>\n",
              "      <td>0</td>\n",
              "      <td>0</td>\n",
              "      <td>0</td>\n",
              "      <td>0</td>\n",
              "      <td>0</td>\n",
              "      <td>0</td>\n",
              "    </tr>\n",
              "    <tr>\n",
              "      <th>2</th>\n",
              "      <td>&lt;b&gt;Rav á¸¤anan bar Taá¸¥lifa sent&lt;/b&gt; a messag...</td>\n",
              "      <td>0</td>\n",
              "      <td>0</td>\n",
              "      <td>0</td>\n",
              "      <td>0</td>\n",
              "      <td>0</td>\n",
              "      <td>0</td>\n",
              "      <td>0</td>\n",
              "      <td>0</td>\n",
              "      <td>0</td>\n",
              "      <td>0</td>\n",
              "      <td>0</td>\n",
              "      <td>0</td>\n",
              "      <td>0</td>\n",
              "      <td>0</td>\n",
              "      <td>0</td>\n",
              "      <td>0</td>\n",
              "      <td>0</td>\n",
              "      <td>0</td>\n",
              "      <td>0</td>\n",
              "      <td>0</td>\n",
              "      <td>0</td>\n",
              "      <td>0</td>\n",
              "      <td>0</td>\n",
              "      <td>0</td>\n",
              "      <td>0</td>\n",
              "      <td>0</td>\n",
              "      <td>0</td>\n",
              "      <td>0</td>\n",
              "      <td>0</td>\n",
              "      <td>0</td>\n",
              "      <td>0</td>\n",
              "      <td>0</td>\n",
              "      <td>0</td>\n",
              "      <td>0</td>\n",
              "      <td>0</td>\n",
              "      <td>0</td>\n",
              "      <td>0</td>\n",
              "      <td>0</td>\n",
              "      <td>0</td>\n",
              "      <td>...</td>\n",
              "      <td>0</td>\n",
              "      <td>0</td>\n",
              "      <td>0</td>\n",
              "      <td>0</td>\n",
              "      <td>0</td>\n",
              "      <td>0</td>\n",
              "      <td>0</td>\n",
              "      <td>0</td>\n",
              "      <td>0</td>\n",
              "      <td>0</td>\n",
              "      <td>0</td>\n",
              "      <td>1</td>\n",
              "      <td>0</td>\n",
              "      <td>0</td>\n",
              "      <td>0</td>\n",
              "      <td>0</td>\n",
              "      <td>0</td>\n",
              "      <td>0</td>\n",
              "      <td>0</td>\n",
              "      <td>0</td>\n",
              "      <td>0</td>\n",
              "      <td>0</td>\n",
              "      <td>0</td>\n",
              "      <td>0</td>\n",
              "      <td>0</td>\n",
              "      <td>0</td>\n",
              "      <td>0</td>\n",
              "      <td>0</td>\n",
              "      <td>0</td>\n",
              "      <td>0</td>\n",
              "      <td>0</td>\n",
              "      <td>0</td>\n",
              "      <td>0</td>\n",
              "      <td>0</td>\n",
              "      <td>0</td>\n",
              "      <td>0</td>\n",
              "      <td>0</td>\n",
              "      <td>0</td>\n",
              "      <td>0</td>\n",
              "      <td>0</td>\n",
              "    </tr>\n",
              "  </tbody>\n",
              "</table>\n",
              "<p>3 rows × 888 columns</p>\n",
              "</div>"
            ],
            "text/plain": [
              "                                                  En  ...  young-women\n",
              "0  Each and every one of the sons of man has many...  ...            0\n",
              "1  The Gemara asks: <b>Granted, the entire verse ...  ...            0\n",
              "2  <b>Rav á¸¤anan bar Taá¸¥lifa sent</b> a messag...  ...            0\n",
              "\n",
              "[3 rows x 888 columns]"
            ]
          },
          "metadata": {
            "tags": []
          },
          "execution_count": 54
        }
      ]
    },
    {
      "cell_type": "code",
      "metadata": {
        "id": "9sCfpHTkHmBD",
        "colab_type": "code",
        "colab": {
          "base_uri": "https://localhost:8080/",
          "height": 565
        },
        "outputId": "fd746466-0b04-488f-8ad5-703388748cc5"
      },
      "source": [
        "filter = toxic_comments[\"comment_text\"] != \"\"\n",
        "toxic_comments = toxic_comments[filter]\n",
        "toxic_comments = toxic_comments.dropna()\n"
      ],
      "execution_count": 51,
      "outputs": [
        {
          "output_type": "execute_result",
          "data": {
            "text/html": [
              "<div>\n",
              "<style scoped>\n",
              "    .dataframe tbody tr th:only-of-type {\n",
              "        vertical-align: middle;\n",
              "    }\n",
              "\n",
              "    .dataframe tbody tr th {\n",
              "        vertical-align: top;\n",
              "    }\n",
              "\n",
              "    .dataframe thead th {\n",
              "        text-align: right;\n",
              "    }\n",
              "</style>\n",
              "<table border=\"1\" class=\"dataframe\">\n",
              "  <thead>\n",
              "    <tr style=\"text-align: right;\">\n",
              "      <th></th>\n",
              "      <th>En</th>\n",
              "      <th>Topics</th>\n",
              "      <th>300</th>\n",
              "      <th>aaron</th>\n",
              "      <th>aaron-and-his-sons</th>\n",
              "      <th>aarons-death</th>\n",
              "      <th>abel</th>\n",
              "      <th>abraham</th>\n",
              "      <th>abraham-and-sarah</th>\n",
              "      <th>abraham-and-sodom</th>\n",
              "      <th>abraham-and-the-angels</th>\n",
              "      <th>abraham-and-the-kings</th>\n",
              "      <th>abraham-in-egypt</th>\n",
              "      <th>abraham-in-ur-kasdim-and-his-departure-from-there</th>\n",
              "      <th>absalom</th>\n",
              "      <th>acceptance-of-nazarite-vows-and-its-duration</th>\n",
              "      <th>acquisitions</th>\n",
              "      <th>actuality</th>\n",
              "      <th>adam</th>\n",
              "      <th>adam-before-and-after-the-sin</th>\n",
              "      <th>adams-sin-and-his-punishment</th>\n",
              "      <th>additional-gifts-to-the-priesthood</th>\n",
              "      <th>afflictions</th>\n",
              "      <th>agency</th>\n",
              "      <th>ahab</th>\n",
              "      <th>ahaz</th>\n",
              "      <th>alacrity</th>\n",
              "      <th>amalek</th>\n",
              "      <th>angels</th>\n",
              "      <th>anger</th>\n",
              "      <th>animal-tithes</th>\n",
              "      <th>animals</th>\n",
              "      <th>annihilating-the-memory-of-amalek</th>\n",
              "      <th>anointing-oil</th>\n",
              "      <th>apikoros</th>\n",
              "      <th>appeasement</th>\n",
              "      <th>aram</th>\n",
              "      <th>aron-habrit</th>\n",
              "      <th>arvit</th>\n",
              "      <th>asceticism</th>\n",
              "      <th>...</th>\n",
              "      <th>tzedakah</th>\n",
              "      <th>tzimtzum</th>\n",
              "      <th>tzitzit</th>\n",
              "      <th>undifferentiated</th>\n",
              "      <th>urine</th>\n",
              "      <th>vegetables</th>\n",
              "      <th>vidui</th>\n",
              "      <th>visions1</th>\n",
              "      <th>vows</th>\n",
              "      <th>wage-workers</th>\n",
              "      <th>war-with-midian</th>\n",
              "      <th>wars</th>\n",
              "      <th>water</th>\n",
              "      <th>wealth</th>\n",
              "      <th>wild-animals</th>\n",
              "      <th>windows</th>\n",
              "      <th>wine</th>\n",
              "      <th>wisdom</th>\n",
              "      <th>witches</th>\n",
              "      <th>witnesses</th>\n",
              "      <th>wives-of-priests</th>\n",
              "      <th>women</th>\n",
              "      <th>wonders</th>\n",
              "      <th>work</th>\n",
              "      <th>work-(×××××)</th>\n",
              "      <th>worlds</th>\n",
              "      <th>writing</th>\n",
              "      <th>yannai</th>\n",
              "      <th>yavesh-gilad</th>\n",
              "      <th>yehonatan</th>\n",
              "      <th>yehoram-(king-of-israel)</th>\n",
              "      <th>yerovam-(son-of-nebat)</th>\n",
              "      <th>yetzer-hara</th>\n",
              "      <th>yirat-shamayim</th>\n",
              "      <th>yom-kippur</th>\n",
              "      <th>yom-kippur-offerings</th>\n",
              "      <th>yom-tov</th>\n",
              "      <th>you-shall-not-cut-yourself</th>\n",
              "      <th>young-torah-scholars</th>\n",
              "      <th>young-women</th>\n",
              "    </tr>\n",
              "  </thead>\n",
              "  <tbody>\n",
              "    <tr>\n",
              "      <th>0</th>\n",
              "      <td>Each and every one of the sons of man has many...</td>\n",
              "      <td>proper-moral-and-hygienic-conduct anger nature...</td>\n",
              "      <td>0</td>\n",
              "      <td>0</td>\n",
              "      <td>0</td>\n",
              "      <td>0</td>\n",
              "      <td>0</td>\n",
              "      <td>0</td>\n",
              "      <td>0</td>\n",
              "      <td>0</td>\n",
              "      <td>0</td>\n",
              "      <td>0</td>\n",
              "      <td>0</td>\n",
              "      <td>0</td>\n",
              "      <td>0</td>\n",
              "      <td>0</td>\n",
              "      <td>0</td>\n",
              "      <td>0</td>\n",
              "      <td>0</td>\n",
              "      <td>0</td>\n",
              "      <td>0</td>\n",
              "      <td>0</td>\n",
              "      <td>0</td>\n",
              "      <td>0</td>\n",
              "      <td>0</td>\n",
              "      <td>0</td>\n",
              "      <td>0</td>\n",
              "      <td>0</td>\n",
              "      <td>0</td>\n",
              "      <td>1</td>\n",
              "      <td>0</td>\n",
              "      <td>0</td>\n",
              "      <td>0</td>\n",
              "      <td>0</td>\n",
              "      <td>0</td>\n",
              "      <td>0</td>\n",
              "      <td>0</td>\n",
              "      <td>0</td>\n",
              "      <td>0</td>\n",
              "      <td>0</td>\n",
              "      <td>...</td>\n",
              "      <td>0</td>\n",
              "      <td>0</td>\n",
              "      <td>0</td>\n",
              "      <td>0</td>\n",
              "      <td>0</td>\n",
              "      <td>0</td>\n",
              "      <td>0</td>\n",
              "      <td>0</td>\n",
              "      <td>0</td>\n",
              "      <td>0</td>\n",
              "      <td>0</td>\n",
              "      <td>0</td>\n",
              "      <td>0</td>\n",
              "      <td>0</td>\n",
              "      <td>0</td>\n",
              "      <td>0</td>\n",
              "      <td>0</td>\n",
              "      <td>0</td>\n",
              "      <td>0</td>\n",
              "      <td>0</td>\n",
              "      <td>0</td>\n",
              "      <td>0</td>\n",
              "      <td>0</td>\n",
              "      <td>0</td>\n",
              "      <td>0</td>\n",
              "      <td>0</td>\n",
              "      <td>0</td>\n",
              "      <td>0</td>\n",
              "      <td>0</td>\n",
              "      <td>0</td>\n",
              "      <td>0</td>\n",
              "      <td>0</td>\n",
              "      <td>0</td>\n",
              "      <td>0</td>\n",
              "      <td>0</td>\n",
              "      <td>0</td>\n",
              "      <td>0</td>\n",
              "      <td>0</td>\n",
              "      <td>0</td>\n",
              "      <td>0</td>\n",
              "    </tr>\n",
              "    <tr>\n",
              "      <th>1</th>\n",
              "      <td>The Gemara asks: &lt;b&gt;Granted, the entire verse ...</td>\n",
              "      <td>parah-adumah</td>\n",
              "      <td>0</td>\n",
              "      <td>0</td>\n",
              "      <td>0</td>\n",
              "      <td>0</td>\n",
              "      <td>0</td>\n",
              "      <td>0</td>\n",
              "      <td>0</td>\n",
              "      <td>0</td>\n",
              "      <td>0</td>\n",
              "      <td>0</td>\n",
              "      <td>0</td>\n",
              "      <td>0</td>\n",
              "      <td>0</td>\n",
              "      <td>0</td>\n",
              "      <td>0</td>\n",
              "      <td>0</td>\n",
              "      <td>0</td>\n",
              "      <td>0</td>\n",
              "      <td>0</td>\n",
              "      <td>0</td>\n",
              "      <td>0</td>\n",
              "      <td>0</td>\n",
              "      <td>0</td>\n",
              "      <td>0</td>\n",
              "      <td>0</td>\n",
              "      <td>0</td>\n",
              "      <td>0</td>\n",
              "      <td>0</td>\n",
              "      <td>0</td>\n",
              "      <td>0</td>\n",
              "      <td>0</td>\n",
              "      <td>0</td>\n",
              "      <td>0</td>\n",
              "      <td>0</td>\n",
              "      <td>0</td>\n",
              "      <td>0</td>\n",
              "      <td>0</td>\n",
              "      <td>0</td>\n",
              "      <td>...</td>\n",
              "      <td>0</td>\n",
              "      <td>0</td>\n",
              "      <td>0</td>\n",
              "      <td>0</td>\n",
              "      <td>0</td>\n",
              "      <td>0</td>\n",
              "      <td>0</td>\n",
              "      <td>0</td>\n",
              "      <td>0</td>\n",
              "      <td>0</td>\n",
              "      <td>0</td>\n",
              "      <td>0</td>\n",
              "      <td>0</td>\n",
              "      <td>0</td>\n",
              "      <td>0</td>\n",
              "      <td>0</td>\n",
              "      <td>0</td>\n",
              "      <td>0</td>\n",
              "      <td>0</td>\n",
              "      <td>0</td>\n",
              "      <td>0</td>\n",
              "      <td>0</td>\n",
              "      <td>0</td>\n",
              "      <td>0</td>\n",
              "      <td>0</td>\n",
              "      <td>0</td>\n",
              "      <td>0</td>\n",
              "      <td>0</td>\n",
              "      <td>0</td>\n",
              "      <td>0</td>\n",
              "      <td>0</td>\n",
              "      <td>0</td>\n",
              "      <td>0</td>\n",
              "      <td>0</td>\n",
              "      <td>0</td>\n",
              "      <td>0</td>\n",
              "      <td>0</td>\n",
              "      <td>0</td>\n",
              "      <td>0</td>\n",
              "      <td>0</td>\n",
              "    </tr>\n",
              "    <tr>\n",
              "      <th>2</th>\n",
              "      <td>&lt;b&gt;Rav á¸¤anan bar Taá¸¥lifa sent&lt;/b&gt; a messag...</td>\n",
              "      <td>wars rome the-hebrew-language scrolls time-of-...</td>\n",
              "      <td>0</td>\n",
              "      <td>0</td>\n",
              "      <td>0</td>\n",
              "      <td>0</td>\n",
              "      <td>0</td>\n",
              "      <td>0</td>\n",
              "      <td>0</td>\n",
              "      <td>0</td>\n",
              "      <td>0</td>\n",
              "      <td>0</td>\n",
              "      <td>0</td>\n",
              "      <td>0</td>\n",
              "      <td>0</td>\n",
              "      <td>0</td>\n",
              "      <td>0</td>\n",
              "      <td>0</td>\n",
              "      <td>0</td>\n",
              "      <td>0</td>\n",
              "      <td>0</td>\n",
              "      <td>0</td>\n",
              "      <td>0</td>\n",
              "      <td>0</td>\n",
              "      <td>0</td>\n",
              "      <td>0</td>\n",
              "      <td>0</td>\n",
              "      <td>0</td>\n",
              "      <td>0</td>\n",
              "      <td>0</td>\n",
              "      <td>0</td>\n",
              "      <td>0</td>\n",
              "      <td>0</td>\n",
              "      <td>0</td>\n",
              "      <td>0</td>\n",
              "      <td>0</td>\n",
              "      <td>0</td>\n",
              "      <td>0</td>\n",
              "      <td>0</td>\n",
              "      <td>0</td>\n",
              "      <td>...</td>\n",
              "      <td>0</td>\n",
              "      <td>0</td>\n",
              "      <td>0</td>\n",
              "      <td>0</td>\n",
              "      <td>0</td>\n",
              "      <td>0</td>\n",
              "      <td>0</td>\n",
              "      <td>0</td>\n",
              "      <td>0</td>\n",
              "      <td>0</td>\n",
              "      <td>0</td>\n",
              "      <td>1</td>\n",
              "      <td>0</td>\n",
              "      <td>0</td>\n",
              "      <td>0</td>\n",
              "      <td>0</td>\n",
              "      <td>0</td>\n",
              "      <td>0</td>\n",
              "      <td>0</td>\n",
              "      <td>0</td>\n",
              "      <td>0</td>\n",
              "      <td>0</td>\n",
              "      <td>0</td>\n",
              "      <td>0</td>\n",
              "      <td>0</td>\n",
              "      <td>0</td>\n",
              "      <td>0</td>\n",
              "      <td>0</td>\n",
              "      <td>0</td>\n",
              "      <td>0</td>\n",
              "      <td>0</td>\n",
              "      <td>0</td>\n",
              "      <td>0</td>\n",
              "      <td>0</td>\n",
              "      <td>0</td>\n",
              "      <td>0</td>\n",
              "      <td>0</td>\n",
              "      <td>0</td>\n",
              "      <td>0</td>\n",
              "      <td>0</td>\n",
              "    </tr>\n",
              "  </tbody>\n",
              "</table>\n",
              "<p>3 rows × 889 columns</p>\n",
              "</div>"
            ],
            "text/plain": [
              "                                                  En  ... young-women\n",
              "0  Each and every one of the sons of man has many...  ...           0\n",
              "1  The Gemara asks: <b>Granted, the entire verse ...  ...           0\n",
              "2  <b>Rav á¸¤anan bar Taá¸¥lifa sent</b> a messag...  ...           0\n",
              "\n",
              "[3 rows x 889 columns]"
            ]
          },
          "metadata": {
            "tags": []
          },
          "execution_count": 51
        }
      ]
    },
    {
      "cell_type": "code",
      "metadata": {
        "id": "MyZW3sua7bRn",
        "colab_type": "code",
        "colab": {}
      },
      "source": [
        "# from sklearn.preprocessing import MultiLabelBinarizer\n",
        "# mlb = MultiLabelBinarizer()\n",
        "# mlb.fit(df['Topics'])\n",
        "# mlb.transform(df['Topics'])\n",
        "# df.head()\n"
      ],
      "execution_count": 0,
      "outputs": []
    },
    {
      "cell_type": "code",
      "metadata": {
        "id": "7gwu0e3sGx4t",
        "colab_type": "code",
        "colab": {
          "base_uri": "https://localhost:8080/",
          "height": 644
        },
        "outputId": "a24e51b4-8885-45db-9f2f-b258e16729cb"
      },
      "source": [
        "df = df.join(df.pop('Topics').str.join('|').str.get_dummies())\n",
        "df.head()\n"
      ],
      "execution_count": 27,
      "outputs": [
        {
          "output_type": "execute_result",
          "data": {
            "text/html": [
              "<div>\n",
              "<style scoped>\n",
              "    .dataframe tbody tr th:only-of-type {\n",
              "        vertical-align: middle;\n",
              "    }\n",
              "\n",
              "    .dataframe tbody tr th {\n",
              "        vertical-align: top;\n",
              "    }\n",
              "\n",
              "    .dataframe thead th {\n",
              "        text-align: right;\n",
              "    }\n",
              "</style>\n",
              "<table border=\"1\" class=\"dataframe\">\n",
              "  <thead>\n",
              "    <tr style=\"text-align: right;\">\n",
              "      <th></th>\n",
              "      <th>En</th>\n",
              "      <th>300</th>\n",
              "      <th>aaron</th>\n",
              "      <th>aaron-and-his-sons</th>\n",
              "      <th>aarons-death</th>\n",
              "      <th>abel</th>\n",
              "      <th>abraham</th>\n",
              "      <th>abraham-and-sarah</th>\n",
              "      <th>abraham-and-sodom</th>\n",
              "      <th>abraham-and-the-angels</th>\n",
              "      <th>abraham-and-the-kings</th>\n",
              "      <th>abraham-in-egypt</th>\n",
              "      <th>abraham-in-ur-kasdim-and-his-departure-from-there</th>\n",
              "      <th>absalom</th>\n",
              "      <th>acceptance-of-nazarite-vows-and-its-duration</th>\n",
              "      <th>acquisitions</th>\n",
              "      <th>actuality</th>\n",
              "      <th>adam</th>\n",
              "      <th>adam-before-and-after-the-sin</th>\n",
              "      <th>adams-sin-and-his-punishment</th>\n",
              "      <th>additional-gifts-to-the-priesthood</th>\n",
              "      <th>afflictions</th>\n",
              "      <th>agency</th>\n",
              "      <th>ahab</th>\n",
              "      <th>ahaz</th>\n",
              "      <th>alacrity</th>\n",
              "      <th>amalek</th>\n",
              "      <th>angels</th>\n",
              "      <th>anger</th>\n",
              "      <th>animal-tithes</th>\n",
              "      <th>animals</th>\n",
              "      <th>annihilating-the-memory-of-amalek</th>\n",
              "      <th>anointing-oil</th>\n",
              "      <th>apikoros</th>\n",
              "      <th>appeasement</th>\n",
              "      <th>aram</th>\n",
              "      <th>aron-habrit</th>\n",
              "      <th>arvit</th>\n",
              "      <th>asceticism</th>\n",
              "      <th>ashur</th>\n",
              "      <th>...</th>\n",
              "      <th>tzedakah</th>\n",
              "      <th>tzimtzum</th>\n",
              "      <th>tzitzit</th>\n",
              "      <th>undifferentiated</th>\n",
              "      <th>urine</th>\n",
              "      <th>vegetables</th>\n",
              "      <th>vidui</th>\n",
              "      <th>visions1</th>\n",
              "      <th>vows</th>\n",
              "      <th>wage-workers</th>\n",
              "      <th>war-with-midian</th>\n",
              "      <th>wars</th>\n",
              "      <th>water</th>\n",
              "      <th>wealth</th>\n",
              "      <th>wild-animals</th>\n",
              "      <th>windows</th>\n",
              "      <th>wine</th>\n",
              "      <th>wisdom</th>\n",
              "      <th>witches</th>\n",
              "      <th>witnesses</th>\n",
              "      <th>wives-of-priests</th>\n",
              "      <th>women</th>\n",
              "      <th>wonders</th>\n",
              "      <th>work</th>\n",
              "      <th>work-(מלאכה)</th>\n",
              "      <th>worlds</th>\n",
              "      <th>writing</th>\n",
              "      <th>yannai</th>\n",
              "      <th>yavesh-gilad</th>\n",
              "      <th>yehonatan</th>\n",
              "      <th>yehoram-(king-of-israel)</th>\n",
              "      <th>yerovam-(son-of-nebat)</th>\n",
              "      <th>yetzer-hara</th>\n",
              "      <th>yirat-shamayim</th>\n",
              "      <th>yom-kippur</th>\n",
              "      <th>yom-kippur-offerings</th>\n",
              "      <th>yom-tov</th>\n",
              "      <th>you-shall-not-cut-yourself</th>\n",
              "      <th>young-torah-scholars</th>\n",
              "      <th>young-women</th>\n",
              "    </tr>\n",
              "  </thead>\n",
              "  <tbody>\n",
              "    <tr>\n",
              "      <th>0</th>\n",
              "      <td>Each and every one of the sons of man has many...</td>\n",
              "      <td>0</td>\n",
              "      <td>0</td>\n",
              "      <td>0</td>\n",
              "      <td>0</td>\n",
              "      <td>0</td>\n",
              "      <td>0</td>\n",
              "      <td>0</td>\n",
              "      <td>0</td>\n",
              "      <td>0</td>\n",
              "      <td>0</td>\n",
              "      <td>0</td>\n",
              "      <td>0</td>\n",
              "      <td>0</td>\n",
              "      <td>0</td>\n",
              "      <td>0</td>\n",
              "      <td>0</td>\n",
              "      <td>0</td>\n",
              "      <td>0</td>\n",
              "      <td>0</td>\n",
              "      <td>0</td>\n",
              "      <td>0</td>\n",
              "      <td>0</td>\n",
              "      <td>0</td>\n",
              "      <td>0</td>\n",
              "      <td>0</td>\n",
              "      <td>0</td>\n",
              "      <td>0</td>\n",
              "      <td>1</td>\n",
              "      <td>0</td>\n",
              "      <td>0</td>\n",
              "      <td>0</td>\n",
              "      <td>0</td>\n",
              "      <td>0</td>\n",
              "      <td>0</td>\n",
              "      <td>0</td>\n",
              "      <td>0</td>\n",
              "      <td>0</td>\n",
              "      <td>0</td>\n",
              "      <td>0</td>\n",
              "      <td>...</td>\n",
              "      <td>0</td>\n",
              "      <td>0</td>\n",
              "      <td>0</td>\n",
              "      <td>0</td>\n",
              "      <td>0</td>\n",
              "      <td>0</td>\n",
              "      <td>0</td>\n",
              "      <td>0</td>\n",
              "      <td>0</td>\n",
              "      <td>0</td>\n",
              "      <td>0</td>\n",
              "      <td>0</td>\n",
              "      <td>0</td>\n",
              "      <td>0</td>\n",
              "      <td>0</td>\n",
              "      <td>0</td>\n",
              "      <td>0</td>\n",
              "      <td>0</td>\n",
              "      <td>0</td>\n",
              "      <td>0</td>\n",
              "      <td>0</td>\n",
              "      <td>0</td>\n",
              "      <td>0</td>\n",
              "      <td>0</td>\n",
              "      <td>0</td>\n",
              "      <td>0</td>\n",
              "      <td>0</td>\n",
              "      <td>0</td>\n",
              "      <td>0</td>\n",
              "      <td>0</td>\n",
              "      <td>0</td>\n",
              "      <td>0</td>\n",
              "      <td>0</td>\n",
              "      <td>0</td>\n",
              "      <td>0</td>\n",
              "      <td>0</td>\n",
              "      <td>0</td>\n",
              "      <td>0</td>\n",
              "      <td>0</td>\n",
              "      <td>0</td>\n",
              "    </tr>\n",
              "    <tr>\n",
              "      <th>1</th>\n",
              "      <td>The Gemara asks: &lt;b&gt;Granted, the entire verse ...</td>\n",
              "      <td>0</td>\n",
              "      <td>0</td>\n",
              "      <td>0</td>\n",
              "      <td>0</td>\n",
              "      <td>0</td>\n",
              "      <td>0</td>\n",
              "      <td>0</td>\n",
              "      <td>0</td>\n",
              "      <td>0</td>\n",
              "      <td>0</td>\n",
              "      <td>0</td>\n",
              "      <td>0</td>\n",
              "      <td>0</td>\n",
              "      <td>0</td>\n",
              "      <td>0</td>\n",
              "      <td>0</td>\n",
              "      <td>0</td>\n",
              "      <td>0</td>\n",
              "      <td>0</td>\n",
              "      <td>0</td>\n",
              "      <td>0</td>\n",
              "      <td>0</td>\n",
              "      <td>0</td>\n",
              "      <td>0</td>\n",
              "      <td>0</td>\n",
              "      <td>0</td>\n",
              "      <td>0</td>\n",
              "      <td>0</td>\n",
              "      <td>0</td>\n",
              "      <td>0</td>\n",
              "      <td>0</td>\n",
              "      <td>0</td>\n",
              "      <td>0</td>\n",
              "      <td>0</td>\n",
              "      <td>0</td>\n",
              "      <td>0</td>\n",
              "      <td>0</td>\n",
              "      <td>0</td>\n",
              "      <td>0</td>\n",
              "      <td>...</td>\n",
              "      <td>0</td>\n",
              "      <td>0</td>\n",
              "      <td>0</td>\n",
              "      <td>0</td>\n",
              "      <td>0</td>\n",
              "      <td>0</td>\n",
              "      <td>0</td>\n",
              "      <td>0</td>\n",
              "      <td>0</td>\n",
              "      <td>0</td>\n",
              "      <td>0</td>\n",
              "      <td>0</td>\n",
              "      <td>0</td>\n",
              "      <td>0</td>\n",
              "      <td>0</td>\n",
              "      <td>0</td>\n",
              "      <td>0</td>\n",
              "      <td>0</td>\n",
              "      <td>0</td>\n",
              "      <td>0</td>\n",
              "      <td>0</td>\n",
              "      <td>0</td>\n",
              "      <td>0</td>\n",
              "      <td>0</td>\n",
              "      <td>0</td>\n",
              "      <td>0</td>\n",
              "      <td>0</td>\n",
              "      <td>0</td>\n",
              "      <td>0</td>\n",
              "      <td>0</td>\n",
              "      <td>0</td>\n",
              "      <td>0</td>\n",
              "      <td>0</td>\n",
              "      <td>0</td>\n",
              "      <td>0</td>\n",
              "      <td>0</td>\n",
              "      <td>0</td>\n",
              "      <td>0</td>\n",
              "      <td>0</td>\n",
              "      <td>0</td>\n",
              "    </tr>\n",
              "    <tr>\n",
              "      <th>2</th>\n",
              "      <td>&lt;b&gt;Rav Ḥanan bar Taḥlifa sent&lt;/b&gt; a message &lt;b...</td>\n",
              "      <td>0</td>\n",
              "      <td>0</td>\n",
              "      <td>0</td>\n",
              "      <td>0</td>\n",
              "      <td>0</td>\n",
              "      <td>0</td>\n",
              "      <td>0</td>\n",
              "      <td>0</td>\n",
              "      <td>0</td>\n",
              "      <td>0</td>\n",
              "      <td>0</td>\n",
              "      <td>0</td>\n",
              "      <td>0</td>\n",
              "      <td>0</td>\n",
              "      <td>0</td>\n",
              "      <td>0</td>\n",
              "      <td>0</td>\n",
              "      <td>0</td>\n",
              "      <td>0</td>\n",
              "      <td>0</td>\n",
              "      <td>0</td>\n",
              "      <td>0</td>\n",
              "      <td>0</td>\n",
              "      <td>0</td>\n",
              "      <td>0</td>\n",
              "      <td>0</td>\n",
              "      <td>0</td>\n",
              "      <td>0</td>\n",
              "      <td>0</td>\n",
              "      <td>0</td>\n",
              "      <td>0</td>\n",
              "      <td>0</td>\n",
              "      <td>0</td>\n",
              "      <td>0</td>\n",
              "      <td>0</td>\n",
              "      <td>0</td>\n",
              "      <td>0</td>\n",
              "      <td>0</td>\n",
              "      <td>0</td>\n",
              "      <td>...</td>\n",
              "      <td>0</td>\n",
              "      <td>0</td>\n",
              "      <td>0</td>\n",
              "      <td>0</td>\n",
              "      <td>0</td>\n",
              "      <td>0</td>\n",
              "      <td>0</td>\n",
              "      <td>0</td>\n",
              "      <td>0</td>\n",
              "      <td>0</td>\n",
              "      <td>0</td>\n",
              "      <td>1</td>\n",
              "      <td>0</td>\n",
              "      <td>0</td>\n",
              "      <td>0</td>\n",
              "      <td>0</td>\n",
              "      <td>0</td>\n",
              "      <td>0</td>\n",
              "      <td>0</td>\n",
              "      <td>0</td>\n",
              "      <td>0</td>\n",
              "      <td>0</td>\n",
              "      <td>0</td>\n",
              "      <td>0</td>\n",
              "      <td>0</td>\n",
              "      <td>0</td>\n",
              "      <td>0</td>\n",
              "      <td>0</td>\n",
              "      <td>0</td>\n",
              "      <td>0</td>\n",
              "      <td>0</td>\n",
              "      <td>0</td>\n",
              "      <td>0</td>\n",
              "      <td>0</td>\n",
              "      <td>0</td>\n",
              "      <td>0</td>\n",
              "      <td>0</td>\n",
              "      <td>0</td>\n",
              "      <td>0</td>\n",
              "      <td>0</td>\n",
              "    </tr>\n",
              "    <tr>\n",
              "      <th>3</th>\n",
              "      <td>NaN</td>\n",
              "      <td>0</td>\n",
              "      <td>0</td>\n",
              "      <td>0</td>\n",
              "      <td>0</td>\n",
              "      <td>0</td>\n",
              "      <td>0</td>\n",
              "      <td>0</td>\n",
              "      <td>0</td>\n",
              "      <td>0</td>\n",
              "      <td>0</td>\n",
              "      <td>0</td>\n",
              "      <td>0</td>\n",
              "      <td>0</td>\n",
              "      <td>0</td>\n",
              "      <td>0</td>\n",
              "      <td>0</td>\n",
              "      <td>0</td>\n",
              "      <td>0</td>\n",
              "      <td>0</td>\n",
              "      <td>0</td>\n",
              "      <td>0</td>\n",
              "      <td>0</td>\n",
              "      <td>0</td>\n",
              "      <td>0</td>\n",
              "      <td>0</td>\n",
              "      <td>0</td>\n",
              "      <td>0</td>\n",
              "      <td>0</td>\n",
              "      <td>0</td>\n",
              "      <td>0</td>\n",
              "      <td>0</td>\n",
              "      <td>0</td>\n",
              "      <td>0</td>\n",
              "      <td>0</td>\n",
              "      <td>0</td>\n",
              "      <td>0</td>\n",
              "      <td>0</td>\n",
              "      <td>0</td>\n",
              "      <td>0</td>\n",
              "      <td>...</td>\n",
              "      <td>0</td>\n",
              "      <td>0</td>\n",
              "      <td>0</td>\n",
              "      <td>0</td>\n",
              "      <td>0</td>\n",
              "      <td>0</td>\n",
              "      <td>0</td>\n",
              "      <td>0</td>\n",
              "      <td>0</td>\n",
              "      <td>0</td>\n",
              "      <td>0</td>\n",
              "      <td>0</td>\n",
              "      <td>0</td>\n",
              "      <td>0</td>\n",
              "      <td>0</td>\n",
              "      <td>0</td>\n",
              "      <td>0</td>\n",
              "      <td>0</td>\n",
              "      <td>0</td>\n",
              "      <td>0</td>\n",
              "      <td>0</td>\n",
              "      <td>0</td>\n",
              "      <td>0</td>\n",
              "      <td>0</td>\n",
              "      <td>0</td>\n",
              "      <td>0</td>\n",
              "      <td>0</td>\n",
              "      <td>0</td>\n",
              "      <td>0</td>\n",
              "      <td>0</td>\n",
              "      <td>0</td>\n",
              "      <td>0</td>\n",
              "      <td>0</td>\n",
              "      <td>0</td>\n",
              "      <td>0</td>\n",
              "      <td>0</td>\n",
              "      <td>0</td>\n",
              "      <td>0</td>\n",
              "      <td>0</td>\n",
              "      <td>0</td>\n",
              "    </tr>\n",
              "    <tr>\n",
              "      <th>4</th>\n",
              "      <td>§ The mishna teaches: &lt;b&gt;If&lt;/b&gt; the one who ow...</td>\n",
              "      <td>0</td>\n",
              "      <td>0</td>\n",
              "      <td>0</td>\n",
              "      <td>0</td>\n",
              "      <td>0</td>\n",
              "      <td>0</td>\n",
              "      <td>0</td>\n",
              "      <td>0</td>\n",
              "      <td>0</td>\n",
              "      <td>0</td>\n",
              "      <td>0</td>\n",
              "      <td>0</td>\n",
              "      <td>0</td>\n",
              "      <td>0</td>\n",
              "      <td>0</td>\n",
              "      <td>0</td>\n",
              "      <td>0</td>\n",
              "      <td>0</td>\n",
              "      <td>0</td>\n",
              "      <td>0</td>\n",
              "      <td>0</td>\n",
              "      <td>0</td>\n",
              "      <td>0</td>\n",
              "      <td>0</td>\n",
              "      <td>0</td>\n",
              "      <td>0</td>\n",
              "      <td>0</td>\n",
              "      <td>0</td>\n",
              "      <td>0</td>\n",
              "      <td>0</td>\n",
              "      <td>0</td>\n",
              "      <td>0</td>\n",
              "      <td>0</td>\n",
              "      <td>0</td>\n",
              "      <td>0</td>\n",
              "      <td>0</td>\n",
              "      <td>0</td>\n",
              "      <td>0</td>\n",
              "      <td>0</td>\n",
              "      <td>...</td>\n",
              "      <td>0</td>\n",
              "      <td>0</td>\n",
              "      <td>0</td>\n",
              "      <td>0</td>\n",
              "      <td>0</td>\n",
              "      <td>0</td>\n",
              "      <td>0</td>\n",
              "      <td>0</td>\n",
              "      <td>0</td>\n",
              "      <td>0</td>\n",
              "      <td>0</td>\n",
              "      <td>0</td>\n",
              "      <td>0</td>\n",
              "      <td>0</td>\n",
              "      <td>0</td>\n",
              "      <td>0</td>\n",
              "      <td>0</td>\n",
              "      <td>0</td>\n",
              "      <td>0</td>\n",
              "      <td>0</td>\n",
              "      <td>0</td>\n",
              "      <td>0</td>\n",
              "      <td>0</td>\n",
              "      <td>0</td>\n",
              "      <td>0</td>\n",
              "      <td>0</td>\n",
              "      <td>0</td>\n",
              "      <td>0</td>\n",
              "      <td>0</td>\n",
              "      <td>0</td>\n",
              "      <td>0</td>\n",
              "      <td>0</td>\n",
              "      <td>0</td>\n",
              "      <td>0</td>\n",
              "      <td>0</td>\n",
              "      <td>0</td>\n",
              "      <td>0</td>\n",
              "      <td>0</td>\n",
              "      <td>0</td>\n",
              "      <td>0</td>\n",
              "    </tr>\n",
              "  </tbody>\n",
              "</table>\n",
              "<p>5 rows × 888 columns</p>\n",
              "</div>"
            ],
            "text/plain": [
              "                                                  En  ...  young-women\n",
              "0  Each and every one of the sons of man has many...  ...            0\n",
              "1  The Gemara asks: <b>Granted, the entire verse ...  ...            0\n",
              "2  <b>Rav Ḥanan bar Taḥlifa sent</b> a message <b...  ...            0\n",
              "3                                                NaN  ...            0\n",
              "4  § The mishna teaches: <b>If</b> the one who ow...  ...            0\n",
              "\n",
              "[5 rows x 888 columns]"
            ]
          },
          "metadata": {
            "tags": []
          },
          "execution_count": 27
        }
      ]
    },
    {
      "cell_type": "code",
      "metadata": {
        "id": "FqU7FfGA7bOS",
        "colab_type": "code",
        "colab": {
          "base_uri": "https://localhost:8080/",
          "height": 323
        },
        "outputId": "49d30ee4-9929-44c8-ebcb-ba0e9bd775c2"
      },
      "source": [
        "y = df['Topics'].to_numpy()\n",
        "y[:20]"
      ],
      "execution_count": 9,
      "outputs": [
        {
          "output_type": "execute_result",
          "data": {
            "text/plain": [
              "array([list(['proper-moral-and-hygienic-conduct', 'anger', 'nature-of-man-and-his-character-traits', 'middot']),\n",
              "       list(['parah-adumah']),\n",
              "       list(['wars', 'rome', 'the-hebrew-language', 'scrolls', 'time-of-the-redemption', 'mashiach']),\n",
              "       list(['sitra-achra', 'avodat-hashem']),\n",
              "       list(['laws-of-engagement-of-workers', 'procedures-for-judges-and-conduct-towards-them']),\n",
              "       list(['hilchot-tsitsit']),\n",
              "       list(['the-jewish-people-and-the-nations', 'moses', 'balaam', 'moses-rebuke']),\n",
              "       list(['laws-of-oaths-over-testimony']),\n",
              "       list(['hezekiah', 'song-over-the-sacrifice', 'king-david']),\n",
              "       list(['east', 'neshama']), list(['egyptian-exile']),\n",
              "       list(['givaonim']),\n",
              "       list(['laws-of-gifts-from-someone-gravely-ill']), list(['god']),\n",
              "       list(['knowing', 'the-acts-of-creation', 'learning', 'maaseh-hamerkavah', 'drashah', 'sexual-prohibitions']),\n",
              "       list(['four-cups', 'passover']),\n",
              "       list(['actuality', 'judgements1', 'kings', 'priesthood']),\n",
              "       list(['laws-of-the-torah-scroll']),\n",
              "       list(['rabbinically-forbidden-activities-on-shabbat']),\n",
              "       list(['the-four-species'])], dtype=object)"
            ]
          },
          "metadata": {
            "tags": []
          },
          "execution_count": 9
        }
      ]
    },
    {
      "cell_type": "code",
      "metadata": {
        "id": "9RF6qlsP7bLR",
        "colab_type": "code",
        "colab": {
          "base_uri": "https://localhost:8080/",
          "height": 333
        },
        "outputId": "d8422e53-d059-4b2d-d255-bd802008dbb5"
      },
      "source": [
        "df2 = df\n",
        "df2 = pd.DataFrame(df.groupby(['En'])['Topics'].apply(lambda x: tuple(x.values)))\n",
        "df2.reset_index(inplace=True)\n",
        "\n",
        "from sklearn.preprocessing import MultiLabelBinarizer\n",
        "mlb = MultiLabelBinarizer()\n",
        "mlb.fit(df2['Topics'])\n",
        "mlb.transform(df2['Topics'])"
      ],
      "execution_count": 19,
      "outputs": [
        {
          "output_type": "error",
          "ename": "TypeError",
          "evalue": "ignored",
          "traceback": [
            "\u001b[0;31m---------------------------------------------------------------------------\u001b[0m",
            "\u001b[0;31mTypeError\u001b[0m                                 Traceback (most recent call last)",
            "\u001b[0;32m<ipython-input-19-778070e11ffe>\u001b[0m in \u001b[0;36m<module>\u001b[0;34m()\u001b[0m\n\u001b[1;32m      5\u001b[0m \u001b[0;32mfrom\u001b[0m \u001b[0msklearn\u001b[0m\u001b[0;34m.\u001b[0m\u001b[0mpreprocessing\u001b[0m \u001b[0;32mimport\u001b[0m \u001b[0mMultiLabelBinarizer\u001b[0m\u001b[0;34m\u001b[0m\u001b[0;34m\u001b[0m\u001b[0m\n\u001b[1;32m      6\u001b[0m \u001b[0mmlb\u001b[0m \u001b[0;34m=\u001b[0m \u001b[0mMultiLabelBinarizer\u001b[0m\u001b[0;34m(\u001b[0m\u001b[0;34m)\u001b[0m\u001b[0;34m\u001b[0m\u001b[0;34m\u001b[0m\u001b[0m\n\u001b[0;32m----> 7\u001b[0;31m \u001b[0mmlb\u001b[0m\u001b[0;34m.\u001b[0m\u001b[0mfit\u001b[0m\u001b[0;34m(\u001b[0m\u001b[0mdf2\u001b[0m\u001b[0;34m[\u001b[0m\u001b[0;34m'Topics'\u001b[0m\u001b[0;34m]\u001b[0m\u001b[0;34m)\u001b[0m\u001b[0;34m\u001b[0m\u001b[0;34m\u001b[0m\u001b[0m\n\u001b[0m\u001b[1;32m      8\u001b[0m \u001b[0mmlb\u001b[0m\u001b[0;34m.\u001b[0m\u001b[0mtransform\u001b[0m\u001b[0;34m(\u001b[0m\u001b[0mdf2\u001b[0m\u001b[0;34m[\u001b[0m\u001b[0;34m'Topics'\u001b[0m\u001b[0;34m]\u001b[0m\u001b[0;34m)\u001b[0m\u001b[0;34m\u001b[0m\u001b[0;34m\u001b[0m\u001b[0m\n",
            "\u001b[0;32m/usr/local/lib/python3.6/dist-packages/sklearn/preprocessing/_label.py\u001b[0m in \u001b[0;36mfit\u001b[0;34m(self, y)\u001b[0m\n\u001b[1;32m    869\u001b[0m         \u001b[0mself\u001b[0m\u001b[0;34m.\u001b[0m\u001b[0m_cached_dict\u001b[0m \u001b[0;34m=\u001b[0m \u001b[0;32mNone\u001b[0m\u001b[0;34m\u001b[0m\u001b[0;34m\u001b[0m\u001b[0m\n\u001b[1;32m    870\u001b[0m         \u001b[0;32mif\u001b[0m \u001b[0mself\u001b[0m\u001b[0;34m.\u001b[0m\u001b[0mclasses\u001b[0m \u001b[0;32mis\u001b[0m \u001b[0;32mNone\u001b[0m\u001b[0;34m:\u001b[0m\u001b[0;34m\u001b[0m\u001b[0;34m\u001b[0m\u001b[0m\n\u001b[0;32m--> 871\u001b[0;31m             \u001b[0mclasses\u001b[0m \u001b[0;34m=\u001b[0m \u001b[0msorted\u001b[0m\u001b[0;34m(\u001b[0m\u001b[0mset\u001b[0m\u001b[0;34m(\u001b[0m\u001b[0mitertools\u001b[0m\u001b[0;34m.\u001b[0m\u001b[0mchain\u001b[0m\u001b[0;34m.\u001b[0m\u001b[0mfrom_iterable\u001b[0m\u001b[0;34m(\u001b[0m\u001b[0my\u001b[0m\u001b[0;34m)\u001b[0m\u001b[0;34m)\u001b[0m\u001b[0;34m)\u001b[0m\u001b[0;34m\u001b[0m\u001b[0;34m\u001b[0m\u001b[0m\n\u001b[0m\u001b[1;32m    872\u001b[0m         \u001b[0;32melif\u001b[0m \u001b[0mlen\u001b[0m\u001b[0;34m(\u001b[0m\u001b[0mset\u001b[0m\u001b[0;34m(\u001b[0m\u001b[0mself\u001b[0m\u001b[0;34m.\u001b[0m\u001b[0mclasses\u001b[0m\u001b[0;34m)\u001b[0m\u001b[0;34m)\u001b[0m \u001b[0;34m<\u001b[0m \u001b[0mlen\u001b[0m\u001b[0;34m(\u001b[0m\u001b[0mself\u001b[0m\u001b[0;34m.\u001b[0m\u001b[0mclasses\u001b[0m\u001b[0;34m)\u001b[0m\u001b[0;34m:\u001b[0m\u001b[0;34m\u001b[0m\u001b[0;34m\u001b[0m\u001b[0m\n\u001b[1;32m    873\u001b[0m             raise ValueError(\"The classes argument contains duplicate \"\n",
            "\u001b[0;31mTypeError\u001b[0m: unhashable type: 'list'"
          ]
        }
      ]
    },
    {
      "cell_type": "code",
      "metadata": {
        "id": "m3HsIYaICpsb",
        "colab_type": "code",
        "colab": {}
      },
      "source": [
        "# Create MultiLabelBinarizer object\n",
        "one_hot = MultiLabelBinarizer()\n",
        "\n",
        "# One-hot encode data\n",
        "y_hat = one_hot.fit_transform(y)\n"
      ],
      "execution_count": 0,
      "outputs": []
    },
    {
      "cell_type": "code",
      "metadata": {
        "id": "LuNVGny8AEeb",
        "colab_type": "code",
        "colab": {
          "base_uri": "https://localhost:8080/",
          "height": 51
        },
        "outputId": "f4e091d8-bfcb-4a7b-d6ea-9eabd0a36ae0"
      },
      "source": [
        "one_hot.classes_"
      ],
      "execution_count": 16,
      "outputs": [
        {
          "output_type": "execute_result",
          "data": {
            "text/plain": [
              "array(['100', '1000', '13-middot', ..., 'zohar', 'אהבה-שאינה-תלויה-בדבר',\n",
              "       'צדיק-ורע-לו'], dtype=object)"
            ]
          },
          "metadata": {
            "tags": []
          },
          "execution_count": 16
        }
      ]
    },
    {
      "cell_type": "code",
      "metadata": {
        "id": "qhjQbES6AQEq",
        "colab_type": "code",
        "colab": {
          "base_uri": "https://localhost:8080/",
          "height": 34
        },
        "outputId": "012ef421-4885-4517-a295-56dac2e8e41a"
      },
      "source": [
        "\n",
        "len(one_hot.classes_)"
      ],
      "execution_count": 15,
      "outputs": [
        {
          "output_type": "execute_result",
          "data": {
            "text/plain": [
              "4526"
            ]
          },
          "metadata": {
            "tags": []
          },
          "execution_count": 15
        }
      ]
    },
    {
      "cell_type": "code",
      "metadata": {
        "id": "xb6g0-nv7bHa",
        "colab_type": "code",
        "colab": {
          "base_uri": "https://localhost:8080/",
          "height": 357
        },
        "outputId": "e8f37fa8-472f-4184-fe58-a70596260a0f"
      },
      "source": [
        "import pandas as pd\n",
        "df['Topics']=pd.Series(y_hat)\n",
        "\n",
        "df.head()"
      ],
      "execution_count": 11,
      "outputs": [
        {
          "output_type": "error",
          "ename": "Exception",
          "evalue": "ignored",
          "traceback": [
            "\u001b[0;31m---------------------------------------------------------------------------\u001b[0m",
            "\u001b[0;31mException\u001b[0m                                 Traceback (most recent call last)",
            "\u001b[0;32m<ipython-input-11-355b6a4f9dd6>\u001b[0m in \u001b[0;36m<module>\u001b[0;34m()\u001b[0m\n\u001b[1;32m      1\u001b[0m \u001b[0;32mimport\u001b[0m \u001b[0mpandas\u001b[0m \u001b[0;32mas\u001b[0m \u001b[0mpd\u001b[0m\u001b[0;34m\u001b[0m\u001b[0;34m\u001b[0m\u001b[0m\n\u001b[0;32m----> 2\u001b[0;31m \u001b[0mdf\u001b[0m\u001b[0;34m[\u001b[0m\u001b[0;34m'Topics'\u001b[0m\u001b[0;34m]\u001b[0m\u001b[0;34m=\u001b[0m\u001b[0mpd\u001b[0m\u001b[0;34m.\u001b[0m\u001b[0mSeries\u001b[0m\u001b[0;34m(\u001b[0m\u001b[0my_hat\u001b[0m\u001b[0;34m)\u001b[0m\u001b[0;34m\u001b[0m\u001b[0;34m\u001b[0m\u001b[0m\n\u001b[0m\u001b[1;32m      3\u001b[0m \u001b[0;34m\u001b[0m\u001b[0m\n\u001b[1;32m      4\u001b[0m \u001b[0mdf\u001b[0m\u001b[0;34m.\u001b[0m\u001b[0mhead\u001b[0m\u001b[0;34m(\u001b[0m\u001b[0;34m)\u001b[0m\u001b[0;34m\u001b[0m\u001b[0;34m\u001b[0m\u001b[0m\n",
            "\u001b[0;32m/usr/local/lib/python3.6/dist-packages/pandas/core/series.py\u001b[0m in \u001b[0;36m__init__\u001b[0;34m(self, data, index, dtype, name, copy, fastpath)\u001b[0m\n\u001b[1;32m    303\u001b[0m                     \u001b[0mdata\u001b[0m \u001b[0;34m=\u001b[0m \u001b[0mdata\u001b[0m\u001b[0;34m.\u001b[0m\u001b[0mcopy\u001b[0m\u001b[0;34m(\u001b[0m\u001b[0;34m)\u001b[0m\u001b[0;34m\u001b[0m\u001b[0;34m\u001b[0m\u001b[0m\n\u001b[1;32m    304\u001b[0m             \u001b[0;32melse\u001b[0m\u001b[0;34m:\u001b[0m\u001b[0;34m\u001b[0m\u001b[0;34m\u001b[0m\u001b[0m\n\u001b[0;32m--> 305\u001b[0;31m                 \u001b[0mdata\u001b[0m \u001b[0;34m=\u001b[0m \u001b[0msanitize_array\u001b[0m\u001b[0;34m(\u001b[0m\u001b[0mdata\u001b[0m\u001b[0;34m,\u001b[0m \u001b[0mindex\u001b[0m\u001b[0;34m,\u001b[0m \u001b[0mdtype\u001b[0m\u001b[0;34m,\u001b[0m \u001b[0mcopy\u001b[0m\u001b[0;34m,\u001b[0m \u001b[0mraise_cast_failure\u001b[0m\u001b[0;34m=\u001b[0m\u001b[0;32mTrue\u001b[0m\u001b[0;34m)\u001b[0m\u001b[0;34m\u001b[0m\u001b[0;34m\u001b[0m\u001b[0m\n\u001b[0m\u001b[1;32m    306\u001b[0m \u001b[0;34m\u001b[0m\u001b[0m\n\u001b[1;32m    307\u001b[0m                 \u001b[0mdata\u001b[0m \u001b[0;34m=\u001b[0m \u001b[0mSingleBlockManager\u001b[0m\u001b[0;34m(\u001b[0m\u001b[0mdata\u001b[0m\u001b[0;34m,\u001b[0m \u001b[0mindex\u001b[0m\u001b[0;34m,\u001b[0m \u001b[0mfastpath\u001b[0m\u001b[0;34m=\u001b[0m\u001b[0;32mTrue\u001b[0m\u001b[0;34m)\u001b[0m\u001b[0;34m\u001b[0m\u001b[0;34m\u001b[0m\u001b[0m\n",
            "\u001b[0;32m/usr/local/lib/python3.6/dist-packages/pandas/core/construction.py\u001b[0m in \u001b[0;36msanitize_array\u001b[0;34m(data, index, dtype, copy, raise_cast_failure)\u001b[0m\n\u001b[1;32m    480\u001b[0m     \u001b[0;32melif\u001b[0m \u001b[0msubarr\u001b[0m\u001b[0;34m.\u001b[0m\u001b[0mndim\u001b[0m \u001b[0;34m>\u001b[0m \u001b[0;36m1\u001b[0m\u001b[0;34m:\u001b[0m\u001b[0;34m\u001b[0m\u001b[0;34m\u001b[0m\u001b[0m\n\u001b[1;32m    481\u001b[0m         \u001b[0;32mif\u001b[0m \u001b[0misinstance\u001b[0m\u001b[0;34m(\u001b[0m\u001b[0mdata\u001b[0m\u001b[0;34m,\u001b[0m \u001b[0mnp\u001b[0m\u001b[0;34m.\u001b[0m\u001b[0mndarray\u001b[0m\u001b[0;34m)\u001b[0m\u001b[0;34m:\u001b[0m\u001b[0;34m\u001b[0m\u001b[0;34m\u001b[0m\u001b[0m\n\u001b[0;32m--> 482\u001b[0;31m             \u001b[0;32mraise\u001b[0m \u001b[0mException\u001b[0m\u001b[0;34m(\u001b[0m\u001b[0;34m\"Data must be 1-dimensional\"\u001b[0m\u001b[0;34m)\u001b[0m\u001b[0;34m\u001b[0m\u001b[0;34m\u001b[0m\u001b[0m\n\u001b[0m\u001b[1;32m    483\u001b[0m         \u001b[0;32melse\u001b[0m\u001b[0;34m:\u001b[0m\u001b[0;34m\u001b[0m\u001b[0;34m\u001b[0m\u001b[0m\n\u001b[1;32m    484\u001b[0m             \u001b[0msubarr\u001b[0m \u001b[0;34m=\u001b[0m \u001b[0mcom\u001b[0m\u001b[0;34m.\u001b[0m\u001b[0masarray_tuplesafe\u001b[0m\u001b[0;34m(\u001b[0m\u001b[0mdata\u001b[0m\u001b[0;34m,\u001b[0m \u001b[0mdtype\u001b[0m\u001b[0;34m=\u001b[0m\u001b[0mdtype\u001b[0m\u001b[0;34m)\u001b[0m\u001b[0;34m\u001b[0m\u001b[0;34m\u001b[0m\u001b[0m\n",
            "\u001b[0;31mException\u001b[0m: Data must be 1-dimensional"
          ]
        }
      ]
    },
    {
      "cell_type": "code",
      "metadata": {
        "id": "LNCxPb2W7bBA",
        "colab_type": "code",
        "colab": {}
      },
      "source": [
        ""
      ],
      "execution_count": 0,
      "outputs": []
    },
    {
      "cell_type": "code",
      "metadata": {
        "id": "p_muzQ7b7aps",
        "colab_type": "code",
        "colab": {}
      },
      "source": [
        ""
      ],
      "execution_count": 0,
      "outputs": []
    },
    {
      "cell_type": "code",
      "metadata": {
        "id": "AZD4yqQuakdQ",
        "colab_type": "code",
        "colab": {}
      },
      "source": [
        "# prayer_df.sample(3)"
      ],
      "execution_count": 0,
      "outputs": []
    },
    {
      "cell_type": "code",
      "metadata": {
        "id": "fODCiUmOzeOo",
        "colab_type": "code",
        "colab": {}
      },
      "source": [
        "# prayer_df['is_prayer'] = 'yes'\n",
        "# prayer_df = prayer_df[['En','is_prayer']]\n",
        "\n",
        "# prayer_df.tail(3)"
      ],
      "execution_count": 0,
      "outputs": []
    },
    {
      "cell_type": "code",
      "metadata": {
        "id": "ajQQYcXAbCPy",
        "colab_type": "code",
        "colab": {}
      },
      "source": [
        "# not_prayer_df.sample(3)"
      ],
      "execution_count": 0,
      "outputs": []
    },
    {
      "cell_type": "code",
      "metadata": {
        "id": "K0hGDwWFD5qC",
        "colab_type": "code",
        "colab": {}
      },
      "source": [
        "# not_prayer_df['is_prayer'] = 'no'\n",
        "# not_prayer_df = not_prayer_df[['En','is_prayer']]\n",
        "# not_prayer_df.sample(3)"
      ],
      "execution_count": 0,
      "outputs": []
    },
    {
      "cell_type": "code",
      "metadata": {
        "id": "CvkzcPuJJCnC",
        "colab_type": "code",
        "outputId": "51a343ee-9ea8-4174-db71-de67f9b7b484",
        "colab": {
          "base_uri": "https://localhost:8080/",
          "height": 204
        }
      },
      "source": [
        "# all_prayer_frames = [prayer_df, not_prayer_df]\n",
        "# all_prayer_df = pd.concat(all_prayer_frames)\n",
        "# all_prayer_df.reset_index(inplace=True)\n",
        "# all_prayer_df=all_prayer_df.rename(columns = {'En':'english_text'})\n",
        "\n",
        "\n",
        "# # all_prayer_df.style.set_properties({'align': 'right'})\n",
        "\n",
        "# # all_prayer_df.tail(3)\n",
        "# all_prayer_df.sample(5)\n",
        "big_df.sample(5)\n",
        "# # all_prayer_df.loc[[345]]"
      ],
      "execution_count": 0,
      "outputs": [
        {
          "output_type": "execute_result",
          "data": {
            "text/html": [
              "<div>\n",
              "<style scoped>\n",
              "    .dataframe tbody tr th:only-of-type {\n",
              "        vertical-align: middle;\n",
              "    }\n",
              "\n",
              "    .dataframe tbody tr th {\n",
              "        vertical-align: top;\n",
              "    }\n",
              "\n",
              "    .dataframe thead th {\n",
              "        text-align: right;\n",
              "    }\n",
              "</style>\n",
              "<table border=\"1\" class=\"dataframe\">\n",
              "  <thead>\n",
              "    <tr style=\"text-align: right;\">\n",
              "      <th></th>\n",
              "      <th>index</th>\n",
              "      <th>english_text</th>\n",
              "      <th>is_prayer</th>\n",
              "    </tr>\n",
              "  </thead>\n",
              "  <tbody>\n",
              "    <tr>\n",
              "      <th>273</th>\n",
              "      <td>273</td>\n",
              "      <td>'××ª×§×¨× ×©× ×, the meaning of the words ...</td>\n",
              "      <td>yes</td>\n",
              "    </tr>\n",
              "    <tr>\n",
              "      <th>83</th>\n",
              "      <td>83</td>\n",
              "      <td>And Moses and Aaron went out from Pharaoh; and...</td>\n",
              "      <td>yes</td>\n",
              "    </tr>\n",
              "    <tr>\n",
              "      <th>1376</th>\n",
              "      <td>324</td>\n",
              "      <td>And furthermore, if it should enter your mind ...</td>\n",
              "      <td>no</td>\n",
              "    </tr>\n",
              "    <tr>\n",
              "      <th>343</th>\n",
              "      <td>343</td>\n",
              "      <td>The Gemara relates another incident involving ...</td>\n",
              "      <td>yes</td>\n",
              "    </tr>\n",
              "    <tr>\n",
              "      <th>569</th>\n",
              "      <td>569</td>\n",
              "      <td>NaN</td>\n",
              "      <td>yes</td>\n",
              "    </tr>\n",
              "  </tbody>\n",
              "</table>\n",
              "</div>"
            ],
            "text/plain": [
              "      index                                       english_text is_prayer\n",
              "273     273  '××ª×§×¨× ×©× ×, the meaning of the words ...       yes\n",
              "83       83  And Moses and Aaron went out from Pharaoh; and...       yes\n",
              "1376    324  And furthermore, if it should enter your mind ...        no\n",
              "343     343  The Gemara relates another incident involving ...       yes\n",
              "569     569                                                NaN       yes"
            ]
          },
          "metadata": {
            "tags": []
          },
          "execution_count": 12
        }
      ]
    },
    {
      "cell_type": "code",
      "metadata": {
        "id": "gJt5XbHpDDdT",
        "colab_type": "code",
        "outputId": "1305b35e-1b0e-4c25-ce85-21600ce0276f",
        "colab": {
          "base_uri": "https://localhost:8080/",
          "height": 142
        }
      },
      "source": [
        "del all_prayer_df['index']\n",
        "\n",
        "all_prayer_df.sample(3)"
      ],
      "execution_count": 0,
      "outputs": [
        {
          "output_type": "execute_result",
          "data": {
            "text/html": [
              "<div>\n",
              "<style scoped>\n",
              "    .dataframe tbody tr th:only-of-type {\n",
              "        vertical-align: middle;\n",
              "    }\n",
              "\n",
              "    .dataframe tbody tr th {\n",
              "        vertical-align: top;\n",
              "    }\n",
              "\n",
              "    .dataframe thead th {\n",
              "        text-align: right;\n",
              "    }\n",
              "</style>\n",
              "<table border=\"1\" class=\"dataframe\">\n",
              "  <thead>\n",
              "    <tr style=\"text-align: right;\">\n",
              "      <th></th>\n",
              "      <th>english_text</th>\n",
              "      <th>is_prayer</th>\n",
              "    </tr>\n",
              "  </thead>\n",
              "  <tbody>\n",
              "    <tr>\n",
              "      <th>1980</th>\n",
              "      <td>NaN</td>\n",
              "      <td>no</td>\n",
              "    </tr>\n",
              "    <tr>\n",
              "      <th>217</th>\n",
              "      <td>NaN</td>\n",
              "      <td>yes</td>\n",
              "    </tr>\n",
              "    <tr>\n",
              "      <th>1342</th>\n",
              "      <td>MISHNA: All foods that became ritually impure ...</td>\n",
              "      <td>no</td>\n",
              "    </tr>\n",
              "  </tbody>\n",
              "</table>\n",
              "</div>"
            ],
            "text/plain": [
              "                                           english_text is_prayer\n",
              "1980                                                NaN        no\n",
              "217                                                 NaN       yes\n",
              "1342  MISHNA: All foods that became ritually impure ...        no"
            ]
          },
          "metadata": {
            "tags": []
          },
          "execution_count": 13
        }
      ]
    },
    {
      "cell_type": "code",
      "metadata": {
        "id": "ZJihXdQuJy7p",
        "colab_type": "code",
        "outputId": "1aea3398-0268-46ee-91d4-6c0786ada7f9",
        "colab": {
          "base_uri": "https://localhost:8080/",
          "height": 102
        }
      },
      "source": [
        "print(\"Before dropping duplicates\",all_prayer_df.shape)\n",
        "all_prayer_df.drop_duplicates(inplace=True)\n",
        "print(\"After dropping duplicates\",all_prayer_df.shape)\n",
        "\n",
        "print(\"\\nNulls before dropping:\",all_prayer_df.isnull().sum()[0])\n",
        "all_prayer_df.dropna(inplace=True)\n",
        "print(\"Nulls after dropping:\",all_prayer_df.isnull().sum()[0])\n",
        "\n",
        "# all_prayer_df.isnull().sum()\n",
        "# all_prayer_df.sample(5)"
      ],
      "execution_count": 0,
      "outputs": [
        {
          "output_type": "stream",
          "text": [
            "Before dropping duplicates (2103, 2)\n",
            "After dropping duplicates (1223, 2)\n",
            "\n",
            "Nulls before dropping: 2\n",
            "Nulls after dropping: 0\n"
          ],
          "name": "stdout"
        }
      ]
    },
    {
      "cell_type": "code",
      "metadata": {
        "colab_type": "code",
        "outputId": "1fdf337c-1dc5-4b5d-8aee-7e288af7d288",
        "id": "bOYMROhKILvq",
        "colab": {
          "base_uri": "https://localhost:8080/",
          "height": 34
        }
      },
      "source": [
        "shape = all_prayer_df.shape\n",
        "print(f\"{shape[0]} rows and {shape[1]} columns\")"
      ],
      "execution_count": 0,
      "outputs": [
        {
          "output_type": "stream",
          "text": [
            "1221 rows and 2 columns\n"
          ],
          "name": "stdout"
        }
      ]
    },
    {
      "cell_type": "code",
      "metadata": {
        "id": "FTVM9f5lKkBp",
        "colab_type": "code",
        "outputId": "2de29612-6424-4aa3-f299-f0b4d56c287f",
        "colab": {
          "base_uri": "https://localhost:8080/",
          "height": 204
        }
      },
      "source": [
        "all_prayer_df['is_prayer'] = all_prayer_df['is_prayer'].map({'no': 0, 'yes': 1})\n",
        "all_prayer_df.sample(5)"
      ],
      "execution_count": 0,
      "outputs": [
        {
          "output_type": "execute_result",
          "data": {
            "text/html": [
              "<div>\n",
              "<style scoped>\n",
              "    .dataframe tbody tr th:only-of-type {\n",
              "        vertical-align: middle;\n",
              "    }\n",
              "\n",
              "    .dataframe tbody tr th {\n",
              "        vertical-align: top;\n",
              "    }\n",
              "\n",
              "    .dataframe thead th {\n",
              "        text-align: right;\n",
              "    }\n",
              "</style>\n",
              "<table border=\"1\" class=\"dataframe\">\n",
              "  <thead>\n",
              "    <tr style=\"text-align: right;\">\n",
              "      <th></th>\n",
              "      <th>english_text</th>\n",
              "      <th>is_prayer</th>\n",
              "    </tr>\n",
              "  </thead>\n",
              "  <tbody>\n",
              "    <tr>\n",
              "      <th>1340</th>\n",
              "      <td>The Jewish neighbors came and spoke to Abaye, ...</td>\n",
              "      <td>0</td>\n",
              "    </tr>\n",
              "    <tr>\n",
              "      <th>996</th>\n",
              "      <td>The Gemara asks: Is that to say that one who r...</td>\n",
              "      <td>1</td>\n",
              "    </tr>\n",
              "    <tr>\n",
              "      <th>281</th>\n",
              "      <td>And furthermore, Rabbi Yosei said: May my port...</td>\n",
              "      <td>1</td>\n",
              "    </tr>\n",
              "    <tr>\n",
              "      <th>1638</th>\n",
              "      <td>When Jehoiakim came along and reigned, he said...</td>\n",
              "      <td>0</td>\n",
              "    </tr>\n",
              "    <tr>\n",
              "      <th>15</th>\n",
              "      <td>On the topic of prayers recited while travelin...</td>\n",
              "      <td>1</td>\n",
              "    </tr>\n",
              "  </tbody>\n",
              "</table>\n",
              "</div>"
            ],
            "text/plain": [
              "                                           english_text  is_prayer\n",
              "1340  The Jewish neighbors came and spoke to Abaye, ...          0\n",
              "996   The Gemara asks: Is that to say that one who r...          1\n",
              "281   And furthermore, Rabbi Yosei said: May my port...          1\n",
              "1638  When Jehoiakim came along and reigned, he said...          0\n",
              "15    On the topic of prayers recited while travelin...          1"
            ]
          },
          "metadata": {
            "tags": []
          },
          "execution_count": 16
        }
      ]
    },
    {
      "cell_type": "code",
      "metadata": {
        "id": "VfdJsX-DGx-j",
        "colab_type": "code",
        "outputId": "cb4d471b-5fdc-485a-bb67-fe29a90ea795",
        "colab": {
          "base_uri": "https://localhost:8080/",
          "height": 51
        }
      },
      "source": [
        "print('Prayer:', (all_prayer_df.is_prayer.values == 1).sum())\n",
        "print('Not prayer:', (all_prayer_df.is_prayer.values == 0).sum())"
      ],
      "execution_count": 0,
      "outputs": [
        {
          "output_type": "stream",
          "text": [
            "Prayer: 553\n",
            "Not prayer: 668\n"
          ],
          "name": "stdout"
        }
      ]
    },
    {
      "cell_type": "code",
      "metadata": {
        "id": "t0eM00ODKkF9",
        "colab_type": "code",
        "outputId": "593b91b2-2c17-481d-eb73-d67fe5a5bc5e",
        "colab": {
          "base_uri": "https://localhost:8080/",
          "height": 51
        }
      },
      "source": [
        "import re\n",
        "import nltk\n",
        "import string\n",
        "nltk.download('stopwords')\n",
        "from nltk.corpus import stopwords\n",
        "\n",
        "REPLACE_BY_SPACE_RE = re.compile('[/(){}\\[\\]\\|@,;]')\n",
        "\n",
        "# BAD_SYMBOLS_RE = re.compile('[^a-z #+_]')\n",
        "BAD_SYMBOLS_RE = re.compile('[^0-9a-z #+_]')\n",
        "\n",
        "# BAD_SYMBOLS_RE = re.compile('[^0-9a-z #+_ \\b\\d+\\b]')\n",
        "STOPWORDS = set(stopwords.words('english'))\n",
        "\n",
        "def process_text(text):\n",
        "    #  text = BeautifulSoup(text, \"lxml\").text # HTML decoding\n",
        "    text = text.lower() # lowercase text\n",
        "    text = REPLACE_BY_SPACE_RE.sub(' ', text) # replace REPLACE_BY_SPACE_RE symbols by space in text\n",
        "    text = BAD_SYMBOLS_RE.sub('', text) # delete symbols which are in BAD_SYMBOLS_RE from text\n",
        "    text = ' '.join(word for word in text.split() if word not in STOPWORDS) # delete stopwors from text\n",
        "    return text\n",
        "\n",
        "from nltk.stem.snowball import SnowballStemmer\n",
        "\n",
        "stemmer = SnowballStemmer(\"english\")\n",
        "\n",
        "def stemming(sentence):\n",
        "    stemSentence = \"\"\n",
        "    for word in sentence.split():\n",
        "        stem = stemmer.stem(word)\n",
        "        stemSentence += stem\n",
        "        stemSentence += \" \"\n",
        "    stemSentence = stemSentence.strip()\n",
        "    return stemSentence\n",
        "\n",
        "# whitelist = set('abcdefghijklmnopqrstuvwxyz ZXCVBNMASDFGHJKLQWERTYUIOP')\n",
        "# genres['movie_id'] = genres['movie_id'].astype(str)\n",
        "\n",
        "# def process_text(text):\n",
        "#     '''\n",
        "#     1. Keep only letters and spaces\n",
        "#     2. Remove stopwords\n",
        "#     3. Return str of clean text words\n",
        "#     '''\n",
        "#     #1\n",
        "#     chars_str = ''.join(filter(whitelist.__contains__, text))\n",
        "#     #2\n",
        "#     clean_words = [word.lower() for word in chars_str.split() if word.lower() not in stopwords.words('english')]\n",
        "#     #3\n",
        "#     return ' '.join(clean_words)"
      ],
      "execution_count": 0,
      "outputs": [
        {
          "output_type": "stream",
          "text": [
            "[nltk_data] Downloading package stopwords to /root/nltk_data...\n",
            "[nltk_data]   Unzipping corpora/stopwords.zip.\n"
          ],
          "name": "stdout"
        }
      ]
    },
    {
      "cell_type": "code",
      "metadata": {
        "id": "CNQY4EBzKkOj",
        "colab_type": "code",
        "outputId": "f56f801e-95cf-4920-c855-8c83960dd9a0",
        "colab": {
          "base_uri": "https://localhost:8080/",
          "height": 34
        }
      },
      "source": [
        "sample_text = '''aBC.!@#$%^&    c*(בחתו ‎‎‎ או‎ בקרחתו — une...\n",
        "233 the gns: ac ...\n",
        "1041    7. a pien p'''\n",
        "process_text(sample_text)"
      ],
      "execution_count": 0,
      "outputs": [
        {
          "output_type": "execute_result",
          "data": {
            "text/plain": [
              "'abc # c une233 gns ac 1041 7 pien p'"
            ]
          },
          "metadata": {
            "tags": []
          },
          "execution_count": 19
        }
      ]
    },
    {
      "cell_type": "code",
      "metadata": {
        "id": "Pj0D-XrRKkSk",
        "colab_type": "code",
        "outputId": "9c6fabf9-bfa6-40ff-c507-2d3cf5d761a4",
        "colab": {
          "base_uri": "https://localhost:8080/",
          "height": 204
        }
      },
      "source": [
        "all_prayer_df.sample(5)"
      ],
      "execution_count": 0,
      "outputs": [
        {
          "output_type": "execute_result",
          "data": {
            "text/html": [
              "<div>\n",
              "<style scoped>\n",
              "    .dataframe tbody tr th:only-of-type {\n",
              "        vertical-align: middle;\n",
              "    }\n",
              "\n",
              "    .dataframe tbody tr th {\n",
              "        vertical-align: top;\n",
              "    }\n",
              "\n",
              "    .dataframe thead th {\n",
              "        text-align: right;\n",
              "    }\n",
              "</style>\n",
              "<table border=\"1\" class=\"dataframe\">\n",
              "  <thead>\n",
              "    <tr style=\"text-align: right;\">\n",
              "      <th></th>\n",
              "      <th>english_text</th>\n",
              "      <th>is_prayer</th>\n",
              "    </tr>\n",
              "  </thead>\n",
              "  <tbody>\n",
              "    <tr>\n",
              "      <th>1730</th>\n",
              "      <td>××¢×©××ª ××¨ ××× ×××¡××¨×ª× AND THOU...</td>\n",
              "      <td>0</td>\n",
              "    </tr>\n",
              "    <tr>\n",
              "      <th>528</th>\n",
              "      <td>JOY: The second [branch of love of G-d] is joy...</td>\n",
              "      <td>1</td>\n",
              "    </tr>\n",
              "    <tr>\n",
              "      <th>1465</th>\n",
              "      <td>(1) Sins between man and G-d only. For example...</td>\n",
              "      <td>0</td>\n",
              "    </tr>\n",
              "    <tr>\n",
              "      <th>1066</th>\n",
              "      <td>But if its name must be á¸¥agav , one might ha...</td>\n",
              "      <td>0</td>\n",
              "    </tr>\n",
              "    <tr>\n",
              "      <th>1375</th>\n",
              "      <td>And the women said unto Naomi: âBlessed be t...</td>\n",
              "      <td>0</td>\n",
              "    </tr>\n",
              "  </tbody>\n",
              "</table>\n",
              "</div>"
            ],
            "text/plain": [
              "                                           english_text  is_prayer\n",
              "1730  ××¢×©××ª ××¨ ××× ×××¡××¨×ª× AND THOU...          0\n",
              "528   JOY: The second [branch of love of G-d] is joy...          1\n",
              "1465  (1) Sins between man and G-d only. For example...          0\n",
              "1066  But if its name must be á¸¥agav , one might ha...          0\n",
              "1375  And the women said unto Naomi: âBlessed be t...          0"
            ]
          },
          "metadata": {
            "tags": []
          },
          "execution_count": 20
        }
      ]
    },
    {
      "cell_type": "code",
      "metadata": {
        "id": "10Z1Naa5GLN5",
        "colab_type": "code",
        "outputId": "a872a5a6-e77c-4fc9-ee49-a183576f0583",
        "colab": {
          "base_uri": "https://localhost:8080/",
          "height": 204
        }
      },
      "source": [
        "processed_df = all_prayer_df\n",
        "processed_df['english_text'] = processed_df['english_text'].apply(process_text)\n",
        "processed_df.head(5)"
      ],
      "execution_count": 0,
      "outputs": [
        {
          "output_type": "execute_result",
          "data": {
            "text/html": [
              "<div>\n",
              "<style scoped>\n",
              "    .dataframe tbody tr th:only-of-type {\n",
              "        vertical-align: middle;\n",
              "    }\n",
              "\n",
              "    .dataframe tbody tr th {\n",
              "        vertical-align: top;\n",
              "    }\n",
              "\n",
              "    .dataframe thead th {\n",
              "        text-align: right;\n",
              "    }\n",
              "</style>\n",
              "<table border=\"1\" class=\"dataframe\">\n",
              "  <thead>\n",
              "    <tr style=\"text-align: right;\">\n",
              "      <th></th>\n",
              "      <th>english_text</th>\n",
              "      <th>is_prayer</th>\n",
              "    </tr>\n",
              "  </thead>\n",
              "  <tbody>\n",
              "    <tr>\n",
              "      <th>0</th>\n",
              "      <td>another abba binyamins statements regard laws ...</td>\n",
              "      <td>1</td>\n",
              "    </tr>\n",
              "    <tr>\n",
              "      <th>1</th>\n",
              "      <td>taught baraita abba binyamin said ones prayer ...</td>\n",
              "      <td>1</td>\n",
              "    </tr>\n",
              "    <tr>\n",
              "      <th>2</th>\n",
              "      <td>additionally ravin bar rav adda said rabbi yit...</td>\n",
              "      <td>1</td>\n",
              "    </tr>\n",
              "    <tr>\n",
              "      <th>3</th>\n",
              "      <td>similarly taught baraita rabbi yishmael ben el...</td>\n",
              "      <td>1</td>\n",
              "    </tr>\n",
              "    <tr>\n",
              "      <th>4</th>\n",
              "      <td>meaning written let prayer unto lord time favo...</td>\n",
              "      <td>1</td>\n",
              "    </tr>\n",
              "  </tbody>\n",
              "</table>\n",
              "</div>"
            ],
            "text/plain": [
              "                                        english_text  is_prayer\n",
              "0  another abba binyamins statements regard laws ...          1\n",
              "1  taught baraita abba binyamin said ones prayer ...          1\n",
              "2  additionally ravin bar rav adda said rabbi yit...          1\n",
              "3  similarly taught baraita rabbi yishmael ben el...          1\n",
              "4  meaning written let prayer unto lord time favo...          1"
            ]
          },
          "metadata": {
            "tags": []
          },
          "execution_count": 21
        }
      ]
    },
    {
      "cell_type": "code",
      "metadata": {
        "id": "9Oj4-qeRGGXm",
        "colab_type": "code",
        "outputId": "291230f7-3c83-4ae3-e5df-864b1bfccddc",
        "colab": {
          "base_uri": "https://localhost:8080/",
          "height": 204
        }
      },
      "source": [
        "# all_prayer_df['En'] = all_prayer_df['En'].apply(stemming)\n",
        "# all_prayer_df.head()\n",
        "stemmed_df = processed_df\n",
        "stemmed_df['english_text'] = stemmed_df['english_text'].apply(stemming)\n",
        "stemmed_df.head()"
      ],
      "execution_count": 0,
      "outputs": [
        {
          "output_type": "execute_result",
          "data": {
            "text/html": [
              "<div>\n",
              "<style scoped>\n",
              "    .dataframe tbody tr th:only-of-type {\n",
              "        vertical-align: middle;\n",
              "    }\n",
              "\n",
              "    .dataframe tbody tr th {\n",
              "        vertical-align: top;\n",
              "    }\n",
              "\n",
              "    .dataframe thead th {\n",
              "        text-align: right;\n",
              "    }\n",
              "</style>\n",
              "<table border=\"1\" class=\"dataframe\">\n",
              "  <thead>\n",
              "    <tr style=\"text-align: right;\">\n",
              "      <th></th>\n",
              "      <th>english_text</th>\n",
              "      <th>is_prayer</th>\n",
              "    </tr>\n",
              "  </thead>\n",
              "  <tbody>\n",
              "    <tr>\n",
              "      <th>0</th>\n",
              "      <td>anoth abba binyamin statement regard law praye...</td>\n",
              "      <td>1</td>\n",
              "    </tr>\n",
              "    <tr>\n",
              "      <th>1</th>\n",
              "      <td>taught baraita abba binyamin said one prayer f...</td>\n",
              "      <td>1</td>\n",
              "    </tr>\n",
              "    <tr>\n",
              "      <th>2</th>\n",
              "      <td>addit ravin bar rav adda said rabbi yitzak sai...</td>\n",
              "      <td>1</td>\n",
              "    </tr>\n",
              "    <tr>\n",
              "      <th>3</th>\n",
              "      <td>similar taught baraita rabbi yishmael ben elis...</td>\n",
              "      <td>1</td>\n",
              "    </tr>\n",
              "    <tr>\n",
              "      <th>4</th>\n",
              "      <td>mean written let prayer unto lord time favor g...</td>\n",
              "      <td>1</td>\n",
              "    </tr>\n",
              "  </tbody>\n",
              "</table>\n",
              "</div>"
            ],
            "text/plain": [
              "                                        english_text  is_prayer\n",
              "0  anoth abba binyamin statement regard law praye...          1\n",
              "1  taught baraita abba binyamin said one prayer f...          1\n",
              "2  addit ravin bar rav adda said rabbi yitzak sai...          1\n",
              "3  similar taught baraita rabbi yishmael ben elis...          1\n",
              "4  mean written let prayer unto lord time favor g...          1"
            ]
          },
          "metadata": {
            "tags": []
          },
          "execution_count": 22
        }
      ]
    },
    {
      "cell_type": "code",
      "metadata": {
        "id": "CCdshXlYKka3",
        "colab_type": "code",
        "colab": {}
      },
      "source": [
        "# from wordcloud import WordCloud\n",
        "# import matplotlib.pyplot as plt\n",
        "\n",
        "# prayer_words = ' '.join(list(all_prayer_df[stemmed_df['is_prayer'] == 1]['En']))\n",
        "# prayer_wc = WordCloud(width = 512,height = 512).generate(prayer_words)\n",
        "# plt.figure(figsize = (10, 8), facecolor = 'k')\n",
        "# plt.imshow(prayer_wc)\n",
        "# plt.axis('off')\n",
        "# plt.tight_layout(pad = 0)\n",
        "# plt.show()"
      ],
      "execution_count": 0,
      "outputs": []
    },
    {
      "cell_type": "code",
      "metadata": {
        "id": "KBWTtiYTKkX4",
        "colab_type": "code",
        "colab": {}
      },
      "source": [
        "# not_prayer_words = ' '.join(list(all_prayer_df[all_prayer_df['is_prayer'] == 0]['En']))\n",
        "# not_prayer_wc = WordCloud(width = 512,height = 512).generate(not_prayer_words)\n",
        "# plt.figure(figsize = (10, 8), facecolor = 'k')\n",
        "# plt.imshow(not_prayer_wc)\n",
        "# plt.axis('off')\n",
        "# plt.tight_layout(pad = 0)\n",
        "# plt.show()"
      ],
      "execution_count": 0,
      "outputs": []
    },
    {
      "cell_type": "code",
      "metadata": {
        "id": "YOt4N48JrrUY",
        "colab_type": "code",
        "outputId": "fe9c4b55-adfc-4b0d-ea36-5cddd0247cb4",
        "colab": {
          "base_uri": "https://localhost:8080/",
          "height": 204
        }
      },
      "source": [
        "df = stemmed_df\n",
        "df.head()"
      ],
      "execution_count": 0,
      "outputs": [
        {
          "output_type": "execute_result",
          "data": {
            "text/html": [
              "<div>\n",
              "<style scoped>\n",
              "    .dataframe tbody tr th:only-of-type {\n",
              "        vertical-align: middle;\n",
              "    }\n",
              "\n",
              "    .dataframe tbody tr th {\n",
              "        vertical-align: top;\n",
              "    }\n",
              "\n",
              "    .dataframe thead th {\n",
              "        text-align: right;\n",
              "    }\n",
              "</style>\n",
              "<table border=\"1\" class=\"dataframe\">\n",
              "  <thead>\n",
              "    <tr style=\"text-align: right;\">\n",
              "      <th></th>\n",
              "      <th>english_text</th>\n",
              "      <th>is_prayer</th>\n",
              "    </tr>\n",
              "  </thead>\n",
              "  <tbody>\n",
              "    <tr>\n",
              "      <th>0</th>\n",
              "      <td>anoth abba binyamin statement regard law praye...</td>\n",
              "      <td>1</td>\n",
              "    </tr>\n",
              "    <tr>\n",
              "      <th>1</th>\n",
              "      <td>taught baraita abba binyamin said one prayer f...</td>\n",
              "      <td>1</td>\n",
              "    </tr>\n",
              "    <tr>\n",
              "      <th>2</th>\n",
              "      <td>addit ravin bar rav adda said rabbi yitzak sai...</td>\n",
              "      <td>1</td>\n",
              "    </tr>\n",
              "    <tr>\n",
              "      <th>3</th>\n",
              "      <td>similar taught baraita rabbi yishmael ben elis...</td>\n",
              "      <td>1</td>\n",
              "    </tr>\n",
              "    <tr>\n",
              "      <th>4</th>\n",
              "      <td>mean written let prayer unto lord time favor g...</td>\n",
              "      <td>1</td>\n",
              "    </tr>\n",
              "  </tbody>\n",
              "</table>\n",
              "</div>"
            ],
            "text/plain": [
              "                                        english_text  is_prayer\n",
              "0  anoth abba binyamin statement regard law praye...          1\n",
              "1  taught baraita abba binyamin said one prayer f...          1\n",
              "2  addit ravin bar rav adda said rabbi yitzak sai...          1\n",
              "3  similar taught baraita rabbi yishmael ben elis...          1\n",
              "4  mean written let prayer unto lord time favor g...          1"
            ]
          },
          "metadata": {
            "tags": []
          },
          "execution_count": 27
        }
      ]
    },
    {
      "cell_type": "code",
      "metadata": {
        "id": "K-91C0EFvYB-",
        "colab_type": "code",
        "outputId": "20cc49cd-7f1f-4d52-fb48-f83a856192a7",
        "colab": {
          "base_uri": "https://localhost:8080/",
          "height": 34
        }
      },
      "source": [
        "from keras.preprocessing.sequence import pad_sequences\n",
        "X = df['english_text']\n",
        "# X = tokenizer.texts_to_sequences(df['english_text'].values)\n",
        "# X = pad_sequences(X, maxlen=MAX_SEQUENCE_LENGTH)\n",
        "print('Shape of data tensor:', X.shape)"
      ],
      "execution_count": 0,
      "outputs": [
        {
          "output_type": "stream",
          "text": [
            "Shape of data tensor: (1221,)\n"
          ],
          "name": "stdout"
        }
      ]
    },
    {
      "cell_type": "code",
      "metadata": {
        "id": "IgrGfexfydvP",
        "colab_type": "code",
        "outputId": "96770080-0832-441c-e8ac-423491d5bcf4",
        "colab": {
          "base_uri": "https://localhost:8080/",
          "height": 34
        }
      },
      "source": [
        "Y = pd.get_dummies(df['is_prayer']).values\n",
        "print('Shape of label tensor:', Y.shape)\n"
      ],
      "execution_count": 0,
      "outputs": [
        {
          "output_type": "stream",
          "text": [
            "Shape of label tensor: (1221, 2)\n"
          ],
          "name": "stdout"
        }
      ]
    },
    {
      "cell_type": "code",
      "metadata": {
        "id": "55r5BbIIys5c",
        "colab_type": "code",
        "outputId": "8b783e19-6232-43d0-a081-6985bdb47b9e",
        "colab": {
          "base_uri": "https://localhost:8080/",
          "height": 51
        }
      },
      "source": [
        "from sklearn.model_selection import train_test_split\n",
        "X_train, X_test, Y_train, Y_test = train_test_split(X,Y, test_size = 0.10, random_state = 42)\n",
        "print(X_train.shape,Y_train.shape)\n",
        "print(X_test.shape,Y_test.shape)\n"
      ],
      "execution_count": 0,
      "outputs": [
        {
          "output_type": "stream",
          "text": [
            "(1098,) (1098, 2)\n",
            "(123,) (123, 2)\n"
          ],
          "name": "stdout"
        }
      ]
    },
    {
      "cell_type": "code",
      "metadata": {
        "id": "df90uEhPdEcX",
        "colab_type": "code",
        "colab": {}
      },
      "source": [
        ""
      ],
      "execution_count": 0,
      "outputs": []
    },
    {
      "cell_type": "code",
      "metadata": {
        "id": "3Ut2PZh0ueVN",
        "colab_type": "code",
        "colab": {}
      },
      "source": [
        "from tensorflow.keras.preprocessing.text import Tokenizer\n",
        "\n",
        "# The maximum number of words to be used. (most frequent)\n",
        "MAX_NB_WORDS = 50000\n",
        "# Max number of words in each complaint.\n",
        "MAX_SEQUENCE_LENGTH = 250\n",
        "# This is fixed.\n",
        "EMBEDDING_DIM = 100\n",
        "tokenizer = Tokenizer(num_words=MAX_NB_WORDS, filters='!\"#$%&()*+,-./:;<=>?@[\\]^_`{|}~', oov_token=\"<OOV>\", lower=True)\n",
        "tokenizer.fit_on_texts(X_train)\n",
        "# tokenizer.fit_on_texts(df['english_text'].values)\n"
      ],
      "execution_count": 0,
      "outputs": []
    },
    {
      "cell_type": "code",
      "metadata": {
        "id": "EHvHc5eoeI-F",
        "colab_type": "code",
        "outputId": "8554ea37-9df2-477d-ad51-eb5c3cc78a8e",
        "colab": {
          "base_uri": "https://localhost:8080/",
          "height": 374
        }
      },
      "source": [
        "\n",
        "X_train = tokenizer.texts_to_sequences(X_train)\n",
        "X_test = tokenizer.texts_to_sequences(X_test)\n",
        "# X_train = pad_sequences(X_train, maxlen=MAX_SEQUENCE_LENGTH)\n",
        "# print('Shape of data tensor:', X.shape)\n",
        "vocab_size = len(tokenizer.word_index) + 1\n",
        "\n",
        "maxlen = 200\n",
        "\n",
        "X_train = pad_sequences(X_train, padding=\"post\", maxlen=maxlen)\n",
        "X_test = pad_sequences(X_test, padding=\"post\", maxlen=maxlen)\n"
      ],
      "execution_count": 0,
      "outputs": [
        {
          "output_type": "error",
          "ename": "AttributeError",
          "evalue": "ignored",
          "traceback": [
            "\u001b[0;31m---------------------------------------------------------------------------\u001b[0m",
            "\u001b[0;31mAttributeError\u001b[0m                            Traceback (most recent call last)",
            "\u001b[0;32m<ipython-input-48-fa25bbad1d77>\u001b[0m in \u001b[0;36m<module>\u001b[0;34m()\u001b[0m\n\u001b[1;32m      1\u001b[0m \u001b[0;34m\u001b[0m\u001b[0m\n\u001b[0;32m----> 2\u001b[0;31m \u001b[0mX_train\u001b[0m \u001b[0;34m=\u001b[0m \u001b[0mtokenizer\u001b[0m\u001b[0;34m.\u001b[0m\u001b[0mtexts_to_sequences\u001b[0m\u001b[0;34m(\u001b[0m\u001b[0mX_train\u001b[0m\u001b[0;34m)\u001b[0m\u001b[0;34m\u001b[0m\u001b[0;34m\u001b[0m\u001b[0m\n\u001b[0m\u001b[1;32m      3\u001b[0m \u001b[0mX_test\u001b[0m \u001b[0;34m=\u001b[0m \u001b[0mtokenizer\u001b[0m\u001b[0;34m.\u001b[0m\u001b[0mtexts_to_sequences\u001b[0m\u001b[0;34m(\u001b[0m\u001b[0mX_test\u001b[0m\u001b[0;34m)\u001b[0m\u001b[0;34m\u001b[0m\u001b[0;34m\u001b[0m\u001b[0m\n\u001b[1;32m      4\u001b[0m \u001b[0;31m# X_train = pad_sequences(X_train, maxlen=MAX_SEQUENCE_LENGTH)\u001b[0m\u001b[0;34m\u001b[0m\u001b[0;34m\u001b[0m\u001b[0;34m\u001b[0m\u001b[0m\n\u001b[1;32m      5\u001b[0m \u001b[0;31m# print('Shape of data tensor:', X.shape)\u001b[0m\u001b[0;34m\u001b[0m\u001b[0;34m\u001b[0m\u001b[0;34m\u001b[0m\u001b[0m\n",
            "\u001b[0;32m/usr/local/lib/python3.6/dist-packages/keras_preprocessing/text.py\u001b[0m in \u001b[0;36mtexts_to_sequences\u001b[0;34m(self, texts)\u001b[0m\n\u001b[1;32m    279\u001b[0m             \u001b[0mA\u001b[0m \u001b[0mlist\u001b[0m \u001b[0mof\u001b[0m \u001b[0msequences\u001b[0m\u001b[0;34m.\u001b[0m\u001b[0;34m\u001b[0m\u001b[0;34m\u001b[0m\u001b[0m\n\u001b[1;32m    280\u001b[0m         \"\"\"\n\u001b[0;32m--> 281\u001b[0;31m         \u001b[0;32mreturn\u001b[0m \u001b[0mlist\u001b[0m\u001b[0;34m(\u001b[0m\u001b[0mself\u001b[0m\u001b[0;34m.\u001b[0m\u001b[0mtexts_to_sequences_generator\u001b[0m\u001b[0;34m(\u001b[0m\u001b[0mtexts\u001b[0m\u001b[0;34m)\u001b[0m\u001b[0;34m)\u001b[0m\u001b[0;34m\u001b[0m\u001b[0;34m\u001b[0m\u001b[0m\n\u001b[0m\u001b[1;32m    282\u001b[0m \u001b[0;34m\u001b[0m\u001b[0m\n\u001b[1;32m    283\u001b[0m     \u001b[0;32mdef\u001b[0m \u001b[0mtexts_to_sequences_generator\u001b[0m\u001b[0;34m(\u001b[0m\u001b[0mself\u001b[0m\u001b[0;34m,\u001b[0m \u001b[0mtexts\u001b[0m\u001b[0;34m)\u001b[0m\u001b[0;34m:\u001b[0m\u001b[0;34m\u001b[0m\u001b[0;34m\u001b[0m\u001b[0m\n",
            "\u001b[0;32m/usr/local/lib/python3.6/dist-packages/keras_preprocessing/text.py\u001b[0m in \u001b[0;36mtexts_to_sequences_generator\u001b[0;34m(self, texts)\u001b[0m\n\u001b[1;32m    310\u001b[0m                                             \u001b[0mself\u001b[0m\u001b[0;34m.\u001b[0m\u001b[0mfilters\u001b[0m\u001b[0;34m,\u001b[0m\u001b[0;34m\u001b[0m\u001b[0;34m\u001b[0m\u001b[0m\n\u001b[1;32m    311\u001b[0m                                             \u001b[0mself\u001b[0m\u001b[0;34m.\u001b[0m\u001b[0mlower\u001b[0m\u001b[0;34m,\u001b[0m\u001b[0;34m\u001b[0m\u001b[0;34m\u001b[0m\u001b[0m\n\u001b[0;32m--> 312\u001b[0;31m                                             self.split)\n\u001b[0m\u001b[1;32m    313\u001b[0m             \u001b[0mvect\u001b[0m \u001b[0;34m=\u001b[0m \u001b[0;34m[\u001b[0m\u001b[0;34m]\u001b[0m\u001b[0;34m\u001b[0m\u001b[0;34m\u001b[0m\u001b[0m\n\u001b[1;32m    314\u001b[0m             \u001b[0;32mfor\u001b[0m \u001b[0mw\u001b[0m \u001b[0;32min\u001b[0m \u001b[0mseq\u001b[0m\u001b[0;34m:\u001b[0m\u001b[0;34m\u001b[0m\u001b[0;34m\u001b[0m\u001b[0m\n",
            "\u001b[0;32m/usr/local/lib/python3.6/dist-packages/keras_preprocessing/text.py\u001b[0m in \u001b[0;36mtext_to_word_sequence\u001b[0;34m(text, filters, lower, split)\u001b[0m\n\u001b[1;32m     41\u001b[0m     \"\"\"\n\u001b[1;32m     42\u001b[0m     \u001b[0;32mif\u001b[0m \u001b[0mlower\u001b[0m\u001b[0;34m:\u001b[0m\u001b[0;34m\u001b[0m\u001b[0;34m\u001b[0m\u001b[0m\n\u001b[0;32m---> 43\u001b[0;31m         \u001b[0mtext\u001b[0m \u001b[0;34m=\u001b[0m \u001b[0mtext\u001b[0m\u001b[0;34m.\u001b[0m\u001b[0mlower\u001b[0m\u001b[0;34m(\u001b[0m\u001b[0;34m)\u001b[0m\u001b[0;34m\u001b[0m\u001b[0;34m\u001b[0m\u001b[0m\n\u001b[0m\u001b[1;32m     44\u001b[0m \u001b[0;34m\u001b[0m\u001b[0m\n\u001b[1;32m     45\u001b[0m     \u001b[0;32mif\u001b[0m \u001b[0msys\u001b[0m\u001b[0;34m.\u001b[0m\u001b[0mversion_info\u001b[0m \u001b[0;34m<\u001b[0m \u001b[0;34m(\u001b[0m\u001b[0;36m3\u001b[0m\u001b[0;34m,\u001b[0m\u001b[0;34m)\u001b[0m\u001b[0;34m:\u001b[0m\u001b[0;34m\u001b[0m\u001b[0;34m\u001b[0m\u001b[0m\n",
            "\u001b[0;31mAttributeError\u001b[0m: 'numpy.ndarray' object has no attribute 'lower'"
          ]
        }
      ]
    },
    {
      "cell_type": "code",
      "metadata": {
        "id": "bX0x_nxjd3wo",
        "colab_type": "code",
        "colab": {}
      },
      "source": [
        "\n",
        "\n",
        "word_index = tokenizer.word_index\n",
        "print('Found %s unique tokens.' % len(word_index))\n",
        "\n"
      ],
      "execution_count": 0,
      "outputs": []
    },
    {
      "cell_type": "code",
      "metadata": {
        "id": "Q5tG-uUDa3Bm",
        "colab_type": "code",
        "colab": {}
      },
      "source": [
        "\"\"\"\n",
        "function ConnectButton(){\n",
        "    console.log(\"Connect pushed\"); \n",
        "    document.querySelector(\"#top-toolbar > colab-connect-button\").shadowRoot.querySelector(\"#connect\").click() \n",
        "}\n",
        "setInterval(ConnectButton,60000);\n",
        "\"\"\""
      ],
      "execution_count": 0,
      "outputs": []
    },
    {
      "cell_type": "code",
      "metadata": {
        "id": "cGeoXf9lvryp",
        "colab_type": "code",
        "colab": {}
      },
      "source": [
        "from keras.models import Sequential\n",
        "from keras.layers import Embedding\n",
        "from keras.layers.core import Dense, SpatialDropout1D\n",
        "# from tensorflow.python.keras.layers.recurrent import LSTM\n",
        "from keras.layers.recurrent import LSTM\n",
        "\n",
        "model = Sequential()\n",
        "model.add(Embedding(MAX_NB_WORDS, EMBEDDING_DIM, input_length=X.shape[1]))\n",
        "model.add(SpatialDropout1D(0.2))\n",
        "model.add(LSTM(100, dropout=0.2, recurrent_dropout=0.2))\n",
        "model.add(Dense(2, activation='sigmoid'))\n",
        "# model.add(Dense(2, activation='softmax'))\n",
        "model.compile(loss='categorical_crossentropy', optimizer='adam', metrics=['accuracy'])\n",
        "\n",
        "epochs = 15\n",
        "batch_size = 64\n",
        "\n",
        "# history = model.fit(X_train, Y_train, epochs=epochs, batch_size=batch_size,validation_split=0.1,callbacks=[EarlyStopping(monitor='val_loss', patience=3, min_delta=0.0001)])\n"
      ],
      "execution_count": 0,
      "outputs": []
    },
    {
      "cell_type": "code",
      "metadata": {
        "id": "4kw5dcgUuf4C",
        "colab_type": "code",
        "colab": {}
      },
      "source": [
        "# X = df.english_text\n",
        "# y = df.is_prayer\n",
        "# print(f\"Totals: {X.shape} / {y.shape}\")\n",
        "\n",
        "# from sklearn.model_selection import train_test_split\n",
        "\n",
        "# # train, test = train_test_split(movies, random_state=42, test_size=0.30, shuffle=True)\n",
        "\n",
        "# X_train, X_test, y_train, y_test = train_test_split(X, y, random_state=56, test_size=0.20, shuffle=True)\n",
        "\n",
        "# print(f\"\\nTrain: {X_train.shape} / {y_train.shape}\")\n",
        "\n",
        "# print(f\"\\nTest: {X_test.shape} / {y_test.shape}\")"
      ],
      "execution_count": 0,
      "outputs": []
    },
    {
      "cell_type": "code",
      "metadata": {
        "id": "jR-nbZiIxjRq",
        "colab_type": "code",
        "colab": {}
      },
      "source": [
        "from keras.callbacks import ModelCheckpoint, EarlyStopping\n",
        "\n",
        "history = model.fit(X_train, Y_train, \n",
        "                    epochs=epochs, batch_size=batch_size,validation_split=0.1,\n",
        "                    callbacks=[EarlyStopping(monitor='val_loss', patience=3, min_delta=0.0001)])"
      ],
      "execution_count": 0,
      "outputs": []
    },
    {
      "cell_type": "code",
      "metadata": {
        "id": "xItgWYNOzMDf",
        "colab_type": "code",
        "colab": {}
      },
      "source": [
        "import matplotlib.pyplot as plt\n",
        "plt.title('Loss')\n",
        "plt.plot(history.history['loss'], label='train')\n",
        "plt.plot(history.history['val_loss'], label='test')\n",
        "plt.legend()\n",
        "plt.show();\n"
      ],
      "execution_count": 0,
      "outputs": []
    },
    {
      "cell_type": "code",
      "metadata": {
        "id": "SkpMmQSmzUiy",
        "colab_type": "code",
        "colab": {}
      },
      "source": [
        "plt.title('Accuracy')\n",
        "plt.plot(history.history['accuracy'], label='train')\n",
        "# plt.plot(history.history['acc'], label='train')\n",
        "plt.plot(history.history['val_accuracy'], label='test')\n",
        "plt.legend()\n",
        "plt.show();\n"
      ],
      "execution_count": 0,
      "outputs": []
    },
    {
      "cell_type": "code",
      "metadata": {
        "id": "8CEXlC0HKO-S",
        "colab_type": "code",
        "colab": {}
      },
      "source": [
        ""
      ],
      "execution_count": 0,
      "outputs": []
    },
    {
      "cell_type": "code",
      "metadata": {
        "id": "15UcywD9TTjJ",
        "colab_type": "code",
        "colab": {}
      },
      "source": [
        "# # Convert a collection of text documents to a matrix of token counts\n",
        "\n",
        "# from sklearn.feature_extraction.text import CountVectorizer, HashingVectorizer, TfidfVectorizer\n",
        "\n",
        "# # vectorizer = CountVectorizer(analyzer=process_text)\n",
        "# # vectorizer = CountVectorizer(ngram_range=(2, 4))\n",
        "# # vectorizer = HashingVectorizer(ngram_range=(2, 4),alternate_sign=False)\n",
        "# vectorizer = TfidfVectorizer(\n",
        "#     # strip_accents='unicode', \n",
        "#     # analyzer='word', \n",
        "#     ngram_range=(1,3), \n",
        "#     # norm='l2', \n",
        "#     # max_features = 15000\n",
        "#     # max_features = 12000\n",
        "#     max_features = 10000\n",
        "#     # max_features = 8000\n",
        "#     # max_features = 5000\n",
        "#     )\n",
        "\n",
        "# # vectorizer = TfidfVectorizer(ngram_range=(2, 4))\n",
        "# # vectorizer.fit(X_train)\n",
        "# # vectorizer.get_feature_names()\n"
      ],
      "execution_count": 0,
      "outputs": []
    },
    {
      "cell_type": "code",
      "metadata": {
        "id": "0o4gM0z6Iz0n",
        "colab_type": "code",
        "colab": {}
      },
      "source": [
        "# print(\"Shape of document term matrix\")\n",
        "\n",
        "# # X_train_dtm = vectorizer.transform(X_train)\n",
        "# X_train_dtm = vectorizer.fit_transform(X_train)\n",
        "# print(f\"Train: {X_train_dtm.shape}\")\n",
        "\n",
        "# # prayer_bag_of_words = vectorizer.fit_transform(all_prayer_df['En'])\n",
        "# X_test_dtm = vectorizer.transform(X_test)\n",
        "# print(f\"Test: {X_test_dtm.shape}\")\n"
      ],
      "execution_count": 0,
      "outputs": []
    },
    {
      "cell_type": "code",
      "metadata": {
        "id": "OxFuBppqB2R4",
        "colab_type": "code",
        "colab": {}
      },
      "source": [
        "\n",
        "# print(vectorizer.get_feature_names())\n"
      ],
      "execution_count": 0,
      "outputs": []
    },
    {
      "cell_type": "code",
      "metadata": {
        "id": "CD23HO1xqi66",
        "colab_type": "code",
        "colab": {}
      },
      "source": [
        "# from sklearn.naive_bayes import MultinomialNB, GaussianNB, BernoulliNB, ComplementNB\n",
        "\n",
        "# classifier = MultinomialNB()\n",
        "# # classifier = ComplementNB()\n",
        "\n",
        "# # for Gaussian need array format\n",
        "# # X_train = X_train.toarray()\n",
        "# # X_test = X_test.toarray()\n",
        "# # classifier = GaussianNB()\n",
        "# # classifier = BernoulliNB()\n",
        "\n",
        "# %time classifier.fit(X_train_dtm, y_train)\n",
        "# y_pred_class = classifier.predict(X_test_dtm)\n",
        "# from sklearn import metrics\n",
        "\n",
        "# print(f\"\\nBreakdown:\\n{y_test.value_counts()[0]} non-prayer (0), and\\n{y_test.value_counts()[1]} prayer (1)\")\n",
        "\n",
        "# null_accuracy = y_test.value_counts().head(1) / len(y_test)\n",
        "# print(f'\\nNull accuracy: {null_accuracy[0]}')\n",
        "\n",
        "# non_prayer_passages = y_test.value_counts()[0]\n",
        "# prayer_passages = y_test.value_counts()[1]\n",
        "# print('Manual null accuracy:',(prayer_passages / (prayer_passages + non_prayer_passages)))\n",
        "\n",
        "# print('\\nAccuracy:',round(metrics.accuracy_score(y_test, y_pred_class),2))\n",
        "# print('Precision:',round(metrics.precision_score(y_test, y_pred_class),2))\n",
        "# print('Recall:',round(metrics.recall_score(y_test, y_pred_class),2))\n",
        "# print('F1 score:',round(metrics.f1_score(y_test, y_pred_class),2))\n",
        "\n",
        "# print(\"\\nConfusion Matrix:\")\n",
        "# print(metrics.confusion_matrix(y_test, y_pred_class))\n"
      ],
      "execution_count": 0,
      "outputs": []
    },
    {
      "cell_type": "code",
      "metadata": {
        "id": "4scurgrwrsGj",
        "colab_type": "code",
        "colab": {}
      },
      "source": [
        "\n",
        "# from sklearn.model_selection import cross_val_score\n",
        "# # clf = svm.SVC(kernel='linear', C=1)\n",
        "# scores = cross_val_score(classifier, X, y, cv=5)\n",
        "# scores\n"
      ],
      "execution_count": 0,
      "outputs": []
    },
    {
      "cell_type": "code",
      "metadata": {
        "id": "5YfNWBAA0RIa",
        "colab_type": "code",
        "colab": {}
      },
      "source": [
        "# TP = X_test[y_pred_class + y_test == 2]\n",
        "# TN = X_test[y_pred_class + y_test == 0]\n",
        "# FP = X_test[y_pred_class > y_test]\n",
        "# FN = X_test[y_pred_class < y_test]\n",
        "\n",
        "# pd.options.display.max_colwidth = 100\n",
        "\n",
        "# # pd.style.set_properties(**{'text-align': 'left'})\n",
        "\n",
        "# # print(\"\\n*** TP ***\")\n",
        "# # print(TP.sample(5))\n",
        "# # print(\"\\n*** TN ***\")\n",
        "# # print(TN.sample(5))\n",
        "# print(\"*** False Positives: Actually NOT prayer, but misclassified as prayer ***\\n\")\n",
        "# print(FP.sample(10))\n",
        "# print(\"\\n\\n*** False Negatives: Actually prayer, but misclassified as NOT prayer ***\\n\")\n",
        "# print(FN.sample(10))"
      ],
      "execution_count": 0,
      "outputs": []
    },
    {
      "cell_type": "code",
      "metadata": {
        "id": "-uC5Qrl5x1hI",
        "colab_type": "code",
        "colab": {}
      },
      "source": [
        "# FP.to_csv('FP', sep='\\t', encoding='utf-8')\n",
        "# FN.to_csv('FN', sep='\\t', encoding='utf-8')\n"
      ],
      "execution_count": 0,
      "outputs": []
    },
    {
      "cell_type": "code",
      "metadata": {
        "id": "hrVYv3ETLjsJ",
        "colab_type": "code",
        "colab": {}
      },
      "source": [
        ""
      ],
      "execution_count": 0,
      "outputs": []
    }
  ]
}