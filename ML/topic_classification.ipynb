{
  "nbformat": 4,
  "nbformat_minor": 0,
  "metadata": {
    "colab": {
      "name": "topic_classification.ipynb",
      "provenance": [],
      "collapsed_sections": [],
      "mount_file_id": "https://github.com/yishairasowsky/Sefaria-Project/blob/master/ML/topic_classification.ipynb",
      "authorship_tag": "ABX9TyMP2ZPc3rL2zA2a09+cIQbz",
      "include_colab_link": true
    },
    "kernelspec": {
      "name": "python3",
      "display_name": "Python 3"
    }
  },
  "cells": [
    {
      "cell_type": "markdown",
      "metadata": {
        "id": "view-in-github",
        "colab_type": "text"
      },
      "source": [
        "<a href=\"https://colab.research.google.com/github/yishairasowsky/Sefaria-Project/blob/master/ML/topic_classification.ipynb\" target=\"_parent\"><img src=\"https://colab.research.google.com/assets/colab-badge.svg\" alt=\"Open In Colab\"/></a>"
      ]
    },
    {
      "cell_type": "code",
      "metadata": {
        "id": "996XuOF9zQp3",
        "colab_type": "code",
        "colab": {}
      },
      "source": [
        "import numpy as np \n",
        "import pandas as pd"
      ],
      "execution_count": 0,
      "outputs": []
    },
    {
      "cell_type": "code",
      "metadata": {
        "id": "EeVin_I8olaf",
        "colab_type": "code",
        "colab": {
          "base_uri": "https://localhost:8080/",
          "height": 34
        },
        "outputId": "a892a4f3-a831-4e9f-caf6-40a08b774367"
      },
      "source": [
        "import shutil\n",
        "shutil.move(\"/moses-sources.csv\", \"/content/drive/My Drive/Colab Datasets/moses-sources.csv\")\n",
        "shutil.move(\"/abraham-sources.csv\", \"/content/drive/My Drive/Colab Datasets/abraham-sources.csv\")"
      ],
      "execution_count": 54,
      "outputs": [
        {
          "output_type": "execute_result",
          "data": {
            "text/plain": [
              "'/content/drive/My Drive/Colab Datasets/abraham-sources.csv'"
            ]
          },
          "metadata": {
            "tags": []
          },
          "execution_count": 54
        }
      ]
    },
    {
      "cell_type": "code",
      "metadata": {
        "id": "_GJq4lAIzY4K",
        "colab_type": "code",
        "colab": {}
      },
      "source": [
        "prayer_df = pd.read_csv('/content/drive/My Drive/Colab Datasets/prayer-sources.csv', \n",
        "                        encoding=\"latin-1\"\n",
        "                        # encoding=\"utf-8\"\n",
        "                        )\n",
        "\n",
        "prayer_df['topic'] = 'prayer'\n",
        "\n",
        "not_prayer_df = pd.read_csv('/content/drive/My Drive/Colab Datasets/not-prayer-sources.csv', \n",
        "# not_prayer_df = pd.read_csv('/content/not-prayer-sources-more.csv', \n",
        "                            encoding=\"latin-1\"\n",
        "                              # encoding=\"utf-8\"\n",
        "                            )\n",
        "not_prayer_df['topic'] = 'not_prayer'\n",
        "moses_df = pd.read_csv('/content/drive/My Drive/Colab Datasets/moses-sources.csv', \n",
        "# not_prayer_df = pd.read_csv('/content/not-prayer-sources-more.csv', \n",
        "                            encoding=\"latin-1\"\n",
        "                              # encoding=\"utf-8\"\n",
        "                            )\n",
        "moses_df['topic'] = 'moses'\n",
        "abraham_df = pd.read_csv('/content/drive/My Drive/Colab Datasets/abraham-sources.csv', \n",
        "# not_prayer_df = pd.read_csv('/content/not-prayer-sources-more.csv', \n",
        "                            encoding=\"latin-1\"\n",
        "                              # encoding=\"utf-8\"\n",
        "                            )\n",
        "abraham_df['topic'] = 'abraham'\n",
        "big_df = pd.concat([\n",
        "                    prayer_df,\n",
        "                    not_prayer_df,\n",
        "                    moses_df,\n",
        "                    abraham_df,\n",
        "                    ])\n",
        "# big_df = pd.read_csv('/content/drive/My Drive/Colab Datasets/yishai_data.csv',\n",
        "#                             # encoding=\"latin-1\"\n",
        "#                               encoding=\"utf-8\"\n",
        "# )"
      ],
      "execution_count": 0,
      "outputs": []
    },
    {
      "cell_type": "code",
      "metadata": {
        "id": "BccLtDu7qYNT",
        "colab_type": "code",
        "outputId": "b3891c18-78ac-4531-c0b7-493afd899e64",
        "colab": {
          "base_uri": "https://localhost:8080/",
          "height": 230
        }
      },
      "source": [
        "big_df.info()"
      ],
      "execution_count": 74,
      "outputs": [
        {
          "output_type": "stream",
          "text": [
            "<class 'pandas.core.frame.DataFrame'>\n",
            "Int64Index: 3485 entries, 0 to 646\n",
            "Data columns (total 5 columns):\n",
            " #   Column  Non-Null Count  Dtype \n",
            "---  ------  --------------  ----- \n",
            " 0   Ref     3485 non-null   object\n",
            " 1   En      2009 non-null   object\n",
            " 2   He      3475 non-null   object\n",
            " 3   topic   3485 non-null   object\n",
            " 4   Topics  1051 non-null   object\n",
            "dtypes: object(5)\n",
            "memory usage: 163.4+ KB\n"
          ],
          "name": "stdout"
        }
      ]
    },
    {
      "cell_type": "code",
      "metadata": {
        "id": "AlXqZX_oenT5",
        "colab_type": "code",
        "colab": {
          "base_uri": "https://localhost:8080/",
          "height": 265
        },
        "outputId": "59cd6ee6-74c3-46ad-a94c-79d278ba7de4"
      },
      "source": [
        "print(big_df.info)"
      ],
      "execution_count": 75,
      "outputs": [
        {
          "output_type": "stream",
          "text": [
            "<bound method DataFrame.info of                                                    Ref  ... Topics\n",
            "0                                    Berakhot 5b:25-26  ...    NaN\n",
            "1                                      Berakhot 6a:7-9  ...    NaN\n",
            "2                                      Berakhot 6b:2-9  ...    NaN\n",
            "3                                        Berakhot 7a:4  ...    NaN\n",
            "4                                      Berakhot 8a:1-7  ...    NaN\n",
            "..                                                 ...  ...    ...\n",
            "642                        Pirkei DeRabbi Eliezer 32:8  ...    NaN\n",
            "643  Mishneh Torah, Foreign Worship and Customs of ...  ...    NaN\n",
            "644  Mishneh Torah, Foreign Worship and Customs of ...  ...    NaN\n",
            "645              Mishneh Torah, Gifts to the Poor 10:1  ...    NaN\n",
            "646                       Mishneh Torah, Mourning 14:2  ...    NaN\n",
            "\n",
            "[3485 rows x 5 columns]>\n"
          ],
          "name": "stdout"
        }
      ]
    },
    {
      "cell_type": "code",
      "metadata": {
        "id": "8SCGaY-iDa1t",
        "colab_type": "code",
        "colab": {
          "base_uri": "https://localhost:8080/",
          "height": 34
        },
        "outputId": "d1019c15-701f-485a-be82-5e2cbd471ddf"
      },
      "source": [
        "big_df.shape"
      ],
      "execution_count": 76,
      "outputs": [
        {
          "output_type": "execute_result",
          "data": {
            "text/plain": [
              "(3485, 5)"
            ]
          },
          "metadata": {
            "tags": []
          },
          "execution_count": 76
        }
      ]
    },
    {
      "cell_type": "code",
      "metadata": {
        "id": "oW-U8Ok1Do8T",
        "colab_type": "code",
        "colab": {}
      },
      "source": [
        "# small_df = big_df[:1000]\n",
        "small_df = big_df"
      ],
      "execution_count": 0,
      "outputs": []
    },
    {
      "cell_type": "code",
      "metadata": {
        "id": "4lcgbbDfDN_p",
        "colab_type": "code",
        "colab": {
          "base_uri": "https://localhost:8080/",
          "height": 137
        },
        "outputId": "0b44643f-db49-4cf0-f554-80e36be51155"
      },
      "source": [
        "small_df.sample(3)"
      ],
      "execution_count": 78,
      "outputs": [
        {
          "output_type": "execute_result",
          "data": {
            "text/html": [
              "<div>\n",
              "<style scoped>\n",
              "    .dataframe tbody tr th:only-of-type {\n",
              "        vertical-align: middle;\n",
              "    }\n",
              "\n",
              "    .dataframe tbody tr th {\n",
              "        vertical-align: top;\n",
              "    }\n",
              "\n",
              "    .dataframe thead th {\n",
              "        text-align: right;\n",
              "    }\n",
              "</style>\n",
              "<table border=\"1\" class=\"dataframe\">\n",
              "  <thead>\n",
              "    <tr style=\"text-align: right;\">\n",
              "      <th></th>\n",
              "      <th>Ref</th>\n",
              "      <th>En</th>\n",
              "      <th>He</th>\n",
              "      <th>topic</th>\n",
              "      <th>Topics</th>\n",
              "    </tr>\n",
              "  </thead>\n",
              "  <tbody>\n",
              "    <tr>\n",
              "      <th>626</th>\n",
              "      <td>Exodus 9:7</td>\n",
              "      <td>And Pharaoh sent, and, behold, there was not s...</td>\n",
              "      <td>×Ö·×Ö¼Ö´×©×Ö°×Ö·Ö£× ×¤Ö¼Ö·×¨Ö°×¢Ö¹Ö× ×...</td>\n",
              "      <td>moses</td>\n",
              "      <td>NaN</td>\n",
              "    </tr>\n",
              "    <tr>\n",
              "      <th>37</th>\n",
              "      <td>Sukkah 49b:6</td>\n",
              "      <td>Â§ Apropos the homiletic interpretations of th...</td>\n",
              "      <td>××¨×© ×¨×× ××× ×××ª×× (×©××¨ ××©×...</td>\n",
              "      <td>abraham</td>\n",
              "      <td>NaN</td>\n",
              "    </tr>\n",
              "    <tr>\n",
              "      <th>296</th>\n",
              "      <td>Avodah Zarah 14b:6</td>\n",
              "      <td>Â§ The mishna teaches that Rabbi Meir says: It...</td>\n",
              "      <td>×¨\"× ××××¨ ××£ ××§× ×××': ×\"× ×¨×...</td>\n",
              "      <td>abraham</td>\n",
              "      <td>NaN</td>\n",
              "    </tr>\n",
              "  </tbody>\n",
              "</table>\n",
              "</div>"
            ],
            "text/plain": [
              "                    Ref  ... Topics\n",
              "626          Exodus 9:7  ...    NaN\n",
              "37         Sukkah 49b:6  ...    NaN\n",
              "296  Avodah Zarah 14b:6  ...    NaN\n",
              "\n",
              "[3 rows x 5 columns]"
            ]
          },
          "metadata": {
            "tags": []
          },
          "execution_count": 78
        }
      ]
    },
    {
      "cell_type": "code",
      "metadata": {
        "id": "86ap1xH17BAF",
        "colab_type": "code",
        "colab": {
          "base_uri": "https://localhost:8080/",
          "height": 137
        },
        "outputId": "7c794732-bd11-432c-fd77-b366c7a351f1"
      },
      "source": [
        "df = small_df[['En','topic']]\n",
        "df['topic'].str.split()\n",
        "df = df.join(df.pop('topic').str.get_dummies(' '))\n",
        "df.head(3)\n",
        "# df = small_df[['En','Topics']]\n",
        "# df['Topics'].str.split()\n",
        "# df = df.join(df.pop('Topics').str.get_dummies(' '))\n",
        "# df.head(3)"
      ],
      "execution_count": 79,
      "outputs": [
        {
          "output_type": "execute_result",
          "data": {
            "text/html": [
              "<div>\n",
              "<style scoped>\n",
              "    .dataframe tbody tr th:only-of-type {\n",
              "        vertical-align: middle;\n",
              "    }\n",
              "\n",
              "    .dataframe tbody tr th {\n",
              "        vertical-align: top;\n",
              "    }\n",
              "\n",
              "    .dataframe thead th {\n",
              "        text-align: right;\n",
              "    }\n",
              "</style>\n",
              "<table border=\"1\" class=\"dataframe\">\n",
              "  <thead>\n",
              "    <tr style=\"text-align: right;\">\n",
              "      <th></th>\n",
              "      <th>En</th>\n",
              "      <th>abraham</th>\n",
              "      <th>moses</th>\n",
              "      <th>not_prayer</th>\n",
              "      <th>prayer</th>\n",
              "    </tr>\n",
              "  </thead>\n",
              "  <tbody>\n",
              "    <tr>\n",
              "      <th>0</th>\n",
              "      <td>Another of Abba Binyaminâs statements with r...</td>\n",
              "      <td>0</td>\n",
              "      <td>0</td>\n",
              "      <td>0</td>\n",
              "      <td>1</td>\n",
              "    </tr>\n",
              "    <tr>\n",
              "      <th>0</th>\n",
              "      <td>Another of Abba Binyaminâs statements with r...</td>\n",
              "      <td>0</td>\n",
              "      <td>0</td>\n",
              "      <td>1</td>\n",
              "      <td>0</td>\n",
              "    </tr>\n",
              "    <tr>\n",
              "      <th>0</th>\n",
              "      <td>Another of Abba Binyaminâs statements with r...</td>\n",
              "      <td>0</td>\n",
              "      <td>1</td>\n",
              "      <td>0</td>\n",
              "      <td>0</td>\n",
              "    </tr>\n",
              "  </tbody>\n",
              "</table>\n",
              "</div>"
            ],
            "text/plain": [
              "                                                  En  ...  prayer\n",
              "0  Another of Abba Binyaminâs statements with r...  ...       1\n",
              "0  Another of Abba Binyaminâs statements with r...  ...       0\n",
              "0  Another of Abba Binyaminâs statements with r...  ...       0\n",
              "\n",
              "[3 rows x 5 columns]"
            ]
          },
          "metadata": {
            "tags": []
          },
          "execution_count": 79
        }
      ]
    },
    {
      "cell_type": "code",
      "metadata": {
        "id": "z-yz9Jr7Yr9f",
        "colab_type": "code",
        "colab": {
          "base_uri": "https://localhost:8080/",
          "height": 34
        },
        "outputId": "1abfe35f-af50-4a4b-e2d0-f5abf99859a6"
      },
      "source": [
        "df.columns"
      ],
      "execution_count": 80,
      "outputs": [
        {
          "output_type": "execute_result",
          "data": {
            "text/plain": [
              "Index(['En', 'abraham', 'moses', 'not_prayer', 'prayer'], dtype='object')"
            ]
          },
          "metadata": {
            "tags": []
          },
          "execution_count": 80
        }
      ]
    },
    {
      "cell_type": "code",
      "metadata": {
        "id": "9sCfpHTkHmBD",
        "colab_type": "code",
        "colab": {
          "base_uri": "https://localhost:8080/",
          "height": 105
        },
        "outputId": "8d8364c7-2542-4732-e480-3d05d2af77b0"
      },
      "source": [
        "\n",
        "# df['Topics'] = df['Topics'].astype(str)\n",
        "\n",
        "print(\"\\nNulls before dropping:\",df.isnull().sum()[0])\n",
        "df.dropna(inplace=True)\n",
        "print(\"Nulls after dropping:\",df.isnull().sum()[0])\n",
        "\n",
        "print(\"Before dropping duplicates\",df.shape)\n",
        "df.drop_duplicates(inplace=True)\n",
        "print(\"After dropping duplicates\",df.shape)\n",
        "\n",
        "df['En'] = df['En'].astype(str)\n",
        "\n",
        "# df = df.reset_index(drop=True)\n",
        "# all_prayer_df.sample(5)# null_filter = df[\"En\"] != \"\"\n",
        "# df = df[null_filter]"
      ],
      "execution_count": 81,
      "outputs": [
        {
          "output_type": "stream",
          "text": [
            "\n",
            "Nulls before dropping: 5380\n",
            "Nulls after dropping: 0\n",
            "Before dropping duplicates (7029, 5)\n",
            "After dropping duplicates (6853, 5)\n"
          ],
          "name": "stdout"
        }
      ]
    },
    {
      "cell_type": "code",
      "metadata": {
        "id": "xg0OiTjDK-FX",
        "colab_type": "code",
        "colab": {
          "base_uri": "https://localhost:8080/",
          "height": 197
        },
        "outputId": "34ce8eb9-0e68-4bac-a672-f00460dfeb63"
      },
      "source": [
        "# df[\"En\"].iloc[[67]]\n",
        "# df.iloc[[67]]\n",
        "del df['not_prayer']\n",
        "df.sample(5)"
      ],
      "execution_count": 94,
      "outputs": [
        {
          "output_type": "execute_result",
          "data": {
            "text/html": [
              "<div>\n",
              "<style scoped>\n",
              "    .dataframe tbody tr th:only-of-type {\n",
              "        vertical-align: middle;\n",
              "    }\n",
              "\n",
              "    .dataframe tbody tr th {\n",
              "        vertical-align: top;\n",
              "    }\n",
              "\n",
              "    .dataframe thead th {\n",
              "        text-align: right;\n",
              "    }\n",
              "</style>\n",
              "<table border=\"1\" class=\"dataframe\">\n",
              "  <thead>\n",
              "    <tr style=\"text-align: right;\">\n",
              "      <th></th>\n",
              "      <th>En</th>\n",
              "      <th>abraham</th>\n",
              "      <th>moses</th>\n",
              "      <th>prayer</th>\n",
              "    </tr>\n",
              "  </thead>\n",
              "  <tbody>\n",
              "    <tr>\n",
              "      <th>527</th>\n",
              "      <td>10) \"and writing that is engraved\": I might th...</td>\n",
              "      <td>0</td>\n",
              "      <td>1</td>\n",
              "      <td>0</td>\n",
              "    </tr>\n",
              "    <tr>\n",
              "      <th>885</th>\n",
              "      <td>Speak unto the children of Israel, and say unt...</td>\n",
              "      <td>0</td>\n",
              "      <td>0</td>\n",
              "      <td>1</td>\n",
              "    </tr>\n",
              "    <tr>\n",
              "      <th>148</th>\n",
              "      <td>The Gemara answers: He needed it due to the ru...</td>\n",
              "      <td>0</td>\n",
              "      <td>1</td>\n",
              "      <td>0</td>\n",
              "    </tr>\n",
              "    <tr>\n",
              "      <th>633</th>\n",
              "      <td>And they took their journey from Elim, and all...</td>\n",
              "      <td>0</td>\n",
              "      <td>0</td>\n",
              "      <td>1</td>\n",
              "    </tr>\n",
              "    <tr>\n",
              "      <th>5</th>\n",
              "      <td>8) \"These are the mitzvoth which the Lârd co...</td>\n",
              "      <td>0</td>\n",
              "      <td>1</td>\n",
              "      <td>0</td>\n",
              "    </tr>\n",
              "  </tbody>\n",
              "</table>\n",
              "</div>"
            ],
            "text/plain": [
              "                                                    En  abraham  moses  prayer\n",
              "527  10) \"and writing that is engraved\": I might th...        0      1       0\n",
              "885  Speak unto the children of Israel, and say unt...        0      0       1\n",
              "148  The Gemara answers: He needed it due to the ru...        0      1       0\n",
              "633  And they took their journey from Elim, and all...        0      0       1\n",
              "5    8) \"These are the mitzvoth which the Lârd co...        0      1       0"
            ]
          },
          "metadata": {
            "tags": []
          },
          "execution_count": 94
        }
      ]
    },
    {
      "cell_type": "code",
      "metadata": {
        "id": "10tWS9UrNw9y",
        "colab_type": "code",
        "colab": {}
      },
      "source": [
        "# topics = df.columns\n",
        "topics = list(df.columns)\n",
        "\n",
        "# topics[:5]\n",
        "\n",
        "# type(list(df.columns))\n",
        "# topics[:5]\n",
        "\n",
        "del topics[0]\n",
        "\n",
        "# topics = ['prayer','moses','torah','god','egypt']\n",
        "\n",
        "# topics[:10]\n",
        "# type(topics )\n"
      ],
      "execution_count": 0,
      "outputs": []
    },
    {
      "cell_type": "code",
      "metadata": {
        "id": "NML3JE1PY3o6",
        "colab_type": "code",
        "colab": {}
      },
      "source": [
        "hits = {topic:df[topic].sum() for topic in topics}\n",
        "# hits['parah-adumah']"
      ],
      "execution_count": 0,
      "outputs": []
    },
    {
      "cell_type": "code",
      "metadata": {
        "id": "GyKBk1b3bDiQ",
        "colab_type": "code",
        "colab": {
          "base_uri": "https://localhost:8080/",
          "height": 70
        },
        "outputId": "eb467075-7ba0-4f2e-feaf-2d5874545d13"
      },
      "source": [
        "from collections import Counter\n",
        "counter = Counter(hits)\n",
        "for topic, num in counter.most_common(10):\n",
        "     print( '%s: %i' % (topic, num))\n"
      ],
      "execution_count": 97,
      "outputs": [
        {
          "output_type": "stream",
          "text": [
            "prayer: 1953\n",
            "moses: 1549\n",
            "abraham: 1399\n"
          ],
          "name": "stdout"
        }
      ]
    },
    {
      "cell_type": "code",
      "metadata": {
        "id": "NUUgc2_Gb6YZ",
        "colab_type": "code",
        "colab": {}
      },
      "source": [
        ""
      ],
      "execution_count": 0,
      "outputs": []
    },
    {
      "cell_type": "code",
      "metadata": {
        "id": "PXp776AQb6Uq",
        "colab_type": "code",
        "colab": {}
      },
      "source": [
        ""
      ],
      "execution_count": 0,
      "outputs": []
    },
    {
      "cell_type": "code",
      "metadata": {
        "id": "vB7CgoeBb6Rj",
        "colab_type": "code",
        "colab": {}
      },
      "source": [
        ""
      ],
      "execution_count": 0,
      "outputs": []
    },
    {
      "cell_type": "code",
      "metadata": {
        "id": "puQb262bb6Oh",
        "colab_type": "code",
        "colab": {}
      },
      "source": [
        ""
      ],
      "execution_count": 0,
      "outputs": []
    },
    {
      "cell_type": "code",
      "metadata": {
        "id": "AHrhoVPFY_Hy",
        "colab_type": "code",
        "colab": {
          "base_uri": "https://localhost:8080/",
          "height": 535
        },
        "outputId": "ddf5b29d-f2e8-4a6c-d560-b90511af79d9"
      },
      "source": [
        "labels = df[topics]\n",
        "labels.head(3)\n",
        "\n",
        "import matplotlib as plt\n",
        "\n",
        "fig_size = plt.rcParams[\"figure.figsize\"]\n",
        "fig_size[0] = 10\n",
        "fig_size[1] = 8\n",
        "plt.rcParams[\"figure.figsize\"] = fig_size\n",
        "\n",
        "labels.sum(axis=0).plot.bar()\n",
        "\n",
        "# from sklearn.preprocessing import MultiLabelBinarizer\n",
        "# mlb = MultiLabelBinarizer()\n",
        "# mlb.fit(df['Topics'])\n",
        "# mlb.transform(df['Topics'])\n",
        "# df.head()\n"
      ],
      "execution_count": 98,
      "outputs": [
        {
          "output_type": "execute_result",
          "data": {
            "text/plain": [
              "<matplotlib.axes._subplots.AxesSubplot at 0x7fdd81fceef0>"
            ]
          },
          "metadata": {
            "tags": []
          },
          "execution_count": 98
        },
        {
          "output_type": "display_data",
          "data": {
            "image/png": "[encoded data removed]",
            "text/plain": [
              "<Figure size 720x576 with 1 Axes>"
            ]
          },
          "metadata": {
            "tags": [],
            "needs_background": "light"
          }
        }
      ]
    },
    {
      "cell_type": "code",
      "metadata": {
        "id": "yrNzCp9eXtMC",
        "colab_type": "code",
        "colab": {}
      },
      "source": [
        ""
      ],
      "execution_count": 0,
      "outputs": []
    },
    {
      "cell_type": "code",
      "metadata": {
        "id": "GjbSiZz4Xs_7",
        "colab_type": "code",
        "colab": {}
      },
      "source": [
        ""
      ],
      "execution_count": 0,
      "outputs": []
    },
    {
      "cell_type": "code",
      "metadata": {
        "id": "gVi1DEIaTks1",
        "colab_type": "code",
        "colab": {}
      },
      "source": [
        "def preprocess_text(sen):\n",
        "    # Remove punctuations and numbers\n",
        "    sentence = re.sub('[^a-zA-Z]', ' ', sen)\n",
        "\n",
        "    # Single character removal\n",
        "    sentence = re.sub(r\"\\s+[a-zA-Z]\\s+\", ' ', sentence)\n",
        "\n",
        "    # Removing multiple spaces\n",
        "    sentence = re.sub(r'\\s+', ' ', sentence)\n",
        "\n",
        "    return sentence"
      ],
      "execution_count": 0,
      "outputs": []
    },
    {
      "cell_type": "code",
      "metadata": {
        "id": "19qRJrLGTmMP",
        "colab_type": "code",
        "colab": {}
      },
      "source": [
        "import re\n",
        "\n",
        "X = []\n",
        "sentences = list(df[\"En\"])\n",
        "for sen in sentences:\n",
        "    X.append(preprocess_text(sen))\n",
        "\n",
        "y = labels.values"
      ],
      "execution_count": 0,
      "outputs": []
    },
    {
      "cell_type": "code",
      "metadata": {
        "id": "17myUEZlTyip",
        "colab_type": "code",
        "colab": {}
      },
      "source": [
        "from sklearn.model_selection import train_test_split\n",
        "\n",
        "X_train, X_test, y_train, y_test = train_test_split(X, y, test_size=0.20, random_state=42)\n"
      ],
      "execution_count": 0,
      "outputs": []
    },
    {
      "cell_type": "code",
      "metadata": {
        "id": "1_tG6dBdT5N8",
        "colab_type": "code",
        "colab": {}
      },
      "source": [
        "from keras.preprocessing.text import Tokenizer\n",
        "from keras.preprocessing.sequence import pad_sequences\n",
        "\n",
        "tokenizer = Tokenizer(num_words=5000)\n",
        "tokenizer.fit_on_texts(X_train)\n",
        "\n",
        "X_train = tokenizer.texts_to_sequences(X_train)\n",
        "X_test = tokenizer.texts_to_sequences(X_test)\n",
        "\n",
        "vocab_size = len(tokenizer.word_index) + 1\n",
        "\n",
        "maxlen = 200\n",
        "\n",
        "X_train = pad_sequences(X_train, padding='post', maxlen=maxlen)\n",
        "X_test = pad_sequences(X_test, padding='post', maxlen=maxlen)\n"
      ],
      "execution_count": 0,
      "outputs": []
    },
    {
      "cell_type": "code",
      "metadata": {
        "id": "pDeuXqW_s_40",
        "colab_type": "code",
        "colab": {
          "base_uri": "https://localhost:8080/",
          "height": 87
        },
        "outputId": "de747e37-93bc-44bd-826f-f8e5274039ab"
      },
      "source": [
        "for matrix_name, matrix in {\n",
        "    'X_train':X_train, \n",
        "    'y_train':y_train, \n",
        "    'X_test':X_test, \n",
        "    'y_test':y_test\n",
        "    }.items():\n",
        "      print(matrix_name, matrix.shape)"
      ],
      "execution_count": 106,
      "outputs": [
        {
          "output_type": "stream",
          "text": [
            "X_train (5482, 200)\n",
            "y_train (5482, 3)\n",
            "X_test (1371, 200)\n",
            "y_test (1371, 3)\n"
          ],
          "name": "stdout"
        }
      ]
    },
    {
      "cell_type": "code",
      "metadata": {
        "id": "OleLTTGxUb7-",
        "colab_type": "code",
        "colab": {}
      },
      "source": [
        "from numpy import array\n",
        "from numpy import asarray\n",
        "from numpy import zeros\n",
        "\n",
        "embeddings_dictionary = dict()\n",
        "\n",
        "glove_file = open('/content/drive/My Drive/Colab Datasets/glove.6B.100d.txt', encoding=\"utf8\")\n",
        "\n",
        "for line in glove_file:\n",
        "    records = line.split()\n",
        "    word = records[0]\n",
        "    vector_dimensions = asarray(records[1:], dtype='float32')\n",
        "    embeddings_dictionary[word] = vector_dimensions\n",
        "glove_file.close()\n",
        "\n",
        "embedding_matrix = zeros((vocab_size, 100))\n",
        "for word, index in tokenizer.word_index.items():\n",
        "    embedding_vector = embeddings_dictionary.get(word)\n",
        "    if embedding_vector is not None:\n",
        "        embedding_matrix[index] = embedding_vector\n"
      ],
      "execution_count": 0,
      "outputs": []
    },
    {
      "cell_type": "code",
      "metadata": {
        "id": "l-wI54f4uLEB",
        "colab_type": "code",
        "colab": {}
      },
      "source": [
        "from keras.layers import Input\n",
        "from keras.layers.embeddings import Embedding\n",
        "from keras.layers import Flatten, LSTM\n",
        "from keras.layers.core import Activation, Dropout, Dense\n",
        "from keras.models import Model\n",
        "\n",
        "deep_inputs = Input(shape=(maxlen,))\n",
        "embedding_layer = Embedding(vocab_size, 100, weights=[embedding_matrix], trainable=False)(deep_inputs)\n",
        "LSTM_Layer_1 = LSTM(128)(embedding_layer)\n",
        "dense_layer_1 = Dense(3, activation='sigmoid')(LSTM_Layer_1)\n",
        "model = Model(inputs=deep_inputs, outputs=dense_layer_1)\n",
        "\n",
        "model.compile(loss='binary_crossentropy', optimizer='adam', metrics=['acc'])"
      ],
      "execution_count": 0,
      "outputs": []
    },
    {
      "cell_type": "code",
      "metadata": {
        "id": "5TUj3roqvIY7",
        "colab_type": "code",
        "colab": {
          "base_uri": "https://localhost:8080/",
          "height": 318
        },
        "outputId": "219123f2-b948-407c-cab5-bafb75c8979c"
      },
      "source": [
        "print(model.summary())\n"
      ],
      "execution_count": 118,
      "outputs": [
        {
          "output_type": "stream",
          "text": [
            "Model: \"model_2\"\n",
            "_________________________________________________________________\n",
            "Layer (type)                 Output Shape              Param #   \n",
            "=================================================================\n",
            "input_6 (InputLayer)         (None, 200)               0         \n",
            "_________________________________________________________________\n",
            "embedding_5 (Embedding)      (None, 200, 100)          1379700   \n",
            "_________________________________________________________________\n",
            "lstm_4 (LSTM)                (None, 128)               117248    \n",
            "_________________________________________________________________\n",
            "dense_3 (Dense)              (None, 3)                 387       \n",
            "=================================================================\n",
            "Total params: 1,497,335\n",
            "Trainable params: 117,635\n",
            "Non-trainable params: 1,379,700\n",
            "_________________________________________________________________\n",
            "None\n"
          ],
          "name": "stdout"
        }
      ]
    },
    {
      "cell_type": "code",
      "metadata": {
        "id": "KLAeAQnAvM2x",
        "colab_type": "code",
        "colab": {
          "base_uri": "https://localhost:8080/",
          "height": 422
        },
        "outputId": "ae501c3c-f22d-4afe-b60e-397cba4686f2"
      },
      "source": [
        "from keras.utils import plot_model\n",
        "plot_model(model, to_file='model_plot4a.png', show_shapes=True, show_layer_names=True)\n"
      ],
      "execution_count": 119,
      "outputs": [
        {
          "output_type": "execute_result",
          "data": {
            "image/png": "[encoded data removed]",
            "text/plain": [
              "<IPython.core.display.Image object>"
            ]
          },
          "metadata": {
            "tags": []
          },
          "execution_count": 119
        }
      ]
    },
    {
      "cell_type": "code",
      "metadata": {
        "id": "Pt-tfBFavRTR",
        "colab_type": "code",
        "colab": {
          "base_uri": "https://localhost:8080/",
          "height": 212
        },
        "outputId": "4e8536cd-1599-4778-d53a-aeafab90c6cd"
      },
      "source": [
        "history = model.fit(X_train, y_train, batch_size=128, epochs=5, verbose=1, validation_split=0.2)\n"
      ],
      "execution_count": 120,
      "outputs": [
        {
          "output_type": "stream",
          "text": [
            "Train on 4385 samples, validate on 1097 samples\n",
            "Epoch 1/5\n",
            "4385/4385 [==============================] - 30s 7ms/step - loss: 0.5901 - acc: 0.7565 - val_loss: 0.5525 - val_acc: 0.7575\n",
            "Epoch 2/5\n",
            "4385/4385 [==============================] - 29s 7ms/step - loss: 0.5467 - acc: 0.7624 - val_loss: 0.5539 - val_acc: 0.7575\n",
            "Epoch 3/5\n",
            "4385/4385 [==============================] - 29s 7ms/step - loss: 0.5462 - acc: 0.7624 - val_loss: 0.5526 - val_acc: 0.7575\n",
            "Epoch 4/5\n",
            "4385/4385 [==============================] - 29s 7ms/step - loss: 0.5461 - acc: 0.7624 - val_loss: 0.5547 - val_acc: 0.7575\n",
            "Epoch 5/5\n",
            "4385/4385 [==============================] - 30s 7ms/step - loss: 0.5454 - acc: 0.7624 - val_loss: 0.5545 - val_acc: 0.7575\n"
          ],
          "name": "stdout"
        }
      ]
    },
    {
      "cell_type": "code",
      "metadata": {
        "id": "tuZFIJPgvR6q",
        "colab_type": "code",
        "colab": {}
      },
      "source": [
        ""
      ],
      "execution_count": 0,
      "outputs": []
    },
    {
      "cell_type": "code",
      "metadata": {
        "id": "kT8pct66vR25",
        "colab_type": "code",
        "colab": {}
      },
      "source": [
        ""
      ],
      "execution_count": 0,
      "outputs": []
    },
    {
      "cell_type": "code",
      "metadata": {
        "id": "wObPklyRvRzT",
        "colab_type": "code",
        "colab": {}
      },
      "source": [
        ""
      ],
      "execution_count": 0,
      "outputs": []
    },
    {
      "cell_type": "code",
      "metadata": {
        "id": "Mo2GWRDlvRMT",
        "colab_type": "code",
        "colab": {}
      },
      "source": [
        ""
      ],
      "execution_count": 0,
      "outputs": []
    },
    {
      "cell_type": "code",
      "metadata": {
        "id": "AZD4yqQuakdQ",
        "colab_type": "code",
        "colab": {}
      },
      "source": [
        "# prayer_df.sample(3)"
      ],
      "execution_count": 0,
      "outputs": []
    },
    {
      "cell_type": "code",
      "metadata": {
        "id": "fODCiUmOzeOo",
        "colab_type": "code",
        "colab": {}
      },
      "source": [
        "# prayer_df['is_prayer'] = 'yes'\n",
        "# prayer_df = prayer_df[['En','is_prayer']]\n",
        "\n",
        "# prayer_df.tail(3)"
      ],
      "execution_count": 0,
      "outputs": []
    },
    {
      "cell_type": "code",
      "metadata": {
        "id": "ajQQYcXAbCPy",
        "colab_type": "code",
        "colab": {}
      },
      "source": [
        "# not_prayer_df.sample(3)"
      ],
      "execution_count": 0,
      "outputs": []
    },
    {
      "cell_type": "code",
      "metadata": {
        "id": "K0hGDwWFD5qC",
        "colab_type": "code",
        "colab": {}
      },
      "source": [
        "# not_prayer_df['is_prayer'] = 'no'\n",
        "# not_prayer_df = not_prayer_df[['En','is_prayer']]\n",
        "# not_prayer_df.sample(3)"
      ],
      "execution_count": 0,
      "outputs": []
    },
    {
      "cell_type": "code",
      "metadata": {
        "id": "CvkzcPuJJCnC",
        "colab_type": "code",
        "outputId": "51a343ee-9ea8-4174-db71-de67f9b7b484",
        "colab": {
          "base_uri": "https://localhost:8080/",
          "height": 204
        }
      },
      "source": [
        "# all_prayer_frames = [prayer_df, not_prayer_df]\n",
        "# all_prayer_df = pd.concat(all_prayer_frames)\n",
        "# all_prayer_df.reset_index(inplace=True)\n",
        "# all_prayer_df=all_prayer_df.rename(columns = {'En':'english_text'})\n",
        "\n",
        "\n",
        "# # all_prayer_df.style.set_properties({'align': 'right'})\n",
        "\n",
        "# # all_prayer_df.tail(3)\n",
        "# all_prayer_df.sample(5)\n",
        "big_df.sample(5)\n",
        "# # all_prayer_df.loc[[345]]"
      ],
      "execution_count": 0,
      "outputs": [
        {
          "output_type": "execute_result",
          "data": {
            "text/html": [
              "<div>\n",
              "<style scoped>\n",
              "    .dataframe tbody tr th:only-of-type {\n",
              "        vertical-align: middle;\n",
              "    }\n",
              "\n",
              "    .dataframe tbody tr th {\n",
              "        vertical-align: top;\n",
              "    }\n",
              "\n",
              "    .dataframe thead th {\n",
              "        text-align: right;\n",
              "    }\n",
              "</style>\n",
              "<table border=\"1\" class=\"dataframe\">\n",
              "  <thead>\n",
              "    <tr style=\"text-align: right;\">\n",
              "      <th></th>\n",
              "      <th>index</th>\n",
              "      <th>english_text</th>\n",
              "      <th>is_prayer</th>\n",
              "    </tr>\n",
              "  </thead>\n",
              "  <tbody>\n",
              "    <tr>\n",
              "      <th>273</th>\n",
              "      <td>273</td>\n",
              "      <td>'××ª×§×¨× ×©× ×, the meaning of the words ...</td>\n",
              "      <td>yes</td>\n",
              "    </tr>\n",
              "    <tr>\n",
              "      <th>83</th>\n",
              "      <td>83</td>\n",
              "      <td>And Moses and Aaron went out from Pharaoh; and...</td>\n",
              "      <td>yes</td>\n",
              "    </tr>\n",
              "    <tr>\n",
              "      <th>1376</th>\n",
              "      <td>324</td>\n",
              "      <td>And furthermore, if it should enter your mind ...</td>\n",
              "      <td>no</td>\n",
              "    </tr>\n",
              "    <tr>\n",
              "      <th>343</th>\n",
              "      <td>343</td>\n",
              "      <td>The Gemara relates another incident involving ...</td>\n",
              "      <td>yes</td>\n",
              "    </tr>\n",
              "    <tr>\n",
              "      <th>569</th>\n",
              "      <td>569</td>\n",
              "      <td>NaN</td>\n",
              "      <td>yes</td>\n",
              "    </tr>\n",
              "  </tbody>\n",
              "</table>\n",
              "</div>"
            ],
            "text/plain": [
              "      index                                       english_text is_prayer\n",
              "273     273  '××ª×§×¨× ×©× ×, the meaning of the words ...       yes\n",
              "83       83  And Moses and Aaron went out from Pharaoh; and...       yes\n",
              "1376    324  And furthermore, if it should enter your mind ...        no\n",
              "343     343  The Gemara relates another incident involving ...       yes\n",
              "569     569                                                NaN       yes"
            ]
          },
          "metadata": {
            "tags": []
          },
          "execution_count": 12
        }
      ]
    },
    {
      "cell_type": "code",
      "metadata": {
        "id": "gJt5XbHpDDdT",
        "colab_type": "code",
        "outputId": "1305b35e-1b0e-4c25-ce85-21600ce0276f",
        "colab": {
          "base_uri": "https://localhost:8080/",
          "height": 142
        }
      },
      "source": [
        "del all_prayer_df['index']\n",
        "\n",
        "all_prayer_df.sample(3)"
      ],
      "execution_count": 0,
      "outputs": [
        {
          "output_type": "execute_result",
          "data": {
            "text/html": [
              "<div>\n",
              "<style scoped>\n",
              "    .dataframe tbody tr th:only-of-type {\n",
              "        vertical-align: middle;\n",
              "    }\n",
              "\n",
              "    .dataframe tbody tr th {\n",
              "        vertical-align: top;\n",
              "    }\n",
              "\n",
              "    .dataframe thead th {\n",
              "        text-align: right;\n",
              "    }\n",
              "</style>\n",
              "<table border=\"1\" class=\"dataframe\">\n",
              "  <thead>\n",
              "    <tr style=\"text-align: right;\">\n",
              "      <th></th>\n",
              "      <th>english_text</th>\n",
              "      <th>is_prayer</th>\n",
              "    </tr>\n",
              "  </thead>\n",
              "  <tbody>\n",
              "    <tr>\n",
              "      <th>1980</th>\n",
              "      <td>NaN</td>\n",
              "      <td>no</td>\n",
              "    </tr>\n",
              "    <tr>\n",
              "      <th>217</th>\n",
              "      <td>NaN</td>\n",
              "      <td>yes</td>\n",
              "    </tr>\n",
              "    <tr>\n",
              "      <th>1342</th>\n",
              "      <td>MISHNA: All foods that became ritually impure ...</td>\n",
              "      <td>no</td>\n",
              "    </tr>\n",
              "  </tbody>\n",
              "</table>\n",
              "</div>"
            ],
            "text/plain": [
              "                                           english_text is_prayer\n",
              "1980                                                NaN        no\n",
              "217                                                 NaN       yes\n",
              "1342  MISHNA: All foods that became ritually impure ...        no"
            ]
          },
          "metadata": {
            "tags": []
          },
          "execution_count": 13
        }
      ]
    },
    {
      "cell_type": "code",
      "metadata": {
        "id": "ZJihXdQuJy7p",
        "colab_type": "code",
        "outputId": "1aea3398-0268-46ee-91d4-6c0786ada7f9",
        "colab": {
          "base_uri": "https://localhost:8080/",
          "height": 102
        }
      },
      "source": [
        "print(\"Before dropping duplicates\",all_prayer_df.shape)\n",
        "all_prayer_df.drop_duplicates(inplace=True)\n",
        "print(\"After dropping duplicates\",all_prayer_df.shape)\n",
        "\n",
        "print(\"\\nNulls before dropping:\",all_prayer_df.isnull().sum()[0])\n",
        "all_prayer_df.dropna(inplace=True)\n",
        "print(\"Nulls after dropping:\",all_prayer_df.isnull().sum()[0])\n",
        "\n",
        "# all_prayer_df.isnull().sum()\n",
        "# all_prayer_df.sample(5)"
      ],
      "execution_count": 0,
      "outputs": [
        {
          "output_type": "stream",
          "text": [
            "Before dropping duplicates (2103, 2)\n",
            "After dropping duplicates (1223, 2)\n",
            "\n",
            "Nulls before dropping: 2\n",
            "Nulls after dropping: 0\n"
          ],
          "name": "stdout"
        }
      ]
    },
    {
      "cell_type": "code",
      "metadata": {
        "colab_type": "code",
        "outputId": "1fdf337c-1dc5-4b5d-8aee-7e288af7d288",
        "id": "bOYMROhKILvq",
        "colab": {
          "base_uri": "https://localhost:8080/",
          "height": 34
        }
      },
      "source": [
        "shape = all_prayer_df.shape\n",
        "print(f\"{shape[0]} rows and {shape[1]} columns\")"
      ],
      "execution_count": 0,
      "outputs": [
        {
          "output_type": "stream",
          "text": [
            "1221 rows and 2 columns\n"
          ],
          "name": "stdout"
        }
      ]
    },
    {
      "cell_type": "code",
      "metadata": {
        "id": "FTVM9f5lKkBp",
        "colab_type": "code",
        "outputId": "2de29612-6424-4aa3-f299-f0b4d56c287f",
        "colab": {
          "base_uri": "https://localhost:8080/",
          "height": 204
        }
      },
      "source": [
        "all_prayer_df['is_prayer'] = all_prayer_df['is_prayer'].map({'no': 0, 'yes': 1})\n",
        "all_prayer_df.sample(5)"
      ],
      "execution_count": 0,
      "outputs": [
        {
          "output_type": "execute_result",
          "data": {
            "text/html": [
              "<div>\n",
              "<style scoped>\n",
              "    .dataframe tbody tr th:only-of-type {\n",
              "        vertical-align: middle;\n",
              "    }\n",
              "\n",
              "    .dataframe tbody tr th {\n",
              "        vertical-align: top;\n",
              "    }\n",
              "\n",
              "    .dataframe thead th {\n",
              "        text-align: right;\n",
              "    }\n",
              "</style>\n",
              "<table border=\"1\" class=\"dataframe\">\n",
              "  <thead>\n",
              "    <tr style=\"text-align: right;\">\n",
              "      <th></th>\n",
              "      <th>english_text</th>\n",
              "      <th>is_prayer</th>\n",
              "    </tr>\n",
              "  </thead>\n",
              "  <tbody>\n",
              "    <tr>\n",
              "      <th>1340</th>\n",
              "      <td>The Jewish neighbors came and spoke to Abaye, ...</td>\n",
              "      <td>0</td>\n",
              "    </tr>\n",
              "    <tr>\n",
              "      <th>996</th>\n",
              "      <td>The Gemara asks: Is that to say that one who r...</td>\n",
              "      <td>1</td>\n",
              "    </tr>\n",
              "    <tr>\n",
              "      <th>281</th>\n",
              "      <td>And furthermore, Rabbi Yosei said: May my port...</td>\n",
              "      <td>1</td>\n",
              "    </tr>\n",
              "    <tr>\n",
              "      <th>1638</th>\n",
              "      <td>When Jehoiakim came along and reigned, he said...</td>\n",
              "      <td>0</td>\n",
              "    </tr>\n",
              "    <tr>\n",
              "      <th>15</th>\n",
              "      <td>On the topic of prayers recited while travelin...</td>\n",
              "      <td>1</td>\n",
              "    </tr>\n",
              "  </tbody>\n",
              "</table>\n",
              "</div>"
            ],
            "text/plain": [
              "                                           english_text  is_prayer\n",
              "1340  The Jewish neighbors came and spoke to Abaye, ...          0\n",
              "996   The Gemara asks: Is that to say that one who r...          1\n",
              "281   And furthermore, Rabbi Yosei said: May my port...          1\n",
              "1638  When Jehoiakim came along and reigned, he said...          0\n",
              "15    On the topic of prayers recited while travelin...          1"
            ]
          },
          "metadata": {
            "tags": []
          },
          "execution_count": 16
        }
      ]
    },
    {
      "cell_type": "code",
      "metadata": {
        "id": "VfdJsX-DGx-j",
        "colab_type": "code",
        "outputId": "cb4d471b-5fdc-485a-bb67-fe29a90ea795",
        "colab": {
          "base_uri": "https://localhost:8080/",
          "height": 51
        }
      },
      "source": [
        "print('Prayer:', (all_prayer_df.is_prayer.values == 1).sum())\n",
        "print('Not prayer:', (all_prayer_df.is_prayer.values == 0).sum())"
      ],
      "execution_count": 0,
      "outputs": [
        {
          "output_type": "stream",
          "text": [
            "Prayer: 553\n",
            "Not prayer: 668\n"
          ],
          "name": "stdout"
        }
      ]
    },
    {
      "cell_type": "code",
      "metadata": {
        "id": "t0eM00ODKkF9",
        "colab_type": "code",
        "outputId": "593b91b2-2c17-481d-eb73-d67fe5a5bc5e",
        "colab": {
          "base_uri": "https://localhost:8080/",
          "height": 51
        }
      },
      "source": [
        "import re\n",
        "import nltk\n",
        "import string\n",
        "nltk.download('stopwords')\n",
        "from nltk.corpus import stopwords\n",
        "\n",
        "REPLACE_BY_SPACE_RE = re.compile('[/(){}\\[\\]\\|@,;]')\n",
        "\n",
        "# BAD_SYMBOLS_RE = re.compile('[^a-z #+_]')\n",
        "BAD_SYMBOLS_RE = re.compile('[^0-9a-z #+_]')\n",
        "\n",
        "# BAD_SYMBOLS_RE = re.compile('[^0-9a-z #+_ \\b\\d+\\b]')\n",
        "STOPWORDS = set(stopwords.words('english'))\n",
        "\n",
        "def process_text(text):\n",
        "    #  text = BeautifulSoup(text, \"lxml\").text # HTML decoding\n",
        "    text = text.lower() # lowercase text\n",
        "    text = REPLACE_BY_SPACE_RE.sub(' ', text) # replace REPLACE_BY_SPACE_RE symbols by space in text\n",
        "    text = BAD_SYMBOLS_RE.sub('', text) # delete symbols which are in BAD_SYMBOLS_RE from text\n",
        "    text = ' '.join(word for word in text.split() if word not in STOPWORDS) # delete stopwors from text\n",
        "    return text\n",
        "\n",
        "from nltk.stem.snowball import SnowballStemmer\n",
        "\n",
        "stemmer = SnowballStemmer(\"english\")\n",
        "\n",
        "def stemming(sentence):\n",
        "    stemSentence = \"\"\n",
        "    for word in sentence.split():\n",
        "        stem = stemmer.stem(word)\n",
        "        stemSentence += stem\n",
        "        stemSentence += \" \"\n",
        "    stemSentence = stemSentence.strip()\n",
        "    return stemSentence\n",
        "\n",
        "# whitelist = set('abcdefghijklmnopqrstuvwxyz ZXCVBNMASDFGHJKLQWERTYUIOP')\n",
        "# genres['movie_id'] = genres['movie_id'].astype(str)\n",
        "\n",
        "# def process_text(text):\n",
        "#     '''\n",
        "#     1. Keep only letters and spaces\n",
        "#     2. Remove stopwords\n",
        "#     3. Return str of clean text words\n",
        "#     '''\n",
        "#     #1\n",
        "#     chars_str = ''.join(filter(whitelist.__contains__, text))\n",
        "#     #2\n",
        "#     clean_words = [word.lower() for word in chars_str.split() if word.lower() not in stopwords.words('english')]\n",
        "#     #3\n",
        "#     return ' '.join(clean_words)"
      ],
      "execution_count": 0,
      "outputs": [
        {
          "output_type": "stream",
          "text": [
            "[nltk_data] Downloading package stopwords to /root/nltk_data...\n",
            "[nltk_data]   Unzipping corpora/stopwords.zip.\n"
          ],
          "name": "stdout"
        }
      ]
    },
    {
      "cell_type": "code",
      "metadata": {
        "id": "CNQY4EBzKkOj",
        "colab_type": "code",
        "outputId": "f56f801e-95cf-4920-c855-8c83960dd9a0",
        "colab": {
          "base_uri": "https://localhost:8080/",
          "height": 34
        }
      },
      "source": [
        "sample_text = '''aBC.!@#$%^&    c*(בחתו ‎‎‎ או‎ בקרחתו — une...\n",
        "233 the gns: ac ...\n",
        "1041    7. a pien p'''\n",
        "process_text(sample_text)"
      ],
      "execution_count": 0,
      "outputs": [
        {
          "output_type": "execute_result",
          "data": {
            "text/plain": [
              "'abc # c une233 gns ac 1041 7 pien p'"
            ]
          },
          "metadata": {
            "tags": []
          },
          "execution_count": 19
        }
      ]
    },
    {
      "cell_type": "code",
      "metadata": {
        "id": "Pj0D-XrRKkSk",
        "colab_type": "code",
        "outputId": "9c6fabf9-bfa6-40ff-c507-2d3cf5d761a4",
        "colab": {
          "base_uri": "https://localhost:8080/",
          "height": 204
        }
      },
      "source": [
        "all_prayer_df.sample(5)"
      ],
      "execution_count": 0,
      "outputs": [
        {
          "output_type": "execute_result",
          "data": {
            "text/html": [
              "<div>\n",
              "<style scoped>\n",
              "    .dataframe tbody tr th:only-of-type {\n",
              "        vertical-align: middle;\n",
              "    }\n",
              "\n",
              "    .dataframe tbody tr th {\n",
              "        vertical-align: top;\n",
              "    }\n",
              "\n",
              "    .dataframe thead th {\n",
              "        text-align: right;\n",
              "    }\n",
              "</style>\n",
              "<table border=\"1\" class=\"dataframe\">\n",
              "  <thead>\n",
              "    <tr style=\"text-align: right;\">\n",
              "      <th></th>\n",
              "      <th>english_text</th>\n",
              "      <th>is_prayer</th>\n",
              "    </tr>\n",
              "  </thead>\n",
              "  <tbody>\n",
              "    <tr>\n",
              "      <th>1730</th>\n",
              "      <td>××¢×©××ª ××¨ ××× ×××¡××¨×ª× AND THOU...</td>\n",
              "      <td>0</td>\n",
              "    </tr>\n",
              "    <tr>\n",
              "      <th>528</th>\n",
              "      <td>JOY: The second [branch of love of G-d] is joy...</td>\n",
              "      <td>1</td>\n",
              "    </tr>\n",
              "    <tr>\n",
              "      <th>1465</th>\n",
              "      <td>(1) Sins between man and G-d only. For example...</td>\n",
              "      <td>0</td>\n",
              "    </tr>\n",
              "    <tr>\n",
              "      <th>1066</th>\n",
              "      <td>But if its name must be á¸¥agav , one might ha...</td>\n",
              "      <td>0</td>\n",
              "    </tr>\n",
              "    <tr>\n",
              "      <th>1375</th>\n",
              "      <td>And the women said unto Naomi: âBlessed be t...</td>\n",
              "      <td>0</td>\n",
              "    </tr>\n",
              "  </tbody>\n",
              "</table>\n",
              "</div>"
            ],
            "text/plain": [
              "                                           english_text  is_prayer\n",
              "1730  ××¢×©××ª ××¨ ××× ×××¡××¨×ª× AND THOU...          0\n",
              "528   JOY: The second [branch of love of G-d] is joy...          1\n",
              "1465  (1) Sins between man and G-d only. For example...          0\n",
              "1066  But if its name must be á¸¥agav , one might ha...          0\n",
              "1375  And the women said unto Naomi: âBlessed be t...          0"
            ]
          },
          "metadata": {
            "tags": []
          },
          "execution_count": 20
        }
      ]
    },
    {
      "cell_type": "code",
      "metadata": {
        "id": "10Z1Naa5GLN5",
        "colab_type": "code",
        "outputId": "a872a5a6-e77c-4fc9-ee49-a183576f0583",
        "colab": {
          "base_uri": "https://localhost:8080/",
          "height": 204
        }
      },
      "source": [
        "processed_df = all_prayer_df\n",
        "processed_df['english_text'] = processed_df['english_text'].apply(process_text)\n",
        "processed_df.head(5)"
      ],
      "execution_count": 0,
      "outputs": [
        {
          "output_type": "execute_result",
          "data": {
            "text/html": [
              "<div>\n",
              "<style scoped>\n",
              "    .dataframe tbody tr th:only-of-type {\n",
              "        vertical-align: middle;\n",
              "    }\n",
              "\n",
              "    .dataframe tbody tr th {\n",
              "        vertical-align: top;\n",
              "    }\n",
              "\n",
              "    .dataframe thead th {\n",
              "        text-align: right;\n",
              "    }\n",
              "</style>\n",
              "<table border=\"1\" class=\"dataframe\">\n",
              "  <thead>\n",
              "    <tr style=\"text-align: right;\">\n",
              "      <th></th>\n",
              "      <th>english_text</th>\n",
              "      <th>is_prayer</th>\n",
              "    </tr>\n",
              "  </thead>\n",
              "  <tbody>\n",
              "    <tr>\n",
              "      <th>0</th>\n",
              "      <td>another abba binyamins statements regard laws ...</td>\n",
              "      <td>1</td>\n",
              "    </tr>\n",
              "    <tr>\n",
              "      <th>1</th>\n",
              "      <td>taught baraita abba binyamin said ones prayer ...</td>\n",
              "      <td>1</td>\n",
              "    </tr>\n",
              "    <tr>\n",
              "      <th>2</th>\n",
              "      <td>additionally ravin bar rav adda said rabbi yit...</td>\n",
              "      <td>1</td>\n",
              "    </tr>\n",
              "    <tr>\n",
              "      <th>3</th>\n",
              "      <td>similarly taught baraita rabbi yishmael ben el...</td>\n",
              "      <td>1</td>\n",
              "    </tr>\n",
              "    <tr>\n",
              "      <th>4</th>\n",
              "      <td>meaning written let prayer unto lord time favo...</td>\n",
              "      <td>1</td>\n",
              "    </tr>\n",
              "  </tbody>\n",
              "</table>\n",
              "</div>"
            ],
            "text/plain": [
              "                                        english_text  is_prayer\n",
              "0  another abba binyamins statements regard laws ...          1\n",
              "1  taught baraita abba binyamin said ones prayer ...          1\n",
              "2  additionally ravin bar rav adda said rabbi yit...          1\n",
              "3  similarly taught baraita rabbi yishmael ben el...          1\n",
              "4  meaning written let prayer unto lord time favo...          1"
            ]
          },
          "metadata": {
            "tags": []
          },
          "execution_count": 21
        }
      ]
    },
    {
      "cell_type": "code",
      "metadata": {
        "id": "9Oj4-qeRGGXm",
        "colab_type": "code",
        "outputId": "291230f7-3c83-4ae3-e5df-864b1bfccddc",
        "colab": {
          "base_uri": "https://localhost:8080/",
          "height": 204
        }
      },
      "source": [
        "# all_prayer_df['En'] = all_prayer_df['En'].apply(stemming)\n",
        "# all_prayer_df.head()\n",
        "stemmed_df = processed_df\n",
        "stemmed_df['english_text'] = stemmed_df['english_text'].apply(stemming)\n",
        "stemmed_df.head()"
      ],
      "execution_count": 0,
      "outputs": [
        {
          "output_type": "execute_result",
          "data": {
            "text/html": [
              "<div>\n",
              "<style scoped>\n",
              "    .dataframe tbody tr th:only-of-type {\n",
              "        vertical-align: middle;\n",
              "    }\n",
              "\n",
              "    .dataframe tbody tr th {\n",
              "        vertical-align: top;\n",
              "    }\n",
              "\n",
              "    .dataframe thead th {\n",
              "        text-align: right;\n",
              "    }\n",
              "</style>\n",
              "<table border=\"1\" class=\"dataframe\">\n",
              "  <thead>\n",
              "    <tr style=\"text-align: right;\">\n",
              "      <th></th>\n",
              "      <th>english_text</th>\n",
              "      <th>is_prayer</th>\n",
              "    </tr>\n",
              "  </thead>\n",
              "  <tbody>\n",
              "    <tr>\n",
              "      <th>0</th>\n",
              "      <td>anoth abba binyamin statement regard law praye...</td>\n",
              "      <td>1</td>\n",
              "    </tr>\n",
              "    <tr>\n",
              "      <th>1</th>\n",
              "      <td>taught baraita abba binyamin said one prayer f...</td>\n",
              "      <td>1</td>\n",
              "    </tr>\n",
              "    <tr>\n",
              "      <th>2</th>\n",
              "      <td>addit ravin bar rav adda said rabbi yitzak sai...</td>\n",
              "      <td>1</td>\n",
              "    </tr>\n",
              "    <tr>\n",
              "      <th>3</th>\n",
              "      <td>similar taught baraita rabbi yishmael ben elis...</td>\n",
              "      <td>1</td>\n",
              "    </tr>\n",
              "    <tr>\n",
              "      <th>4</th>\n",
              "      <td>mean written let prayer unto lord time favor g...</td>\n",
              "      <td>1</td>\n",
              "    </tr>\n",
              "  </tbody>\n",
              "</table>\n",
              "</div>"
            ],
            "text/plain": [
              "                                        english_text  is_prayer\n",
              "0  anoth abba binyamin statement regard law praye...          1\n",
              "1  taught baraita abba binyamin said one prayer f...          1\n",
              "2  addit ravin bar rav adda said rabbi yitzak sai...          1\n",
              "3  similar taught baraita rabbi yishmael ben elis...          1\n",
              "4  mean written let prayer unto lord time favor g...          1"
            ]
          },
          "metadata": {
            "tags": []
          },
          "execution_count": 22
        }
      ]
    },
    {
      "cell_type": "code",
      "metadata": {
        "id": "CCdshXlYKka3",
        "colab_type": "code",
        "colab": {}
      },
      "source": [
        "# from wordcloud import WordCloud\n",
        "# import matplotlib.pyplot as plt\n",
        "\n",
        "# prayer_words = ' '.join(list(all_prayer_df[stemmed_df['is_prayer'] == 1]['En']))\n",
        "# prayer_wc = WordCloud(width = 512,height = 512).generate(prayer_words)\n",
        "# plt.figure(figsize = (10, 8), facecolor = 'k')\n",
        "# plt.imshow(prayer_wc)\n",
        "# plt.axis('off')\n",
        "# plt.tight_layout(pad = 0)\n",
        "# plt.show()"
      ],
      "execution_count": 0,
      "outputs": []
    },
    {
      "cell_type": "code",
      "metadata": {
        "id": "KBWTtiYTKkX4",
        "colab_type": "code",
        "colab": {}
      },
      "source": [
        "# not_prayer_words = ' '.join(list(all_prayer_df[all_prayer_df['is_prayer'] == 0]['En']))\n",
        "# not_prayer_wc = WordCloud(width = 512,height = 512).generate(not_prayer_words)\n",
        "# plt.figure(figsize = (10, 8), facecolor = 'k')\n",
        "# plt.imshow(not_prayer_wc)\n",
        "# plt.axis('off')\n",
        "# plt.tight_layout(pad = 0)\n",
        "# plt.show()"
      ],
      "execution_count": 0,
      "outputs": []
    },
    {
      "cell_type": "code",
      "metadata": {
        "id": "YOt4N48JrrUY",
        "colab_type": "code",
        "outputId": "fe9c4b55-adfc-4b0d-ea36-5cddd0247cb4",
        "colab": {
          "base_uri": "https://localhost:8080/",
          "height": 204
        }
      },
      "source": [
        "df = stemmed_df\n",
        "df.head()"
      ],
      "execution_count": 0,
      "outputs": [
        {
          "output_type": "execute_result",
          "data": {
            "text/html": [
              "<div>\n",
              "<style scoped>\n",
              "    .dataframe tbody tr th:only-of-type {\n",
              "        vertical-align: middle;\n",
              "    }\n",
              "\n",
              "    .dataframe tbody tr th {\n",
              "        vertical-align: top;\n",
              "    }\n",
              "\n",
              "    .dataframe thead th {\n",
              "        text-align: right;\n",
              "    }\n",
              "</style>\n",
              "<table border=\"1\" class=\"dataframe\">\n",
              "  <thead>\n",
              "    <tr style=\"text-align: right;\">\n",
              "      <th></th>\n",
              "      <th>english_text</th>\n",
              "      <th>is_prayer</th>\n",
              "    </tr>\n",
              "  </thead>\n",
              "  <tbody>\n",
              "    <tr>\n",
              "      <th>0</th>\n",
              "      <td>anoth abba binyamin statement regard law praye...</td>\n",
              "      <td>1</td>\n",
              "    </tr>\n",
              "    <tr>\n",
              "      <th>1</th>\n",
              "      <td>taught baraita abba binyamin said one prayer f...</td>\n",
              "      <td>1</td>\n",
              "    </tr>\n",
              "    <tr>\n",
              "      <th>2</th>\n",
              "      <td>addit ravin bar rav adda said rabbi yitzak sai...</td>\n",
              "      <td>1</td>\n",
              "    </tr>\n",
              "    <tr>\n",
              "      <th>3</th>\n",
              "      <td>similar taught baraita rabbi yishmael ben elis...</td>\n",
              "      <td>1</td>\n",
              "    </tr>\n",
              "    <tr>\n",
              "      <th>4</th>\n",
              "      <td>mean written let prayer unto lord time favor g...</td>\n",
              "      <td>1</td>\n",
              "    </tr>\n",
              "  </tbody>\n",
              "</table>\n",
              "</div>"
            ],
            "text/plain": [
              "                                        english_text  is_prayer\n",
              "0  anoth abba binyamin statement regard law praye...          1\n",
              "1  taught baraita abba binyamin said one prayer f...          1\n",
              "2  addit ravin bar rav adda said rabbi yitzak sai...          1\n",
              "3  similar taught baraita rabbi yishmael ben elis...          1\n",
              "4  mean written let prayer unto lord time favor g...          1"
            ]
          },
          "metadata": {
            "tags": []
          },
          "execution_count": 27
        }
      ]
    },
    {
      "cell_type": "code",
      "metadata": {
        "id": "K-91C0EFvYB-",
        "colab_type": "code",
        "outputId": "20cc49cd-7f1f-4d52-fb48-f83a856192a7",
        "colab": {
          "base_uri": "https://localhost:8080/",
          "height": 34
        }
      },
      "source": [
        "from keras.preprocessing.sequence import pad_sequences\n",
        "X = df['english_text']\n",
        "# X = tokenizer.texts_to_sequences(df['english_text'].values)\n",
        "# X = pad_sequences(X, maxlen=MAX_SEQUENCE_LENGTH)\n",
        "print('Shape of data tensor:', X.shape)"
      ],
      "execution_count": 0,
      "outputs": [
        {
          "output_type": "stream",
          "text": [
            "Shape of data tensor: (1221,)\n"
          ],
          "name": "stdout"
        }
      ]
    },
    {
      "cell_type": "code",
      "metadata": {
        "id": "IgrGfexfydvP",
        "colab_type": "code",
        "outputId": "96770080-0832-441c-e8ac-423491d5bcf4",
        "colab": {
          "base_uri": "https://localhost:8080/",
          "height": 34
        }
      },
      "source": [
        "Y = pd.get_dummies(df['is_prayer']).values\n",
        "print('Shape of label tensor:', Y.shape)\n"
      ],
      "execution_count": 0,
      "outputs": [
        {
          "output_type": "stream",
          "text": [
            "Shape of label tensor: (1221, 2)\n"
          ],
          "name": "stdout"
        }
      ]
    },
    {
      "cell_type": "code",
      "metadata": {
        "id": "55r5BbIIys5c",
        "colab_type": "code",
        "outputId": "8b783e19-6232-43d0-a081-6985bdb47b9e",
        "colab": {
          "base_uri": "https://localhost:8080/",
          "height": 51
        }
      },
      "source": [
        "from sklearn.model_selection import train_test_split\n",
        "X_train, X_test, Y_train, Y_test = train_test_split(X,Y, test_size = 0.10, random_state = 42)\n",
        "print(X_train.shape,Y_train.shape)\n",
        "print(X_test.shape,Y_test.shape)\n"
      ],
      "execution_count": 0,
      "outputs": [
        {
          "output_type": "stream",
          "text": [
            "(1098,) (1098, 2)\n",
            "(123,) (123, 2)\n"
          ],
          "name": "stdout"
        }
      ]
    },
    {
      "cell_type": "code",
      "metadata": {
        "id": "df90uEhPdEcX",
        "colab_type": "code",
        "colab": {}
      },
      "source": [
        ""
      ],
      "execution_count": 0,
      "outputs": []
    },
    {
      "cell_type": "code",
      "metadata": {
        "id": "3Ut2PZh0ueVN",
        "colab_type": "code",
        "colab": {}
      },
      "source": [
        "from tensorflow.keras.preprocessing.text import Tokenizer\n",
        "\n",
        "# The maximum number of words to be used. (most frequent)\n",
        "MAX_NB_WORDS = 50000\n",
        "# Max number of words in each complaint.\n",
        "MAX_SEQUENCE_LENGTH = 250\n",
        "# This is fixed.\n",
        "EMBEDDING_DIM = 100\n",
        "tokenizer = Tokenizer(num_words=MAX_NB_WORDS, filters='!\"#$%&()*+,-./:;<=>?@[\\]^_`{|}~', oov_token=\"<OOV>\", lower=True)\n",
        "tokenizer.fit_on_texts(X_train)\n",
        "# tokenizer.fit_on_texts(df['english_text'].values)\n"
      ],
      "execution_count": 0,
      "outputs": []
    },
    {
      "cell_type": "code",
      "metadata": {
        "id": "EHvHc5eoeI-F",
        "colab_type": "code",
        "outputId": "8554ea37-9df2-477d-ad51-eb5c3cc78a8e",
        "colab": {
          "base_uri": "https://localhost:8080/",
          "height": 374
        }
      },
      "source": [
        "\n",
        "X_train = tokenizer.texts_to_sequences(X_train)\n",
        "X_test = tokenizer.texts_to_sequences(X_test)\n",
        "# X_train = pad_sequences(X_train, maxlen=MAX_SEQUENCE_LENGTH)\n",
        "# print('Shape of data tensor:', X.shape)\n",
        "vocab_size = len(tokenizer.word_index) + 1\n",
        "\n",
        "maxlen = 200\n",
        "\n",
        "X_train = pad_sequences(X_train, padding=\"post\", maxlen=maxlen)\n",
        "X_test = pad_sequences(X_test, padding=\"post\", maxlen=maxlen)\n"
      ],
      "execution_count": 0,
      "outputs": [
        {
          "output_type": "error",
          "ename": "AttributeError",
          "evalue": "ignored",
          "traceback": [
            "\u001b[0;31m---------------------------------------------------------------------------\u001b[0m",
            "\u001b[0;31mAttributeError\u001b[0m                            Traceback (most recent call last)",
            "\u001b[0;32m<ipython-input-48-fa25bbad1d77>\u001b[0m in \u001b[0;36m<module>\u001b[0;34m()\u001b[0m\n\u001b[1;32m      1\u001b[0m \u001b[0;34m\u001b[0m\u001b[0m\n\u001b[0;32m----> 2\u001b[0;31m \u001b[0mX_train\u001b[0m \u001b[0;34m=\u001b[0m \u001b[0mtokenizer\u001b[0m\u001b[0;34m.\u001b[0m\u001b[0mtexts_to_sequences\u001b[0m\u001b[0;34m(\u001b[0m\u001b[0mX_train\u001b[0m\u001b[0;34m)\u001b[0m\u001b[0;34m\u001b[0m\u001b[0;34m\u001b[0m\u001b[0m\n\u001b[0m\u001b[1;32m      3\u001b[0m \u001b[0mX_test\u001b[0m \u001b[0;34m=\u001b[0m \u001b[0mtokenizer\u001b[0m\u001b[0;34m.\u001b[0m\u001b[0mtexts_to_sequences\u001b[0m\u001b[0;34m(\u001b[0m\u001b[0mX_test\u001b[0m\u001b[0;34m)\u001b[0m\u001b[0;34m\u001b[0m\u001b[0;34m\u001b[0m\u001b[0m\n\u001b[1;32m      4\u001b[0m \u001b[0;31m# X_train = pad_sequences(X_train, maxlen=MAX_SEQUENCE_LENGTH)\u001b[0m\u001b[0;34m\u001b[0m\u001b[0;34m\u001b[0m\u001b[0;34m\u001b[0m\u001b[0m\n\u001b[1;32m      5\u001b[0m \u001b[0;31m# print('Shape of data tensor:', X.shape)\u001b[0m\u001b[0;34m\u001b[0m\u001b[0;34m\u001b[0m\u001b[0;34m\u001b[0m\u001b[0m\n",
            "\u001b[0;32m/usr/local/lib/python3.6/dist-packages/keras_preprocessing/text.py\u001b[0m in \u001b[0;36mtexts_to_sequences\u001b[0;34m(self, texts)\u001b[0m\n\u001b[1;32m    279\u001b[0m             \u001b[0mA\u001b[0m \u001b[0mlist\u001b[0m \u001b[0mof\u001b[0m \u001b[0msequences\u001b[0m\u001b[0;34m.\u001b[0m\u001b[0;34m\u001b[0m\u001b[0;34m\u001b[0m\u001b[0m\n\u001b[1;32m    280\u001b[0m         \"\"\"\n\u001b[0;32m--> 281\u001b[0;31m         \u001b[0;32mreturn\u001b[0m \u001b[0mlist\u001b[0m\u001b[0;34m(\u001b[0m\u001b[0mself\u001b[0m\u001b[0;34m.\u001b[0m\u001b[0mtexts_to_sequences_generator\u001b[0m\u001b[0;34m(\u001b[0m\u001b[0mtexts\u001b[0m\u001b[0;34m)\u001b[0m\u001b[0;34m)\u001b[0m\u001b[0;34m\u001b[0m\u001b[0;34m\u001b[0m\u001b[0m\n\u001b[0m\u001b[1;32m    282\u001b[0m \u001b[0;34m\u001b[0m\u001b[0m\n\u001b[1;32m    283\u001b[0m     \u001b[0;32mdef\u001b[0m \u001b[0mtexts_to_sequences_generator\u001b[0m\u001b[0;34m(\u001b[0m\u001b[0mself\u001b[0m\u001b[0;34m,\u001b[0m \u001b[0mtexts\u001b[0m\u001b[0;34m)\u001b[0m\u001b[0;34m:\u001b[0m\u001b[0;34m\u001b[0m\u001b[0;34m\u001b[0m\u001b[0m\n",
            "\u001b[0;32m/usr/local/lib/python3.6/dist-packages/keras_preprocessing/text.py\u001b[0m in \u001b[0;36mtexts_to_sequences_generator\u001b[0;34m(self, texts)\u001b[0m\n\u001b[1;32m    310\u001b[0m                                             \u001b[0mself\u001b[0m\u001b[0;34m.\u001b[0m\u001b[0mfilters\u001b[0m\u001b[0;34m,\u001b[0m\u001b[0;34m\u001b[0m\u001b[0;34m\u001b[0m\u001b[0m\n\u001b[1;32m    311\u001b[0m                                             \u001b[0mself\u001b[0m\u001b[0;34m.\u001b[0m\u001b[0mlower\u001b[0m\u001b[0;34m,\u001b[0m\u001b[0;34m\u001b[0m\u001b[0;34m\u001b[0m\u001b[0m\n\u001b[0;32m--> 312\u001b[0;31m                                             self.split)\n\u001b[0m\u001b[1;32m    313\u001b[0m             \u001b[0mvect\u001b[0m \u001b[0;34m=\u001b[0m \u001b[0;34m[\u001b[0m\u001b[0;34m]\u001b[0m\u001b[0;34m\u001b[0m\u001b[0;34m\u001b[0m\u001b[0m\n\u001b[1;32m    314\u001b[0m             \u001b[0;32mfor\u001b[0m \u001b[0mw\u001b[0m \u001b[0;32min\u001b[0m \u001b[0mseq\u001b[0m\u001b[0;34m:\u001b[0m\u001b[0;34m\u001b[0m\u001b[0;34m\u001b[0m\u001b[0m\n",
            "\u001b[0;32m/usr/local/lib/python3.6/dist-packages/keras_preprocessing/text.py\u001b[0m in \u001b[0;36mtext_to_word_sequence\u001b[0;34m(text, filters, lower, split)\u001b[0m\n\u001b[1;32m     41\u001b[0m     \"\"\"\n\u001b[1;32m     42\u001b[0m     \u001b[0;32mif\u001b[0m \u001b[0mlower\u001b[0m\u001b[0;34m:\u001b[0m\u001b[0;34m\u001b[0m\u001b[0;34m\u001b[0m\u001b[0m\n\u001b[0;32m---> 43\u001b[0;31m         \u001b[0mtext\u001b[0m \u001b[0;34m=\u001b[0m \u001b[0mtext\u001b[0m\u001b[0;34m.\u001b[0m\u001b[0mlower\u001b[0m\u001b[0;34m(\u001b[0m\u001b[0;34m)\u001b[0m\u001b[0;34m\u001b[0m\u001b[0;34m\u001b[0m\u001b[0m\n\u001b[0m\u001b[1;32m     44\u001b[0m \u001b[0;34m\u001b[0m\u001b[0m\n\u001b[1;32m     45\u001b[0m     \u001b[0;32mif\u001b[0m \u001b[0msys\u001b[0m\u001b[0;34m.\u001b[0m\u001b[0mversion_info\u001b[0m \u001b[0;34m<\u001b[0m \u001b[0;34m(\u001b[0m\u001b[0;36m3\u001b[0m\u001b[0;34m,\u001b[0m\u001b[0;34m)\u001b[0m\u001b[0;34m:\u001b[0m\u001b[0;34m\u001b[0m\u001b[0;34m\u001b[0m\u001b[0m\n",
            "\u001b[0;31mAttributeError\u001b[0m: 'numpy.ndarray' object has no attribute 'lower'"
          ]
        }
      ]
    },
    {
      "cell_type": "code",
      "metadata": {
        "id": "bX0x_nxjd3wo",
        "colab_type": "code",
        "colab": {}
      },
      "source": [
        "\n",
        "\n",
        "word_index = tokenizer.word_index\n",
        "print('Found %s unique tokens.' % len(word_index))\n",
        "\n"
      ],
      "execution_count": 0,
      "outputs": []
    },
    {
      "cell_type": "code",
      "metadata": {
        "id": "Q5tG-uUDa3Bm",
        "colab_type": "code",
        "colab": {}
      },
      "source": [
        "\"\"\"\n",
        "function ConnectButton(){\n",
        "    console.log(\"Connect pushed\"); \n",
        "    document.querySelector(\"#top-toolbar > colab-connect-button\").shadowRoot.querySelector(\"#connect\").click() \n",
        "}\n",
        "setInterval(ConnectButton,60000);\n",
        "\"\"\""
      ],
      "execution_count": 0,
      "outputs": []
    },
    {
      "cell_type": "code",
      "metadata": {
        "id": "cGeoXf9lvryp",
        "colab_type": "code",
        "colab": {}
      },
      "source": [
        "from keras.models import Sequential\n",
        "from keras.layers import Embedding\n",
        "from keras.layers.core import Dense, SpatialDropout1D\n",
        "# from tensorflow.python.keras.layers.recurrent import LSTM\n",
        "from keras.layers.recurrent import LSTM\n",
        "\n",
        "model = Sequential()\n",
        "model.add(Embedding(MAX_NB_WORDS, EMBEDDING_DIM, input_length=X.shape[1]))\n",
        "model.add(SpatialDropout1D(0.2))\n",
        "model.add(LSTM(100, dropout=0.2, recurrent_dropout=0.2))\n",
        "model.add(Dense(2, activation='sigmoid'))\n",
        "# model.add(Dense(2, activation='softmax'))\n",
        "model.compile(loss='categorical_crossentropy', optimizer='adam', metrics=['accuracy'])\n",
        "\n",
        "epochs = 15\n",
        "batch_size = 64\n",
        "\n",
        "# history = model.fit(X_train, Y_train, epochs=epochs, batch_size=batch_size,validation_split=0.1,callbacks=[EarlyStopping(monitor='val_loss', patience=3, min_delta=0.0001)])\n"
      ],
      "execution_count": 0,
      "outputs": []
    },
    {
      "cell_type": "code",
      "metadata": {
        "id": "4kw5dcgUuf4C",
        "colab_type": "code",
        "colab": {}
      },
      "source": [
        "# X = df.english_text\n",
        "# y = df.is_prayer\n",
        "# print(f\"Totals: {X.shape} / {y.shape}\")\n",
        "\n",
        "# from sklearn.model_selection import train_test_split\n",
        "\n",
        "# # train, test = train_test_split(movies, random_state=42, test_size=0.30, shuffle=True)\n",
        "\n",
        "# X_train, X_test, y_train, y_test = train_test_split(X, y, random_state=56, test_size=0.20, shuffle=True)\n",
        "\n",
        "# print(f\"\\nTrain: {X_train.shape} / {y_train.shape}\")\n",
        "\n",
        "# print(f\"\\nTest: {X_test.shape} / {y_test.shape}\")"
      ],
      "execution_count": 0,
      "outputs": []
    },
    {
      "cell_type": "code",
      "metadata": {
        "id": "jR-nbZiIxjRq",
        "colab_type": "code",
        "colab": {}
      },
      "source": [
        "from keras.callbacks import ModelCheckpoint, EarlyStopping\n",
        "\n",
        "history = model.fit(X_train, Y_train, \n",
        "                    epochs=epochs, batch_size=batch_size,validation_split=0.1,\n",
        "                    callbacks=[EarlyStopping(monitor='val_loss', patience=3, min_delta=0.0001)])"
      ],
      "execution_count": 0,
      "outputs": []
    },
    {
      "cell_type": "code",
      "metadata": {
        "id": "xItgWYNOzMDf",
        "colab_type": "code",
        "colab": {
          "base_uri": "https://localhost:8080/",
          "height": 498
        },
        "outputId": "539ac83d-91b4-44b6-add3-c18da62adf07"
      },
      "source": [
        "import matplotlib.pyplot as plt\n",
        "plt.title('Loss')\n",
        "plt.plot(history.history['loss'], label='train')\n",
        "plt.plot(history.history['val_loss'], label='test')\n",
        "plt.legend()\n",
        "plt.show();\n"
      ],
      "execution_count": 121,
      "outputs": [
        {
          "output_type": "display_data",
          "data": {
            "image/png": "[encoded data removed]",
            "text/plain": [
              "<Figure size 720x576 with 1 Axes>"
            ]
          },
          "metadata": {
            "tags": [],
            "needs_background": "light"
          }
        }
      ]
    },
    {
      "cell_type": "code",
      "metadata": {
        "id": "Vfi0gzawwhzN",
        "colab_type": "code",
        "colab": {
          "base_uri": "https://localhost:8080/",
          "height": 34
        },
        "outputId": "0e88af28-77d6-463c-f91f-059617ef2787"
      },
      "source": [
        "model.metrics_names\n"
      ],
      "execution_count": 123,
      "outputs": [
        {
          "output_type": "execute_result",
          "data": {
            "text/plain": [
              "['loss', 'acc']"
            ]
          },
          "metadata": {
            "tags": []
          },
          "execution_count": 123
        }
      ]
    },
    {
      "cell_type": "code",
      "metadata": {
        "id": "SkpMmQSmzUiy",
        "colab_type": "code",
        "colab": {
          "base_uri": "https://localhost:8080/",
          "height": 721
        },
        "outputId": "3507043c-0314-457b-9be5-131cf9122b57"
      },
      "source": [
        "plt.title('Accuracy')\n",
        "# plt.plot(history.history['accuracy'], label='train')\n",
        "plt.plot(history.history['acc'], label='train')\n",
        "plt.plot(history.history['val_accuracy'], label='test')\n",
        "plt.legend()\n",
        "plt.show();\n"
      ],
      "execution_count": 124,
      "outputs": [
        {
          "output_type": "error",
          "ename": "KeyError",
          "evalue": "ignored",
          "traceback": [
            "\u001b[0;31m---------------------------------------------------------------------------\u001b[0m",
            "\u001b[0;31mKeyError\u001b[0m                                  Traceback (most recent call last)",
            "\u001b[0;32m<ipython-input-124-d381f33f2ac5>\u001b[0m in \u001b[0;36m<module>\u001b[0;34m()\u001b[0m\n\u001b[1;32m      2\u001b[0m \u001b[0;31m# plt.plot(history.history['accuracy'], label='train')\u001b[0m\u001b[0;34m\u001b[0m\u001b[0;34m\u001b[0m\u001b[0;34m\u001b[0m\u001b[0m\n\u001b[1;32m      3\u001b[0m \u001b[0mplt\u001b[0m\u001b[0;34m.\u001b[0m\u001b[0mplot\u001b[0m\u001b[0;34m(\u001b[0m\u001b[0mhistory\u001b[0m\u001b[0;34m.\u001b[0m\u001b[0mhistory\u001b[0m\u001b[0;34m[\u001b[0m\u001b[0;34m'acc'\u001b[0m\u001b[0;34m]\u001b[0m\u001b[0;34m,\u001b[0m \u001b[0mlabel\u001b[0m\u001b[0;34m=\u001b[0m\u001b[0;34m'train'\u001b[0m\u001b[0;34m)\u001b[0m\u001b[0;34m\u001b[0m\u001b[0;34m\u001b[0m\u001b[0m\n\u001b[0;32m----> 4\u001b[0;31m \u001b[0mplt\u001b[0m\u001b[0;34m.\u001b[0m\u001b[0mplot\u001b[0m\u001b[0;34m(\u001b[0m\u001b[0mhistory\u001b[0m\u001b[0;34m.\u001b[0m\u001b[0mhistory\u001b[0m\u001b[0;34m[\u001b[0m\u001b[0;34m'val_accuracy'\u001b[0m\u001b[0;34m]\u001b[0m\u001b[0;34m,\u001b[0m \u001b[0mlabel\u001b[0m\u001b[0;34m=\u001b[0m\u001b[0;34m'test'\u001b[0m\u001b[0;34m)\u001b[0m\u001b[0;34m\u001b[0m\u001b[0;34m\u001b[0m\u001b[0m\n\u001b[0m\u001b[1;32m      5\u001b[0m \u001b[0mplt\u001b[0m\u001b[0;34m.\u001b[0m\u001b[0mlegend\u001b[0m\u001b[0;34m(\u001b[0m\u001b[0;34m)\u001b[0m\u001b[0;34m\u001b[0m\u001b[0;34m\u001b[0m\u001b[0m\n\u001b[1;32m      6\u001b[0m \u001b[0mplt\u001b[0m\u001b[0;34m.\u001b[0m\u001b[0mshow\u001b[0m\u001b[0;34m(\u001b[0m\u001b[0;34m)\u001b[0m\u001b[0;34m;\u001b[0m\u001b[0;34m\u001b[0m\u001b[0;34m\u001b[0m\u001b[0m\n",
            "\u001b[0;31mKeyError\u001b[0m: 'val_accuracy'"
          ]
        },
        {
          "output_type": "display_data",
          "data": {
            "image/png": "[encoded data removed]",
            "text/plain": [
              "<Figure size 720x576 with 1 Axes>"
            ]
          },
          "metadata": {
            "tags": [],
            "needs_background": "light"
          }
        }
      ]
    },
    {
      "cell_type": "code",
      "metadata": {
        "id": "8CEXlC0HKO-S",
        "colab_type": "code",
        "colab": {
          "base_uri": "https://localhost:8080/",
          "height": 34
        },
        "outputId": "01cd0a0b-6321-4cfc-b922-61d9854f1cbd"
      },
      "source": [
        "new_complaint = ['I am a pray pray pray pray to open up .']\n",
        "seq = tokenizer.texts_to_sequences(new_complaint)\n",
        "padded = pad_sequences(seq, maxlen=maxlen)\n",
        "# padded = pad_sequences(seq, maxlen=MAX_SEQUENCE_LENGTH)\n",
        "pred = model.predict(padded)\n",
        "labels = ['moses','abraham','prayer']\n",
        "print(pred, labels[np.argmax(pred)])"
      ],
      "execution_count": 129,
      "outputs": [
        {
          "output_type": "stream",
          "text": [
            "[[0.2507929  0.23649292 0.25338274]] prayer\n"
          ],
          "name": "stdout"
        }
      ]
    },
    {
      "cell_type": "code",
      "metadata": {
        "id": "15UcywD9TTjJ",
        "colab_type": "code",
        "colab": {}
      },
      "source": [
        "# # Convert a collection of text documents to a matrix of token counts\n",
        "\n",
        "# from sklearn.feature_extraction.text import CountVectorizer, HashingVectorizer, TfidfVectorizer\n",
        "\n",
        "# # vectorizer = CountVectorizer(analyzer=process_text)\n",
        "# # vectorizer = CountVectorizer(ngram_range=(2, 4))\n",
        "# # vectorizer = HashingVectorizer(ngram_range=(2, 4),alternate_sign=False)\n",
        "# vectorizer = TfidfVectorizer(\n",
        "#     # strip_accents='unicode', \n",
        "#     # analyzer='word', \n",
        "#     ngram_range=(1,3), \n",
        "#     # norm='l2', \n",
        "#     # max_features = 15000\n",
        "#     # max_features = 12000\n",
        "#     max_features = 10000\n",
        "#     # max_features = 8000\n",
        "#     # max_features = 5000\n",
        "#     )\n",
        "\n",
        "# # vectorizer = TfidfVectorizer(ngram_range=(2, 4))\n",
        "# # vectorizer.fit(X_train)\n",
        "# # vectorizer.get_feature_names()\n"
      ],
      "execution_count": 0,
      "outputs": []
    },
    {
      "cell_type": "code",
      "metadata": {
        "id": "0o4gM0z6Iz0n",
        "colab_type": "code",
        "colab": {}
      },
      "source": [
        "# print(\"Shape of document term matrix\")\n",
        "\n",
        "# # X_train_dtm = vectorizer.transform(X_train)\n",
        "# X_train_dtm = vectorizer.fit_transform(X_train)\n",
        "# print(f\"Train: {X_train_dtm.shape}\")\n",
        "\n",
        "# # prayer_bag_of_words = vectorizer.fit_transform(all_prayer_df['En'])\n",
        "# X_test_dtm = vectorizer.transform(X_test)\n",
        "# print(f\"Test: {X_test_dtm.shape}\")\n"
      ],
      "execution_count": 0,
      "outputs": []
    },
    {
      "cell_type": "code",
      "metadata": {
        "id": "OxFuBppqB2R4",
        "colab_type": "code",
        "colab": {}
      },
      "source": [
        "\n",
        "# print(vectorizer.get_feature_names())\n"
      ],
      "execution_count": 0,
      "outputs": []
    },
    {
      "cell_type": "code",
      "metadata": {
        "id": "CD23HO1xqi66",
        "colab_type": "code",
        "colab": {}
      },
      "source": [
        "# from sklearn.naive_bayes import MultinomialNB, GaussianNB, BernoulliNB, ComplementNB\n",
        "\n",
        "# classifier = MultinomialNB()\n",
        "# # classifier = ComplementNB()\n",
        "\n",
        "# # for Gaussian need array format\n",
        "# # X_train = X_train.toarray()\n",
        "# # X_test = X_test.toarray()\n",
        "# # classifier = GaussianNB()\n",
        "# # classifier = BernoulliNB()\n",
        "\n",
        "# %time classifier.fit(X_train_dtm, y_train)\n",
        "# y_pred_class = classifier.predict(X_test_dtm)\n",
        "# from sklearn import metrics\n",
        "\n",
        "# print(f\"\\nBreakdown:\\n{y_test.value_counts()[0]} non-prayer (0), and\\n{y_test.value_counts()[1]} prayer (1)\")\n",
        "\n",
        "# null_accuracy = y_test.value_counts().head(1) / len(y_test)\n",
        "# print(f'\\nNull accuracy: {null_accuracy[0]}')\n",
        "\n",
        "# non_prayer_passages = y_test.value_counts()[0]\n",
        "# prayer_passages = y_test.value_counts()[1]\n",
        "# print('Manual null accuracy:',(prayer_passages / (prayer_passages + non_prayer_passages)))\n",
        "\n",
        "# print('\\nAccuracy:',round(metrics.accuracy_score(y_test, y_pred_class),2))\n",
        "# print('Precision:',round(metrics.precision_score(y_test, y_pred_class),2))\n",
        "# print('Recall:',round(metrics.recall_score(y_test, y_pred_class),2))\n",
        "# print('F1 score:',round(metrics.f1_score(y_test, y_pred_class),2))\n",
        "\n",
        "# print(\"\\nConfusion Matrix:\")\n",
        "# print(metrics.confusion_matrix(y_test, y_pred_class))\n"
      ],
      "execution_count": 0,
      "outputs": []
    },
    {
      "cell_type": "code",
      "metadata": {
        "id": "4scurgrwrsGj",
        "colab_type": "code",
        "colab": {}
      },
      "source": [
        "\n",
        "# from sklearn.model_selection import cross_val_score\n",
        "# # clf = svm.SVC(kernel='linear', C=1)\n",
        "# scores = cross_val_score(classifier, X, y, cv=5)\n",
        "# scores\n"
      ],
      "execution_count": 0,
      "outputs": []
    },
    {
      "cell_type": "code",
      "metadata": {
        "id": "5YfNWBAA0RIa",
        "colab_type": "code",
        "colab": {}
      },
      "source": [
        "# TP = X_test[y_pred_class + y_test == 2]\n",
        "# TN = X_test[y_pred_class + y_test == 0]\n",
        "# FP = X_test[y_pred_class > y_test]\n",
        "# FN = X_test[y_pred_class < y_test]\n",
        "\n",
        "# pd.options.display.max_colwidth = 100\n",
        "\n",
        "# # pd.style.set_properties(**{'text-align': 'left'})\n",
        "\n",
        "# # print(\"\\n*** TP ***\")\n",
        "# # print(TP.sample(5))\n",
        "# # print(\"\\n*** TN ***\")\n",
        "# # print(TN.sample(5))\n",
        "# print(\"*** False Positives: Actually NOT prayer, but misclassified as prayer ***\\n\")\n",
        "# print(FP.sample(10))\n",
        "# print(\"\\n\\n*** False Negatives: Actually prayer, but misclassified as NOT prayer ***\\n\")\n",
        "# print(FN.sample(10))"
      ],
      "execution_count": 0,
      "outputs": []
    },
    {
      "cell_type": "code",
      "metadata": {
        "id": "-uC5Qrl5x1hI",
        "colab_type": "code",
        "colab": {}
      },
      "source": [
        "# FP.to_csv('FP', sep='\\t', encoding='utf-8')\n",
        "# FN.to_csv('FN', sep='\\t', encoding='utf-8')\n"
      ],
      "execution_count": 0,
      "outputs": []
    },
    {
      "cell_type": "code",
      "metadata": {
        "id": "hrVYv3ETLjsJ",
        "colab_type": "code",
        "colab": {}
      },
      "source": [
        ""
      ],
      "execution_count": 0,
      "outputs": []
    }
  ]
}