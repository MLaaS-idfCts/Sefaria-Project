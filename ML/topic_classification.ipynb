{
  "nbformat": 4,
  "nbformat_minor": 0,
  "metadata": {
    "colab": {
      "name": "topic_classification.ipynb",
      "provenance": [],
      "collapsed_sections": [],
      "authorship_tag": "ABX9TyOTp0QSmL4cX3o9NC+AZfKC",
      "include_colab_link": true
    },
    "kernelspec": {
      "name": "python3",
      "display_name": "Python 3"
    }
  },
  "cells": [
    {
      "cell_type": "markdown",
      "metadata": {
        "id": "view-in-github",
        "colab_type": "text"
      },
      "source": [
        "<a href=\"https://colab.research.google.com/github/yishairasowsky/Sefaria-Project/blob/master/ML/topic_classification.ipynb\" target=\"_parent\"><img src=\"https://colab.research.google.com/assets/colab-badge.svg\" alt=\"Open In Colab\"/></a>"
      ]
    },
    {
      "cell_type": "code",
      "metadata": {
        "id": "996XuOF9zQp3",
        "colab_type": "code",
        "colab": {}
      },
      "source": [
        "import numpy as np \n",
        "import pandas as pd"
      ],
      "execution_count": 0,
      "outputs": []
    },
    {
      "cell_type": "code",
      "metadata": {
        "id": "_GJq4lAIzY4K",
        "colab_type": "code",
        "colab": {}
      },
      "source": [
        "prayer_df = pd.read_csv('/content/prayer-sources.csv', \n",
        "                        # encoding=\"latin-1\"\n",
        "                        )\n",
        "not_prayer_df = pd.read_csv('/content/not-prayer-sources.csv', \n",
        "# not_prayer_df = pd.read_csv('/content/not-prayer-sources-more.csv', \n",
        "                            # encoding=\"latin-1\"\n",
        "                            )"
      ],
      "execution_count": 0,
      "outputs": []
    },
    {
      "cell_type": "code",
      "metadata": {
        "id": "AZD4yqQuakdQ",
        "colab_type": "code",
        "outputId": "a325f200-0197-4914-ccfc-150902d26e22",
        "colab": {
          "base_uri": "https://localhost:8080/",
          "height": 170
        }
      },
      "source": [
        "prayer_df.sample(3)"
      ],
      "execution_count": 847,
      "outputs": [
        {
          "output_type": "execute_result",
          "data": {
            "text/html": [
              "<div>\n",
              "<style scoped>\n",
              "    .dataframe tbody tr th:only-of-type {\n",
              "        vertical-align: middle;\n",
              "    }\n",
              "\n",
              "    .dataframe tbody tr th {\n",
              "        vertical-align: top;\n",
              "    }\n",
              "\n",
              "    .dataframe thead th {\n",
              "        text-align: right;\n",
              "    }\n",
              "</style>\n",
              "<table border=\"1\" class=\"dataframe\">\n",
              "  <thead>\n",
              "    <tr style=\"text-align: right;\">\n",
              "      <th></th>\n",
              "      <th>Ref</th>\n",
              "      <th>En</th>\n",
              "      <th>He</th>\n",
              "    </tr>\n",
              "  </thead>\n",
              "  <tbody>\n",
              "    <tr>\n",
              "      <th>372</th>\n",
              "      <td>Bereishit Rabbah 70:16</td>\n",
              "      <td>NaN</td>\n",
              "      <td>וְעֵינֵי לֵאָה רַכּוֹת (בראשית כט, יז) , אֲמוֹרָאִי דְּרַבִּי יוֹחָנָן תִּרְגֵּם קוֹדְמוֹי וְעֵי...</td>\n",
              "    </tr>\n",
              "    <tr>\n",
              "      <th>175</th>\n",
              "      <td>Yalkut Shimoni on Torah 392:2</td>\n",
              "      <td>NaN</td>\n",
              "      <td>ויחל משה מלמד שעמד משה בתפלה עד שהוחלה. אביי אמר עד שחלהו להקב\"ה בתפלתו. רבא אמר עד שהתיר לו נדר...</td>\n",
              "    </tr>\n",
              "    <tr>\n",
              "      <th>624</th>\n",
              "      <td>Sefat Emet, Deuteronomy, Vaetchanan 4:5</td>\n",
              "      <td>NaN</td>\n",
              "      <td>[מ\"ש חז\"ל המשמיע קולו מקטני אמנה. קשה מה יתרון אמונה שהש\"י שומע קול בלחש או בקול שניהם שוים. וי\"...</td>\n",
              "    </tr>\n",
              "  </tbody>\n",
              "</table>\n",
              "</div>"
            ],
            "text/plain": [
              "                                         Ref  ...                                                                                                   He\n",
              "372                   Bereishit Rabbah 70:16  ...  וְעֵינֵי לֵאָה רַכּוֹת (בראשית כט, יז) , אֲמוֹרָאִי דְּרַבִּי יוֹחָנָן תִּרְגֵּם קוֹדְמוֹי וְעֵי...\n",
              "175            Yalkut Shimoni on Torah 392:2  ...  ויחל משה מלמד שעמד משה בתפלה עד שהוחלה. אביי אמר עד שחלהו להקב\"ה בתפלתו. רבא אמר עד שהתיר לו נדר...\n",
              "624  Sefat Emet, Deuteronomy, Vaetchanan 4:5  ...  [מ\"ש חז\"ל המשמיע קולו מקטני אמנה. קשה מה יתרון אמונה שהש\"י שומע קול בלחש או בקול שניהם שוים. וי\"...\n",
              "\n",
              "[3 rows x 3 columns]"
            ]
          },
          "metadata": {
            "tags": []
          },
          "execution_count": 847
        }
      ]
    },
    {
      "cell_type": "code",
      "metadata": {
        "id": "fODCiUmOzeOo",
        "colab_type": "code",
        "outputId": "85e0dec4-78a7-485e-b5c6-e3f25986e976",
        "colab": {
          "base_uri": "https://localhost:8080/",
          "height": 136
        }
      },
      "source": [
        "prayer_df['is_prayer'] = 'yes'\n",
        "prayer_df = prayer_df[['En','is_prayer']]\n",
        "\n",
        "prayer_df.tail(3)"
      ],
      "execution_count": 848,
      "outputs": [
        {
          "output_type": "execute_result",
          "data": {
            "text/html": [
              "<div>\n",
              "<style scoped>\n",
              "    .dataframe tbody tr th:only-of-type {\n",
              "        vertical-align: middle;\n",
              "    }\n",
              "\n",
              "    .dataframe tbody tr th {\n",
              "        vertical-align: top;\n",
              "    }\n",
              "\n",
              "    .dataframe thead th {\n",
              "        text-align: right;\n",
              "    }\n",
              "</style>\n",
              "<table border=\"1\" class=\"dataframe\">\n",
              "  <thead>\n",
              "    <tr style=\"text-align: right;\">\n",
              "      <th></th>\n",
              "      <th>En</th>\n",
              "      <th>is_prayer</th>\n",
              "    </tr>\n",
              "  </thead>\n",
              "  <tbody>\n",
              "    <tr>\n",
              "      <th>1049</th>\n",
              "      <td>It is true that you are the one who judges, and reproves, who knows all, and bears witness, who ...</td>\n",
              "      <td>yes</td>\n",
              "    </tr>\n",
              "    <tr>\n",
              "      <th>1050</th>\n",
              "      <td>In these Berachot (blessings) we bow down: the first Beracha (blessing) [of Shemoneh Esreh], in ...</td>\n",
              "      <td>yes</td>\n",
              "    </tr>\n",
              "    <tr>\n",
              "      <th>1051</th>\n",
              "      <td>On seeds he says [the Beracha (blessing)] Borei Minei Zerayim (Who created different types of se...</td>\n",
              "      <td>yes</td>\n",
              "    </tr>\n",
              "  </tbody>\n",
              "</table>\n",
              "</div>"
            ],
            "text/plain": [
              "                                                                                                       En is_prayer\n",
              "1049  It is true that you are the one who judges, and reproves, who knows all, and bears witness, who ...       yes\n",
              "1050  In these Berachot (blessings) we bow down: the first Beracha (blessing) [of Shemoneh Esreh], in ...       yes\n",
              "1051  On seeds he says [the Beracha (blessing)] Borei Minei Zerayim (Who created different types of se...       yes"
            ]
          },
          "metadata": {
            "tags": []
          },
          "execution_count": 848
        }
      ]
    },
    {
      "cell_type": "code",
      "metadata": {
        "id": "ajQQYcXAbCPy",
        "colab_type": "code",
        "outputId": "1684245e-c271-4fbc-ef9d-95026d82ff0b",
        "colab": {
          "base_uri": "https://localhost:8080/",
          "height": 237
        }
      },
      "source": [
        "not_prayer_df.sample(3)"
      ],
      "execution_count": 849,
      "outputs": [
        {
          "output_type": "execute_result",
          "data": {
            "text/html": [
              "<div>\n",
              "<style scoped>\n",
              "    .dataframe tbody tr th:only-of-type {\n",
              "        vertical-align: middle;\n",
              "    }\n",
              "\n",
              "    .dataframe tbody tr th {\n",
              "        vertical-align: top;\n",
              "    }\n",
              "\n",
              "    .dataframe thead th {\n",
              "        text-align: right;\n",
              "    }\n",
              "</style>\n",
              "<table border=\"1\" class=\"dataframe\">\n",
              "  <thead>\n",
              "    <tr style=\"text-align: right;\">\n",
              "      <th></th>\n",
              "      <th>Ref</th>\n",
              "      <th>En</th>\n",
              "      <th>He</th>\n",
              "      <th>Topics</th>\n",
              "    </tr>\n",
              "  </thead>\n",
              "  <tbody>\n",
              "    <tr>\n",
              "      <th>259</th>\n",
              "      <td>Menachot 55b:12</td>\n",
              "      <td>The baraita asks: Do you say that it is singled out for this purpose, to teach that even after t...</td>\n",
              "      <td>אתה אומר לכך יצאת או אינו אלא שזה טעון צפון ואין אחר טעון צפון ת\"ל (ויקרא ד, כט) ושחט את החטאת ב...</td>\n",
              "      <td>slaughter-of-sacrifices</td>\n",
              "    </tr>\n",
              "    <tr>\n",
              "      <th>853</th>\n",
              "      <td>Ohr Hashem, Third Treatise, Section One, Fourth Principle 2:1</td>\n",
              "      <td>NaN</td>\n",
              "      <td>הפרק הב' בתכלית המכוון בנס הנפלא הזה ותועלותיו: ולפי שהתכלית המשותף לכל הנסים והנפלאות הוא להקנו...</td>\n",
              "      <td>faith|resurrection</td>\n",
              "    </tr>\n",
              "    <tr>\n",
              "      <th>969</th>\n",
              "      <td>Or HaChaim on Exodus 15:26:4</td>\n",
              "      <td>כי אני ה׳ רפאך , \"For I the Lord am your Healer.\" The Torah here refers to diseases which are no...</td>\n",
              "      <td>כי אני ה' רופאך . פירוש לצד חולאים שאינם בידי שמים כאומרם ז''ל (כתובות ל'.) הכל בידי שמים חוץ מצ...</td>\n",
              "      <td>sicknesses</td>\n",
              "    </tr>\n",
              "  </tbody>\n",
              "</table>\n",
              "</div>"
            ],
            "text/plain": [
              "                                                               Ref  ...                   Topics\n",
              "259                                                Menachot 55b:12  ...  slaughter-of-sacrifices\n",
              "853  Ohr Hashem, Third Treatise, Section One, Fourth Principle 2:1  ...       faith|resurrection\n",
              "969                                   Or HaChaim on Exodus 15:26:4  ...               sicknesses\n",
              "\n",
              "[3 rows x 4 columns]"
            ]
          },
          "metadata": {
            "tags": []
          },
          "execution_count": 849
        }
      ]
    },
    {
      "cell_type": "code",
      "metadata": {
        "id": "K0hGDwWFD5qC",
        "colab_type": "code",
        "outputId": "620fe29c-3759-44ce-aec9-29f799f3dfb0",
        "colab": {
          "base_uri": "https://localhost:8080/",
          "height": 136
        }
      },
      "source": [
        "not_prayer_df['is_prayer'] = 'no'\n",
        "not_prayer_df = not_prayer_df[['En','is_prayer']]\n",
        "not_prayer_df.sample(3)"
      ],
      "execution_count": 850,
      "outputs": [
        {
          "output_type": "execute_result",
          "data": {
            "text/html": [
              "<div>\n",
              "<style scoped>\n",
              "    .dataframe tbody tr th:only-of-type {\n",
              "        vertical-align: middle;\n",
              "    }\n",
              "\n",
              "    .dataframe tbody tr th {\n",
              "        vertical-align: top;\n",
              "    }\n",
              "\n",
              "    .dataframe thead th {\n",
              "        text-align: right;\n",
              "    }\n",
              "</style>\n",
              "<table border=\"1\" class=\"dataframe\">\n",
              "  <thead>\n",
              "    <tr style=\"text-align: right;\">\n",
              "      <th></th>\n",
              "      <th>En</th>\n",
              "      <th>is_prayer</th>\n",
              "    </tr>\n",
              "  </thead>\n",
              "  <tbody>\n",
              "    <tr>\n",
              "      <th>516</th>\n",
              "      <td>NaN</td>\n",
              "      <td>no</td>\n",
              "    </tr>\n",
              "    <tr>\n",
              "      <th>26</th>\n",
              "      <td>NaN</td>\n",
              "      <td>no</td>\n",
              "    </tr>\n",
              "    <tr>\n",
              "      <th>599</th>\n",
              "      <td>This brings us to the commentary on our verse. The Lord G'd was very clever in giving this comma...</td>\n",
              "      <td>no</td>\n",
              "    </tr>\n",
              "  </tbody>\n",
              "</table>\n",
              "</div>"
            ],
            "text/plain": [
              "                                                                                                      En is_prayer\n",
              "516                                                                                                  NaN        no\n",
              "26                                                                                                   NaN        no\n",
              "599  This brings us to the commentary on our verse. The Lord G'd was very clever in giving this comma...        no"
            ]
          },
          "metadata": {
            "tags": []
          },
          "execution_count": 850
        }
      ]
    },
    {
      "cell_type": "code",
      "metadata": {
        "id": "CvkzcPuJJCnC",
        "colab_type": "code",
        "outputId": "b005ade9-c42a-4a31-9059-1869475d4a39",
        "colab": {
          "base_uri": "https://localhost:8080/",
          "height": 195
        }
      },
      "source": [
        "all_prayer_frames = [prayer_df, not_prayer_df]\n",
        "all_prayer_df = pd.concat(all_prayer_frames)\n",
        "all_prayer_df.reset_index(inplace=True)\n",
        "all_prayer_df=all_prayer_df.rename(columns = {'En':'english_text'})\n",
        "\n",
        "\n",
        "# all_prayer_df.style.set_properties({'align': 'right'})\n",
        "\n",
        "# all_prayer_df.tail(3)\n",
        "all_prayer_df.sample(5)\n",
        "# all_prayer_df.loc[[345]]"
      ],
      "execution_count": 851,
      "outputs": [
        {
          "output_type": "execute_result",
          "data": {
            "text/html": [
              "<div>\n",
              "<style scoped>\n",
              "    .dataframe tbody tr th:only-of-type {\n",
              "        vertical-align: middle;\n",
              "    }\n",
              "\n",
              "    .dataframe tbody tr th {\n",
              "        vertical-align: top;\n",
              "    }\n",
              "\n",
              "    .dataframe thead th {\n",
              "        text-align: right;\n",
              "    }\n",
              "</style>\n",
              "<table border=\"1\" class=\"dataframe\">\n",
              "  <thead>\n",
              "    <tr style=\"text-align: right;\">\n",
              "      <th></th>\n",
              "      <th>index</th>\n",
              "      <th>english_text</th>\n",
              "      <th>is_prayer</th>\n",
              "    </tr>\n",
              "  </thead>\n",
              "  <tbody>\n",
              "    <tr>\n",
              "      <th>120</th>\n",
              "      <td>120</td>\n",
              "      <td>The Sages taught: One who goes to measure the grain on his threshing floor recites: May it be Yo...</td>\n",
              "      <td>yes</td>\n",
              "    </tr>\n",
              "    <tr>\n",
              "      <th>1687</th>\n",
              "      <td>635</td>\n",
              "      <td>The verse continues: “Therefore the king was very wrathful, and his anger burned in him” (Esther...</td>\n",
              "      <td>no</td>\n",
              "    </tr>\n",
              "    <tr>\n",
              "      <th>436</th>\n",
              "      <td>436</td>\n",
              "      <td>19. The Rabbi: Common prayer has many advantages. In the first instance a community will never p...</td>\n",
              "      <td>yes</td>\n",
              "    </tr>\n",
              "    <tr>\n",
              "      <th>1637</th>\n",
              "      <td>585</td>\n",
              "      <td>The mishna relates: An incident occurred where such a case came before Rabbi Yishmael, and he sa...</td>\n",
              "      <td>no</td>\n",
              "    </tr>\n",
              "    <tr>\n",
              "      <th>1404</th>\n",
              "      <td>352</td>\n",
              "      <td>Rabbi Yonatan said to him: We have found everywhere in the Torah that the legal status of a pers...</td>\n",
              "      <td>no</td>\n",
              "    </tr>\n",
              "  </tbody>\n",
              "</table>\n",
              "</div>"
            ],
            "text/plain": [
              "      index  ... is_prayer\n",
              "120     120  ...       yes\n",
              "1687    635  ...        no\n",
              "436     436  ...       yes\n",
              "1637    585  ...        no\n",
              "1404    352  ...        no\n",
              "\n",
              "[5 rows x 3 columns]"
            ]
          },
          "metadata": {
            "tags": []
          },
          "execution_count": 851
        }
      ]
    },
    {
      "cell_type": "code",
      "metadata": {
        "id": "gJt5XbHpDDdT",
        "colab_type": "code",
        "outputId": "e96b5bbf-f974-4b84-96e0-3f3705b1373a",
        "colab": {
          "base_uri": "https://localhost:8080/",
          "height": 136
        }
      },
      "source": [
        "del all_prayer_df['index']\n",
        "\n",
        "all_prayer_df.sample(3)"
      ],
      "execution_count": 852,
      "outputs": [
        {
          "output_type": "execute_result",
          "data": {
            "text/html": [
              "<div>\n",
              "<style scoped>\n",
              "    .dataframe tbody tr th:only-of-type {\n",
              "        vertical-align: middle;\n",
              "    }\n",
              "\n",
              "    .dataframe tbody tr th {\n",
              "        vertical-align: top;\n",
              "    }\n",
              "\n",
              "    .dataframe thead th {\n",
              "        text-align: right;\n",
              "    }\n",
              "</style>\n",
              "<table border=\"1\" class=\"dataframe\">\n",
              "  <thead>\n",
              "    <tr style=\"text-align: right;\">\n",
              "      <th></th>\n",
              "      <th>english_text</th>\n",
              "      <th>is_prayer</th>\n",
              "    </tr>\n",
              "  </thead>\n",
              "  <tbody>\n",
              "    <tr>\n",
              "      <th>1895</th>\n",
              "      <td>And ye know that with all my power I have served your father.</td>\n",
              "      <td>no</td>\n",
              "    </tr>\n",
              "    <tr>\n",
              "      <th>1185</th>\n",
              "      <td>And Moses went down from the mount unto the people, and sanctified the people; and they washed t...</td>\n",
              "      <td>no</td>\n",
              "    </tr>\n",
              "    <tr>\n",
              "      <th>1418</th>\n",
              "      <td>NaN</td>\n",
              "      <td>no</td>\n",
              "    </tr>\n",
              "  </tbody>\n",
              "</table>\n",
              "</div>"
            ],
            "text/plain": [
              "                                                                                             english_text is_prayer\n",
              "1895                                        And ye know that with all my power I have served your father.        no\n",
              "1185  And Moses went down from the mount unto the people, and sanctified the people; and they washed t...        no\n",
              "1418                                                                                                  NaN        no"
            ]
          },
          "metadata": {
            "tags": []
          },
          "execution_count": 852
        }
      ]
    },
    {
      "cell_type": "code",
      "metadata": {
        "id": "ZJihXdQuJy7p",
        "colab_type": "code",
        "outputId": "49924564-907d-4b95-caf8-6e73128eb90c",
        "colab": {
          "base_uri": "https://localhost:8080/",
          "height": 101
        }
      },
      "source": [
        "print(\"Before dropping duplicates\",all_prayer_df.shape)\n",
        "all_prayer_df.drop_duplicates(inplace=True)\n",
        "print(\"After dropping duplicates\",all_prayer_df.shape)\n",
        "\n",
        "print(\"\\nNulls before dropping:\",all_prayer_df.isnull().sum()[0])\n",
        "all_prayer_df.dropna(inplace=True)\n",
        "print(\"Nulls after dropping:\",all_prayer_df.isnull().sum()[0])\n",
        "\n",
        "# all_prayer_df.isnull().sum()\n",
        "# all_prayer_df.sample(5)"
      ],
      "execution_count": 853,
      "outputs": [
        {
          "output_type": "stream",
          "text": [
            "Before dropping duplicates (2103, 2)\n",
            "After dropping duplicates (1223, 2)\n",
            "\n",
            "Nulls before dropping: 2\n",
            "Nulls after dropping: 0\n"
          ],
          "name": "stdout"
        }
      ]
    },
    {
      "cell_type": "code",
      "metadata": {
        "colab_type": "code",
        "outputId": "c8fa52a9-11be-47b9-b1b5-a42d43c21e3a",
        "id": "bOYMROhKILvq",
        "colab": {
          "base_uri": "https://localhost:8080/",
          "height": 34
        }
      },
      "source": [
        "shape = all_prayer_df.shape\n",
        "print(f\"{shape[0]} rows and {shape[1]} columns\")"
      ],
      "execution_count": 854,
      "outputs": [
        {
          "output_type": "stream",
          "text": [
            "1221 rows and 2 columns\n"
          ],
          "name": "stdout"
        }
      ]
    },
    {
      "cell_type": "code",
      "metadata": {
        "id": "FTVM9f5lKkBp",
        "colab_type": "code",
        "outputId": "f06f19ce-1cb9-4038-9947-ef7e5b57c34a",
        "colab": {
          "base_uri": "https://localhost:8080/",
          "height": 195
        }
      },
      "source": [
        "all_prayer_df['is_prayer'] = all_prayer_df['is_prayer'].map({'no': 0, 'yes': 1})\n",
        "all_prayer_df.sample(5)"
      ],
      "execution_count": 855,
      "outputs": [
        {
          "output_type": "execute_result",
          "data": {
            "text/html": [
              "<div>\n",
              "<style scoped>\n",
              "    .dataframe tbody tr th:only-of-type {\n",
              "        vertical-align: middle;\n",
              "    }\n",
              "\n",
              "    .dataframe tbody tr th {\n",
              "        vertical-align: top;\n",
              "    }\n",
              "\n",
              "    .dataframe thead th {\n",
              "        text-align: right;\n",
              "    }\n",
              "</style>\n",
              "<table border=\"1\" class=\"dataframe\">\n",
              "  <thead>\n",
              "    <tr style=\"text-align: right;\">\n",
              "      <th></th>\n",
              "      <th>english_text</th>\n",
              "      <th>is_prayer</th>\n",
              "    </tr>\n",
              "  </thead>\n",
              "  <tbody>\n",
              "    <tr>\n",
              "      <th>1465</th>\n",
              "      <td>(1) Sins between man and G-d only. For example, denying the existence of G-d, bad thoughts, bad ...</td>\n",
              "      <td>0</td>\n",
              "    </tr>\n",
              "    <tr>\n",
              "      <th>995</th>\n",
              "      <td>Some teach that this statement was made on a baraita referring to another topic. It was taught i...</td>\n",
              "      <td>1</td>\n",
              "    </tr>\n",
              "    <tr>\n",
              "      <th>1620</th>\n",
              "      <td>Rav Huna said to Rav Ḥisda: This case involving Rabban Gamliel is different, as he admitted to h...</td>\n",
              "      <td>0</td>\n",
              "    </tr>\n",
              "    <tr>\n",
              "      <th>430</th>\n",
              "      <td>And since it is difficult for the mind to remember all of this, it was necessary for our sages t...</td>\n",
              "      <td>1</td>\n",
              "    </tr>\n",
              "    <tr>\n",
              "      <th>1210</th>\n",
              "      <td>And the LORD prepared a great fish to swallow up Jonah; and Jonah was in the belly of the fish t...</td>\n",
              "      <td>0</td>\n",
              "    </tr>\n",
              "  </tbody>\n",
              "</table>\n",
              "</div>"
            ],
            "text/plain": [
              "                                                                                             english_text  is_prayer\n",
              "1465  (1) Sins between man and G-d only. For example, denying the existence of G-d, bad thoughts, bad ...          0\n",
              "995   Some teach that this statement was made on a baraita referring to another topic. It was taught i...          1\n",
              "1620  Rav Huna said to Rav Ḥisda: This case involving Rabban Gamliel is different, as he admitted to h...          0\n",
              "430   And since it is difficult for the mind to remember all of this, it was necessary for our sages t...          1\n",
              "1210  And the LORD prepared a great fish to swallow up Jonah; and Jonah was in the belly of the fish t...          0"
            ]
          },
          "metadata": {
            "tags": []
          },
          "execution_count": 855
        }
      ]
    },
    {
      "cell_type": "code",
      "metadata": {
        "id": "VfdJsX-DGx-j",
        "colab_type": "code",
        "outputId": "1057b301-49a2-4c67-c88c-38717b55f569",
        "colab": {
          "base_uri": "https://localhost:8080/",
          "height": 50
        }
      },
      "source": [
        "print('Prayer:', (all_prayer_df.is_prayer.values == 1).sum())\n",
        "print('Not prayer:', (all_prayer_df.is_prayer.values == 0).sum())"
      ],
      "execution_count": 856,
      "outputs": [
        {
          "output_type": "stream",
          "text": [
            "Prayer: 553\n",
            "Not prayer: 668\n"
          ],
          "name": "stdout"
        }
      ]
    },
    {
      "cell_type": "code",
      "metadata": {
        "id": "t0eM00ODKkF9",
        "colab_type": "code",
        "outputId": "054bbb94-508f-4306-86f1-fd7097755d2a",
        "colab": {
          "base_uri": "https://localhost:8080/",
          "height": 50
        }
      },
      "source": [
        "import re\n",
        "import nltk\n",
        "import string\n",
        "nltk.download('stopwords')\n",
        "from nltk.corpus import stopwords\n",
        "\n",
        "REPLACE_BY_SPACE_RE = re.compile('[/(){}\\[\\]\\|@,;]')\n",
        "\n",
        "# BAD_SYMBOLS_RE = re.compile('[^a-z #+_]')\n",
        "BAD_SYMBOLS_RE = re.compile('[^0-9a-z #+_]')\n",
        "\n",
        "# BAD_SYMBOLS_RE = re.compile('[^0-9a-z #+_ \\b\\d+\\b]')\n",
        "STOPWORDS = set(stopwords.words('english'))\n",
        "\n",
        "def process_text(text):\n",
        "    #  text = BeautifulSoup(text, \"lxml\").text # HTML decoding\n",
        "    text = text.lower() # lowercase text\n",
        "    text = REPLACE_BY_SPACE_RE.sub(' ', text) # replace REPLACE_BY_SPACE_RE symbols by space in text\n",
        "    text = BAD_SYMBOLS_RE.sub('', text) # delete symbols which are in BAD_SYMBOLS_RE from text\n",
        "    text = ' '.join(word for word in text.split() if word not in STOPWORDS) # delete stopwors from text\n",
        "    return text\n",
        "\n",
        "from nltk.stem.snowball import SnowballStemmer\n",
        "\n",
        "stemmer = SnowballStemmer(\"english\")\n",
        "\n",
        "def stemming(sentence):\n",
        "    stemSentence = \"\"\n",
        "    for word in sentence.split():\n",
        "        stem = stemmer.stem(word)\n",
        "        stemSentence += stem\n",
        "        stemSentence += \" \"\n",
        "    stemSentence = stemSentence.strip()\n",
        "    return stemSentence\n",
        "\n",
        "# whitelist = set('abcdefghijklmnopqrstuvwxyz ZXCVBNMASDFGHJKLQWERTYUIOP')\n",
        "# genres['movie_id'] = genres['movie_id'].astype(str)\n",
        "\n",
        "# def process_text(text):\n",
        "#     '''\n",
        "#     1. Keep only letters and spaces\n",
        "#     2. Remove stopwords\n",
        "#     3. Return str of clean text words\n",
        "#     '''\n",
        "#     #1\n",
        "#     chars_str = ''.join(filter(whitelist.__contains__, text))\n",
        "#     #2\n",
        "#     clean_words = [word.lower() for word in chars_str.split() if word.lower() not in stopwords.words('english')]\n",
        "#     #3\n",
        "#     return ' '.join(clean_words)"
      ],
      "execution_count": 885,
      "outputs": [
        {
          "output_type": "stream",
          "text": [
            "[nltk_data] Downloading package stopwords to /root/nltk_data...\n",
            "[nltk_data]   Package stopwords is already up-to-date!\n"
          ],
          "name": "stdout"
        }
      ]
    },
    {
      "cell_type": "code",
      "metadata": {
        "id": "CNQY4EBzKkOj",
        "colab_type": "code",
        "outputId": "71b73905-8175-4d99-aebc-ffa502bd08c9",
        "colab": {
          "base_uri": "https://localhost:8080/",
          "height": 34
        }
      },
      "source": [
        "sample_text = '''aBC.!@#$%^&    c*(בחתו ‎‎‎ או‎ בקרחתו — une...\n",
        "233 the gns: ac ...\n",
        "1041    7. a pien p'''\n",
        "process_text(sample_text)"
      ],
      "execution_count": 886,
      "outputs": [
        {
          "output_type": "execute_result",
          "data": {
            "text/plain": [
              "'abc # c une233 gns ac 1041 7 pien p'"
            ]
          },
          "metadata": {
            "tags": []
          },
          "execution_count": 886
        }
      ]
    },
    {
      "cell_type": "code",
      "metadata": {
        "id": "Pj0D-XrRKkSk",
        "colab_type": "code",
        "outputId": "ad810a14-df89-47d7-f12b-baeb8f00e84c",
        "colab": {
          "base_uri": "https://localhost:8080/",
          "height": 195
        }
      },
      "source": [
        "all_prayer_df.sample(5)"
      ],
      "execution_count": 887,
      "outputs": [
        {
          "output_type": "execute_result",
          "data": {
            "text/html": [
              "<div>\n",
              "<style scoped>\n",
              "    .dataframe tbody tr th:only-of-type {\n",
              "        vertical-align: middle;\n",
              "    }\n",
              "\n",
              "    .dataframe tbody tr th {\n",
              "        vertical-align: top;\n",
              "    }\n",
              "\n",
              "    .dataframe thead th {\n",
              "        text-align: right;\n",
              "    }\n",
              "</style>\n",
              "<table border=\"1\" class=\"dataframe\">\n",
              "  <thead>\n",
              "    <tr style=\"text-align: right;\">\n",
              "      <th></th>\n",
              "      <th>english_text</th>\n",
              "      <th>is_prayer</th>\n",
              "    </tr>\n",
              "  </thead>\n",
              "  <tbody>\n",
              "    <tr>\n",
              "      <th>1960</th>\n",
              "      <td>gemara respond shmuel could said said even accord opinion rabbi akiva rabbi akiva state opinion ...</td>\n",
              "      <td>0</td>\n",
              "    </tr>\n",
              "    <tr>\n",
              "      <th>551</th>\n",
              "      <td>gemara ask one realli say discredit loud voic didnt rabbi yoanan say name rabbi shimon bar yoai ...</td>\n",
              "      <td>1</td>\n",
              "    </tr>\n",
              "    <tr>\n",
              "      <th>150</th>\n",
              "      <td>refus said unto master wife gen scriptur state elsewh refer ver bless man trusteth lord jer find...</td>\n",
              "      <td>1</td>\n",
              "    </tr>\n",
              "    <tr>\n",
              "      <th>1607</th>\n",
              "      <td>mishna one saw peopl run found ownerless anim eg deer crippl broken leg young pigeon yet learn f...</td>\n",
              "      <td>0</td>\n",
              "    </tr>\n",
              "    <tr>\n",
              "      <th>1358</th>\n",
              "      <td>thou shalt follow multitud evil neither shalt thou bear wit caus turn asid multitud pervert justic</td>\n",
              "      <td>0</td>\n",
              "    </tr>\n",
              "  </tbody>\n",
              "</table>\n",
              "</div>"
            ],
            "text/plain": [
              "                                                                                             english_text  is_prayer\n",
              "1960  gemara respond shmuel could said said even accord opinion rabbi akiva rabbi akiva state opinion ...          0\n",
              "551   gemara ask one realli say discredit loud voic didnt rabbi yoanan say name rabbi shimon bar yoai ...          1\n",
              "150   refus said unto master wife gen scriptur state elsewh refer ver bless man trusteth lord jer find...          1\n",
              "1607  mishna one saw peopl run found ownerless anim eg deer crippl broken leg young pigeon yet learn f...          0\n",
              "1358   thou shalt follow multitud evil neither shalt thou bear wit caus turn asid multitud pervert justic          0"
            ]
          },
          "metadata": {
            "tags": []
          },
          "execution_count": 887
        }
      ]
    },
    {
      "cell_type": "code",
      "metadata": {
        "id": "10Z1Naa5GLN5",
        "colab_type": "code",
        "colab": {
          "base_uri": "https://localhost:8080/",
          "height": 195
        },
        "outputId": "8d3cf828-90ad-4134-be26-aedc1969ebc9"
      },
      "source": [
        "processed_df = all_prayer_df\n",
        "processed_df['english_text'] = processed_df['english_text'].apply(process_text)\n",
        "processed_df.head(5)"
      ],
      "execution_count": 888,
      "outputs": [
        {
          "output_type": "execute_result",
          "data": {
            "text/html": [
              "<div>\n",
              "<style scoped>\n",
              "    .dataframe tbody tr th:only-of-type {\n",
              "        vertical-align: middle;\n",
              "    }\n",
              "\n",
              "    .dataframe tbody tr th {\n",
              "        vertical-align: top;\n",
              "    }\n",
              "\n",
              "    .dataframe thead th {\n",
              "        text-align: right;\n",
              "    }\n",
              "</style>\n",
              "<table border=\"1\" class=\"dataframe\">\n",
              "  <thead>\n",
              "    <tr style=\"text-align: right;\">\n",
              "      <th></th>\n",
              "      <th>english_text</th>\n",
              "      <th>is_prayer</th>\n",
              "    </tr>\n",
              "  </thead>\n",
              "  <tbody>\n",
              "    <tr>\n",
              "      <th>0</th>\n",
              "      <td>anoth abba binyamin statement regard law prayer taught baraita abba binyamin say two peopl enter...</td>\n",
              "      <td>1</td>\n",
              "    </tr>\n",
              "    <tr>\n",
              "      <th>1</th>\n",
              "      <td>taught baraita abba binyamin said one prayer fulli heard synagogu state regard king solomon pray...</td>\n",
              "      <td>1</td>\n",
              "    </tr>\n",
              "    <tr>\n",
              "      <th>2</th>\n",
              "      <td>addit ravin bar rav adda said rabbi yitzak said one accustom come synagogu come one day holi one...</td>\n",
              "      <td>1</td>\n",
              "    </tr>\n",
              "    <tr>\n",
              "      <th>3</th>\n",
              "      <td>similar taught baraita rabbi yishmael ben elisha high priest said yom kippur enter innermost san...</td>\n",
              "      <td>1</td>\n",
              "    </tr>\n",
              "    <tr>\n",
              "      <th>4</th>\n",
              "      <td>mean written let prayer unto lord time favor god abund merci answer truth salvat psalm appear in...</td>\n",
              "      <td>1</td>\n",
              "    </tr>\n",
              "  </tbody>\n",
              "</table>\n",
              "</div>"
            ],
            "text/plain": [
              "                                                                                          english_text  is_prayer\n",
              "0  anoth abba binyamin statement regard law prayer taught baraita abba binyamin say two peopl enter...          1\n",
              "1  taught baraita abba binyamin said one prayer fulli heard synagogu state regard king solomon pray...          1\n",
              "2  addit ravin bar rav adda said rabbi yitzak said one accustom come synagogu come one day holi one...          1\n",
              "3  similar taught baraita rabbi yishmael ben elisha high priest said yom kippur enter innermost san...          1\n",
              "4  mean written let prayer unto lord time favor god abund merci answer truth salvat psalm appear in...          1"
            ]
          },
          "metadata": {
            "tags": []
          },
          "execution_count": 888
        }
      ]
    },
    {
      "cell_type": "code",
      "metadata": {
        "id": "9Oj4-qeRGGXm",
        "colab_type": "code",
        "colab": {
          "base_uri": "https://localhost:8080/",
          "height": 195
        },
        "outputId": "6f8b9d60-21da-4365-b8de-0799848f29fe"
      },
      "source": [
        "# all_prayer_df['En'] = all_prayer_df['En'].apply(stemming)\n",
        "# all_prayer_df.head()\n",
        "stemmed_df = processed_df\n",
        "stemmed_df['english_text'] = stemmed_df['english_text'].apply(stemming)\n",
        "stemmed_df.head()"
      ],
      "execution_count": 889,
      "outputs": [
        {
          "output_type": "execute_result",
          "data": {
            "text/html": [
              "<div>\n",
              "<style scoped>\n",
              "    .dataframe tbody tr th:only-of-type {\n",
              "        vertical-align: middle;\n",
              "    }\n",
              "\n",
              "    .dataframe tbody tr th {\n",
              "        vertical-align: top;\n",
              "    }\n",
              "\n",
              "    .dataframe thead th {\n",
              "        text-align: right;\n",
              "    }\n",
              "</style>\n",
              "<table border=\"1\" class=\"dataframe\">\n",
              "  <thead>\n",
              "    <tr style=\"text-align: right;\">\n",
              "      <th></th>\n",
              "      <th>english_text</th>\n",
              "      <th>is_prayer</th>\n",
              "    </tr>\n",
              "  </thead>\n",
              "  <tbody>\n",
              "    <tr>\n",
              "      <th>0</th>\n",
              "      <td>anoth abba binyamin statement regard law prayer taught baraita abba binyamin say two peopl enter...</td>\n",
              "      <td>1</td>\n",
              "    </tr>\n",
              "    <tr>\n",
              "      <th>1</th>\n",
              "      <td>taught baraita abba binyamin said one prayer fulli heard synagogu state regard king solomon pray...</td>\n",
              "      <td>1</td>\n",
              "    </tr>\n",
              "    <tr>\n",
              "      <th>2</th>\n",
              "      <td>addit ravin bar rav adda said rabbi yitzak said one accustom come synagogu come one day holi one...</td>\n",
              "      <td>1</td>\n",
              "    </tr>\n",
              "    <tr>\n",
              "      <th>3</th>\n",
              "      <td>similar taught baraita rabbi yishmael ben elisha high priest said yom kippur enter innermost san...</td>\n",
              "      <td>1</td>\n",
              "    </tr>\n",
              "    <tr>\n",
              "      <th>4</th>\n",
              "      <td>mean written let prayer unto lord time favor god abund merci answer truth salvat psalm appear in...</td>\n",
              "      <td>1</td>\n",
              "    </tr>\n",
              "  </tbody>\n",
              "</table>\n",
              "</div>"
            ],
            "text/plain": [
              "                                                                                          english_text  is_prayer\n",
              "0  anoth abba binyamin statement regard law prayer taught baraita abba binyamin say two peopl enter...          1\n",
              "1  taught baraita abba binyamin said one prayer fulli heard synagogu state regard king solomon pray...          1\n",
              "2  addit ravin bar rav adda said rabbi yitzak said one accustom come synagogu come one day holi one...          1\n",
              "3  similar taught baraita rabbi yishmael ben elisha high priest said yom kippur enter innermost san...          1\n",
              "4  mean written let prayer unto lord time favor god abund merci answer truth salvat psalm appear in...          1"
            ]
          },
          "metadata": {
            "tags": []
          },
          "execution_count": 889
        }
      ]
    },
    {
      "cell_type": "code",
      "metadata": {
        "id": "CCdshXlYKka3",
        "colab_type": "code",
        "colab": {}
      },
      "source": [
        "# from wordcloud import WordCloud\n",
        "# import matplotlib.pyplot as plt\n",
        "\n",
        "# prayer_words = ' '.join(list(all_prayer_df[stemmed_df['is_prayer'] == 1]['En']))\n",
        "# prayer_wc = WordCloud(width = 512,height = 512).generate(prayer_words)\n",
        "# plt.figure(figsize = (10, 8), facecolor = 'k')\n",
        "# plt.imshow(prayer_wc)\n",
        "# plt.axis('off')\n",
        "# plt.tight_layout(pad = 0)\n",
        "# plt.show()"
      ],
      "execution_count": 0,
      "outputs": []
    },
    {
      "cell_type": "code",
      "metadata": {
        "id": "KBWTtiYTKkX4",
        "colab_type": "code",
        "colab": {}
      },
      "source": [
        "# not_prayer_words = ' '.join(list(all_prayer_df[all_prayer_df['is_prayer'] == 0]['En']))\n",
        "# not_prayer_wc = WordCloud(width = 512,height = 512).generate(not_prayer_words)\n",
        "# plt.figure(figsize = (10, 8), facecolor = 'k')\n",
        "# plt.imshow(not_prayer_wc)\n",
        "# plt.axis('off')\n",
        "# plt.tight_layout(pad = 0)\n",
        "# plt.show()"
      ],
      "execution_count": 0,
      "outputs": []
    },
    {
      "cell_type": "code",
      "metadata": {
        "id": "YOt4N48JrrUY",
        "colab_type": "code",
        "outputId": "72b4c2be-71bb-4df1-ac27-fb203fa852a0",
        "colab": {
          "base_uri": "https://localhost:8080/",
          "height": 101
        }
      },
      "source": [
        "df = stemmed_df\n",
        "X = df.english_text\n",
        "y = df.is_prayer\n",
        "print(f\"Totals: {X.shape} / {y.shape}\")\n",
        "\n",
        "from sklearn.model_selection import train_test_split\n",
        "\n",
        "# train, test = train_test_split(movies, random_state=42, test_size=0.30, shuffle=True)\n",
        "\n",
        "X_train, X_test, y_train, y_test = train_test_split(X, y, random_state=56, test_size=0.20, shuffle=True)\n",
        "\n",
        "print(f\"\\nTrain: {X_train.shape} / {y_train.shape}\")\n",
        "\n",
        "print(f\"\\nTest: {X_test.shape} / {y_test.shape}\")"
      ],
      "execution_count": 892,
      "outputs": [
        {
          "output_type": "stream",
          "text": [
            "Totals: (1221,) / (1221,)\n",
            "\n",
            "Train: (976,) / (976,)\n",
            "\n",
            "Test: (245,) / (245,)\n"
          ],
          "name": "stdout"
        }
      ]
    },
    {
      "cell_type": "code",
      "metadata": {
        "id": "15UcywD9TTjJ",
        "colab_type": "code",
        "colab": {}
      },
      "source": [
        "# Convert a collection of text documents to a matrix of token counts\n",
        "\n",
        "from sklearn.feature_extraction.text import CountVectorizer, HashingVectorizer, TfidfVectorizer\n",
        "\n",
        "# vectorizer = CountVectorizer(analyzer=process_text)\n",
        "# vectorizer = CountVectorizer(ngram_range=(2, 4))\n",
        "# vectorizer = HashingVectorizer(ngram_range=(2, 4),alternate_sign=False)\n",
        "vectorizer = TfidfVectorizer(\n",
        "    # strip_accents='unicode', \n",
        "    # analyzer='word', \n",
        "    ngram_range=(1,3), \n",
        "    # norm='l2', \n",
        "    # max_features = 15000\n",
        "    # max_features = 12000\n",
        "    max_features = 10000\n",
        "    # max_features = 8000\n",
        "    # max_features = 5000\n",
        "    )\n",
        "\n",
        "# vectorizer = TfidfVectorizer(ngram_range=(2, 4))\n",
        "# vectorizer.fit(X_train)\n",
        "# vectorizer.get_feature_names()\n"
      ],
      "execution_count": 0,
      "outputs": []
    },
    {
      "cell_type": "code",
      "metadata": {
        "id": "0o4gM0z6Iz0n",
        "colab_type": "code",
        "outputId": "07244af5-31c7-4435-a2c4-469aaac7c8ee",
        "colab": {
          "base_uri": "https://localhost:8080/",
          "height": 67
        }
      },
      "source": [
        "print(\"Shape of document term matrix\")\n",
        "\n",
        "# X_train_dtm = vectorizer.transform(X_train)\n",
        "X_train_dtm = vectorizer.fit_transform(X_train)\n",
        "print(f\"Train: {X_train_dtm.shape}\")\n",
        "\n",
        "# prayer_bag_of_words = vectorizer.fit_transform(all_prayer_df['En'])\n",
        "X_test_dtm = vectorizer.transform(X_test)\n",
        "print(f\"Test: {X_test_dtm.shape}\")\n"
      ],
      "execution_count": 924,
      "outputs": [
        {
          "output_type": "stream",
          "text": [
            "Shape of document term matrix\n",
            "Train: (976, 10000)\n",
            "Test: (245, 10000)\n"
          ],
          "name": "stdout"
        }
      ]
    },
    {
      "cell_type": "code",
      "metadata": {
        "id": "OxFuBppqB2R4",
        "colab_type": "code",
        "colab": {}
      },
      "source": [
        "\n",
        "# print(vectorizer.get_feature_names())\n"
      ],
      "execution_count": 0,
      "outputs": []
    },
    {
      "cell_type": "code",
      "metadata": {
        "id": "CD23HO1xqi66",
        "colab_type": "code",
        "outputId": "3bc15dad-d1b9-4496-bf43-ba68c7a6929a",
        "colab": {
          "base_uri": "https://localhost:8080/",
          "height": 319
        }
      },
      "source": [
        "from sklearn.naive_bayes import MultinomialNB, GaussianNB, BernoulliNB, ComplementNB\n",
        "\n",
        "classifier = MultinomialNB()\n",
        "# classifier = ComplementNB()\n",
        "\n",
        "# for Gaussian need array format\n",
        "# X_train = X_train.toarray()\n",
        "# X_test = X_test.toarray()\n",
        "# classifier = GaussianNB()\n",
        "# classifier = BernoulliNB()\n",
        "\n",
        "%time classifier.fit(X_train_dtm, y_train)\n",
        "y_pred_class = classifier.predict(X_test_dtm)\n",
        "from sklearn import metrics\n",
        "\n",
        "print(f\"\\nBreakdown:\\n{y_test.value_counts()[0]} non-prayer (0), and\\n{y_test.value_counts()[1]} prayer (1)\")\n",
        "\n",
        "null_accuracy = y_test.value_counts().head(1) / len(y_test)\n",
        "print(f'\\nNull accuracy: {null_accuracy[0]}')\n",
        "\n",
        "non_prayer_passages = y_test.value_counts()[0]\n",
        "prayer_passages = y_test.value_counts()[1]\n",
        "print('Manual null accuracy:',(prayer_passages / (prayer_passages + non_prayer_passages)))\n",
        "\n",
        "print('\\nAccuracy:',round(metrics.accuracy_score(y_test, y_pred_class),2))\n",
        "print('Precision:',round(metrics.precision_score(y_test, y_pred_class),2))\n",
        "print('Recall:',round(metrics.recall_score(y_test, y_pred_class),2))\n",
        "print('F1 score:',round(metrics.f1_score(y_test, y_pred_class),2))\n",
        "\n",
        "print(\"\\nConfusion Matrix:\")\n",
        "print(metrics.confusion_matrix(y_test, y_pred_class))"
      ],
      "execution_count": 926,
      "outputs": [
        {
          "output_type": "stream",
          "text": [
            "CPU times: user 2.38 ms, sys: 18 µs, total: 2.4 ms\n",
            "Wall time: 2.43 ms\n",
            "\n",
            "Breakdown:\n",
            "125 non-prayer (0), and\n",
            "120 prayer (1)\n",
            "\n",
            "Null accuracy: 0.5102040816326531\n",
            "Manual null accuracy: 0.4897959183673469\n",
            "\n",
            "Accuracy: 0.85\n",
            "Precision: 0.84\n",
            "Recall: 0.86\n",
            "F1 score: 0.85\n",
            "\n",
            "Confusion Matrix:\n",
            "[[106  19]\n",
            " [ 17 103]]\n"
          ],
          "name": "stdout"
        }
      ]
    },
    {
      "cell_type": "code",
      "metadata": {
        "id": "5YfNWBAA0RIa",
        "colab_type": "code",
        "outputId": "72c44d28-9873-44cb-c4c1-6c36c22131ec",
        "colab": {
          "base_uri": "https://localhost:8080/",
          "height": 487
        }
      },
      "source": [
        "TP = X_test[y_pred_class + y_test == 2]\n",
        "TN = X_test[y_pred_class + y_test == 0]\n",
        "FP = X_test[y_pred_class > y_test]\n",
        "FN = X_test[y_pred_class < y_test]\n",
        "\n",
        "pd.options.display.max_colwidth = 100\n",
        "\n",
        "# pd.style.set_properties(**{'text-align': 'left'})\n",
        "\n",
        "# print(\"\\n*** TP ***\")\n",
        "# print(TP.sample(5))\n",
        "# print(\"\\n*** TN ***\")\n",
        "# print(TN.sample(5))\n",
        "print(\"*** False Positives: Actually NOT prayer, but misclassified as prayer ***\\n\")\n",
        "print(FP.sample(10))\n",
        "print(\"\\n\\n*** False Negatives: Actually prayer, but misclassified as NOT prayer ***\\n\")\n",
        "print(FN.sample(10))"
      ],
      "execution_count": 927,
      "outputs": [
        {
          "output_type": "stream",
          "text": [
            "*** False Positives: Actually NOT prayer, but misclassified as prayer ***\n",
            "\n",
            "1644    philosoph ethic instruct passag torah acquaint us marvel characterist gd reluct interf man free ...\n",
            "1479                                                               make mountain way highway shall rai high\n",
            "1408    name rav rabbi yehuda said futur holi one bless rejoic righteous let shechinah dwell among every...\n",
            "1120                                             rabbi iyya bar abba said rabbi yoanan said one brother die\n",
            "1210                            lord prepar great fish swallow jonah jonah belli fish three day three night\n",
            "1256                                                          fal balanc abomin lord perfect weight delight\n",
            "1144                                                                        bless god eaten whose good live\n",
            "1071                                  shall know lord god brought forth land egypt may dwell among lord god\n",
            "1571    gone citi yet far joseph said unto steward follow men thou dost overtak say unto wherefor ye rew...\n",
            "1874    leav us pray thee word express entreati mean beg leav usin order peopl say jethro becom proselyt...\n",
            "Name: english_text, dtype: object\n",
            "\n",
            "\n",
            "*** False Negatives: Actually prayer, but misclassified as NOT prayer ***\n",
            "\n",
            "927    verb mean number return search land translat therefor ye shall search heart heart eye spi bodi a...\n",
            "530    gemara rai object baraita explain public engag prayer drought baraita teach regard type calam br...\n",
            "162    rabbi yose ben kisma said walk way man met greet greet said rabbi said great citi sage scribe sa...\n",
            "123    baraita continu script fact chang realiz mean phrase second mishn torah deuteronomi serv teach h...\n",
            "935    bless produc fruit tree one say creat fruit tree except wine one say creat fruit vine produc gro...\n",
            "401    proof found case man die buri grave elisha bone elisha suffici power bring back life come contac...\n",
            "526    gemara explain peopl see tree pray merci taught baraita regard ver leper plagu cloth shall rip h...\n",
            "523    rav naman said may receiv reward fulfil oblig eat three meal shabbat magnif rav yehuda said may ...\n",
            "26     gemara mishna teach one replac communal prayer leader er middl amida prayer refus approach gemar...\n",
            "41     mishna incid discuss requir intent sound shofar mishna cite ver came pass mose held hand israel ...\n",
            "Name: english_text, dtype: object\n"
          ],
          "name": "stdout"
        }
      ]
    },
    {
      "cell_type": "code",
      "metadata": {
        "id": "-uC5Qrl5x1hI",
        "colab_type": "code",
        "colab": {}
      },
      "source": [
        "# FP.to_csv('FP', sep='\\t', encoding='utf-8')\n",
        "# FN.to_csv('FN', sep='\\t', encoding='utf-8')\n"
      ],
      "execution_count": 0,
      "outputs": []
    },
    {
      "cell_type": "code",
      "metadata": {
        "id": "hrVYv3ETLjsJ",
        "colab_type": "code",
        "colab": {}
      },
      "source": [
        ""
      ],
      "execution_count": 0,
      "outputs": []
    }
  ]
}