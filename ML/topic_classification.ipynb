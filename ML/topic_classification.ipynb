{
  "nbformat": 4,
  "nbformat_minor": 0,
  "metadata": {
    "colab": {
      "name": "topic_classification.ipynb",
      "provenance": [],
      "collapsed_sections": [],
      "authorship_tag": "ABX9TyMHEk5iJ8iBRowgY5XPuRAK",
      "include_colab_link": true
    },
    "kernelspec": {
      "name": "python3",
      "display_name": "Python 3"
    }
  },
  "cells": [
    {
      "cell_type": "markdown",
      "metadata": {
        "id": "view-in-github",
        "colab_type": "text"
      },
      "source": [
        "<a href=\"https://colab.research.google.com/github/yishairasowsky/Sefaria-Project/blob/master/ML/topic_classification.ipynb\" target=\"_parent\"><img src=\"https://colab.research.google.com/assets/colab-badge.svg\" alt=\"Open In Colab\"/></a>"
      ]
    },
    {
      "cell_type": "code",
      "metadata": {
        "id": "996XuOF9zQp3",
        "colab_type": "code",
        "colab": {}
      },
      "source": [
        "import numpy as np \n",
        "import pandas as pd"
      ],
      "execution_count": 0,
      "outputs": []
    },
    {
      "cell_type": "code",
      "metadata": {
        "id": "_GJq4lAIzY4K",
        "colab_type": "code",
        "colab": {}
      },
      "source": [
        "prayer_df = pd.read_csv('/content/prayer-sources.csv', \n",
        "                        # encoding=\"latin-1\"\n",
        "                        encoding=\"utf-8\"\n",
        "                        )\n",
        "# not_prayer_df = pd.read_csv('/content/not-prayer-sources.csv', \n",
        "not_prayer_df = pd.read_csv('/content/not-prayer-sources-more.csv', \n",
        "                            # encoding=\"latin-1\"\n",
        "                              encoding=\"utf-8\"\n",
        "                            )"
      ],
      "execution_count": 0,
      "outputs": []
    },
    {
      "cell_type": "code",
      "metadata": {
        "id": "AZD4yqQuakdQ",
        "colab_type": "code",
        "outputId": "e4987d49-260b-4075-c94d-b7ffa281e623",
        "colab": {
          "base_uri": "https://localhost:8080/",
          "height": 138
        }
      },
      "source": [
        "prayer_df.sample(3)"
      ],
      "execution_count": 54,
      "outputs": [
        {
          "output_type": "execute_result",
          "data": {
            "text/html": [
              "<div>\n",
              "<style scoped>\n",
              "    .dataframe tbody tr th:only-of-type {\n",
              "        vertical-align: middle;\n",
              "    }\n",
              "\n",
              "    .dataframe tbody tr th {\n",
              "        vertical-align: top;\n",
              "    }\n",
              "\n",
              "    .dataframe thead th {\n",
              "        text-align: right;\n",
              "    }\n",
              "</style>\n",
              "<table border=\"1\" class=\"dataframe\">\n",
              "  <thead>\n",
              "    <tr style=\"text-align: right;\">\n",
              "      <th></th>\n",
              "      <th>Ref</th>\n",
              "      <th>En</th>\n",
              "      <th>He</th>\n",
              "    </tr>\n",
              "  </thead>\n",
              "  <tbody>\n",
              "    <tr>\n",
              "      <th>484</th>\n",
              "      <td>Berakhot 28b:3</td>\n",
              "      <td>MISHNA: In addition to the halakhot relating t...</td>\n",
              "      <td>מַתְנִי׳ רַבִּי נְחוּנְיָא בֶּן הַקָּנָה הָיָה...</td>\n",
              "    </tr>\n",
              "    <tr>\n",
              "      <th>34</th>\n",
              "      <td>Berakhot 60a:20-23</td>\n",
              "      <td>The Sages taught the details of Ben Azzai’s te...</td>\n",
              "      <td>תָּנוּ רַבָּנַן: בִּכְנִיסָתוֹ מַהוּ אוֹמֵר? —...</td>\n",
              "    </tr>\n",
              "    <tr>\n",
              "      <th>684</th>\n",
              "      <td>Rosh Hashanah 35a:7-8</td>\n",
              "      <td>§ Rabbi Elazar said: A person should always ar...</td>\n",
              "      <td>אמר ר\"א לעולם יסדיר אדם תפלתו ואח\"כ יתפלל אמר ...</td>\n",
              "    </tr>\n",
              "  </tbody>\n",
              "</table>\n",
              "</div>"
            ],
            "text/plain": [
              "                       Ref  ...                                                 He\n",
              "484         Berakhot 28b:3  ...  מַתְנִי׳ רַבִּי נְחוּנְיָא בֶּן הַקָּנָה הָיָה...\n",
              "34      Berakhot 60a:20-23  ...  תָּנוּ רַבָּנַן: בִּכְנִיסָתוֹ מַהוּ אוֹמֵר? —...\n",
              "684  Rosh Hashanah 35a:7-8  ...  אמר ר\"א לעולם יסדיר אדם תפלתו ואח\"כ יתפלל אמר ...\n",
              "\n",
              "[3 rows x 3 columns]"
            ]
          },
          "metadata": {
            "tags": []
          },
          "execution_count": 54
        }
      ]
    },
    {
      "cell_type": "code",
      "metadata": {
        "id": "fODCiUmOzeOo",
        "colab_type": "code",
        "outputId": "c6eb9717-9f44-444e-9c35-0da151aae795",
        "colab": {
          "base_uri": "https://localhost:8080/",
          "height": 138
        }
      },
      "source": [
        "prayer_df['is_prayer'] = 'yes'\n",
        "prayer_df = prayer_df[['En','is_prayer']]\n",
        "\n",
        "prayer_df.tail(3)"
      ],
      "execution_count": 55,
      "outputs": [
        {
          "output_type": "execute_result",
          "data": {
            "text/html": [
              "<div>\n",
              "<style scoped>\n",
              "    .dataframe tbody tr th:only-of-type {\n",
              "        vertical-align: middle;\n",
              "    }\n",
              "\n",
              "    .dataframe tbody tr th {\n",
              "        vertical-align: top;\n",
              "    }\n",
              "\n",
              "    .dataframe thead th {\n",
              "        text-align: right;\n",
              "    }\n",
              "</style>\n",
              "<table border=\"1\" class=\"dataframe\">\n",
              "  <thead>\n",
              "    <tr style=\"text-align: right;\">\n",
              "      <th></th>\n",
              "      <th>En</th>\n",
              "      <th>is_prayer</th>\n",
              "    </tr>\n",
              "  </thead>\n",
              "  <tbody>\n",
              "    <tr>\n",
              "      <th>1049</th>\n",
              "      <td>It is true that you are the one who judges, an...</td>\n",
              "      <td>yes</td>\n",
              "    </tr>\n",
              "    <tr>\n",
              "      <th>1050</th>\n",
              "      <td>In these Berachot (blessings) we bow down: the...</td>\n",
              "      <td>yes</td>\n",
              "    </tr>\n",
              "    <tr>\n",
              "      <th>1051</th>\n",
              "      <td>On seeds he says [the Beracha (blessing)] Bore...</td>\n",
              "      <td>yes</td>\n",
              "    </tr>\n",
              "  </tbody>\n",
              "</table>\n",
              "</div>"
            ],
            "text/plain": [
              "                                                     En is_prayer\n",
              "1049  It is true that you are the one who judges, an...       yes\n",
              "1050  In these Berachot (blessings) we bow down: the...       yes\n",
              "1051  On seeds he says [the Beracha (blessing)] Bore...       yes"
            ]
          },
          "metadata": {
            "tags": []
          },
          "execution_count": 55
        }
      ]
    },
    {
      "cell_type": "code",
      "metadata": {
        "id": "ajQQYcXAbCPy",
        "colab_type": "code",
        "outputId": "5e036dcf-44f3-41fb-e053-760bfe608293",
        "colab": {
          "base_uri": "https://localhost:8080/",
          "height": 173
        }
      },
      "source": [
        "not_prayer_df.sample(3)"
      ],
      "execution_count": 56,
      "outputs": [
        {
          "output_type": "execute_result",
          "data": {
            "text/html": [
              "<div>\n",
              "<style scoped>\n",
              "    .dataframe tbody tr th:only-of-type {\n",
              "        vertical-align: middle;\n",
              "    }\n",
              "\n",
              "    .dataframe tbody tr th {\n",
              "        vertical-align: top;\n",
              "    }\n",
              "\n",
              "    .dataframe thead th {\n",
              "        text-align: right;\n",
              "    }\n",
              "</style>\n",
              "<table border=\"1\" class=\"dataframe\">\n",
              "  <thead>\n",
              "    <tr style=\"text-align: right;\">\n",
              "      <th></th>\n",
              "      <th>Ref</th>\n",
              "      <th>En</th>\n",
              "      <th>He</th>\n",
              "      <th>Topics</th>\n",
              "    </tr>\n",
              "  </thead>\n",
              "  <tbody>\n",
              "    <tr>\n",
              "      <th>9283</th>\n",
              "      <td>Bava Metzia 112a:12</td>\n",
              "      <td>The Gemara suggests: Let us say that the follo...</td>\n",
              "      <td>נימא מסייעא ליה הנותן טליתו לאומן גמרה והודיעו...</td>\n",
              "      <td>laws-of-engagement-of-workers|procedures-for-j...</td>\n",
              "    </tr>\n",
              "    <tr>\n",
              "      <th>1566</th>\n",
              "      <td>Bekhorot 36b:14</td>\n",
              "      <td>GEMARA: What is the reason that even the owner...</td>\n",
              "      <td>גמ׳ מ\"ט דאי בעי שדי ביה מומא מעיקרא מי ידע הי ...</td>\n",
              "      <td>laws-of-judges-and-courts</td>\n",
              "    </tr>\n",
              "    <tr>\n",
              "      <th>3916</th>\n",
              "      <td>Zohar 1:7a:3</td>\n",
              "      <td>3. Rabbi Elazar said, \"O, how great is Your go...</td>\n",
              "      <td>פָּתַח רִבִּי אֶלְעָזָר (ל''א ב', מ''ו א', י''...</td>\n",
              "      <td>cecum</td>\n",
              "    </tr>\n",
              "  </tbody>\n",
              "</table>\n",
              "</div>"
            ],
            "text/plain": [
              "                      Ref  ...                                             Topics\n",
              "9283  Bava Metzia 112a:12  ...  laws-of-engagement-of-workers|procedures-for-j...\n",
              "1566      Bekhorot 36b:14  ...                          laws-of-judges-and-courts\n",
              "3916         Zohar 1:7a:3  ...                                              cecum\n",
              "\n",
              "[3 rows x 4 columns]"
            ]
          },
          "metadata": {
            "tags": []
          },
          "execution_count": 56
        }
      ]
    },
    {
      "cell_type": "code",
      "metadata": {
        "id": "K0hGDwWFD5qC",
        "colab_type": "code",
        "outputId": "ef9d23b7-a1b2-4ea7-c772-dc1796215aba",
        "colab": {
          "base_uri": "https://localhost:8080/",
          "height": 138
        }
      },
      "source": [
        "not_prayer_df['is_prayer'] = 'no'\n",
        "not_prayer_df = not_prayer_df[['En','is_prayer']]\n",
        "not_prayer_df.sample(3)"
      ],
      "execution_count": 57,
      "outputs": [
        {
          "output_type": "execute_result",
          "data": {
            "text/html": [
              "<div>\n",
              "<style scoped>\n",
              "    .dataframe tbody tr th:only-of-type {\n",
              "        vertical-align: middle;\n",
              "    }\n",
              "\n",
              "    .dataframe tbody tr th {\n",
              "        vertical-align: top;\n",
              "    }\n",
              "\n",
              "    .dataframe thead th {\n",
              "        text-align: right;\n",
              "    }\n",
              "</style>\n",
              "<table border=\"1\" class=\"dataframe\">\n",
              "  <thead>\n",
              "    <tr style=\"text-align: right;\">\n",
              "      <th></th>\n",
              "      <th>En</th>\n",
              "      <th>is_prayer</th>\n",
              "    </tr>\n",
              "  </thead>\n",
              "  <tbody>\n",
              "    <tr>\n",
              "      <th>8836</th>\n",
              "      <td>NaN</td>\n",
              "      <td>no</td>\n",
              "    </tr>\n",
              "    <tr>\n",
              "      <th>5672</th>\n",
              "      <td>The yavam is forbidden to marry any of the rel...</td>\n",
              "      <td>no</td>\n",
              "    </tr>\n",
              "    <tr>\n",
              "      <th>9077</th>\n",
              "      <td>The mishna cites another custom related to Pas...</td>\n",
              "      <td>no</td>\n",
              "    </tr>\n",
              "  </tbody>\n",
              "</table>\n",
              "</div>"
            ],
            "text/plain": [
              "                                                     En is_prayer\n",
              "8836                                                NaN        no\n",
              "5672  The yavam is forbidden to marry any of the rel...        no\n",
              "9077  The mishna cites another custom related to Pas...        no"
            ]
          },
          "metadata": {
            "tags": []
          },
          "execution_count": 57
        }
      ]
    },
    {
      "cell_type": "code",
      "metadata": {
        "id": "CvkzcPuJJCnC",
        "colab_type": "code",
        "outputId": "42d20999-b4cb-4bb9-d85c-a00196bfd5ac",
        "colab": {
          "base_uri": "https://localhost:8080/",
          "height": 198
        }
      },
      "source": [
        "all_prayer_frames = [prayer_df, not_prayer_df]\n",
        "all_prayer_df = pd.concat(all_prayer_frames)\n",
        "all_prayer_df.reset_index(inplace=True)\n",
        "all_prayer_df=all_prayer_df.rename(columns = {'En':'english_text'})\n",
        "\n",
        "\n",
        "# all_prayer_df.style.set_properties({'align': 'right'})\n",
        "\n",
        "# all_prayer_df.tail(3)\n",
        "all_prayer_df.sample(5)\n",
        "# all_prayer_df.loc[[345]]"
      ],
      "execution_count": 58,
      "outputs": [
        {
          "output_type": "execute_result",
          "data": {
            "text/html": [
              "<div>\n",
              "<style scoped>\n",
              "    .dataframe tbody tr th:only-of-type {\n",
              "        vertical-align: middle;\n",
              "    }\n",
              "\n",
              "    .dataframe tbody tr th {\n",
              "        vertical-align: top;\n",
              "    }\n",
              "\n",
              "    .dataframe thead th {\n",
              "        text-align: right;\n",
              "    }\n",
              "</style>\n",
              "<table border=\"1\" class=\"dataframe\">\n",
              "  <thead>\n",
              "    <tr style=\"text-align: right;\">\n",
              "      <th></th>\n",
              "      <th>index</th>\n",
              "      <th>english_text</th>\n",
              "      <th>is_prayer</th>\n",
              "    </tr>\n",
              "  </thead>\n",
              "  <tbody>\n",
              "    <tr>\n",
              "      <th>10919</th>\n",
              "      <td>9867</td>\n",
              "      <td>NaN</td>\n",
              "      <td>no</td>\n",
              "    </tr>\n",
              "    <tr>\n",
              "      <th>7373</th>\n",
              "      <td>6321</td>\n",
              "      <td>Rav Ḥanan bar Rav Ḥisda said: It is not diffic...</td>\n",
              "      <td>no</td>\n",
              "    </tr>\n",
              "    <tr>\n",
              "      <th>2256</th>\n",
              "      <td>1204</td>\n",
              "      <td>NaN</td>\n",
              "      <td>no</td>\n",
              "    </tr>\n",
              "    <tr>\n",
              "      <th>3103</th>\n",
              "      <td>2051</td>\n",
              "      <td>NaN</td>\n",
              "      <td>no</td>\n",
              "    </tr>\n",
              "    <tr>\n",
              "      <th>1507</th>\n",
              "      <td>455</td>\n",
              "      <td>Abaye raised an objection to Rabba from a bara...</td>\n",
              "      <td>no</td>\n",
              "    </tr>\n",
              "  </tbody>\n",
              "</table>\n",
              "</div>"
            ],
            "text/plain": [
              "       index                                       english_text is_prayer\n",
              "10919   9867                                                NaN        no\n",
              "7373    6321  Rav Ḥanan bar Rav Ḥisda said: It is not diffic...        no\n",
              "2256    1204                                                NaN        no\n",
              "3103    2051                                                NaN        no\n",
              "1507     455  Abaye raised an objection to Rabba from a bara...        no"
            ]
          },
          "metadata": {
            "tags": []
          },
          "execution_count": 58
        }
      ]
    },
    {
      "cell_type": "code",
      "metadata": {
        "id": "gJt5XbHpDDdT",
        "colab_type": "code",
        "outputId": "49ffad1f-d18c-4465-d527-af7fc8cc24a5",
        "colab": {
          "base_uri": "https://localhost:8080/",
          "height": 138
        }
      },
      "source": [
        "del all_prayer_df['index']\n",
        "\n",
        "all_prayer_df.sample(3)"
      ],
      "execution_count": 59,
      "outputs": [
        {
          "output_type": "execute_result",
          "data": {
            "text/html": [
              "<div>\n",
              "<style scoped>\n",
              "    .dataframe tbody tr th:only-of-type {\n",
              "        vertical-align: middle;\n",
              "    }\n",
              "\n",
              "    .dataframe tbody tr th {\n",
              "        vertical-align: top;\n",
              "    }\n",
              "\n",
              "    .dataframe thead th {\n",
              "        text-align: right;\n",
              "    }\n",
              "</style>\n",
              "<table border=\"1\" class=\"dataframe\">\n",
              "  <thead>\n",
              "    <tr style=\"text-align: right;\">\n",
              "      <th></th>\n",
              "      <th>english_text</th>\n",
              "      <th>is_prayer</th>\n",
              "    </tr>\n",
              "  </thead>\n",
              "  <tbody>\n",
              "    <tr>\n",
              "      <th>5488</th>\n",
              "      <td>The words היה רעה את אחיו בצאן refer to the sh...</td>\n",
              "      <td>no</td>\n",
              "    </tr>\n",
              "    <tr>\n",
              "      <th>8744</th>\n",
              "      <td>Rav Huna bar Taḥalifa said: Now that the halak...</td>\n",
              "      <td>no</td>\n",
              "    </tr>\n",
              "    <tr>\n",
              "      <th>6651</th>\n",
              "      <td>§ The mishna teaches that if one decreased its...</td>\n",
              "      <td>no</td>\n",
              "    </tr>\n",
              "  </tbody>\n",
              "</table>\n",
              "</div>"
            ],
            "text/plain": [
              "                                           english_text is_prayer\n",
              "5488  The words היה רעה את אחיו בצאן refer to the sh...        no\n",
              "8744  Rav Huna bar Taḥalifa said: Now that the halak...        no\n",
              "6651  § The mishna teaches that if one decreased its...        no"
            ]
          },
          "metadata": {
            "tags": []
          },
          "execution_count": 59
        }
      ]
    },
    {
      "cell_type": "code",
      "metadata": {
        "id": "ZJihXdQuJy7p",
        "colab_type": "code",
        "outputId": "b0f90890-f2de-4436-cf8e-016526fbe7e6",
        "colab": {
          "base_uri": "https://localhost:8080/",
          "height": 108
        }
      },
      "source": [
        "print(\"Before dropping duplicates\",all_prayer_df.shape)\n",
        "all_prayer_df.drop_duplicates(inplace=True)\n",
        "print(\"After dropping duplicates\",all_prayer_df.shape)\n",
        "\n",
        "print(\"\\nNulls before dropping:\",all_prayer_df.isnull().sum()[0])\n",
        "all_prayer_df.dropna(inplace=True)\n",
        "print(\"Nulls after dropping:\",all_prayer_df.isnull().sum()[0])\n",
        "\n",
        "# all_prayer_df.isnull().sum()\n",
        "# all_prayer_df.sample(5)"
      ],
      "execution_count": 60,
      "outputs": [
        {
          "output_type": "stream",
          "text": [
            "Before dropping duplicates (11553, 2)\n",
            "After dropping duplicates (6948, 2)\n",
            "\n",
            "Nulls before dropping: 2\n",
            "Nulls after dropping: 0\n"
          ],
          "name": "stdout"
        }
      ]
    },
    {
      "cell_type": "code",
      "metadata": {
        "colab_type": "code",
        "outputId": "e17ca8c0-5252-4ff8-f8be-4ec321fffef4",
        "id": "bOYMROhKILvq",
        "colab": {
          "base_uri": "https://localhost:8080/",
          "height": 35
        }
      },
      "source": [
        "shape = all_prayer_df.shape\n",
        "print(f\"{shape[0]} rows and {shape[1]} columns\")"
      ],
      "execution_count": 61,
      "outputs": [
        {
          "output_type": "stream",
          "text": [
            "6946 rows and 2 columns\n"
          ],
          "name": "stdout"
        }
      ]
    },
    {
      "cell_type": "code",
      "metadata": {
        "id": "FTVM9f5lKkBp",
        "colab_type": "code",
        "outputId": "0532726c-6d50-41cf-e372-c228996b55db",
        "colab": {
          "base_uri": "https://localhost:8080/",
          "height": 198
        }
      },
      "source": [
        "all_prayer_df['is_prayer'] = all_prayer_df['is_prayer'].map({'no': 0, 'yes': 1})\n",
        "all_prayer_df.sample(5)"
      ],
      "execution_count": 62,
      "outputs": [
        {
          "output_type": "execute_result",
          "data": {
            "text/html": [
              "<div>\n",
              "<style scoped>\n",
              "    .dataframe tbody tr th:only-of-type {\n",
              "        vertical-align: middle;\n",
              "    }\n",
              "\n",
              "    .dataframe tbody tr th {\n",
              "        vertical-align: top;\n",
              "    }\n",
              "\n",
              "    .dataframe thead th {\n",
              "        text-align: right;\n",
              "    }\n",
              "</style>\n",
              "<table border=\"1\" class=\"dataframe\">\n",
              "  <thead>\n",
              "    <tr style=\"text-align: right;\">\n",
              "      <th></th>\n",
              "      <th>english_text</th>\n",
              "      <th>is_prayer</th>\n",
              "    </tr>\n",
              "  </thead>\n",
              "  <tbody>\n",
              "    <tr>\n",
              "      <th>4075</th>\n",
              "      <td>And Rabbi Yoḥanan says: The court collects fro...</td>\n",
              "      <td>0</td>\n",
              "    </tr>\n",
              "    <tr>\n",
              "      <th>1868</th>\n",
              "      <td>17. If Reuven makes a claim against Shimon and...</td>\n",
              "      <td>0</td>\n",
              "    </tr>\n",
              "    <tr>\n",
              "      <th>8073</th>\n",
              "      <td>Of the tribe of Zebulun, Gaddiel the son of Sodi.</td>\n",
              "      <td>0</td>\n",
              "    </tr>\n",
              "    <tr>\n",
              "      <th>9587</th>\n",
              "      <td>Ulla said: Even if you say that the halakha wi...</td>\n",
              "      <td>0</td>\n",
              "    </tr>\n",
              "    <tr>\n",
              "      <th>10173</th>\n",
              "      <td>For example, the air that is breathed - since ...</td>\n",
              "      <td>0</td>\n",
              "    </tr>\n",
              "  </tbody>\n",
              "</table>\n",
              "</div>"
            ],
            "text/plain": [
              "                                            english_text  is_prayer\n",
              "4075   And Rabbi Yoḥanan says: The court collects fro...          0\n",
              "1868   17. If Reuven makes a claim against Shimon and...          0\n",
              "8073   Of the tribe of Zebulun, Gaddiel the son of Sodi.          0\n",
              "9587   Ulla said: Even if you say that the halakha wi...          0\n",
              "10173  For example, the air that is breathed - since ...          0"
            ]
          },
          "metadata": {
            "tags": []
          },
          "execution_count": 62
        }
      ]
    },
    {
      "cell_type": "code",
      "metadata": {
        "id": "VfdJsX-DGx-j",
        "colab_type": "code",
        "outputId": "aaf8c227-5164-43be-99c4-3794768e81ba",
        "colab": {
          "base_uri": "https://localhost:8080/",
          "height": 54
        }
      },
      "source": [
        "print('Prayer:', (all_prayer_df.is_prayer.values == 1).sum())\n",
        "print('Not prayer:', (all_prayer_df.is_prayer.values == 0).sum())"
      ],
      "execution_count": 63,
      "outputs": [
        {
          "output_type": "stream",
          "text": [
            "Prayer: 553\n",
            "Not prayer: 6393\n"
          ],
          "name": "stdout"
        }
      ]
    },
    {
      "cell_type": "code",
      "metadata": {
        "id": "t0eM00ODKkF9",
        "colab_type": "code",
        "outputId": "8318e74e-e81c-4c97-e1a6-c3c1e87ce2f0",
        "colab": {
          "base_uri": "https://localhost:8080/",
          "height": 54
        }
      },
      "source": [
        "import re\n",
        "import nltk\n",
        "import string\n",
        "nltk.download('stopwords')\n",
        "from nltk.corpus import stopwords\n",
        "\n",
        "REPLACE_BY_SPACE_RE = re.compile('[/(){}\\[\\]\\|@,;]')\n",
        "\n",
        "# BAD_SYMBOLS_RE = re.compile('[^a-z #+_]')\n",
        "BAD_SYMBOLS_RE = re.compile('[^0-9a-z #+_]')\n",
        "\n",
        "# BAD_SYMBOLS_RE = re.compile('[^0-9a-z #+_ \\b\\d+\\b]')\n",
        "STOPWORDS = set(stopwords.words('english'))\n",
        "\n",
        "def process_text(text):\n",
        "    #  text = BeautifulSoup(text, \"lxml\").text # HTML decoding\n",
        "    text = text.lower() # lowercase text\n",
        "    text = REPLACE_BY_SPACE_RE.sub(' ', text) # replace REPLACE_BY_SPACE_RE symbols by space in text\n",
        "    text = BAD_SYMBOLS_RE.sub('', text) # delete symbols which are in BAD_SYMBOLS_RE from text\n",
        "    text = ' '.join(word for word in text.split() if word not in STOPWORDS) # delete stopwors from text\n",
        "    return text\n",
        "\n",
        "from nltk.stem.snowball import SnowballStemmer\n",
        "\n",
        "stemmer = SnowballStemmer(\"english\")\n",
        "\n",
        "def stemming(sentence):\n",
        "    stemSentence = \"\"\n",
        "    for word in sentence.split():\n",
        "        stem = stemmer.stem(word)\n",
        "        stemSentence += stem\n",
        "        stemSentence += \" \"\n",
        "    stemSentence = stemSentence.strip()\n",
        "    return stemSentence\n",
        "\n",
        "# whitelist = set('abcdefghijklmnopqrstuvwxyz ZXCVBNMASDFGHJKLQWERTYUIOP')\n",
        "# genres['movie_id'] = genres['movie_id'].astype(str)\n",
        "\n",
        "# def process_text(text):\n",
        "#     '''\n",
        "#     1. Keep only letters and spaces\n",
        "#     2. Remove stopwords\n",
        "#     3. Return str of clean text words\n",
        "#     '''\n",
        "#     #1\n",
        "#     chars_str = ''.join(filter(whitelist.__contains__, text))\n",
        "#     #2\n",
        "#     clean_words = [word.lower() for word in chars_str.split() if word.lower() not in stopwords.words('english')]\n",
        "#     #3\n",
        "#     return ' '.join(clean_words)"
      ],
      "execution_count": 64,
      "outputs": [
        {
          "output_type": "stream",
          "text": [
            "[nltk_data] Downloading package stopwords to /root/nltk_data...\n",
            "[nltk_data]   Package stopwords is already up-to-date!\n"
          ],
          "name": "stdout"
        }
      ]
    },
    {
      "cell_type": "code",
      "metadata": {
        "id": "CNQY4EBzKkOj",
        "colab_type": "code",
        "outputId": "075856f5-d578-40fd-f98b-450c0af76fd9",
        "colab": {
          "base_uri": "https://localhost:8080/",
          "height": 35
        }
      },
      "source": [
        "sample_text = '''aBC.!@#$%^&    c*(בחתו ‎‎‎ או‎ בקרחתו — une...\n",
        "233 the gns: ac ...\n",
        "1041    7. a pien p'''\n",
        "process_text(sample_text)"
      ],
      "execution_count": 65,
      "outputs": [
        {
          "output_type": "execute_result",
          "data": {
            "text/plain": [
              "'abc # c une233 gns ac 1041 7 pien p'"
            ]
          },
          "metadata": {
            "tags": []
          },
          "execution_count": 65
        }
      ]
    },
    {
      "cell_type": "code",
      "metadata": {
        "id": "Pj0D-XrRKkSk",
        "colab_type": "code",
        "outputId": "bc32e387-7c21-4178-e0b5-d063733c7037",
        "colab": {
          "base_uri": "https://localhost:8080/",
          "height": 198
        }
      },
      "source": [
        "all_prayer_df.sample(5)"
      ],
      "execution_count": 66,
      "outputs": [
        {
          "output_type": "execute_result",
          "data": {
            "text/html": [
              "<div>\n",
              "<style scoped>\n",
              "    .dataframe tbody tr th:only-of-type {\n",
              "        vertical-align: middle;\n",
              "    }\n",
              "\n",
              "    .dataframe tbody tr th {\n",
              "        vertical-align: top;\n",
              "    }\n",
              "\n",
              "    .dataframe thead th {\n",
              "        text-align: right;\n",
              "    }\n",
              "</style>\n",
              "<table border=\"1\" class=\"dataframe\">\n",
              "  <thead>\n",
              "    <tr style=\"text-align: right;\">\n",
              "      <th></th>\n",
              "      <th>english_text</th>\n",
              "      <th>is_prayer</th>\n",
              "    </tr>\n",
              "  </thead>\n",
              "  <tbody>\n",
              "    <tr>\n",
              "      <th>2775</th>\n",
              "      <td>Thy raiment waxed not old upon thee, neither d...</td>\n",
              "      <td>0</td>\n",
              "    </tr>\n",
              "    <tr>\n",
              "      <th>7292</th>\n",
              "      <td>1. The Law of an Old Sukkah, 2 Seifim: An old ...</td>\n",
              "      <td>0</td>\n",
              "    </tr>\n",
              "    <tr>\n",
              "      <th>1579</th>\n",
              "      <td>10) \"and writing that is engraved\": I might th...</td>\n",
              "      <td>0</td>\n",
              "    </tr>\n",
              "    <tr>\n",
              "      <th>36</th>\n",
              "      <td>Since the verse: “Prepare to greet your God, I...</td>\n",
              "      <td>1</td>\n",
              "    </tr>\n",
              "    <tr>\n",
              "      <th>7532</th>\n",
              "      <td>Salted food, that one is unable to eat because...</td>\n",
              "      <td>0</td>\n",
              "    </tr>\n",
              "  </tbody>\n",
              "</table>\n",
              "</div>"
            ],
            "text/plain": [
              "                                           english_text  is_prayer\n",
              "2775  Thy raiment waxed not old upon thee, neither d...          0\n",
              "7292  1. The Law of an Old Sukkah, 2 Seifim: An old ...          0\n",
              "1579  10) \"and writing that is engraved\": I might th...          0\n",
              "36    Since the verse: “Prepare to greet your God, I...          1\n",
              "7532  Salted food, that one is unable to eat because...          0"
            ]
          },
          "metadata": {
            "tags": []
          },
          "execution_count": 66
        }
      ]
    },
    {
      "cell_type": "code",
      "metadata": {
        "id": "10Z1Naa5GLN5",
        "colab_type": "code",
        "colab": {
          "base_uri": "https://localhost:8080/",
          "height": 198
        },
        "outputId": "f8674f72-caea-4440-93ce-01066461873f"
      },
      "source": [
        "processed_df = all_prayer_df\n",
        "processed_df['english_text'] = processed_df['english_text'].apply(process_text)\n",
        "processed_df.head(5)"
      ],
      "execution_count": 67,
      "outputs": [
        {
          "output_type": "execute_result",
          "data": {
            "text/html": [
              "<div>\n",
              "<style scoped>\n",
              "    .dataframe tbody tr th:only-of-type {\n",
              "        vertical-align: middle;\n",
              "    }\n",
              "\n",
              "    .dataframe tbody tr th {\n",
              "        vertical-align: top;\n",
              "    }\n",
              "\n",
              "    .dataframe thead th {\n",
              "        text-align: right;\n",
              "    }\n",
              "</style>\n",
              "<table border=\"1\" class=\"dataframe\">\n",
              "  <thead>\n",
              "    <tr style=\"text-align: right;\">\n",
              "      <th></th>\n",
              "      <th>english_text</th>\n",
              "      <th>is_prayer</th>\n",
              "    </tr>\n",
              "  </thead>\n",
              "  <tbody>\n",
              "    <tr>\n",
              "      <th>0</th>\n",
              "      <td>another abba binyamins statements regard laws ...</td>\n",
              "      <td>1</td>\n",
              "    </tr>\n",
              "    <tr>\n",
              "      <th>1</th>\n",
              "      <td>taught baraita abba binyamin said ones prayer ...</td>\n",
              "      <td>1</td>\n",
              "    </tr>\n",
              "    <tr>\n",
              "      <th>2</th>\n",
              "      <td>additionally ravin bar rav adda said rabbi yit...</td>\n",
              "      <td>1</td>\n",
              "    </tr>\n",
              "    <tr>\n",
              "      <th>3</th>\n",
              "      <td>similarly taught baraita rabbi yishmael ben el...</td>\n",
              "      <td>1</td>\n",
              "    </tr>\n",
              "    <tr>\n",
              "      <th>4</th>\n",
              "      <td>meaning written let prayer unto lord time favo...</td>\n",
              "      <td>1</td>\n",
              "    </tr>\n",
              "  </tbody>\n",
              "</table>\n",
              "</div>"
            ],
            "text/plain": [
              "                                        english_text  is_prayer\n",
              "0  another abba binyamins statements regard laws ...          1\n",
              "1  taught baraita abba binyamin said ones prayer ...          1\n",
              "2  additionally ravin bar rav adda said rabbi yit...          1\n",
              "3  similarly taught baraita rabbi yishmael ben el...          1\n",
              "4  meaning written let prayer unto lord time favo...          1"
            ]
          },
          "metadata": {
            "tags": []
          },
          "execution_count": 67
        }
      ]
    },
    {
      "cell_type": "code",
      "metadata": {
        "id": "9Oj4-qeRGGXm",
        "colab_type": "code",
        "colab": {
          "base_uri": "https://localhost:8080/",
          "height": 198
        },
        "outputId": "29e753ce-4f62-49e7-f120-d8d579f6e893"
      },
      "source": [
        "# all_prayer_df['En'] = all_prayer_df['En'].apply(stemming)\n",
        "# all_prayer_df.head()\n",
        "stemmed_df = processed_df\n",
        "stemmed_df['english_text'] = stemmed_df['english_text'].apply(stemming)\n",
        "stemmed_df.head()"
      ],
      "execution_count": 68,
      "outputs": [
        {
          "output_type": "execute_result",
          "data": {
            "text/html": [
              "<div>\n",
              "<style scoped>\n",
              "    .dataframe tbody tr th:only-of-type {\n",
              "        vertical-align: middle;\n",
              "    }\n",
              "\n",
              "    .dataframe tbody tr th {\n",
              "        vertical-align: top;\n",
              "    }\n",
              "\n",
              "    .dataframe thead th {\n",
              "        text-align: right;\n",
              "    }\n",
              "</style>\n",
              "<table border=\"1\" class=\"dataframe\">\n",
              "  <thead>\n",
              "    <tr style=\"text-align: right;\">\n",
              "      <th></th>\n",
              "      <th>english_text</th>\n",
              "      <th>is_prayer</th>\n",
              "    </tr>\n",
              "  </thead>\n",
              "  <tbody>\n",
              "    <tr>\n",
              "      <th>0</th>\n",
              "      <td>anoth abba binyamin statement regard law praye...</td>\n",
              "      <td>1</td>\n",
              "    </tr>\n",
              "    <tr>\n",
              "      <th>1</th>\n",
              "      <td>taught baraita abba binyamin said one prayer f...</td>\n",
              "      <td>1</td>\n",
              "    </tr>\n",
              "    <tr>\n",
              "      <th>2</th>\n",
              "      <td>addit ravin bar rav adda said rabbi yitzak sai...</td>\n",
              "      <td>1</td>\n",
              "    </tr>\n",
              "    <tr>\n",
              "      <th>3</th>\n",
              "      <td>similar taught baraita rabbi yishmael ben elis...</td>\n",
              "      <td>1</td>\n",
              "    </tr>\n",
              "    <tr>\n",
              "      <th>4</th>\n",
              "      <td>mean written let prayer unto lord time favor g...</td>\n",
              "      <td>1</td>\n",
              "    </tr>\n",
              "  </tbody>\n",
              "</table>\n",
              "</div>"
            ],
            "text/plain": [
              "                                        english_text  is_prayer\n",
              "0  anoth abba binyamin statement regard law praye...          1\n",
              "1  taught baraita abba binyamin said one prayer f...          1\n",
              "2  addit ravin bar rav adda said rabbi yitzak sai...          1\n",
              "3  similar taught baraita rabbi yishmael ben elis...          1\n",
              "4  mean written let prayer unto lord time favor g...          1"
            ]
          },
          "metadata": {
            "tags": []
          },
          "execution_count": 68
        }
      ]
    },
    {
      "cell_type": "code",
      "metadata": {
        "id": "CCdshXlYKka3",
        "colab_type": "code",
        "colab": {}
      },
      "source": [
        "# from wordcloud import WordCloud\n",
        "# import matplotlib.pyplot as plt\n",
        "\n",
        "# prayer_words = ' '.join(list(all_prayer_df[stemmed_df['is_prayer'] == 1]['En']))\n",
        "# prayer_wc = WordCloud(width = 512,height = 512).generate(prayer_words)\n",
        "# plt.figure(figsize = (10, 8), facecolor = 'k')\n",
        "# plt.imshow(prayer_wc)\n",
        "# plt.axis('off')\n",
        "# plt.tight_layout(pad = 0)\n",
        "# plt.show()"
      ],
      "execution_count": 0,
      "outputs": []
    },
    {
      "cell_type": "code",
      "metadata": {
        "id": "KBWTtiYTKkX4",
        "colab_type": "code",
        "colab": {}
      },
      "source": [
        "# not_prayer_words = ' '.join(list(all_prayer_df[all_prayer_df['is_prayer'] == 0]['En']))\n",
        "# not_prayer_wc = WordCloud(width = 512,height = 512).generate(not_prayer_words)\n",
        "# plt.figure(figsize = (10, 8), facecolor = 'k')\n",
        "# plt.imshow(not_prayer_wc)\n",
        "# plt.axis('off')\n",
        "# plt.tight_layout(pad = 0)\n",
        "# plt.show()"
      ],
      "execution_count": 0,
      "outputs": []
    },
    {
      "cell_type": "code",
      "metadata": {
        "id": "YOt4N48JrrUY",
        "colab_type": "code",
        "colab": {}
      },
      "source": [
        "df = stemmed_df"
      ],
      "execution_count": 0,
      "outputs": []
    },
    {
      "cell_type": "code",
      "metadata": {
        "id": "3Ut2PZh0ueVN",
        "colab_type": "code",
        "colab": {
          "base_uri": "https://localhost:8080/",
          "height": 35
        },
        "outputId": "9d28ec02-804c-40a4-f680-38c34690eab1"
      },
      "source": [
        "from tensorflow.keras.preprocessing.text import Tokenizer\n",
        "\n",
        "# The maximum number of words to be used. (most frequent)\n",
        "MAX_NB_WORDS = 50000\n",
        "# Max number of words in each complaint.\n",
        "MAX_SEQUENCE_LENGTH = 250\n",
        "# This is fixed.\n",
        "EMBEDDING_DIM = 100\n",
        "tokenizer = Tokenizer(num_words=MAX_NB_WORDS, filters='!\"#$%&()*+,-./:;<=>?@[\\]^_`{|}~', lower=True)\n",
        "tokenizer.fit_on_texts(df['english_text'].values)\n",
        "word_index = tokenizer.word_index\n",
        "print('Found %s unique tokens.' % len(word_index))\n",
        "\n"
      ],
      "execution_count": 72,
      "outputs": [
        {
          "output_type": "stream",
          "text": [
            "Found 15093 unique tokens.\n"
          ],
          "name": "stdout"
        }
      ]
    },
    {
      "cell_type": "code",
      "metadata": {
        "id": "K-91C0EFvYB-",
        "colab_type": "code",
        "colab": {
          "base_uri": "https://localhost:8080/",
          "height": 35
        },
        "outputId": "049c94c7-6d3b-402c-ce83-e50a89a243f5"
      },
      "source": [
        "from keras.preprocessing.sequence import pad_sequences\n",
        "\n",
        "X = tokenizer.texts_to_sequences(df['english_text'].values)\n",
        "X = pad_sequences(X, maxlen=MAX_SEQUENCE_LENGTH)\n",
        "print('Shape of data tensor:', X.shape)\n"
      ],
      "execution_count": 73,
      "outputs": [
        {
          "output_type": "stream",
          "text": [
            "Shape of data tensor: (6946, 250)\n"
          ],
          "name": "stdout"
        }
      ]
    },
    {
      "cell_type": "code",
      "metadata": {
        "id": "IgrGfexfydvP",
        "colab_type": "code",
        "colab": {
          "base_uri": "https://localhost:8080/",
          "height": 35
        },
        "outputId": "b4728f26-cbb8-4d23-8991-92a5aac7fb64"
      },
      "source": [
        "Y = pd.get_dummies(df['is_prayer']).values\n",
        "print('Shape of label tensor:', Y.shape)\n"
      ],
      "execution_count": 74,
      "outputs": [
        {
          "output_type": "stream",
          "text": [
            "Shape of label tensor: (6946, 2)\n"
          ],
          "name": "stdout"
        }
      ]
    },
    {
      "cell_type": "code",
      "metadata": {
        "id": "55r5BbIIys5c",
        "colab_type": "code",
        "colab": {
          "base_uri": "https://localhost:8080/",
          "height": 54
        },
        "outputId": "a3724334-06d7-4acb-a2bb-f447465c412b"
      },
      "source": [
        "from sklearn.model_selection import train_test_split\n",
        "X_train, X_test, Y_train, Y_test = train_test_split(X,Y, test_size = 0.10, random_state = 42)\n",
        "print(X_train.shape,Y_train.shape)\n",
        "print(X_test.shape,Y_test.shape)\n"
      ],
      "execution_count": 75,
      "outputs": [
        {
          "output_type": "stream",
          "text": [
            "(6251, 250) (6251, 2)\n",
            "(695, 250) (695, 2)\n"
          ],
          "name": "stdout"
        }
      ]
    },
    {
      "cell_type": "code",
      "metadata": {
        "id": "cGeoXf9lvryp",
        "colab_type": "code",
        "colab": {}
      },
      "source": [
        "from keras.models import Sequential\n",
        "from keras.layers import Embedding\n",
        "from keras.layers.core import Dense, SpatialDropout1D\n",
        "# from tensorflow.python.keras.layers.recurrent import LSTM\n",
        "from keras.layers.recurrent import LSTM\n",
        "\n",
        "model = Sequential()\n",
        "model.add(Embedding(MAX_NB_WORDS, EMBEDDING_DIM, input_length=X.shape[1]))\n",
        "model.add(SpatialDropout1D(0.2))\n",
        "model.add(LSTM(100, dropout=0.2, recurrent_dropout=0.2))\n",
        "model.add(Dense(2, activation='sigmoid'))\n",
        "# model.add(Dense(2, activation='softmax'))\n",
        "model.compile(loss='categorical_crossentropy', optimizer='adam', metrics=['accuracy'])\n",
        "\n",
        "epochs = 15\n",
        "batch_size = 64\n",
        "\n",
        "# history = model.fit(X_train, Y_train, epochs=epochs, batch_size=batch_size,validation_split=0.1,callbacks=[EarlyStopping(monitor='val_loss', patience=3, min_delta=0.0001)])\n"
      ],
      "execution_count": 0,
      "outputs": []
    },
    {
      "cell_type": "code",
      "metadata": {
        "id": "4kw5dcgUuf4C",
        "colab_type": "code",
        "colab": {}
      },
      "source": [
        "# X = df.english_text\n",
        "# y = df.is_prayer\n",
        "# print(f\"Totals: {X.shape} / {y.shape}\")\n",
        "\n",
        "# from sklearn.model_selection import train_test_split\n",
        "\n",
        "# # train, test = train_test_split(movies, random_state=42, test_size=0.30, shuffle=True)\n",
        "\n",
        "# X_train, X_test, y_train, y_test = train_test_split(X, y, random_state=56, test_size=0.20, shuffle=True)\n",
        "\n",
        "# print(f\"\\nTrain: {X_train.shape} / {y_train.shape}\")\n",
        "\n",
        "# print(f\"\\nTest: {X_test.shape} / {y_test.shape}\")"
      ],
      "execution_count": 0,
      "outputs": []
    },
    {
      "cell_type": "code",
      "metadata": {
        "id": "jR-nbZiIxjRq",
        "colab_type": "code",
        "colab": {
          "base_uri": "https://localhost:8080/",
          "height": 310
        },
        "outputId": "92b0de06-dd52-4b62-f6b7-449b4cd73b67"
      },
      "source": [
        "from keras.callbacks import ModelCheckpoint, EarlyStopping\n",
        "\n",
        "history = model.fit(X_train, Y_train, \n",
        "                    epochs=epochs, batch_size=batch_size,validation_split=0.1,\n",
        "                    callbacks=[EarlyStopping(monitor='val_loss', patience=3, min_delta=0.0001)])"
      ],
      "execution_count": 0,
      "outputs": [
        {
          "output_type": "stream",
          "text": [
            "/usr/local/lib/python3.6/dist-packages/tensorflow/python/framework/indexed_slices.py:434: UserWarning: Converting sparse IndexedSlices to a dense Tensor of unknown shape. This may consume a large amount of memory.\n",
            "  \"Converting sparse IndexedSlices to a dense Tensor of unknown shape. \"\n"
          ],
          "name": "stderr"
        },
        {
          "output_type": "stream",
          "text": [
            "Train on 5625 samples, validate on 626 samples\n",
            "Epoch 1/15\n",
            "5625/5625 [==============================] - 39s 7ms/step - loss: 0.3261 - accuracy: 0.9156 - val_loss: 0.2334 - val_accuracy: 0.9377\n",
            "Epoch 2/15\n",
            "5625/5625 [==============================] - 38s 7ms/step - loss: 0.2616 - accuracy: 0.9200 - val_loss: 0.1934 - val_accuracy: 0.9377\n",
            "Epoch 3/15\n",
            "5625/5625 [==============================] - 38s 7ms/step - loss: 0.1492 - accuracy: 0.9429 - val_loss: 0.1303 - val_accuracy: 0.9601\n",
            "Epoch 4/15\n",
            "5625/5625 [==============================] - 38s 7ms/step - loss: 0.0916 - accuracy: 0.9657 - val_loss: 0.1428 - val_accuracy: 0.9569\n",
            "Epoch 5/15\n",
            "5625/5625 [==============================] - 38s 7ms/step - loss: 0.0569 - accuracy: 0.9812 - val_loss: 0.1672 - val_accuracy: 0.9553\n",
            "Epoch 6/15\n",
            "4672/5625 [=======================>......] - ETA: 6s - loss: 0.0415 - accuracy: 0.9852"
          ],
          "name": "stdout"
        }
      ]
    },
    {
      "cell_type": "code",
      "metadata": {
        "id": "xItgWYNOzMDf",
        "colab_type": "code",
        "colab": {}
      },
      "source": [
        "import matplotlib.pyplot as plt\n",
        "plt.title('Loss')\n",
        "plt.plot(history.history['loss'], label='train')\n",
        "plt.plot(history.history['val_loss'], label='test')\n",
        "plt.legend()\n",
        "plt.show();\n"
      ],
      "execution_count": 0,
      "outputs": []
    },
    {
      "cell_type": "code",
      "metadata": {
        "id": "SkpMmQSmzUiy",
        "colab_type": "code",
        "colab": {}
      },
      "source": [
        "plt.title('Accuracy')\n",
        "plt.plot(history.history['accuracy'], label='train')\n",
        "# plt.plot(history.history['acc'], label='train')\n",
        "plt.plot(history.history['val_accuracy'], label='test')\n",
        "plt.legend()\n",
        "plt.show();\n"
      ],
      "execution_count": 0,
      "outputs": []
    },
    {
      "cell_type": "code",
      "metadata": {
        "id": "15UcywD9TTjJ",
        "colab_type": "code",
        "colab": {}
      },
      "source": [
        "# # Convert a collection of text documents to a matrix of token counts\n",
        "\n",
        "# from sklearn.feature_extraction.text import CountVectorizer, HashingVectorizer, TfidfVectorizer\n",
        "\n",
        "# # vectorizer = CountVectorizer(analyzer=process_text)\n",
        "# # vectorizer = CountVectorizer(ngram_range=(2, 4))\n",
        "# # vectorizer = HashingVectorizer(ngram_range=(2, 4),alternate_sign=False)\n",
        "# vectorizer = TfidfVectorizer(\n",
        "#     # strip_accents='unicode', \n",
        "#     # analyzer='word', \n",
        "#     ngram_range=(1,3), \n",
        "#     # norm='l2', \n",
        "#     # max_features = 15000\n",
        "#     # max_features = 12000\n",
        "#     max_features = 10000\n",
        "#     # max_features = 8000\n",
        "#     # max_features = 5000\n",
        "#     )\n",
        "\n",
        "# # vectorizer = TfidfVectorizer(ngram_range=(2, 4))\n",
        "# # vectorizer.fit(X_train)\n",
        "# # vectorizer.get_feature_names()\n"
      ],
      "execution_count": 0,
      "outputs": []
    },
    {
      "cell_type": "code",
      "metadata": {
        "id": "0o4gM0z6Iz0n",
        "colab_type": "code",
        "colab": {}
      },
      "source": [
        "# print(\"Shape of document term matrix\")\n",
        "\n",
        "# # X_train_dtm = vectorizer.transform(X_train)\n",
        "# X_train_dtm = vectorizer.fit_transform(X_train)\n",
        "# print(f\"Train: {X_train_dtm.shape}\")\n",
        "\n",
        "# # prayer_bag_of_words = vectorizer.fit_transform(all_prayer_df['En'])\n",
        "# X_test_dtm = vectorizer.transform(X_test)\n",
        "# print(f\"Test: {X_test_dtm.shape}\")\n"
      ],
      "execution_count": 0,
      "outputs": []
    },
    {
      "cell_type": "code",
      "metadata": {
        "id": "OxFuBppqB2R4",
        "colab_type": "code",
        "colab": {}
      },
      "source": [
        "\n",
        "# print(vectorizer.get_feature_names())\n"
      ],
      "execution_count": 0,
      "outputs": []
    },
    {
      "cell_type": "code",
      "metadata": {
        "id": "CD23HO1xqi66",
        "colab_type": "code",
        "colab": {}
      },
      "source": [
        "# from sklearn.naive_bayes import MultinomialNB, GaussianNB, BernoulliNB, ComplementNB\n",
        "\n",
        "# classifier = MultinomialNB()\n",
        "# # classifier = ComplementNB()\n",
        "\n",
        "# # for Gaussian need array format\n",
        "# # X_train = X_train.toarray()\n",
        "# # X_test = X_test.toarray()\n",
        "# # classifier = GaussianNB()\n",
        "# # classifier = BernoulliNB()\n",
        "\n",
        "# %time classifier.fit(X_train_dtm, y_train)\n",
        "# y_pred_class = classifier.predict(X_test_dtm)\n",
        "# from sklearn import metrics\n",
        "\n",
        "# print(f\"\\nBreakdown:\\n{y_test.value_counts()[0]} non-prayer (0), and\\n{y_test.value_counts()[1]} prayer (1)\")\n",
        "\n",
        "# null_accuracy = y_test.value_counts().head(1) / len(y_test)\n",
        "# print(f'\\nNull accuracy: {null_accuracy[0]}')\n",
        "\n",
        "# non_prayer_passages = y_test.value_counts()[0]\n",
        "# prayer_passages = y_test.value_counts()[1]\n",
        "# print('Manual null accuracy:',(prayer_passages / (prayer_passages + non_prayer_passages)))\n",
        "\n",
        "# print('\\nAccuracy:',round(metrics.accuracy_score(y_test, y_pred_class),2))\n",
        "# print('Precision:',round(metrics.precision_score(y_test, y_pred_class),2))\n",
        "# print('Recall:',round(metrics.recall_score(y_test, y_pred_class),2))\n",
        "# print('F1 score:',round(metrics.f1_score(y_test, y_pred_class),2))\n",
        "\n",
        "# print(\"\\nConfusion Matrix:\")\n",
        "# print(metrics.confusion_matrix(y_test, y_pred_class))\n"
      ],
      "execution_count": 0,
      "outputs": []
    },
    {
      "cell_type": "code",
      "metadata": {
        "id": "4scurgrwrsGj",
        "colab_type": "code",
        "colab": {}
      },
      "source": [
        "\n",
        "# from sklearn.model_selection import cross_val_score\n",
        "# # clf = svm.SVC(kernel='linear', C=1)\n",
        "# scores = cross_val_score(classifier, X, y, cv=5)\n",
        "# scores\n"
      ],
      "execution_count": 0,
      "outputs": []
    },
    {
      "cell_type": "code",
      "metadata": {
        "id": "5YfNWBAA0RIa",
        "colab_type": "code",
        "colab": {}
      },
      "source": [
        "# TP = X_test[y_pred_class + y_test == 2]\n",
        "# TN = X_test[y_pred_class + y_test == 0]\n",
        "# FP = X_test[y_pred_class > y_test]\n",
        "# FN = X_test[y_pred_class < y_test]\n",
        "\n",
        "# pd.options.display.max_colwidth = 100\n",
        "\n",
        "# # pd.style.set_properties(**{'text-align': 'left'})\n",
        "\n",
        "# # print(\"\\n*** TP ***\")\n",
        "# # print(TP.sample(5))\n",
        "# # print(\"\\n*** TN ***\")\n",
        "# # print(TN.sample(5))\n",
        "# print(\"*** False Positives: Actually NOT prayer, but misclassified as prayer ***\\n\")\n",
        "# print(FP.sample(10))\n",
        "# print(\"\\n\\n*** False Negatives: Actually prayer, but misclassified as NOT prayer ***\\n\")\n",
        "# print(FN.sample(10))"
      ],
      "execution_count": 0,
      "outputs": []
    },
    {
      "cell_type": "code",
      "metadata": {
        "id": "-uC5Qrl5x1hI",
        "colab_type": "code",
        "colab": {}
      },
      "source": [
        "# FP.to_csv('FP', sep='\\t', encoding='utf-8')\n",
        "# FN.to_csv('FN', sep='\\t', encoding='utf-8')\n"
      ],
      "execution_count": 0,
      "outputs": []
    },
    {
      "cell_type": "code",
      "metadata": {
        "id": "hrVYv3ETLjsJ",
        "colab_type": "code",
        "colab": {}
      },
      "source": [
        ""
      ],
      "execution_count": 0,
      "outputs": []
    }
  ]
}