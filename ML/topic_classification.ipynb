{
  "nbformat": 4,
  "nbformat_minor": 0,
  "metadata": {
    "colab": {
      "name": "topic_classification.ipynb",
      "provenance": [],
      "collapsed_sections": [],
      "authorship_tag": "ABX9TyPTlU/I5KDHiyXrzqvBnZS1",
      "include_colab_link": true
    },
    "kernelspec": {
      "name": "python3",
      "display_name": "Python 3"
    }
  },
  "cells": [
    {
      "cell_type": "markdown",
      "metadata": {
        "id": "view-in-github",
        "colab_type": "text"
      },
      "source": [
        "<a href=\"https://colab.research.google.com/github/yishairasowsky/Sefaria-Project/blob/master/ML/topic_classification.ipynb\" target=\"_parent\"><img src=\"https://colab.research.google.com/assets/colab-badge.svg\" alt=\"Open In Colab\"/></a>"
      ]
    },
    {
      "cell_type": "code",
      "metadata": {
        "id": "996XuOF9zQp3",
        "colab_type": "code",
        "colab": {}
      },
      "source": [
        "import numpy as np \n",
        "import pandas as pd"
      ],
      "execution_count": 0,
      "outputs": []
    },
    {
      "cell_type": "code",
      "metadata": {
        "id": "_GJq4lAIzY4K",
        "colab_type": "code",
        "colab": {}
      },
      "source": [
        "prayer_df = pd.read_csv('/content/prayer-sources.csv', \n",
        "                        # encoding=\"latin-1\"\n",
        "                        encoding=\"utf-8\"\n",
        "                        )\n",
        "not_prayer_df = pd.read_csv('/content/not-prayer-sources.csv', \n",
        "# not_prayer_df = pd.read_csv('/content/not-prayer-sources-more.csv', \n",
        "                            # encoding=\"latin-1\"\n",
        "                              encoding=\"utf-8\"\n",
        "                            )"
      ],
      "execution_count": 0,
      "outputs": []
    },
    {
      "cell_type": "code",
      "metadata": {
        "id": "AZD4yqQuakdQ",
        "colab_type": "code",
        "outputId": "086f074b-6b32-49b5-c759-96c7a72b11ae",
        "colab": {
          "base_uri": "https://localhost:8080/",
          "height": 207
        }
      },
      "source": [
        "prayer_df.sample(3)"
      ],
      "execution_count": 957,
      "outputs": [
        {
          "output_type": "execute_result",
          "data": {
            "text/html": [
              "<div>\n",
              "<style scoped>\n",
              "    .dataframe tbody tr th:only-of-type {\n",
              "        vertical-align: middle;\n",
              "    }\n",
              "\n",
              "    .dataframe tbody tr th {\n",
              "        vertical-align: top;\n",
              "    }\n",
              "\n",
              "    .dataframe thead th {\n",
              "        text-align: right;\n",
              "    }\n",
              "</style>\n",
              "<table border=\"1\" class=\"dataframe\">\n",
              "  <thead>\n",
              "    <tr style=\"text-align: right;\">\n",
              "      <th></th>\n",
              "      <th>Ref</th>\n",
              "      <th>En</th>\n",
              "      <th>He</th>\n",
              "    </tr>\n",
              "  </thead>\n",
              "  <tbody>\n",
              "    <tr>\n",
              "      <th>103</th>\n",
              "      <td>Sifrei Devarim 41:25-27</td>\n",
              "      <td>Variantly: \"and to serve Him\": This is prayer. — But perhaps it is service, literally. It is, th...</td>\n",
              "      <td>ד\"א: \"לעבדו\" - זו תפילה. זו תפלה, או אינו אלא עבודה? - ת\"ל \"בכל לבבך ובכל נפשך ובכל מאדך\", וכי י...</td>\n",
              "    </tr>\n",
              "    <tr>\n",
              "      <th>872</th>\n",
              "      <td>Sefat Emet, Deuteronomy, Ki Tavo 11:3</td>\n",
              "      <td>NaN</td>\n",
              "      <td>במדרש אם שמוע ת' דלת לפנים מדלת כו' לשקוד על דלתותי כו' מזוזת פתחי כשם שהמזוזה קבוע כו' א\"א עושה...</td>\n",
              "    </tr>\n",
              "    <tr>\n",
              "      <th>742</th>\n",
              "      <td>Proverbs 28:9</td>\n",
              "      <td>He that turneth away his ear from hearing the law, Even his prayer is an abomination.</td>\n",
              "      <td>מֵסִ֣יר אָ֭זְנוֹ מִשְּׁמֹ֣עַ תּוֹרָ֑ה גַּֽם־תְּ֝פִלָּת֗וֹ תּוֹעֵבָֽה׃</td>\n",
              "    </tr>\n",
              "  </tbody>\n",
              "</table>\n",
              "</div>"
            ],
            "text/plain": [
              "                                       Ref  ...                                                                                                   He\n",
              "103                Sifrei Devarim 41:25-27  ...  ד\"א: \"לעבדו\" - זו תפילה. זו תפלה, או אינו אלא עבודה? - ת\"ל \"בכל לבבך ובכל נפשך ובכל מאדך\", וכי י...\n",
              "872  Sefat Emet, Deuteronomy, Ki Tavo 11:3  ...  במדרש אם שמוע ת' דלת לפנים מדלת כו' לשקוד על דלתותי כו' מזוזת פתחי כשם שהמזוזה קבוע כו' א\"א עושה...\n",
              "742                          Proverbs 28:9  ...                                מֵסִ֣יר אָ֭זְנוֹ מִשְּׁמֹ֣עַ תּוֹרָ֑ה גַּֽם־תְּ֝פִלָּת֗וֹ תּוֹעֵבָֽה׃\n",
              "\n",
              "[3 rows x 3 columns]"
            ]
          },
          "metadata": {
            "tags": []
          },
          "execution_count": 957
        }
      ]
    },
    {
      "cell_type": "code",
      "metadata": {
        "id": "fODCiUmOzeOo",
        "colab_type": "code",
        "outputId": "ff09d024-c5bb-449f-dc90-8d708897fb04",
        "colab": {
          "base_uri": "https://localhost:8080/",
          "height": 138
        }
      },
      "source": [
        "prayer_df['is_prayer'] = 'yes'\n",
        "prayer_df = prayer_df[['En','is_prayer']]\n",
        "\n",
        "prayer_df.tail(3)"
      ],
      "execution_count": 958,
      "outputs": [
        {
          "output_type": "execute_result",
          "data": {
            "text/html": [
              "<div>\n",
              "<style scoped>\n",
              "    .dataframe tbody tr th:only-of-type {\n",
              "        vertical-align: middle;\n",
              "    }\n",
              "\n",
              "    .dataframe tbody tr th {\n",
              "        vertical-align: top;\n",
              "    }\n",
              "\n",
              "    .dataframe thead th {\n",
              "        text-align: right;\n",
              "    }\n",
              "</style>\n",
              "<table border=\"1\" class=\"dataframe\">\n",
              "  <thead>\n",
              "    <tr style=\"text-align: right;\">\n",
              "      <th></th>\n",
              "      <th>En</th>\n",
              "      <th>is_prayer</th>\n",
              "    </tr>\n",
              "  </thead>\n",
              "  <tbody>\n",
              "    <tr>\n",
              "      <th>1049</th>\n",
              "      <td>It is true that you are the one who judges, and reproves, who knows all, and bears witness, who ...</td>\n",
              "      <td>yes</td>\n",
              "    </tr>\n",
              "    <tr>\n",
              "      <th>1050</th>\n",
              "      <td>In these Berachot (blessings) we bow down: the first Beracha (blessing) [of Shemoneh Esreh], in ...</td>\n",
              "      <td>yes</td>\n",
              "    </tr>\n",
              "    <tr>\n",
              "      <th>1051</th>\n",
              "      <td>On seeds he says [the Beracha (blessing)] Borei Minei Zerayim (Who created different types of se...</td>\n",
              "      <td>yes</td>\n",
              "    </tr>\n",
              "  </tbody>\n",
              "</table>\n",
              "</div>"
            ],
            "text/plain": [
              "                                                                                                       En is_prayer\n",
              "1049  It is true that you are the one who judges, and reproves, who knows all, and bears witness, who ...       yes\n",
              "1050  In these Berachot (blessings) we bow down: the first Beracha (blessing) [of Shemoneh Esreh], in ...       yes\n",
              "1051  On seeds he says [the Beracha (blessing)] Borei Minei Zerayim (Who created different types of se...       yes"
            ]
          },
          "metadata": {
            "tags": []
          },
          "execution_count": 958
        }
      ]
    },
    {
      "cell_type": "code",
      "metadata": {
        "id": "ajQQYcXAbCPy",
        "colab_type": "code",
        "outputId": "d14805d1-de65-4008-ff04-0b4235fa9afb",
        "colab": {
          "base_uri": "https://localhost:8080/",
          "height": 242
        }
      },
      "source": [
        "not_prayer_df.sample(3)"
      ],
      "execution_count": 959,
      "outputs": [
        {
          "output_type": "execute_result",
          "data": {
            "text/html": [
              "<div>\n",
              "<style scoped>\n",
              "    .dataframe tbody tr th:only-of-type {\n",
              "        vertical-align: middle;\n",
              "    }\n",
              "\n",
              "    .dataframe tbody tr th {\n",
              "        vertical-align: top;\n",
              "    }\n",
              "\n",
              "    .dataframe thead th {\n",
              "        text-align: right;\n",
              "    }\n",
              "</style>\n",
              "<table border=\"1\" class=\"dataframe\">\n",
              "  <thead>\n",
              "    <tr style=\"text-align: right;\">\n",
              "      <th></th>\n",
              "      <th>Ref</th>\n",
              "      <th>En</th>\n",
              "      <th>He</th>\n",
              "      <th>Topics</th>\n",
              "    </tr>\n",
              "  </thead>\n",
              "  <tbody>\n",
              "    <tr>\n",
              "      <th>596</th>\n",
              "      <td>Chullin 42a:5</td>\n",
              "      <td>Likewise, if an animal fell from the roof, or if the majority of its ribs were fractured, or if ...</td>\n",
              "      <td>נפלה מן הגג נשתברו רוב צלעותיה ודרוסת הזאב רבי יהודה אומר דרוסת הזאב בדקה ודרוסת ארי בגסה דרוסת ...</td>\n",
              "      <td>hilchot-tereifot|limbs|terefah|kashrut|laws-of-the-prohibitions-of-eating-meat</td>\n",
              "    </tr>\n",
              "    <tr>\n",
              "      <th>367</th>\n",
              "      <td>Magen Avraham 494:6</td>\n",
              "      <td>There are many reasons for eating dairy, I will copy the reason written in the Zohar: the previo...</td>\n",
              "      <td>חלב . יש הרבה טעמים ומ\"כ הטעם דאיתא בזוהר שאותן ז' שבועות היו לישראל שבעה נקיים דוגמת אשה המיטהר...</td>\n",
              "      <td>milk|cheese-cake|shavuot</td>\n",
              "    </tr>\n",
              "    <tr>\n",
              "      <th>574</th>\n",
              "      <td>Midrash Tehillim 18:1</td>\n",
              "      <td>NaN</td>\n",
              "      <td>למנצח לעבד ה'. זה שאמר הכתוב (תהלים עד טז) לך יום אף לך לילה. ר' יודן בשם ר' יהודה אמר כל מה שאמ...</td>\n",
              "      <td>praise-of-god|miracles|psalms</td>\n",
              "    </tr>\n",
              "  </tbody>\n",
              "</table>\n",
              "</div>"
            ],
            "text/plain": [
              "                       Ref  ...                                                                          Topics\n",
              "596          Chullin 42a:5  ...  hilchot-tereifot|limbs|terefah|kashrut|laws-of-the-prohibitions-of-eating-meat\n",
              "367    Magen Avraham 494:6  ...                                                        milk|cheese-cake|shavuot\n",
              "574  Midrash Tehillim 18:1  ...                                                   praise-of-god|miracles|psalms\n",
              "\n",
              "[3 rows x 4 columns]"
            ]
          },
          "metadata": {
            "tags": []
          },
          "execution_count": 959
        }
      ]
    },
    {
      "cell_type": "code",
      "metadata": {
        "id": "K0hGDwWFD5qC",
        "colab_type": "code",
        "outputId": "5ab2e366-d5f5-4769-e8e8-91115fa7790c",
        "colab": {
          "base_uri": "https://localhost:8080/",
          "height": 138
        }
      },
      "source": [
        "not_prayer_df['is_prayer'] = 'no'\n",
        "not_prayer_df = not_prayer_df[['En','is_prayer']]\n",
        "not_prayer_df.sample(3)"
      ],
      "execution_count": 960,
      "outputs": [
        {
          "output_type": "execute_result",
          "data": {
            "text/html": [
              "<div>\n",
              "<style scoped>\n",
              "    .dataframe tbody tr th:only-of-type {\n",
              "        vertical-align: middle;\n",
              "    }\n",
              "\n",
              "    .dataframe tbody tr th {\n",
              "        vertical-align: top;\n",
              "    }\n",
              "\n",
              "    .dataframe thead th {\n",
              "        text-align: right;\n",
              "    }\n",
              "</style>\n",
              "<table border=\"1\" class=\"dataframe\">\n",
              "  <thead>\n",
              "    <tr style=\"text-align: right;\">\n",
              "      <th></th>\n",
              "      <th>En</th>\n",
              "      <th>is_prayer</th>\n",
              "    </tr>\n",
              "  </thead>\n",
              "  <tbody>\n",
              "    <tr>\n",
              "      <th>278</th>\n",
              "      <td>It is taught: caravans of [Jewish] people that were on a journey and met idol worshipers who sai...</td>\n",
              "      <td>no</td>\n",
              "    </tr>\n",
              "    <tr>\n",
              "      <th>1049</th>\n",
              "      <td>who said to another: I am hereby selling to you all of the property that I own of the house of b...</td>\n",
              "      <td>no</td>\n",
              "    </tr>\n",
              "    <tr>\n",
              "      <th>571</th>\n",
              "      <td>One does not protest against poor gentiles who come to take gleanings, forgotten sheaves, and th...</td>\n",
              "      <td>no</td>\n",
              "    </tr>\n",
              "  </tbody>\n",
              "</table>\n",
              "</div>"
            ],
            "text/plain": [
              "                                                                                                       En is_prayer\n",
              "278   It is taught: caravans of [Jewish] people that were on a journey and met idol worshipers who sai...        no\n",
              "1049  who said to another: I am hereby selling to you all of the property that I own of the house of b...        no\n",
              "571   One does not protest against poor gentiles who come to take gleanings, forgotten sheaves, and th...        no"
            ]
          },
          "metadata": {
            "tags": []
          },
          "execution_count": 960
        }
      ]
    },
    {
      "cell_type": "code",
      "metadata": {
        "id": "CvkzcPuJJCnC",
        "colab_type": "code",
        "outputId": "d5ca45c7-18d8-4c60-87a2-96de51b2090e",
        "colab": {
          "base_uri": "https://localhost:8080/",
          "height": 198
        }
      },
      "source": [
        "all_prayer_frames = [prayer_df, not_prayer_df]\n",
        "all_prayer_df = pd.concat(all_prayer_frames)\n",
        "all_prayer_df.reset_index(inplace=True)\n",
        "all_prayer_df=all_prayer_df.rename(columns = {'En':'english_text'})\n",
        "\n",
        "\n",
        "# all_prayer_df.style.set_properties({'align': 'right'})\n",
        "\n",
        "# all_prayer_df.tail(3)\n",
        "all_prayer_df.sample(5)\n",
        "# all_prayer_df.loc[[345]]"
      ],
      "execution_count": 961,
      "outputs": [
        {
          "output_type": "execute_result",
          "data": {
            "text/html": [
              "<div>\n",
              "<style scoped>\n",
              "    .dataframe tbody tr th:only-of-type {\n",
              "        vertical-align: middle;\n",
              "    }\n",
              "\n",
              "    .dataframe tbody tr th {\n",
              "        vertical-align: top;\n",
              "    }\n",
              "\n",
              "    .dataframe thead th {\n",
              "        text-align: right;\n",
              "    }\n",
              "</style>\n",
              "<table border=\"1\" class=\"dataframe\">\n",
              "  <thead>\n",
              "    <tr style=\"text-align: right;\">\n",
              "      <th></th>\n",
              "      <th>index</th>\n",
              "      <th>english_text</th>\n",
              "      <th>is_prayer</th>\n",
              "    </tr>\n",
              "  </thead>\n",
              "  <tbody>\n",
              "    <tr>\n",
              "      <th>574</th>\n",
              "      <td>574</td>\n",
              "      <td>NaN</td>\n",
              "      <td>yes</td>\n",
              "    </tr>\n",
              "    <tr>\n",
              "      <th>1657</th>\n",
              "      <td>605</td>\n",
              "      <td>Rav and Shmuel both said: Actually, the case of the woman eating the dates one by one is referri...</td>\n",
              "      <td>no</td>\n",
              "    </tr>\n",
              "    <tr>\n",
              "      <th>1802</th>\n",
              "      <td>750</td>\n",
              "      <td>NaN</td>\n",
              "      <td>no</td>\n",
              "    </tr>\n",
              "    <tr>\n",
              "      <th>1416</th>\n",
              "      <td>364</td>\n",
              "      <td>NaN</td>\n",
              "      <td>no</td>\n",
              "    </tr>\n",
              "    <tr>\n",
              "      <th>1319</th>\n",
              "      <td>267</td>\n",
              "      <td>His head is as the most fine gold, His locks are curled, And black as a raven.</td>\n",
              "      <td>no</td>\n",
              "    </tr>\n",
              "  </tbody>\n",
              "</table>\n",
              "</div>"
            ],
            "text/plain": [
              "      index  ... is_prayer\n",
              "574     574  ...       yes\n",
              "1657    605  ...        no\n",
              "1802    750  ...        no\n",
              "1416    364  ...        no\n",
              "1319    267  ...        no\n",
              "\n",
              "[5 rows x 3 columns]"
            ]
          },
          "metadata": {
            "tags": []
          },
          "execution_count": 961
        }
      ]
    },
    {
      "cell_type": "code",
      "metadata": {
        "id": "gJt5XbHpDDdT",
        "colab_type": "code",
        "outputId": "f6f13e06-8221-40d8-f7ed-7660a41ca86a",
        "colab": {
          "base_uri": "https://localhost:8080/",
          "height": 138
        }
      },
      "source": [
        "del all_prayer_df['index']\n",
        "\n",
        "all_prayer_df.sample(3)"
      ],
      "execution_count": 962,
      "outputs": [
        {
          "output_type": "execute_result",
          "data": {
            "text/html": [
              "<div>\n",
              "<style scoped>\n",
              "    .dataframe tbody tr th:only-of-type {\n",
              "        vertical-align: middle;\n",
              "    }\n",
              "\n",
              "    .dataframe tbody tr th {\n",
              "        vertical-align: top;\n",
              "    }\n",
              "\n",
              "    .dataframe thead th {\n",
              "        text-align: right;\n",
              "    }\n",
              "</style>\n",
              "<table border=\"1\" class=\"dataframe\">\n",
              "  <thead>\n",
              "    <tr style=\"text-align: right;\">\n",
              "      <th></th>\n",
              "      <th>english_text</th>\n",
              "      <th>is_prayer</th>\n",
              "    </tr>\n",
              "  </thead>\n",
              "  <tbody>\n",
              "    <tr>\n",
              "      <th>914</th>\n",
              "      <td>[A Psalm] of David. The LORD is my light and my salvation; whom shall I fear? The LORD is the st...</td>\n",
              "      <td>yes</td>\n",
              "    </tr>\n",
              "    <tr>\n",
              "      <th>1471</th>\n",
              "      <td>לה' מאד BEFORE THE LORD, EXCEEDINGLY — They knew their Master and yet intentionally rebelled aga...</td>\n",
              "      <td>no</td>\n",
              "    </tr>\n",
              "    <tr>\n",
              "      <th>1687</th>\n",
              "      <td>The verse continues: “Therefore the king was very wrathful, and his anger burned in him” (Esther...</td>\n",
              "      <td>no</td>\n",
              "    </tr>\n",
              "  </tbody>\n",
              "</table>\n",
              "</div>"
            ],
            "text/plain": [
              "                                                                                             english_text is_prayer\n",
              "914   [A Psalm] of David. The LORD is my light and my salvation; whom shall I fear? The LORD is the st...       yes\n",
              "1471  לה' מאד BEFORE THE LORD, EXCEEDINGLY — They knew their Master and yet intentionally rebelled aga...        no\n",
              "1687  The verse continues: “Therefore the king was very wrathful, and his anger burned in him” (Esther...        no"
            ]
          },
          "metadata": {
            "tags": []
          },
          "execution_count": 962
        }
      ]
    },
    {
      "cell_type": "code",
      "metadata": {
        "id": "ZJihXdQuJy7p",
        "colab_type": "code",
        "outputId": "763dcbc4-6bfa-4671-99fa-e994d1d7f5b4",
        "colab": {
          "base_uri": "https://localhost:8080/",
          "height": 108
        }
      },
      "source": [
        "print(\"Before dropping duplicates\",all_prayer_df.shape)\n",
        "all_prayer_df.drop_duplicates(inplace=True)\n",
        "print(\"After dropping duplicates\",all_prayer_df.shape)\n",
        "\n",
        "print(\"\\nNulls before dropping:\",all_prayer_df.isnull().sum()[0])\n",
        "all_prayer_df.dropna(inplace=True)\n",
        "print(\"Nulls after dropping:\",all_prayer_df.isnull().sum()[0])\n",
        "\n",
        "# all_prayer_df.isnull().sum()\n",
        "# all_prayer_df.sample(5)"
      ],
      "execution_count": 963,
      "outputs": [
        {
          "output_type": "stream",
          "text": [
            "Before dropping duplicates (2103, 2)\n",
            "After dropping duplicates (1223, 2)\n",
            "\n",
            "Nulls before dropping: 2\n",
            "Nulls after dropping: 0\n"
          ],
          "name": "stdout"
        }
      ]
    },
    {
      "cell_type": "code",
      "metadata": {
        "colab_type": "code",
        "outputId": "59d89a6d-a3b3-4b6c-df15-b9f26df93848",
        "id": "bOYMROhKILvq",
        "colab": {
          "base_uri": "https://localhost:8080/",
          "height": 35
        }
      },
      "source": [
        "shape = all_prayer_df.shape\n",
        "print(f\"{shape[0]} rows and {shape[1]} columns\")"
      ],
      "execution_count": 964,
      "outputs": [
        {
          "output_type": "stream",
          "text": [
            "1221 rows and 2 columns\n"
          ],
          "name": "stdout"
        }
      ]
    },
    {
      "cell_type": "code",
      "metadata": {
        "id": "FTVM9f5lKkBp",
        "colab_type": "code",
        "outputId": "74c85737-1fbe-4b10-fe21-c055493c2aa4",
        "colab": {
          "base_uri": "https://localhost:8080/",
          "height": 198
        }
      },
      "source": [
        "all_prayer_df['is_prayer'] = all_prayer_df['is_prayer'].map({'no': 0, 'yes': 1})\n",
        "all_prayer_df.sample(5)"
      ],
      "execution_count": 965,
      "outputs": [
        {
          "output_type": "execute_result",
          "data": {
            "text/html": [
              "<div>\n",
              "<style scoped>\n",
              "    .dataframe tbody tr th:only-of-type {\n",
              "        vertical-align: middle;\n",
              "    }\n",
              "\n",
              "    .dataframe tbody tr th {\n",
              "        vertical-align: top;\n",
              "    }\n",
              "\n",
              "    .dataframe thead th {\n",
              "        text-align: right;\n",
              "    }\n",
              "</style>\n",
              "<table border=\"1\" class=\"dataframe\">\n",
              "  <thead>\n",
              "    <tr style=\"text-align: right;\">\n",
              "      <th></th>\n",
              "      <th>english_text</th>\n",
              "      <th>is_prayer</th>\n",
              "    </tr>\n",
              "  </thead>\n",
              "  <tbody>\n",
              "    <tr>\n",
              "      <th>25</th>\n",
              "      <td>Rabbi Ḥanina waited for him until he completed his prayer. When he finished, Rabbi Ḥanina asked ...</td>\n",
              "      <td>1</td>\n",
              "    </tr>\n",
              "    <tr>\n",
              "      <th>2099</th>\n",
              "      <td>ויעקבני THAT HE HATH SUPPLANTED ME — Explain it as the Targum renders it, וחכמני, which means “a...</td>\n",
              "      <td>0</td>\n",
              "    </tr>\n",
              "    <tr>\n",
              "      <th>1538</th>\n",
              "      <td>Rava said: Both instances of the word “good” in the verse are superfluous. If so, let the verse ...</td>\n",
              "      <td>0</td>\n",
              "    </tr>\n",
              "    <tr>\n",
              "      <th>933</th>\n",
              "      <td>Rabbi Eliezer says: if a man makes his prayers fixed, it is not [true] supplication. Rabbi Joshu...</td>\n",
              "      <td>1</td>\n",
              "    </tr>\n",
              "    <tr>\n",
              "      <th>2054</th>\n",
              "      <td>ויתחזק ישראל וישב על המטה . Israel's ability to strengthen himself and sit on \"the bed,\" was due...</td>\n",
              "      <td>0</td>\n",
              "    </tr>\n",
              "  </tbody>\n",
              "</table>\n",
              "</div>"
            ],
            "text/plain": [
              "                                                                                             english_text  is_prayer\n",
              "25    Rabbi Ḥanina waited for him until he completed his prayer. When he finished, Rabbi Ḥanina asked ...          1\n",
              "2099  ויעקבני THAT HE HATH SUPPLANTED ME — Explain it as the Targum renders it, וחכמני, which means “a...          0\n",
              "1538  Rava said: Both instances of the word “good” in the verse are superfluous. If so, let the verse ...          0\n",
              "933   Rabbi Eliezer says: if a man makes his prayers fixed, it is not [true] supplication. Rabbi Joshu...          1\n",
              "2054  ויתחזק ישראל וישב על המטה . Israel's ability to strengthen himself and sit on \"the bed,\" was due...          0"
            ]
          },
          "metadata": {
            "tags": []
          },
          "execution_count": 965
        }
      ]
    },
    {
      "cell_type": "code",
      "metadata": {
        "id": "VfdJsX-DGx-j",
        "colab_type": "code",
        "outputId": "2b75ac98-762f-468a-a23a-134d1ed26e4c",
        "colab": {
          "base_uri": "https://localhost:8080/",
          "height": 54
        }
      },
      "source": [
        "print('Prayer:', (all_prayer_df.is_prayer.values == 1).sum())\n",
        "print('Not prayer:', (all_prayer_df.is_prayer.values == 0).sum())"
      ],
      "execution_count": 966,
      "outputs": [
        {
          "output_type": "stream",
          "text": [
            "Prayer: 553\n",
            "Not prayer: 668\n"
          ],
          "name": "stdout"
        }
      ]
    },
    {
      "cell_type": "code",
      "metadata": {
        "id": "t0eM00ODKkF9",
        "colab_type": "code",
        "outputId": "ab336744-8297-4f3c-e62e-d8523afd3cde",
        "colab": {
          "base_uri": "https://localhost:8080/",
          "height": 54
        }
      },
      "source": [
        "import re\n",
        "import nltk\n",
        "import string\n",
        "nltk.download('stopwords')\n",
        "from nltk.corpus import stopwords\n",
        "\n",
        "REPLACE_BY_SPACE_RE = re.compile('[/(){}\\[\\]\\|@,;]')\n",
        "\n",
        "# BAD_SYMBOLS_RE = re.compile('[^a-z #+_]')\n",
        "BAD_SYMBOLS_RE = re.compile('[^0-9a-z #+_]')\n",
        "\n",
        "# BAD_SYMBOLS_RE = re.compile('[^0-9a-z #+_ \\b\\d+\\b]')\n",
        "STOPWORDS = set(stopwords.words('english'))\n",
        "\n",
        "def process_text(text):\n",
        "    #  text = BeautifulSoup(text, \"lxml\").text # HTML decoding\n",
        "    text = text.lower() # lowercase text\n",
        "    text = REPLACE_BY_SPACE_RE.sub(' ', text) # replace REPLACE_BY_SPACE_RE symbols by space in text\n",
        "    text = BAD_SYMBOLS_RE.sub('', text) # delete symbols which are in BAD_SYMBOLS_RE from text\n",
        "    text = ' '.join(word for word in text.split() if word not in STOPWORDS) # delete stopwors from text\n",
        "    return text\n",
        "\n",
        "from nltk.stem.snowball import SnowballStemmer\n",
        "\n",
        "stemmer = SnowballStemmer(\"english\")\n",
        "\n",
        "def stemming(sentence):\n",
        "    stemSentence = \"\"\n",
        "    for word in sentence.split():\n",
        "        stem = stemmer.stem(word)\n",
        "        stemSentence += stem\n",
        "        stemSentence += \" \"\n",
        "    stemSentence = stemSentence.strip()\n",
        "    return stemSentence\n",
        "\n",
        "# whitelist = set('abcdefghijklmnopqrstuvwxyz ZXCVBNMASDFGHJKLQWERTYUIOP')\n",
        "# genres['movie_id'] = genres['movie_id'].astype(str)\n",
        "\n",
        "# def process_text(text):\n",
        "#     '''\n",
        "#     1. Keep only letters and spaces\n",
        "#     2. Remove stopwords\n",
        "#     3. Return str of clean text words\n",
        "#     '''\n",
        "#     #1\n",
        "#     chars_str = ''.join(filter(whitelist.__contains__, text))\n",
        "#     #2\n",
        "#     clean_words = [word.lower() for word in chars_str.split() if word.lower() not in stopwords.words('english')]\n",
        "#     #3\n",
        "#     return ' '.join(clean_words)"
      ],
      "execution_count": 967,
      "outputs": [
        {
          "output_type": "stream",
          "text": [
            "[nltk_data] Downloading package stopwords to /root/nltk_data...\n",
            "[nltk_data]   Package stopwords is already up-to-date!\n"
          ],
          "name": "stdout"
        }
      ]
    },
    {
      "cell_type": "code",
      "metadata": {
        "id": "CNQY4EBzKkOj",
        "colab_type": "code",
        "outputId": "fbf1073c-d618-4e8f-8360-72a5c8d1379a",
        "colab": {
          "base_uri": "https://localhost:8080/",
          "height": 35
        }
      },
      "source": [
        "sample_text = '''aBC.!@#$%^&    c*(בחתו ‎‎‎ או‎ בקרחתו — une...\n",
        "233 the gns: ac ...\n",
        "1041    7. a pien p'''\n",
        "process_text(sample_text)"
      ],
      "execution_count": 968,
      "outputs": [
        {
          "output_type": "execute_result",
          "data": {
            "text/plain": [
              "'abc # c une233 gns ac 1041 7 pien p'"
            ]
          },
          "metadata": {
            "tags": []
          },
          "execution_count": 968
        }
      ]
    },
    {
      "cell_type": "code",
      "metadata": {
        "id": "Pj0D-XrRKkSk",
        "colab_type": "code",
        "outputId": "cf0226df-0160-4aa1-d30e-2ac5e8f23b1f",
        "colab": {
          "base_uri": "https://localhost:8080/",
          "height": 198
        }
      },
      "source": [
        "all_prayer_df.sample(5)"
      ],
      "execution_count": 969,
      "outputs": [
        {
          "output_type": "execute_result",
          "data": {
            "text/html": [
              "<div>\n",
              "<style scoped>\n",
              "    .dataframe tbody tr th:only-of-type {\n",
              "        vertical-align: middle;\n",
              "    }\n",
              "\n",
              "    .dataframe tbody tr th {\n",
              "        vertical-align: top;\n",
              "    }\n",
              "\n",
              "    .dataframe thead th {\n",
              "        text-align: right;\n",
              "    }\n",
              "</style>\n",
              "<table border=\"1\" class=\"dataframe\">\n",
              "  <thead>\n",
              "    <tr style=\"text-align: right;\">\n",
              "      <th></th>\n",
              "      <th>english_text</th>\n",
              "      <th>is_prayer</th>\n",
              "    </tr>\n",
              "  </thead>\n",
              "  <tbody>\n",
              "    <tr>\n",
              "      <th>843</th>\n",
              "      <td>What is wrong with this theory is that if Pharaoh wanted to unmask Moses as a fraud he did not r...</td>\n",
              "      <td>1</td>\n",
              "    </tr>\n",
              "    <tr>\n",
              "      <th>1776</th>\n",
              "      <td>§ Having quoted an allusion from the verse: “For on account of a harlot a man is brought to a lo...</td>\n",
              "      <td>0</td>\n",
              "    </tr>\n",
              "    <tr>\n",
              "      <th>835</th>\n",
              "      <td>The author now proceeds to explain the thirteen attributes in the traditional way, including the...</td>\n",
              "      <td>1</td>\n",
              "    </tr>\n",
              "    <tr>\n",
              "      <th>1889</th>\n",
              "      <td>§ The mishna teaches: And one who eats unslaughtered animal or bird carcasses, or tereifot , or ...</td>\n",
              "      <td>0</td>\n",
              "    </tr>\n",
              "    <tr>\n",
              "      <th>1222</th>\n",
              "      <td>The one of uncertain descent said: I am the son of the deceased, and therefore, as the only heir...</td>\n",
              "      <td>0</td>\n",
              "    </tr>\n",
              "  </tbody>\n",
              "</table>\n",
              "</div>"
            ],
            "text/plain": [
              "                                                                                             english_text  is_prayer\n",
              "843   What is wrong with this theory is that if Pharaoh wanted to unmask Moses as a fraud he did not r...          1\n",
              "1776  § Having quoted an allusion from the verse: “For on account of a harlot a man is brought to a lo...          0\n",
              "835   The author now proceeds to explain the thirteen attributes in the traditional way, including the...          1\n",
              "1889  § The mishna teaches: And one who eats unslaughtered animal or bird carcasses, or tereifot , or ...          0\n",
              "1222  The one of uncertain descent said: I am the son of the deceased, and therefore, as the only heir...          0"
            ]
          },
          "metadata": {
            "tags": []
          },
          "execution_count": 969
        }
      ]
    },
    {
      "cell_type": "code",
      "metadata": {
        "id": "10Z1Naa5GLN5",
        "colab_type": "code",
        "colab": {
          "base_uri": "https://localhost:8080/",
          "height": 198
        },
        "outputId": "2548da77-e201-4867-df64-1d271b4e2b87"
      },
      "source": [
        "processed_df = all_prayer_df\n",
        "processed_df['english_text'] = processed_df['english_text'].apply(process_text)\n",
        "processed_df.head(5)"
      ],
      "execution_count": 970,
      "outputs": [
        {
          "output_type": "execute_result",
          "data": {
            "text/html": [
              "<div>\n",
              "<style scoped>\n",
              "    .dataframe tbody tr th:only-of-type {\n",
              "        vertical-align: middle;\n",
              "    }\n",
              "\n",
              "    .dataframe tbody tr th {\n",
              "        vertical-align: top;\n",
              "    }\n",
              "\n",
              "    .dataframe thead th {\n",
              "        text-align: right;\n",
              "    }\n",
              "</style>\n",
              "<table border=\"1\" class=\"dataframe\">\n",
              "  <thead>\n",
              "    <tr style=\"text-align: right;\">\n",
              "      <th></th>\n",
              "      <th>english_text</th>\n",
              "      <th>is_prayer</th>\n",
              "    </tr>\n",
              "  </thead>\n",
              "  <tbody>\n",
              "    <tr>\n",
              "      <th>0</th>\n",
              "      <td>another abba binyamins statements regard laws prayer taught baraita abba binyamin says two peopl...</td>\n",
              "      <td>1</td>\n",
              "    </tr>\n",
              "    <tr>\n",
              "      <th>1</th>\n",
              "      <td>taught baraita abba binyamin said ones prayer fully heard synagogue stated regard king solomons ...</td>\n",
              "      <td>1</td>\n",
              "    </tr>\n",
              "    <tr>\n",
              "      <th>2</th>\n",
              "      <td>additionally ravin bar rav adda said rabbi yitzak said one accustomed come synagogue come one da...</td>\n",
              "      <td>1</td>\n",
              "    </tr>\n",
              "    <tr>\n",
              "      <th>3</th>\n",
              "      <td>similarly taught baraita rabbi yishmael ben elisha high priest said yom kippur entered innermost...</td>\n",
              "      <td>1</td>\n",
              "    </tr>\n",
              "    <tr>\n",
              "      <th>4</th>\n",
              "      <td>meaning written let prayer unto lord time favor god abundance mercy answer truth salvation psalm...</td>\n",
              "      <td>1</td>\n",
              "    </tr>\n",
              "  </tbody>\n",
              "</table>\n",
              "</div>"
            ],
            "text/plain": [
              "                                                                                          english_text  is_prayer\n",
              "0  another abba binyamins statements regard laws prayer taught baraita abba binyamin says two peopl...          1\n",
              "1  taught baraita abba binyamin said ones prayer fully heard synagogue stated regard king solomons ...          1\n",
              "2  additionally ravin bar rav adda said rabbi yitzak said one accustomed come synagogue come one da...          1\n",
              "3  similarly taught baraita rabbi yishmael ben elisha high priest said yom kippur entered innermost...          1\n",
              "4  meaning written let prayer unto lord time favor god abundance mercy answer truth salvation psalm...          1"
            ]
          },
          "metadata": {
            "tags": []
          },
          "execution_count": 970
        }
      ]
    },
    {
      "cell_type": "code",
      "metadata": {
        "id": "9Oj4-qeRGGXm",
        "colab_type": "code",
        "colab": {
          "base_uri": "https://localhost:8080/",
          "height": 198
        },
        "outputId": "3e17b29a-2b2a-4354-fbb7-5bb7834817c6"
      },
      "source": [
        "# all_prayer_df['En'] = all_prayer_df['En'].apply(stemming)\n",
        "# all_prayer_df.head()\n",
        "stemmed_df = processed_df\n",
        "stemmed_df['english_text'] = stemmed_df['english_text'].apply(stemming)\n",
        "stemmed_df.head()"
      ],
      "execution_count": 971,
      "outputs": [
        {
          "output_type": "execute_result",
          "data": {
            "text/html": [
              "<div>\n",
              "<style scoped>\n",
              "    .dataframe tbody tr th:only-of-type {\n",
              "        vertical-align: middle;\n",
              "    }\n",
              "\n",
              "    .dataframe tbody tr th {\n",
              "        vertical-align: top;\n",
              "    }\n",
              "\n",
              "    .dataframe thead th {\n",
              "        text-align: right;\n",
              "    }\n",
              "</style>\n",
              "<table border=\"1\" class=\"dataframe\">\n",
              "  <thead>\n",
              "    <tr style=\"text-align: right;\">\n",
              "      <th></th>\n",
              "      <th>english_text</th>\n",
              "      <th>is_prayer</th>\n",
              "    </tr>\n",
              "  </thead>\n",
              "  <tbody>\n",
              "    <tr>\n",
              "      <th>0</th>\n",
              "      <td>anoth abba binyamin statement regard law prayer taught baraita abba binyamin say two peopl enter...</td>\n",
              "      <td>1</td>\n",
              "    </tr>\n",
              "    <tr>\n",
              "      <th>1</th>\n",
              "      <td>taught baraita abba binyamin said one prayer fulli heard synagogu state regard king solomon pray...</td>\n",
              "      <td>1</td>\n",
              "    </tr>\n",
              "    <tr>\n",
              "      <th>2</th>\n",
              "      <td>addit ravin bar rav adda said rabbi yitzak said one accustom come synagogu come one day holi one...</td>\n",
              "      <td>1</td>\n",
              "    </tr>\n",
              "    <tr>\n",
              "      <th>3</th>\n",
              "      <td>similar taught baraita rabbi yishmael ben elisha high priest said yom kippur enter innermost san...</td>\n",
              "      <td>1</td>\n",
              "    </tr>\n",
              "    <tr>\n",
              "      <th>4</th>\n",
              "      <td>mean written let prayer unto lord time favor god abund merci answer truth salvat psalm 6914 appe...</td>\n",
              "      <td>1</td>\n",
              "    </tr>\n",
              "  </tbody>\n",
              "</table>\n",
              "</div>"
            ],
            "text/plain": [
              "                                                                                          english_text  is_prayer\n",
              "0  anoth abba binyamin statement regard law prayer taught baraita abba binyamin say two peopl enter...          1\n",
              "1  taught baraita abba binyamin said one prayer fulli heard synagogu state regard king solomon pray...          1\n",
              "2  addit ravin bar rav adda said rabbi yitzak said one accustom come synagogu come one day holi one...          1\n",
              "3  similar taught baraita rabbi yishmael ben elisha high priest said yom kippur enter innermost san...          1\n",
              "4  mean written let prayer unto lord time favor god abund merci answer truth salvat psalm 6914 appe...          1"
            ]
          },
          "metadata": {
            "tags": []
          },
          "execution_count": 971
        }
      ]
    },
    {
      "cell_type": "code",
      "metadata": {
        "id": "CCdshXlYKka3",
        "colab_type": "code",
        "colab": {}
      },
      "source": [
        "# from wordcloud import WordCloud\n",
        "# import matplotlib.pyplot as plt\n",
        "\n",
        "# prayer_words = ' '.join(list(all_prayer_df[stemmed_df['is_prayer'] == 1]['En']))\n",
        "# prayer_wc = WordCloud(width = 512,height = 512).generate(prayer_words)\n",
        "# plt.figure(figsize = (10, 8), facecolor = 'k')\n",
        "# plt.imshow(prayer_wc)\n",
        "# plt.axis('off')\n",
        "# plt.tight_layout(pad = 0)\n",
        "# plt.show()"
      ],
      "execution_count": 0,
      "outputs": []
    },
    {
      "cell_type": "code",
      "metadata": {
        "id": "KBWTtiYTKkX4",
        "colab_type": "code",
        "colab": {}
      },
      "source": [
        "# not_prayer_words = ' '.join(list(all_prayer_df[all_prayer_df['is_prayer'] == 0]['En']))\n",
        "# not_prayer_wc = WordCloud(width = 512,height = 512).generate(not_prayer_words)\n",
        "# plt.figure(figsize = (10, 8), facecolor = 'k')\n",
        "# plt.imshow(not_prayer_wc)\n",
        "# plt.axis('off')\n",
        "# plt.tight_layout(pad = 0)\n",
        "# plt.show()"
      ],
      "execution_count": 0,
      "outputs": []
    },
    {
      "cell_type": "code",
      "metadata": {
        "id": "YOt4N48JrrUY",
        "colab_type": "code",
        "outputId": "675b596d-ae37-4f89-cfb9-95fdbfc48d64",
        "colab": {
          "base_uri": "https://localhost:8080/",
          "height": 108
        }
      },
      "source": [
        "df = stemmed_df"
      ],
      "execution_count": 974,
      "outputs": [
        {
          "output_type": "stream",
          "text": [
            "Totals: (1221,) / (1221,)\n",
            "\n",
            "Train: (976,) / (976,)\n",
            "\n",
            "Test: (245,) / (245,)\n"
          ],
          "name": "stdout"
        }
      ]
    },
    {
      "cell_type": "code",
      "metadata": {
        "id": "3Ut2PZh0ueVN",
        "colab_type": "code",
        "colab": {
          "base_uri": "https://localhost:8080/",
          "height": 35
        },
        "outputId": "e4dbfc0a-067b-4e7b-bda2-a9c3bd53c5a0"
      },
      "source": [
        "from tensorflow.keras.preprocessing.text import Tokenizer\n",
        "\n",
        "# The maximum number of words to be used. (most frequent)\n",
        "MAX_NB_WORDS = 50000\n",
        "# Max number of words in each complaint.\n",
        "MAX_SEQUENCE_LENGTH = 250\n",
        "# This is fixed.\n",
        "EMBEDDING_DIM = 100\n",
        "tokenizer = Tokenizer(num_words=MAX_NB_WORDS, filters='!\"#$%&()*+,-./:;<=>?@[\\]^_`{|}~', lower=True)\n",
        "tokenizer.fit_on_texts(df['english_text'].values)\n",
        "word_index = tokenizer.word_index\n",
        "print('Found %s unique tokens.' % len(word_index))\n",
        "\n"
      ],
      "execution_count": 988,
      "outputs": [
        {
          "output_type": "stream",
          "text": [
            "Found 7647 unique tokens.\n"
          ],
          "name": "stdout"
        }
      ]
    },
    {
      "cell_type": "code",
      "metadata": {
        "id": "K-91C0EFvYB-",
        "colab_type": "code",
        "colab": {
          "base_uri": "https://localhost:8080/",
          "height": 35
        },
        "outputId": "aa24a5dc-52bd-49ed-afef-6b75384db7db"
      },
      "source": [
        "from keras.preprocessing.sequence import pad_sequences\n",
        "\n",
        "X = tokenizer.texts_to_sequences(df['english_text'].values)\n",
        "X = pad_sequences(X, maxlen=MAX_SEQUENCE_LENGTH)\n",
        "print('Shape of data tensor:', X.shape)\n"
      ],
      "execution_count": 1009,
      "outputs": [
        {
          "output_type": "stream",
          "text": [
            "Shape of data tensor: (1221, 250)\n"
          ],
          "name": "stdout"
        }
      ]
    },
    {
      "cell_type": "code",
      "metadata": {
        "id": "IgrGfexfydvP",
        "colab_type": "code",
        "colab": {
          "base_uri": "https://localhost:8080/",
          "height": 35
        },
        "outputId": "eff7d66f-1d97-42c2-9a31-bd0c34fc453e"
      },
      "source": [
        "Y = pd.get_dummies(df['is_prayer']).values\n",
        "print('Shape of label tensor:', Y.shape)\n"
      ],
      "execution_count": 1010,
      "outputs": [
        {
          "output_type": "stream",
          "text": [
            "Shape of label tensor: (1221, 2)\n"
          ],
          "name": "stdout"
        }
      ]
    },
    {
      "cell_type": "code",
      "metadata": {
        "id": "55r5BbIIys5c",
        "colab_type": "code",
        "colab": {
          "base_uri": "https://localhost:8080/",
          "height": 54
        },
        "outputId": "7f5aaf2c-ac13-4f2a-eac2-5d7a7a33e1a5"
      },
      "source": [
        "X_train, X_test, Y_train, Y_test = train_test_split(X,Y, test_size = 0.10, random_state = 42)\n",
        "print(X_train.shape,Y_train.shape)\n",
        "print(X_test.shape,Y_test.shape)\n"
      ],
      "execution_count": 1011,
      "outputs": [
        {
          "output_type": "stream",
          "text": [
            "(1098, 250) (1098, 2)\n",
            "(123, 250) (123, 2)\n"
          ],
          "name": "stdout"
        }
      ]
    },
    {
      "cell_type": "code",
      "metadata": {
        "id": "cGeoXf9lvryp",
        "colab_type": "code",
        "colab": {}
      },
      "source": [
        "from keras.models import Sequential\n",
        "from keras.layers import Embedding\n",
        "from keras.layers.core import Dense, SpatialDropout1D\n",
        "# from tensorflow.python.keras.layers.recurrent import LSTM\n",
        "from keras.layers.recurrent import LSTM\n",
        "\n",
        "model = Sequential()\n",
        "model.add(Embedding(MAX_NB_WORDS, EMBEDDING_DIM, input_length=X.shape[1]))\n",
        "model.add(SpatialDropout1D(0.2))\n",
        "model.add(LSTM(100, dropout=0.2, recurrent_dropout=0.2))\n",
        "model.add(Dense(2, activation='softmax'))\n",
        "model.compile(loss='categorical_crossentropy', optimizer='adam', metrics=['accuracy'])\n",
        "\n",
        "epochs = 5\n",
        "batch_size = 64\n",
        "\n",
        "# history = model.fit(X_train, Y_train, epochs=epochs, batch_size=batch_size,validation_split=0.1,callbacks=[EarlyStopping(monitor='val_loss', patience=3, min_delta=0.0001)])\n"
      ],
      "execution_count": 0,
      "outputs": []
    },
    {
      "cell_type": "code",
      "metadata": {
        "id": "4kw5dcgUuf4C",
        "colab_type": "code",
        "colab": {}
      },
      "source": [
        "# X = df.english_text\n",
        "# y = df.is_prayer\n",
        "# print(f\"Totals: {X.shape} / {y.shape}\")\n",
        "\n",
        "# from sklearn.model_selection import train_test_split\n",
        "\n",
        "# # train, test = train_test_split(movies, random_state=42, test_size=0.30, shuffle=True)\n",
        "\n",
        "# X_train, X_test, y_train, y_test = train_test_split(X, y, random_state=56, test_size=0.20, shuffle=True)\n",
        "\n",
        "# print(f\"\\nTrain: {X_train.shape} / {y_train.shape}\")\n",
        "\n",
        "# print(f\"\\nTest: {X_test.shape} / {y_test.shape}\")"
      ],
      "execution_count": 0,
      "outputs": []
    },
    {
      "cell_type": "code",
      "metadata": {
        "id": "jR-nbZiIxjRq",
        "colab_type": "code",
        "colab": {
          "base_uri": "https://localhost:8080/",
          "height": 255
        },
        "outputId": "0e7c39d0-f38f-47b1-eaf0-1f076c3a20c4"
      },
      "source": [
        "from keras.callbacks import ModelCheckpoint, EarlyStopping\n",
        "\n",
        "history = model.fit(X_train, Y_train, \n",
        "                    epochs=epochs, batch_size=batch_size,validation_split=0.1,\n",
        "                    callbacks=[EarlyStopping(monitor='val_loss', patience=3, min_delta=0.0001)])"
      ],
      "execution_count": 1018,
      "outputs": [
        {
          "output_type": "stream",
          "text": [
            "/usr/local/lib/python3.6/dist-packages/tensorflow/python/framework/indexed_slices.py:434: UserWarning: Converting sparse IndexedSlices to a dense Tensor of unknown shape. This may consume a large amount of memory.\n",
            "  \"Converting sparse IndexedSlices to a dense Tensor of unknown shape. \"\n"
          ],
          "name": "stderr"
        },
        {
          "output_type": "stream",
          "text": [
            "Train on 988 samples, validate on 110 samples\n",
            "Epoch 1/5\n",
            "988/988 [==============================] - 8s 8ms/step - loss: 0.6839 - accuracy: 0.5698 - val_loss: 0.6535 - val_accuracy: 0.5636\n",
            "Epoch 2/5\n",
            "988/988 [==============================] - 7s 7ms/step - loss: 0.5832 - accuracy: 0.7287 - val_loss: 0.5265 - val_accuracy: 0.7727\n",
            "Epoch 3/5\n",
            "988/988 [==============================] - 7s 7ms/step - loss: 0.3035 - accuracy: 0.9018 - val_loss: 0.4359 - val_accuracy: 0.8000\n",
            "Epoch 4/5\n",
            "988/988 [==============================] - 7s 7ms/step - loss: 0.1748 - accuracy: 0.9403 - val_loss: 0.4251 - val_accuracy: 0.7909\n",
            "Epoch 5/5\n",
            "988/988 [==============================] - 7s 7ms/step - loss: 0.1101 - accuracy: 0.9696 - val_loss: 0.4016 - val_accuracy: 0.8364\n"
          ],
          "name": "stdout"
        }
      ]
    },
    {
      "cell_type": "code",
      "metadata": {
        "id": "xItgWYNOzMDf",
        "colab_type": "code",
        "colab": {
          "base_uri": "https://localhost:8080/",
          "height": 281
        },
        "outputId": "e2c02391-03df-4e96-b8a9-f123c5d5f46a"
      },
      "source": [
        "plt.title('Loss')\n",
        "plt.plot(history.history['loss'], label='train')\n",
        "plt.plot(history.history['val_loss'], label='test')\n",
        "plt.legend()\n",
        "plt.show();\n"
      ],
      "execution_count": 1019,
      "outputs": [
        {
          "output_type": "display_data",
          "data": {
            "image/png": "[encoded data removed]",
            "text/plain": [
              "<Figure size 432x288 with 1 Axes>"
            ]
          },
          "metadata": {
            "tags": [],
            "needs_background": "light"
          }
        }
      ]
    },
    {
      "cell_type": "code",
      "metadata": {
        "id": "SkpMmQSmzUiy",
        "colab_type": "code",
        "colab": {
          "base_uri": "https://localhost:8080/",
          "height": 281
        },
        "outputId": "0c616d3c-a542-459f-8d9e-9a1508fa318e"
      },
      "source": [
        "plt.title('Accuracy')\n",
        "plt.plot(history.history['accuracy'], label='train')\n",
        "# plt.plot(history.history['acc'], label='train')\n",
        "plt.plot(history.history['val_accuracy'], label='test')\n",
        "plt.legend()\n",
        "plt.show();\n"
      ],
      "execution_count": 1022,
      "outputs": [
        {
          "output_type": "display_data",
          "data": {
            "image/png": "[encoded data removed]",
            "text/plain": [
              "<Figure size 432x288 with 1 Axes>"
            ]
          },
          "metadata": {
            "tags": [],
            "needs_background": "light"
          }
        }
      ]
    },
    {
      "cell_type": "code",
      "metadata": {
        "id": "15UcywD9TTjJ",
        "colab_type": "code",
        "colab": {}
      },
      "source": [
        "# Convert a collection of text documents to a matrix of token counts\n",
        "\n",
        "from sklearn.feature_extraction.text import CountVectorizer, HashingVectorizer, TfidfVectorizer\n",
        "\n",
        "# vectorizer = CountVectorizer(analyzer=process_text)\n",
        "# vectorizer = CountVectorizer(ngram_range=(2, 4))\n",
        "# vectorizer = HashingVectorizer(ngram_range=(2, 4),alternate_sign=False)\n",
        "vectorizer = TfidfVectorizer(\n",
        "    # strip_accents='unicode', \n",
        "    # analyzer='word', \n",
        "    ngram_range=(1,3), \n",
        "    # norm='l2', \n",
        "    # max_features = 15000\n",
        "    # max_features = 12000\n",
        "    max_features = 10000\n",
        "    # max_features = 8000\n",
        "    # max_features = 5000\n",
        "    )\n",
        "\n",
        "# vectorizer = TfidfVectorizer(ngram_range=(2, 4))\n",
        "# vectorizer.fit(X_train)\n",
        "# vectorizer.get_feature_names()\n"
      ],
      "execution_count": 0,
      "outputs": []
    },
    {
      "cell_type": "code",
      "metadata": {
        "id": "0o4gM0z6Iz0n",
        "colab_type": "code",
        "outputId": "080cb3e2-25f7-4ea8-aa12-3b2a28d36c0d",
        "colab": {
          "base_uri": "https://localhost:8080/",
          "height": 72
        }
      },
      "source": [
        "print(\"Shape of document term matrix\")\n",
        "\n",
        "# X_train_dtm = vectorizer.transform(X_train)\n",
        "X_train_dtm = vectorizer.fit_transform(X_train)\n",
        "print(f\"Train: {X_train_dtm.shape}\")\n",
        "\n",
        "# prayer_bag_of_words = vectorizer.fit_transform(all_prayer_df['En'])\n",
        "X_test_dtm = vectorizer.transform(X_test)\n",
        "print(f\"Test: {X_test_dtm.shape}\")\n"
      ],
      "execution_count": 976,
      "outputs": [
        {
          "output_type": "stream",
          "text": [
            "Shape of document term matrix\n",
            "Train: (976, 10000)\n",
            "Test: (245, 10000)\n"
          ],
          "name": "stdout"
        }
      ]
    },
    {
      "cell_type": "code",
      "metadata": {
        "id": "OxFuBppqB2R4",
        "colab_type": "code",
        "colab": {}
      },
      "source": [
        "\n",
        "# print(vectorizer.get_feature_names())\n"
      ],
      "execution_count": 0,
      "outputs": []
    },
    {
      "cell_type": "code",
      "metadata": {
        "id": "CD23HO1xqi66",
        "colab_type": "code",
        "outputId": "ca84bceb-73ec-4be3-a6bc-9484a47e678c",
        "colab": {
          "base_uri": "https://localhost:8080/",
          "height": 345
        }
      },
      "source": [
        "from sklearn.naive_bayes import MultinomialNB, GaussianNB, BernoulliNB, ComplementNB\n",
        "\n",
        "classifier = MultinomialNB()\n",
        "# classifier = ComplementNB()\n",
        "\n",
        "# for Gaussian need array format\n",
        "# X_train = X_train.toarray()\n",
        "# X_test = X_test.toarray()\n",
        "# classifier = GaussianNB()\n",
        "# classifier = BernoulliNB()\n",
        "\n",
        "%time classifier.fit(X_train_dtm, y_train)\n",
        "y_pred_class = classifier.predict(X_test_dtm)\n",
        "from sklearn import metrics\n",
        "\n",
        "print(f\"\\nBreakdown:\\n{y_test.value_counts()[0]} non-prayer (0), and\\n{y_test.value_counts()[1]} prayer (1)\")\n",
        "\n",
        "null_accuracy = y_test.value_counts().head(1) / len(y_test)\n",
        "print(f'\\nNull accuracy: {null_accuracy[0]}')\n",
        "\n",
        "non_prayer_passages = y_test.value_counts()[0]\n",
        "prayer_passages = y_test.value_counts()[1]\n",
        "print('Manual null accuracy:',(prayer_passages / (prayer_passages + non_prayer_passages)))\n",
        "\n",
        "print('\\nAccuracy:',round(metrics.accuracy_score(y_test, y_pred_class),2))\n",
        "print('Precision:',round(metrics.precision_score(y_test, y_pred_class),2))\n",
        "print('Recall:',round(metrics.recall_score(y_test, y_pred_class),2))\n",
        "print('F1 score:',round(metrics.f1_score(y_test, y_pred_class),2))\n",
        "\n",
        "print(\"\\nConfusion Matrix:\")\n",
        "print(metrics.confusion_matrix(y_test, y_pred_class))\n"
      ],
      "execution_count": 982,
      "outputs": [
        {
          "output_type": "stream",
          "text": [
            "CPU times: user 4.47 ms, sys: 13 µs, total: 4.48 ms\n",
            "Wall time: 4.09 ms\n",
            "\n",
            "Breakdown:\n",
            "125 non-prayer (0), and\n",
            "120 prayer (1)\n",
            "\n",
            "Null accuracy: 0.5102040816326531\n",
            "Manual null accuracy: 0.4897959183673469\n",
            "\n",
            "Accuracy: 0.86\n",
            "Precision: 0.85\n",
            "Recall: 0.87\n",
            "F1 score: 0.86\n",
            "\n",
            "Confusion Matrix:\n",
            "[[106  19]\n",
            " [ 16 104]]\n"
          ],
          "name": "stdout"
        }
      ]
    },
    {
      "cell_type": "code",
      "metadata": {
        "id": "4scurgrwrsGj",
        "colab_type": "code",
        "colab": {
          "base_uri": "https://localhost:8080/",
          "height": 419
        },
        "outputId": "86ddee94-0cf0-4bf3-99fa-704114a1f193"
      },
      "source": [
        "\n",
        "from sklearn.model_selection import cross_val_score\n",
        "# clf = svm.SVC(kernel='linear', C=1)\n",
        "scores = cross_val_score(classifier, X, y, cv=5)\n",
        "scores\n"
      ],
      "execution_count": 983,
      "outputs": [
        {
          "output_type": "stream",
          "text": [
            "/usr/local/lib/python3.6/dist-packages/sklearn/model_selection/_validation.py:536: FitFailedWarning: Estimator fit failed. The score on this train-test partition for these parameters will be set to nan. Details: \n",
            "ValueError: could not convert string to float: 'besought lord deuteronomi 323 halacha jew stand pray amidah prayer may pray loud sage teach talmud berachot 31a someon stand pray amidah prayer hear voic other chanah alreadi explain samuel 113 chanah spoke one might think one pray three amidah prayer throughout day singl prayer daniel alreadi taught daniel 611 three time day would kneel knee would pray bow god one might think one pray everi moment one fanci david alreadi explain psalm 5518 even morn afternoon speak moan hearken voic'\n",
            "\n",
            "  FitFailedWarning)\n",
            "/usr/local/lib/python3.6/dist-packages/sklearn/model_selection/_validation.py:536: FitFailedWarning: Estimator fit failed. The score on this train-test partition for these parameters will be set to nan. Details: \n",
            "ValueError: could not convert string to float: 'anoth abba binyamin statement regard law prayer taught baraita abba binyamin say two peopl enter synagogu outsid citi order pray one began pray wait person complet prayer left alon synagogu prayer thrown back face left person alon caus distract prayer prayer thrown back face state throw soul face sake earth forsaken rock move place job 184 vers indic one left person alon effect caus soul prayer outpour soul god thrown face god say person sake think left earth forsaken god leav world prayer person go unheard caus divin presenc remov israel state continu vers rock move place rock god forc remov presenc rock mean noth holi one bless state rock gave birth unmind forgotten god bore deuteronomi 3218'\n",
            "\n",
            "  FitFailedWarning)\n",
            "/usr/local/lib/python3.6/dist-packages/sklearn/model_selection/_validation.py:536: FitFailedWarning: Estimator fit failed. The score on this train-test partition for these parameters will be set to nan. Details: \n",
            "ValueError: could not convert string to float: 'anoth abba binyamin statement regard law prayer taught baraita abba binyamin say two peopl enter synagogu outsid citi order pray one began pray wait person complet prayer left alon synagogu prayer thrown back face left person alon caus distract prayer prayer thrown back face state throw soul face sake earth forsaken rock move place job 184 vers indic one left person alon effect caus soul prayer outpour soul god thrown face god say person sake think left earth forsaken god leav world prayer person go unheard caus divin presenc remov israel state continu vers rock move place rock god forc remov presenc rock mean noth holi one bless state rock gave birth unmind forgotten god bore deuteronomi 3218'\n",
            "\n",
            "  FitFailedWarning)\n",
            "/usr/local/lib/python3.6/dist-packages/sklearn/model_selection/_validation.py:536: FitFailedWarning: Estimator fit failed. The score on this train-test partition for these parameters will be set to nan. Details: \n",
            "ValueError: could not convert string to float: 'anoth abba binyamin statement regard law prayer taught baraita abba binyamin say two peopl enter synagogu outsid citi order pray one began pray wait person complet prayer left alon synagogu prayer thrown back face left person alon caus distract prayer prayer thrown back face state throw soul face sake earth forsaken rock move place job 184 vers indic one left person alon effect caus soul prayer outpour soul god thrown face god say person sake think left earth forsaken god leav world prayer person go unheard caus divin presenc remov israel state continu vers rock move place rock god forc remov presenc rock mean noth holi one bless state rock gave birth unmind forgotten god bore deuteronomi 3218'\n",
            "\n",
            "  FitFailedWarning)\n",
            "/usr/local/lib/python3.6/dist-packages/sklearn/model_selection/_validation.py:536: FitFailedWarning: Estimator fit failed. The score on this train-test partition for these parameters will be set to nan. Details: \n",
            "ValueError: could not convert string to float: 'anoth abba binyamin statement regard law prayer taught baraita abba binyamin say two peopl enter synagogu outsid citi order pray one began pray wait person complet prayer left alon synagogu prayer thrown back face left person alon caus distract prayer prayer thrown back face state throw soul face sake earth forsaken rock move place job 184 vers indic one left person alon effect caus soul prayer outpour soul god thrown face god say person sake think left earth forsaken god leav world prayer person go unheard caus divin presenc remov israel state continu vers rock move place rock god forc remov presenc rock mean noth holi one bless state rock gave birth unmind forgotten god bore deuteronomi 3218'\n",
            "\n",
            "  FitFailedWarning)\n"
          ],
          "name": "stderr"
        },
        {
          "output_type": "execute_result",
          "data": {
            "text/plain": [
              "array([nan, nan, nan, nan, nan])"
            ]
          },
          "metadata": {
            "tags": []
          },
          "execution_count": 983
        }
      ]
    },
    {
      "cell_type": "code",
      "metadata": {
        "id": "5YfNWBAA0RIa",
        "colab_type": "code",
        "outputId": "533d5363-3441-41af-b963-7b06f366595c",
        "colab": {
          "base_uri": "https://localhost:8080/",
          "height": 546
        }
      },
      "source": [
        "TP = X_test[y_pred_class + y_test == 2]\n",
        "TN = X_test[y_pred_class + y_test == 0]\n",
        "FP = X_test[y_pred_class > y_test]\n",
        "FN = X_test[y_pred_class < y_test]\n",
        "\n",
        "pd.options.display.max_colwidth = 100\n",
        "\n",
        "# pd.style.set_properties(**{'text-align': 'left'})\n",
        "\n",
        "# print(\"\\n*** TP ***\")\n",
        "# print(TP.sample(5))\n",
        "# print(\"\\n*** TN ***\")\n",
        "# print(TN.sample(5))\n",
        "print(\"*** False Positives: Actually NOT prayer, but misclassified as prayer ***\\n\")\n",
        "print(FP.sample(10))\n",
        "print(\"\\n\\n*** False Negatives: Actually prayer, but misclassified as NOT prayer ***\\n\")\n",
        "print(FN.sample(10))"
      ],
      "execution_count": 979,
      "outputs": [
        {
          "output_type": "stream",
          "text": [
            "*** False Positives: Actually NOT prayer, but misclassified as prayer ***\n",
            "\n",
            "1683    biblic proof cite deriv torah good deed requir bolster state instruct joshua strong extrem coura...\n",
            "1780    2 concept sanctifi name god aspect benevol sever initi person inspir flame love correspond benev...\n",
            "1256                                                         fals balanc abomin lord perfect weight delight\n",
            "1408    name rav rabbi yehuda said futur holi one bless rejoic righteous let shechinah dwell among every...\n",
            "1584    numb 2014 cont know troubl befallen us said know holi one said abraham gen 1513 know full well s...\n",
            "1071                                  shall know lord god brought forth land egypt may dwell among lord god\n",
            "1241    isaiah said unto thus shall ye say master thus saith lord afraid word thou hast heard wherewith ...\n",
            "1141    torah also want go record entir preced 40 year mose faith shepherd peopl israel never spoke hars...\n",
            "1430    happen two manner one possibl come rectifi seen person pray proper concentr therefor come rectif...\n",
            "1571    gone citi yet far joseph said unto steward follow men thou dost overtak say unto wherefor ye rew...\n",
            "Name: english_text, dtype: object\n",
            "\n",
            "\n",
            "*** False Negatives: Actually prayer, but misclassified as NOT prayer ***\n",
            "\n",
            "927     verb mean number 1325 return search land translat therefor ye shall search heart heart eye spi b...\n",
            "41      mishna incident discuss requir intent sound shofar mishna cite vers came pass mose held hand isr...\n",
            "401     proof found case man die buri grave elisha bone elisha suffici power bring back life come contac...\n",
            "162     rabbi yose ben kisma said walk way man met greet greet said rabbi said great citi sage scribe sa...\n",
            "123     baraita continu script fact chang realiz mean phrase second mishn torah deuteronomi 1718 serv te...\n",
            "275     use say though though set asid face may set asid other sake hillel said separ communiti trust da...\n",
            "523     rav naman said may receiv reward fulfil oblig eat three meal shabbat magnific rav yehuda said ma...\n",
            "1017    ie interpret vers cover deuteronomi 2212 gemara answer rabbi requir taught baraita phrase four c...\n",
            "118     mishna anyon profession deal primarili women may seclud women concern man might sin due familiar...\n",
            "935     bless produc fruit tree one say creat fruit tree except wine one say creat fruit vine produc gro...\n",
            "Name: english_text, dtype: object\n"
          ],
          "name": "stdout"
        }
      ]
    },
    {
      "cell_type": "code",
      "metadata": {
        "id": "-uC5Qrl5x1hI",
        "colab_type": "code",
        "colab": {}
      },
      "source": [
        "# FP.to_csv('FP', sep='\\t', encoding='utf-8')\n",
        "# FN.to_csv('FN', sep='\\t', encoding='utf-8')\n"
      ],
      "execution_count": 0,
      "outputs": []
    },
    {
      "cell_type": "code",
      "metadata": {
        "id": "hrVYv3ETLjsJ",
        "colab_type": "code",
        "colab": {}
      },
      "source": [
        ""
      ],
      "execution_count": 0,
      "outputs": []
    }
  ]
}