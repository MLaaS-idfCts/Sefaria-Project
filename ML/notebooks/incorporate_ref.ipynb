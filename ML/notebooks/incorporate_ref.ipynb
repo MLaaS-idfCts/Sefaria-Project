{
 "cells": [
  {
   "cell_type": "code",
   "execution_count": 1,
   "metadata": {},
   "outputs": [
    {
     "output_type": "execute_result",
     "data": {
      "text/plain": "                          Ref  \\\n0              Bekhorot 28a:5   \n1   Sforno on Genesis 21:22:1   \n3                Gittin 78a:1   \n8           Bava Kamma 25a:13   \n10  Chizkuni, Numbers 21:28:3   \n\n                                                   En  \\\n0   mishna teaches blemish developed within first ...   \n1   seeing clearly side afraid afraid personal str...   \n3   modifier meaning board referred unique name mo...   \n8   gemara raised issue clarifies tanna heard said...   \n10  lords high places arnon author quoting samuel ...   \n\n                                                   He  \\\n0   × ××× ×× ××× ××ª×× ×©× ×ª× ×¨×©××...   \n1   <b>××××× ×¢××</b> ××¤××× ×× × ××...   \n3   ×©× ×××× ××× ×××ª ××× ×©× ×××...   \n8   ×××× ×ª× × ××©××¢×ª ××× ××××¨ ×©×...   \n10  <b>××¢×× ××××ª ××¨× ×</b> ××©×× ××...   \n\n                                               Topics  \\\n0                           laws-of-animal-firstlings   \n1                               abraham-and-abimelech   \n3                                         dinei-haget   \n8   laws-of-those-that-transmit-impurity-via-beds-...   \n10                                               moab   \n\n                                      Expanded Topics  \n0   laws-of-animal-firstlings laws-of-worship-of-g...  \n1   entity specific-biblical-person-relationship r...  \n3   entity halakhah continuant laws mitzvot generi...  \n8   entity continuant laws laws-of-those-that-tran...  \n10  group-of-people object-aggregate peoples indep...  ",
      "text/html": "<div>\n<style scoped>\n    .dataframe tbody tr th:only-of-type {\n        vertical-align: middle;\n    }\n\n    .dataframe tbody tr th {\n        vertical-align: top;\n    }\n\n    .dataframe thead th {\n        text-align: right;\n    }\n</style>\n<table border=\"1\" class=\"dataframe\">\n  <thead>\n    <tr style=\"text-align: right;\">\n      <th></th>\n      <th>Ref</th>\n      <th>En</th>\n      <th>He</th>\n      <th>Topics</th>\n      <th>Expanded Topics</th>\n    </tr>\n  </thead>\n  <tbody>\n    <tr>\n      <th>0</th>\n      <td>Bekhorot 28a:5</td>\n      <td>mishna teaches blemish developed within first ...</td>\n      <td>× ××× ×× ××× ××ª×× ×©× ×ª× ×¨×©××...</td>\n      <td>laws-of-animal-firstlings</td>\n      <td>laws-of-animal-firstlings laws-of-worship-of-g...</td>\n    </tr>\n    <tr>\n      <th>1</th>\n      <td>Sforno on Genesis 21:22:1</td>\n      <td>seeing clearly side afraid afraid personal str...</td>\n      <td>&lt;b&gt;××××× ×¢××&lt;/b&gt; ××¤××× ×× × ××...</td>\n      <td>abraham-and-abimelech</td>\n      <td>entity specific-biblical-person-relationship r...</td>\n    </tr>\n    <tr>\n      <th>3</th>\n      <td>Gittin 78a:1</td>\n      <td>modifier meaning board referred unique name mo...</td>\n      <td>×©× ×××× ××× ×××ª ××× ×©× ×××...</td>\n      <td>dinei-haget</td>\n      <td>entity halakhah continuant laws mitzvot generi...</td>\n    </tr>\n    <tr>\n      <th>8</th>\n      <td>Bava Kamma 25a:13</td>\n      <td>gemara raised issue clarifies tanna heard said...</td>\n      <td>×××× ×ª× × ××©××¢×ª ××× ××××¨ ×©×...</td>\n      <td>laws-of-those-that-transmit-impurity-via-beds-...</td>\n      <td>entity continuant laws laws-of-those-that-tran...</td>\n    </tr>\n    <tr>\n      <th>10</th>\n      <td>Chizkuni, Numbers 21:28:3</td>\n      <td>lords high places arnon author quoting samuel ...</td>\n      <td>&lt;b&gt;××¢×× ××××ª ××¨× ×&lt;/b&gt; ××©×× ××...</td>\n      <td>moab</td>\n      <td>group-of-people object-aggregate peoples indep...</td>\n    </tr>\n  </tbody>\n</table>\n</div>"
     },
     "metadata": {},
     "execution_count": 1
    }
   ],
   "source": [
    "import pandas as pd\n",
    "df = pd.read_pickle('/root/Sefaria-Project/ML/data/single_class_clean_df.pkl')\n",
    "# df = pd.read_csv('/root/Sefaria-Project/ML/data/yishai_data.csv')\n",
    "df.head()"
   ]
  },
  {
   "cell_type": "code",
   "execution_count": 2,
   "metadata": {},
   "outputs": [
    {
     "output_type": "execute_result",
     "data": {
      "text/plain": "                          Ref  \\\n0              Bekhorot 28a:5   \n1   Sforno on Genesis 21:22:1   \n3                Gittin 78a:1   \n8           Bava Kamma 25a:13   \n10  Chizkuni, Numbers 21:28:3   \n\n                                                   En  \\\n0   mishna teaches blemish developed within first ...   \n1   seeing clearly side afraid afraid personal str...   \n3   modifier meaning board referred unique name mo...   \n8   gemara raised issue clarifies tanna heard said...   \n10  lords high places arnon author quoting samuel ...   \n\n                                               Topics  \n0                           laws-of-animal-firstlings  \n1                               abraham-and-abimelech  \n3                                         dinei-haget  \n8   laws-of-those-that-transmit-impurity-via-beds-...  \n10                                               moab  ",
      "text/html": "<div>\n<style scoped>\n    .dataframe tbody tr th:only-of-type {\n        vertical-align: middle;\n    }\n\n    .dataframe tbody tr th {\n        vertical-align: top;\n    }\n\n    .dataframe thead th {\n        text-align: right;\n    }\n</style>\n<table border=\"1\" class=\"dataframe\">\n  <thead>\n    <tr style=\"text-align: right;\">\n      <th></th>\n      <th>Ref</th>\n      <th>En</th>\n      <th>Topics</th>\n    </tr>\n  </thead>\n  <tbody>\n    <tr>\n      <th>0</th>\n      <td>Bekhorot 28a:5</td>\n      <td>mishna teaches blemish developed within first ...</td>\n      <td>laws-of-animal-firstlings</td>\n    </tr>\n    <tr>\n      <th>1</th>\n      <td>Sforno on Genesis 21:22:1</td>\n      <td>seeing clearly side afraid afraid personal str...</td>\n      <td>abraham-and-abimelech</td>\n    </tr>\n    <tr>\n      <th>3</th>\n      <td>Gittin 78a:1</td>\n      <td>modifier meaning board referred unique name mo...</td>\n      <td>dinei-haget</td>\n    </tr>\n    <tr>\n      <th>8</th>\n      <td>Bava Kamma 25a:13</td>\n      <td>gemara raised issue clarifies tanna heard said...</td>\n      <td>laws-of-those-that-transmit-impurity-via-beds-...</td>\n    </tr>\n    <tr>\n      <th>10</th>\n      <td>Chizkuni, Numbers 21:28:3</td>\n      <td>lords high places arnon author quoting samuel ...</td>\n      <td>moab</td>\n    </tr>\n  </tbody>\n</table>\n</div>"
     },
     "metadata": {},
     "execution_count": 2
    }
   ],
   "source": [
    "df = df[['Ref','En','Topics']]\n",
    "df.head()"
   ]
  },
  {
   "cell_type": "code",
   "execution_count": 3,
   "metadata": {},
   "outputs": [],
   "source": [
    "top_ten_topics = ['dinei-haget', 'laws-of-holidays',\n",
    "       'rabbinically-forbidden-activities-on-shabbat',\n",
    "       'laws-of-transferring-between-domains',\n",
    "       'laws-of-the-impurity-and-prohibition-of-a-menstruant-woman',\n",
    "       'laws-of-animal-sacrifices', 'financial-ramifications-of-marriage',\n",
    "       'laws-of-the-prohibitions-of-eating-meat', 'dinei-yibum',\n",
    "       'hilchot-kiddushin']"
   ]
  },
  {
   "cell_type": "code",
   "execution_count": 4,
   "metadata": {},
   "outputs": [
    {
     "output_type": "execute_result",
     "data": {
      "text/plain": "                                       Ref  \\\n3                             Gittin 78a:1   \n11      Shulchan Arukh, Even HaEzer 139:15   \n67   Mishneh Torah, Rest on a Holiday 6:12   \n118                         Beitzah 17b:13   \n131           Mishneh Torah, Sabbath 22:10   \n\n                                                    En  \\\n3    modifier meaning board referred unique name mo...   \n11   hand katafres explanation hand slanted obvious...   \n67   similar two baskets untithed fruit front first...   \n118  mishna states one ate food prepared festival e...   \n131  one may mix water salt oil dip one bread put c...   \n\n                                           Topics  \n3                                     dinei-haget  \n11                                    dinei-haget  \n67                               laws-of-holidays  \n118                              laws-of-holidays  \n131  rabbinically-forbidden-activities-on-shabbat  ",
      "text/html": "<div>\n<style scoped>\n    .dataframe tbody tr th:only-of-type {\n        vertical-align: middle;\n    }\n\n    .dataframe tbody tr th {\n        vertical-align: top;\n    }\n\n    .dataframe thead th {\n        text-align: right;\n    }\n</style>\n<table border=\"1\" class=\"dataframe\">\n  <thead>\n    <tr style=\"text-align: right;\">\n      <th></th>\n      <th>Ref</th>\n      <th>En</th>\n      <th>Topics</th>\n    </tr>\n  </thead>\n  <tbody>\n    <tr>\n      <th>3</th>\n      <td>Gittin 78a:1</td>\n      <td>modifier meaning board referred unique name mo...</td>\n      <td>dinei-haget</td>\n    </tr>\n    <tr>\n      <th>11</th>\n      <td>Shulchan Arukh, Even HaEzer 139:15</td>\n      <td>hand katafres explanation hand slanted obvious...</td>\n      <td>dinei-haget</td>\n    </tr>\n    <tr>\n      <th>67</th>\n      <td>Mishneh Torah, Rest on a Holiday 6:12</td>\n      <td>similar two baskets untithed fruit front first...</td>\n      <td>laws-of-holidays</td>\n    </tr>\n    <tr>\n      <th>118</th>\n      <td>Beitzah 17b:13</td>\n      <td>mishna states one ate food prepared festival e...</td>\n      <td>laws-of-holidays</td>\n    </tr>\n    <tr>\n      <th>131</th>\n      <td>Mishneh Torah, Sabbath 22:10</td>\n      <td>one may mix water salt oil dip one bread put c...</td>\n      <td>rabbinically-forbidden-activities-on-shabbat</td>\n    </tr>\n  </tbody>\n</table>\n</div>"
     },
     "metadata": {},
     "execution_count": 4
    }
   ],
   "source": [
    "df = df[df['Topics'].isin(top_ten_topics)]\n",
    "df.head()"
   ]
  },
  {
   "cell_type": "code",
   "execution_count": 7,
   "metadata": {
    "tags": []
   },
   "outputs": [
    {
     "output_type": "stream",
     "name": "stdout",
     "text": "Gittin\nEven HaEzer\nRest on Holiday\nBeitzah\nSabbath\n"
    }
   ],
   "source": [
    "def get_section(input_string):\n",
    "    \"\"\"\n",
    "    Given a string, produce the substring that lies \n",
    "    after the last comma (if any) but \n",
    "    before the numbers at the end (if any).\n",
    "    \"\"\"\n",
    "    result = input_string # init\n",
    "    \n",
    "    # get rid of everything before last comma\n",
    "    last_comma = input_string.rfind(', ')\n",
    "    if last_comma != -1:\n",
    "        result = input_string[last_comma + 2:]\n",
    "\n",
    "    # keep only letters and spaces\n",
    "    result = ''.join(char for char in result if char.isalpha() or char == ' ')\n",
    "\n",
    "    # remove single chars\n",
    "    result = ' '.join( [w for w in result.split() if len(w)>1] )\n",
    "    return result\n",
    "\n",
    "input_list = [\n",
    "        \"Gittin 78a:1\",\n",
    "        \"Shulchan Arukh, Even HaEzer 139:15\",\n",
    "        \"Mishneh Torah, Rest on a Holiday 6:12\",\n",
    "        \"Beitzah 17b:13\",\n",
    "        \"Mishneh Torah, Sabbath 22:10\"\n",
    "    ]\n",
    "\n",
    "for input in input_list: \n",
    "    output = get_section(input)\n",
    "    print(output)"
   ]
  },
  {
   "cell_type": "code",
   "execution_count": 8,
   "metadata": {},
   "outputs": [
    {
     "output_type": "execute_result",
     "data": {
      "text/plain": "                 Ref                                                 En  \\\n3             Gittin  modifier meaning board referred unique name mo...   \n11       Even HaEzer  hand katafres explanation hand slanted obvious...   \n67   Rest on Holiday  similar two baskets untithed fruit front first...   \n118          Beitzah  mishna states one ate food prepared festival e...   \n131          Sabbath  one may mix water salt oil dip one bread put c...   \n\n                                           Topics  \n3                                     dinei-haget  \n11                                    dinei-haget  \n67                               laws-of-holidays  \n118                              laws-of-holidays  \n131  rabbinically-forbidden-activities-on-shabbat  ",
      "text/html": "<div>\n<style scoped>\n    .dataframe tbody tr th:only-of-type {\n        vertical-align: middle;\n    }\n\n    .dataframe tbody tr th {\n        vertical-align: top;\n    }\n\n    .dataframe thead th {\n        text-align: right;\n    }\n</style>\n<table border=\"1\" class=\"dataframe\">\n  <thead>\n    <tr style=\"text-align: right;\">\n      <th></th>\n      <th>Ref</th>\n      <th>En</th>\n      <th>Topics</th>\n    </tr>\n  </thead>\n  <tbody>\n    <tr>\n      <th>3</th>\n      <td>Gittin</td>\n      <td>modifier meaning board referred unique name mo...</td>\n      <td>dinei-haget</td>\n    </tr>\n    <tr>\n      <th>11</th>\n      <td>Even HaEzer</td>\n      <td>hand katafres explanation hand slanted obvious...</td>\n      <td>dinei-haget</td>\n    </tr>\n    <tr>\n      <th>67</th>\n      <td>Rest on Holiday</td>\n      <td>similar two baskets untithed fruit front first...</td>\n      <td>laws-of-holidays</td>\n    </tr>\n    <tr>\n      <th>118</th>\n      <td>Beitzah</td>\n      <td>mishna states one ate food prepared festival e...</td>\n      <td>laws-of-holidays</td>\n    </tr>\n    <tr>\n      <th>131</th>\n      <td>Sabbath</td>\n      <td>one may mix water salt oil dip one bread put c...</td>\n      <td>rabbinically-forbidden-activities-on-shabbat</td>\n    </tr>\n  </tbody>\n</table>\n</div>"
     },
     "metadata": {},
     "execution_count": 8
    }
   ],
   "source": [
    "df['Ref'] = df['Ref'].apply(get_section)\n",
    "df.head()"
   ]
  },
  {
   "cell_type": "code",
   "execution_count": 9,
   "metadata": {},
   "outputs": [
    {
     "output_type": "execute_result",
     "data": {
      "text/plain": "                 Ref                                                 En  \\\n3             Gittin  modifier meaning board referred unique name mo...   \n11       Even HaEzer  hand katafres explanation hand slanted obvious...   \n67   Rest on Holiday  similar two baskets untithed fruit front first...   \n118          Beitzah  mishna states one ate food prepared festival e...   \n131          Sabbath  one may mix water salt oil dip one bread put c...   \n\n                                           Topics  \\\n3                                     dinei-haget   \n11                                    dinei-haget   \n67                               laws-of-holidays   \n118                              laws-of-holidays   \n131  rabbinically-forbidden-activities-on-shabbat   \n\n                                        title and text  \n3    Gittin modifier meaning board referred unique ...  \n11   Even HaEzer hand katafres explanation hand sla...  \n67   Rest on Holiday similar two baskets untithed f...  \n118  Beitzah mishna states one ate food prepared fe...  \n131  Sabbath one may mix water salt oil dip one bre...  ",
      "text/html": "<div>\n<style scoped>\n    .dataframe tbody tr th:only-of-type {\n        vertical-align: middle;\n    }\n\n    .dataframe tbody tr th {\n        vertical-align: top;\n    }\n\n    .dataframe thead th {\n        text-align: right;\n    }\n</style>\n<table border=\"1\" class=\"dataframe\">\n  <thead>\n    <tr style=\"text-align: right;\">\n      <th></th>\n      <th>Ref</th>\n      <th>En</th>\n      <th>Topics</th>\n      <th>title and text</th>\n    </tr>\n  </thead>\n  <tbody>\n    <tr>\n      <th>3</th>\n      <td>Gittin</td>\n      <td>modifier meaning board referred unique name mo...</td>\n      <td>dinei-haget</td>\n      <td>Gittin modifier meaning board referred unique ...</td>\n    </tr>\n    <tr>\n      <th>11</th>\n      <td>Even HaEzer</td>\n      <td>hand katafres explanation hand slanted obvious...</td>\n      <td>dinei-haget</td>\n      <td>Even HaEzer hand katafres explanation hand sla...</td>\n    </tr>\n    <tr>\n      <th>67</th>\n      <td>Rest on Holiday</td>\n      <td>similar two baskets untithed fruit front first...</td>\n      <td>laws-of-holidays</td>\n      <td>Rest on Holiday similar two baskets untithed f...</td>\n    </tr>\n    <tr>\n      <th>118</th>\n      <td>Beitzah</td>\n      <td>mishna states one ate food prepared festival e...</td>\n      <td>laws-of-holidays</td>\n      <td>Beitzah mishna states one ate food prepared fe...</td>\n    </tr>\n    <tr>\n      <th>131</th>\n      <td>Sabbath</td>\n      <td>one may mix water salt oil dip one bread put c...</td>\n      <td>rabbinically-forbidden-activities-on-shabbat</td>\n      <td>Sabbath one may mix water salt oil dip one bre...</td>\n    </tr>\n  </tbody>\n</table>\n</div>"
     },
     "metadata": {},
     "execution_count": 9
    }
   ],
   "source": [
    "df[\"title and text\"] = df[\"Ref\"] +\" \"+ df[\"En\"]\n",
    "df.head()"
   ]
  },
  {
   "cell_type": "code",
   "execution_count": 10,
   "metadata": {},
   "outputs": [],
   "source": [
    "df.to_pickle('/root/Sefaria-Project/ML/data/ten_single_topics_with_title_df.pkl')"
   ]
  },
  {
   "cell_type": "code",
   "execution_count": null,
   "metadata": {},
   "outputs": [],
   "source": []
  }
 ],
 "metadata": {
  "language_info": {
   "codemirror_mode": {
    "name": "ipython",
    "version": 3
   },
   "file_extension": ".py",
   "mimetype": "text/x-python",
   "name": "python",
   "nbconvert_exporter": "python",
   "pygments_lexer": "ipython3",
   "version": "3.7.5-final"
  },
  "orig_nbformat": 2,
  "kernelspec": {
   "name": "python37564bit375pyenv7a275cabd00a434e95b6ffccd3adbe7c",
   "display_name": "Python 3.7.5 64-bit ('3.7.5': pyenv)"
  }
 },
 "nbformat": 4,
 "nbformat_minor": 2
}