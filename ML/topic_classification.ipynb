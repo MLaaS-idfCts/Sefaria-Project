{
  "nbformat": 4,
  "nbformat_minor": 0,
  "metadata": {
    "colab": {
      "name": "topic_classification.ipynb",
      "provenance": [],
      "collapsed_sections": [],
      "mount_file_id": "https://github.com/yishairasowsky/Sefaria-Project/blob/master/ML/topic_classification.ipynb",
      "authorship_tag": "ABX9TyNfql7n9BIf5eQ3bC7CrnFM",
      "include_colab_link": true
    },
    "kernelspec": {
      "name": "python3",
      "display_name": "Python 3"
    }
  },
  "cells": [
    {
      "cell_type": "markdown",
      "metadata": {
        "id": "view-in-github",
        "colab_type": "text"
      },
      "source": [
        "<a href=\"https://colab.research.google.com/github/yishairasowsky/Sefaria-Project/blob/master/ML/topic_classification.ipynb\" target=\"_parent\"><img src=\"https://colab.research.google.com/assets/colab-badge.svg\" alt=\"Open In Colab\"/></a>"
      ]
    },
    {
      "cell_type": "code",
      "metadata": {
        "id": "996XuOF9zQp3",
        "colab_type": "code",
        "colab": {}
      },
      "source": [
        "import numpy as np \n",
        "import pandas as pd\n",
        "import shutil\n",
        "# shutil.move(\"/moses-sources.csv\", \"/content/drive/My Drive/Colab Datasets/moses-sources.csv\")\n",
        "# shutil.move(\"/abraham-sources.csv\", \"/content/drive/My Drive/Colab Datasets/abraham-sources.csv\")\n",
        "# encoding_type = \"latin-1\"\n",
        "encoding_type = \"utf-8\"\n",
        "\n",
        "prayer_df = pd.read_csv('/content/drive/My Drive/Colab Datasets/prayer-sources.csv', encoding=encoding_type)\n",
        "prayer_df['topic'] = 'prayer'\n",
        "\n",
        "# not_prayer_df = pd.read_csv('/content/drive/My Drive/Colab Datasets/not-prayer-sources.csv', encoding=encoding_type)\n",
        "# not_prayer_df['topic'] = 'not_prayer'\n",
        "\n",
        "moses_df = pd.read_csv('/content/drive/My Drive/Colab Datasets/moses-sources.csv', encoding=encoding_type)\n",
        "moses_df['topic'] = 'moses'\n",
        "\n",
        "abraham_df = pd.read_csv('/content/drive/My Drive/Colab Datasets/abraham-sources.csv', encoding=encoding_type)\n",
        "abraham_df['topic'] = 'abraham'\n",
        "\n",
        "df = pd.concat([prayer_df,\n",
        "                    # not_prayer_df,\n",
        "                    moses_df,\n",
        "                    abraham_df])\n",
        "\n",
        "# big_df = pd.read_csv('/content/drive/My Drive/Colab Datasets/yishai_data.csv',encoding=\"utf-8\")\n",
        "# big_df['En'] = big_df['En'].astype(str)\n",
        "# df = df.reset_index(drop=True)\n",
        "\n",
        "\n"
      ],
      "execution_count": 0,
      "outputs": []
    },
    {
      "cell_type": "code",
      "metadata": {
        "id": "V3u_D3ZbEh80",
        "colab_type": "code",
        "colab": {
          "base_uri": "https://localhost:8080/",
          "height": 212
        },
        "outputId": "dc066a95-deb6-4b48-e3ca-5e6750651ee3"
      },
      "source": [
        "\n",
        "df.info()"
      ],
      "execution_count": 97,
      "outputs": [
        {
          "output_type": "stream",
          "text": [
            "<class 'pandas.core.frame.DataFrame'>\n",
            "Int64Index: 2434 entries, 0 to 646\n",
            "Data columns (total 4 columns):\n",
            " #   Column  Non-Null Count  Dtype \n",
            "---  ------  --------------  ----- \n",
            " 0   Ref     2434 non-null   object\n",
            " 1   En      1341 non-null   object\n",
            " 2   He      2429 non-null   object\n",
            " 3   topic   2434 non-null   object\n",
            "dtypes: object(4)\n",
            "memory usage: 95.1+ KB\n"
          ],
          "name": "stdout"
        }
      ]
    },
    {
      "cell_type": "code",
      "metadata": {
        "id": "AlXqZX_oenT5",
        "colab_type": "code",
        "colab": {
          "base_uri": "https://localhost:8080/",
          "height": 437
        },
        "outputId": "857bbbfc-78b9-45cd-9c9b-908235dfe304"
      },
      "source": [
        "# print(big_df.info)\n",
        "# big_df.shape\n",
        "# small_df = big_df[:1000]\n",
        "# df = big_df\n",
        "df.sample(13)"
      ],
      "execution_count": 98,
      "outputs": [
        {
          "output_type": "execute_result",
          "data": {
            "text/html": [
              "<div>\n",
              "<style scoped>\n",
              "    .dataframe tbody tr th:only-of-type {\n",
              "        vertical-align: middle;\n",
              "    }\n",
              "\n",
              "    .dataframe tbody tr th {\n",
              "        vertical-align: top;\n",
              "    }\n",
              "\n",
              "    .dataframe thead th {\n",
              "        text-align: right;\n",
              "    }\n",
              "</style>\n",
              "<table border=\"1\" class=\"dataframe\">\n",
              "  <thead>\n",
              "    <tr style=\"text-align: right;\">\n",
              "      <th></th>\n",
              "      <th>Ref</th>\n",
              "      <th>En</th>\n",
              "      <th>He</th>\n",
              "      <th>topic</th>\n",
              "    </tr>\n",
              "  </thead>\n",
              "  <tbody>\n",
              "    <tr>\n",
              "      <th>509</th>\n",
              "      <td>Berakhot 4b:17-20</td>\n",
              "      <td>This statement extolling the significance of t...</td>\n",
              "      <td>מַאי טַעְמָא? אִילֵּימָא מִשּׁוּם דְּאָתְיָא ב...</td>\n",
              "      <td>prayer</td>\n",
              "    </tr>\n",
              "    <tr>\n",
              "      <th>179</th>\n",
              "      <td>Gevurot Hashem 16:4</td>\n",
              "      <td>NaN</td>\n",
              "      <td>ותהר האשה ותלד בן וגו' והא הות מעברא ביה מעיקר...</td>\n",
              "      <td>moses</td>\n",
              "    </tr>\n",
              "    <tr>\n",
              "      <th>344</th>\n",
              "      <td>Radak on Genesis 16:14:2</td>\n",
              "      <td>הנה בין קדש ובין ברד, The Torah gives an indic...</td>\n",
              "      <td>הנה בין קדש ובין ברד, נתן סימן לבאר הזה אנה הו...</td>\n",
              "      <td>abraham</td>\n",
              "    </tr>\n",
              "    <tr>\n",
              "      <th>441</th>\n",
              "      <td>Netzach Yisrael 53:1-3</td>\n",
              "      <td>NaN</td>\n",
              "      <td>כבר בארנו בחבור גבורות ה' כי לא היה דבר אחד בג...</td>\n",
              "      <td>moses</td>\n",
              "    </tr>\n",
              "    <tr>\n",
              "      <th>240</th>\n",
              "      <td>Alshich on Torah, Exodus 6:13:6</td>\n",
              "      <td>NaN</td>\n",
              "      <td>אמנם הנה כתבנו למעלה כי משה היה המתוקן לגאולה ...</td>\n",
              "      <td>moses</td>\n",
              "    </tr>\n",
              "    <tr>\n",
              "      <th>604</th>\n",
              "      <td>II Kings 4:9-11</td>\n",
              "      <td>And she said unto her husband: ‘Behold now, I ...</td>\n",
              "      <td>וַתֹּ֙אמֶר֙ אֶל־אִישָׁ֔הּ הִנֵּה־נָ֣א יָדַ֔עְת...</td>\n",
              "      <td>abraham</td>\n",
              "    </tr>\n",
              "    <tr>\n",
              "      <th>291</th>\n",
              "      <td>Or HaChaim on Numbers 14:24:1-2</td>\n",
              "      <td>ועבדי כלב , \"and My servant Caleb, etc.\" Why d...</td>\n",
              "      <td>ועבדי כלב עקב וגו' . צריך לדעת למה לא הזכיר אל...</td>\n",
              "      <td>prayer</td>\n",
              "    </tr>\n",
              "    <tr>\n",
              "      <th>413</th>\n",
              "      <td>Shem MiShmuel, Vayakhel 10:14</td>\n",
              "      <td>NaN</td>\n",
              "      <td>ונראה דהנה הערעור על משה בודאי איננו על מה שנט...</td>\n",
              "      <td>moses</td>\n",
              "    </tr>\n",
              "    <tr>\n",
              "      <th>711</th>\n",
              "      <td>Ibn Ezra on Exodus 2:3:2</td>\n",
              "      <td>NaN</td>\n",
              "      <td>ותחמרה . נחה ה''א כה''א ויקרא לה נובח בשמו. וז...</td>\n",
              "      <td>moses</td>\n",
              "    </tr>\n",
              "    <tr>\n",
              "      <th>282</th>\n",
              "      <td>Shenei Luchot HaBerit, Toldot Adam, Introducti...</td>\n",
              "      <td>NaN</td>\n",
              "      <td>וגם העבודה שבלבנו היא התפלה במקום קרבן המקרב ו...</td>\n",
              "      <td>prayer</td>\n",
              "    </tr>\n",
              "    <tr>\n",
              "      <th>41</th>\n",
              "      <td>Avot D'Rabbi Natan 1:2-3</td>\n",
              "      <td>The Torah was given at Sinai through Moses' ha...</td>\n",
              "      <td>ע״י משה נתנה תורה בסיני שנאמר (דברים ה׳:י״ט) ו...</td>\n",
              "      <td>moses</td>\n",
              "    </tr>\n",
              "    <tr>\n",
              "      <th>649</th>\n",
              "      <td>Exodus 32:17-18</td>\n",
              "      <td>And when Joshua heard the noise of the people ...</td>\n",
              "      <td>וַיִּשְׁמַ֧ע יְהוֹשֻׁ֛עַ אֶת־ק֥וֹל הָעָ֖ם בְּר...</td>\n",
              "      <td>moses</td>\n",
              "    </tr>\n",
              "    <tr>\n",
              "      <th>560</th>\n",
              "      <td>Genesis 18:31-33</td>\n",
              "      <td>And he said: ‘Behold now, I have taken upon me...</td>\n",
              "      <td>וַיֹּ֗אמֶר הִנֵּֽה־נָ֤א הוֹאַ֙לְתִּי֙ לְדַבֵּ֣...</td>\n",
              "      <td>abraham</td>\n",
              "    </tr>\n",
              "  </tbody>\n",
              "</table>\n",
              "</div>"
            ],
            "text/plain": [
              "                                                   Ref  ...    topic\n",
              "509                                  Berakhot 4b:17-20  ...   prayer\n",
              "179                                Gevurot Hashem 16:4  ...    moses\n",
              "344                           Radak on Genesis 16:14:2  ...  abraham\n",
              "441                             Netzach Yisrael 53:1-3  ...    moses\n",
              "240                    Alshich on Torah, Exodus 6:13:6  ...    moses\n",
              "604                                    II Kings 4:9-11  ...  abraham\n",
              "291                    Or HaChaim on Numbers 14:24:1-2  ...   prayer\n",
              "413                      Shem MiShmuel, Vayakhel 10:14  ...    moses\n",
              "711                           Ibn Ezra on Exodus 2:3:2  ...    moses\n",
              "282  Shenei Luchot HaBerit, Toldot Adam, Introducti...  ...   prayer\n",
              "41                            Avot D'Rabbi Natan 1:2-3  ...    moses\n",
              "649                                    Exodus 32:17-18  ...    moses\n",
              "560                                   Genesis 18:31-33  ...  abraham\n",
              "\n",
              "[13 rows x 4 columns]"
            ]
          },
          "metadata": {
            "tags": []
          },
          "execution_count": 98
        }
      ]
    },
    {
      "cell_type": "code",
      "metadata": {
        "id": "9sCfpHTkHmBD",
        "colab_type": "code",
        "colab": {
          "base_uri": "https://localhost:8080/",
          "height": 208
        },
        "outputId": "06f59a30-0c17-4412-bff2-5eade07c6132"
      },
      "source": [
        "# df['Topics'] = df['Topics'].astype(str)\n",
        "\n",
        "# print(\"\\nNulls before dropping:\",df.isnull().sum()[0])\n",
        "# df.dropna(how = 'any', inplace=True)\n",
        "# print(\"Nulls after dropping:\",df.isnull().sum()[0])\n",
        "\n",
        "print(\"Before dropping nulls\",df.shape)\n",
        "# df.dropna(how = 'any', inplace=True)\n",
        "df.dropna(inplace=True)\n",
        "# df.drop_duplicates(inplace=True)\n",
        "print(\"After dropping nulls\",df.shape)\n",
        "\n",
        "print(\"Before dropping duplicates\",df.shape)\n",
        "df.drop_duplicates(inplace=True)\n",
        "print(\"After dropping duplicates\",df.shape)\n",
        "\n",
        "# df['En'] = df['En'].astype(str)\n",
        "\n",
        "df = df.reset_index(drop=True)\n",
        "# all_prayer_df.sample(5)# null_filter = df[\"En\"] != \"\"\n",
        "# df = df[null_filter]\n",
        "df.sample(3)\n"
      ],
      "execution_count": 99,
      "outputs": [
        {
          "output_type": "stream",
          "text": [
            "Before dropping nulls (2434, 4)\n",
            "After dropping nulls (1341, 4)\n",
            "Before dropping duplicates (1341, 4)\n",
            "After dropping duplicates (1307, 4)\n"
          ],
          "name": "stdout"
        },
        {
          "output_type": "execute_result",
          "data": {
            "text/html": [
              "<div>\n",
              "<style scoped>\n",
              "    .dataframe tbody tr th:only-of-type {\n",
              "        vertical-align: middle;\n",
              "    }\n",
              "\n",
              "    .dataframe tbody tr th {\n",
              "        vertical-align: top;\n",
              "    }\n",
              "\n",
              "    .dataframe thead th {\n",
              "        text-align: right;\n",
              "    }\n",
              "</style>\n",
              "<table border=\"1\" class=\"dataframe\">\n",
              "  <thead>\n",
              "    <tr style=\"text-align: right;\">\n",
              "      <th></th>\n",
              "      <th>Ref</th>\n",
              "      <th>En</th>\n",
              "      <th>He</th>\n",
              "      <th>topic</th>\n",
              "    </tr>\n",
              "  </thead>\n",
              "  <tbody>\n",
              "    <tr>\n",
              "      <th>655</th>\n",
              "      <td>Bekhorot 44a:15-16</td>\n",
              "      <td>GEMARA: Rav says: Moses, our teacher, was ten ...</td>\n",
              "      <td>גמ׳ אמר רב משה רבינו עשר אמות היה שנאמר (שמות ...</td>\n",
              "      <td>moses</td>\n",
              "    </tr>\n",
              "    <tr>\n",
              "      <th>853</th>\n",
              "      <td>Exodus 16:5-12</td>\n",
              "      <td>And it shall come to pass on the sixth day tha...</td>\n",
              "      <td>וְהָיָה֙ בַּיּ֣וֹם הַשִּׁשִּׁ֔י וְהֵכִ֖ינוּ אֵ...</td>\n",
              "      <td>moses</td>\n",
              "    </tr>\n",
              "    <tr>\n",
              "      <th>428</th>\n",
              "      <td>Isaiah 45:7</td>\n",
              "      <td>I form the light, and create darkness; I make ...</td>\n",
              "      <td>יוֹצֵ֥ר אוֹר֙ וּבוֹרֵ֣א חֹ֔שֶׁךְ עֹשֶׂ֥ה שָׁל֖...</td>\n",
              "      <td>prayer</td>\n",
              "    </tr>\n",
              "  </tbody>\n",
              "</table>\n",
              "</div>"
            ],
            "text/plain": [
              "                    Ref  ...   topic\n",
              "655  Bekhorot 44a:15-16  ...   moses\n",
              "853      Exodus 16:5-12  ...   moses\n",
              "428         Isaiah 45:7  ...  prayer\n",
              "\n",
              "[3 rows x 4 columns]"
            ]
          },
          "metadata": {
            "tags": []
          },
          "execution_count": 99
        }
      ]
    },
    {
      "cell_type": "code",
      "metadata": {
        "id": "86ap1xH17BAF",
        "colab_type": "code",
        "colab": {
          "base_uri": "https://localhost:8080/",
          "height": 317
        },
        "outputId": "33b9266b-2c4b-4cb8-e851-f794fd60d1e8"
      },
      "source": [
        "df = df[['En','topic']]\n",
        "# df['topic'].str.split()\n",
        "df = df.join(df.pop('topic').str.get_dummies())\n",
        "# df = df.join(df.pop('topic').str.get_dummies(' '))\n",
        "df.sample(9)\n",
        "# df = small_df[['En','Topics']]\n",
        "# df['Topics'].str.split()\n",
        "# df = df.join(df.pop('Topics').str.get_dummies(' '))\n",
        "# df.head(3)"
      ],
      "execution_count": 100,
      "outputs": [
        {
          "output_type": "execute_result",
          "data": {
            "text/html": [
              "<div>\n",
              "<style scoped>\n",
              "    .dataframe tbody tr th:only-of-type {\n",
              "        vertical-align: middle;\n",
              "    }\n",
              "\n",
              "    .dataframe tbody tr th {\n",
              "        vertical-align: top;\n",
              "    }\n",
              "\n",
              "    .dataframe thead th {\n",
              "        text-align: right;\n",
              "    }\n",
              "</style>\n",
              "<table border=\"1\" class=\"dataframe\">\n",
              "  <thead>\n",
              "    <tr style=\"text-align: right;\">\n",
              "      <th></th>\n",
              "      <th>En</th>\n",
              "      <th>abraham</th>\n",
              "      <th>moses</th>\n",
              "      <th>prayer</th>\n",
              "    </tr>\n",
              "  </thead>\n",
              "  <tbody>\n",
              "    <tr>\n",
              "      <th>745</th>\n",
              "      <td>וראית את אחורי , \"you will see My back, etc.\" ...</td>\n",
              "      <td>0</td>\n",
              "      <td>1</td>\n",
              "      <td>0</td>\n",
              "    </tr>\n",
              "    <tr>\n",
              "      <th>1173</th>\n",
              "      <td>And Abram went up out of Egypt, he, and his wi...</td>\n",
              "      <td>1</td>\n",
              "      <td>0</td>\n",
              "      <td>0</td>\n",
              "    </tr>\n",
              "    <tr>\n",
              "      <th>875</th>\n",
              "      <td>And it came to pass, when the ark set forward,...</td>\n",
              "      <td>0</td>\n",
              "      <td>1</td>\n",
              "      <td>0</td>\n",
              "    </tr>\n",
              "    <tr>\n",
              "      <th>64</th>\n",
              "      <td>And Abraham drew near, and said: ‘Will You ind...</td>\n",
              "      <td>0</td>\n",
              "      <td>0</td>\n",
              "      <td>1</td>\n",
              "    </tr>\n",
              "    <tr>\n",
              "      <th>448</th>\n",
              "      <td>From what time may one recite the Shema in the...</td>\n",
              "      <td>0</td>\n",
              "      <td>0</td>\n",
              "      <td>1</td>\n",
              "    </tr>\n",
              "    <tr>\n",
              "      <th>459</th>\n",
              "      <td>The sacrifice is slaughtered for the sake of s...</td>\n",
              "      <td>0</td>\n",
              "      <td>0</td>\n",
              "      <td>1</td>\n",
              "    </tr>\n",
              "    <tr>\n",
              "      <th>547</th>\n",
              "      <td>During the prayer leader's repetition: We shal...</td>\n",
              "      <td>0</td>\n",
              "      <td>0</td>\n",
              "      <td>1</td>\n",
              "    </tr>\n",
              "    <tr>\n",
              "      <th>278</th>\n",
              "      <td>The Gemara asks: Who is the tanna who taught t...</td>\n",
              "      <td>0</td>\n",
              "      <td>0</td>\n",
              "      <td>1</td>\n",
              "    </tr>\n",
              "    <tr>\n",
              "      <th>202</th>\n",
              "      <td>There is a great difficulty in connection with...</td>\n",
              "      <td>0</td>\n",
              "      <td>0</td>\n",
              "      <td>1</td>\n",
              "    </tr>\n",
              "  </tbody>\n",
              "</table>\n",
              "</div>"
            ],
            "text/plain": [
              "                                                     En  abraham  moses  prayer\n",
              "745   וראית את אחורי , \"you will see My back, etc.\" ...        0      1       0\n",
              "1173  And Abram went up out of Egypt, he, and his wi...        1      0       0\n",
              "875   And it came to pass, when the ark set forward,...        0      1       0\n",
              "64    And Abraham drew near, and said: ‘Will You ind...        0      0       1\n",
              "448   From what time may one recite the Shema in the...        0      0       1\n",
              "459   The sacrifice is slaughtered for the sake of s...        0      0       1\n",
              "547   During the prayer leader's repetition: We shal...        0      0       1\n",
              "278   The Gemara asks: Who is the tanna who taught t...        0      0       1\n",
              "202   There is a great difficulty in connection with...        0      0       1"
            ]
          },
          "metadata": {
            "tags": []
          },
          "execution_count": 100
        }
      ]
    },
    {
      "cell_type": "code",
      "metadata": {
        "id": "z-yz9Jr7Yr9f",
        "colab_type": "code",
        "colab": {}
      },
      "source": [
        "# df.columns"
      ],
      "execution_count": 0,
      "outputs": []
    },
    {
      "cell_type": "code",
      "metadata": {
        "id": "xg0OiTjDK-FX",
        "colab_type": "code",
        "colab": {
          "base_uri": "https://localhost:8080/",
          "height": 197
        },
        "outputId": "4cfa25d0-76a9-4d51-ece4-60cafb57736e"
      },
      "source": [
        "# df[\"En\"].iloc[[67]]\n",
        "# df.iloc[[67]]\n",
        "# del df['not_prayer']\n",
        "df.sample(5)"
      ],
      "execution_count": 101,
      "outputs": [
        {
          "output_type": "execute_result",
          "data": {
            "text/html": [
              "<div>\n",
              "<style scoped>\n",
              "    .dataframe tbody tr th:only-of-type {\n",
              "        vertical-align: middle;\n",
              "    }\n",
              "\n",
              "    .dataframe tbody tr th {\n",
              "        vertical-align: top;\n",
              "    }\n",
              "\n",
              "    .dataframe thead th {\n",
              "        text-align: right;\n",
              "    }\n",
              "</style>\n",
              "<table border=\"1\" class=\"dataframe\">\n",
              "  <thead>\n",
              "    <tr style=\"text-align: right;\">\n",
              "      <th></th>\n",
              "      <th>En</th>\n",
              "      <th>abraham</th>\n",
              "      <th>moses</th>\n",
              "      <th>prayer</th>\n",
              "    </tr>\n",
              "  </thead>\n",
              "  <tbody>\n",
              "    <tr>\n",
              "      <th>56</th>\n",
              "      <td>The Gemara asks: And with regard to the other ...</td>\n",
              "      <td>0</td>\n",
              "      <td>0</td>\n",
              "      <td>1</td>\n",
              "    </tr>\n",
              "    <tr>\n",
              "      <th>1130</th>\n",
              "      <td>והיה שמך אברהם, “and your name will be Avraham...</td>\n",
              "      <td>1</td>\n",
              "      <td>0</td>\n",
              "      <td>0</td>\n",
              "    </tr>\n",
              "    <tr>\n",
              "      <th>971</th>\n",
              "      <td>And he recites at the end of all of these six ...</td>\n",
              "      <td>1</td>\n",
              "      <td>0</td>\n",
              "      <td>0</td>\n",
              "    </tr>\n",
              "    <tr>\n",
              "      <th>630</th>\n",
              "      <td>Alternatively, G'd implied that all the people...</td>\n",
              "      <td>0</td>\n",
              "      <td>1</td>\n",
              "      <td>0</td>\n",
              "    </tr>\n",
              "    <tr>\n",
              "      <th>853</th>\n",
              "      <td>And it shall come to pass on the sixth day tha...</td>\n",
              "      <td>0</td>\n",
              "      <td>1</td>\n",
              "      <td>0</td>\n",
              "    </tr>\n",
              "  </tbody>\n",
              "</table>\n",
              "</div>"
            ],
            "text/plain": [
              "                                                     En  abraham  moses  prayer\n",
              "56    The Gemara asks: And with regard to the other ...        0      0       1\n",
              "1130  והיה שמך אברהם, “and your name will be Avraham...        1      0       0\n",
              "971   And he recites at the end of all of these six ...        1      0       0\n",
              "630   Alternatively, G'd implied that all the people...        0      1       0\n",
              "853   And it shall come to pass on the sixth day tha...        0      1       0"
            ]
          },
          "metadata": {
            "tags": []
          },
          "execution_count": 101
        }
      ]
    },
    {
      "cell_type": "code",
      "metadata": {
        "id": "10tWS9UrNw9y",
        "colab_type": "code",
        "colab": {
          "base_uri": "https://localhost:8080/",
          "height": 70
        },
        "outputId": "2cd1eece-096d-4601-b924-26fe813f9ebd"
      },
      "source": [
        "# topics = df.columns\n",
        "topics = list(df.columns)\n",
        "\n",
        "# topics[:5]\n",
        "\n",
        "# type(list(df.columns))\n",
        "# topics[:5]\n",
        "\n",
        "del topics[0]\n",
        "\n",
        "# topics = ['prayer','moses','torah','god','egypt']\n",
        "\n",
        "# topics[:10]\n",
        "# type(topics )\n",
        "\n",
        "hits = {topic:df[topic].sum() for topic in topics}\n",
        "# hits['parah-adumah']\n",
        "from collections import Counter\n",
        "counter = Counter(hits)\n",
        "for topic, num in counter.most_common(10):\n",
        "     print( '%s: %i' % (topic, num))\n"
      ],
      "execution_count": 103,
      "outputs": [
        {
          "output_type": "stream",
          "text": [
            "prayer: 553\n",
            "moses: 394\n",
            "abraham: 360\n"
          ],
          "name": "stdout"
        }
      ]
    },
    {
      "cell_type": "code",
      "metadata": {
        "id": "AHrhoVPFY_Hy",
        "colab_type": "code",
        "colab": {
          "base_uri": "https://localhost:8080/",
          "height": 535
        },
        "outputId": "83db995f-8fcf-4415-ab7a-ba52c90c0f73"
      },
      "source": [
        "labels = df[topics]\n",
        "labels.head(3)\n",
        "\n",
        "import matplotlib as plt\n",
        "\n",
        "fig_size = plt.rcParams[\"figure.figsize\"]\n",
        "fig_size[0] = 10\n",
        "fig_size[1] = 8\n",
        "plt.rcParams[\"figure.figsize\"] = fig_size\n",
        "\n",
        "labels.sum(axis=0).plot.bar()\n",
        "\n",
        "# from sklearn.preprocessing import MultiLabelBinarizer\n",
        "# mlb = MultiLabelBinarizer()\n",
        "# mlb.fit(df['Topics'])\n",
        "# mlb.transform(df['Topics'])\n",
        "# df.head()\n"
      ],
      "execution_count": 104,
      "outputs": [
        {
          "output_type": "execute_result",
          "data": {
            "text/plain": [
              "<matplotlib.axes._subplots.AxesSubplot at 0x7f2691d4cb38>"
            ]
          },
          "metadata": {
            "tags": []
          },
          "execution_count": 104
        },
        {
          "output_type": "display_data",
          "data": {
            "image/png": "[encoded data removed]",
            "text/plain": [
              "<Figure size 720x576 with 1 Axes>"
            ]
          },
          "metadata": {
            "tags": [],
            "needs_background": "light"
          }
        }
      ]
    },
    {
      "cell_type": "code",
      "metadata": {
        "id": "gVi1DEIaTks1",
        "colab_type": "code",
        "colab": {}
      },
      "source": [
        "def preprocess_text(sen):\n",
        "    # Remove punctuations and numbers\n",
        "    sentence = re.sub('[^a-zA-Z]', ' ', sen)\n",
        "\n",
        "    # Single character removal\n",
        "    sentence = re.sub(r\"\\s+[a-zA-Z]\\s+\", ' ', sentence)\n",
        "\n",
        "    # Removing multiple spaces\n",
        "    sentence = re.sub(r'\\s+', ' ', sentence)\n",
        "\n",
        "    return sentence"
      ],
      "execution_count": 0,
      "outputs": []
    },
    {
      "cell_type": "code",
      "metadata": {
        "id": "19qRJrLGTmMP",
        "colab_type": "code",
        "colab": {}
      },
      "source": [
        "import re\n",
        "\n",
        "X = []\n",
        "sentences = list(df[\"En\"])\n",
        "for sen in sentences:\n",
        "    X.append(preprocess_text(sen))\n",
        "\n",
        "y = labels.values"
      ],
      "execution_count": 0,
      "outputs": []
    },
    {
      "cell_type": "code",
      "metadata": {
        "id": "sHZstSPlGmwi",
        "colab_type": "code",
        "colab": {
          "base_uri": "https://localhost:8080/",
          "height": 214
        },
        "outputId": "7ec9b34f-6410-4e36-e9ef-00dde6cd7964"
      },
      "source": [
        "X[:10]"
      ],
      "execution_count": 108,
      "outputs": [
        {
          "output_type": "execute_result",
          "data": {
            "text/plain": [
              "['Another of Abba Binyamin statements with regard to the laws of prayer was taught in baraita Abba Binyamin says If two people enter synagogue outside of the city in order to pray and one began praying before the other and did not wait for the other person to complete his prayer and left him alone in the synagogue his prayer is thrown back in his face Because he left the other person alone and caused him to be distracted during his prayer his own prayer is thrown back in his face as it is stated You who throw your soul in your face for your sake will the earth be forsaken The Rock will be moved from its place Job This verse indicates that one who left the other person alone effectively causes his soul as prayer is the outpouring of the soul before God to be thrown in his face God says to that person For your sake do you think because you left the earth will be forsaken that God will leave the world and the prayer of the other person will go unheard Not only that but it causes the Divine Presence to remove itself from Israel as it is stated in the continuation of the verse The Rock will be moved from its place The rock God is forced to remove His presence And Rock means nothing other than the Holy One Blessed be He as it is stated Of the Rock that gave birth to you you have been unmindful and you have forgotten God Who bore you Deuteronomy ',\n",
              " 'It was taught in baraita that Abba Binyamin said One prayer is only fully heard in synagogue as it is stated with regard to King Solomon prayer in the Temple Yet have You turned toward the prayer of Your servant and to his supplication Lord my God to listen to the song and the prayer which Your servant prays before You on this day Kings The following verse concludes To hear the prayer Your servant directs toward this place Kings We see that one prayer is heard specifically in the Temple of which the synagogue is microcosm Rav Yoshiyahu Pinto It may be inferred that in place of song synagogue where God praises are sung there prayer should be In explaining Abba Binyamin statement Ravin bar Rav Adda said that Rabbi Yitz ak said From where is it derived that the Holy One Blessed be He is located in synagogue As it is stated God stands in the congregation of God in the midst of the judges He judges Psalms The congregation of God is the place where people congregate to sing God praises and God is located among His congregation And from where is it derived that ten people who pray the Divine Presence is with them As it is stated God stands in the congregation of God and the minimum number of people that constitute congregation is quorum of ten ',\n",
              " 'Additionally Ravin bar Rav Adda said that Rabbi Yitz ak said One who is accustomed to come to the synagogue and did not come one day the Holy One Blessed be He asks about him as it were to determine what happened to him as it is stated Who among you fears the Lord Who hears the voice of His servant Though he walks in darkness and has no light let him trust in the name of the Lord and rely upon his God Isaiah In other words God asks who among you fears the Lord yet did not come to hear the voice of His servant the prayer leader who engages in the service of God He who went out before dawn and walks in darkness before prayer If it is for matter involving mitzva that he went and absented himself from prayer in the synagogue then despite the darkness there is light for him the aura of his mitzva will protect him But if it is for an optional matter some mundane purpose that he went and absented himself from prayer in the synagogue then even once the day begins there is no light for him Maharsha The verse continues Let him trust in the name of the Lord The Gemara asks What is the reason that God is so exacting with this person The Gemara answers Because he should have relied on the name of the Lord and trusted that he would not incur any loss if he postponed dealing with his mundane matters until after prayer in the synagogue and he did not rely on God On this same topic Rabbi Yo anan said When the Holy One Blessed be He enters synagogue and does not find ten people there He immediately becomes angry as it is stated Why when came was there no one When called there was no one to answer Behold with My rebuke dry up the sea make the rivers wilderness Isaiah Concerning another aspect of the constancy of prayer Rabbi elbo said that Rav Huna said One who sets fixed place for his prayer the God of Abraham assists him Since prayer parallels the Temple service it is sign of respect to set fixed place for this sacred rite Rabbi Yoshiyahu Pinto The God of Abraham assists him because this pious custom evokes Abraham conduct When he dies those who eulogize one who set fixed place for his prayer say about him Where is the humble one where is the pious one of the disciples of our father Abraham Presumably one who sets fixed place for prayer is disciple of Abraham in every respect including humility and piety Rabbi Yoshiyahu Pinto The Gemara asks From where do we derive that Abraham our father set fixed place for his prayer The Gemara answers As it is written And Abraham rose in the morning to the place where he had stood before God Genesis and the verb standing means nothing other than prayer as it is stated And Pinehas stood and prayed Psalms Rabbi elbo said that Rav Huna said One who leaves the synagogue should not take large strides because it creates the impression that he is eager to leave Abaye explained Rav Huna statement and said This halakha was only said with regard to leaving the synagogue where large strides seem particularly disrespectful However with regard to entering synagogue it is mitzva to run and one is permitted to rush and take large strides Rabbi Yoshiyahu Pinto As it is said And let us know eagerly strive to know the Lord Hosea One who eagerly enters synagogue displays his enthusiasm to follow the path of God ',\n",
              " 'Similarly it was taught in baraita that Rabbi Yishmael ben Elisha the High Priest said Once on Yom Kippur entered the innermost sanctum the Holy of Holies to offer incense and in vision saw Akatriel Ya the Lord of Hosts one of the names of God expressing His ultimate authority seated upon high and exalted throne see Isaiah And He said to me Yishmael My son bless Me said to Him the prayer that God prays May it be Your will that Your mercy overcome Your anger and may Your mercy prevail over Your other attributes and may You act toward Your children with the attribute of mercy and may You enter before them beyond the letter of the law The Holy One Blessed be He nodded His head and accepted the blessing This event teaches us that you should not take the blessing of an ordinary person lightly If God asked for and accepted man blessing all the more so that man must value the blessing of another man ',\n",
              " 'What is the meaning of that which is written But as for me let my prayer be unto You Lord in time of favor God in the abundance of Your mercy answer me with the truth of Your salvation Psalms It appears that the individual is praying that his prayers will coincide with special time of Divine favor When is time of favor It is at the time when the congregation is praying It is beneficial to pray together with the congregation for God does not fail to respond to the entreaties of the congregation Rabbi Yosei son of Rabbi anina said that the unique quality of communal prayer is derived from here Thus said the Lord in time of acceptance have answered you and on day of salvation have aided you Isaiah Rabbi a son of Rabbi anina said that it is derived from here Behold God is mighty He despises no one Job He adopts an alternative reading of the verse Behold God will not despise the prayer of the mighty e the community And it is written He has redeemed my soul in peace so that none came upon me for there were many with me God shall hear and answer them Psalms This verse teaches that the prayer was answered because there were many with me when it was offered That last proof was also taught in baraita Rabbi Natan says From where do we know that the Holy One Blessed be He does not despise the prayer of the masses As it is stated Behold God does not despise the mighty and it is written He has redeemed my soul in peace so that none came upon me for there were many with me Rabbi Natan interprets this not as David speaking about himself but as God speaking to Israel The Holy One Blessed be He says Anyone who engages in Torah study which is called peace in the verse All its ways are peace Proverbs and in acts of kindness and prays with the congregation ascribe to him credit as if he redeemed Me and My children from among the nations of the world Continuing to extol communal prayer Reish Lakish said One who has synagogue nearby in his city but does not enter to pray there is called an evil neighbor as it is stated Thus said the Lord As for all My evil neighbors who touch My inheritance which have caused My people Israel to inherit behold will pluck them up from off their land and will pluck the house of Judah up from among them Jeremiah One who only touches but does not enter the place of prayer My inheritance is considered an evil neighbor And furthermore he is punished in that he causes himself and his children to go into exile as it is stated Behold will pluck them up from off their land and will pluck the house of Judah up from among them The Gemara relates that when the Sages told Rabbi Yo anan that there are elders in Babylonia he was confounded and said It is written So that your days will be lengthened and the days of your children upon the land the Lord swore to your forefathers to give to them like the days of heaven on the earth Deuteronomy lengthened in Eretz Yisrael but not outside of the Land Why then do the residents of Babylonia live long lives When they told him that the people in Babylonia go early in the morning and go late in the evening to the synagogue he said That is what was effective for them in extending their lives As Rabbi Yehoshua ben Levi said to his sons Go early and go late and enter the synagogue so that your lives will be extended And Rabbi a son of Rabbi anina said Upon what verse is this based As it is stated Happy is the man who listens to Me watching daily at My gates guarding at My door posts Proverbs And the reward for doing so is written thereafter For whoso finds Me finds life and obtains the favor of the Lord Proverbs ',\n",
              " 'Hezekiah continued have received tradition from the house of my father father from King David the founding father of the dynasty of kings of Judea Even if sharp sword rests upon person neck he should not prevent himself from praying for mercy One may still hold out hope that his prayers will be answered as was David himself when he saw the Angel of Destruction but nonetheless prayed for mercy and his prayers were answered ',\n",
              " 'That was also taught in baraita One should neither stand upon chair nor upon stool nor in high place and pray Rather one should stand in low place and pray for there is no haughtiness before God As it is stated called to You Lord from the depths and it is written prayer for the impoverished when he is faint and pours out his complaint before God Psalms It is appropriate to feel impoverished when praying and make one requests humbly And Rabbi Yosei son of Rabbi anina said in the name of Rabbi Eliezer ben Ya akov When praying one should align his feet next to each other as single foot in order to model oneself after the angels with regard to whom it is stated And their feet were straight foot Ezekiel Rabbi Yitz ak said that Rabbi Yo anan said and Rabbi Yosei son of Rabbi anina said in the name of Rabbi Eliezer ben Ya akov What is the meaning of that which is written You shall not eat with the blood Leviticus You may not eat before you pray for your blood One may not eat before he prays Others say that Rabbi Yitz ak said that Rabbi Yo anan said that Rabbi Yosei son of Rabbi anina said in the name of Rabbi Eliezer ben Ya akov One who eats and drinks and later prays about him the verse states the rebuke of the prophet in the name of God And Me you have cast behind your back Kings One who sees to his own bodily needs by eating and drinking before prayer casts God aside according his arrogance and ego priority over God Maharsha Indeed do not read your back gavekha rather your pride ge ekha The Holy One Blessed be He said After this one has become arrogant and engaged in satisfying his own needs he only then accepted upon himself the kingdom of Heaven ',\n",
              " 'And Rabba bar innana Sava said in the name of Rav Anyone who can ask for mercy on behalf of another and does not ask is called sinner as it is stated following Samuel rebuke of the people As for me far be it from me that should transgress against the Lord in ceasing to pray for you but will teach you the good and the right way Samuel Had Samuel refrained from prayer he would have committed sin Rava said If the one in need of mercy is Torah scholar it is insufficient to merely pray on his behalf Rather one must make himself ill worrying about him ',\n",
              " 'After his prayer Rav said the following May it be Your will Lord our God that You grant us long life life of peace life of goodness life of blessing life of sustenance life of freedom of movement from place to place where we are not tied to one place life of dread of sin life without shame and disgrace life of wealth and honor life in which we have love of Torah and reverence for Heaven life in which You fulfill all the desires of our heart for good ',\n",
              " 'And Rabbi Elazar said different opinion One who is uncertain whether he recited Shema or whether he did not recite Shema must recite Shema again According to his opinion there is mitzva by Torah law to recite Shema However if one is uncertain whether he prayed or whether he did not pray he does not pray again as the obligation to pray is by rabbinic law And Rabbi Yo anan said He must pray again if only person would pray throughout the entire day ']"
            ]
          },
          "metadata": {
            "tags": []
          },
          "execution_count": 108
        }
      ]
    },
    {
      "cell_type": "code",
      "metadata": {
        "id": "FVRjn2jXGsXg",
        "colab_type": "code",
        "colab": {
          "base_uri": "https://localhost:8080/",
          "height": 194
        },
        "outputId": "e77fe4d6-d5f8-403e-9c69-9f0d1f0bc9b9"
      },
      "source": [
        "y[:10]"
      ],
      "execution_count": 110,
      "outputs": [
        {
          "output_type": "execute_result",
          "data": {
            "text/plain": [
              "array([[0, 0, 1],\n",
              "       [0, 0, 1],\n",
              "       [0, 0, 1],\n",
              "       [0, 0, 1],\n",
              "       [0, 0, 1],\n",
              "       [0, 0, 1],\n",
              "       [0, 0, 1],\n",
              "       [0, 0, 1],\n",
              "       [0, 0, 1],\n",
              "       [0, 0, 1]])"
            ]
          },
          "metadata": {
            "tags": []
          },
          "execution_count": 110
        }
      ]
    },
    {
      "cell_type": "code",
      "metadata": {
        "id": "17myUEZlTyip",
        "colab_type": "code",
        "colab": {}
      },
      "source": [
        "from sklearn.model_selection import train_test_split\n",
        "\n",
        "X_train, X_test, y_train, y_test = train_test_split(X, y, test_size=0.20, random_state=42)\n"
      ],
      "execution_count": 0,
      "outputs": []
    },
    {
      "cell_type": "code",
      "metadata": {
        "id": "1_tG6dBdT5N8",
        "colab_type": "code",
        "colab": {
          "base_uri": "https://localhost:8080/",
          "height": 34
        },
        "outputId": "f2f79e5f-dba0-4c01-ef3a-b89134d2feca"
      },
      "source": [
        "from keras.preprocessing.text import Tokenizer\n",
        "from keras.preprocessing.sequence import pad_sequences\n",
        "\n",
        "tokenizer = Tokenizer(num_words=5000)\n",
        "tokenizer.fit_on_texts(X_train)\n",
        "\n",
        "X_train = tokenizer.texts_to_sequences(X_train)\n",
        "X_test = tokenizer.texts_to_sequences(X_test)\n",
        "\n",
        "vocab_size = len(tokenizer.word_index) + 1\n",
        "\n",
        "maxlen = 200\n",
        "\n",
        "X_train = pad_sequences(X_train, padding='post', maxlen=maxlen)\n",
        "X_test = pad_sequences(X_test, padding='post', maxlen=maxlen)\n"
      ],
      "execution_count": 112,
      "outputs": [
        {
          "output_type": "stream",
          "text": [
            "Using TensorFlow backend.\n"
          ],
          "name": "stderr"
        }
      ]
    },
    {
      "cell_type": "code",
      "metadata": {
        "id": "pDeuXqW_s_40",
        "colab_type": "code",
        "colab": {
          "base_uri": "https://localhost:8080/",
          "height": 87
        },
        "outputId": "fd0e0623-dfd0-4414-83da-6380c0511b74"
      },
      "source": [
        "for matrix_name, matrix in {\n",
        "    'X_train':X_train, \n",
        "    'y_train':y_train, \n",
        "    'X_test':X_test, \n",
        "    'y_test':y_test\n",
        "    }.items():\n",
        "      print(matrix_name, matrix.shape)"
      ],
      "execution_count": 113,
      "outputs": [
        {
          "output_type": "stream",
          "text": [
            "X_train (1045, 200)\n",
            "y_train (1045, 3)\n",
            "X_test (262, 200)\n",
            "y_test (262, 3)\n"
          ],
          "name": "stdout"
        }
      ]
    },
    {
      "cell_type": "code",
      "metadata": {
        "id": "OleLTTGxUb7-",
        "colab_type": "code",
        "colab": {}
      },
      "source": [
        "from numpy import array\n",
        "from numpy import asarray\n",
        "from numpy import zeros\n",
        "\n",
        "embeddings_dictionary = dict()\n",
        "\n",
        "glove_file = open('/content/drive/My Drive/Colab Datasets/glove.6B.100d.txt', encoding=\"utf8\")\n",
        "\n",
        "for line in glove_file:\n",
        "    records = line.split()\n",
        "    word = records[0]\n",
        "    vector_dimensions = asarray(records[1:], dtype='float32')\n",
        "    embeddings_dictionary[word] = vector_dimensions\n",
        "glove_file.close()\n",
        "\n",
        "embedding_matrix = zeros((vocab_size, 100))\n",
        "for word, index in tokenizer.word_index.items():\n",
        "    embedding_vector = embeddings_dictionary.get(word)\n",
        "    if embedding_vector is not None:\n",
        "        embedding_matrix[index] = embedding_vector\n"
      ],
      "execution_count": 0,
      "outputs": []
    },
    {
      "cell_type": "code",
      "metadata": {
        "id": "l-wI54f4uLEB",
        "colab_type": "code",
        "colab": {}
      },
      "source": [
        "from keras.layers import Input\n",
        "from keras.layers.embeddings import Embedding\n",
        "from keras.layers import Flatten, LSTM\n",
        "from keras.layers.core import Activation, Dropout, Dense\n",
        "from keras.models import Model\n",
        "\n",
        "deep_inputs = Input(shape=(maxlen,))\n",
        "embedding_layer = Embedding(vocab_size, 100, weights=[embedding_matrix], trainable=False)(deep_inputs)\n",
        "LSTM_Layer_1 = LSTM(128)(embedding_layer)\n",
        "dense_layer_1 = Dense(3, activation='sigmoid')(LSTM_Layer_1)\n",
        "model = Model(inputs=deep_inputs, outputs=dense_layer_1)\n",
        "\n",
        "model.compile(loss='binary_crossentropy', optimizer='adam', metrics=['acc'])"
      ],
      "execution_count": 0,
      "outputs": []
    },
    {
      "cell_type": "code",
      "metadata": {
        "id": "5TUj3roqvIY7",
        "colab_type": "code",
        "colab": {
          "base_uri": "https://localhost:8080/",
          "height": 318
        },
        "outputId": "9dfb9575-4228-45b6-98e0-6a8f49e2ba63"
      },
      "source": [
        "print(model.summary())\n"
      ],
      "execution_count": 116,
      "outputs": [
        {
          "output_type": "stream",
          "text": [
            "Model: \"model_1\"\n",
            "_________________________________________________________________\n",
            "Layer (type)                 Output Shape              Param #   \n",
            "=================================================================\n",
            "input_1 (InputLayer)         (None, 200)               0         \n",
            "_________________________________________________________________\n",
            "embedding_1 (Embedding)      (None, 200, 100)          1128100   \n",
            "_________________________________________________________________\n",
            "lstm_1 (LSTM)                (None, 128)               117248    \n",
            "_________________________________________________________________\n",
            "dense_1 (Dense)              (None, 3)                 387       \n",
            "=================================================================\n",
            "Total params: 1,245,735\n",
            "Trainable params: 117,635\n",
            "Non-trainable params: 1,128,100\n",
            "_________________________________________________________________\n",
            "None\n"
          ],
          "name": "stdout"
        }
      ]
    },
    {
      "cell_type": "code",
      "metadata": {
        "id": "KLAeAQnAvM2x",
        "colab_type": "code",
        "colab": {
          "base_uri": "https://localhost:8080/",
          "height": 422
        },
        "outputId": "3eeffae3-cb85-4868-c35a-8578e20fc38d"
      },
      "source": [
        "from keras.utils import plot_model\n",
        "plot_model(model, to_file='model_plot4a.png', show_shapes=True, show_layer_names=True)\n"
      ],
      "execution_count": 117,
      "outputs": [
        {
          "output_type": "execute_result",
          "data": {
            "image/png": "[encoded data removed]",
            "text/plain": [
              "<IPython.core.display.Image object>"
            ]
          },
          "metadata": {
            "tags": []
          },
          "execution_count": 117
        }
      ]
    },
    {
      "cell_type": "code",
      "metadata": {
        "id": "Pt-tfBFavRTR",
        "colab_type": "code",
        "colab": {
          "base_uri": "https://localhost:8080/",
          "height": 212
        },
        "outputId": "9d90428b-17e2-4948-8948-b0f24c7cdd6f"
      },
      "source": [
        "history = model.fit(X_train, y_train, batch_size=128, epochs=5, verbose=1, validation_split=0.2)\n"
      ],
      "execution_count": 118,
      "outputs": [
        {
          "output_type": "stream",
          "text": [
            "Train on 836 samples, validate on 209 samples\n",
            "Epoch 1/5\n",
            "836/836 [==============================] - 6s 8ms/step - loss: 0.6763 - acc: 0.6515 - val_loss: 0.6675 - val_acc: 0.6667\n",
            "Epoch 2/5\n",
            "836/836 [==============================] - 6s 7ms/step - loss: 0.6570 - acc: 0.6667 - val_loss: 0.6500 - val_acc: 0.6683\n",
            "Epoch 3/5\n",
            "836/836 [==============================] - 6s 7ms/step - loss: 0.6246 - acc: 0.6726 - val_loss: 0.6408 - val_acc: 0.6715\n",
            "Epoch 4/5\n",
            "836/836 [==============================] - 6s 7ms/step - loss: 0.6140 - acc: 0.6762 - val_loss: 0.6294 - val_acc: 0.6794\n",
            "Epoch 5/5\n",
            "836/836 [==============================] - 6s 7ms/step - loss: 0.6059 - acc: 0.6894 - val_loss: 0.6211 - val_acc: 0.6810\n"
          ],
          "name": "stdout"
        }
      ]
    },
    {
      "cell_type": "code",
      "metadata": {
        "id": "AZD4yqQuakdQ",
        "colab_type": "code",
        "colab": {}
      },
      "source": [
        "# prayer_df.sample(3)"
      ],
      "execution_count": 0,
      "outputs": []
    },
    {
      "cell_type": "code",
      "metadata": {
        "id": "fODCiUmOzeOo",
        "colab_type": "code",
        "colab": {}
      },
      "source": [
        "# prayer_df['is_prayer'] = 'yes'\n",
        "# prayer_df = prayer_df[['En','is_prayer']]\n",
        "\n",
        "# prayer_df.tail(3)"
      ],
      "execution_count": 0,
      "outputs": []
    },
    {
      "cell_type": "code",
      "metadata": {
        "id": "ajQQYcXAbCPy",
        "colab_type": "code",
        "colab": {}
      },
      "source": [
        "# not_prayer_df.sample(3)"
      ],
      "execution_count": 0,
      "outputs": []
    },
    {
      "cell_type": "code",
      "metadata": {
        "id": "K0hGDwWFD5qC",
        "colab_type": "code",
        "colab": {}
      },
      "source": [
        "# not_prayer_df['is_prayer'] = 'no'\n",
        "# not_prayer_df = not_prayer_df[['En','is_prayer']]\n",
        "# not_prayer_df.sample(3)"
      ],
      "execution_count": 0,
      "outputs": []
    },
    {
      "cell_type": "code",
      "metadata": {
        "id": "CvkzcPuJJCnC",
        "colab_type": "code",
        "outputId": "51a343ee-9ea8-4174-db71-de67f9b7b484",
        "colab": {
          "base_uri": "https://localhost:8080/",
          "height": 204
        }
      },
      "source": [
        "# all_prayer_frames = [prayer_df, not_prayer_df]\n",
        "# all_prayer_df = pd.concat(all_prayer_frames)\n",
        "# all_prayer_df.reset_index(inplace=True)\n",
        "# all_prayer_df=all_prayer_df.rename(columns = {'En':'english_text'})\n",
        "\n",
        "\n",
        "# # all_prayer_df.style.set_properties({'align': 'right'})\n",
        "\n",
        "# # all_prayer_df.tail(3)\n",
        "# all_prayer_df.sample(5)\n",
        "big_df.sample(5)\n",
        "# # all_prayer_df.loc[[345]]"
      ],
      "execution_count": 0,
      "outputs": [
        {
          "output_type": "execute_result",
          "data": {
            "text/html": [
              "<div>\n",
              "<style scoped>\n",
              "    .dataframe tbody tr th:only-of-type {\n",
              "        vertical-align: middle;\n",
              "    }\n",
              "\n",
              "    .dataframe tbody tr th {\n",
              "        vertical-align: top;\n",
              "    }\n",
              "\n",
              "    .dataframe thead th {\n",
              "        text-align: right;\n",
              "    }\n",
              "</style>\n",
              "<table border=\"1\" class=\"dataframe\">\n",
              "  <thead>\n",
              "    <tr style=\"text-align: right;\">\n",
              "      <th></th>\n",
              "      <th>index</th>\n",
              "      <th>english_text</th>\n",
              "      <th>is_prayer</th>\n",
              "    </tr>\n",
              "  </thead>\n",
              "  <tbody>\n",
              "    <tr>\n",
              "      <th>273</th>\n",
              "      <td>273</td>\n",
              "      <td>'××ª×§×¨× ×©× ×, the meaning of the words ...</td>\n",
              "      <td>yes</td>\n",
              "    </tr>\n",
              "    <tr>\n",
              "      <th>83</th>\n",
              "      <td>83</td>\n",
              "      <td>And Moses and Aaron went out from Pharaoh; and...</td>\n",
              "      <td>yes</td>\n",
              "    </tr>\n",
              "    <tr>\n",
              "      <th>1376</th>\n",
              "      <td>324</td>\n",
              "      <td>And furthermore, if it should enter your mind ...</td>\n",
              "      <td>no</td>\n",
              "    </tr>\n",
              "    <tr>\n",
              "      <th>343</th>\n",
              "      <td>343</td>\n",
              "      <td>The Gemara relates another incident involving ...</td>\n",
              "      <td>yes</td>\n",
              "    </tr>\n",
              "    <tr>\n",
              "      <th>569</th>\n",
              "      <td>569</td>\n",
              "      <td>NaN</td>\n",
              "      <td>yes</td>\n",
              "    </tr>\n",
              "  </tbody>\n",
              "</table>\n",
              "</div>"
            ],
            "text/plain": [
              "      index                                       english_text is_prayer\n",
              "273     273  '××ª×§×¨× ×©× ×, the meaning of the words ...       yes\n",
              "83       83  And Moses and Aaron went out from Pharaoh; and...       yes\n",
              "1376    324  And furthermore, if it should enter your mind ...        no\n",
              "343     343  The Gemara relates another incident involving ...       yes\n",
              "569     569                                                NaN       yes"
            ]
          },
          "metadata": {
            "tags": []
          },
          "execution_count": 12
        }
      ]
    },
    {
      "cell_type": "code",
      "metadata": {
        "id": "gJt5XbHpDDdT",
        "colab_type": "code",
        "outputId": "1305b35e-1b0e-4c25-ce85-21600ce0276f",
        "colab": {
          "base_uri": "https://localhost:8080/",
          "height": 142
        }
      },
      "source": [
        "del all_prayer_df['index']\n",
        "\n",
        "all_prayer_df.sample(3)"
      ],
      "execution_count": 0,
      "outputs": [
        {
          "output_type": "execute_result",
          "data": {
            "text/html": [
              "<div>\n",
              "<style scoped>\n",
              "    .dataframe tbody tr th:only-of-type {\n",
              "        vertical-align: middle;\n",
              "    }\n",
              "\n",
              "    .dataframe tbody tr th {\n",
              "        vertical-align: top;\n",
              "    }\n",
              "\n",
              "    .dataframe thead th {\n",
              "        text-align: right;\n",
              "    }\n",
              "</style>\n",
              "<table border=\"1\" class=\"dataframe\">\n",
              "  <thead>\n",
              "    <tr style=\"text-align: right;\">\n",
              "      <th></th>\n",
              "      <th>english_text</th>\n",
              "      <th>is_prayer</th>\n",
              "    </tr>\n",
              "  </thead>\n",
              "  <tbody>\n",
              "    <tr>\n",
              "      <th>1980</th>\n",
              "      <td>NaN</td>\n",
              "      <td>no</td>\n",
              "    </tr>\n",
              "    <tr>\n",
              "      <th>217</th>\n",
              "      <td>NaN</td>\n",
              "      <td>yes</td>\n",
              "    </tr>\n",
              "    <tr>\n",
              "      <th>1342</th>\n",
              "      <td>MISHNA: All foods that became ritually impure ...</td>\n",
              "      <td>no</td>\n",
              "    </tr>\n",
              "  </tbody>\n",
              "</table>\n",
              "</div>"
            ],
            "text/plain": [
              "                                           english_text is_prayer\n",
              "1980                                                NaN        no\n",
              "217                                                 NaN       yes\n",
              "1342  MISHNA: All foods that became ritually impure ...        no"
            ]
          },
          "metadata": {
            "tags": []
          },
          "execution_count": 13
        }
      ]
    },
    {
      "cell_type": "code",
      "metadata": {
        "id": "ZJihXdQuJy7p",
        "colab_type": "code",
        "outputId": "1aea3398-0268-46ee-91d4-6c0786ada7f9",
        "colab": {
          "base_uri": "https://localhost:8080/",
          "height": 102
        }
      },
      "source": [
        "print(\"Before dropping duplicates\",all_prayer_df.shape)\n",
        "all_prayer_df.drop_duplicates(inplace=True)\n",
        "print(\"After dropping duplicates\",all_prayer_df.shape)\n",
        "\n",
        "print(\"\\nNulls before dropping:\",all_prayer_df.isnull().sum()[0])\n",
        "all_prayer_df.dropna(inplace=True)\n",
        "print(\"Nulls after dropping:\",all_prayer_df.isnull().sum()[0])\n",
        "\n",
        "# all_prayer_df.isnull().sum()\n",
        "# all_prayer_df.sample(5)"
      ],
      "execution_count": 0,
      "outputs": [
        {
          "output_type": "stream",
          "text": [
            "Before dropping duplicates (2103, 2)\n",
            "After dropping duplicates (1223, 2)\n",
            "\n",
            "Nulls before dropping: 2\n",
            "Nulls after dropping: 0\n"
          ],
          "name": "stdout"
        }
      ]
    },
    {
      "cell_type": "code",
      "metadata": {
        "colab_type": "code",
        "outputId": "1fdf337c-1dc5-4b5d-8aee-7e288af7d288",
        "id": "bOYMROhKILvq",
        "colab": {
          "base_uri": "https://localhost:8080/",
          "height": 34
        }
      },
      "source": [
        "shape = all_prayer_df.shape\n",
        "print(f\"{shape[0]} rows and {shape[1]} columns\")"
      ],
      "execution_count": 0,
      "outputs": [
        {
          "output_type": "stream",
          "text": [
            "1221 rows and 2 columns\n"
          ],
          "name": "stdout"
        }
      ]
    },
    {
      "cell_type": "code",
      "metadata": {
        "id": "FTVM9f5lKkBp",
        "colab_type": "code",
        "outputId": "2de29612-6424-4aa3-f299-f0b4d56c287f",
        "colab": {
          "base_uri": "https://localhost:8080/",
          "height": 204
        }
      },
      "source": [
        "all_prayer_df['is_prayer'] = all_prayer_df['is_prayer'].map({'no': 0, 'yes': 1})\n",
        "all_prayer_df.sample(5)"
      ],
      "execution_count": 0,
      "outputs": [
        {
          "output_type": "execute_result",
          "data": {
            "text/html": [
              "<div>\n",
              "<style scoped>\n",
              "    .dataframe tbody tr th:only-of-type {\n",
              "        vertical-align: middle;\n",
              "    }\n",
              "\n",
              "    .dataframe tbody tr th {\n",
              "        vertical-align: top;\n",
              "    }\n",
              "\n",
              "    .dataframe thead th {\n",
              "        text-align: right;\n",
              "    }\n",
              "</style>\n",
              "<table border=\"1\" class=\"dataframe\">\n",
              "  <thead>\n",
              "    <tr style=\"text-align: right;\">\n",
              "      <th></th>\n",
              "      <th>english_text</th>\n",
              "      <th>is_prayer</th>\n",
              "    </tr>\n",
              "  </thead>\n",
              "  <tbody>\n",
              "    <tr>\n",
              "      <th>1340</th>\n",
              "      <td>The Jewish neighbors came and spoke to Abaye, ...</td>\n",
              "      <td>0</td>\n",
              "    </tr>\n",
              "    <tr>\n",
              "      <th>996</th>\n",
              "      <td>The Gemara asks: Is that to say that one who r...</td>\n",
              "      <td>1</td>\n",
              "    </tr>\n",
              "    <tr>\n",
              "      <th>281</th>\n",
              "      <td>And furthermore, Rabbi Yosei said: May my port...</td>\n",
              "      <td>1</td>\n",
              "    </tr>\n",
              "    <tr>\n",
              "      <th>1638</th>\n",
              "      <td>When Jehoiakim came along and reigned, he said...</td>\n",
              "      <td>0</td>\n",
              "    </tr>\n",
              "    <tr>\n",
              "      <th>15</th>\n",
              "      <td>On the topic of prayers recited while travelin...</td>\n",
              "      <td>1</td>\n",
              "    </tr>\n",
              "  </tbody>\n",
              "</table>\n",
              "</div>"
            ],
            "text/plain": [
              "                                           english_text  is_prayer\n",
              "1340  The Jewish neighbors came and spoke to Abaye, ...          0\n",
              "996   The Gemara asks: Is that to say that one who r...          1\n",
              "281   And furthermore, Rabbi Yosei said: May my port...          1\n",
              "1638  When Jehoiakim came along and reigned, he said...          0\n",
              "15    On the topic of prayers recited while travelin...          1"
            ]
          },
          "metadata": {
            "tags": []
          },
          "execution_count": 16
        }
      ]
    },
    {
      "cell_type": "code",
      "metadata": {
        "id": "VfdJsX-DGx-j",
        "colab_type": "code",
        "outputId": "cb4d471b-5fdc-485a-bb67-fe29a90ea795",
        "colab": {
          "base_uri": "https://localhost:8080/",
          "height": 51
        }
      },
      "source": [
        "print('Prayer:', (all_prayer_df.is_prayer.values == 1).sum())\n",
        "print('Not prayer:', (all_prayer_df.is_prayer.values == 0).sum())"
      ],
      "execution_count": 0,
      "outputs": [
        {
          "output_type": "stream",
          "text": [
            "Prayer: 553\n",
            "Not prayer: 668\n"
          ],
          "name": "stdout"
        }
      ]
    },
    {
      "cell_type": "code",
      "metadata": {
        "id": "t0eM00ODKkF9",
        "colab_type": "code",
        "outputId": "593b91b2-2c17-481d-eb73-d67fe5a5bc5e",
        "colab": {
          "base_uri": "https://localhost:8080/",
          "height": 51
        }
      },
      "source": [
        "import re\n",
        "import nltk\n",
        "import string\n",
        "nltk.download('stopwords')\n",
        "from nltk.corpus import stopwords\n",
        "\n",
        "REPLACE_BY_SPACE_RE = re.compile('[/(){}\\[\\]\\|@,;]')\n",
        "\n",
        "# BAD_SYMBOLS_RE = re.compile('[^a-z #+_]')\n",
        "BAD_SYMBOLS_RE = re.compile('[^0-9a-z #+_]')\n",
        "\n",
        "# BAD_SYMBOLS_RE = re.compile('[^0-9a-z #+_ \\b\\d+\\b]')\n",
        "STOPWORDS = set(stopwords.words('english'))\n",
        "\n",
        "def process_text(text):\n",
        "    #  text = BeautifulSoup(text, \"lxml\").text # HTML decoding\n",
        "    text = text.lower() # lowercase text\n",
        "    text = REPLACE_BY_SPACE_RE.sub(' ', text) # replace REPLACE_BY_SPACE_RE symbols by space in text\n",
        "    text = BAD_SYMBOLS_RE.sub('', text) # delete symbols which are in BAD_SYMBOLS_RE from text\n",
        "    text = ' '.join(word for word in text.split() if word not in STOPWORDS) # delete stopwors from text\n",
        "    return text\n",
        "\n",
        "from nltk.stem.snowball import SnowballStemmer\n",
        "\n",
        "stemmer = SnowballStemmer(\"english\")\n",
        "\n",
        "def stemming(sentence):\n",
        "    stemSentence = \"\"\n",
        "    for word in sentence.split():\n",
        "        stem = stemmer.stem(word)\n",
        "        stemSentence += stem\n",
        "        stemSentence += \" \"\n",
        "    stemSentence = stemSentence.strip()\n",
        "    return stemSentence\n",
        "\n",
        "# whitelist = set('abcdefghijklmnopqrstuvwxyz ZXCVBNMASDFGHJKLQWERTYUIOP')\n",
        "# genres['movie_id'] = genres['movie_id'].astype(str)\n",
        "\n",
        "# def process_text(text):\n",
        "#     '''\n",
        "#     1. Keep only letters and spaces\n",
        "#     2. Remove stopwords\n",
        "#     3. Return str of clean text words\n",
        "#     '''\n",
        "#     #1\n",
        "#     chars_str = ''.join(filter(whitelist.__contains__, text))\n",
        "#     #2\n",
        "#     clean_words = [word.lower() for word in chars_str.split() if word.lower() not in stopwords.words('english')]\n",
        "#     #3\n",
        "#     return ' '.join(clean_words)"
      ],
      "execution_count": 0,
      "outputs": [
        {
          "output_type": "stream",
          "text": [
            "[nltk_data] Downloading package stopwords to /root/nltk_data...\n",
            "[nltk_data]   Unzipping corpora/stopwords.zip.\n"
          ],
          "name": "stdout"
        }
      ]
    },
    {
      "cell_type": "code",
      "metadata": {
        "id": "CNQY4EBzKkOj",
        "colab_type": "code",
        "outputId": "f56f801e-95cf-4920-c855-8c83960dd9a0",
        "colab": {
          "base_uri": "https://localhost:8080/",
          "height": 34
        }
      },
      "source": [
        "sample_text = '''aBC.!@#$%^&    c*(בחתו ‎‎‎ או‎ בקרחתו — une...\n",
        "233 the gns: ac ...\n",
        "1041    7. a pien p'''\n",
        "process_text(sample_text)"
      ],
      "execution_count": 0,
      "outputs": [
        {
          "output_type": "execute_result",
          "data": {
            "text/plain": [
              "'abc # c une233 gns ac 1041 7 pien p'"
            ]
          },
          "metadata": {
            "tags": []
          },
          "execution_count": 19
        }
      ]
    },
    {
      "cell_type": "code",
      "metadata": {
        "id": "Pj0D-XrRKkSk",
        "colab_type": "code",
        "outputId": "9c6fabf9-bfa6-40ff-c507-2d3cf5d761a4",
        "colab": {
          "base_uri": "https://localhost:8080/",
          "height": 204
        }
      },
      "source": [
        "all_prayer_df.sample(5)"
      ],
      "execution_count": 0,
      "outputs": [
        {
          "output_type": "execute_result",
          "data": {
            "text/html": [
              "<div>\n",
              "<style scoped>\n",
              "    .dataframe tbody tr th:only-of-type {\n",
              "        vertical-align: middle;\n",
              "    }\n",
              "\n",
              "    .dataframe tbody tr th {\n",
              "        vertical-align: top;\n",
              "    }\n",
              "\n",
              "    .dataframe thead th {\n",
              "        text-align: right;\n",
              "    }\n",
              "</style>\n",
              "<table border=\"1\" class=\"dataframe\">\n",
              "  <thead>\n",
              "    <tr style=\"text-align: right;\">\n",
              "      <th></th>\n",
              "      <th>english_text</th>\n",
              "      <th>is_prayer</th>\n",
              "    </tr>\n",
              "  </thead>\n",
              "  <tbody>\n",
              "    <tr>\n",
              "      <th>1730</th>\n",
              "      <td>××¢×©××ª ××¨ ××× ×××¡××¨×ª× AND THOU...</td>\n",
              "      <td>0</td>\n",
              "    </tr>\n",
              "    <tr>\n",
              "      <th>528</th>\n",
              "      <td>JOY: The second [branch of love of G-d] is joy...</td>\n",
              "      <td>1</td>\n",
              "    </tr>\n",
              "    <tr>\n",
              "      <th>1465</th>\n",
              "      <td>(1) Sins between man and G-d only. For example...</td>\n",
              "      <td>0</td>\n",
              "    </tr>\n",
              "    <tr>\n",
              "      <th>1066</th>\n",
              "      <td>But if its name must be á¸¥agav , one might ha...</td>\n",
              "      <td>0</td>\n",
              "    </tr>\n",
              "    <tr>\n",
              "      <th>1375</th>\n",
              "      <td>And the women said unto Naomi: âBlessed be t...</td>\n",
              "      <td>0</td>\n",
              "    </tr>\n",
              "  </tbody>\n",
              "</table>\n",
              "</div>"
            ],
            "text/plain": [
              "                                           english_text  is_prayer\n",
              "1730  ××¢×©××ª ××¨ ××× ×××¡××¨×ª× AND THOU...          0\n",
              "528   JOY: The second [branch of love of G-d] is joy...          1\n",
              "1465  (1) Sins between man and G-d only. For example...          0\n",
              "1066  But if its name must be á¸¥agav , one might ha...          0\n",
              "1375  And the women said unto Naomi: âBlessed be t...          0"
            ]
          },
          "metadata": {
            "tags": []
          },
          "execution_count": 20
        }
      ]
    },
    {
      "cell_type": "code",
      "metadata": {
        "id": "10Z1Naa5GLN5",
        "colab_type": "code",
        "outputId": "a872a5a6-e77c-4fc9-ee49-a183576f0583",
        "colab": {
          "base_uri": "https://localhost:8080/",
          "height": 204
        }
      },
      "source": [
        "processed_df = all_prayer_df\n",
        "processed_df['english_text'] = processed_df['english_text'].apply(process_text)\n",
        "processed_df.head(5)"
      ],
      "execution_count": 0,
      "outputs": [
        {
          "output_type": "execute_result",
          "data": {
            "text/html": [
              "<div>\n",
              "<style scoped>\n",
              "    .dataframe tbody tr th:only-of-type {\n",
              "        vertical-align: middle;\n",
              "    }\n",
              "\n",
              "    .dataframe tbody tr th {\n",
              "        vertical-align: top;\n",
              "    }\n",
              "\n",
              "    .dataframe thead th {\n",
              "        text-align: right;\n",
              "    }\n",
              "</style>\n",
              "<table border=\"1\" class=\"dataframe\">\n",
              "  <thead>\n",
              "    <tr style=\"text-align: right;\">\n",
              "      <th></th>\n",
              "      <th>english_text</th>\n",
              "      <th>is_prayer</th>\n",
              "    </tr>\n",
              "  </thead>\n",
              "  <tbody>\n",
              "    <tr>\n",
              "      <th>0</th>\n",
              "      <td>another abba binyamins statements regard laws ...</td>\n",
              "      <td>1</td>\n",
              "    </tr>\n",
              "    <tr>\n",
              "      <th>1</th>\n",
              "      <td>taught baraita abba binyamin said ones prayer ...</td>\n",
              "      <td>1</td>\n",
              "    </tr>\n",
              "    <tr>\n",
              "      <th>2</th>\n",
              "      <td>additionally ravin bar rav adda said rabbi yit...</td>\n",
              "      <td>1</td>\n",
              "    </tr>\n",
              "    <tr>\n",
              "      <th>3</th>\n",
              "      <td>similarly taught baraita rabbi yishmael ben el...</td>\n",
              "      <td>1</td>\n",
              "    </tr>\n",
              "    <tr>\n",
              "      <th>4</th>\n",
              "      <td>meaning written let prayer unto lord time favo...</td>\n",
              "      <td>1</td>\n",
              "    </tr>\n",
              "  </tbody>\n",
              "</table>\n",
              "</div>"
            ],
            "text/plain": [
              "                                        english_text  is_prayer\n",
              "0  another abba binyamins statements regard laws ...          1\n",
              "1  taught baraita abba binyamin said ones prayer ...          1\n",
              "2  additionally ravin bar rav adda said rabbi yit...          1\n",
              "3  similarly taught baraita rabbi yishmael ben el...          1\n",
              "4  meaning written let prayer unto lord time favo...          1"
            ]
          },
          "metadata": {
            "tags": []
          },
          "execution_count": 21
        }
      ]
    },
    {
      "cell_type": "code",
      "metadata": {
        "id": "9Oj4-qeRGGXm",
        "colab_type": "code",
        "outputId": "291230f7-3c83-4ae3-e5df-864b1bfccddc",
        "colab": {
          "base_uri": "https://localhost:8080/",
          "height": 204
        }
      },
      "source": [
        "# all_prayer_df['En'] = all_prayer_df['En'].apply(stemming)\n",
        "# all_prayer_df.head()\n",
        "stemmed_df = processed_df\n",
        "stemmed_df['english_text'] = stemmed_df['english_text'].apply(stemming)\n",
        "stemmed_df.head()"
      ],
      "execution_count": 0,
      "outputs": [
        {
          "output_type": "execute_result",
          "data": {
            "text/html": [
              "<div>\n",
              "<style scoped>\n",
              "    .dataframe tbody tr th:only-of-type {\n",
              "        vertical-align: middle;\n",
              "    }\n",
              "\n",
              "    .dataframe tbody tr th {\n",
              "        vertical-align: top;\n",
              "    }\n",
              "\n",
              "    .dataframe thead th {\n",
              "        text-align: right;\n",
              "    }\n",
              "</style>\n",
              "<table border=\"1\" class=\"dataframe\">\n",
              "  <thead>\n",
              "    <tr style=\"text-align: right;\">\n",
              "      <th></th>\n",
              "      <th>english_text</th>\n",
              "      <th>is_prayer</th>\n",
              "    </tr>\n",
              "  </thead>\n",
              "  <tbody>\n",
              "    <tr>\n",
              "      <th>0</th>\n",
              "      <td>anoth abba binyamin statement regard law praye...</td>\n",
              "      <td>1</td>\n",
              "    </tr>\n",
              "    <tr>\n",
              "      <th>1</th>\n",
              "      <td>taught baraita abba binyamin said one prayer f...</td>\n",
              "      <td>1</td>\n",
              "    </tr>\n",
              "    <tr>\n",
              "      <th>2</th>\n",
              "      <td>addit ravin bar rav adda said rabbi yitzak sai...</td>\n",
              "      <td>1</td>\n",
              "    </tr>\n",
              "    <tr>\n",
              "      <th>3</th>\n",
              "      <td>similar taught baraita rabbi yishmael ben elis...</td>\n",
              "      <td>1</td>\n",
              "    </tr>\n",
              "    <tr>\n",
              "      <th>4</th>\n",
              "      <td>mean written let prayer unto lord time favor g...</td>\n",
              "      <td>1</td>\n",
              "    </tr>\n",
              "  </tbody>\n",
              "</table>\n",
              "</div>"
            ],
            "text/plain": [
              "                                        english_text  is_prayer\n",
              "0  anoth abba binyamin statement regard law praye...          1\n",
              "1  taught baraita abba binyamin said one prayer f...          1\n",
              "2  addit ravin bar rav adda said rabbi yitzak sai...          1\n",
              "3  similar taught baraita rabbi yishmael ben elis...          1\n",
              "4  mean written let prayer unto lord time favor g...          1"
            ]
          },
          "metadata": {
            "tags": []
          },
          "execution_count": 22
        }
      ]
    },
    {
      "cell_type": "code",
      "metadata": {
        "id": "CCdshXlYKka3",
        "colab_type": "code",
        "colab": {}
      },
      "source": [
        "# from wordcloud import WordCloud\n",
        "# import matplotlib.pyplot as plt\n",
        "\n",
        "# prayer_words = ' '.join(list(all_prayer_df[stemmed_df['is_prayer'] == 1]['En']))\n",
        "# prayer_wc = WordCloud(width = 512,height = 512).generate(prayer_words)\n",
        "# plt.figure(figsize = (10, 8), facecolor = 'k')\n",
        "# plt.imshow(prayer_wc)\n",
        "# plt.axis('off')\n",
        "# plt.tight_layout(pad = 0)\n",
        "# plt.show()"
      ],
      "execution_count": 0,
      "outputs": []
    },
    {
      "cell_type": "code",
      "metadata": {
        "id": "KBWTtiYTKkX4",
        "colab_type": "code",
        "colab": {}
      },
      "source": [
        "# not_prayer_words = ' '.join(list(all_prayer_df[all_prayer_df['is_prayer'] == 0]['En']))\n",
        "# not_prayer_wc = WordCloud(width = 512,height = 512).generate(not_prayer_words)\n",
        "# plt.figure(figsize = (10, 8), facecolor = 'k')\n",
        "# plt.imshow(not_prayer_wc)\n",
        "# plt.axis('off')\n",
        "# plt.tight_layout(pad = 0)\n",
        "# plt.show()"
      ],
      "execution_count": 0,
      "outputs": []
    },
    {
      "cell_type": "code",
      "metadata": {
        "id": "YOt4N48JrrUY",
        "colab_type": "code",
        "outputId": "fe9c4b55-adfc-4b0d-ea36-5cddd0247cb4",
        "colab": {
          "base_uri": "https://localhost:8080/",
          "height": 204
        }
      },
      "source": [
        "df = stemmed_df\n",
        "df.head()"
      ],
      "execution_count": 0,
      "outputs": [
        {
          "output_type": "execute_result",
          "data": {
            "text/html": [
              "<div>\n",
              "<style scoped>\n",
              "    .dataframe tbody tr th:only-of-type {\n",
              "        vertical-align: middle;\n",
              "    }\n",
              "\n",
              "    .dataframe tbody tr th {\n",
              "        vertical-align: top;\n",
              "    }\n",
              "\n",
              "    .dataframe thead th {\n",
              "        text-align: right;\n",
              "    }\n",
              "</style>\n",
              "<table border=\"1\" class=\"dataframe\">\n",
              "  <thead>\n",
              "    <tr style=\"text-align: right;\">\n",
              "      <th></th>\n",
              "      <th>english_text</th>\n",
              "      <th>is_prayer</th>\n",
              "    </tr>\n",
              "  </thead>\n",
              "  <tbody>\n",
              "    <tr>\n",
              "      <th>0</th>\n",
              "      <td>anoth abba binyamin statement regard law praye...</td>\n",
              "      <td>1</td>\n",
              "    </tr>\n",
              "    <tr>\n",
              "      <th>1</th>\n",
              "      <td>taught baraita abba binyamin said one prayer f...</td>\n",
              "      <td>1</td>\n",
              "    </tr>\n",
              "    <tr>\n",
              "      <th>2</th>\n",
              "      <td>addit ravin bar rav adda said rabbi yitzak sai...</td>\n",
              "      <td>1</td>\n",
              "    </tr>\n",
              "    <tr>\n",
              "      <th>3</th>\n",
              "      <td>similar taught baraita rabbi yishmael ben elis...</td>\n",
              "      <td>1</td>\n",
              "    </tr>\n",
              "    <tr>\n",
              "      <th>4</th>\n",
              "      <td>mean written let prayer unto lord time favor g...</td>\n",
              "      <td>1</td>\n",
              "    </tr>\n",
              "  </tbody>\n",
              "</table>\n",
              "</div>"
            ],
            "text/plain": [
              "                                        english_text  is_prayer\n",
              "0  anoth abba binyamin statement regard law praye...          1\n",
              "1  taught baraita abba binyamin said one prayer f...          1\n",
              "2  addit ravin bar rav adda said rabbi yitzak sai...          1\n",
              "3  similar taught baraita rabbi yishmael ben elis...          1\n",
              "4  mean written let prayer unto lord time favor g...          1"
            ]
          },
          "metadata": {
            "tags": []
          },
          "execution_count": 27
        }
      ]
    },
    {
      "cell_type": "code",
      "metadata": {
        "id": "K-91C0EFvYB-",
        "colab_type": "code",
        "outputId": "20cc49cd-7f1f-4d52-fb48-f83a856192a7",
        "colab": {
          "base_uri": "https://localhost:8080/",
          "height": 34
        }
      },
      "source": [
        "from keras.preprocessing.sequence import pad_sequences\n",
        "X = df['english_text']\n",
        "# X = tokenizer.texts_to_sequences(df['english_text'].values)\n",
        "# X = pad_sequences(X, maxlen=MAX_SEQUENCE_LENGTH)\n",
        "print('Shape of data tensor:', X.shape)"
      ],
      "execution_count": 0,
      "outputs": [
        {
          "output_type": "stream",
          "text": [
            "Shape of data tensor: (1221,)\n"
          ],
          "name": "stdout"
        }
      ]
    },
    {
      "cell_type": "code",
      "metadata": {
        "id": "IgrGfexfydvP",
        "colab_type": "code",
        "outputId": "96770080-0832-441c-e8ac-423491d5bcf4",
        "colab": {
          "base_uri": "https://localhost:8080/",
          "height": 34
        }
      },
      "source": [
        "Y = pd.get_dummies(df['is_prayer']).values\n",
        "print('Shape of label tensor:', Y.shape)\n"
      ],
      "execution_count": 0,
      "outputs": [
        {
          "output_type": "stream",
          "text": [
            "Shape of label tensor: (1221, 2)\n"
          ],
          "name": "stdout"
        }
      ]
    },
    {
      "cell_type": "code",
      "metadata": {
        "id": "55r5BbIIys5c",
        "colab_type": "code",
        "outputId": "8b783e19-6232-43d0-a081-6985bdb47b9e",
        "colab": {
          "base_uri": "https://localhost:8080/",
          "height": 51
        }
      },
      "source": [
        "from sklearn.model_selection import train_test_split\n",
        "X_train, X_test, Y_train, Y_test = train_test_split(X,Y, test_size = 0.10, random_state = 42)\n",
        "print(X_train.shape,Y_train.shape)\n",
        "print(X_test.shape,Y_test.shape)\n"
      ],
      "execution_count": 0,
      "outputs": [
        {
          "output_type": "stream",
          "text": [
            "(1098,) (1098, 2)\n",
            "(123,) (123, 2)\n"
          ],
          "name": "stdout"
        }
      ]
    },
    {
      "cell_type": "code",
      "metadata": {
        "id": "df90uEhPdEcX",
        "colab_type": "code",
        "colab": {}
      },
      "source": [
        ""
      ],
      "execution_count": 0,
      "outputs": []
    },
    {
      "cell_type": "code",
      "metadata": {
        "id": "3Ut2PZh0ueVN",
        "colab_type": "code",
        "colab": {}
      },
      "source": [
        "from tensorflow.keras.preprocessing.text import Tokenizer\n",
        "\n",
        "# The maximum number of words to be used. (most frequent)\n",
        "MAX_NB_WORDS = 50000\n",
        "# Max number of words in each complaint.\n",
        "MAX_SEQUENCE_LENGTH = 250\n",
        "# This is fixed.\n",
        "EMBEDDING_DIM = 100\n",
        "tokenizer = Tokenizer(num_words=MAX_NB_WORDS, filters='!\"#$%&()*+,-./:;<=>?@[\\]^_`{|}~', oov_token=\"<OOV>\", lower=True)\n",
        "tokenizer.fit_on_texts(X_train)\n",
        "# tokenizer.fit_on_texts(df['english_text'].values)\n"
      ],
      "execution_count": 0,
      "outputs": []
    },
    {
      "cell_type": "code",
      "metadata": {
        "id": "EHvHc5eoeI-F",
        "colab_type": "code",
        "outputId": "8554ea37-9df2-477d-ad51-eb5c3cc78a8e",
        "colab": {
          "base_uri": "https://localhost:8080/",
          "height": 374
        }
      },
      "source": [
        "\n",
        "X_train = tokenizer.texts_to_sequences(X_train)\n",
        "X_test = tokenizer.texts_to_sequences(X_test)\n",
        "# X_train = pad_sequences(X_train, maxlen=MAX_SEQUENCE_LENGTH)\n",
        "# print('Shape of data tensor:', X.shape)\n",
        "vocab_size = len(tokenizer.word_index) + 1\n",
        "\n",
        "maxlen = 200\n",
        "\n",
        "X_train = pad_sequences(X_train, padding=\"post\", maxlen=maxlen)\n",
        "X_test = pad_sequences(X_test, padding=\"post\", maxlen=maxlen)\n"
      ],
      "execution_count": 0,
      "outputs": [
        {
          "output_type": "error",
          "ename": "AttributeError",
          "evalue": "ignored",
          "traceback": [
            "\u001b[0;31m---------------------------------------------------------------------------\u001b[0m",
            "\u001b[0;31mAttributeError\u001b[0m                            Traceback (most recent call last)",
            "\u001b[0;32m<ipython-input-48-fa25bbad1d77>\u001b[0m in \u001b[0;36m<module>\u001b[0;34m()\u001b[0m\n\u001b[1;32m      1\u001b[0m \u001b[0;34m\u001b[0m\u001b[0m\n\u001b[0;32m----> 2\u001b[0;31m \u001b[0mX_train\u001b[0m \u001b[0;34m=\u001b[0m \u001b[0mtokenizer\u001b[0m\u001b[0;34m.\u001b[0m\u001b[0mtexts_to_sequences\u001b[0m\u001b[0;34m(\u001b[0m\u001b[0mX_train\u001b[0m\u001b[0;34m)\u001b[0m\u001b[0;34m\u001b[0m\u001b[0;34m\u001b[0m\u001b[0m\n\u001b[0m\u001b[1;32m      3\u001b[0m \u001b[0mX_test\u001b[0m \u001b[0;34m=\u001b[0m \u001b[0mtokenizer\u001b[0m\u001b[0;34m.\u001b[0m\u001b[0mtexts_to_sequences\u001b[0m\u001b[0;34m(\u001b[0m\u001b[0mX_test\u001b[0m\u001b[0;34m)\u001b[0m\u001b[0;34m\u001b[0m\u001b[0;34m\u001b[0m\u001b[0m\n\u001b[1;32m      4\u001b[0m \u001b[0;31m# X_train = pad_sequences(X_train, maxlen=MAX_SEQUENCE_LENGTH)\u001b[0m\u001b[0;34m\u001b[0m\u001b[0;34m\u001b[0m\u001b[0;34m\u001b[0m\u001b[0m\n\u001b[1;32m      5\u001b[0m \u001b[0;31m# print('Shape of data tensor:', X.shape)\u001b[0m\u001b[0;34m\u001b[0m\u001b[0;34m\u001b[0m\u001b[0;34m\u001b[0m\u001b[0m\n",
            "\u001b[0;32m/usr/local/lib/python3.6/dist-packages/keras_preprocessing/text.py\u001b[0m in \u001b[0;36mtexts_to_sequences\u001b[0;34m(self, texts)\u001b[0m\n\u001b[1;32m    279\u001b[0m             \u001b[0mA\u001b[0m \u001b[0mlist\u001b[0m \u001b[0mof\u001b[0m \u001b[0msequences\u001b[0m\u001b[0;34m.\u001b[0m\u001b[0;34m\u001b[0m\u001b[0;34m\u001b[0m\u001b[0m\n\u001b[1;32m    280\u001b[0m         \"\"\"\n\u001b[0;32m--> 281\u001b[0;31m         \u001b[0;32mreturn\u001b[0m \u001b[0mlist\u001b[0m\u001b[0;34m(\u001b[0m\u001b[0mself\u001b[0m\u001b[0;34m.\u001b[0m\u001b[0mtexts_to_sequences_generator\u001b[0m\u001b[0;34m(\u001b[0m\u001b[0mtexts\u001b[0m\u001b[0;34m)\u001b[0m\u001b[0;34m)\u001b[0m\u001b[0;34m\u001b[0m\u001b[0;34m\u001b[0m\u001b[0m\n\u001b[0m\u001b[1;32m    282\u001b[0m \u001b[0;34m\u001b[0m\u001b[0m\n\u001b[1;32m    283\u001b[0m     \u001b[0;32mdef\u001b[0m \u001b[0mtexts_to_sequences_generator\u001b[0m\u001b[0;34m(\u001b[0m\u001b[0mself\u001b[0m\u001b[0;34m,\u001b[0m \u001b[0mtexts\u001b[0m\u001b[0;34m)\u001b[0m\u001b[0;34m:\u001b[0m\u001b[0;34m\u001b[0m\u001b[0;34m\u001b[0m\u001b[0m\n",
            "\u001b[0;32m/usr/local/lib/python3.6/dist-packages/keras_preprocessing/text.py\u001b[0m in \u001b[0;36mtexts_to_sequences_generator\u001b[0;34m(self, texts)\u001b[0m\n\u001b[1;32m    310\u001b[0m                                             \u001b[0mself\u001b[0m\u001b[0;34m.\u001b[0m\u001b[0mfilters\u001b[0m\u001b[0;34m,\u001b[0m\u001b[0;34m\u001b[0m\u001b[0;34m\u001b[0m\u001b[0m\n\u001b[1;32m    311\u001b[0m                                             \u001b[0mself\u001b[0m\u001b[0;34m.\u001b[0m\u001b[0mlower\u001b[0m\u001b[0;34m,\u001b[0m\u001b[0;34m\u001b[0m\u001b[0;34m\u001b[0m\u001b[0m\n\u001b[0;32m--> 312\u001b[0;31m                                             self.split)\n\u001b[0m\u001b[1;32m    313\u001b[0m             \u001b[0mvect\u001b[0m \u001b[0;34m=\u001b[0m \u001b[0;34m[\u001b[0m\u001b[0;34m]\u001b[0m\u001b[0;34m\u001b[0m\u001b[0;34m\u001b[0m\u001b[0m\n\u001b[1;32m    314\u001b[0m             \u001b[0;32mfor\u001b[0m \u001b[0mw\u001b[0m \u001b[0;32min\u001b[0m \u001b[0mseq\u001b[0m\u001b[0;34m:\u001b[0m\u001b[0;34m\u001b[0m\u001b[0;34m\u001b[0m\u001b[0m\n",
            "\u001b[0;32m/usr/local/lib/python3.6/dist-packages/keras_preprocessing/text.py\u001b[0m in \u001b[0;36mtext_to_word_sequence\u001b[0;34m(text, filters, lower, split)\u001b[0m\n\u001b[1;32m     41\u001b[0m     \"\"\"\n\u001b[1;32m     42\u001b[0m     \u001b[0;32mif\u001b[0m \u001b[0mlower\u001b[0m\u001b[0;34m:\u001b[0m\u001b[0;34m\u001b[0m\u001b[0;34m\u001b[0m\u001b[0m\n\u001b[0;32m---> 43\u001b[0;31m         \u001b[0mtext\u001b[0m \u001b[0;34m=\u001b[0m \u001b[0mtext\u001b[0m\u001b[0;34m.\u001b[0m\u001b[0mlower\u001b[0m\u001b[0;34m(\u001b[0m\u001b[0;34m)\u001b[0m\u001b[0;34m\u001b[0m\u001b[0;34m\u001b[0m\u001b[0m\n\u001b[0m\u001b[1;32m     44\u001b[0m \u001b[0;34m\u001b[0m\u001b[0m\n\u001b[1;32m     45\u001b[0m     \u001b[0;32mif\u001b[0m \u001b[0msys\u001b[0m\u001b[0;34m.\u001b[0m\u001b[0mversion_info\u001b[0m \u001b[0;34m<\u001b[0m \u001b[0;34m(\u001b[0m\u001b[0;36m3\u001b[0m\u001b[0;34m,\u001b[0m\u001b[0;34m)\u001b[0m\u001b[0;34m:\u001b[0m\u001b[0;34m\u001b[0m\u001b[0;34m\u001b[0m\u001b[0m\n",
            "\u001b[0;31mAttributeError\u001b[0m: 'numpy.ndarray' object has no attribute 'lower'"
          ]
        }
      ]
    },
    {
      "cell_type": "code",
      "metadata": {
        "id": "bX0x_nxjd3wo",
        "colab_type": "code",
        "colab": {}
      },
      "source": [
        "\n",
        "\n",
        "word_index = tokenizer.word_index\n",
        "print('Found %s unique tokens.' % len(word_index))\n",
        "\n"
      ],
      "execution_count": 0,
      "outputs": []
    },
    {
      "cell_type": "code",
      "metadata": {
        "id": "Q5tG-uUDa3Bm",
        "colab_type": "code",
        "colab": {}
      },
      "source": [
        "\"\"\"\n",
        "function ConnectButton(){\n",
        "    console.log(\"Connect pushed\"); \n",
        "    document.querySelector(\"#top-toolbar > colab-connect-button\").shadowRoot.querySelector(\"#connect\").click() \n",
        "}\n",
        "setInterval(ConnectButton,60000);\n",
        "\"\"\""
      ],
      "execution_count": 0,
      "outputs": []
    },
    {
      "cell_type": "code",
      "metadata": {
        "id": "cGeoXf9lvryp",
        "colab_type": "code",
        "colab": {}
      },
      "source": [
        "from keras.models import Sequential\n",
        "from keras.layers import Embedding\n",
        "from keras.layers.core import Dense, SpatialDropout1D\n",
        "# from tensorflow.python.keras.layers.recurrent import LSTM\n",
        "from keras.layers.recurrent import LSTM\n",
        "\n",
        "model = Sequential()\n",
        "model.add(Embedding(MAX_NB_WORDS, EMBEDDING_DIM, input_length=X.shape[1]))\n",
        "model.add(SpatialDropout1D(0.2))\n",
        "model.add(LSTM(100, dropout=0.2, recurrent_dropout=0.2))\n",
        "model.add(Dense(2, activation='sigmoid'))\n",
        "# model.add(Dense(2, activation='softmax'))\n",
        "model.compile(loss='categorical_crossentropy', optimizer='adam', metrics=['accuracy'])\n",
        "\n",
        "epochs = 15\n",
        "batch_size = 64\n",
        "\n",
        "# history = model.fit(X_train, Y_train, epochs=epochs, batch_size=batch_size,validation_split=0.1,callbacks=[EarlyStopping(monitor='val_loss', patience=3, min_delta=0.0001)])\n"
      ],
      "execution_count": 0,
      "outputs": []
    },
    {
      "cell_type": "code",
      "metadata": {
        "id": "4kw5dcgUuf4C",
        "colab_type": "code",
        "colab": {}
      },
      "source": [
        "# X = df.english_text\n",
        "# y = df.is_prayer\n",
        "# print(f\"Totals: {X.shape} / {y.shape}\")\n",
        "\n",
        "# from sklearn.model_selection import train_test_split\n",
        "\n",
        "# # train, test = train_test_split(movies, random_state=42, test_size=0.30, shuffle=True)\n",
        "\n",
        "# X_train, X_test, y_train, y_test = train_test_split(X, y, random_state=56, test_size=0.20, shuffle=True)\n",
        "\n",
        "# print(f\"\\nTrain: {X_train.shape} / {y_train.shape}\")\n",
        "\n",
        "# print(f\"\\nTest: {X_test.shape} / {y_test.shape}\")"
      ],
      "execution_count": 0,
      "outputs": []
    },
    {
      "cell_type": "code",
      "metadata": {
        "id": "jR-nbZiIxjRq",
        "colab_type": "code",
        "colab": {}
      },
      "source": [
        "from keras.callbacks import ModelCheckpoint, EarlyStopping\n",
        "\n",
        "history = model.fit(X_train, Y_train, \n",
        "                    epochs=epochs, batch_size=batch_size,validation_split=0.1,\n",
        "                    callbacks=[EarlyStopping(monitor='val_loss', patience=3, min_delta=0.0001)])"
      ],
      "execution_count": 0,
      "outputs": []
    },
    {
      "cell_type": "code",
      "metadata": {
        "id": "xItgWYNOzMDf",
        "colab_type": "code",
        "colab": {
          "base_uri": "https://localhost:8080/",
          "height": 498
        },
        "outputId": "66ad5c9d-e512-4158-d582-342c1bb5b6f8"
      },
      "source": [
        "import matplotlib.pyplot as plt\n",
        "plt.title('Loss')\n",
        "plt.plot(history.history['loss'], label='train')\n",
        "plt.plot(history.history['val_loss'], label='test')\n",
        "plt.legend()\n",
        "plt.show();\n"
      ],
      "execution_count": 119,
      "outputs": [
        {
          "output_type": "display_data",
          "data": {
            "image/png": "[encoded data removed]",
            "text/plain": [
              "<Figure size 720x576 with 1 Axes>"
            ]
          },
          "metadata": {
            "tags": [],
            "needs_background": "light"
          }
        }
      ]
    },
    {
      "cell_type": "code",
      "metadata": {
        "id": "Vfi0gzawwhzN",
        "colab_type": "code",
        "colab": {
          "base_uri": "https://localhost:8080/",
          "height": 34
        },
        "outputId": "845c5eeb-15f5-4a37-d349-6f32a92361e1"
      },
      "source": [
        "model.metrics_names\n"
      ],
      "execution_count": 120,
      "outputs": [
        {
          "output_type": "execute_result",
          "data": {
            "text/plain": [
              "['loss', 'acc']"
            ]
          },
          "metadata": {
            "tags": []
          },
          "execution_count": 120
        }
      ]
    },
    {
      "cell_type": "code",
      "metadata": {
        "id": "SkpMmQSmzUiy",
        "colab_type": "code",
        "colab": {
          "base_uri": "https://localhost:8080/",
          "height": 498
        },
        "outputId": "93c67b5c-9e91-45d0-ca0b-746983207ed6"
      },
      "source": [
        "plt.title('Accuracy')\n",
        "# plt.plot(history.history['accuracy'], label='train')\n",
        "plt.plot(history.history['acc'], label='train')\n",
        "# plt.plot(history.history['val_accuracy'], label='test')\n",
        "plt.plot(history.history['val_acc'], label='test')\n",
        "plt.legend()\n",
        "plt.show();\n"
      ],
      "execution_count": 122,
      "outputs": [
        {
          "output_type": "display_data",
          "data": {
            "image/png": "[encoded data removed]",
            "text/plain": [
              "<Figure size 720x576 with 1 Axes>"
            ]
          },
          "metadata": {
            "tags": [],
            "needs_background": "light"
          }
        }
      ]
    },
    {
      "cell_type": "code",
      "metadata": {
        "id": "8CEXlC0HKO-S",
        "colab_type": "code",
        "colab": {
          "base_uri": "https://localhost:8080/",
          "height": 34
        },
        "outputId": "3b0d126c-98f0-4dec-f022-6a4a52cf9461"
      },
      "source": [
        "new_complaint = ['I am a abraham to open up .']\n",
        "# new_complaint = ['I am a pray pray pray pray to open up .']\n",
        "seq = tokenizer.texts_to_sequences(new_complaint)\n",
        "padded = pad_sequences(seq, maxlen=maxlen)\n",
        "# padded = pad_sequences(seq, maxlen=MAX_SEQUENCE_LENGTH)\n",
        "pred = model.predict(padded)\n",
        "labels = ['moses','abraham','prayer']\n",
        "print(pred, labels[np.argmax(pred)])"
      ],
      "execution_count": 127,
      "outputs": [
        {
          "output_type": "stream",
          "text": [
            "[[0.25726274 0.37398458 0.41063678]] prayer\n"
          ],
          "name": "stdout"
        }
      ]
    },
    {
      "cell_type": "code",
      "metadata": {
        "id": "15UcywD9TTjJ",
        "colab_type": "code",
        "colab": {}
      },
      "source": [
        "# # Convert a collection of text documents to a matrix of token counts\n",
        "\n",
        "# from sklearn.feature_extraction.text import CountVectorizer, HashingVectorizer, TfidfVectorizer\n",
        "\n",
        "# # vectorizer = CountVectorizer(analyzer=process_text)\n",
        "# # vectorizer = CountVectorizer(ngram_range=(2, 4))\n",
        "# # vectorizer = HashingVectorizer(ngram_range=(2, 4),alternate_sign=False)\n",
        "# vectorizer = TfidfVectorizer(\n",
        "#     # strip_accents='unicode', \n",
        "#     # analyzer='word', \n",
        "#     ngram_range=(1,3), \n",
        "#     # norm='l2', \n",
        "#     # max_features = 15000\n",
        "#     # max_features = 12000\n",
        "#     max_features = 10000\n",
        "#     # max_features = 8000\n",
        "#     # max_features = 5000\n",
        "#     )\n",
        "\n",
        "# # vectorizer = TfidfVectorizer(ngram_range=(2, 4))\n",
        "# # vectorizer.fit(X_train)\n",
        "# # vectorizer.get_feature_names()\n"
      ],
      "execution_count": 0,
      "outputs": []
    },
    {
      "cell_type": "code",
      "metadata": {
        "id": "0o4gM0z6Iz0n",
        "colab_type": "code",
        "colab": {}
      },
      "source": [
        "# print(\"Shape of document term matrix\")\n",
        "\n",
        "# # X_train_dtm = vectorizer.transform(X_train)\n",
        "# X_train_dtm = vectorizer.fit_transform(X_train)\n",
        "# print(f\"Train: {X_train_dtm.shape}\")\n",
        "\n",
        "# # prayer_bag_of_words = vectorizer.fit_transform(all_prayer_df['En'])\n",
        "# X_test_dtm = vectorizer.transform(X_test)\n",
        "# print(f\"Test: {X_test_dtm.shape}\")\n"
      ],
      "execution_count": 0,
      "outputs": []
    },
    {
      "cell_type": "code",
      "metadata": {
        "id": "OxFuBppqB2R4",
        "colab_type": "code",
        "colab": {}
      },
      "source": [
        "\n",
        "# print(vectorizer.get_feature_names())\n"
      ],
      "execution_count": 0,
      "outputs": []
    },
    {
      "cell_type": "code",
      "metadata": {
        "id": "CD23HO1xqi66",
        "colab_type": "code",
        "colab": {}
      },
      "source": [
        "# from sklearn.naive_bayes import MultinomialNB, GaussianNB, BernoulliNB, ComplementNB\n",
        "\n",
        "# classifier = MultinomialNB()\n",
        "# # classifier = ComplementNB()\n",
        "\n",
        "# # for Gaussian need array format\n",
        "# # X_train = X_train.toarray()\n",
        "# # X_test = X_test.toarray()\n",
        "# # classifier = GaussianNB()\n",
        "# # classifier = BernoulliNB()\n",
        "\n",
        "# %time classifier.fit(X_train_dtm, y_train)\n",
        "# y_pred_class = classifier.predict(X_test_dtm)\n",
        "# from sklearn import metrics\n",
        "\n",
        "# print(f\"\\nBreakdown:\\n{y_test.value_counts()[0]} non-prayer (0), and\\n{y_test.value_counts()[1]} prayer (1)\")\n",
        "\n",
        "# null_accuracy = y_test.value_counts().head(1) / len(y_test)\n",
        "# print(f'\\nNull accuracy: {null_accuracy[0]}')\n",
        "\n",
        "# non_prayer_passages = y_test.value_counts()[0]\n",
        "# prayer_passages = y_test.value_counts()[1]\n",
        "# print('Manual null accuracy:',(prayer_passages / (prayer_passages + non_prayer_passages)))\n",
        "\n",
        "# print('\\nAccuracy:',round(metrics.accuracy_score(y_test, y_pred_class),2))\n",
        "# print('Precision:',round(metrics.precision_score(y_test, y_pred_class),2))\n",
        "# print('Recall:',round(metrics.recall_score(y_test, y_pred_class),2))\n",
        "# print('F1 score:',round(metrics.f1_score(y_test, y_pred_class),2))\n",
        "\n",
        "# print(\"\\nConfusion Matrix:\")\n",
        "# print(metrics.confusion_matrix(y_test, y_pred_class))\n"
      ],
      "execution_count": 0,
      "outputs": []
    },
    {
      "cell_type": "code",
      "metadata": {
        "id": "4scurgrwrsGj",
        "colab_type": "code",
        "colab": {}
      },
      "source": [
        "\n",
        "# from sklearn.model_selection import cross_val_score\n",
        "# # clf = svm.SVC(kernel='linear', C=1)\n",
        "# scores = cross_val_score(classifier, X, y, cv=5)\n",
        "# scores\n"
      ],
      "execution_count": 0,
      "outputs": []
    },
    {
      "cell_type": "code",
      "metadata": {
        "id": "5YfNWBAA0RIa",
        "colab_type": "code",
        "colab": {}
      },
      "source": [
        "# TP = X_test[y_pred_class + y_test == 2]\n",
        "# TN = X_test[y_pred_class + y_test == 0]\n",
        "# FP = X_test[y_pred_class > y_test]\n",
        "# FN = X_test[y_pred_class < y_test]\n",
        "\n",
        "# pd.options.display.max_colwidth = 100\n",
        "\n",
        "# # pd.style.set_properties(**{'text-align': 'left'})\n",
        "\n",
        "# # print(\"\\n*** TP ***\")\n",
        "# # print(TP.sample(5))\n",
        "# # print(\"\\n*** TN ***\")\n",
        "# # print(TN.sample(5))\n",
        "# print(\"*** False Positives: Actually NOT prayer, but misclassified as prayer ***\\n\")\n",
        "# print(FP.sample(10))\n",
        "# print(\"\\n\\n*** False Negatives: Actually prayer, but misclassified as NOT prayer ***\\n\")\n",
        "# print(FN.sample(10))"
      ],
      "execution_count": 0,
      "outputs": []
    },
    {
      "cell_type": "code",
      "metadata": {
        "id": "-uC5Qrl5x1hI",
        "colab_type": "code",
        "colab": {}
      },
      "source": [
        "# FP.to_csv('FP', sep='\\t', encoding='utf-8')\n",
        "# FN.to_csv('FN', sep='\\t', encoding='utf-8')\n"
      ],
      "execution_count": 0,
      "outputs": []
    },
    {
      "cell_type": "code",
      "metadata": {
        "id": "hrVYv3ETLjsJ",
        "colab_type": "code",
        "colab": {}
      },
      "source": [
        ""
      ],
      "execution_count": 0,
      "outputs": []
    }
  ]
}