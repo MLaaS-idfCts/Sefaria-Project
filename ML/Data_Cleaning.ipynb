{
  "nbformat": 4,
  "nbformat_minor": 0,
  "metadata": {
    "colab": {
      "name": "ML/Data_Cleaning.ipynb",
      "provenance": [],
      "mount_file_id": "1g_aFxUsL-VKN_oEx-PxWbtK0rmTv9PuV",
      "authorship_tag": "ABX9TyP2KiaWNylcXeCCYFfSOGb2",
      "include_colab_link": true
    },
    "kernelspec": {
      "name": "python3",
      "display_name": "Python 3"
    }
  },
  "cells": [
    {
      "cell_type": "markdown",
      "metadata": {
        "id": "view-in-github",
        "colab_type": "text"
      },
      "source": [
        "<a href=\"https://colab.research.google.com/github/yishairasowsky/Sefaria-Project/blob/master/ML/Data_Cleaning.ipynb\" target=\"_parent\"><img src=\"https://colab.research.google.com/assets/colab-badge.svg\" alt=\"Open In Colab\"/></a>"
      ]
    },
    {
      "cell_type": "code",
      "metadata": {
        "id": "vc3AD5b-xv7U",
        "colab_type": "code",
        "colab": {}
      },
      "source": [
        "import numpy as np \n",
        "import pandas as pd\n",
        "import shutil"
      ],
      "execution_count": 0,
      "outputs": []
    },
    {
      "cell_type": "code",
      "metadata": {
        "id": "avtMtciLyLhy",
        "colab_type": "code",
        "colab": {}
      },
      "source": [
        "encoding = \"latin-1\"\n",
        "# encoding = 'unicode_escape'\n",
        "# encoding = \"ISO-8859-1\"\n",
        "# encoding = \"ISO-8859-8\"\n",
        "# encoding = \"cp1255\"\n",
        "\n",
        "full_df = pd.read_csv(\n",
        "    '/content/drive/My Drive/Colab Datasets/topic_data.csv',\n",
        "    encoding=encoding,\n",
        "    error_bad_lines=False\n",
        "    )[:5000]"
      ],
      "execution_count": 0,
      "outputs": []
    },
    {
      "cell_type": "code",
      "metadata": {
        "id": "hB8_MOwDyllp",
        "colab_type": "code",
        "colab": {
          "base_uri": "https://localhost:8080/",
          "height": 512
        },
        "outputId": "ab60379b-85c0-4572-ccfe-3d1ca4709b7e"
      },
      "source": [
        "print(\"Original shape:\",full_df.shape)\n",
        "\n",
        "full_df.dropna(inplace=True)\n",
        "print(\"Without nulls\",full_df.shape)\n",
        "\n",
        "full_df.drop_duplicates(inplace=True)\n",
        "print(\"Without duplicates\",full_df.shape)\n",
        "full_df.head(5)\n"
      ],
      "execution_count": 33,
      "outputs": [
        {
          "output_type": "stream",
          "text": [
            "Original shape: (3294, 5)\n",
            "Without nulls (3294, 5)\n",
            "Without duplicates (3294, 5)\n"
          ],
          "name": "stdout"
        },
        {
          "output_type": "execute_result",
          "data": {
            "text/html": [
              "<div>\n",
              "<style scoped>\n",
              "    .dataframe tbody tr th:only-of-type {\n",
              "        vertical-align: middle;\n",
              "    }\n",
              "\n",
              "    .dataframe tbody tr th {\n",
              "        vertical-align: top;\n",
              "    }\n",
              "\n",
              "    .dataframe thead th {\n",
              "        text-align: right;\n",
              "    }\n",
              "</style>\n",
              "<table border=\"1\" class=\"dataframe\">\n",
              "  <thead>\n",
              "    <tr style=\"text-align: right;\">\n",
              "      <th></th>\n",
              "      <th>Ref</th>\n",
              "      <th>En</th>\n",
              "      <th>He</th>\n",
              "      <th>Topics</th>\n",
              "      <th>Expanded Topics</th>\n",
              "    </tr>\n",
              "  </thead>\n",
              "  <tbody>\n",
              "    <tr>\n",
              "      <th>0</th>\n",
              "      <td>Bekhorot 28a:5</td>\n",
              "      <td>Â§ The mishna teaches: If &lt;b&gt;a blemish develop...</td>\n",
              "      <td>× ××× ×× ××× ××ª×× ×©× ×ª× ×¨×©××...</td>\n",
              "      <td>laws-of-animal-firstlings</td>\n",
              "      <td>laws-of-animal-firstlings laws-of-worship-of-g...</td>\n",
              "    </tr>\n",
              "    <tr>\n",
              "      <th>1</th>\n",
              "      <td>Sforno on Genesis 21:22:1</td>\n",
              "      <td>××××§×× ×¢××, seeing that Gâd clearly...</td>\n",
              "      <td>&lt;b&gt;××××× ×¢××&lt;/b&gt; ××¤××× ×× × ××...</td>\n",
              "      <td>abraham-and-abimelech</td>\n",
              "      <td>entity specific-biblical-person-relationship r...</td>\n",
              "    </tr>\n",
              "    <tr>\n",
              "      <th>3</th>\n",
              "      <td>Gittin 78a:1</td>\n",
              "      <td>&lt;b&gt;a modifier,&lt;/b&gt; meaning that this board is ...</td>\n",
              "      <td>×©× ×××× ××× ×××ª ××× ×©× ×××...</td>\n",
              "      <td>dinei-haget</td>\n",
              "      <td>entity halakhah continuant laws mitzvot generi...</td>\n",
              "    </tr>\n",
              "    <tr>\n",
              "      <th>5</th>\n",
              "      <td>Sanhedrin 2a:5</td>\n",
              "      <td>The &lt;b&gt;intercalation of the month&lt;/b&gt; is perfo...</td>\n",
              "      <td>×¢××××¨ ××××© ××©××©× ×¢××××¨ ××©...</td>\n",
              "      <td>laws-of-judges-and-courts judgements1 laws-of-...</td>\n",
              "      <td>beit-din group-of-people independent-continuan...</td>\n",
              "    </tr>\n",
              "    <tr>\n",
              "      <th>6</th>\n",
              "      <td>Pesachim 78a:15</td>\n",
              "      <td>&lt;b&gt;The statement of Rabbi Eliezer&lt;/b&gt; is corre...</td>\n",
              "      <td>×××¨× ×¨×× ××××¢××¨ ×××××× ×©×...</td>\n",
              "      <td>torah-study-and-a-livelihood life</td>\n",
              "      <td>lifecycle-events entity philosophy religion to...</td>\n",
              "    </tr>\n",
              "  </tbody>\n",
              "</table>\n",
              "</div>"
            ],
            "text/plain": [
              "                         Ref  ...                                    Expanded Topics\n",
              "0             Bekhorot 28a:5  ...  laws-of-animal-firstlings laws-of-worship-of-g...\n",
              "1  Sforno on Genesis 21:22:1  ...  entity specific-biblical-person-relationship r...\n",
              "3               Gittin 78a:1  ...  entity halakhah continuant laws mitzvot generi...\n",
              "5             Sanhedrin 2a:5  ...  beit-din group-of-people independent-continuan...\n",
              "6            Pesachim 78a:15  ...  lifecycle-events entity philosophy religion to...\n",
              "\n",
              "[5 rows x 5 columns]"
            ]
          },
          "metadata": {
            "tags": []
          },
          "execution_count": 33
        }
      ]
    },
    {
      "cell_type": "code",
      "metadata": {
        "id": "hM2BDn1l0mC1",
        "colab_type": "code",
        "colab": {
          "base_uri": "https://localhost:8080/",
          "height": 364
        },
        "outputId": "334fb730-ffeb-41bc-8f2f-c6fb23006122"
      },
      "source": [
        "import pkl\n",
        "from bs4 import BeautifulSoup\n",
        "import re\n",
        "import nltk\n",
        "import string\n",
        "nltk.download('stopwords')\n",
        "from nltk.corpus import stopwords\n",
        "\n",
        "STOPWORDS = set(stopwords.words('english'))\n",
        "\n",
        "def preprocess_text(sentence):\n",
        "\n",
        "    # HTML decoding\n",
        "    sentence = BeautifulSoup(sentence, \"lxml\").text \n",
        "    \n",
        "    # lowercase text\n",
        "    sentence = sentence.lower() \n",
        "\n",
        "    # Remove punctuations and numbers\n",
        "    sentence = re.sub('[^a-zA-Z]', ' ', sentence)\n",
        "\n",
        "    # Single character removal\n",
        "    sentence = re.sub(r\"\\s+[a-zA-Z]\\s+\", ' ', sentence)\n",
        "\n",
        "    # Removing multiple spaces\n",
        "    sentence = re.sub(r'\\s+', ' ', sentence)\n",
        "\n",
        "    # Removing stopwords\n",
        "    sentence = ' '.join(word for word in sentence.split() if word not in STOPWORDS) # delete stopwors from text\n",
        "\n",
        "    return sentence\n",
        "\n",
        "clean_df = full_df[['En','Topics']]\n",
        "clean_df.En = clean_df.En.apply(preprocess_text)\n",
        "clean_df.head()"
      ],
      "execution_count": 40,
      "outputs": [
        {
          "output_type": "stream",
          "text": [
            "[nltk_data] Downloading package stopwords to /root/nltk_data...\n",
            "[nltk_data]   Package stopwords is already up-to-date!\n"
          ],
          "name": "stdout"
        },
        {
          "output_type": "stream",
          "text": [
            "/usr/local/lib/python3.6/dist-packages/pandas/core/generic.py:5303: SettingWithCopyWarning: \n",
            "A value is trying to be set on a copy of a slice from a DataFrame.\n",
            "Try using .loc[row_indexer,col_indexer] = value instead\n",
            "\n",
            "See the caveats in the documentation: https://pandas.pydata.org/pandas-docs/stable/user_guide/indexing.html#returning-a-view-versus-a-copy\n",
            "  self[name] = value\n"
          ],
          "name": "stderr"
        },
        {
          "output_type": "execute_result",
          "data": {
            "text/html": [
              "<div>\n",
              "<style scoped>\n",
              "    .dataframe tbody tr th:only-of-type {\n",
              "        vertical-align: middle;\n",
              "    }\n",
              "\n",
              "    .dataframe tbody tr th {\n",
              "        vertical-align: top;\n",
              "    }\n",
              "\n",
              "    .dataframe thead th {\n",
              "        text-align: right;\n",
              "    }\n",
              "</style>\n",
              "<table border=\"1\" class=\"dataframe\">\n",
              "  <thead>\n",
              "    <tr style=\"text-align: right;\">\n",
              "      <th></th>\n",
              "      <th>En</th>\n",
              "      <th>Topics</th>\n",
              "    </tr>\n",
              "  </thead>\n",
              "  <tbody>\n",
              "    <tr>\n",
              "      <th>0</th>\n",
              "      <td>mishna teaches blemish developed within first ...</td>\n",
              "      <td>laws-of-animal-firstlings</td>\n",
              "    </tr>\n",
              "    <tr>\n",
              "      <th>1</th>\n",
              "      <td>seeing clearly side afraid afraid personal str...</td>\n",
              "      <td>abraham-and-abimelech</td>\n",
              "    </tr>\n",
              "    <tr>\n",
              "      <th>3</th>\n",
              "      <td>modifier meaning board referred unique name mo...</td>\n",
              "      <td>dinei-haget</td>\n",
              "    </tr>\n",
              "    <tr>\n",
              "      <th>5</th>\n",
              "      <td>intercalation month performed panel three judg...</td>\n",
              "      <td>laws-of-judges-and-courts judgements1 laws-of-...</td>\n",
              "    </tr>\n",
              "    <tr>\n",
              "      <th>6</th>\n",
              "      <td>statement rabbi eliezer correct regard animal ...</td>\n",
              "      <td>torah-study-and-a-livelihood life</td>\n",
              "    </tr>\n",
              "  </tbody>\n",
              "</table>\n",
              "</div>"
            ],
            "text/plain": [
              "                                                  En                                             Topics\n",
              "0  mishna teaches blemish developed within first ...                          laws-of-animal-firstlings\n",
              "1  seeing clearly side afraid afraid personal str...                              abraham-and-abimelech\n",
              "3  modifier meaning board referred unique name mo...                                        dinei-haget\n",
              "5  intercalation month performed panel three judg...  laws-of-judges-and-courts judgements1 laws-of-...\n",
              "6  statement rabbi eliezer correct regard animal ...                  torah-study-and-a-livelihood life"
            ]
          },
          "metadata": {
            "tags": []
          },
          "execution_count": 40
        }
      ]
    },
    {
      "cell_type": "code",
      "metadata": {
        "id": "qPO8U1e53irn",
        "colab_type": "code",
        "colab": {}
      },
      "source": [
        "clean_df.to_pickle(\"/content/drive/My Drive/Colab Datasets/clean_df.pkl\")"
      ],
      "execution_count": 0,
      "outputs": []
    },
    {
      "cell_type": "code",
      "metadata": {
        "id": "lUl9R9ez2xe6",
        "colab_type": "code",
        "colab": {
          "base_uri": "https://localhost:8080/",
          "height": 327
        },
        "outputId": "34e5a9b3-1074-4f2d-99b5-2d130e8722d5"
      },
      "source": [
        "from nltk.stem.snowball import SnowballStemmer\n",
        "\n",
        "stemmer = SnowballStemmer(\"english\")\n",
        "\n",
        "def stemming(sentence):\n",
        "    stemSentence = \"\"\n",
        "    for word in sentence.split():\n",
        "        stem = stemmer.stem(word)\n",
        "        stemSentence += stem\n",
        "        stemSentence += \" \"\n",
        "    stemSentence = stemSentence.strip()\n",
        "    return stemSentence\n",
        "\n",
        "stem_df = clean_df\n",
        "stem_df.En = stem_df.En.apply(stemming)\n",
        "stem_df.head()"
      ],
      "execution_count": 42,
      "outputs": [
        {
          "output_type": "stream",
          "text": [
            "/usr/local/lib/python3.6/dist-packages/pandas/core/generic.py:5303: SettingWithCopyWarning: \n",
            "A value is trying to be set on a copy of a slice from a DataFrame.\n",
            "Try using .loc[row_indexer,col_indexer] = value instead\n",
            "\n",
            "See the caveats in the documentation: https://pandas.pydata.org/pandas-docs/stable/user_guide/indexing.html#returning-a-view-versus-a-copy\n",
            "  self[name] = value\n"
          ],
          "name": "stderr"
        },
        {
          "output_type": "execute_result",
          "data": {
            "text/html": [
              "<div>\n",
              "<style scoped>\n",
              "    .dataframe tbody tr th:only-of-type {\n",
              "        vertical-align: middle;\n",
              "    }\n",
              "\n",
              "    .dataframe tbody tr th {\n",
              "        vertical-align: top;\n",
              "    }\n",
              "\n",
              "    .dataframe thead th {\n",
              "        text-align: right;\n",
              "    }\n",
              "</style>\n",
              "<table border=\"1\" class=\"dataframe\">\n",
              "  <thead>\n",
              "    <tr style=\"text-align: right;\">\n",
              "      <th></th>\n",
              "      <th>En</th>\n",
              "      <th>Topics</th>\n",
              "    </tr>\n",
              "  </thead>\n",
              "  <tbody>\n",
              "    <tr>\n",
              "      <th>0</th>\n",
              "      <td>mishna teach blemish develop within first year...</td>\n",
              "      <td>laws-of-animal-firstlings</td>\n",
              "    </tr>\n",
              "    <tr>\n",
              "      <th>1</th>\n",
              "      <td>see clear side afraid afraid person strength a...</td>\n",
              "      <td>abraham-and-abimelech</td>\n",
              "    </tr>\n",
              "    <tr>\n",
              "      <th>3</th>\n",
              "      <td>modifi mean board refer uniqu name modifi even...</td>\n",
              "      <td>dinei-haget</td>\n",
              "    </tr>\n",
              "    <tr>\n",
              "      <th>5</th>\n",
              "      <td>intercal month perform panel three judg interc...</td>\n",
              "      <td>laws-of-judges-and-courts judgements1 laws-of-...</td>\n",
              "    </tr>\n",
              "    <tr>\n",
              "      <th>6</th>\n",
              "      <td>statement rabbi eliez correct regard anim offe...</td>\n",
              "      <td>torah-study-and-a-livelihood life</td>\n",
              "    </tr>\n",
              "  </tbody>\n",
              "</table>\n",
              "</div>"
            ],
            "text/plain": [
              "                                                  En                                             Topics\n",
              "0  mishna teach blemish develop within first year...                          laws-of-animal-firstlings\n",
              "1  see clear side afraid afraid person strength a...                              abraham-and-abimelech\n",
              "3  modifi mean board refer uniqu name modifi even...                                        dinei-haget\n",
              "5  intercal month perform panel three judg interc...  laws-of-judges-and-courts judgements1 laws-of-...\n",
              "6  statement rabbi eliez correct regard anim offe...                  torah-study-and-a-livelihood life"
            ]
          },
          "metadata": {
            "tags": []
          },
          "execution_count": 42
        }
      ]
    },
    {
      "cell_type": "code",
      "metadata": {
        "id": "vtEUrLkN318V",
        "colab_type": "code",
        "colab": {}
      },
      "source": [
        "stem_df.to_pickle(\"/content/drive/My Drive/Colab Datasets/stem_df.pkl\")"
      ],
      "execution_count": 0,
      "outputs": []
    },
    {
      "cell_type": "code",
      "metadata": {
        "id": "IcDVggVJyqVR",
        "colab_type": "code",
        "colab": {
          "base_uri": "https://localhost:8080/",
          "height": 317
        },
        "outputId": "96492e9f-0b2b-40a2-eecf-76beb8881221"
      },
      "source": [
        "eng_df = stem_df[['En','Topics']]\n",
        "topics_df = eng_df.join(eng_df.pop('Topics').str.get_dummies(' '))\n",
        "topics_df.sample()"
      ],
      "execution_count": 46,
      "outputs": [
        {
          "output_type": "execute_result",
          "data": {
            "text/html": [
              "<div>\n",
              "<style scoped>\n",
              "    .dataframe tbody tr th:only-of-type {\n",
              "        vertical-align: middle;\n",
              "    }\n",
              "\n",
              "    .dataframe tbody tr th {\n",
              "        vertical-align: top;\n",
              "    }\n",
              "\n",
              "    .dataframe thead th {\n",
              "        text-align: right;\n",
              "    }\n",
              "</style>\n",
              "<table border=\"1\" class=\"dataframe\">\n",
              "  <thead>\n",
              "    <tr style=\"text-align: right;\">\n",
              "      <th></th>\n",
              "      <th>En</th>\n",
              "      <th>aaron</th>\n",
              "      <th>abandoned-corpses</th>\n",
              "      <th>abaye</th>\n",
              "      <th>abba-binyamin</th>\n",
              "      <th>abel</th>\n",
              "      <th>abels-sacrifice</th>\n",
              "      <th>abiathar</th>\n",
              "      <th>abiel</th>\n",
              "      <th>abihu1</th>\n",
              "      <th>abimelech-and-sarah</th>\n",
              "      <th>abodes</th>\n",
              "      <th>abraham</th>\n",
              "      <th>abraham-and-abimelech</th>\n",
              "      <th>abraham-and-his-environment</th>\n",
              "      <th>abraham-and-lot</th>\n",
              "      <th>abraham-and-sarah</th>\n",
              "      <th>abraham-and-sodom</th>\n",
              "      <th>abraham-and-the-angels</th>\n",
              "      <th>abraham-and-the-kings</th>\n",
              "      <th>abraham-in-egypt</th>\n",
              "      <th>abraham-in-ur-kasdim-and-his-departure-from-there</th>\n",
              "      <th>absalom</th>\n",
              "      <th>acceptance-of-nazarite-vows-and-its-duration</th>\n",
              "      <th>acquisitions</th>\n",
              "      <th>acronyms</th>\n",
              "      <th>acts-of-god</th>\n",
              "      <th>actuality</th>\n",
              "      <th>adam</th>\n",
              "      <th>adams-sin-and-his-punishment</th>\n",
              "      <th>additional-gifts-to-the-priesthood</th>\n",
              "      <th>adonijah</th>\n",
              "      <th>adornments</th>\n",
              "      <th>afflictions</th>\n",
              "      <th>agency</th>\n",
              "      <th>agriculture-(×¢××××ª-××××)</th>\n",
              "      <th>ahab</th>\n",
              "      <th>ahasuerus</th>\n",
              "      <th>ahasuerus-and-esther</th>\n",
              "      <th>ahasuerus-party</th>\n",
              "      <th>...</th>\n",
              "      <th>workers</th>\n",
              "      <th>worlds</th>\n",
              "      <th>worms</th>\n",
              "      <th>wounds-(×¤×¦×¢)</th>\n",
              "      <th>wrapping</th>\n",
              "      <th>writing</th>\n",
              "      <th>writing-a-torah-scroll</th>\n",
              "      <th>yalta</th>\n",
              "      <th>yannai</th>\n",
              "      <th>yavesh-gilad</th>\n",
              "      <th>yavneh</th>\n",
              "      <th>years</th>\n",
              "      <th>yehonatan-ben-gershom</th>\n",
              "      <th>yehoram-(king-of-israel)</th>\n",
              "      <th>yehudah-b-tabbai</th>\n",
              "      <th>yell</th>\n",
              "      <th>yellow</th>\n",
              "      <th>yerovam-(son-of-jehoash)</th>\n",
              "      <th>yerovam-(son-of-nebat)</th>\n",
              "      <th>yetzer-hara</th>\n",
              "      <th>yetzer-hatov</th>\n",
              "      <th>yidoni</th>\n",
              "      <th>yirat-shamayim</th>\n",
              "      <th>yitro</th>\n",
              "      <th>yoel</th>\n",
              "      <th>yom-kippur</th>\n",
              "      <th>yom-kippur-eve</th>\n",
              "      <th>yom-kippur-offerings</th>\n",
              "      <th>yom-tov</th>\n",
              "      <th>yom-tov-sheini</th>\n",
              "      <th>young-men</th>\n",
              "      <th>young-torah-scholars</th>\n",
              "      <th>zaken-mamre</th>\n",
              "      <th>zavah</th>\n",
              "      <th>zeal</th>\n",
              "      <th>zechariah</th>\n",
              "      <th>zedekiah-the-son-of-chenaanah</th>\n",
              "      <th>zimri</th>\n",
              "      <th>zion</th>\n",
              "      <th>zionism</th>\n",
              "    </tr>\n",
              "  </thead>\n",
              "  <tbody>\n",
              "    <tr>\n",
              "      <th>2533</th>\n",
              "      <td>gemara regard one play dice money disqualifi b...</td>\n",
              "      <td>0</td>\n",
              "      <td>0</td>\n",
              "      <td>0</td>\n",
              "      <td>0</td>\n",
              "      <td>0</td>\n",
              "      <td>0</td>\n",
              "      <td>0</td>\n",
              "      <td>0</td>\n",
              "      <td>0</td>\n",
              "      <td>0</td>\n",
              "      <td>0</td>\n",
              "      <td>0</td>\n",
              "      <td>0</td>\n",
              "      <td>0</td>\n",
              "      <td>0</td>\n",
              "      <td>0</td>\n",
              "      <td>0</td>\n",
              "      <td>0</td>\n",
              "      <td>0</td>\n",
              "      <td>0</td>\n",
              "      <td>0</td>\n",
              "      <td>0</td>\n",
              "      <td>0</td>\n",
              "      <td>0</td>\n",
              "      <td>0</td>\n",
              "      <td>0</td>\n",
              "      <td>0</td>\n",
              "      <td>0</td>\n",
              "      <td>0</td>\n",
              "      <td>0</td>\n",
              "      <td>0</td>\n",
              "      <td>0</td>\n",
              "      <td>0</td>\n",
              "      <td>0</td>\n",
              "      <td>0</td>\n",
              "      <td>0</td>\n",
              "      <td>0</td>\n",
              "      <td>0</td>\n",
              "      <td>0</td>\n",
              "      <td>...</td>\n",
              "      <td>0</td>\n",
              "      <td>0</td>\n",
              "      <td>0</td>\n",
              "      <td>0</td>\n",
              "      <td>0</td>\n",
              "      <td>0</td>\n",
              "      <td>0</td>\n",
              "      <td>0</td>\n",
              "      <td>0</td>\n",
              "      <td>0</td>\n",
              "      <td>0</td>\n",
              "      <td>0</td>\n",
              "      <td>0</td>\n",
              "      <td>0</td>\n",
              "      <td>0</td>\n",
              "      <td>0</td>\n",
              "      <td>0</td>\n",
              "      <td>0</td>\n",
              "      <td>0</td>\n",
              "      <td>0</td>\n",
              "      <td>0</td>\n",
              "      <td>0</td>\n",
              "      <td>0</td>\n",
              "      <td>0</td>\n",
              "      <td>0</td>\n",
              "      <td>0</td>\n",
              "      <td>0</td>\n",
              "      <td>0</td>\n",
              "      <td>0</td>\n",
              "      <td>0</td>\n",
              "      <td>0</td>\n",
              "      <td>0</td>\n",
              "      <td>0</td>\n",
              "      <td>0</td>\n",
              "      <td>0</td>\n",
              "      <td>0</td>\n",
              "      <td>0</td>\n",
              "      <td>0</td>\n",
              "      <td>0</td>\n",
              "      <td>0</td>\n",
              "    </tr>\n",
              "  </tbody>\n",
              "</table>\n",
              "<p>1 rows × 1698 columns</p>\n",
              "</div>"
            ],
            "text/plain": [
              "                                                     En  aaron  ...  zion  zionism\n",
              "2533  gemara regard one play dice money disqualifi b...      0  ...     0        0\n",
              "\n",
              "[1 rows x 1698 columns]"
            ]
          },
          "metadata": {
            "tags": []
          },
          "execution_count": 46
        }
      ]
    },
    {
      "cell_type": "code",
      "metadata": {
        "id": "FNEU5Lu60L9E",
        "colab_type": "code",
        "colab": {}
      },
      "source": [
        "topics_df.to_pickle(\"/content/drive/My Drive/Colab Datasets/topics_df.pkl\")"
      ],
      "execution_count": 0,
      "outputs": []
    },
    {
      "cell_type": "code",
      "metadata": {
        "id": "bv7zUfst3_yi",
        "colab_type": "code",
        "colab": {}
      },
      "source": [
        ""
      ],
      "execution_count": 0,
      "outputs": []
    }
  ]
}