{
 "cells": [
  {
   "cell_type": "code",
   "execution_count": 1,
   "metadata": {},
   "outputs": [],
   "source": [
    "import pandas as pd"
   ]
  },
  {
   "cell_type": "code",
   "execution_count": 7,
   "metadata": {},
   "outputs": [
    {
     "output_type": "execute_result",
     "data": {
      "text/plain": "                            Ref  \\\n0                Bekhorot 28a:5   \n1     Sforno on Genesis 21:22:1   \n2                 Zohar 2:53b:7   \n3                  Gittin 78a:1   \n4  Kli Yakar on Numbers 10:29:2   \n\n                                                  En  \\\n0  § The mishna teaches: If <b>a blemish develope...   \n1  אלוקים עמך, seeing that G’d clearly is on your...   \n2                                                NaN   \n3  <b>a modifier,</b> meaning that this board is ...   \n4                                                NaN   \n\n                                                  He  \\\n0  נולד לו מום בתוך שנתו רשאי לקיימו כל י\"ב חדש: ...   \n1  <b>אלהים עמך</b> לפיכך אני ירא ממך לא מגבורתך ...   \n2  וּבְהַאי עוֹלָם, עָבִיד קוּדְשָׁא בְּרִיךְ הוּ...   \n3  שם לווי אבל אית ליה שם לווי אע\"ג דלא גבוה עשרה...   \n4  <b>ונראה שלשון הליכה נופל על תנועת הרגלים לבד,...   \n\n                      Topics  \\\n0  laws-of-animal-firstlings   \n1      abraham-and-abimelech   \n2                     worlds   \n3                dinei-haget   \n4    walking travel converts   \n\n                                     Expanded Topics  \n0  laws-of-animal-firstlings laws-of-worship-of-g...  \n1  entity specific-biblical-person-relationship r...  \n2  independent-continuant entity one-dimensional-...  \n3  entity halakhah continuant laws mitzvot generi...  \n4  converts entity role-of-person halachic-role r...  ",
      "text/html": "<div>\n<style scoped>\n    .dataframe tbody tr th:only-of-type {\n        vertical-align: middle;\n    }\n\n    .dataframe tbody tr th {\n        vertical-align: top;\n    }\n\n    .dataframe thead th {\n        text-align: right;\n    }\n</style>\n<table border=\"1\" class=\"dataframe\">\n  <thead>\n    <tr style=\"text-align: right;\">\n      <th></th>\n      <th>Ref</th>\n      <th>En</th>\n      <th>He</th>\n      <th>Topics</th>\n      <th>Expanded Topics</th>\n    </tr>\n  </thead>\n  <tbody>\n    <tr>\n      <th>0</th>\n      <td>Bekhorot 28a:5</td>\n      <td>§ The mishna teaches: If &lt;b&gt;a blemish develope...</td>\n      <td>נולד לו מום בתוך שנתו רשאי לקיימו כל י\"ב חדש: ...</td>\n      <td>laws-of-animal-firstlings</td>\n      <td>laws-of-animal-firstlings laws-of-worship-of-g...</td>\n    </tr>\n    <tr>\n      <th>1</th>\n      <td>Sforno on Genesis 21:22:1</td>\n      <td>אלוקים עמך, seeing that G’d clearly is on your...</td>\n      <td>&lt;b&gt;אלהים עמך&lt;/b&gt; לפיכך אני ירא ממך לא מגבורתך ...</td>\n      <td>abraham-and-abimelech</td>\n      <td>entity specific-biblical-person-relationship r...</td>\n    </tr>\n    <tr>\n      <th>2</th>\n      <td>Zohar 2:53b:7</td>\n      <td>NaN</td>\n      <td>וּבְהַאי עוֹלָם, עָבִיד קוּדְשָׁא בְּרִיךְ הוּ...</td>\n      <td>worlds</td>\n      <td>independent-continuant entity one-dimensional-...</td>\n    </tr>\n    <tr>\n      <th>3</th>\n      <td>Gittin 78a:1</td>\n      <td>&lt;b&gt;a modifier,&lt;/b&gt; meaning that this board is ...</td>\n      <td>שם לווי אבל אית ליה שם לווי אע\"ג דלא גבוה עשרה...</td>\n      <td>dinei-haget</td>\n      <td>entity halakhah continuant laws mitzvot generi...</td>\n    </tr>\n    <tr>\n      <th>4</th>\n      <td>Kli Yakar on Numbers 10:29:2</td>\n      <td>NaN</td>\n      <td>&lt;b&gt;ונראה שלשון הליכה נופל על תנועת הרגלים לבד,...</td>\n      <td>walking travel converts</td>\n      <td>converts entity role-of-person halachic-role r...</td>\n    </tr>\n  </tbody>\n</table>\n</div>"
     },
     "metadata": {},
     "execution_count": 7
    }
   ],
   "source": [
    "df = pd.read_csv(\n",
    "# '/root/Sefaria-Project/ML/data/clean_ref_and_En_with_mult_topics.pkl',\n",
    "'/root/Sefaria-Project/ML/data/yishai_data.csv',\n",
    "encoding = \"utf-8\" )\n",
    "df.head()"
   ]
  },
  {
   "cell_type": "code",
   "execution_count": 8,
   "metadata": {},
   "outputs": [
    {
     "output_type": "error",
     "ename": "SyntaxError",
     "evalue": "invalid syntax (<ipython-input-8-520d3ce46c28>, line 1)",
     "traceback": [
      "\u001b[0;36m  File \u001b[0;32m\"<ipython-input-8-520d3ce46c28>\"\u001b[0;36m, line \u001b[0;32m1\u001b[0m\n\u001b[0;31m    df.shapedf = df.\u001b[0m\n\u001b[0m                    ^\u001b[0m\n\u001b[0;31mSyntaxError\u001b[0m\u001b[0;31m:\u001b[0m invalid syntax\n"
     ]
    }
   ],
   "source": [
    "print(df.shape)\n",
    "df = df.\n",
    "print(df.shape)"
   ]
  },
  {
   "cell_type": "code",
   "execution_count": 3,
   "metadata": {},
   "outputs": [],
   "source": [
    "df.to_pickle('/root/Sefaria-Project/ML/data/full_df.pkl')"
   ]
  },
  {
   "cell_type": "code",
   "execution_count": null,
   "metadata": {},
   "outputs": [],
   "source": []
  }
 ],
 "metadata": {
  "language_info": {
   "codemirror_mode": {
    "name": "ipython",
    "version": 3
   },
   "file_extension": ".py",
   "mimetype": "text/x-python",
   "name": "python",
   "nbconvert_exporter": "python",
   "pygments_lexer": "ipython3",
   "version": "3.7.5-final"
  },
  "orig_nbformat": 2,
  "kernelspec": {
   "name": "python37564bit375pyenv7a275cabd00a434e95b6ffccd3adbe7c",
   "display_name": "Python 3.7.5 64-bit ('3.7.5': pyenv)"
  }
 },
 "nbformat": 4,
 "nbformat_minor": 2
}