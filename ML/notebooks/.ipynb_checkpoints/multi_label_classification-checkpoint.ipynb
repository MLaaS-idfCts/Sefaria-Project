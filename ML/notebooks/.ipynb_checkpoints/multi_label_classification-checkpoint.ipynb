{
 "cells": [
  {
   "cell_type": "code",
   "execution_count": 386,
   "metadata": {},
   "outputs": [
    {
     "ename": "ModuleNotFoundError",
     "evalue": "No module named 'mlcm'",
     "output_type": "error",
     "traceback": [
      "\u001b[0;31m---------------------------------------------------------------------------\u001b[0m",
      "\u001b[0;31mModuleNotFoundError\u001b[0m                       Traceback (most recent call last)",
      "\u001b[0;32m<ipython-input-386-b3bdcd2f4896>\u001b[0m in \u001b[0;36m<module>\u001b[0;34m\u001b[0m\n\u001b[0;32m----> 1\u001b[0;31m \u001b[0;32mimport\u001b[0m \u001b[0mmlcm\u001b[0m\u001b[0;34m\u001b[0m\u001b[0;34m\u001b[0m\u001b[0m\n\u001b[0m",
      "\u001b[0;31mModuleNotFoundError\u001b[0m: No module named 'mlcm'"
     ]
    }
   ],
   "source": [
    "import mlcm"
   ]
  },
  {
   "cell_type": "code",
   "execution_count": 387,
   "metadata": {},
   "outputs": [],
   "source": [
    "should_stem = False\n",
    "should_remove_stopwords = False"
   ]
  },
  {
   "cell_type": "code",
   "execution_count": 388,
   "metadata": {},
   "outputs": [],
   "source": [
    "import sys\n",
    "# sys.path.insert(1, '/persistent/Sefaria-Project/ML/scripts/classes.py')\n",
    "sys.path.insert(1, '/persistent/Sefaria-Project/ML/scripts/')"
   ]
  },
  {
   "cell_type": "code",
   "execution_count": 389,
   "metadata": {},
   "outputs": [],
   "source": [
    "import numpy as np\n",
    "import pandas as pd"
   ]
  },
  {
   "cell_type": "code",
   "execution_count": 390,
   "metadata": {},
   "outputs": [
    {
     "data": {
      "text/plain": [
       "['prayer',\n",
       " 'procedures-for-judges-and-conduct-towards-them',\n",
       " 'learning',\n",
       " 'kings',\n",
       " 'hilchot-chol-hamoed',\n",
       " 'laws-of-judges-and-courts',\n",
       " 'laws-of-animal-sacrifices',\n",
       " 'financial-ramifications-of-marriage',\n",
       " 'idolatry',\n",
       " 'laws-of-transferring-between-domains']"
      ]
     },
     "execution_count": 390,
     "metadata": {},
     "output_type": "execute_result"
    }
   ],
   "source": [
    "from tqdm import tqdm\n",
    "from datetime import datetime\n",
    "from sklearn.metrics import accuracy_score\n",
    "# from classes import DataManager, PipelineFactory, my_example_topics\n",
    "my_example_topics = ['prayer', 'procedures-for-judges-and-conduct-towards-them', 'learning', 'kings', 'hilchot-chol-hamoed', 'laws-of-judges-and-courts', 'laws-of-animal-sacrifices', 'financial-ramifications-of-marriage', 'idolatry', 'laws-of-transferring-between-domains']\n",
    "\n",
    "my_example_topics"
   ]
  },
  {
   "cell_type": "code",
   "execution_count": 394,
   "metadata": {},
   "outputs": [],
   "source": [
    "start_time = datetime.now()\n",
    "import csv\n",
    "NUM_TOPICS = 40\n",
    "NUM_DATA_POINTS = 1000\n",
    "pd.options.display.max_colwidth = 100"
   ]
  },
  {
   "cell_type": "code",
   "execution_count": 395,
   "metadata": {},
   "outputs": [
    {
     "data": {
      "text/html": [
       "<div>\n",
       "<style scoped>\n",
       "    .dataframe tbody tr th:only-of-type {\n",
       "        vertical-align: middle;\n",
       "    }\n",
       "\n",
       "    .dataframe tbody tr th {\n",
       "        vertical-align: top;\n",
       "    }\n",
       "\n",
       "    .dataframe thead th {\n",
       "        text-align: right;\n",
       "    }\n",
       "</style>\n",
       "<table border=\"1\" class=\"dataframe\">\n",
       "  <thead>\n",
       "    <tr style=\"text-align: right;\">\n",
       "      <th></th>\n",
       "      <th>Ref</th>\n",
       "      <th>En</th>\n",
       "      <th>He</th>\n",
       "      <th>Topics</th>\n",
       "      <th>Expanded Topics</th>\n",
       "    </tr>\n",
       "  </thead>\n",
       "  <tbody>\n",
       "    <tr>\n",
       "      <th>0</th>\n",
       "      <td>Avodah Zarah 52b:13</td>\n",
       "      <td>The Gemara answers: The two cases are not comparable. &lt;b&gt;There,&lt;/b&gt; the coins of Jerusalem &lt;b&gt;ha...</td>\n",
       "      <td>התם לא אשתמשו בהו לגבוה הכא כיון דאשתמש בהו לגבוה לאו אורח ארעא לאשתמושי בהו הדיוטא:</td>\n",
       "      <td>derekh-eretz laws-of-building-the-temple-and-its-furnishings</td>\n",
       "      <td>continuant laws laws-of-building-the-temple-and-its-furnishings halachic-process acts laws-of-th...</td>\n",
       "    </tr>\n",
       "    <tr>\n",
       "      <th>1</th>\n",
       "      <td>Tractate Kallah Rabbati 1:23</td>\n",
       "      <td>If one has intercourse by the light of a lamp he will have epileptic children.&lt;br&gt;&lt;small&gt;GEMARA&lt;...</td>\n",
       "      <td>(&lt;big&gt;&lt;strong&gt;ברייתא&lt;/strong&gt;&lt;/big&gt;) המשמש מטתו לאור הנר הוויין לו בנים נכפים: &lt;big&gt;&lt;strong&gt;[גמ׳...</td>\n",
       "      <td>sexual-intercourse</td>\n",
       "      <td>acts occurent entity sexual-intercourse</td>\n",
       "    </tr>\n",
       "    <tr>\n",
       "      <th>2</th>\n",
       "      <td>Temurah 7b:12</td>\n",
       "      <td>&lt;strong&gt;MISHNA:&lt;/strong&gt; &lt;b&gt;The priests substitute for their&lt;/b&gt; own offerings &lt;b&gt;and Israelites...</td>\n",
       "      <td>&lt;big&gt;&lt;strong&gt;מתני׳&lt;/strong&gt;&lt;/big&gt; הכהנים ממירין בשלהן וישראל ממירין בשלהן אין הכהנים ממירין לא ב...</td>\n",
       "      <td>substitutions-of-sacrifices laws-of-substitution-of-offerings</td>\n",
       "      <td>continuant substitutions-of-sacrifices laws halachic-process acts laws-of-substitution-of-offeri...</td>\n",
       "    </tr>\n",
       "    <tr>\n",
       "      <th>3</th>\n",
       "      <td>Mishneh Torah, Levirate Marriage and Release 1:20</td>\n",
       "      <td>NaN</td>\n",
       "      <td>הַחוֹלֵץ לִיבִמְתּוֹ וְנִמְצֵאת מְעֻבֶּרֶת וְיָלְדָה. אִם הָיָה וָלָד שֶׁל קַיָּמָא הֲרֵי זוֹ כּ...</td>\n",
       "      <td>dinei-yibum</td>\n",
       "      <td>continuant laws entity dinei-yibum halakhah generically-dependent-continuant mitzvot family-law</td>\n",
       "    </tr>\n",
       "    <tr>\n",
       "      <th>4</th>\n",
       "      <td>Rosh Hashanah 25a:8</td>\n",
       "      <td>&lt;b&gt;Rabbi Yoḥanan said: What is the reason&lt;/b&gt; for the opinion &lt;b&gt;of the house of Rabbi&lt;/b&gt; Yehud...</td>\n",
       "      <td>א\"ר יוחנן מ\"ט דבי רבי דכתיב (תהלים קד, יט) עשה ירח למועדים שמש ידע מבואו שמש הוא דידע מבואו ירח ...</td>\n",
       "      <td>months calculations-to-verify-the-sighting-of-the-new-moon-in-its-time</td>\n",
       "      <td>material-entity group-of-inanimate-objects entity independent-continuant months luminaries one-d...</td>\n",
       "    </tr>\n",
       "  </tbody>\n",
       "</table>\n",
       "</div>"
      ],
      "text/plain": [
       "                                                 Ref  \\\n",
       "0                                Avodah Zarah 52b:13   \n",
       "1                       Tractate Kallah Rabbati 1:23   \n",
       "2                                      Temurah 7b:12   \n",
       "3  Mishneh Torah, Levirate Marriage and Release 1:20   \n",
       "4                                Rosh Hashanah 25a:8   \n",
       "\n",
       "                                                                                                    En  \\\n",
       "0  The Gemara answers: The two cases are not comparable. <b>There,</b> the coins of Jerusalem <b>ha...   \n",
       "1  If one has intercourse by the light of a lamp he will have epileptic children.<br><small>GEMARA<...   \n",
       "2  <strong>MISHNA:</strong> <b>The priests substitute for their</b> own offerings <b>and Israelites...   \n",
       "3                                                                                                  NaN   \n",
       "4  <b>Rabbi Yoḥanan said: What is the reason</b> for the opinion <b>of the house of Rabbi</b> Yehud...   \n",
       "\n",
       "                                                                                                    He  \\\n",
       "0                 התם לא אשתמשו בהו לגבוה הכא כיון דאשתמש בהו לגבוה לאו אורח ארעא לאשתמושי בהו הדיוטא:   \n",
       "1  (<big><strong>ברייתא</strong></big>) המשמש מטתו לאור הנר הוויין לו בנים נכפים: <big><strong>[גמ׳...   \n",
       "2  <big><strong>מתני׳</strong></big> הכהנים ממירין בשלהן וישראל ממירין בשלהן אין הכהנים ממירין לא ב...   \n",
       "3  הַחוֹלֵץ לִיבִמְתּוֹ וְנִמְצֵאת מְעֻבֶּרֶת וְיָלְדָה. אִם הָיָה וָלָד שֶׁל קַיָּמָא הֲרֵי זוֹ כּ...   \n",
       "4  א\"ר יוחנן מ\"ט דבי רבי דכתיב (תהלים קד, יט) עשה ירח למועדים שמש ידע מבואו שמש הוא דידע מבואו ירח ...   \n",
       "\n",
       "                                                                   Topics  \\\n",
       "0            derekh-eretz laws-of-building-the-temple-and-its-furnishings   \n",
       "1                                                      sexual-intercourse   \n",
       "2           substitutions-of-sacrifices laws-of-substitution-of-offerings   \n",
       "3                                                             dinei-yibum   \n",
       "4  months calculations-to-verify-the-sighting-of-the-new-moon-in-its-time   \n",
       "\n",
       "                                                                                       Expanded Topics  \n",
       "0  continuant laws laws-of-building-the-temple-and-its-furnishings halachic-process acts laws-of-th...  \n",
       "1                                                              acts occurent entity sexual-intercourse  \n",
       "2  continuant substitutions-of-sacrifices laws halachic-process acts laws-of-substitution-of-offeri...  \n",
       "3      continuant laws entity dinei-yibum halakhah generically-dependent-continuant mitzvot family-law  \n",
       "4  material-entity group-of-inanimate-objects entity independent-continuant months luminaries one-d...  "
      ]
     },
     "execution_count": 395,
     "metadata": {},
     "output_type": "execute_result"
    }
   ],
   "source": [
    "df = pd.read_csv('/persistent/Sefaria-Project/ML/data/yishai_data.csv',\n",
    "                 quoting=2, error_bad_lines=False\n",
    "                )[:NUM_DATA_POINTS]\n",
    "df.head()"
   ]
  },
  {
   "cell_type": "code",
   "execution_count": 396,
   "metadata": {
    "scrolled": false
   },
   "outputs": [
    {
     "name": "stdout",
     "output_type": "stream",
     "text": [
      "<class 'pandas.core.frame.DataFrame'>\n",
      "RangeIndex: 1000 entries, 0 to 999\n",
      "Data columns (total 5 columns):\n",
      " #   Column           Non-Null Count  Dtype \n",
      "---  ------           --------------  ----- \n",
      " 0   Ref              1000 non-null   object\n",
      " 1   En               667 non-null    object\n",
      " 2   He               998 non-null    object\n",
      " 3   Topics           1000 non-null   object\n",
      " 4   Expanded Topics  1000 non-null   object\n",
      "dtypes: object(5)\n",
      "memory usage: 39.2+ KB\n"
     ]
    }
   ],
   "source": [
    "df.info()"
   ]
  },
  {
   "cell_type": "code",
   "execution_count": 397,
   "metadata": {},
   "outputs": [],
   "source": [
    "df = df.dropna()"
   ]
  },
  {
   "cell_type": "code",
   "execution_count": 398,
   "metadata": {},
   "outputs": [
    {
     "name": "stdout",
     "output_type": "stream",
     "text": [
      "<class 'pandas.core.frame.DataFrame'>\n",
      "Int64Index: 667 entries, 0 to 999\n",
      "Data columns (total 5 columns):\n",
      " #   Column           Non-Null Count  Dtype \n",
      "---  ------           --------------  ----- \n",
      " 0   Ref              667 non-null    object\n",
      " 1   En               667 non-null    object\n",
      " 2   He               667 non-null    object\n",
      " 3   Topics           667 non-null    object\n",
      " 4   Expanded Topics  667 non-null    object\n",
      "dtypes: object(5)\n",
      "memory usage: 31.3+ KB\n"
     ]
    }
   ],
   "source": [
    "df.info()"
   ]
  },
  {
   "cell_type": "code",
   "execution_count": 399,
   "metadata": {},
   "outputs": [
    {
     "data": {
      "text/html": [
       "<div>\n",
       "<style scoped>\n",
       "    .dataframe tbody tr th:only-of-type {\n",
       "        vertical-align: middle;\n",
       "    }\n",
       "\n",
       "    .dataframe tbody tr th {\n",
       "        vertical-align: top;\n",
       "    }\n",
       "\n",
       "    .dataframe thead th {\n",
       "        text-align: right;\n",
       "    }\n",
       "</style>\n",
       "<table border=\"1\" class=\"dataframe\">\n",
       "  <thead>\n",
       "    <tr style=\"text-align: right;\">\n",
       "      <th></th>\n",
       "      <th>Ref</th>\n",
       "      <th>En</th>\n",
       "      <th>Topics</th>\n",
       "    </tr>\n",
       "  </thead>\n",
       "  <tbody>\n",
       "    <tr>\n",
       "      <th>0</th>\n",
       "      <td>Avodah Zarah 52b:13</td>\n",
       "      <td>The Gemara answers: The two cases are not comparable. &lt;b&gt;There,&lt;/b&gt; the coins of Jerusalem &lt;b&gt;ha...</td>\n",
       "      <td>derekh-eretz laws-of-building-the-temple-and-its-furnishings</td>\n",
       "    </tr>\n",
       "    <tr>\n",
       "      <th>1</th>\n",
       "      <td>Tractate Kallah Rabbati 1:23</td>\n",
       "      <td>If one has intercourse by the light of a lamp he will have epileptic children.&lt;br&gt;&lt;small&gt;GEMARA&lt;...</td>\n",
       "      <td>sexual-intercourse</td>\n",
       "    </tr>\n",
       "    <tr>\n",
       "      <th>2</th>\n",
       "      <td>Temurah 7b:12</td>\n",
       "      <td>&lt;strong&gt;MISHNA:&lt;/strong&gt; &lt;b&gt;The priests substitute for their&lt;/b&gt; own offerings &lt;b&gt;and Israelites...</td>\n",
       "      <td>substitutions-of-sacrifices laws-of-substitution-of-offerings</td>\n",
       "    </tr>\n",
       "    <tr>\n",
       "      <th>4</th>\n",
       "      <td>Rosh Hashanah 25a:8</td>\n",
       "      <td>&lt;b&gt;Rabbi Yoḥanan said: What is the reason&lt;/b&gt; for the opinion &lt;b&gt;of the house of Rabbi&lt;/b&gt; Yehud...</td>\n",
       "      <td>months calculations-to-verify-the-sighting-of-the-new-moon-in-its-time</td>\n",
       "    </tr>\n",
       "    <tr>\n",
       "      <th>7</th>\n",
       "      <td>Ketubot 12b:6</td>\n",
       "      <td>&lt;strong&gt;GEMARA:&lt;/strong&gt; &lt;b&gt;It was stated:&lt;/b&gt; With regard to one who approaches another and say...</td>\n",
       "      <td>laws-of-litigant-oaths safek</td>\n",
       "    </tr>\n",
       "  </tbody>\n",
       "</table>\n",
       "</div>"
      ],
      "text/plain": [
       "                            Ref  \\\n",
       "0           Avodah Zarah 52b:13   \n",
       "1  Tractate Kallah Rabbati 1:23   \n",
       "2                 Temurah 7b:12   \n",
       "4           Rosh Hashanah 25a:8   \n",
       "7                 Ketubot 12b:6   \n",
       "\n",
       "                                                                                                    En  \\\n",
       "0  The Gemara answers: The two cases are not comparable. <b>There,</b> the coins of Jerusalem <b>ha...   \n",
       "1  If one has intercourse by the light of a lamp he will have epileptic children.<br><small>GEMARA<...   \n",
       "2  <strong>MISHNA:</strong> <b>The priests substitute for their</b> own offerings <b>and Israelites...   \n",
       "4  <b>Rabbi Yoḥanan said: What is the reason</b> for the opinion <b>of the house of Rabbi</b> Yehud...   \n",
       "7  <strong>GEMARA:</strong> <b>It was stated:</b> With regard to one who approaches another and say...   \n",
       "\n",
       "                                                                   Topics  \n",
       "0            derekh-eretz laws-of-building-the-temple-and-its-furnishings  \n",
       "1                                                      sexual-intercourse  \n",
       "2           substitutions-of-sacrifices laws-of-substitution-of-offerings  \n",
       "4  months calculations-to-verify-the-sighting-of-the-new-moon-in-its-time  \n",
       "7                                            laws-of-litigant-oaths safek  "
      ]
     },
     "execution_count": 399,
     "metadata": {},
     "output_type": "execute_result"
    }
   ],
   "source": [
    "df = df[['Ref','En','Topics']]\n",
    "df.head()"
   ]
  },
  {
   "cell_type": "code",
   "execution_count": 400,
   "metadata": {},
   "outputs": [],
   "source": [
    "df = df.rename(columns={'Ref': 'id', 'En': 'comment_text'})"
   ]
  },
  {
   "cell_type": "code",
   "execution_count": 401,
   "metadata": {},
   "outputs": [
    {
     "data": {
      "text/html": [
       "<div>\n",
       "<style scoped>\n",
       "    .dataframe tbody tr th:only-of-type {\n",
       "        vertical-align: middle;\n",
       "    }\n",
       "\n",
       "    .dataframe tbody tr th {\n",
       "        vertical-align: top;\n",
       "    }\n",
       "\n",
       "    .dataframe thead th {\n",
       "        text-align: right;\n",
       "    }\n",
       "</style>\n",
       "<table border=\"1\" class=\"dataframe\">\n",
       "  <thead>\n",
       "    <tr style=\"text-align: right;\">\n",
       "      <th></th>\n",
       "      <th>id</th>\n",
       "      <th>comment_text</th>\n",
       "      <th>400</th>\n",
       "      <th>a-day-or-two</th>\n",
       "      <th>aaron</th>\n",
       "      <th>abaye</th>\n",
       "      <th>abimelech-the-son-of-jerubaal</th>\n",
       "      <th>abodes</th>\n",
       "      <th>abraham</th>\n",
       "      <th>abraham-and-sodom</th>\n",
       "      <th>...</th>\n",
       "      <th>writing</th>\n",
       "      <th>yavneh</th>\n",
       "      <th>years</th>\n",
       "      <th>yehonatan</th>\n",
       "      <th>yetzer-hara</th>\n",
       "      <th>yidoni</th>\n",
       "      <th>yirat-shamayim</th>\n",
       "      <th>you-shall-not-cut-yourself</th>\n",
       "      <th>zedekiah</th>\n",
       "      <th>zevulun</th>\n",
       "    </tr>\n",
       "  </thead>\n",
       "  <tbody>\n",
       "    <tr>\n",
       "      <th>0</th>\n",
       "      <td>Avodah Zarah 52b:13</td>\n",
       "      <td>The Gemara answers: The two cases are not comparable. &lt;b&gt;There,&lt;/b&gt; the coins of Jerusalem &lt;b&gt;ha...</td>\n",
       "      <td>0</td>\n",
       "      <td>0</td>\n",
       "      <td>0</td>\n",
       "      <td>0</td>\n",
       "      <td>0</td>\n",
       "      <td>0</td>\n",
       "      <td>0</td>\n",
       "      <td>0</td>\n",
       "      <td>...</td>\n",
       "      <td>0</td>\n",
       "      <td>0</td>\n",
       "      <td>0</td>\n",
       "      <td>0</td>\n",
       "      <td>0</td>\n",
       "      <td>0</td>\n",
       "      <td>0</td>\n",
       "      <td>0</td>\n",
       "      <td>0</td>\n",
       "      <td>0</td>\n",
       "    </tr>\n",
       "    <tr>\n",
       "      <th>1</th>\n",
       "      <td>Tractate Kallah Rabbati 1:23</td>\n",
       "      <td>If one has intercourse by the light of a lamp he will have epileptic children.&lt;br&gt;&lt;small&gt;GEMARA&lt;...</td>\n",
       "      <td>0</td>\n",
       "      <td>0</td>\n",
       "      <td>0</td>\n",
       "      <td>0</td>\n",
       "      <td>0</td>\n",
       "      <td>0</td>\n",
       "      <td>0</td>\n",
       "      <td>0</td>\n",
       "      <td>...</td>\n",
       "      <td>0</td>\n",
       "      <td>0</td>\n",
       "      <td>0</td>\n",
       "      <td>0</td>\n",
       "      <td>0</td>\n",
       "      <td>0</td>\n",
       "      <td>0</td>\n",
       "      <td>0</td>\n",
       "      <td>0</td>\n",
       "      <td>0</td>\n",
       "    </tr>\n",
       "    <tr>\n",
       "      <th>2</th>\n",
       "      <td>Temurah 7b:12</td>\n",
       "      <td>&lt;strong&gt;MISHNA:&lt;/strong&gt; &lt;b&gt;The priests substitute for their&lt;/b&gt; own offerings &lt;b&gt;and Israelites...</td>\n",
       "      <td>0</td>\n",
       "      <td>0</td>\n",
       "      <td>0</td>\n",
       "      <td>0</td>\n",
       "      <td>0</td>\n",
       "      <td>0</td>\n",
       "      <td>0</td>\n",
       "      <td>0</td>\n",
       "      <td>...</td>\n",
       "      <td>0</td>\n",
       "      <td>0</td>\n",
       "      <td>0</td>\n",
       "      <td>0</td>\n",
       "      <td>0</td>\n",
       "      <td>0</td>\n",
       "      <td>0</td>\n",
       "      <td>0</td>\n",
       "      <td>0</td>\n",
       "      <td>0</td>\n",
       "    </tr>\n",
       "    <tr>\n",
       "      <th>4</th>\n",
       "      <td>Rosh Hashanah 25a:8</td>\n",
       "      <td>&lt;b&gt;Rabbi Yoḥanan said: What is the reason&lt;/b&gt; for the opinion &lt;b&gt;of the house of Rabbi&lt;/b&gt; Yehud...</td>\n",
       "      <td>0</td>\n",
       "      <td>0</td>\n",
       "      <td>0</td>\n",
       "      <td>0</td>\n",
       "      <td>0</td>\n",
       "      <td>0</td>\n",
       "      <td>0</td>\n",
       "      <td>0</td>\n",
       "      <td>...</td>\n",
       "      <td>0</td>\n",
       "      <td>0</td>\n",
       "      <td>0</td>\n",
       "      <td>0</td>\n",
       "      <td>0</td>\n",
       "      <td>0</td>\n",
       "      <td>0</td>\n",
       "      <td>0</td>\n",
       "      <td>0</td>\n",
       "      <td>0</td>\n",
       "    </tr>\n",
       "    <tr>\n",
       "      <th>7</th>\n",
       "      <td>Ketubot 12b:6</td>\n",
       "      <td>&lt;strong&gt;GEMARA:&lt;/strong&gt; &lt;b&gt;It was stated:&lt;/b&gt; With regard to one who approaches another and say...</td>\n",
       "      <td>0</td>\n",
       "      <td>0</td>\n",
       "      <td>0</td>\n",
       "      <td>0</td>\n",
       "      <td>0</td>\n",
       "      <td>0</td>\n",
       "      <td>0</td>\n",
       "      <td>0</td>\n",
       "      <td>...</td>\n",
       "      <td>0</td>\n",
       "      <td>0</td>\n",
       "      <td>0</td>\n",
       "      <td>0</td>\n",
       "      <td>0</td>\n",
       "      <td>0</td>\n",
       "      <td>0</td>\n",
       "      <td>0</td>\n",
       "      <td>0</td>\n",
       "      <td>0</td>\n",
       "    </tr>\n",
       "  </tbody>\n",
       "</table>\n",
       "<p>5 rows × 780 columns</p>\n",
       "</div>"
      ],
      "text/plain": [
       "                             id  \\\n",
       "0           Avodah Zarah 52b:13   \n",
       "1  Tractate Kallah Rabbati 1:23   \n",
       "2                 Temurah 7b:12   \n",
       "4           Rosh Hashanah 25a:8   \n",
       "7                 Ketubot 12b:6   \n",
       "\n",
       "                                                                                          comment_text  \\\n",
       "0  The Gemara answers: The two cases are not comparable. <b>There,</b> the coins of Jerusalem <b>ha...   \n",
       "1  If one has intercourse by the light of a lamp he will have epileptic children.<br><small>GEMARA<...   \n",
       "2  <strong>MISHNA:</strong> <b>The priests substitute for their</b> own offerings <b>and Israelites...   \n",
       "4  <b>Rabbi Yoḥanan said: What is the reason</b> for the opinion <b>of the house of Rabbi</b> Yehud...   \n",
       "7  <strong>GEMARA:</strong> <b>It was stated:</b> With regard to one who approaches another and say...   \n",
       "\n",
       "   400  a-day-or-two  aaron  abaye  abimelech-the-son-of-jerubaal  abodes  \\\n",
       "0    0             0      0      0                              0       0   \n",
       "1    0             0      0      0                              0       0   \n",
       "2    0             0      0      0                              0       0   \n",
       "4    0             0      0      0                              0       0   \n",
       "7    0             0      0      0                              0       0   \n",
       "\n",
       "   abraham  abraham-and-sodom  ...  writing  yavneh  years  yehonatan  \\\n",
       "0        0                  0  ...        0       0      0          0   \n",
       "1        0                  0  ...        0       0      0          0   \n",
       "2        0                  0  ...        0       0      0          0   \n",
       "4        0                  0  ...        0       0      0          0   \n",
       "7        0                  0  ...        0       0      0          0   \n",
       "\n",
       "   yetzer-hara  yidoni  yirat-shamayim  you-shall-not-cut-yourself  zedekiah  \\\n",
       "0            0       0               0                           0         0   \n",
       "1            0       0               0                           0         0   \n",
       "2            0       0               0                           0         0   \n",
       "4            0       0               0                           0         0   \n",
       "7            0       0               0                           0         0   \n",
       "\n",
       "   zevulun  \n",
       "0        0  \n",
       "1        0  \n",
       "2        0  \n",
       "4        0  \n",
       "7        0  \n",
       "\n",
       "[5 rows x 780 columns]"
      ]
     },
     "execution_count": 401,
     "metadata": {},
     "output_type": "execute_result"
    }
   ],
   "source": [
    "df = pd.concat([df, df.pop('Topics').str.get_dummies(sep=' ')], axis=1)\n",
    "df.head()"
   ]
  },
  {
   "cell_type": "code",
   "execution_count": 402,
   "metadata": {},
   "outputs": [
    {
     "name": "stdout",
     "output_type": "stream",
     "text": [
      "id                            0\n",
      "comment_text                  0\n",
      "400                           0\n",
      "a-day-or-two                  0\n",
      "aaron                         0\n",
      "                             ..\n",
      "yidoni                        0\n",
      "yirat-shamayim                0\n",
      "you-shall-not-cut-yourself    0\n",
      "zedekiah                      0\n",
      "zevulun                       0\n",
      "Length: 780, dtype: int64\n"
     ]
    }
   ],
   "source": [
    "data_raw = df\n",
    "missing_values_check = data_raw.isnull().sum()\n",
    "print(missing_values_check)"
   ]
  },
  {
   "cell_type": "code",
   "execution_count": 403,
   "metadata": {},
   "outputs": [
    {
     "name": "stdout",
     "output_type": "stream",
     "text": [
      "Total number of comments =  667\n",
      "Number of clean comments =  0\n",
      "Number of comments with labels = 667\n"
     ]
    }
   ],
   "source": [
    "# Comments with no label are considered to be clean comments.\n",
    "# Creating seperate column in dataframe to identify clean comments.\n",
    "\n",
    "# We use axis=1 to count row-wise and axis=0 to count column wise\n",
    "\n",
    "rowSums = data_raw.iloc[:,2:].sum(axis=1)\n",
    "clean_comments_count = (rowSums==0).sum(axis=0)\n",
    "\n",
    "print(\"Total number of comments = \",len(data_raw))\n",
    "print(\"Number of clean comments = \",clean_comments_count)\n",
    "print(\"Number of comments with labels =\",(len(data_raw)-clean_comments_count))"
   ]
  },
  {
   "cell_type": "code",
   "execution_count": 404,
   "metadata": {},
   "outputs": [
    {
     "data": {
      "text/plain": [
       "['id',\n",
       " 'comment_text',\n",
       " 'prayer',\n",
       " 'procedures-for-judges-and-conduct-towards-them',\n",
       " 'learning',\n",
       " 'kings',\n",
       " 'hilchot-chol-hamoed',\n",
       " 'laws-of-judges-and-courts',\n",
       " 'laws-of-animal-sacrifices',\n",
       " 'financial-ramifications-of-marriage',\n",
       " 'idolatry',\n",
       " 'laws-of-transferring-between-domains']"
      ]
     },
     "execution_count": 404,
     "metadata": {},
     "output_type": "execute_result"
    }
   ],
   "source": [
    "columns_wanted = ['id','comment_text'] + my_example_topics\n",
    "columns_wanted"
   ]
  },
  {
   "cell_type": "code",
   "execution_count": 405,
   "metadata": {},
   "outputs": [
    {
     "data": {
      "text/plain": [
       "(667, 12)"
      ]
     },
     "execution_count": 405,
     "metadata": {},
     "output_type": "execute_result"
    }
   ],
   "source": [
    "data_raw = data_raw[columns_wanted]\n",
    "data_raw.shape"
   ]
  },
  {
   "cell_type": "code",
   "execution_count": null,
   "metadata": {},
   "outputs": [],
   "source": []
  },
  {
   "cell_type": "code",
   "execution_count": 406,
   "metadata": {},
   "outputs": [],
   "source": [
    "df_all_rows = data_raw"
   ]
  },
  {
   "cell_type": "code",
   "execution_count": 407,
   "metadata": {},
   "outputs": [
    {
     "data": {
      "text/html": [
       "<div>\n",
       "<style scoped>\n",
       "    .dataframe tbody tr th:only-of-type {\n",
       "        vertical-align: middle;\n",
       "    }\n",
       "\n",
       "    .dataframe tbody tr th {\n",
       "        vertical-align: top;\n",
       "    }\n",
       "\n",
       "    .dataframe thead th {\n",
       "        text-align: right;\n",
       "    }\n",
       "</style>\n",
       "<table border=\"1\" class=\"dataframe\">\n",
       "  <thead>\n",
       "    <tr style=\"text-align: right;\">\n",
       "      <th></th>\n",
       "      <th>prayer</th>\n",
       "      <th>procedures-for-judges-and-conduct-towards-them</th>\n",
       "      <th>learning</th>\n",
       "      <th>kings</th>\n",
       "      <th>hilchot-chol-hamoed</th>\n",
       "      <th>laws-of-judges-and-courts</th>\n",
       "      <th>laws-of-animal-sacrifices</th>\n",
       "      <th>financial-ramifications-of-marriage</th>\n",
       "      <th>idolatry</th>\n",
       "      <th>laws-of-transferring-between-domains</th>\n",
       "    </tr>\n",
       "  </thead>\n",
       "  <tbody>\n",
       "    <tr>\n",
       "      <th>0</th>\n",
       "      <td>True</td>\n",
       "      <td>True</td>\n",
       "      <td>True</td>\n",
       "      <td>True</td>\n",
       "      <td>True</td>\n",
       "      <td>True</td>\n",
       "      <td>True</td>\n",
       "      <td>True</td>\n",
       "      <td>True</td>\n",
       "      <td>True</td>\n",
       "    </tr>\n",
       "    <tr>\n",
       "      <th>1</th>\n",
       "      <td>True</td>\n",
       "      <td>True</td>\n",
       "      <td>True</td>\n",
       "      <td>True</td>\n",
       "      <td>True</td>\n",
       "      <td>True</td>\n",
       "      <td>True</td>\n",
       "      <td>True</td>\n",
       "      <td>True</td>\n",
       "      <td>True</td>\n",
       "    </tr>\n",
       "    <tr>\n",
       "      <th>2</th>\n",
       "      <td>True</td>\n",
       "      <td>True</td>\n",
       "      <td>True</td>\n",
       "      <td>True</td>\n",
       "      <td>True</td>\n",
       "      <td>True</td>\n",
       "      <td>True</td>\n",
       "      <td>True</td>\n",
       "      <td>True</td>\n",
       "      <td>True</td>\n",
       "    </tr>\n",
       "    <tr>\n",
       "      <th>4</th>\n",
       "      <td>True</td>\n",
       "      <td>True</td>\n",
       "      <td>True</td>\n",
       "      <td>True</td>\n",
       "      <td>True</td>\n",
       "      <td>True</td>\n",
       "      <td>True</td>\n",
       "      <td>True</td>\n",
       "      <td>True</td>\n",
       "      <td>True</td>\n",
       "    </tr>\n",
       "    <tr>\n",
       "      <th>7</th>\n",
       "      <td>True</td>\n",
       "      <td>True</td>\n",
       "      <td>True</td>\n",
       "      <td>True</td>\n",
       "      <td>True</td>\n",
       "      <td>True</td>\n",
       "      <td>True</td>\n",
       "      <td>True</td>\n",
       "      <td>True</td>\n",
       "      <td>True</td>\n",
       "    </tr>\n",
       "    <tr>\n",
       "      <th>...</th>\n",
       "      <td>...</td>\n",
       "      <td>...</td>\n",
       "      <td>...</td>\n",
       "      <td>...</td>\n",
       "      <td>...</td>\n",
       "      <td>...</td>\n",
       "      <td>...</td>\n",
       "      <td>...</td>\n",
       "      <td>...</td>\n",
       "      <td>...</td>\n",
       "    </tr>\n",
       "    <tr>\n",
       "      <th>995</th>\n",
       "      <td>True</td>\n",
       "      <td>True</td>\n",
       "      <td>True</td>\n",
       "      <td>True</td>\n",
       "      <td>True</td>\n",
       "      <td>True</td>\n",
       "      <td>True</td>\n",
       "      <td>True</td>\n",
       "      <td>True</td>\n",
       "      <td>True</td>\n",
       "    </tr>\n",
       "    <tr>\n",
       "      <th>996</th>\n",
       "      <td>True</td>\n",
       "      <td>True</td>\n",
       "      <td>True</td>\n",
       "      <td>True</td>\n",
       "      <td>True</td>\n",
       "      <td>True</td>\n",
       "      <td>True</td>\n",
       "      <td>True</td>\n",
       "      <td>True</td>\n",
       "      <td>True</td>\n",
       "    </tr>\n",
       "    <tr>\n",
       "      <th>997</th>\n",
       "      <td>True</td>\n",
       "      <td>True</td>\n",
       "      <td>True</td>\n",
       "      <td>True</td>\n",
       "      <td>True</td>\n",
       "      <td>True</td>\n",
       "      <td>True</td>\n",
       "      <td>True</td>\n",
       "      <td>True</td>\n",
       "      <td>True</td>\n",
       "    </tr>\n",
       "    <tr>\n",
       "      <th>998</th>\n",
       "      <td>True</td>\n",
       "      <td>True</td>\n",
       "      <td>True</td>\n",
       "      <td>True</td>\n",
       "      <td>True</td>\n",
       "      <td>True</td>\n",
       "      <td>True</td>\n",
       "      <td>True</td>\n",
       "      <td>True</td>\n",
       "      <td>True</td>\n",
       "    </tr>\n",
       "    <tr>\n",
       "      <th>999</th>\n",
       "      <td>True</td>\n",
       "      <td>True</td>\n",
       "      <td>True</td>\n",
       "      <td>True</td>\n",
       "      <td>True</td>\n",
       "      <td>True</td>\n",
       "      <td>True</td>\n",
       "      <td>True</td>\n",
       "      <td>True</td>\n",
       "      <td>True</td>\n",
       "    </tr>\n",
       "  </tbody>\n",
       "</table>\n",
       "<p>667 rows × 10 columns</p>\n",
       "</div>"
      ],
      "text/plain": [
       "     prayer  procedures-for-judges-and-conduct-towards-them  learning  kings  \\\n",
       "0      True                                            True      True   True   \n",
       "1      True                                            True      True   True   \n",
       "2      True                                            True      True   True   \n",
       "4      True                                            True      True   True   \n",
       "7      True                                            True      True   True   \n",
       "..      ...                                             ...       ...    ...   \n",
       "995    True                                            True      True   True   \n",
       "996    True                                            True      True   True   \n",
       "997    True                                            True      True   True   \n",
       "998    True                                            True      True   True   \n",
       "999    True                                            True      True   True   \n",
       "\n",
       "     hilchot-chol-hamoed  laws-of-judges-and-courts  \\\n",
       "0                   True                       True   \n",
       "1                   True                       True   \n",
       "2                   True                       True   \n",
       "4                   True                       True   \n",
       "7                   True                       True   \n",
       "..                   ...                        ...   \n",
       "995                 True                       True   \n",
       "996                 True                       True   \n",
       "997                 True                       True   \n",
       "998                 True                       True   \n",
       "999                 True                       True   \n",
       "\n",
       "     laws-of-animal-sacrifices  financial-ramifications-of-marriage  idolatry  \\\n",
       "0                         True                                 True      True   \n",
       "1                         True                                 True      True   \n",
       "2                         True                                 True      True   \n",
       "4                         True                                 True      True   \n",
       "7                         True                                 True      True   \n",
       "..                         ...                                  ...       ...   \n",
       "995                       True                                 True      True   \n",
       "996                       True                                 True      True   \n",
       "997                       True                                 True      True   \n",
       "998                       True                                 True      True   \n",
       "999                       True                                 True      True   \n",
       "\n",
       "     laws-of-transferring-between-domains  \n",
       "0                                    True  \n",
       "1                                    True  \n",
       "2                                    True  \n",
       "4                                    True  \n",
       "7                                    True  \n",
       "..                                    ...  \n",
       "995                                  True  \n",
       "996                                  True  \n",
       "997                                  True  \n",
       "998                                  True  \n",
       "999                                  True  \n",
       "\n",
       "[667 rows x 10 columns]"
      ]
     },
     "execution_count": 407,
     "metadata": {},
     "output_type": "execute_result"
    }
   ],
   "source": [
    "df_all_rows[my_example_topics] == 0"
   ]
  },
  {
   "cell_type": "code",
   "execution_count": 408,
   "metadata": {},
   "outputs": [
    {
     "data": {
      "text/plain": [
       "0      False\n",
       "1      False\n",
       "2      False\n",
       "4      False\n",
       "7      False\n",
       "       ...  \n",
       "995    False\n",
       "996    False\n",
       "997    False\n",
       "998    False\n",
       "999    False\n",
       "Length: 667, dtype: bool"
      ]
     },
     "execution_count": 408,
     "metadata": {},
     "output_type": "execute_result"
    }
   ],
   "source": [
    "~(df_all_rows[my_example_topics] == 0).all(axis=1)"
   ]
  },
  {
   "cell_type": "code",
   "execution_count": 409,
   "metadata": {},
   "outputs": [
    {
     "data": {
      "text/html": [
       "<div>\n",
       "<style scoped>\n",
       "    .dataframe tbody tr th:only-of-type {\n",
       "        vertical-align: middle;\n",
       "    }\n",
       "\n",
       "    .dataframe tbody tr th {\n",
       "        vertical-align: top;\n",
       "    }\n",
       "\n",
       "    .dataframe thead th {\n",
       "        text-align: right;\n",
       "    }\n",
       "</style>\n",
       "<table border=\"1\" class=\"dataframe\">\n",
       "  <thead>\n",
       "    <tr style=\"text-align: right;\">\n",
       "      <th></th>\n",
       "      <th>id</th>\n",
       "      <th>comment_text</th>\n",
       "      <th>prayer</th>\n",
       "      <th>procedures-for-judges-and-conduct-towards-them</th>\n",
       "      <th>learning</th>\n",
       "      <th>kings</th>\n",
       "      <th>hilchot-chol-hamoed</th>\n",
       "      <th>laws-of-judges-and-courts</th>\n",
       "      <th>laws-of-animal-sacrifices</th>\n",
       "      <th>financial-ramifications-of-marriage</th>\n",
       "      <th>idolatry</th>\n",
       "      <th>laws-of-transferring-between-domains</th>\n",
       "    </tr>\n",
       "  </thead>\n",
       "  <tbody>\n",
       "    <tr>\n",
       "      <th>21</th>\n",
       "      <td>Menachot 5a:6</td>\n",
       "      <td>&lt;b&gt;Rav Adda, son of Rav Yitzḥak, raises an objection&lt;/b&gt; to Rav Adda bar Ahava’s explanation fro...</td>\n",
       "      <td>0</td>\n",
       "      <td>0</td>\n",
       "      <td>0</td>\n",
       "      <td>0</td>\n",
       "      <td>0</td>\n",
       "      <td>0</td>\n",
       "      <td>1</td>\n",
       "      <td>0</td>\n",
       "      <td>0</td>\n",
       "      <td>0</td>\n",
       "    </tr>\n",
       "    <tr>\n",
       "      <th>48</th>\n",
       "      <td>Gittin 37b:5</td>\n",
       "      <td>§ &lt;b&gt;Rav Yehuda says&lt;/b&gt; that &lt;b&gt;Rav Naḥman says: A person is deemed credible to say: I had a &lt;i...</td>\n",
       "      <td>0</td>\n",
       "      <td>1</td>\n",
       "      <td>0</td>\n",
       "      <td>0</td>\n",
       "      <td>0</td>\n",
       "      <td>0</td>\n",
       "      <td>0</td>\n",
       "      <td>0</td>\n",
       "      <td>0</td>\n",
       "      <td>0</td>\n",
       "    </tr>\n",
       "    <tr>\n",
       "      <th>54</th>\n",
       "      <td>Horayot 13a:10</td>\n",
       "      <td>&lt;b&gt;A Torah scholar precedes the king of Israel,&lt;/b&gt; because in the case of &lt;b&gt;a Sage who dies, w...</td>\n",
       "      <td>0</td>\n",
       "      <td>0</td>\n",
       "      <td>0</td>\n",
       "      <td>1</td>\n",
       "      <td>0</td>\n",
       "      <td>0</td>\n",
       "      <td>0</td>\n",
       "      <td>0</td>\n",
       "      <td>0</td>\n",
       "      <td>0</td>\n",
       "    </tr>\n",
       "    <tr>\n",
       "      <th>65</th>\n",
       "      <td>Sotah 41a:16</td>\n",
       "      <td>&lt;b&gt;The synagogue attendant takes a Torah scroll and gives it to the head of the synagogue&lt;/b&gt; th...</td>\n",
       "      <td>0</td>\n",
       "      <td>0</td>\n",
       "      <td>0</td>\n",
       "      <td>1</td>\n",
       "      <td>0</td>\n",
       "      <td>0</td>\n",
       "      <td>0</td>\n",
       "      <td>0</td>\n",
       "      <td>0</td>\n",
       "      <td>0</td>\n",
       "    </tr>\n",
       "    <tr>\n",
       "      <th>69</th>\n",
       "      <td>Rashi on Numbers 15:22:1</td>\n",
       "      <td>וכי תשגו ולא תעשו AND IF YE HAVE ERRED, AND NOT DONE [ALL THESE COMMANDMENTS WHICH THE LORD HATH...</td>\n",
       "      <td>0</td>\n",
       "      <td>0</td>\n",
       "      <td>0</td>\n",
       "      <td>0</td>\n",
       "      <td>0</td>\n",
       "      <td>0</td>\n",
       "      <td>0</td>\n",
       "      <td>0</td>\n",
       "      <td>1</td>\n",
       "      <td>0</td>\n",
       "    </tr>\n",
       "  </tbody>\n",
       "</table>\n",
       "</div>"
      ],
      "text/plain": [
       "                          id  \\\n",
       "21             Menachot 5a:6   \n",
       "48              Gittin 37b:5   \n",
       "54            Horayot 13a:10   \n",
       "65              Sotah 41a:16   \n",
       "69  Rashi on Numbers 15:22:1   \n",
       "\n",
       "                                                                                           comment_text  \\\n",
       "21  <b>Rav Adda, son of Rav Yitzḥak, raises an objection</b> to Rav Adda bar Ahava’s explanation fro...   \n",
       "48  § <b>Rav Yehuda says</b> that <b>Rav Naḥman says: A person is deemed credible to say: I had a <i...   \n",
       "54  <b>A Torah scholar precedes the king of Israel,</b> because in the case of <b>a Sage who dies, w...   \n",
       "65  <b>The synagogue attendant takes a Torah scroll and gives it to the head of the synagogue</b> th...   \n",
       "69  וכי תשגו ולא תעשו AND IF YE HAVE ERRED, AND NOT DONE [ALL THESE COMMANDMENTS WHICH THE LORD HATH...   \n",
       "\n",
       "    prayer  procedures-for-judges-and-conduct-towards-them  learning  kings  \\\n",
       "21       0                                               0         0      0   \n",
       "48       0                                               1         0      0   \n",
       "54       0                                               0         0      1   \n",
       "65       0                                               0         0      1   \n",
       "69       0                                               0         0      0   \n",
       "\n",
       "    hilchot-chol-hamoed  laws-of-judges-and-courts  laws-of-animal-sacrifices  \\\n",
       "21                    0                          0                          1   \n",
       "48                    0                          0                          0   \n",
       "54                    0                          0                          0   \n",
       "65                    0                          0                          0   \n",
       "69                    0                          0                          0   \n",
       "\n",
       "    financial-ramifications-of-marriage  idolatry  \\\n",
       "21                                    0         0   \n",
       "48                                    0         0   \n",
       "54                                    0         0   \n",
       "65                                    0         0   \n",
       "69                                    0         1   \n",
       "\n",
       "    laws-of-transferring-between-domains  \n",
       "21                                     0  \n",
       "48                                     0  \n",
       "54                                     0  \n",
       "65                                     0  \n",
       "69                                     0  "
      ]
     },
     "execution_count": 409,
     "metadata": {},
     "output_type": "execute_result"
    }
   ],
   "source": [
    "df_wanted_rows = data_raw[~(df_all_rows[my_example_topics] == 0).all(axis=1)]\n",
    "df_wanted_rows.head()"
   ]
  },
  {
   "cell_type": "code",
   "execution_count": 410,
   "metadata": {},
   "outputs": [
    {
     "data": {
      "text/plain": [
       "(66, 12)"
      ]
     },
     "execution_count": 410,
     "metadata": {},
     "output_type": "execute_result"
    }
   ],
   "source": [
    "df_wanted_rows.shape"
   ]
  },
  {
   "cell_type": "code",
   "execution_count": 411,
   "metadata": {},
   "outputs": [],
   "source": [
    "data_raw = df_wanted_rows"
   ]
  },
  {
   "cell_type": "code",
   "execution_count": 412,
   "metadata": {},
   "outputs": [
    {
     "data": {
      "text/plain": [
       "(66, 12)"
      ]
     },
     "execution_count": 412,
     "metadata": {},
     "output_type": "execute_result"
    }
   ],
   "source": [
    "data_raw.shape"
   ]
  },
  {
   "cell_type": "code",
   "execution_count": null,
   "metadata": {},
   "outputs": [],
   "source": []
  },
  {
   "cell_type": "code",
   "execution_count": 413,
   "metadata": {},
   "outputs": [
    {
     "data": {
      "text/html": [
       "<div>\n",
       "<style scoped>\n",
       "    .dataframe tbody tr th:only-of-type {\n",
       "        vertical-align: middle;\n",
       "    }\n",
       "\n",
       "    .dataframe tbody tr th {\n",
       "        vertical-align: top;\n",
       "    }\n",
       "\n",
       "    .dataframe thead th {\n",
       "        text-align: right;\n",
       "    }\n",
       "</style>\n",
       "<table border=\"1\" class=\"dataframe\">\n",
       "  <thead>\n",
       "    <tr style=\"text-align: right;\">\n",
       "      <th></th>\n",
       "      <th>id</th>\n",
       "      <th>comment_text</th>\n",
       "      <th>prayer</th>\n",
       "      <th>procedures-for-judges-and-conduct-towards-them</th>\n",
       "      <th>learning</th>\n",
       "      <th>kings</th>\n",
       "      <th>hilchot-chol-hamoed</th>\n",
       "      <th>laws-of-judges-and-courts</th>\n",
       "      <th>laws-of-animal-sacrifices</th>\n",
       "      <th>financial-ramifications-of-marriage</th>\n",
       "      <th>idolatry</th>\n",
       "      <th>laws-of-transferring-between-domains</th>\n",
       "    </tr>\n",
       "  </thead>\n",
       "  <tbody>\n",
       "    <tr>\n",
       "      <th>21</th>\n",
       "      <td>Menachot 5a:6</td>\n",
       "      <td>&lt;b&gt;Rav Adda, son of Rav Yitzḥak, raises an objection&lt;/b&gt; to Rav Adda bar Ahava’s explanation fro...</td>\n",
       "      <td>0</td>\n",
       "      <td>0</td>\n",
       "      <td>0</td>\n",
       "      <td>0</td>\n",
       "      <td>0</td>\n",
       "      <td>0</td>\n",
       "      <td>1</td>\n",
       "      <td>0</td>\n",
       "      <td>0</td>\n",
       "      <td>0</td>\n",
       "    </tr>\n",
       "    <tr>\n",
       "      <th>48</th>\n",
       "      <td>Gittin 37b:5</td>\n",
       "      <td>§ &lt;b&gt;Rav Yehuda says&lt;/b&gt; that &lt;b&gt;Rav Naḥman says: A person is deemed credible to say: I had a &lt;i...</td>\n",
       "      <td>0</td>\n",
       "      <td>1</td>\n",
       "      <td>0</td>\n",
       "      <td>0</td>\n",
       "      <td>0</td>\n",
       "      <td>0</td>\n",
       "      <td>0</td>\n",
       "      <td>0</td>\n",
       "      <td>0</td>\n",
       "      <td>0</td>\n",
       "    </tr>\n",
       "    <tr>\n",
       "      <th>54</th>\n",
       "      <td>Horayot 13a:10</td>\n",
       "      <td>&lt;b&gt;A Torah scholar precedes the king of Israel,&lt;/b&gt; because in the case of &lt;b&gt;a Sage who dies, w...</td>\n",
       "      <td>0</td>\n",
       "      <td>0</td>\n",
       "      <td>0</td>\n",
       "      <td>1</td>\n",
       "      <td>0</td>\n",
       "      <td>0</td>\n",
       "      <td>0</td>\n",
       "      <td>0</td>\n",
       "      <td>0</td>\n",
       "      <td>0</td>\n",
       "    </tr>\n",
       "    <tr>\n",
       "      <th>65</th>\n",
       "      <td>Sotah 41a:16</td>\n",
       "      <td>&lt;b&gt;The synagogue attendant takes a Torah scroll and gives it to the head of the synagogue&lt;/b&gt; th...</td>\n",
       "      <td>0</td>\n",
       "      <td>0</td>\n",
       "      <td>0</td>\n",
       "      <td>1</td>\n",
       "      <td>0</td>\n",
       "      <td>0</td>\n",
       "      <td>0</td>\n",
       "      <td>0</td>\n",
       "      <td>0</td>\n",
       "      <td>0</td>\n",
       "    </tr>\n",
       "    <tr>\n",
       "      <th>69</th>\n",
       "      <td>Rashi on Numbers 15:22:1</td>\n",
       "      <td>וכי תשגו ולא תעשו AND IF YE HAVE ERRED, AND NOT DONE [ALL THESE COMMANDMENTS WHICH THE LORD HATH...</td>\n",
       "      <td>0</td>\n",
       "      <td>0</td>\n",
       "      <td>0</td>\n",
       "      <td>0</td>\n",
       "      <td>0</td>\n",
       "      <td>0</td>\n",
       "      <td>0</td>\n",
       "      <td>0</td>\n",
       "      <td>1</td>\n",
       "      <td>0</td>\n",
       "    </tr>\n",
       "  </tbody>\n",
       "</table>\n",
       "</div>"
      ],
      "text/plain": [
       "                          id  \\\n",
       "21             Menachot 5a:6   \n",
       "48              Gittin 37b:5   \n",
       "54            Horayot 13a:10   \n",
       "65              Sotah 41a:16   \n",
       "69  Rashi on Numbers 15:22:1   \n",
       "\n",
       "                                                                                           comment_text  \\\n",
       "21  <b>Rav Adda, son of Rav Yitzḥak, raises an objection</b> to Rav Adda bar Ahava’s explanation fro...   \n",
       "48  § <b>Rav Yehuda says</b> that <b>Rav Naḥman says: A person is deemed credible to say: I had a <i...   \n",
       "54  <b>A Torah scholar precedes the king of Israel,</b> because in the case of <b>a Sage who dies, w...   \n",
       "65  <b>The synagogue attendant takes a Torah scroll and gives it to the head of the synagogue</b> th...   \n",
       "69  וכי תשגו ולא תעשו AND IF YE HAVE ERRED, AND NOT DONE [ALL THESE COMMANDMENTS WHICH THE LORD HATH...   \n",
       "\n",
       "    prayer  procedures-for-judges-and-conduct-towards-them  learning  kings  \\\n",
       "21       0                                               0         0      0   \n",
       "48       0                                               1         0      0   \n",
       "54       0                                               0         0      1   \n",
       "65       0                                               0         0      1   \n",
       "69       0                                               0         0      0   \n",
       "\n",
       "    hilchot-chol-hamoed  laws-of-judges-and-courts  laws-of-animal-sacrifices  \\\n",
       "21                    0                          0                          1   \n",
       "48                    0                          0                          0   \n",
       "54                    0                          0                          0   \n",
       "65                    0                          0                          0   \n",
       "69                    0                          0                          0   \n",
       "\n",
       "    financial-ramifications-of-marriage  idolatry  \\\n",
       "21                                    0         0   \n",
       "48                                    0         0   \n",
       "54                                    0         0   \n",
       "65                                    0         0   \n",
       "69                                    0         1   \n",
       "\n",
       "    laws-of-transferring-between-domains  \n",
       "21                                     0  \n",
       "48                                     0  \n",
       "54                                     0  \n",
       "65                                     0  \n",
       "69                                     0  "
      ]
     },
     "execution_count": 413,
     "metadata": {},
     "output_type": "execute_result"
    }
   ],
   "source": [
    "data_raw.head()"
   ]
  },
  {
   "cell_type": "code",
   "execution_count": 414,
   "metadata": {},
   "outputs": [
    {
     "name": "stdout",
     "output_type": "stream",
     "text": [
      "['prayer', 'procedures-for-judges-and-conduct-towards-them', 'learning', 'kings', 'hilchot-chol-hamoed', 'laws-of-judges-and-courts', 'laws-of-animal-sacrifices', 'financial-ramifications-of-marriage', 'idolatry', 'laws-of-transferring-between-domains']\n"
     ]
    }
   ],
   "source": [
    "categories = list(data_raw.columns.values)\n",
    "categories = categories[2:]\n",
    "print(categories)"
   ]
  },
  {
   "cell_type": "code",
   "execution_count": 415,
   "metadata": {},
   "outputs": [
    {
     "data": {
      "text/html": [
       "<div>\n",
       "<style scoped>\n",
       "    .dataframe tbody tr th:only-of-type {\n",
       "        vertical-align: middle;\n",
       "    }\n",
       "\n",
       "    .dataframe tbody tr th {\n",
       "        vertical-align: top;\n",
       "    }\n",
       "\n",
       "    .dataframe thead th {\n",
       "        text-align: right;\n",
       "    }\n",
       "</style>\n",
       "<table border=\"1\" class=\"dataframe\">\n",
       "  <thead>\n",
       "    <tr style=\"text-align: right;\">\n",
       "      <th></th>\n",
       "      <th>category</th>\n",
       "      <th>number of passages</th>\n",
       "    </tr>\n",
       "  </thead>\n",
       "  <tbody>\n",
       "    <tr>\n",
       "      <th>0</th>\n",
       "      <td>prayer</td>\n",
       "      <td>4</td>\n",
       "    </tr>\n",
       "    <tr>\n",
       "      <th>1</th>\n",
       "      <td>procedures-for-judges-and-conduct-towards-them</td>\n",
       "      <td>13</td>\n",
       "    </tr>\n",
       "    <tr>\n",
       "      <th>2</th>\n",
       "      <td>learning</td>\n",
       "      <td>2</td>\n",
       "    </tr>\n",
       "    <tr>\n",
       "      <th>3</th>\n",
       "      <td>kings</td>\n",
       "      <td>8</td>\n",
       "    </tr>\n",
       "    <tr>\n",
       "      <th>4</th>\n",
       "      <td>hilchot-chol-hamoed</td>\n",
       "      <td>5</td>\n",
       "    </tr>\n",
       "    <tr>\n",
       "      <th>5</th>\n",
       "      <td>laws-of-judges-and-courts</td>\n",
       "      <td>14</td>\n",
       "    </tr>\n",
       "    <tr>\n",
       "      <th>6</th>\n",
       "      <td>laws-of-animal-sacrifices</td>\n",
       "      <td>7</td>\n",
       "    </tr>\n",
       "    <tr>\n",
       "      <th>7</th>\n",
       "      <td>financial-ramifications-of-marriage</td>\n",
       "      <td>3</td>\n",
       "    </tr>\n",
       "    <tr>\n",
       "      <th>8</th>\n",
       "      <td>idolatry</td>\n",
       "      <td>8</td>\n",
       "    </tr>\n",
       "    <tr>\n",
       "      <th>9</th>\n",
       "      <td>laws-of-transferring-between-domains</td>\n",
       "      <td>7</td>\n",
       "    </tr>\n",
       "  </tbody>\n",
       "</table>\n",
       "</div>"
      ],
      "text/plain": [
       "                                         category  number of passages\n",
       "0                                          prayer                   4\n",
       "1  procedures-for-judges-and-conduct-towards-them                  13\n",
       "2                                        learning                   2\n",
       "3                                           kings                   8\n",
       "4                             hilchot-chol-hamoed                   5\n",
       "5                       laws-of-judges-and-courts                  14\n",
       "6                       laws-of-animal-sacrifices                   7\n",
       "7             financial-ramifications-of-marriage                   3\n",
       "8                                        idolatry                   8\n",
       "9            laws-of-transferring-between-domains                   7"
      ]
     },
     "execution_count": 415,
     "metadata": {},
     "output_type": "execute_result"
    }
   ],
   "source": [
    "\n",
    "# Calculating number of comments in each category\n",
    "\n",
    "counts = []\n",
    "for category in categories:\n",
    "    counts.append((category, data_raw[category].sum()))\n",
    "df_stats = pd.DataFrame(counts, columns=['category', 'number of passages'])\n",
    "df_stats"
   ]
  },
  {
   "cell_type": "code",
   "execution_count": 416,
   "metadata": {},
   "outputs": [
    {
     "data": {
      "image/png": "[encoded data removed]",
      "text/plain": [
       "<Figure size 1080x576 with 1 Axes>"
      ]
     },
     "metadata": {},
     "output_type": "display_data"
    }
   ],
   "source": [
    "# !pip install sns/\n",
    "import seaborn as sns\n",
    "import matplotlib.pyplot as plt\n",
    "\n",
    "sns.set(font_scale = 2)\n",
    "plt.figure(figsize=(15,8))\n",
    "\n",
    "ax= sns.barplot(categories, data_raw.iloc[:,2:].sum().values)\n",
    "\n",
    "plt.title(\"Comments in each category\", fontsize=24)\n",
    "plt.ylabel('Number of comments', fontsize=18)\n",
    "plt.xlabel('Comment Type ', fontsize=18)\n",
    "\n",
    "#adding the text labels\n",
    "rects = ax.patches\n",
    "labels = data_raw.iloc[:,2:].sum().values\n",
    "for rect, label in zip(rects, labels):\n",
    "    height = rect.get_height()\n",
    "    ax.text(rect.get_x() + rect.get_width()/2, height + 0, label, ha='center', va='bottom', fontsize=18)\n",
    "\n",
    "plt.xticks(rotation=90)\n",
    "plt.show()"
   ]
  },
  {
   "cell_type": "code",
   "execution_count": 417,
   "metadata": {},
   "outputs": [
    {
     "ename": "ModuleNotFoundError",
     "evalue": "No module named 'mlcm'",
     "output_type": "error",
     "traceback": [
      "\u001b[0;31m---------------------------------------------------------------------------\u001b[0m",
      "\u001b[0;31mModuleNotFoundError\u001b[0m                       Traceback (most recent call last)",
      "\u001b[0;32m<ipython-input-417-697b08253686>\u001b[0m in \u001b[0;36m<module>\u001b[0;34m\u001b[0m\n\u001b[1;32m      1\u001b[0m \u001b[0;31m# !pip install mlcm\u001b[0m\u001b[0;34m\u001b[0m\u001b[0;34m\u001b[0m\u001b[0;34m\u001b[0m\u001b[0m\n\u001b[0;32m----> 2\u001b[0;31m \u001b[0;32mimport\u001b[0m \u001b[0mmlcm\u001b[0m\u001b[0;34m\u001b[0m\u001b[0;34m\u001b[0m\u001b[0m\n\u001b[0m",
      "\u001b[0;31mModuleNotFoundError\u001b[0m: No module named 'mlcm'"
     ]
    }
   ],
   "source": [
    "# !pip install mlcm\n",
    "import mlcm\n"
   ]
  },
  {
   "cell_type": "code",
   "execution_count": null,
   "metadata": {},
   "outputs": [],
   "source": [
    "rowSums = data_raw.iloc[:,2:].sum(axis=1)\n",
    "multiLabel_counts = rowSums.value_counts()\n",
    "multiLabel_counts = multiLabel_counts.iloc[1:]\n",
    "\n",
    "sns.set(font_scale = 2)\n",
    "plt.figure(figsize=(15,8))\n",
    "\n",
    "ax = sns.barplot(multiLabel_counts.index, multiLabel_counts.values)\n",
    "\n",
    "plt.title(\"Comments having multiple labels \")\n",
    "plt.ylabel('Number of comments', fontsize=18)\n",
    "plt.xlabel('Number of labels', fontsize=18)\n",
    "\n",
    "#adding the text labels\n",
    "rects = ax.patches\n",
    "labels = multiLabel_counts.values\n",
    "for rect, label in zip(rects, labels):\n",
    "    height = rect.get_height()\n",
    "    ax.text(rect.get_x() + rect.get_width()/2, height + 0, label, ha='center', va='bottom')\n",
    "\n",
    "plt.show()"
   ]
  },
  {
   "cell_type": "code",
   "execution_count": 419,
   "metadata": {},
   "outputs": [
    {
     "data": {
      "text/plain": [
       "(2000, 12)"
      ]
     },
     "execution_count": 419,
     "metadata": {},
     "output_type": "execute_result"
    }
   ],
   "source": [
    "data = data_raw\n",
    "data = data_raw.loc[np.random.choice(data_raw.index, size=2000)]\n",
    "data.shape\n"
   ]
  },
  {
   "cell_type": "code",
   "execution_count": 420,
   "metadata": {},
   "outputs": [],
   "source": [
    "\n",
    "import nltk\n",
    "from nltk.corpus import stopwords\n",
    "from nltk.stem.snowball import SnowballStemmer\n",
    "import re\n",
    "\n",
    "import sys\n",
    "import warnings\n",
    "\n",
    "if not sys.warnoptions:\n",
    "    warnings.simplefilter(\"ignore\")"
   ]
  },
  {
   "cell_type": "code",
   "execution_count": 421,
   "metadata": {},
   "outputs": [],
   "source": [
    "def cleanHtml(sentence):\n",
    "    cleanr = re.compile('<.*?>')\n",
    "    cleantext = re.sub(cleanr, ' ', str(sentence))\n",
    "    return cleantext\n",
    "\n",
    "\n",
    "def cleanPunc(sentence): #function to clean the word of any punctuation or special characters\n",
    "    cleaned = re.sub(r'[?|!|\\'|\"|#]',r'',sentence)\n",
    "    cleaned = re.sub(r'[.|,|)|(|\\|/]',r' ',cleaned)\n",
    "    cleaned = cleaned.strip()\n",
    "    cleaned = cleaned.replace(\"\\n\",\" \")\n",
    "    return cleaned\n",
    "\n",
    "\n",
    "def keepAlpha(sentence):\n",
    "    alpha_sent = \"\"\n",
    "    for word in sentence.split():\n",
    "        alpha_word = re.sub('[^a-z A-Z]+', ' ', word)\n",
    "        alpha_sent += alpha_word\n",
    "        alpha_sent += \" \"\n",
    "    alpha_sent = alpha_sent.strip()\n",
    "    return alpha_sent"
   ]
  },
  {
   "cell_type": "code",
   "execution_count": 422,
   "metadata": {},
   "outputs": [
    {
     "data": {
      "text/html": [
       "<div>\n",
       "<style scoped>\n",
       "    .dataframe tbody tr th:only-of-type {\n",
       "        vertical-align: middle;\n",
       "    }\n",
       "\n",
       "    .dataframe tbody tr th {\n",
       "        vertical-align: top;\n",
       "    }\n",
       "\n",
       "    .dataframe thead th {\n",
       "        text-align: right;\n",
       "    }\n",
       "</style>\n",
       "<table border=\"1\" class=\"dataframe\">\n",
       "  <thead>\n",
       "    <tr style=\"text-align: right;\">\n",
       "      <th></th>\n",
       "      <th>id</th>\n",
       "      <th>comment_text</th>\n",
       "      <th>prayer</th>\n",
       "      <th>procedures-for-judges-and-conduct-towards-them</th>\n",
       "      <th>learning</th>\n",
       "      <th>kings</th>\n",
       "      <th>hilchot-chol-hamoed</th>\n",
       "      <th>laws-of-judges-and-courts</th>\n",
       "      <th>laws-of-animal-sacrifices</th>\n",
       "      <th>financial-ramifications-of-marriage</th>\n",
       "      <th>idolatry</th>\n",
       "      <th>laws-of-transferring-between-domains</th>\n",
       "    </tr>\n",
       "  </thead>\n",
       "  <tbody>\n",
       "    <tr>\n",
       "      <th>546</th>\n",
       "      <td>Ketubot 22a:2</td>\n",
       "      <td>rabbi zeira said  this matter i heard from rabbi abba and if it was not for rabbi abba of akko i...</td>\n",
       "      <td>0</td>\n",
       "      <td>0</td>\n",
       "      <td>0</td>\n",
       "      <td>0</td>\n",
       "      <td>0</td>\n",
       "      <td>1</td>\n",
       "      <td>0</td>\n",
       "      <td>0</td>\n",
       "      <td>0</td>\n",
       "      <td>0</td>\n",
       "    </tr>\n",
       "    <tr>\n",
       "      <th>505</th>\n",
       "      <td>Bava Metzia 30b:1</td>\n",
       "      <td>there shall be no needy among you  deuteronomy   this verse can be understood as a command indic...</td>\n",
       "      <td>0</td>\n",
       "      <td>1</td>\n",
       "      <td>0</td>\n",
       "      <td>0</td>\n",
       "      <td>0</td>\n",
       "      <td>0</td>\n",
       "      <td>0</td>\n",
       "      <td>0</td>\n",
       "      <td>0</td>\n",
       "      <td>0</td>\n",
       "    </tr>\n",
       "    <tr>\n",
       "      <th>882</th>\n",
       "      <td>Sanhedrin 20b:13</td>\n",
       "      <td>the baraita continues  and still i do not know whether building them the chosen house is first o...</td>\n",
       "      <td>0</td>\n",
       "      <td>0</td>\n",
       "      <td>0</td>\n",
       "      <td>1</td>\n",
       "      <td>0</td>\n",
       "      <td>0</td>\n",
       "      <td>0</td>\n",
       "      <td>0</td>\n",
       "      <td>0</td>\n",
       "      <td>0</td>\n",
       "    </tr>\n",
       "    <tr>\n",
       "      <th>790</th>\n",
       "      <td>Rosh Hashanah 21b:12</td>\n",
       "      <td>kohelet sought to find out words of delight  ecclesiastes   which indicates that he sought to fi...</td>\n",
       "      <td>0</td>\n",
       "      <td>0</td>\n",
       "      <td>0</td>\n",
       "      <td>1</td>\n",
       "      <td>0</td>\n",
       "      <td>0</td>\n",
       "      <td>0</td>\n",
       "      <td>0</td>\n",
       "      <td>0</td>\n",
       "      <td>0</td>\n",
       "    </tr>\n",
       "    <tr>\n",
       "      <th>884</th>\n",
       "      <td>Mekhilta d'Rabbi Yishmael 15:2:1</td>\n",
       "      <td>exodus   the l rd is my strength and my song  my strength is torah viz psalms   the l rd will gi...</td>\n",
       "      <td>0</td>\n",
       "      <td>0</td>\n",
       "      <td>0</td>\n",
       "      <td>1</td>\n",
       "      <td>0</td>\n",
       "      <td>0</td>\n",
       "      <td>0</td>\n",
       "      <td>0</td>\n",
       "      <td>0</td>\n",
       "      <td>0</td>\n",
       "    </tr>\n",
       "  </tbody>\n",
       "</table>\n",
       "</div>"
      ],
      "text/plain": [
       "                                   id  \\\n",
       "546                     Ketubot 22a:2   \n",
       "505                 Bava Metzia 30b:1   \n",
       "882                  Sanhedrin 20b:13   \n",
       "790              Rosh Hashanah 21b:12   \n",
       "884  Mekhilta d'Rabbi Yishmael 15:2:1   \n",
       "\n",
       "                                                                                            comment_text  \\\n",
       "546  rabbi zeira said  this matter i heard from rabbi abba and if it was not for rabbi abba of akko i...   \n",
       "505  there shall be no needy among you  deuteronomy   this verse can be understood as a command indic...   \n",
       "882  the baraita continues  and still i do not know whether building them the chosen house is first o...   \n",
       "790  kohelet sought to find out words of delight  ecclesiastes   which indicates that he sought to fi...   \n",
       "884  exodus   the l rd is my strength and my song  my strength is torah viz psalms   the l rd will gi...   \n",
       "\n",
       "     prayer  procedures-for-judges-and-conduct-towards-them  learning  kings  \\\n",
       "546       0                                               0         0      0   \n",
       "505       0                                               1         0      0   \n",
       "882       0                                               0         0      1   \n",
       "790       0                                               0         0      1   \n",
       "884       0                                               0         0      1   \n",
       "\n",
       "     hilchot-chol-hamoed  laws-of-judges-and-courts  \\\n",
       "546                    0                          1   \n",
       "505                    0                          0   \n",
       "882                    0                          0   \n",
       "790                    0                          0   \n",
       "884                    0                          0   \n",
       "\n",
       "     laws-of-animal-sacrifices  financial-ramifications-of-marriage  idolatry  \\\n",
       "546                          0                                    0         0   \n",
       "505                          0                                    0         0   \n",
       "882                          0                                    0         0   \n",
       "790                          0                                    0         0   \n",
       "884                          0                                    0         0   \n",
       "\n",
       "     laws-of-transferring-between-domains  \n",
       "546                                     0  \n",
       "505                                     0  \n",
       "882                                     0  \n",
       "790                                     0  \n",
       "884                                     0  "
      ]
     },
     "execution_count": 422,
     "metadata": {},
     "output_type": "execute_result"
    }
   ],
   "source": [
    "\n",
    "data['comment_text'] = data['comment_text'].str.lower()\n",
    "data['comment_text'] = data['comment_text'].apply(cleanHtml)\n",
    "data['comment_text'] = data['comment_text'].apply(cleanPunc)\n",
    "data['comment_text'] = data['comment_text'].apply(keepAlpha)\n",
    "data.head()"
   ]
  },
  {
   "cell_type": "code",
   "execution_count": 423,
   "metadata": {},
   "outputs": [
    {
     "name": "stderr",
     "output_type": "stream",
     "text": [
      "[nltk_data] Downloading package stopwords to /root/nltk_data...\n",
      "[nltk_data]   Package stopwords is already up-to-date!\n"
     ]
    },
    {
     "data": {
      "text/plain": [
       "True"
      ]
     },
     "execution_count": 423,
     "metadata": {},
     "output_type": "execute_result"
    }
   ],
   "source": [
    "import nltk\n",
    "nltk.download('stopwords')"
   ]
  },
  {
   "cell_type": "code",
   "execution_count": 424,
   "metadata": {},
   "outputs": [
    {
     "data": {
      "text/html": [
       "<div>\n",
       "<style scoped>\n",
       "    .dataframe tbody tr th:only-of-type {\n",
       "        vertical-align: middle;\n",
       "    }\n",
       "\n",
       "    .dataframe tbody tr th {\n",
       "        vertical-align: top;\n",
       "    }\n",
       "\n",
       "    .dataframe thead th {\n",
       "        text-align: right;\n",
       "    }\n",
       "</style>\n",
       "<table border=\"1\" class=\"dataframe\">\n",
       "  <thead>\n",
       "    <tr style=\"text-align: right;\">\n",
       "      <th></th>\n",
       "      <th>id</th>\n",
       "      <th>comment_text</th>\n",
       "      <th>prayer</th>\n",
       "      <th>procedures-for-judges-and-conduct-towards-them</th>\n",
       "      <th>learning</th>\n",
       "      <th>kings</th>\n",
       "      <th>hilchot-chol-hamoed</th>\n",
       "      <th>laws-of-judges-and-courts</th>\n",
       "      <th>laws-of-animal-sacrifices</th>\n",
       "      <th>financial-ramifications-of-marriage</th>\n",
       "      <th>idolatry</th>\n",
       "      <th>laws-of-transferring-between-domains</th>\n",
       "    </tr>\n",
       "  </thead>\n",
       "  <tbody>\n",
       "    <tr>\n",
       "      <th>546</th>\n",
       "      <td>Ketubot 22a:2</td>\n",
       "      <td>rabbi zeira said  this matter i heard from rabbi abba and if it was not for rabbi abba of akko i...</td>\n",
       "      <td>0</td>\n",
       "      <td>0</td>\n",
       "      <td>0</td>\n",
       "      <td>0</td>\n",
       "      <td>0</td>\n",
       "      <td>1</td>\n",
       "      <td>0</td>\n",
       "      <td>0</td>\n",
       "      <td>0</td>\n",
       "      <td>0</td>\n",
       "    </tr>\n",
       "    <tr>\n",
       "      <th>505</th>\n",
       "      <td>Bava Metzia 30b:1</td>\n",
       "      <td>there shall be no needy among you  deuteronomy   this verse can be understood as a command indic...</td>\n",
       "      <td>0</td>\n",
       "      <td>1</td>\n",
       "      <td>0</td>\n",
       "      <td>0</td>\n",
       "      <td>0</td>\n",
       "      <td>0</td>\n",
       "      <td>0</td>\n",
       "      <td>0</td>\n",
       "      <td>0</td>\n",
       "      <td>0</td>\n",
       "    </tr>\n",
       "    <tr>\n",
       "      <th>882</th>\n",
       "      <td>Sanhedrin 20b:13</td>\n",
       "      <td>the baraita continues  and still i do not know whether building them the chosen house is first o...</td>\n",
       "      <td>0</td>\n",
       "      <td>0</td>\n",
       "      <td>0</td>\n",
       "      <td>1</td>\n",
       "      <td>0</td>\n",
       "      <td>0</td>\n",
       "      <td>0</td>\n",
       "      <td>0</td>\n",
       "      <td>0</td>\n",
       "      <td>0</td>\n",
       "    </tr>\n",
       "    <tr>\n",
       "      <th>790</th>\n",
       "      <td>Rosh Hashanah 21b:12</td>\n",
       "      <td>kohelet sought to find out words of delight  ecclesiastes   which indicates that he sought to fi...</td>\n",
       "      <td>0</td>\n",
       "      <td>0</td>\n",
       "      <td>0</td>\n",
       "      <td>1</td>\n",
       "      <td>0</td>\n",
       "      <td>0</td>\n",
       "      <td>0</td>\n",
       "      <td>0</td>\n",
       "      <td>0</td>\n",
       "      <td>0</td>\n",
       "    </tr>\n",
       "    <tr>\n",
       "      <th>884</th>\n",
       "      <td>Mekhilta d'Rabbi Yishmael 15:2:1</td>\n",
       "      <td>exodus   the l rd is my strength and my song  my strength is torah viz psalms   the l rd will gi...</td>\n",
       "      <td>0</td>\n",
       "      <td>0</td>\n",
       "      <td>0</td>\n",
       "      <td>1</td>\n",
       "      <td>0</td>\n",
       "      <td>0</td>\n",
       "      <td>0</td>\n",
       "      <td>0</td>\n",
       "      <td>0</td>\n",
       "      <td>0</td>\n",
       "    </tr>\n",
       "  </tbody>\n",
       "</table>\n",
       "</div>"
      ],
      "text/plain": [
       "                                   id  \\\n",
       "546                     Ketubot 22a:2   \n",
       "505                 Bava Metzia 30b:1   \n",
       "882                  Sanhedrin 20b:13   \n",
       "790              Rosh Hashanah 21b:12   \n",
       "884  Mekhilta d'Rabbi Yishmael 15:2:1   \n",
       "\n",
       "                                                                                            comment_text  \\\n",
       "546  rabbi zeira said  this matter i heard from rabbi abba and if it was not for rabbi abba of akko i...   \n",
       "505  there shall be no needy among you  deuteronomy   this verse can be understood as a command indic...   \n",
       "882  the baraita continues  and still i do not know whether building them the chosen house is first o...   \n",
       "790  kohelet sought to find out words of delight  ecclesiastes   which indicates that he sought to fi...   \n",
       "884  exodus   the l rd is my strength and my song  my strength is torah viz psalms   the l rd will gi...   \n",
       "\n",
       "     prayer  procedures-for-judges-and-conduct-towards-them  learning  kings  \\\n",
       "546       0                                               0         0      0   \n",
       "505       0                                               1         0      0   \n",
       "882       0                                               0         0      1   \n",
       "790       0                                               0         0      1   \n",
       "884       0                                               0         0      1   \n",
       "\n",
       "     hilchot-chol-hamoed  laws-of-judges-and-courts  \\\n",
       "546                    0                          1   \n",
       "505                    0                          0   \n",
       "882                    0                          0   \n",
       "790                    0                          0   \n",
       "884                    0                          0   \n",
       "\n",
       "     laws-of-animal-sacrifices  financial-ramifications-of-marriage  idolatry  \\\n",
       "546                          0                                    0         0   \n",
       "505                          0                                    0         0   \n",
       "882                          0                                    0         0   \n",
       "790                          0                                    0         0   \n",
       "884                          0                                    0         0   \n",
       "\n",
       "     laws-of-transferring-between-domains  \n",
       "546                                     0  \n",
       "505                                     0  \n",
       "882                                     0  \n",
       "790                                     0  \n",
       "884                                     0  "
      ]
     },
     "execution_count": 424,
     "metadata": {},
     "output_type": "execute_result"
    }
   ],
   "source": [
    "stop_words = set(stopwords.words('english'))\n",
    "stop_words.update(['zero','one','two','three','four','five','six','seven','eight','nine','ten','may','also','across','among','beside','however','yet','within'])\n",
    "re_stop_words = re.compile(r\"\\b(\" + \"|\".join(stop_words) + \")\\\\W\", re.I)\n",
    "def removeStopWords(sentence):\n",
    "    global re_stop_words\n",
    "    return re_stop_words.sub(\" \", sentence)\n",
    "\n",
    "if should_remove_stopwords:\n",
    "    data['comment_text'] = data['comment_text'].apply(removeStopWords)\n",
    "data.head()"
   ]
  },
  {
   "cell_type": "code",
   "execution_count": 425,
   "metadata": {},
   "outputs": [
    {
     "data": {
      "text/html": [
       "<div>\n",
       "<style scoped>\n",
       "    .dataframe tbody tr th:only-of-type {\n",
       "        vertical-align: middle;\n",
       "    }\n",
       "\n",
       "    .dataframe tbody tr th {\n",
       "        vertical-align: top;\n",
       "    }\n",
       "\n",
       "    .dataframe thead th {\n",
       "        text-align: right;\n",
       "    }\n",
       "</style>\n",
       "<table border=\"1\" class=\"dataframe\">\n",
       "  <thead>\n",
       "    <tr style=\"text-align: right;\">\n",
       "      <th></th>\n",
       "      <th>id</th>\n",
       "      <th>comment_text</th>\n",
       "      <th>prayer</th>\n",
       "      <th>procedures-for-judges-and-conduct-towards-them</th>\n",
       "      <th>learning</th>\n",
       "      <th>kings</th>\n",
       "      <th>hilchot-chol-hamoed</th>\n",
       "      <th>laws-of-judges-and-courts</th>\n",
       "      <th>laws-of-animal-sacrifices</th>\n",
       "      <th>financial-ramifications-of-marriage</th>\n",
       "      <th>idolatry</th>\n",
       "      <th>laws-of-transferring-between-domains</th>\n",
       "    </tr>\n",
       "  </thead>\n",
       "  <tbody>\n",
       "    <tr>\n",
       "      <th>546</th>\n",
       "      <td>Ketubot 22a:2</td>\n",
       "      <td>rabbi zeira said  this matter i heard from rabbi abba and if it was not for rabbi abba of akko i...</td>\n",
       "      <td>0</td>\n",
       "      <td>0</td>\n",
       "      <td>0</td>\n",
       "      <td>0</td>\n",
       "      <td>0</td>\n",
       "      <td>1</td>\n",
       "      <td>0</td>\n",
       "      <td>0</td>\n",
       "      <td>0</td>\n",
       "      <td>0</td>\n",
       "    </tr>\n",
       "    <tr>\n",
       "      <th>505</th>\n",
       "      <td>Bava Metzia 30b:1</td>\n",
       "      <td>there shall be no needy among you  deuteronomy   this verse can be understood as a command indic...</td>\n",
       "      <td>0</td>\n",
       "      <td>1</td>\n",
       "      <td>0</td>\n",
       "      <td>0</td>\n",
       "      <td>0</td>\n",
       "      <td>0</td>\n",
       "      <td>0</td>\n",
       "      <td>0</td>\n",
       "      <td>0</td>\n",
       "      <td>0</td>\n",
       "    </tr>\n",
       "    <tr>\n",
       "      <th>882</th>\n",
       "      <td>Sanhedrin 20b:13</td>\n",
       "      <td>the baraita continues  and still i do not know whether building them the chosen house is first o...</td>\n",
       "      <td>0</td>\n",
       "      <td>0</td>\n",
       "      <td>0</td>\n",
       "      <td>1</td>\n",
       "      <td>0</td>\n",
       "      <td>0</td>\n",
       "      <td>0</td>\n",
       "      <td>0</td>\n",
       "      <td>0</td>\n",
       "      <td>0</td>\n",
       "    </tr>\n",
       "    <tr>\n",
       "      <th>790</th>\n",
       "      <td>Rosh Hashanah 21b:12</td>\n",
       "      <td>kohelet sought to find out words of delight  ecclesiastes   which indicates that he sought to fi...</td>\n",
       "      <td>0</td>\n",
       "      <td>0</td>\n",
       "      <td>0</td>\n",
       "      <td>1</td>\n",
       "      <td>0</td>\n",
       "      <td>0</td>\n",
       "      <td>0</td>\n",
       "      <td>0</td>\n",
       "      <td>0</td>\n",
       "      <td>0</td>\n",
       "    </tr>\n",
       "    <tr>\n",
       "      <th>884</th>\n",
       "      <td>Mekhilta d'Rabbi Yishmael 15:2:1</td>\n",
       "      <td>exodus   the l rd is my strength and my song  my strength is torah viz psalms   the l rd will gi...</td>\n",
       "      <td>0</td>\n",
       "      <td>0</td>\n",
       "      <td>0</td>\n",
       "      <td>1</td>\n",
       "      <td>0</td>\n",
       "      <td>0</td>\n",
       "      <td>0</td>\n",
       "      <td>0</td>\n",
       "      <td>0</td>\n",
       "      <td>0</td>\n",
       "    </tr>\n",
       "  </tbody>\n",
       "</table>\n",
       "</div>"
      ],
      "text/plain": [
       "                                   id  \\\n",
       "546                     Ketubot 22a:2   \n",
       "505                 Bava Metzia 30b:1   \n",
       "882                  Sanhedrin 20b:13   \n",
       "790              Rosh Hashanah 21b:12   \n",
       "884  Mekhilta d'Rabbi Yishmael 15:2:1   \n",
       "\n",
       "                                                                                            comment_text  \\\n",
       "546  rabbi zeira said  this matter i heard from rabbi abba and if it was not for rabbi abba of akko i...   \n",
       "505  there shall be no needy among you  deuteronomy   this verse can be understood as a command indic...   \n",
       "882  the baraita continues  and still i do not know whether building them the chosen house is first o...   \n",
       "790  kohelet sought to find out words of delight  ecclesiastes   which indicates that he sought to fi...   \n",
       "884  exodus   the l rd is my strength and my song  my strength is torah viz psalms   the l rd will gi...   \n",
       "\n",
       "     prayer  procedures-for-judges-and-conduct-towards-them  learning  kings  \\\n",
       "546       0                                               0         0      0   \n",
       "505       0                                               1         0      0   \n",
       "882       0                                               0         0      1   \n",
       "790       0                                               0         0      1   \n",
       "884       0                                               0         0      1   \n",
       "\n",
       "     hilchot-chol-hamoed  laws-of-judges-and-courts  \\\n",
       "546                    0                          1   \n",
       "505                    0                          0   \n",
       "882                    0                          0   \n",
       "790                    0                          0   \n",
       "884                    0                          0   \n",
       "\n",
       "     laws-of-animal-sacrifices  financial-ramifications-of-marriage  idolatry  \\\n",
       "546                          0                                    0         0   \n",
       "505                          0                                    0         0   \n",
       "882                          0                                    0         0   \n",
       "790                          0                                    0         0   \n",
       "884                          0                                    0         0   \n",
       "\n",
       "     laws-of-transferring-between-domains  \n",
       "546                                     0  \n",
       "505                                     0  \n",
       "882                                     0  \n",
       "790                                     0  \n",
       "884                                     0  "
      ]
     },
     "execution_count": 425,
     "metadata": {},
     "output_type": "execute_result"
    }
   ],
   "source": [
    "stemmer = SnowballStemmer(\"english\")\n",
    "def stemming(sentence):\n",
    "    stemSentence = \"\"\n",
    "    for word in sentence.split():\n",
    "        stem = stemmer.stem(word)\n",
    "        stemSentence += stem\n",
    "        stemSentence += \" \"\n",
    "    stemSentence = stemSentence.strip()\n",
    "    return stemSentence\n",
    "\n",
    "if should_stem:\n",
    "    data['comment_text'] = data['comment_text'].apply(stemming)\n",
    "data.head()"
   ]
  },
  {
   "cell_type": "code",
   "execution_count": 426,
   "metadata": {},
   "outputs": [
    {
     "name": "stdout",
     "output_type": "stream",
     "text": [
      "(1400, 12)\n",
      "(600, 12)\n"
     ]
    }
   ],
   "source": [
    "from sklearn.model_selection import train_test_split\n",
    "\n",
    "train, test = train_test_split(data, random_state=42, test_size=0.30, \n",
    "#                                shuffle=True\n",
    "                              )\n",
    "\n",
    "print(train.shape)\n",
    "print(test.shape)"
   ]
  },
  {
   "cell_type": "code",
   "execution_count": 427,
   "metadata": {},
   "outputs": [],
   "source": [
    "\n",
    "train_text = train['comment_text']\n",
    "test_text = test['comment_text']"
   ]
  },
  {
   "cell_type": "code",
   "execution_count": 428,
   "metadata": {},
   "outputs": [
    {
     "data": {
      "text/plain": [
       "91     the verse states   and the king of egypt spoke to the hebrew midwives of whom the name of the on...\n",
       "985    the graven images of their gods shall ye burn with fire  thou shalt not covet the silver or the ...\n",
       "599    rav a a son of rav ika said to him  say that you heard that rabbi eliezer ben ya akov said that ...\n",
       "167    and this commandment is practiced at the time of the  temple  by the males of the priesthood and...\n",
       "523    the gemara relates  a certain magus said to ameimar  from your midpoint and up is in the domain ...\n",
       "Name: comment_text, dtype: object"
      ]
     },
     "execution_count": 428,
     "metadata": {},
     "output_type": "execute_result"
    }
   ],
   "source": [
    "# print(type(test_text))\n",
    "test_text.head()"
   ]
  },
  {
   "cell_type": "code",
   "execution_count": 429,
   "metadata": {},
   "outputs": [
    {
     "data": {
      "text/plain": [
       "TfidfVectorizer(ngram_range=(1, 3), strip_accents='unicode')"
      ]
     },
     "execution_count": 429,
     "metadata": {},
     "output_type": "execute_result"
    }
   ],
   "source": [
    "\n",
    "from sklearn.feature_extraction.text import TfidfVectorizer\n",
    "vectorizer = TfidfVectorizer(strip_accents='unicode', analyzer='word', ngram_range=(1,3), norm='l2')\n",
    "vectorizer.fit(train_text)\n",
    "# vectorizer.fit(test_text)"
   ]
  },
  {
   "cell_type": "code",
   "execution_count": 430,
   "metadata": {},
   "outputs": [],
   "source": [
    "x_train = vectorizer.transform(train_text)\n",
    "y_train = train.drop(labels = ['id','comment_text'], axis=1)\n",
    "\n",
    "x_test = vectorizer.transform(test_text)\n",
    "y_test = test.drop(labels = ['id','comment_text'], axis=1)"
   ]
  },
  {
   "cell_type": "code",
   "execution_count": 431,
   "metadata": {},
   "outputs": [
    {
     "name": "stdout",
     "output_type": "stream",
     "text": [
      "<class 'scipy.sparse.csr.csr_matrix'>\n"
     ]
    },
    {
     "data": {
      "text/plain": [
       "<600x17194 sparse matrix of type '<class 'numpy.float64'>'\n",
       "\twith 167599 stored elements in Compressed Sparse Row format>"
      ]
     },
     "execution_count": 431,
     "metadata": {},
     "output_type": "execute_result"
    }
   ],
   "source": [
    "print(type(x_test))\n",
    "x_test"
   ]
  },
  {
   "cell_type": "code",
   "execution_count": 432,
   "metadata": {},
   "outputs": [],
   "source": [
    "from sklearn.linear_model import LogisticRegression\n",
    "from sklearn.pipeline import Pipeline\n",
    "from sklearn.metrics import accuracy_score\n",
    "from sklearn.multiclass import OneVsRestClassifier"
   ]
  },
  {
   "cell_type": "code",
   "execution_count": 433,
   "metadata": {},
   "outputs": [
    {
     "data": {
      "text/markdown": [
       "**bold**"
      ],
      "text/plain": [
       "<IPython.core.display.Markdown object>"
      ]
     },
     "metadata": {},
     "output_type": "display_data"
    }
   ],
   "source": [
    "from IPython.display import Markdown, display\n",
    "def printmd(string):\n",
    "    display(Markdown(string))\n",
    "printmd('**bold**')"
   ]
  },
  {
   "cell_type": "code",
   "execution_count": 435,
   "metadata": {},
   "outputs": [
    {
     "data": {
      "text/markdown": [
       "**Processing prayer comments...**"
      ],
      "text/plain": [
       "<IPython.core.display.Markdown object>"
      ]
     },
     "metadata": {},
     "output_type": "display_data"
    },
    {
     "name": "stdout",
     "output_type": "stream",
     "text": [
      "Test accuracy is 1.0\n",
      "\n",
      "12\n",
      "i am the lord your god who brought you out of the land of egypt to be your god  i am the lord your god\n",
      "\n",
      "21\n",
      "rava said  if the one in need of mercy is a torah scholar it is insufficient to merely pray on his behalf rather one must make himself ill worrying about him\n",
      "\n",
      "49\n",
      "and my servant caleb etc why did the torah not mention joshua also at this juncture the word   requires analysis as do the words     as well as the letter   in\n",
      "\n",
      "\n"
     ]
    },
    {
     "data": {
      "text/markdown": [
       "**Processing procedures-for-judges-and-conduct-towards-them comments...**"
      ],
      "text/plain": [
       "<IPython.core.display.Markdown object>"
      ]
     },
     "metadata": {},
     "output_type": "display_data"
    },
    {
     "name": "stdout",
     "output_type": "stream",
     "text": [
      "Test accuracy is 1.0\n",
      "\n",
      "5\n",
      "the gemara explains the challenge posed by the mishna  and if it is so that payment for damage caused by an innocuous ox is considered a fine let the mishna also teach this additional distinction  the owner of an innocuous ox does not pay based on his own admission in accordance with the halakha that one does not pay a fine based on one s own admission whereas the owner of a forewarned ox pays based on his own admission\n",
      "\n",
      "6\n",
      "the gemara answers  rabbi yo anan found another unattributed mishna which indicates a different conclusion as we learned in the mishna in tractate sanhedrin  a   in cases of monetary law the court judges during the daytime and concludes the deliberations and issues their ruling even at night this is not the halakha with regard to leprous marks which may not be viewed at night at all accordingly one does not compare judging cases of monetary law to viewing leprous marks since this comparison was the source for disqualifying a blind judge one cannot derive from it that a blind judge is disqualified\n",
      "\n",
      "8\n",
      "the gemara relates  there was a certain student about whom a rumor emerged that he revealed a statement that was stated in the study hall and should have been kept secret and the rumor emerged twenty two years after the time the statement was revealed rav ami removed him from the study hall as a punishment rav ami said  this is a revealer of secrets and he cannot be trusted\n",
      "\n",
      "\n"
     ]
    },
    {
     "data": {
      "text/markdown": [
       "**Processing learning comments...**"
      ],
      "text/plain": [
       "<IPython.core.display.Markdown object>"
      ]
     },
     "metadata": {},
     "output_type": "display_data"
    },
    {
     "name": "stdout",
     "output_type": "stream",
     "text": [
      "Test accuracy is 1.0\n",
      "\n",
      "60\n",
      "the gemara answers  there in the baraita the reference is to a gentile who engages in the study of their seven mitzvot it is a mitzva for a gentile to study the halakhot that pertain to the seven noahide mitzvot and when he does so he is highly regarded\n",
      "\n",
      "65\n",
      "the gemara answers  there in the baraita the reference is to a gentile who engages in the study of their seven mitzvot it is a mitzva for a gentile to study the halakhot that pertain to the seven noahide mitzvot and when he does so he is highly regarded\n",
      "\n",
      "66\n",
      "what is his remedy he must increase the time he sits and studies as it is stated   then must he increase his strength  ecclesiastes   the last part of the verse   but wisdom is profitable to direct   means that all the more so if his study of the mishna is organized for him from the beginning he will avoid this trouble\n",
      "\n",
      "\n"
     ]
    },
    {
     "data": {
      "text/markdown": [
       "**Processing kings comments...**"
      ],
      "text/plain": [
       "<IPython.core.display.Markdown object>"
      ]
     },
     "metadata": {},
     "output_type": "display_data"
    },
    {
     "name": "stdout",
     "output_type": "stream",
     "text": [
      "Test accuracy is 1.0\n",
      "\n",
      "0\n",
      "the verse states   and the king of egypt spoke to the hebrew midwives of whom the name of the one was shiphrah and the name of the other puah  exodus   rav and shmuel disagree as to the proper interpretation of this verse one says that these midwives were a woman and her daughter and one says that they were a daughter in law and her mother in law according to the one who says that they were a woman and her daughter the women were jochebed the mother of moses and aaron and her daughter miriam and according to the one who says that they were a daughter in law and her mother in law the verse is referring to jochebed and her daughter in law elisheba the wife of aaron\n",
      "\n",
      "7\n",
      "kohelet sought to find out words of delight  ecclesiastes   which indicates that he sought to find the fiftieth gate but failed to do so kohelet king solomon sought to be like moses but a divine voice issued forth and said to him   and that which was written uprightly even words of truth  ecclesiastes   this is referring to the words of the torah  and what is written there  and there has not arisen a prophet since in israel like moses whom the lord knew face to face  deuteronomy\n",
      "\n",
      "10\n",
      "the verse states   and the king of egypt spoke to the hebrew midwives of whom the name of the one was shiphrah and the name of the other puah  exodus   rav and shmuel disagree as to the proper interpretation of this verse one says that these midwives were a woman and her daughter and one says that they were a daughter in law and her mother in law according to the one who says that they were a woman and her daughter the women were jochebed the mother of moses and aaron and her daughter miriam and according to the one who says that they were a daughter in law and her mother in law the verse is referring to jochebed and her daughter in law elisheba the wife of aaron\n",
      "\n",
      "\n"
     ]
    },
    {
     "data": {
      "text/markdown": [
       "**Processing hilchot-chol-hamoed comments...**"
      ],
      "text/plain": [
       "<IPython.core.display.Markdown object>"
      ]
     },
     "metadata": {},
     "output_type": "display_data"
    },
    {
     "name": "stdout",
     "output_type": "stream",
     "text": [
      "Test accuracy is 1.0\n",
      "\n",
      "13\n",
      "we may make an oven or a stove that it is possible will dry so that one can bake with it on the festival  but if not we may not make them and in either case we may build the extra plaster on top of the earthenware oven and on the stove and we may make a bed frame and we may cut grooves into millstones open an eyehole in a mill and stand the mill up and build a channel of water for it\n",
      "\n",
      "22\n",
      "we do not write a loan contract on the festival if either the lender does not trust the borrower and the borrower needs the money or the scribe does not have what to eat there it can be written note rema   it is permitted to write a sales receipt on the festival tosafos but there is not to write a tenant or contractor contract that was accepted before the festival rabbeinu yeruchom\n",
      "\n",
      "42\n",
      "come and hear the resolution to the dilemma from another source from another source rabbi meir says  with regard to any labor that is for the purpose of the festival\n",
      "\n",
      "\n"
     ]
    },
    {
     "data": {
      "text/markdown": [
       "**Processing laws-of-judges-and-courts comments...**"
      ],
      "text/plain": [
       "<IPython.core.display.Markdown object>"
      ]
     },
     "metadata": {},
     "output_type": "display_data"
    },
    {
     "name": "stdout",
     "output_type": "stream",
     "text": [
      "Test accuracy is 1.0\n",
      "\n",
      "6\n",
      "the gemara answers  rabbi yo anan found another unattributed mishna which indicates a different conclusion as we learned in the mishna in tractate sanhedrin  a   in cases of monetary law the court judges during the daytime and concludes the deliberations and issues their ruling even at night this is not the halakha with regard to leprous marks which may not be viewed at night at all accordingly one does not compare judging cases of monetary law to viewing leprous marks since this comparison was the source for disqualifying a blind judge one cannot derive from it that a blind judge is disqualified\n",
      "\n",
      "11\n",
      "mishna  any time one of the litigants brings additional proof he can overturn the verdict that was decided according to previous proofs if one litigant said to the other  bring all the proofs that you have from now until thirty days from now if he found additional proof within thirty days he can overturn the verdict if he found it after thirty days he cannot overturn the verdict anymore\n",
      "\n",
      "15\n",
      "rava said to him  but the dispute between beit shammai and beit hillel is considered like a case of two courts in one city as these two schools of thought were found everywhere not in any specific place rather rava said  when we say that the prohibition   you shall not cut yourselves  applies we are referring to a case where there is a court in one city a section of which rules in accordance with the statement of beit shammai and another section rules in accordance with the statement of beit hillel however with regard to two courts located in one city we have no problem with it\n",
      "\n",
      "\n"
     ]
    },
    {
     "data": {
      "text/markdown": [
       "**Processing laws-of-animal-sacrifices comments...**"
      ],
      "text/plain": [
       "<IPython.core.display.Markdown object>"
      ]
     },
     "metadata": {},
     "output_type": "display_data"
    },
    {
     "name": "stdout",
     "output_type": "stream",
     "text": [
      "Test accuracy is 1.0\n",
      "\n",
      "3\n",
      "and this commandment is practiced at the time of the  temple  by the males of the priesthood and one who transgresses it and does not eat his portion that is coming to him from them in the limited time for it has violated a positive commandment and he is also punished from the side of the atonement of the owners that is dependent upon it as we have said and ramban on sefer hamitzvot larambam shoresh   may his memory be blessed does not count this commandment  separately  as he said that who eats them and for whom they should be is a part of the  various  parts of the commandment of sacrifices that god may he be blessed commanded about them  and the truth is that atonement is dependent upon this\n",
      "\n",
      "18\n",
      "and this commandment is practiced at the time of the  temple  by the males of the priesthood and one who transgresses it and does not eat his portion that is coming to him from them in the limited time for it has violated a positive commandment and he is also punished from the side of the atonement of the owners that is dependent upon it as we have said and ramban on sefer hamitzvot larambam shoresh   may his memory be blessed does not count this commandment  separately  as he said that who eats them and for whom they should be is a part of the  various  parts of the commandment of sacrifices that god may he be blessed commanded about them  and the truth is that atonement is dependent upon this\n",
      "\n",
      "28\n",
      "and this commandment is practiced at the time of the  temple  by the males of the priesthood and one who transgresses it and does not eat his portion that is coming to him from them in the limited time for it has violated a positive commandment and he is also punished from the side of the atonement of the owners that is dependent upon it as we have said and ramban on sefer hamitzvot larambam shoresh   may his memory be blessed does not count this commandment  separately  as he said that who eats them and for whom they should be is a part of the  various  parts of the commandment of sacrifices that god may he be blessed commanded about them  and the truth is that atonement is dependent upon this\n",
      "\n",
      "\n"
     ]
    },
    {
     "data": {
      "text/markdown": [
       "**Processing financial-ramifications-of-marriage comments...**"
      ],
      "text/plain": [
       "<IPython.core.display.Markdown object>"
      ]
     },
     "metadata": {},
     "output_type": "display_data"
    },
    {
     "name": "stdout",
     "output_type": "stream",
     "text": [
      "Test accuracy is 1.0\n",
      "\n",
      "64\n",
      "the residents of mata me asya say  it is seized from liened property that has been sold their tradition is that the mishna states that the text of the stipulation is  they will take the money set aside for their mother s marriage contract it is as if the husband transferred this property to the sons and as their acquisition precedes those of the other buyers they may seize the sold property from the buyers the gemara concludes that the halakha is that it is not seized from liened property that has been sold as the mishna states  they will inherit\n",
      "\n",
      "133\n",
      "a widow who came to the court to sue for her board payments  they sell  property from the estate  without prior announcement and give her board payments and similarly she may sell by the order of an expert court but also by the order of a  lower court of  three reliable  men  without prior announcement and similarly if she sold it herself for equal value her sale stands  but there are those who disagree with this\n",
      "\n",
      "166\n",
      "the residents of mata me asya say  it is seized from liened property that has been sold their tradition is that the mishna states that the text of the stipulation is  they will take the money set aside for their mother s marriage contract it is as if the husband transferred this property to the sons and as their acquisition precedes those of the other buyers they may seize the sold property from the buyers the gemara concludes that the halakha is that it is not seized from liened property that has been sold as the mishna states  they will inherit\n",
      "\n",
      "\n"
     ]
    },
    {
     "data": {
      "text/markdown": [
       "**Processing idolatry comments...**"
      ],
      "text/plain": [
       "<IPython.core.display.Markdown object>"
      ]
     },
     "metadata": {},
     "output_type": "display_data"
    },
    {
     "name": "stdout",
     "output_type": "stream",
     "text": [
      "Test accuracy is 1.0\n",
      "\n",
      "1\n",
      "the graven images of their gods shall ye burn with fire  thou shalt not covet the silver or the gold that is on them nor take it unto thee lest thou be snared therein  for it is an abomination to the lord thy god\n",
      "\n",
      "4\n",
      "the gemara relates  a certain magus said to ameimar  from your midpoint and up is in the domain of hurmiz the god of good who created the significant and important parts of the body and from your midpoint and down is in the domain of ahurmiz the god of bad ameimar said to him  if so how does ahurmiz allow hurmiz to urinate in his territory a person drinks with his mouth which is in his upper half and urinates from below\n",
      "\n",
      "26\n",
      "and if ye have erred and not done  all these commandments which the lord hath spoken unto moses    idolatry which is the transgression referred to here  cf rashi on next passage is naturally comprehended under the general term  all the commandments  see leviticus   for which the whole community brings a bullock as a sin offering if it infringes one of them but you see scripture here excepts it the sin of idolatry from the general law about them to bring it under the law of a bullock as a burnt offering and a he goat for a sin offering whilst the rule in leviticus   is a bullock for sin offering and no he goat is prescribed sifrei bamidbar\n",
      "\n",
      "\n"
     ]
    },
    {
     "data": {
      "text/markdown": [
       "**Processing laws-of-transferring-between-domains comments...**"
      ],
      "text/plain": [
       "<IPython.core.display.Markdown object>"
      ]
     },
     "metadata": {},
     "output_type": "display_data"
    },
    {
     "name": "stdout",
     "output_type": "stream",
     "text": [
      "Test accuracy is 1.0\n",
      "\n",
      "2\n",
      "rav a a son of rav ika said to him  say that you heard that rabbi eliezer ben ya akov said that the sides of the public domain are considered a public domain in a place where there are no stakes    ipufei   separating the houses and the courtyards from the actual public domain to prevent the public from damaging the walls of the houses however in a place where there are stakes did you hear him say that the legal status of the sides is that of the public domain itself therefore it is similar to that case of the colonnade and consequently it serves as a precedent for liability when carrying through an exempt domain\n",
      "\n",
      "9\n",
      "the gemara asks  after all how much was the length of a wagon it was five cubits how much was the width of a beam it was a cubit and a half how many beams could one place on a wagon one could place three stacks of beams totaling four and a half cubits if so half a cubit of open space remained when the master distributes half a cubit between the stacks of beams it is considered lavud attached as the space between each stack was less than three handbreadths the gemara answers  do you maintain that they would place the beams on their width they would place them on their depth which was one cubit wide and therefore there was a greater distance between the rows\n",
      "\n",
      "14\n",
      "the gemara asks  after all how much was the length of a wagon it was five cubits how much was the width of a beam it was a cubit and a half how many beams could one place on a wagon one could place three stacks of beams totaling four and a half cubits if so half a cubit of open space remained when the master distributes half a cubit between the stacks of beams it is considered lavud attached as the space between each stack was less than three handbreadths the gemara answers  do you maintain that they would place the beams on their width they would place them on their depth which was one cubit wide and therefore there was a greater distance between the rows\n",
      "\n",
      "\n",
      "CPU times: user 160 ms, sys: 86.5 ms, total: 247 ms\n",
      "Wall time: 2.71 s\n"
     ]
    }
   ],
   "source": [
    "\n",
    "%%time\n",
    "\n",
    "# Using pipeline for applying logistic regression and one vs rest classifier\n",
    "LogReg_pipeline = Pipeline([\n",
    "                ('clf', OneVsRestClassifier(LogisticRegression(solver='sag'), n_jobs=-1)),\n",
    "            ])\n",
    "\n",
    "for category in categories:\n",
    "    printmd('**Processing {} comments...**'.format(category))\n",
    "    \n",
    "    # Training logistic regression model on train data\n",
    "    LogReg_pipeline.fit(x_train, train[category])\n",
    "    \n",
    "    # calculating test accuracy\n",
    "    prediction = LogReg_pipeline.predict(x_test)\n",
    "    print('Test accuracy is {}'.format(accuracy_score(test[category], prediction)))\n",
    "    \n",
    "    topic_indices = [i for i, e in enumerate(prediction) if e != 0]\n",
    "\n",
    "    for i in topic_indices[:3]:\n",
    "        print()\n",
    "        print(i)\n",
    "    #     print(data_raw.loc[[i]])\n",
    "        print(test_text.iloc[i])\n",
    "    \n",
    "    print(\"\\n\")"
   ]
  },
  {
   "cell_type": "code",
   "execution_count": 436,
   "metadata": {},
   "outputs": [
    {
     "data": {
      "text/plain": [
       "'laws-of-transferring-between-domains'"
      ]
     },
     "execution_count": 436,
     "metadata": {},
     "output_type": "execute_result"
    }
   ],
   "source": [
    "category"
   ]
  },
  {
   "cell_type": "code",
   "execution_count": 437,
   "metadata": {},
   "outputs": [
    {
     "data": {
      "text/plain": [
       "array([0, 0, 1, 0, 0, 0, 0, 0, 0, 1, 0, 0, 0, 0, 1, 0, 0, 1, 0, 0, 0, 0,\n",
       "       0, 0, 0, 1, 0, 1, 0, 0, 0, 0, 0, 0, 1, 0, 1, 0, 0, 0, 0, 0, 0, 0,\n",
       "       0, 0, 0, 0, 0, 0])"
      ]
     },
     "execution_count": 437,
     "metadata": {},
     "output_type": "execute_result"
    }
   ],
   "source": [
    "prediction = LogReg_pipeline.predict(x_test)\n",
    "# print(type(prediction[:5]))\n",
    "prediction[:50]\n",
    "# prediction"
   ]
  },
  {
   "cell_type": "code",
   "execution_count": 438,
   "metadata": {},
   "outputs": [
    {
     "data": {
      "text/plain": [
       "numpy.ndarray"
      ]
     },
     "execution_count": 438,
     "metadata": {},
     "output_type": "execute_result"
    }
   ],
   "source": [
    "type(prediction)"
   ]
  },
  {
   "cell_type": "code",
   "execution_count": 439,
   "metadata": {},
   "outputs": [],
   "source": [
    "\n",
    "domain_indices = [i for i, e in enumerate(prediction) if e != 0]\n"
   ]
  },
  {
   "cell_type": "code",
   "execution_count": 440,
   "metadata": {},
   "outputs": [
    {
     "data": {
      "text/plain": [
       "list"
      ]
     },
     "execution_count": 440,
     "metadata": {},
     "output_type": "execute_result"
    }
   ],
   "source": [
    "type(domain_indices)"
   ]
  },
  {
   "cell_type": "code",
   "execution_count": 441,
   "metadata": {},
   "outputs": [
    {
     "data": {
      "text/plain": [
       "pandas.core.series.Series"
      ]
     },
     "execution_count": 441,
     "metadata": {},
     "output_type": "execute_result"
    }
   ],
   "source": [
    "type(test_text)"
   ]
  },
  {
   "cell_type": "code",
   "execution_count": 442,
   "metadata": {},
   "outputs": [
    {
     "data": {
      "text/plain": [
       "'and this commandment is practiced at the time of the  temple  by the males of the priesthood and one who transgresses it and does not eat his portion that is coming to him from them in the limited time for it has violated a positive commandment and he is also punished from the side of the atonement of the owners that is dependent upon it as we have said and ramban on sefer hamitzvot larambam shoresh   may his memory be blessed does not count this commandment  separately  as he said that who eats them and for whom they should be is a part of the  various  parts of the commandment of sacrifices that god may he be blessed commanded about them  and the truth is that atonement is dependent upon this'"
      ]
     },
     "execution_count": 442,
     "metadata": {},
     "output_type": "execute_result"
    }
   ],
   "source": [
    "test_text.iloc[3]"
   ]
  },
  {
   "cell_type": "code",
   "execution_count": 443,
   "metadata": {},
   "outputs": [
    {
     "data": {
      "text/html": [
       "<div>\n",
       "<style scoped>\n",
       "    .dataframe tbody tr th:only-of-type {\n",
       "        vertical-align: middle;\n",
       "    }\n",
       "\n",
       "    .dataframe tbody tr th {\n",
       "        vertical-align: top;\n",
       "    }\n",
       "\n",
       "    .dataframe thead th {\n",
       "        text-align: right;\n",
       "    }\n",
       "</style>\n",
       "<table border=\"1\" class=\"dataframe\">\n",
       "  <thead>\n",
       "    <tr style=\"text-align: right;\">\n",
       "      <th></th>\n",
       "      <th>id</th>\n",
       "      <th>comment_text</th>\n",
       "      <th>prayer</th>\n",
       "      <th>procedures-for-judges-and-conduct-towards-them</th>\n",
       "      <th>learning</th>\n",
       "      <th>kings</th>\n",
       "      <th>hilchot-chol-hamoed</th>\n",
       "      <th>laws-of-judges-and-courts</th>\n",
       "      <th>laws-of-animal-sacrifices</th>\n",
       "      <th>financial-ramifications-of-marriage</th>\n",
       "      <th>idolatry</th>\n",
       "      <th>laws-of-transferring-between-domains</th>\n",
       "    </tr>\n",
       "  </thead>\n",
       "  <tbody>\n",
       "    <tr>\n",
       "      <th>21</th>\n",
       "      <td>Menachot 5a:6</td>\n",
       "      <td>&lt;b&gt;Rav Adda, son of Rav Yitzḥak, raises an objection&lt;/b&gt; to Rav Adda bar Ahava’s explanation fro...</td>\n",
       "      <td>0</td>\n",
       "      <td>0</td>\n",
       "      <td>0</td>\n",
       "      <td>0</td>\n",
       "      <td>0</td>\n",
       "      <td>0</td>\n",
       "      <td>1</td>\n",
       "      <td>0</td>\n",
       "      <td>0</td>\n",
       "      <td>0</td>\n",
       "    </tr>\n",
       "    <tr>\n",
       "      <th>48</th>\n",
       "      <td>Gittin 37b:5</td>\n",
       "      <td>§ &lt;b&gt;Rav Yehuda says&lt;/b&gt; that &lt;b&gt;Rav Naḥman says: A person is deemed credible to say: I had a &lt;i...</td>\n",
       "      <td>0</td>\n",
       "      <td>1</td>\n",
       "      <td>0</td>\n",
       "      <td>0</td>\n",
       "      <td>0</td>\n",
       "      <td>0</td>\n",
       "      <td>0</td>\n",
       "      <td>0</td>\n",
       "      <td>0</td>\n",
       "      <td>0</td>\n",
       "    </tr>\n",
       "    <tr>\n",
       "      <th>54</th>\n",
       "      <td>Horayot 13a:10</td>\n",
       "      <td>&lt;b&gt;A Torah scholar precedes the king of Israel,&lt;/b&gt; because in the case of &lt;b&gt;a Sage who dies, w...</td>\n",
       "      <td>0</td>\n",
       "      <td>0</td>\n",
       "      <td>0</td>\n",
       "      <td>1</td>\n",
       "      <td>0</td>\n",
       "      <td>0</td>\n",
       "      <td>0</td>\n",
       "      <td>0</td>\n",
       "      <td>0</td>\n",
       "      <td>0</td>\n",
       "    </tr>\n",
       "    <tr>\n",
       "      <th>65</th>\n",
       "      <td>Sotah 41a:16</td>\n",
       "      <td>&lt;b&gt;The synagogue attendant takes a Torah scroll and gives it to the head of the synagogue&lt;/b&gt; th...</td>\n",
       "      <td>0</td>\n",
       "      <td>0</td>\n",
       "      <td>0</td>\n",
       "      <td>1</td>\n",
       "      <td>0</td>\n",
       "      <td>0</td>\n",
       "      <td>0</td>\n",
       "      <td>0</td>\n",
       "      <td>0</td>\n",
       "      <td>0</td>\n",
       "    </tr>\n",
       "    <tr>\n",
       "      <th>69</th>\n",
       "      <td>Rashi on Numbers 15:22:1</td>\n",
       "      <td>וכי תשגו ולא תעשו AND IF YE HAVE ERRED, AND NOT DONE [ALL THESE COMMANDMENTS WHICH THE LORD HATH...</td>\n",
       "      <td>0</td>\n",
       "      <td>0</td>\n",
       "      <td>0</td>\n",
       "      <td>0</td>\n",
       "      <td>0</td>\n",
       "      <td>0</td>\n",
       "      <td>0</td>\n",
       "      <td>0</td>\n",
       "      <td>1</td>\n",
       "      <td>0</td>\n",
       "    </tr>\n",
       "  </tbody>\n",
       "</table>\n",
       "</div>"
      ],
      "text/plain": [
       "                          id  \\\n",
       "21             Menachot 5a:6   \n",
       "48              Gittin 37b:5   \n",
       "54            Horayot 13a:10   \n",
       "65              Sotah 41a:16   \n",
       "69  Rashi on Numbers 15:22:1   \n",
       "\n",
       "                                                                                           comment_text  \\\n",
       "21  <b>Rav Adda, son of Rav Yitzḥak, raises an objection</b> to Rav Adda bar Ahava’s explanation fro...   \n",
       "48  § <b>Rav Yehuda says</b> that <b>Rav Naḥman says: A person is deemed credible to say: I had a <i...   \n",
       "54  <b>A Torah scholar precedes the king of Israel,</b> because in the case of <b>a Sage who dies, w...   \n",
       "65  <b>The synagogue attendant takes a Torah scroll and gives it to the head of the synagogue</b> th...   \n",
       "69  וכי תשגו ולא תעשו AND IF YE HAVE ERRED, AND NOT DONE [ALL THESE COMMANDMENTS WHICH THE LORD HATH...   \n",
       "\n",
       "    prayer  procedures-for-judges-and-conduct-towards-them  learning  kings  \\\n",
       "21       0                                               0         0      0   \n",
       "48       0                                               1         0      0   \n",
       "54       0                                               0         0      1   \n",
       "65       0                                               0         0      1   \n",
       "69       0                                               0         0      0   \n",
       "\n",
       "    hilchot-chol-hamoed  laws-of-judges-and-courts  laws-of-animal-sacrifices  \\\n",
       "21                    0                          0                          1   \n",
       "48                    0                          0                          0   \n",
       "54                    0                          0                          0   \n",
       "65                    0                          0                          0   \n",
       "69                    0                          0                          0   \n",
       "\n",
       "    financial-ramifications-of-marriage  idolatry  \\\n",
       "21                                    0         0   \n",
       "48                                    0         0   \n",
       "54                                    0         0   \n",
       "65                                    0         0   \n",
       "69                                    0         1   \n",
       "\n",
       "    laws-of-transferring-between-domains  \n",
       "21                                     0  \n",
       "48                                     0  \n",
       "54                                     0  \n",
       "65                                     0  \n",
       "69                                     0  "
      ]
     },
     "execution_count": 443,
     "metadata": {},
     "output_type": "execute_result"
    }
   ],
   "source": [
    "data_raw.head()"
   ]
  },
  {
   "cell_type": "code",
   "execution_count": 444,
   "metadata": {},
   "outputs": [
    {
     "name": "stdout",
     "output_type": "stream",
     "text": [
      "\n",
      "2\n",
      "rav a a son of rav ika said to him  say that you heard that rabbi eliezer ben ya akov said that the sides of the public domain are considered a public domain in a place where there are no stakes    ipufei   separating the houses and the courtyards from the actual public domain to prevent the public from damaging the walls of the houses however in a place where there are stakes did you hear him say that the legal status of the sides is that of the public domain itself therefore it is similar to that case of the colonnade and consequently it serves as a precedent for liability when carrying through an exempt domain\n",
      "\n",
      "9\n",
      "the gemara asks  after all how much was the length of a wagon it was five cubits how much was the width of a beam it was a cubit and a half how many beams could one place on a wagon one could place three stacks of beams totaling four and a half cubits if so half a cubit of open space remained when the master distributes half a cubit between the stacks of beams it is considered lavud attached as the space between each stack was less than three handbreadths the gemara answers  do you maintain that they would place the beams on their width they would place them on their depth which was one cubit wide and therefore there was a greater distance between the rows\n",
      "\n",
      "14\n",
      "the gemara asks  after all how much was the length of a wagon it was five cubits how much was the width of a beam it was a cubit and a half how many beams could one place on a wagon one could place three stacks of beams totaling four and a half cubits if so half a cubit of open space remained when the master distributes half a cubit between the stacks of beams it is considered lavud attached as the space between each stack was less than three handbreadths the gemara answers  do you maintain that they would place the beams on their width they would place them on their depth which was one cubit wide and therefore there was a greater distance between the rows\n",
      "\n",
      "17\n",
      "the sages taught with regard to the construction of the tabernacle  the bottoms of the beams were grooved and the sockets were hollow and the grooves were inserted into the sockets to support the beams\n",
      "\n",
      "25\n",
      "the gemara rejects the previous explanation rather the measure of three or four handbreadths is referring not to the channel itself but to the banks of the channel and it is stated with regard to an act of exchange the dispute here does not concern the measure of a karmelit but the measure of an exempt domain it is permitted to transfer the empty bucket from the window which is a private domain by way of the channel s banks which are exempt domains to the water channel which is a karmelit and back again with the full bucket\n",
      "\n",
      "27\n",
      "the gemara raises a question about this ruling  now if you say that where there is a main street from here on one side of the alleyway and a valley from here on the other side it is sufficient to construct an opening in the form of a doorway from here on one side and a side post or a cross beam from here on the other side was it necessary to state that these are sufficient if there is a valley from here on one side of the alleyway and a valley from her e on the other side\n",
      "\n",
      "34\n",
      "the sages taught with regard to the construction of the tabernacle  the bottoms of the beams were grooved and the sockets were hollow and the grooves were inserted into the sockets to support the beams\n",
      "\n",
      "36\n",
      "the gemara asks  after all how much was the length of a wagon it was five cubits how much was the width of a beam it was a cubit and a half how many beams could one place on a wagon one could place three stacks of beams totaling four and a half cubits if so half a cubit of open space remained when the master distributes half a cubit between the stacks of beams it is considered lavud attached as the space between each stack was less than three handbreadths the gemara answers  do you maintain that they would place the beams on their width they would place them on their depth which was one cubit wide and therefore there was a greater distance between the rows\n",
      "\n",
      "56\n",
      "the gemara rejects the previous explanation rather the measure of three or four handbreadths is referring not to the channel itself but to the banks of the channel and it is stated with regard to an act of exchange the dispute here does not concern the measure of a karmelit but the measure of an exempt domain it is permitted to transfer the empty bucket from the window which is a private domain by way of the channel s banks which are exempt domains to the water channel which is a karmelit and back again with the full bucket\n",
      "\n",
      "58\n",
      "the sages taught with regard to the construction of the tabernacle  the bottoms of the beams were grooved and the sockets were hollow and the grooves were inserted into the sockets to support the beams\n"
     ]
    }
   ],
   "source": [
    "domain_indices = [i for i, e in enumerate(prediction) if e != 0]\n",
    "\n",
    "for i in domain_indices[:10]:\n",
    "    print()\n",
    "    print(i)\n",
    "#     print(data_raw.loc[[i]])\n",
    "    print(test_text.iloc[i])"
   ]
  },
  {
   "cell_type": "code",
   "execution_count": 445,
   "metadata": {
    "scrolled": true
   },
   "outputs": [
    {
     "data": {
      "text/html": [
       "<div>\n",
       "<style scoped>\n",
       "    .dataframe tbody tr th:only-of-type {\n",
       "        vertical-align: middle;\n",
       "    }\n",
       "\n",
       "    .dataframe tbody tr th {\n",
       "        vertical-align: top;\n",
       "    }\n",
       "\n",
       "    .dataframe thead th {\n",
       "        text-align: right;\n",
       "    }\n",
       "</style>\n",
       "<table border=\"1\" class=\"dataframe\">\n",
       "  <thead>\n",
       "    <tr style=\"text-align: right;\">\n",
       "      <th></th>\n",
       "      <th>prayer</th>\n",
       "      <th>procedures-for-judges-and-conduct-towards-them</th>\n",
       "      <th>learning</th>\n",
       "      <th>kings</th>\n",
       "      <th>hilchot-chol-hamoed</th>\n",
       "      <th>laws-of-judges-and-courts</th>\n",
       "      <th>laws-of-animal-sacrifices</th>\n",
       "      <th>financial-ramifications-of-marriage</th>\n",
       "      <th>idolatry</th>\n",
       "      <th>laws-of-transferring-between-domains</th>\n",
       "    </tr>\n",
       "  </thead>\n",
       "  <tbody>\n",
       "    <tr>\n",
       "      <th>91</th>\n",
       "      <td>0</td>\n",
       "      <td>0</td>\n",
       "      <td>0</td>\n",
       "      <td>1</td>\n",
       "      <td>0</td>\n",
       "      <td>0</td>\n",
       "      <td>0</td>\n",
       "      <td>0</td>\n",
       "      <td>0</td>\n",
       "      <td>0</td>\n",
       "    </tr>\n",
       "    <tr>\n",
       "      <th>985</th>\n",
       "      <td>0</td>\n",
       "      <td>0</td>\n",
       "      <td>0</td>\n",
       "      <td>0</td>\n",
       "      <td>0</td>\n",
       "      <td>0</td>\n",
       "      <td>0</td>\n",
       "      <td>0</td>\n",
       "      <td>1</td>\n",
       "      <td>0</td>\n",
       "    </tr>\n",
       "    <tr>\n",
       "      <th>599</th>\n",
       "      <td>0</td>\n",
       "      <td>0</td>\n",
       "      <td>0</td>\n",
       "      <td>0</td>\n",
       "      <td>0</td>\n",
       "      <td>0</td>\n",
       "      <td>0</td>\n",
       "      <td>0</td>\n",
       "      <td>0</td>\n",
       "      <td>1</td>\n",
       "    </tr>\n",
       "    <tr>\n",
       "      <th>167</th>\n",
       "      <td>0</td>\n",
       "      <td>0</td>\n",
       "      <td>0</td>\n",
       "      <td>0</td>\n",
       "      <td>0</td>\n",
       "      <td>0</td>\n",
       "      <td>1</td>\n",
       "      <td>0</td>\n",
       "      <td>0</td>\n",
       "      <td>0</td>\n",
       "    </tr>\n",
       "    <tr>\n",
       "      <th>523</th>\n",
       "      <td>0</td>\n",
       "      <td>0</td>\n",
       "      <td>0</td>\n",
       "      <td>0</td>\n",
       "      <td>0</td>\n",
       "      <td>0</td>\n",
       "      <td>0</td>\n",
       "      <td>0</td>\n",
       "      <td>1</td>\n",
       "      <td>0</td>\n",
       "    </tr>\n",
       "  </tbody>\n",
       "</table>\n",
       "</div>"
      ],
      "text/plain": [
       "     prayer  procedures-for-judges-and-conduct-towards-them  learning  kings  \\\n",
       "91        0                                               0         0      1   \n",
       "985       0                                               0         0      0   \n",
       "599       0                                               0         0      0   \n",
       "167       0                                               0         0      0   \n",
       "523       0                                               0         0      0   \n",
       "\n",
       "     hilchot-chol-hamoed  laws-of-judges-and-courts  \\\n",
       "91                     0                          0   \n",
       "985                    0                          0   \n",
       "599                    0                          0   \n",
       "167                    0                          0   \n",
       "523                    0                          0   \n",
       "\n",
       "     laws-of-animal-sacrifices  financial-ramifications-of-marriage  idolatry  \\\n",
       "91                           0                                    0         0   \n",
       "985                          0                                    0         1   \n",
       "599                          0                                    0         0   \n",
       "167                          1                                    0         0   \n",
       "523                          0                                    0         1   \n",
       "\n",
       "     laws-of-transferring-between-domains  \n",
       "91                                      0  \n",
       "985                                     0  \n",
       "599                                     1  \n",
       "167                                     0  \n",
       "523                                     0  "
      ]
     },
     "execution_count": 445,
     "metadata": {},
     "output_type": "execute_result"
    }
   ],
   "source": [
    "y_test.head()"
   ]
  },
  {
   "cell_type": "code",
   "execution_count": 446,
   "metadata": {},
   "outputs": [
    {
     "name": "stdout",
     "output_type": "stream",
     "text": [
      "Accuracy =  1.0\n",
      "\n",
      "\n",
      "CPU times: user 4.45 s, sys: 4.52 s, total: 8.97 s\n",
      "Wall time: 8.98 s\n"
     ]
    }
   ],
   "source": [
    "%%time\n",
    "\n",
    "# using binary relevance\n",
    "from skmultilearn.problem_transform import BinaryRelevance\n",
    "from sklearn.naive_bayes import GaussianNB\n",
    "\n",
    "# initialize binary relevance multi-label classifier\n",
    "# with a gaussian naive bayes base classifier\n",
    "classifier = BinaryRelevance(GaussianNB())\n",
    "\n",
    "# train\n",
    "classifier.fit(x_train, y_train)\n",
    "\n",
    "# predict\"\n",
    "predictions = classifier.predict(x_test)\n",
    "\n",
    "# accuracy\n",
    "print(\"Accuracy = \",accuracy_score(y_test,predictions))\n",
    "print(\"\\n\")"
   ]
  },
  {
   "cell_type": "code",
   "execution_count": 447,
   "metadata": {},
   "outputs": [
    {
     "data": {
      "text/plain": [
       "<600x10 sparse matrix of type '<class 'numpy.int64'>'\n",
       "\twith 648 stored elements in Compressed Sparse Column format>"
      ]
     },
     "execution_count": 447,
     "metadata": {},
     "output_type": "execute_result"
    }
   ],
   "source": [
    "predictions"
   ]
  },
  {
   "cell_type": "code",
   "execution_count": 448,
   "metadata": {},
   "outputs": [
    {
     "data": {
      "text/html": [
       "<div>\n",
       "<style scoped>\n",
       "    .dataframe tbody tr th:only-of-type {\n",
       "        vertical-align: middle;\n",
       "    }\n",
       "\n",
       "    .dataframe tbody tr th {\n",
       "        vertical-align: top;\n",
       "    }\n",
       "\n",
       "    .dataframe thead th {\n",
       "        text-align: right;\n",
       "    }\n",
       "</style>\n",
       "<table border=\"1\" class=\"dataframe\">\n",
       "  <thead>\n",
       "    <tr style=\"text-align: right;\">\n",
       "      <th></th>\n",
       "      <th>prayer</th>\n",
       "      <th>procedures-for-judges-and-conduct-towards-them</th>\n",
       "      <th>learning</th>\n",
       "      <th>kings</th>\n",
       "      <th>hilchot-chol-hamoed</th>\n",
       "      <th>laws-of-judges-and-courts</th>\n",
       "      <th>laws-of-animal-sacrifices</th>\n",
       "      <th>financial-ramifications-of-marriage</th>\n",
       "      <th>idolatry</th>\n",
       "      <th>laws-of-transferring-between-domains</th>\n",
       "    </tr>\n",
       "  </thead>\n",
       "  <tbody>\n",
       "    <tr>\n",
       "      <th>91</th>\n",
       "      <td>0</td>\n",
       "      <td>0</td>\n",
       "      <td>0</td>\n",
       "      <td>1</td>\n",
       "      <td>0</td>\n",
       "      <td>0</td>\n",
       "      <td>0</td>\n",
       "      <td>0</td>\n",
       "      <td>0</td>\n",
       "      <td>0</td>\n",
       "    </tr>\n",
       "    <tr>\n",
       "      <th>985</th>\n",
       "      <td>0</td>\n",
       "      <td>0</td>\n",
       "      <td>0</td>\n",
       "      <td>0</td>\n",
       "      <td>0</td>\n",
       "      <td>0</td>\n",
       "      <td>0</td>\n",
       "      <td>0</td>\n",
       "      <td>1</td>\n",
       "      <td>0</td>\n",
       "    </tr>\n",
       "    <tr>\n",
       "      <th>599</th>\n",
       "      <td>0</td>\n",
       "      <td>0</td>\n",
       "      <td>0</td>\n",
       "      <td>0</td>\n",
       "      <td>0</td>\n",
       "      <td>0</td>\n",
       "      <td>0</td>\n",
       "      <td>0</td>\n",
       "      <td>0</td>\n",
       "      <td>1</td>\n",
       "    </tr>\n",
       "    <tr>\n",
       "      <th>167</th>\n",
       "      <td>0</td>\n",
       "      <td>0</td>\n",
       "      <td>0</td>\n",
       "      <td>0</td>\n",
       "      <td>0</td>\n",
       "      <td>0</td>\n",
       "      <td>1</td>\n",
       "      <td>0</td>\n",
       "      <td>0</td>\n",
       "      <td>0</td>\n",
       "    </tr>\n",
       "    <tr>\n",
       "      <th>523</th>\n",
       "      <td>0</td>\n",
       "      <td>0</td>\n",
       "      <td>0</td>\n",
       "      <td>0</td>\n",
       "      <td>0</td>\n",
       "      <td>0</td>\n",
       "      <td>0</td>\n",
       "      <td>0</td>\n",
       "      <td>1</td>\n",
       "      <td>0</td>\n",
       "    </tr>\n",
       "    <tr>\n",
       "      <th>...</th>\n",
       "      <td>...</td>\n",
       "      <td>...</td>\n",
       "      <td>...</td>\n",
       "      <td>...</td>\n",
       "      <td>...</td>\n",
       "      <td>...</td>\n",
       "      <td>...</td>\n",
       "      <td>...</td>\n",
       "      <td>...</td>\n",
       "      <td>...</td>\n",
       "    </tr>\n",
       "    <tr>\n",
       "      <th>938</th>\n",
       "      <td>0</td>\n",
       "      <td>0</td>\n",
       "      <td>0</td>\n",
       "      <td>0</td>\n",
       "      <td>1</td>\n",
       "      <td>0</td>\n",
       "      <td>0</td>\n",
       "      <td>0</td>\n",
       "      <td>0</td>\n",
       "      <td>0</td>\n",
       "    </tr>\n",
       "    <tr>\n",
       "      <th>82</th>\n",
       "      <td>0</td>\n",
       "      <td>0</td>\n",
       "      <td>0</td>\n",
       "      <td>0</td>\n",
       "      <td>0</td>\n",
       "      <td>0</td>\n",
       "      <td>0</td>\n",
       "      <td>0</td>\n",
       "      <td>0</td>\n",
       "      <td>1</td>\n",
       "    </tr>\n",
       "    <tr>\n",
       "      <th>458</th>\n",
       "      <td>0</td>\n",
       "      <td>0</td>\n",
       "      <td>0</td>\n",
       "      <td>0</td>\n",
       "      <td>0</td>\n",
       "      <td>0</td>\n",
       "      <td>1</td>\n",
       "      <td>0</td>\n",
       "      <td>0</td>\n",
       "      <td>0</td>\n",
       "    </tr>\n",
       "    <tr>\n",
       "      <th>393</th>\n",
       "      <td>0</td>\n",
       "      <td>0</td>\n",
       "      <td>0</td>\n",
       "      <td>0</td>\n",
       "      <td>0</td>\n",
       "      <td>0</td>\n",
       "      <td>0</td>\n",
       "      <td>1</td>\n",
       "      <td>0</td>\n",
       "      <td>0</td>\n",
       "    </tr>\n",
       "    <tr>\n",
       "      <th>212</th>\n",
       "      <td>0</td>\n",
       "      <td>0</td>\n",
       "      <td>0</td>\n",
       "      <td>0</td>\n",
       "      <td>0</td>\n",
       "      <td>0</td>\n",
       "      <td>0</td>\n",
       "      <td>0</td>\n",
       "      <td>1</td>\n",
       "      <td>0</td>\n",
       "    </tr>\n",
       "  </tbody>\n",
       "</table>\n",
       "<p>600 rows × 10 columns</p>\n",
       "</div>"
      ],
      "text/plain": [
       "     prayer  procedures-for-judges-and-conduct-towards-them  learning  kings  \\\n",
       "91        0                                               0         0      1   \n",
       "985       0                                               0         0      0   \n",
       "599       0                                               0         0      0   \n",
       "167       0                                               0         0      0   \n",
       "523       0                                               0         0      0   \n",
       "..      ...                                             ...       ...    ...   \n",
       "938       0                                               0         0      0   \n",
       "82        0                                               0         0      0   \n",
       "458       0                                               0         0      0   \n",
       "393       0                                               0         0      0   \n",
       "212       0                                               0         0      0   \n",
       "\n",
       "     hilchot-chol-hamoed  laws-of-judges-and-courts  \\\n",
       "91                     0                          0   \n",
       "985                    0                          0   \n",
       "599                    0                          0   \n",
       "167                    0                          0   \n",
       "523                    0                          0   \n",
       "..                   ...                        ...   \n",
       "938                    1                          0   \n",
       "82                     0                          0   \n",
       "458                    0                          0   \n",
       "393                    0                          0   \n",
       "212                    0                          0   \n",
       "\n",
       "     laws-of-animal-sacrifices  financial-ramifications-of-marriage  idolatry  \\\n",
       "91                           0                                    0         0   \n",
       "985                          0                                    0         1   \n",
       "599                          0                                    0         0   \n",
       "167                          1                                    0         0   \n",
       "523                          0                                    0         1   \n",
       "..                         ...                                  ...       ...   \n",
       "938                          0                                    0         0   \n",
       "82                           0                                    0         0   \n",
       "458                          1                                    0         0   \n",
       "393                          0                                    1         0   \n",
       "212                          0                                    0         1   \n",
       "\n",
       "     laws-of-transferring-between-domains  \n",
       "91                                      0  \n",
       "985                                     0  \n",
       "599                                     1  \n",
       "167                                     0  \n",
       "523                                     0  \n",
       "..                                    ...  \n",
       "938                                     0  \n",
       "82                                      1  \n",
       "458                                     0  \n",
       "393                                     0  \n",
       "212                                     0  \n",
       "\n",
       "[600 rows x 10 columns]"
      ]
     },
     "execution_count": 448,
     "metadata": {},
     "output_type": "execute_result"
    }
   ],
   "source": [
    "y_test"
   ]
  },
  {
   "cell_type": "code",
   "execution_count": 456,
   "metadata": {},
   "outputs": [
    {
     "ename": "ModuleNotFoundError",
     "evalue": "No module named 'mlcm'",
     "output_type": "error",
     "traceback": [
      "\u001b[0;31m---------------------------------------------------------------------------\u001b[0m",
      "\u001b[0;31mModuleNotFoundError\u001b[0m                       Traceback (most recent call last)",
      "\u001b[0;32m<ipython-input-456-433710aa66fb>\u001b[0m in \u001b[0;36m<module>\u001b[0;34m\u001b[0m\n\u001b[0;32m----> 1\u001b[0;31m \u001b[0;32mimport\u001b[0m \u001b[0mmlcm\u001b[0m\u001b[0;34m\u001b[0m\u001b[0;34m\u001b[0m\u001b[0m\n\u001b[0m\u001b[1;32m      2\u001b[0m \u001b[0;34m\u001b[0m\u001b[0m\n\u001b[1;32m      3\u001b[0m \u001b[0;32mimport\u001b[0m \u001b[0mnumpy\u001b[0m\u001b[0;34m\u001b[0m\u001b[0;34m\u001b[0m\u001b[0m\n\u001b[1;32m      4\u001b[0m \u001b[0;34m\u001b[0m\u001b[0m\n\u001b[1;32m      5\u001b[0m \u001b[0my_test\u001b[0m \u001b[0;34m=\u001b[0m \u001b[0;34m[\u001b[0m\u001b[0;34m(\u001b[0m\u001b[0;36m0\u001b[0m\u001b[0;34m,\u001b[0m\u001b[0;36m1\u001b[0m\u001b[0;34m)\u001b[0m\u001b[0;34m,\u001b[0m\u001b[0;34m(\u001b[0m\u001b[0;36m0\u001b[0m\u001b[0;34m,\u001b[0m\u001b[0;36m1\u001b[0m\u001b[0;34m)\u001b[0m\u001b[0;34m]\u001b[0m\u001b[0;34m\u001b[0m\u001b[0;34m\u001b[0m\u001b[0m\n",
      "\u001b[0;31mModuleNotFoundError\u001b[0m: No module named 'mlcm'"
     ]
    }
   ],
   "source": [
    "import mlcm\n",
    "\n",
    "import numpy\n",
    "\n",
    "y_test = [(0,1),(0,1)]\n",
    "y_pred = [(0,1),(1,0)]\n",
    "\n",
    "# classes = ['prayer', 'procedures-for-judges-and-conduct-towards-them', 'learning', 'kings', 'hilchot-chol-hamoed', 'laws-of-judges-and-courts', 'laws-of-animal-sacrifices', 'financial-ramifications-of-marriage', 'idolatry', 'laws-of-transferring-between-domains']\n",
    "['zero','one']\n",
    "\n",
    "y_test = numpy.array(y_pred)\n",
    "y_pred = numpy.array(y_test)\n",
    "\n",
    "cm = mlcm.confusion_matrix(y_test, y_pred)\n",
    "mlcm.plot_confusion_matrix(cm, classes, normalize=False)\n",
    "# cm = mlcm.draw_cm(y_test, y_pred, classes, normalize=False)\n"
   ]
  },
  {
   "cell_type": "code",
   "execution_count": null,
   "metadata": {},
   "outputs": [],
   "source": []
  },
  {
   "cell_type": "code",
   "execution_count": 450,
   "metadata": {},
   "outputs": [
    {
     "name": "stdout",
     "output_type": "stream",
     "text": [
      "[[[574   0]\n",
      "  [  0  26]]\n",
      "\n",
      " [[485   0]\n",
      "  [  0 115]]\n",
      "\n",
      " [[576   0]\n",
      "  [  0  24]]\n",
      "\n",
      " [[532   0]\n",
      "  [  0  68]]\n",
      "\n",
      " [[549   0]\n",
      "  [  0  51]]\n",
      "\n",
      " [[475   0]\n",
      "  [  0 125]]\n",
      "\n",
      " [[545   0]\n",
      "  [  0  55]]\n",
      "\n",
      " [[574   0]\n",
      "  [  0  26]]\n",
      "\n",
      " [[521   0]\n",
      "  [  0  79]]\n",
      "\n",
      " [[521   0]\n",
      "  [  0  79]]]\n"
     ]
    }
   ],
   "source": [
    "from sklearn.metrics import confusion_matrix, multilabel_confusion_matrix\n",
    "print(multilabel_confusion_matrix(y_test, predictions))\n"
   ]
  },
  {
   "cell_type": "code",
   "execution_count": 451,
   "metadata": {},
   "outputs": [],
   "source": [
    "# using classifier chains\n",
    "from skmultilearn.problem_transform import ClassifierChain\n",
    "from sklearn.linear_model import LogisticRegression"
   ]
  },
  {
   "cell_type": "code",
   "execution_count": 452,
   "metadata": {},
   "outputs": [
    {
     "name": "stdout",
     "output_type": "stream",
     "text": [
      "Accuracy =  1.0\n",
      "\n",
      "\n",
      "CPU times: user 30.2 s, sys: 21.6 s, total: 51.8 s\n",
      "Wall time: 30.3 s\n"
     ]
    }
   ],
   "source": [
    "%%time\n",
    "\n",
    "# initialize classifier chains multi-label classifier\n",
    "classifier = ClassifierChain(LogisticRegression())\n",
    "\n",
    "# Training logistic regression model on train data\n",
    "classifier.fit(x_train, y_train)\n",
    "\n",
    "# predict\n",
    "predictions = classifier.predict(x_test)\n",
    "\n",
    "# accuracy\n",
    "print(\"Accuracy = \",accuracy_score(y_test,predictions))\n",
    "print(\"\\n\")"
   ]
  },
  {
   "cell_type": "code",
   "execution_count": 149,
   "metadata": {},
   "outputs": [],
   "source": [
    "# using Label Powerset\n",
    "from skmultilearn.problem_transform import LabelPowerset\n"
   ]
  },
  {
   "cell_type": "code",
   "execution_count": 150,
   "metadata": {},
   "outputs": [
    {
     "name": "stdout",
     "output_type": "stream",
     "text": [
      "Accuracy =  0.9083333333333333\n",
      "\n",
      "\n",
      "CPU times: user 45.2 s, sys: 10.7 s, total: 55.9 s\n",
      "Wall time: 29.5 s\n"
     ]
    }
   ],
   "source": [
    "%%time\n",
    "\n",
    "# initialize label powerset multi-label classifier\n",
    "classifier = LabelPowerset(LogisticRegression())\n",
    "\n",
    "# train\n",
    "classifier.fit(x_train, y_train)\n",
    "\n",
    "# predict\n",
    "predictions = classifier.predict(x_test)\n",
    "\n",
    "# accuracy\n",
    "print(\"Accuracy = \",accuracy_score(y_test,predictions))\n",
    "print(\"\\n\")"
   ]
  },
  {
   "cell_type": "code",
   "execution_count": 151,
   "metadata": {},
   "outputs": [],
   "source": [
    "# http://scikit.ml/api/api/skmultilearn.adapt.html#skmultilearn.adapt.MLkNN\n",
    "\n",
    "from skmultilearn.adapt import MLkNN\n",
    "from scipy.sparse import csr_matrix, lil_matrix\n"
   ]
  },
  {
   "cell_type": "code",
   "execution_count": 107,
   "metadata": {},
   "outputs": [
    {
     "ename": "KeyboardInterrupt",
     "evalue": "",
     "output_type": "error",
     "traceback": [
      "\u001b[0;31m---------------------------------------------------------------------------\u001b[0m",
      "\u001b[0;31mKeyboardInterrupt\u001b[0m                         Traceback (most recent call last)",
      "\u001b[0;32m<timed exec>\u001b[0m in \u001b[0;36m<module>\u001b[0;34m\u001b[0m\n",
      "\u001b[0;32m/usr/local/lib/python3.7/site-packages/skmultilearn/adapt/mlknn.py\u001b[0m in \u001b[0;36mfit\u001b[0;34m(self, X, y)\u001b[0m\n\u001b[1;32m    216\u001b[0m         \u001b[0mself\u001b[0m\u001b[0;34m.\u001b[0m\u001b[0m_prior_prob_true\u001b[0m\u001b[0;34m,\u001b[0m \u001b[0mself\u001b[0m\u001b[0;34m.\u001b[0m\u001b[0m_prior_prob_false\u001b[0m \u001b[0;34m=\u001b[0m \u001b[0mself\u001b[0m\u001b[0;34m.\u001b[0m\u001b[0m_compute_prior\u001b[0m\u001b[0;34m(\u001b[0m\u001b[0mself\u001b[0m\u001b[0;34m.\u001b[0m\u001b[0m_label_cache\u001b[0m\u001b[0;34m)\u001b[0m\u001b[0;34m\u001b[0m\u001b[0;34m\u001b[0m\u001b[0m\n\u001b[1;32m    217\u001b[0m         \u001b[0;31m# Computing the posterior probabilities\u001b[0m\u001b[0;34m\u001b[0m\u001b[0;34m\u001b[0m\u001b[0;34m\u001b[0m\u001b[0m\n\u001b[0;32m--> 218\u001b[0;31m         \u001b[0mself\u001b[0m\u001b[0;34m.\u001b[0m\u001b[0m_cond_prob_true\u001b[0m\u001b[0;34m,\u001b[0m \u001b[0mself\u001b[0m\u001b[0;34m.\u001b[0m\u001b[0m_cond_prob_false\u001b[0m \u001b[0;34m=\u001b[0m \u001b[0mself\u001b[0m\u001b[0;34m.\u001b[0m\u001b[0m_compute_cond\u001b[0m\u001b[0;34m(\u001b[0m\u001b[0mX\u001b[0m\u001b[0;34m,\u001b[0m \u001b[0mself\u001b[0m\u001b[0;34m.\u001b[0m\u001b[0m_label_cache\u001b[0m\u001b[0;34m)\u001b[0m\u001b[0;34m\u001b[0m\u001b[0;34m\u001b[0m\u001b[0m\n\u001b[0m\u001b[1;32m    219\u001b[0m         \u001b[0;32mreturn\u001b[0m \u001b[0mself\u001b[0m\u001b[0;34m\u001b[0m\u001b[0;34m\u001b[0m\u001b[0m\n\u001b[1;32m    220\u001b[0m \u001b[0;34m\u001b[0m\u001b[0m\n",
      "\u001b[0;32m/usr/local/lib/python3.7/site-packages/skmultilearn/adapt/mlknn.py\u001b[0m in \u001b[0;36m_compute_cond\u001b[0;34m(self, X, y)\u001b[0m\n\u001b[1;32m    170\u001b[0m \u001b[0;34m\u001b[0m\u001b[0m\n\u001b[1;32m    171\u001b[0m         neighbors = [a[self.ignore_first_neighbours:] for a in\n\u001b[0;32m--> 172\u001b[0;31m                      self.knn_.kneighbors(X, self.k + self.ignore_first_neighbours, return_distance=False)]\n\u001b[0m\u001b[1;32m    173\u001b[0m \u001b[0;34m\u001b[0m\u001b[0m\n\u001b[1;32m    174\u001b[0m         \u001b[0;32mfor\u001b[0m \u001b[0minstance\u001b[0m \u001b[0;32min\u001b[0m \u001b[0mrange\u001b[0m\u001b[0;34m(\u001b[0m\u001b[0mself\u001b[0m\u001b[0;34m.\u001b[0m\u001b[0m_num_instances\u001b[0m\u001b[0;34m)\u001b[0m\u001b[0;34m:\u001b[0m\u001b[0;34m\u001b[0m\u001b[0;34m\u001b[0m\u001b[0m\n",
      "\u001b[0;32m/usr/local/lib/python3.7/site-packages/sklearn/neighbors/_base.py\u001b[0m in \u001b[0;36mkneighbors\u001b[0;34m(self, X, n_neighbors, return_distance)\u001b[0m\n\u001b[1;32m    663\u001b[0m                 delayed_query(\n\u001b[1;32m    664\u001b[0m                     self._tree, X[s], n_neighbors, return_distance)\n\u001b[0;32m--> 665\u001b[0;31m                 \u001b[0;32mfor\u001b[0m \u001b[0ms\u001b[0m \u001b[0;32min\u001b[0m \u001b[0mgen_even_slices\u001b[0m\u001b[0;34m(\u001b[0m\u001b[0mX\u001b[0m\u001b[0;34m.\u001b[0m\u001b[0mshape\u001b[0m\u001b[0;34m[\u001b[0m\u001b[0;36m0\u001b[0m\u001b[0;34m]\u001b[0m\u001b[0;34m,\u001b[0m \u001b[0mn_jobs\u001b[0m\u001b[0;34m)\u001b[0m\u001b[0;34m\u001b[0m\u001b[0;34m\u001b[0m\u001b[0m\n\u001b[0m\u001b[1;32m    666\u001b[0m             )\n\u001b[1;32m    667\u001b[0m         \u001b[0;32melse\u001b[0m\u001b[0;34m:\u001b[0m\u001b[0;34m\u001b[0m\u001b[0;34m\u001b[0m\u001b[0m\n",
      "\u001b[0;32m/usr/local/lib/python3.7/site-packages/joblib/parallel.py\u001b[0m in \u001b[0;36m__call__\u001b[0;34m(self, iterable)\u001b[0m\n\u001b[1;32m   1027\u001b[0m             \u001b[0;31m# remaining jobs.\u001b[0m\u001b[0;34m\u001b[0m\u001b[0;34m\u001b[0m\u001b[0;34m\u001b[0m\u001b[0m\n\u001b[1;32m   1028\u001b[0m             \u001b[0mself\u001b[0m\u001b[0;34m.\u001b[0m\u001b[0m_iterating\u001b[0m \u001b[0;34m=\u001b[0m \u001b[0;32mFalse\u001b[0m\u001b[0;34m\u001b[0m\u001b[0;34m\u001b[0m\u001b[0m\n\u001b[0;32m-> 1029\u001b[0;31m             \u001b[0;32mif\u001b[0m \u001b[0mself\u001b[0m\u001b[0;34m.\u001b[0m\u001b[0mdispatch_one_batch\u001b[0m\u001b[0;34m(\u001b[0m\u001b[0miterator\u001b[0m\u001b[0;34m)\u001b[0m\u001b[0;34m:\u001b[0m\u001b[0;34m\u001b[0m\u001b[0;34m\u001b[0m\u001b[0m\n\u001b[0m\u001b[1;32m   1030\u001b[0m                 \u001b[0mself\u001b[0m\u001b[0;34m.\u001b[0m\u001b[0m_iterating\u001b[0m \u001b[0;34m=\u001b[0m \u001b[0mself\u001b[0m\u001b[0;34m.\u001b[0m\u001b[0m_original_iterator\u001b[0m \u001b[0;32mis\u001b[0m \u001b[0;32mnot\u001b[0m \u001b[0;32mNone\u001b[0m\u001b[0;34m\u001b[0m\u001b[0;34m\u001b[0m\u001b[0m\n\u001b[1;32m   1031\u001b[0m \u001b[0;34m\u001b[0m\u001b[0m\n",
      "\u001b[0;32m/usr/local/lib/python3.7/site-packages/joblib/parallel.py\u001b[0m in \u001b[0;36mdispatch_one_batch\u001b[0;34m(self, iterator)\u001b[0m\n\u001b[1;32m    845\u001b[0m                 \u001b[0;32mreturn\u001b[0m \u001b[0;32mFalse\u001b[0m\u001b[0;34m\u001b[0m\u001b[0;34m\u001b[0m\u001b[0m\n\u001b[1;32m    846\u001b[0m             \u001b[0;32melse\u001b[0m\u001b[0;34m:\u001b[0m\u001b[0;34m\u001b[0m\u001b[0;34m\u001b[0m\u001b[0m\n\u001b[0;32m--> 847\u001b[0;31m                 \u001b[0mself\u001b[0m\u001b[0;34m.\u001b[0m\u001b[0m_dispatch\u001b[0m\u001b[0;34m(\u001b[0m\u001b[0mtasks\u001b[0m\u001b[0;34m)\u001b[0m\u001b[0;34m\u001b[0m\u001b[0;34m\u001b[0m\u001b[0m\n\u001b[0m\u001b[1;32m    848\u001b[0m                 \u001b[0;32mreturn\u001b[0m \u001b[0;32mTrue\u001b[0m\u001b[0;34m\u001b[0m\u001b[0;34m\u001b[0m\u001b[0m\n\u001b[1;32m    849\u001b[0m \u001b[0;34m\u001b[0m\u001b[0m\n",
      "\u001b[0;32m/usr/local/lib/python3.7/site-packages/joblib/parallel.py\u001b[0m in \u001b[0;36m_dispatch\u001b[0;34m(self, batch)\u001b[0m\n\u001b[1;32m    763\u001b[0m         \u001b[0;32mwith\u001b[0m \u001b[0mself\u001b[0m\u001b[0;34m.\u001b[0m\u001b[0m_lock\u001b[0m\u001b[0;34m:\u001b[0m\u001b[0;34m\u001b[0m\u001b[0;34m\u001b[0m\u001b[0m\n\u001b[1;32m    764\u001b[0m             \u001b[0mjob_idx\u001b[0m \u001b[0;34m=\u001b[0m \u001b[0mlen\u001b[0m\u001b[0;34m(\u001b[0m\u001b[0mself\u001b[0m\u001b[0;34m.\u001b[0m\u001b[0m_jobs\u001b[0m\u001b[0;34m)\u001b[0m\u001b[0;34m\u001b[0m\u001b[0;34m\u001b[0m\u001b[0m\n\u001b[0;32m--> 765\u001b[0;31m             \u001b[0mjob\u001b[0m \u001b[0;34m=\u001b[0m \u001b[0mself\u001b[0m\u001b[0;34m.\u001b[0m\u001b[0m_backend\u001b[0m\u001b[0;34m.\u001b[0m\u001b[0mapply_async\u001b[0m\u001b[0;34m(\u001b[0m\u001b[0mbatch\u001b[0m\u001b[0;34m,\u001b[0m \u001b[0mcallback\u001b[0m\u001b[0;34m=\u001b[0m\u001b[0mcb\u001b[0m\u001b[0;34m)\u001b[0m\u001b[0;34m\u001b[0m\u001b[0;34m\u001b[0m\u001b[0m\n\u001b[0m\u001b[1;32m    766\u001b[0m             \u001b[0;31m# A job can complete so quickly than its callback is\u001b[0m\u001b[0;34m\u001b[0m\u001b[0;34m\u001b[0m\u001b[0;34m\u001b[0m\u001b[0m\n\u001b[1;32m    767\u001b[0m             \u001b[0;31m# called before we get here, causing self._jobs to\u001b[0m\u001b[0;34m\u001b[0m\u001b[0;34m\u001b[0m\u001b[0;34m\u001b[0m\u001b[0m\n",
      "\u001b[0;32m/usr/local/lib/python3.7/site-packages/joblib/_parallel_backends.py\u001b[0m in \u001b[0;36mapply_async\u001b[0;34m(self, func, callback)\u001b[0m\n\u001b[1;32m    204\u001b[0m     \u001b[0;32mdef\u001b[0m \u001b[0mapply_async\u001b[0m\u001b[0;34m(\u001b[0m\u001b[0mself\u001b[0m\u001b[0;34m,\u001b[0m \u001b[0mfunc\u001b[0m\u001b[0;34m,\u001b[0m \u001b[0mcallback\u001b[0m\u001b[0;34m=\u001b[0m\u001b[0;32mNone\u001b[0m\u001b[0;34m)\u001b[0m\u001b[0;34m:\u001b[0m\u001b[0;34m\u001b[0m\u001b[0;34m\u001b[0m\u001b[0m\n\u001b[1;32m    205\u001b[0m         \u001b[0;34m\"\"\"Schedule a func to be run\"\"\"\u001b[0m\u001b[0;34m\u001b[0m\u001b[0;34m\u001b[0m\u001b[0m\n\u001b[0;32m--> 206\u001b[0;31m         \u001b[0mresult\u001b[0m \u001b[0;34m=\u001b[0m \u001b[0mImmediateResult\u001b[0m\u001b[0;34m(\u001b[0m\u001b[0mfunc\u001b[0m\u001b[0;34m)\u001b[0m\u001b[0;34m\u001b[0m\u001b[0;34m\u001b[0m\u001b[0m\n\u001b[0m\u001b[1;32m    207\u001b[0m         \u001b[0;32mif\u001b[0m \u001b[0mcallback\u001b[0m\u001b[0;34m:\u001b[0m\u001b[0;34m\u001b[0m\u001b[0;34m\u001b[0m\u001b[0m\n\u001b[1;32m    208\u001b[0m             \u001b[0mcallback\u001b[0m\u001b[0;34m(\u001b[0m\u001b[0mresult\u001b[0m\u001b[0;34m)\u001b[0m\u001b[0;34m\u001b[0m\u001b[0;34m\u001b[0m\u001b[0m\n",
      "\u001b[0;32m/usr/local/lib/python3.7/site-packages/joblib/_parallel_backends.py\u001b[0m in \u001b[0;36m__init__\u001b[0;34m(self, batch)\u001b[0m\n\u001b[1;32m    568\u001b[0m         \u001b[0;31m# Don't delay the application, to avoid keeping the input\u001b[0m\u001b[0;34m\u001b[0m\u001b[0;34m\u001b[0m\u001b[0;34m\u001b[0m\u001b[0m\n\u001b[1;32m    569\u001b[0m         \u001b[0;31m# arguments in memory\u001b[0m\u001b[0;34m\u001b[0m\u001b[0;34m\u001b[0m\u001b[0;34m\u001b[0m\u001b[0m\n\u001b[0;32m--> 570\u001b[0;31m         \u001b[0mself\u001b[0m\u001b[0;34m.\u001b[0m\u001b[0mresults\u001b[0m \u001b[0;34m=\u001b[0m \u001b[0mbatch\u001b[0m\u001b[0;34m(\u001b[0m\u001b[0;34m)\u001b[0m\u001b[0;34m\u001b[0m\u001b[0;34m\u001b[0m\u001b[0m\n\u001b[0m\u001b[1;32m    571\u001b[0m \u001b[0;34m\u001b[0m\u001b[0m\n\u001b[1;32m    572\u001b[0m     \u001b[0;32mdef\u001b[0m \u001b[0mget\u001b[0m\u001b[0;34m(\u001b[0m\u001b[0mself\u001b[0m\u001b[0;34m)\u001b[0m\u001b[0;34m:\u001b[0m\u001b[0;34m\u001b[0m\u001b[0;34m\u001b[0m\u001b[0m\n",
      "\u001b[0;32m/usr/local/lib/python3.7/site-packages/joblib/parallel.py\u001b[0m in \u001b[0;36m__call__\u001b[0;34m(self)\u001b[0m\n\u001b[1;32m    251\u001b[0m         \u001b[0;32mwith\u001b[0m \u001b[0mparallel_backend\u001b[0m\u001b[0;34m(\u001b[0m\u001b[0mself\u001b[0m\u001b[0;34m.\u001b[0m\u001b[0m_backend\u001b[0m\u001b[0;34m,\u001b[0m \u001b[0mn_jobs\u001b[0m\u001b[0;34m=\u001b[0m\u001b[0mself\u001b[0m\u001b[0;34m.\u001b[0m\u001b[0m_n_jobs\u001b[0m\u001b[0;34m)\u001b[0m\u001b[0;34m:\u001b[0m\u001b[0;34m\u001b[0m\u001b[0;34m\u001b[0m\u001b[0m\n\u001b[1;32m    252\u001b[0m             return [func(*args, **kwargs)\n\u001b[0;32m--> 253\u001b[0;31m                     for func, args, kwargs in self.items]\n\u001b[0m\u001b[1;32m    254\u001b[0m \u001b[0;34m\u001b[0m\u001b[0m\n\u001b[1;32m    255\u001b[0m     \u001b[0;32mdef\u001b[0m \u001b[0m__reduce__\u001b[0m\u001b[0;34m(\u001b[0m\u001b[0mself\u001b[0m\u001b[0;34m)\u001b[0m\u001b[0;34m:\u001b[0m\u001b[0;34m\u001b[0m\u001b[0;34m\u001b[0m\u001b[0m\n",
      "\u001b[0;32m/usr/local/lib/python3.7/site-packages/joblib/parallel.py\u001b[0m in \u001b[0;36m<listcomp>\u001b[0;34m(.0)\u001b[0m\n\u001b[1;32m    251\u001b[0m         \u001b[0;32mwith\u001b[0m \u001b[0mparallel_backend\u001b[0m\u001b[0;34m(\u001b[0m\u001b[0mself\u001b[0m\u001b[0;34m.\u001b[0m\u001b[0m_backend\u001b[0m\u001b[0;34m,\u001b[0m \u001b[0mn_jobs\u001b[0m\u001b[0;34m=\u001b[0m\u001b[0mself\u001b[0m\u001b[0;34m.\u001b[0m\u001b[0m_n_jobs\u001b[0m\u001b[0;34m)\u001b[0m\u001b[0;34m:\u001b[0m\u001b[0;34m\u001b[0m\u001b[0;34m\u001b[0m\u001b[0m\n\u001b[1;32m    252\u001b[0m             return [func(*args, **kwargs)\n\u001b[0;32m--> 253\u001b[0;31m                     for func, args, kwargs in self.items]\n\u001b[0m\u001b[1;32m    254\u001b[0m \u001b[0;34m\u001b[0m\u001b[0m\n\u001b[1;32m    255\u001b[0m     \u001b[0;32mdef\u001b[0m \u001b[0m__reduce__\u001b[0m\u001b[0;34m(\u001b[0m\u001b[0mself\u001b[0m\u001b[0;34m)\u001b[0m\u001b[0;34m:\u001b[0m\u001b[0;34m\u001b[0m\u001b[0;34m\u001b[0m\u001b[0m\n",
      "\u001b[0;32m/usr/local/lib/python3.7/site-packages/sklearn/neighbors/_base.py\u001b[0m in \u001b[0;36m_tree_query_parallel_helper\u001b[0;34m(tree, *args, **kwargs)\u001b[0m\n\u001b[1;32m    490\u001b[0m     \u001b[0munder\u001b[0m \u001b[0mPyPy\u001b[0m\u001b[0;34m.\u001b[0m\u001b[0;34m\u001b[0m\u001b[0;34m\u001b[0m\u001b[0m\n\u001b[1;32m    491\u001b[0m     \"\"\"\n\u001b[0;32m--> 492\u001b[0;31m     \u001b[0;32mreturn\u001b[0m \u001b[0mtree\u001b[0m\u001b[0;34m.\u001b[0m\u001b[0mquery\u001b[0m\u001b[0;34m(\u001b[0m\u001b[0;34m*\u001b[0m\u001b[0margs\u001b[0m\u001b[0;34m,\u001b[0m \u001b[0;34m**\u001b[0m\u001b[0mkwargs\u001b[0m\u001b[0;34m)\u001b[0m\u001b[0;34m\u001b[0m\u001b[0;34m\u001b[0m\u001b[0m\n\u001b[0m\u001b[1;32m    493\u001b[0m \u001b[0;34m\u001b[0m\u001b[0m\n\u001b[1;32m    494\u001b[0m \u001b[0;34m\u001b[0m\u001b[0m\n",
      "\u001b[0;31mKeyboardInterrupt\u001b[0m: "
     ]
    }
   ],
   "source": [
    "%%time\n",
    "\n",
    "classifier_new = MLkNN(k=10)\n",
    "\n",
    "# Note that this classifier can throw up errors when handling sparse matrices.\n",
    "\n",
    "x_train_array = lil_matrix(x_train).toarray()\n",
    "y_train_array = lil_matrix(y_train).toarray()\n",
    "x_test_array = lil_matrix(x_test).toarray()\n",
    "\n",
    "# train\n",
    "classifier_new.fit(x_train_array, y_train_array)\n",
    "\n",
    "# predict\n",
    "predictions_new = classifier_new.predict(x_test_array)\n",
    "\n",
    "# accuracy\n",
    "print(\"Accuracy = \",accuracy_score(y_test,predictions_new))\n",
    "print(\"\\n\")\n"
   ]
  },
  {
   "cell_type": "code",
   "execution_count": null,
   "metadata": {},
   "outputs": [],
   "source": []
  },
  {
   "cell_type": "code",
   "execution_count": 106,
   "metadata": {},
   "outputs": [
    {
     "data": {
      "text/plain": [
       "array([[0., 0., 0., ..., 0., 0., 0.],\n",
       "       [0., 0., 0., ..., 0., 0., 0.],\n",
       "       [0., 0., 0., ..., 0., 0., 0.],\n",
       "       ...,\n",
       "       [0., 0., 0., ..., 0., 0., 0.],\n",
       "       [0., 0., 0., ..., 0., 0., 0.],\n",
       "       [0., 0., 0., ..., 0., 0., 0.]])"
      ]
     },
     "execution_count": 106,
     "metadata": {},
     "output_type": "execute_result"
    }
   ],
   "source": [
    "x_test\n",
    "# classifier_new.predict(x_test)"
   ]
  },
  {
   "cell_type": "code",
   "execution_count": null,
   "metadata": {},
   "outputs": [],
   "source": []
  },
  {
   "cell_type": "code",
   "execution_count": null,
   "metadata": {},
   "outputs": [],
   "source": []
  },
  {
   "cell_type": "code",
   "execution_count": 96,
   "metadata": {},
   "outputs": [
    {
     "name": "stdout",
     "output_type": "stream",
     "text": [
      "<class 'pandas.core.frame.DataFrame'>\n",
      "Int64Index: 600 entries, 34575 to 26610\n",
      "Data columns (total 10 columns):\n",
      " #   Column                                          Non-Null Count  Dtype\n",
      "---  ------                                          --------------  -----\n",
      " 0   prayer                                          600 non-null    int64\n",
      " 1   procedures-for-judges-and-conduct-towards-them  600 non-null    int64\n",
      " 2   learning                                        600 non-null    int64\n",
      " 3   kings                                           600 non-null    int64\n",
      " 4   hilchot-chol-hamoed                             600 non-null    int64\n",
      " 5   laws-of-judges-and-courts                       600 non-null    int64\n",
      " 6   laws-of-animal-sacrifices                       600 non-null    int64\n",
      " 7   financial-ramifications-of-marriage             600 non-null    int64\n",
      " 8   idolatry                                        600 non-null    int64\n",
      " 9   laws-of-transferring-between-domains            600 non-null    int64\n",
      "dtypes: int64(10)\n",
      "memory usage: 71.6 KB\n"
     ]
    }
   ],
   "source": [
    "y_test_copy = y_test\n",
    "y_test_copy.info()"
   ]
  },
  {
   "cell_type": "code",
   "execution_count": 97,
   "metadata": {},
   "outputs": [
    {
     "name": "stdout",
     "output_type": "stream",
     "text": [
      "<class 'pandas.core.frame.DataFrame'>\n",
      "Int64Index: 600 entries, 34575 to 26610\n",
      "Data columns (total 10 columns):\n",
      " #   Column                                          Non-Null Count  Dtype\n",
      "---  ------                                          --------------  -----\n",
      " 0   prayer                                          600 non-null    int64\n",
      " 1   procedures-for-judges-and-conduct-towards-them  600 non-null    int64\n",
      " 2   learning                                        600 non-null    int64\n",
      " 3   kings                                           600 non-null    int64\n",
      " 4   hilchot-chol-hamoed                             600 non-null    int64\n",
      " 5   laws-of-judges-and-courts                       600 non-null    int64\n",
      " 6   laws-of-animal-sacrifices                       600 non-null    int64\n",
      " 7   financial-ramifications-of-marriage             600 non-null    int64\n",
      " 8   idolatry                                        600 non-null    int64\n",
      " 9   laws-of-transferring-between-domains            600 non-null    int64\n",
      "dtypes: int64(10)\n",
      "memory usage: 71.6 KB\n"
     ]
    }
   ],
   "source": [
    "y_test_copy.loc[(df!=0).any(axis=1)]\n",
    "y_test_copy.info()"
   ]
  },
  {
   "cell_type": "code",
   "execution_count": 98,
   "metadata": {},
   "outputs": [
    {
     "data": {
      "text/plain": [
       "pandas.core.frame.DataFrame"
      ]
     },
     "execution_count": 98,
     "metadata": {},
     "output_type": "execute_result"
    }
   ],
   "source": [
    "type(y_test)"
   ]
  },
  {
   "cell_type": "code",
   "execution_count": 99,
   "metadata": {},
   "outputs": [
    {
     "data": {
      "text/plain": [
       "Index(['prayer', 'procedures-for-judges-and-conduct-towards-them', 'learning',\n",
       "       'kings', 'hilchot-chol-hamoed', 'laws-of-judges-and-courts',\n",
       "       'laws-of-animal-sacrifices', 'financial-ramifications-of-marriage',\n",
       "       'idolatry', 'laws-of-transferring-between-domains'],\n",
       "      dtype='object')"
      ]
     },
     "execution_count": 99,
     "metadata": {},
     "output_type": "execute_result"
    }
   ],
   "source": [
    "y_test.columns"
   ]
  },
  {
   "cell_type": "code",
   "execution_count": 100,
   "metadata": {},
   "outputs": [],
   "source": [
    "def get_animal(row):\n",
    "    for c in y_test.columns:\n",
    "        topics = ''\n",
    "        if row[c]==1:\n",
    "            topics += c\n",
    "#             print(type(c))\n",
    "            return topics"
   ]
  },
  {
   "cell_type": "code",
   "execution_count": null,
   "metadata": {},
   "outputs": [],
   "source": []
  },
  {
   "cell_type": "code",
   "execution_count": 105,
   "metadata": {},
   "outputs": [
    {
     "name": "stdout",
     "output_type": "stream",
     "text": [
      "(600,)\n",
      "(54,)\n"
     ]
    },
    {
     "data": {
      "text/plain": [
       "14058                         laws-of-animal-sacrifices\n",
       "6152                                hilchot-chol-hamoed\n",
       "26997                         laws-of-judges-and-courts\n",
       "5578     procedures-for-judges-and-conduct-towards-them\n",
       "27227                                            prayer\n",
       "30745                                             kings\n",
       "1441               laws-of-transferring-between-domains\n",
       "36095    procedures-for-judges-and-conduct-towards-them\n",
       "15416                         laws-of-animal-sacrifices\n",
       "21603                         laws-of-judges-and-courts\n",
       "48660    procedures-for-judges-and-conduct-towards-them\n",
       "29638                               hilchot-chol-hamoed\n",
       "24286                         laws-of-animal-sacrifices\n",
       "27095                               hilchot-chol-hamoed\n",
       "11925                                            prayer\n",
       "37023    procedures-for-judges-and-conduct-towards-them\n",
       "25345    procedures-for-judges-and-conduct-towards-them\n",
       "43997               financial-ramifications-of-marriage\n",
       "24250    procedures-for-judges-and-conduct-towards-them\n",
       "34869                                            prayer\n",
       "6164     procedures-for-judges-and-conduct-towards-them\n",
       "35270                         laws-of-judges-and-courts\n",
       "42692                                          idolatry\n",
       "41381                               hilchot-chol-hamoed\n",
       "47631              laws-of-transferring-between-domains\n",
       "44571               financial-ramifications-of-marriage\n",
       "34168              laws-of-transferring-between-domains\n",
       "44179                                          learning\n",
       "7383                                             prayer\n",
       "1553     procedures-for-judges-and-conduct-towards-them\n",
       "43883    procedures-for-judges-and-conduct-towards-them\n",
       "40469                                          idolatry\n",
       "7320                                           idolatry\n",
       "37656    procedures-for-judges-and-conduct-towards-them\n",
       "40486              laws-of-transferring-between-domains\n",
       "39781               financial-ramifications-of-marriage\n",
       "29741                         laws-of-animal-sacrifices\n",
       "7820     procedures-for-judges-and-conduct-towards-them\n",
       "24150               financial-ramifications-of-marriage\n",
       "47729               financial-ramifications-of-marriage\n",
       "4287               laws-of-transferring-between-domains\n",
       "18014    procedures-for-judges-and-conduct-towards-them\n",
       "47933                                            prayer\n",
       "38867                                          learning\n",
       "43286                         laws-of-animal-sacrifices\n",
       "28641                                            prayer\n",
       "5790                                              kings\n",
       "20232                                             kings\n",
       "46868               financial-ramifications-of-marriage\n",
       "13094                                            prayer\n",
       "40056    procedures-for-judges-and-conduct-towards-them\n",
       "19701    procedures-for-judges-and-conduct-towards-them\n",
       "32740               financial-ramifications-of-marriage\n",
       "33142                                          idolatry\n",
       "dtype: object"
      ]
     },
     "execution_count": 105,
     "metadata": {},
     "output_type": "execute_result"
    }
   ],
   "source": [
    "result = y_test.apply(get_animal, axis=1)\n",
    "# result = result.rank()\n",
    "print(result.shape)\n",
    "result = result.dropna()\n",
    "print(result.shape)\n",
    "result"
   ]
  },
  {
   "cell_type": "code",
   "execution_count": 72,
   "metadata": {},
   "outputs": [
    {
     "ename": "AttributeError",
     "evalue": "'Series' object has no attribute 'columns'",
     "output_type": "error",
     "traceback": [
      "\u001b[0;31m---------------------------------------------------------------------------\u001b[0m",
      "\u001b[0;31mAttributeError\u001b[0m                            Traceback (most recent call last)",
      "\u001b[0;32m<ipython-input-72-7fb7f1761a6d>\u001b[0m in \u001b[0;36m<module>\u001b[0;34m\u001b[0m\n\u001b[0;32m----> 1\u001b[0;31m \u001b[0mresult\u001b[0m\u001b[0;34m.\u001b[0m\u001b[0mcolumns\u001b[0m\u001b[0;34m\u001b[0m\u001b[0;34m\u001b[0m\u001b[0m\n\u001b[0m",
      "\u001b[0;32m/usr/local/lib/python3.7/site-packages/pandas/core/generic.py\u001b[0m in \u001b[0;36m__getattr__\u001b[0;34m(self, name)\u001b[0m\n\u001b[1;32m   5268\u001b[0m             \u001b[0;32mor\u001b[0m \u001b[0mname\u001b[0m \u001b[0;32min\u001b[0m \u001b[0mself\u001b[0m\u001b[0;34m.\u001b[0m\u001b[0m_accessors\u001b[0m\u001b[0;34m\u001b[0m\u001b[0;34m\u001b[0m\u001b[0m\n\u001b[1;32m   5269\u001b[0m         ):\n\u001b[0;32m-> 5270\u001b[0;31m             \u001b[0;32mreturn\u001b[0m \u001b[0mobject\u001b[0m\u001b[0;34m.\u001b[0m\u001b[0m__getattribute__\u001b[0m\u001b[0;34m(\u001b[0m\u001b[0mself\u001b[0m\u001b[0;34m,\u001b[0m \u001b[0mname\u001b[0m\u001b[0;34m)\u001b[0m\u001b[0;34m\u001b[0m\u001b[0;34m\u001b[0m\u001b[0m\n\u001b[0m\u001b[1;32m   5271\u001b[0m         \u001b[0;32melse\u001b[0m\u001b[0;34m:\u001b[0m\u001b[0;34m\u001b[0m\u001b[0;34m\u001b[0m\u001b[0m\n\u001b[1;32m   5272\u001b[0m             \u001b[0;32mif\u001b[0m \u001b[0mself\u001b[0m\u001b[0;34m.\u001b[0m\u001b[0m_info_axis\u001b[0m\u001b[0;34m.\u001b[0m\u001b[0m_can_hold_identifiers_and_holds_name\u001b[0m\u001b[0;34m(\u001b[0m\u001b[0mname\u001b[0m\u001b[0;34m)\u001b[0m\u001b[0;34m:\u001b[0m\u001b[0;34m\u001b[0m\u001b[0;34m\u001b[0m\u001b[0m\n",
      "\u001b[0;31mAttributeError\u001b[0m: 'Series' object has no attribute 'columns'"
     ]
    }
   ],
   "source": [
    "result.columns"
   ]
  },
  {
   "cell_type": "code",
   "execution_count": 66,
   "metadata": {},
   "outputs": [
    {
     "data": {
      "text/plain": [
       "34575    None\n",
       "28558    None\n",
       "42844    None\n",
       "3143     None\n",
       "12947    None\n",
       "dtype: object"
      ]
     },
     "execution_count": 66,
     "metadata": {},
     "output_type": "execute_result"
    }
   ],
   "source": [
    "result[''] = df.groupby('Auction_ID')['Bid_Price'].rank(ascending=False)\n",
    "\n",
    "result.head()"
   ]
  },
  {
   "cell_type": "code",
   "execution_count": null,
   "metadata": {},
   "outputs": [],
   "source": []
  },
  {
   "cell_type": "code",
   "execution_count": null,
   "metadata": {},
   "outputs": [],
   "source": []
  },
  {
   "cell_type": "code",
   "execution_count": 57,
   "metadata": {},
   "outputs": [
    {
     "data": {
      "text/plain": [
       "scipy.sparse.lil.lil_matrix"
      ]
     },
     "execution_count": 57,
     "metadata": {},
     "output_type": "execute_result"
    }
   ],
   "source": [
    "type(predictions_new)"
   ]
  },
  {
   "cell_type": "code",
   "execution_count": null,
   "metadata": {},
   "outputs": [],
   "source": []
  },
  {
   "cell_type": "code",
   "execution_count": 299,
   "metadata": {},
   "outputs": [],
   "source": [
    "import re\n",
    "import nltk\n",
    "import sklearn\n",
    "import matplotlib\n",
    "import numpy as np\n",
    "import pandas as pd\n",
    "import seaborn as sns\n",
    "import sklearn.model_selection\n",
    "import matplotlib.pyplot as plt\n",
    "\n",
    "from tqdm import tqdm\n",
    "from bs4 import BeautifulSoup\n",
    "from datetime import datetime\n",
    "from nltk.corpus import stopwords\n",
    "from sklearn.svm import LinearSVC\n",
    "from nltk.stem import SnowballStemmer\n",
    "from sklearn.pipeline import Pipeline\n",
    "from sklearn.metrics import accuracy_score\n",
    "from sklearn.naive_bayes import MultinomialNB\n",
    "from gensim.parsing.preprocessing import STOPWORDS\n",
    "from sklearn.multiclass import OneVsRestClassifier\n",
    "from sklearn.linear_model import LogisticRegression\n",
    "from sklearn.model_selection import train_test_split\n",
    "from sklearn.feature_extraction.text import TfidfVectorizer\n",
    "\n",
    "# my_example_topics = ['prayer', 'procedures-for-judges-and-conduct-towards-them', 'learning', 'kings', 'hilchot-chol-hamoed', 'laws-of-judges-and-courts', 'laws-of-animal-sacrifices', 'financial-ramifications-of-marriage', 'idolatry', 'laws-of-transferring-between-domains']\n",
    "# my_example_topics = ['prayer', 'procedures-for-judges-and-conduct-towards-them']\n",
    "# my_example_topics = ['prayer']\n",
    "\n",
    "stemmer = SnowballStemmer('english')\n",
    "\n",
    "class DataManager:\n",
    "    \"\"\"\n",
    "    1 input:\n",
    "\n",
    "    - raw data: pandas dataframe (heneforth \"df\")\n",
    "\n",
    "    3 tasks:\n",
    "\n",
    "    - clean data\n",
    "        - keep only three columns: Ref, En, and Topics\n",
    "        - remove rows with null Ref or En\n",
    "        - remove duplicated rows\n",
    "        - add parsed_Ref column to show just relevant subject\n",
    "            - e.g. \"Mishna Torah, Shabbat, 4:7\" --> \"shabbat\"\n",
    "        - clean En column\n",
    "\n",
    "    - breakdown topics\n",
    "        - one-hot-encode the list from Topics column\n",
    "        - present number of topic occurrences\n",
    "\n",
    "    -divide data\n",
    "        - divide labeled from unlabeled.\n",
    "        - within labeled, split into train and test set.\n",
    "\n",
    "    \"\"\"\n",
    "    def __init__(self, raw, num_topics, should_clean = True, should_stem = False):\n",
    "        self.raw = raw\n",
    "        self.num_topics = num_topics\n",
    "        self.should_clean = should_clean\n",
    "        self.should_stem = should_stem\n",
    "\n",
    "    def _select_columns(self):\n",
    "        df = self.raw\n",
    "        return df[[\n",
    "            'Ref',\n",
    "            'En','Topics']]\n",
    "\n",
    "    def _remove_null(self):\n",
    "        df = self._select_columns()\n",
    "        rows_before = df.shape[0]\n",
    "        df = df.dropna(subset=['Ref', 'En'])\n",
    "        rows_after = df.shape[0]\n",
    "        # print(f\"Dropped {rows_before - rows_after} nulls!\")\n",
    "        return df\n",
    "\n",
    "    def _remove_duplicates(self):\n",
    "        df = self._remove_null()\n",
    "        rows_before = df.shape[0]\n",
    "        df = df.drop_duplicates()\n",
    "        rows_after = df.shape[0]\n",
    "        # print(f\"Dropped {rows_before - rows_after} duplicates!\")\n",
    "        return df\n",
    "\n",
    "    def _get_ref_features(self,input_string):\n",
    "        \"\"\"\n",
    "        Given a string, produce the substring that lies \n",
    "        after the last comma (if any) but \n",
    "        before the numbers at the end (if any).\n",
    "        \"\"\"\n",
    "        result = input_string # init\n",
    "        \n",
    "        # get rid of everything before last comma\n",
    "        last_comma = input_string.rfind(', ')\n",
    "        if last_comma != -1:\n",
    "            result = input_string[last_comma + 2:]\n",
    "\n",
    "        # keep only letters and spaces\n",
    "        result = ''.join(char for char in result if char.isalpha() or char == ' ')\n",
    "\n",
    "        # remove single chars\n",
    "        result = ' '.join( [w for w in result.split() if len(w)>1] )\n",
    "        \n",
    "        return result\n",
    "\n",
    "    def _add_ref_features(self):\n",
    "        df = self._remove_duplicates()\n",
    "        df['ref_features'] = df.Ref.apply(self._get_ref_features)\n",
    "        return df\n",
    "\n",
    "    def _clean_text(self, sentence):\n",
    "        # HTML decoding\n",
    "        sentence = BeautifulSoup(sentence, \"lxml\").text \n",
    "        # lowercase text\n",
    "        sentence = sentence.lower() \n",
    "        # Remove punctuations and numbers\n",
    "        sentence = re.sub('[^a-zA-Z]', ' ', sentence)\n",
    "        # Single character removal\n",
    "        sentence = re.sub(r\"\\s+[a-zA-Z]\\s+\", ' ', sentence)\n",
    "        # Removing multiple spaces\n",
    "        sentence = re.sub(r'\\s+', ' ', sentence)\n",
    "        # Removing stopwords\n",
    "        sentence = ' '.join(word for word in sentence.split() if word not in STOPWORDS) # delete stopwors from text\n",
    "        return sentence\n",
    "\n",
    "\n",
    "    def _stem_text(self, sentence):\n",
    "        # instantiate stemmer class\n",
    "        # stemmer = SnowballStemmer('english')\n",
    "\n",
    "        # stem sentence\n",
    "        sentence = ' '.join(stemmer.stem(word) for word in sentence.split())\n",
    "        return sentence\n",
    "\n",
    "\n",
    "    def _clean_columns(self):\n",
    "        \n",
    "        df = self._add_ref_features()\n",
    "        \n",
    "        if self.should_clean:\n",
    "            df.En = df.En.apply(self._clean_text)\n",
    "        \n",
    "        if self.should_stem:\n",
    "            df.En = df.En.apply(self._stem_text)\n",
    "        \n",
    "        return df\n",
    "\n",
    "    def _add_topic_columns(self):\n",
    "        df = self._clean_columns()\n",
    "        start_time = datetime.now()\n",
    "        df = pd.concat([df, df['Topics'].str.get_dummies(sep=' ')], axis=1)\n",
    "#         cols = ['Ref', \n",
    "#         # 'ref_features',\n",
    "#         'En','Topics'] + my_example_topics\n",
    "#         df = df[cols]\n",
    "        # df = df.loc[df['prayer'] + df['procedures-for-judges-and-conduct-towards-them'] > 0]\n",
    "        # df = df.loc[df['prayer'] > 0]\n",
    "        return df\n",
    "\n",
    "\n",
    "    def get_top_topics(self):\n",
    "\n",
    "        df = self._add_topic_columns()\n",
    "        df_topics = df.drop(['Ref', 'ref_features','En','Topics',\n",
    "        # 'Extended-topics'\n",
    "        ], axis=1)\n",
    "\n",
    "        counts = []\n",
    "        topics = list(df_topics.columns.values)\n",
    "\n",
    "        print(\"\\nCounting occurrences of each topic\")\n",
    "        for topic in tqdm(topics):\n",
    "            counts.append((topic, df_topics[topic].sum()))\n",
    "\n",
    "        df_stats = pd.DataFrame(counts, columns=['topic', 'occurrences'])\n",
    "        df_stats_sorted = df_stats.sort_values(by=['occurrences'], ascending=False)\n",
    "        top_topics_df = df_stats_sorted[:self.num_topics]\n",
    "        return top_topics_df\n",
    "\n",
    "\n",
    "    def _get_labeled(self):\n",
    "        df = self._add_topic_columns()\n",
    "        print('Shape of labeled data:',df.shape)\n",
    "        return df[df.Topics.notnull()]\n",
    "        \n",
    "    def _get_unlabeled(self):\n",
    "        df = self._add_topic_columns()\n",
    "        print('Shape of unlabeled data:',df.shape)\n",
    "        return df[df.Topics.isnull()]\n",
    "\n",
    "    def get_train_and_test(self):\n",
    "        labeled_data = self._get_labeled()\n",
    "        train, test = labeled_data[:-1], labeled_data[-5:]\n",
    "        train, test = sklearn.model_selection.train_test_split(labeled_data,random_state=42, test_size=0.33, \n",
    "#         shuffle=True\n",
    "        )\n",
    "        return train, test\n",
    "\n",
    "\n",
    "class PipelineFactory:\n",
    "\n",
    "    def __init__(self, model_code):\n",
    "        self.model_code = model_code\n",
    "        self.stop_words = set(stopwords.words('english'))\n",
    "        self.pipelines = {\n",
    "            \"MultNB\":Pipeline([\n",
    "                ('tfidf', TfidfVectorizer(stop_words=self.stop_words)),\n",
    "                ('clf', OneVsRestClassifier(MultinomialNB(fit_prior=True, class_prior=None))),\n",
    "                ]),\n",
    "            \"LinSVC\":Pipeline([\n",
    "                ('tfidf', TfidfVectorizer(stop_words=self.stop_words)),\n",
    "                ('clf', OneVsRestClassifier(LinearSVC(), n_jobs=1)),\n",
    "                ]),\n",
    "            \"LogReg\":Pipeline([\n",
    "                ('tfidf', TfidfVectorizer(stop_words=self.stop_words)),\n",
    "                ('clf', OneVsRestClassifier(LogisticRegression(solver='sag',max_iter=1000), n_jobs=1)),\n",
    "                ])\n",
    "        }\n",
    "\n",
    "    def get_pipeline(self):\n",
    "        return self.pipelines[self.model_code]\n",
    "\n",
    "\n",
    "# # class Classifier\n",
    "# # class Evaluator\n"
   ]
  },
  {
   "cell_type": "code",
   "execution_count": null,
   "metadata": {},
   "outputs": [],
   "source": [
    "# init data manager class\n",
    "data_manager = DataManager(raw = df, num_topics = NUM_TOPICS)\n",
    "df = data_manager._add_topic_columns()\n",
    "df.head()"
   ]
  },
  {
   "cell_type": "code",
   "execution_count": null,
   "metadata": {},
   "outputs": [],
   "source": [
    "df.info()"
   ]
  },
  {
   "cell_type": "code",
   "execution_count": null,
   "metadata": {},
   "outputs": [],
   "source": [
    "data_raw = df.drop(['ref_features','Topics'],axis=1)\n",
    "data_raw = data_raw[['abraham',\n",
    " 'dinei-yibum',\n",
    " 'financial-ramifications-of-marriage',\n",
    " 'hilchot-kiddushin',\n",
    " 'laws-of-animal-sacrifices',\n",
    " 'laws-of-holidays',\n",
    " 'laws-of-judges-and-courts',\n",
    " 'laws-of-the-impurity-and-prohibition-of-a-menstruant-woman',\n",
    " 'laws-of-the-prohibitions-of-eating-meat',\n",
    " 'laws-of-transferring-between-domains',\n",
    " 'learning',\n",
    " 'moses',\n",
    " 'prayer',\n",
    " 'procedures-for-judges-and-conduct-towards-them',\n",
    " 'rabbinically-forbidden-activities-on-shabbat',\n",
    " 'torah',\n",
    " 'women']]\n",
    "missing_values_check = data_raw.isnull().sum()\n",
    "print(missing_values_check)"
   ]
  },
  {
   "cell_type": "code",
   "execution_count": null,
   "metadata": {},
   "outputs": [],
   "source": [
    "rowSums = data_raw.iloc[:,2:].sum(axis=1)\n",
    "untopicized_passage_count = (rowSums==0).sum(axis=0)\n",
    "\n",
    "print(\"Total number of topicized passages =\",len(data_raw))\n",
    "print(\"Number of untopicized passages =\",untopicized_passage_count)\n",
    "print(\"Number of passages with labels =\",(len(data_raw)-untopicized_passage_count))"
   ]
  },
  {
   "cell_type": "code",
   "execution_count": null,
   "metadata": {},
   "outputs": [],
   "source": [
    "categories = list(data_raw.columns.values)\n",
    "categories = categories[2:]\n",
    "print(categories)"
   ]
  },
  {
   "cell_type": "code",
   "execution_count": null,
   "metadata": {},
   "outputs": [],
   "source": [
    "\n",
    "# Calculating number of comments in each category\n",
    "\n",
    "counts = []\n",
    "for category in categories:\n",
    "    counts.append((category, data_raw[category].sum()))\n",
    "df_stats = pd.DataFrame(counts, columns=['category', 'number of comments'])\n",
    "df_stats"
   ]
  },
  {
   "cell_type": "code",
   "execution_count": null,
   "metadata": {},
   "outputs": [],
   "source": [
    "categories = list(df_stats.loc[df_stats['number of comments'] > 50]['category'])\n",
    "categories"
   ]
  },
  {
   "cell_type": "code",
   "execution_count": null,
   "metadata": {},
   "outputs": [],
   "source": [
    "data_raw = data_raw[categories]\n",
    "data_raw"
   ]
  },
  {
   "cell_type": "code",
   "execution_count": null,
   "metadata": {},
   "outputs": [],
   "source": [
    "sns.set(font_scale = 2)\n",
    "plt.figure(figsize=(15,8))\n",
    "\n",
    "ax= sns.barplot(categories, data_raw.iloc[:,2:].sum().values)\n",
    "\n",
    "plt.title(\"Comments in each category\", fontsize=24)\n",
    "plt.ylabel('Number of comments', fontsize=18)\n",
    "plt.xlabel('Comment Type ', fontsize=18)\n",
    "\n",
    "#adding the text labels\n",
    "rects = ax.patches\n",
    "labels = data_raw.iloc[:,2:].sum().values\n",
    "for rect, label in zip(rects, labels):\n",
    "    height = rect.get_height()\n",
    "    ax.text(rect.get_x() + rect.get_width()/2, height + 5, label, ha='center', va='bottom', fontsize=18)\n",
    "\n",
    "plt.show()"
   ]
  },
  {
   "cell_type": "code",
   "execution_count": null,
   "metadata": {},
   "outputs": [],
   "source": [
    "\n",
    "rowSums = data_raw.iloc[:,2:].sum(axis=1)\n",
    "multiLabel_counts = rowSums.value_counts()\n",
    "multiLabel_counts = multiLabel_counts.iloc[1:]\n",
    "\n",
    "sns.set(font_scale = 2)\n",
    "plt.figure(figsize=(15,8))\n",
    "\n",
    "ax = sns.barplot(multiLabel_counts.index, multiLabel_counts.values)\n",
    "\n",
    "plt.title(\"Comments having multiple labels \")\n",
    "plt.ylabel('Number of comments', fontsize=18)\n",
    "plt.xlabel('Number of labels', fontsize=18)\n",
    "\n",
    "#adding the text labels\n",
    "rects = ax.patches\n",
    "labels = multiLabel_counts.values\n",
    "for rect, label in zip(rects, labels):\n",
    "    height = rect.get_height()\n",
    "    ax.text(rect.get_x() + rect.get_width()/2, height + 5, label, ha='center', va='bottom')\n",
    "\n",
    "plt.show()"
   ]
  },
  {
   "cell_type": "code",
   "execution_count": null,
   "metadata": {},
   "outputs": [],
   "source": []
  },
  {
   "cell_type": "code",
   "execution_count": null,
   "metadata": {},
   "outputs": [],
   "source": [
    "start_time = datetime.now()\n",
    "# split train and test data\n",
    "train, test = data_manager.get_train_and_test()\n",
    "print(f\"To fetch train and test took this much time --> {datetime.now() - start_time}.\")\n",
    "\n",
    "# select relevant input, e.g. words in passage\n",
    "X_train = train.En\n",
    "X_test = test.En"
   ]
  },
  {
   "cell_type": "code",
   "execution_count": null,
   "metadata": {},
   "outputs": [],
   "source": [
    "train.columns"
   ]
  },
  {
   "cell_type": "code",
   "execution_count": null,
   "metadata": {},
   "outputs": [],
   "source": [
    "X_train.head()"
   ]
  },
  {
   "cell_type": "code",
   "execution_count": null,
   "metadata": {},
   "outputs": [],
   "source": [
    "# MY_INDEX = 1\n",
    "MY_INDEX_LIST = range(5)\n",
    "for MY_INDEX in MY_INDEX_LIST:\n",
    "    print(f\"#{MY_INDEX}\")\n",
    "    print('\\n\\nACTUAL PASSAGE:', X_test.iloc[MY_INDEX])\n",
    "    print('\\nACTUAL TOPICS:', (test.iloc[MY_INDEX] == 1).idxmax(axis=1))"
   ]
  },
  {
   "cell_type": "code",
   "execution_count": 283,
   "metadata": {},
   "outputs": [],
   "source": [
    "from sklearn.feature_extraction.text import TfidfVectorizer\n",
    "vectorizer = TfidfVectorizer(strip_accents='unicode', analyzer='word', ngram_range=(1,3), norm='l2')\n",
    "vectorizer.fit(X_train)\n",
    "# vectorizer.fit(test_text)\n",
    "\n",
    "x_train = vectorizer.transform(X_train)\n",
    "y_train = train.drop(labels = ['Ref','En','Topics'], axis=1)\n",
    "\n",
    "x_test = vectorizer.transform(X_test)\n",
    "y_test = test.drop(labels = ['Ref','En','Topics'], axis=1)"
   ]
  },
  {
   "cell_type": "code",
   "execution_count": 284,
   "metadata": {},
   "outputs": [
    {
     "name": "stdout",
     "output_type": "stream",
     "text": [
      "reason sale considered mistaken transaction majority slaves like e thieves gamblers apparently majority followed monetary matters\n",
      "prayer                                            0\n",
      "procedures-for-judges-and-conduct-towards-them    0\n",
      "learning                                          0\n",
      "kings                                             0\n",
      "hilchot-chol-hamoed                               0\n",
      "laws-of-judges-and-courts                         0\n",
      "laws-of-animal-sacrifices                         0\n",
      "financial-ramifications-of-marriage               0\n",
      "idolatry                                          0\n",
      "laws-of-transferring-between-domains              0\n",
      "Name: 992, dtype: int64\n",
      "\n",
      "lends sela pauper time need verse states shall lord answer shall isaiah\n",
      "prayer                                            0\n",
      "procedures-for-judges-and-conduct-towards-them    0\n",
      "learning                                          0\n",
      "kings                                             0\n",
      "hilchot-chol-hamoed                               0\n",
      "laws-of-judges-and-courts                         0\n",
      "laws-of-animal-sacrifices                         0\n",
      "financial-ramifications-of-marriage               0\n",
      "idolatry                                          0\n",
      "laws-of-transferring-between-domains              0\n",
      "Name: 225, dtype: int64\n",
      "\n",
      "blessed god eaten goodness live\n",
      "prayer                                            0\n",
      "procedures-for-judges-and-conduct-towards-them    0\n",
      "learning                                          0\n",
      "kings                                             0\n",
      "hilchot-chol-hamoed                               0\n",
      "laws-of-judges-and-courts                         0\n",
      "laws-of-animal-sacrifices                         0\n",
      "financial-ramifications-of-marriage               0\n",
      "idolatry                                          0\n",
      "laws-of-transferring-between-domains              0\n",
      "Name: 955, dtype: int64\n",
      "\n",
      "man smite bondman bondwoman rod die hand shall surely punished\n",
      "prayer                                            0\n",
      "procedures-for-judges-and-conduct-towards-them    0\n",
      "learning                                          0\n",
      "kings                                             0\n",
      "hilchot-chol-hamoed                               1\n",
      "laws-of-judges-and-courts                         0\n",
      "laws-of-animal-sacrifices                         0\n",
      "financial-ramifications-of-marriage               0\n",
      "idolatry                                          0\n",
      "laws-of-transferring-between-domains              0\n",
      "Name: 334, dtype: int64\n",
      "\n",
      "baraita explains derived bring female goat money consecrated sin offering female lamb female lamb money consecrated sin offering female goat likewise derived bring doves pigeons money consecrated sin offering female lamb female goat tenth ephah fine flour money consecrated sin offering doves pigeons\n",
      "prayer                                            0\n",
      "procedures-for-judges-and-conduct-towards-them    0\n",
      "learning                                          0\n",
      "kings                                             0\n",
      "hilchot-chol-hamoed                               0\n",
      "laws-of-judges-and-courts                         0\n",
      "laws-of-animal-sacrifices                         0\n",
      "financial-ramifications-of-marriage               0\n",
      "idolatry                                          0\n",
      "laws-of-transferring-between-domains              0\n",
      "Name: 957, dtype: int64\n",
      "\n"
     ]
    }
   ],
   "source": [
    "for i in range(5):\n",
    "    print(X_train.iloc[i])\n",
    "    print(y_test.iloc[i])\n",
    "    print()"
   ]
  },
  {
   "cell_type": "code",
   "execution_count": 285,
   "metadata": {},
   "outputs": [
    {
     "data": {
      "text/plain": [
       "['prayer',\n",
       " 'procedures-for-judges-and-conduct-towards-them',\n",
       " 'learning',\n",
       " 'kings',\n",
       " 'hilchot-chol-hamoed',\n",
       " 'laws-of-judges-and-courts',\n",
       " 'laws-of-animal-sacrifices',\n",
       " 'financial-ramifications-of-marriage',\n",
       " 'idolatry',\n",
       " 'laws-of-transferring-between-domains']"
      ]
     },
     "execution_count": 285,
     "metadata": {},
     "output_type": "execute_result"
    }
   ],
   "source": [
    "from sklearn.pipeline import Pipeline\n",
    "from sklearn.metrics import accuracy_score, precision_score, recall_score\n",
    "from sklearn.multiclass import OneVsRestClassifier\n",
    "from sklearn.linear_model import LogisticRegression\n",
    "\n",
    "# Using pipeline for applying logistic regression and one vs rest classifier\n",
    "LogReg_pipeline = Pipeline([\n",
    "                ('clf', OneVsRestClassifier(LogisticRegression(solver='sag'), n_jobs=-1)),\n",
    "            ])\n",
    "\n",
    "categories = my_example_topics\n",
    "categories"
   ]
  },
  {
   "cell_type": "code",
   "execution_count": 286,
   "metadata": {},
   "outputs": [
    {
     "name": "stdout",
     "output_type": "stream",
     "text": [
      "\n",
      "**Processing prayer comments...**\n",
      "Test accuracy is 1.0\n",
      "\n",
      "**Processing procedures-for-judges-and-conduct-towards-them comments...**\n",
      "Test accuracy is 0.9864253393665159\n",
      "\n",
      "**Processing learning comments...**\n",
      "Test accuracy is 0.995475113122172\n",
      "\n",
      "**Processing kings comments...**\n",
      "Test accuracy is 0.9819004524886877\n",
      "\n",
      "**Processing hilchot-chol-hamoed comments...**\n",
      "Test accuracy is 0.9909502262443439\n",
      "\n",
      "**Processing laws-of-judges-and-courts comments...**\n",
      "Test accuracy is 0.9864253393665159\n",
      "\n",
      "**Processing laws-of-animal-sacrifices comments...**\n",
      "Test accuracy is 0.9909502262443439\n",
      "\n",
      "**Processing financial-ramifications-of-marriage comments...**\n",
      "Test accuracy is 0.9909502262443439\n",
      "\n",
      "**Processing idolatry comments...**\n",
      "Test accuracy is 0.9864253393665159\n",
      "\n",
      "**Processing laws-of-transferring-between-domains comments...**\n",
      "Test accuracy is 0.9864253393665159\n"
     ]
    }
   ],
   "source": [
    "for category in categories:\n",
    "    print('\\n**Processing {} comments...**'.format(category))\n",
    "    \n",
    "    # Training logistic regression model on train data\n",
    "    LogReg_pipeline.fit(x_train, train[category])\n",
    "    \n",
    "    # calculating test accuracy\n",
    "    prediction = LogReg_pipeline.predict(x_test)\n",
    "    print('Test accuracy is {}'.format(accuracy_score(test[category], prediction)))\n",
    "#     print('Test precision is {}'.format(precision_score(test[category], prediction)))\n",
    "#     print('Test recall is {}'.format(recall_score(test[category], prediction)))\n",
    "\n",
    "\n",
    "\n",
    "# sys.exit()"
   ]
  },
  {
   "cell_type": "code",
   "execution_count": null,
   "metadata": {},
   "outputs": [],
   "source": []
  },
  {
   "cell_type": "code",
   "execution_count": null,
   "metadata": {},
   "outputs": [],
   "source": []
  },
  {
   "cell_type": "code",
   "execution_count": null,
   "metadata": {},
   "outputs": [],
   "source": []
  },
  {
   "cell_type": "code",
   "execution_count": null,
   "metadata": {},
   "outputs": [],
   "source": []
  },
  {
   "cell_type": "code",
   "execution_count": 189,
   "metadata": {},
   "outputs": [
    {
     "name": "stdout",
     "output_type": "stream",
     "text": [
      "\n",
      "training passages 107\n",
      "testing passages 53\n"
     ]
    },
    {
     "ename": "KeyError",
     "evalue": "\"['ref_features'] not found in axis\"",
     "output_type": "error",
     "traceback": [
      "\u001b[0;31m---------------------------------------------------------------------------\u001b[0m",
      "\u001b[0;31mKeyError\u001b[0m                                  Traceback (most recent call last)",
      "\u001b[0;32m<ipython-input-189-0e85ca51afae>\u001b[0m in \u001b[0;36m<module>\u001b[0;34m\u001b[0m\n\u001b[1;32m      4\u001b[0m \u001b[0;34m\u001b[0m\u001b[0m\n\u001b[1;32m      5\u001b[0m \u001b[0;31m# get most poular topics\u001b[0m\u001b[0;34m\u001b[0m\u001b[0;34m\u001b[0m\u001b[0;34m\u001b[0m\u001b[0m\n\u001b[0;32m----> 6\u001b[0;31m \u001b[0mtop_topics_df\u001b[0m \u001b[0;34m=\u001b[0m \u001b[0mdata_manager\u001b[0m\u001b[0;34m.\u001b[0m\u001b[0mget_top_topics\u001b[0m\u001b[0;34m(\u001b[0m\u001b[0;34m)\u001b[0m\u001b[0;34m\u001b[0m\u001b[0;34m\u001b[0m\u001b[0m\n\u001b[0m\u001b[1;32m      7\u001b[0m \u001b[0mtop_topics_list\u001b[0m \u001b[0;34m=\u001b[0m \u001b[0mlist\u001b[0m\u001b[0;34m(\u001b[0m\u001b[0mtop_topics_df\u001b[0m\u001b[0;34m[\u001b[0m\u001b[0;34m'topic'\u001b[0m\u001b[0;34m]\u001b[0m\u001b[0;34m)\u001b[0m \u001b[0;31m# + ['ammon']\u001b[0m\u001b[0;34m\u001b[0m\u001b[0;34m\u001b[0m\u001b[0m\n\u001b[1;32m      8\u001b[0m \u001b[0mprint\u001b[0m\u001b[0;34m(\u001b[0m\u001b[0mtop_topics_list\u001b[0m\u001b[0;34m)\u001b[0m\u001b[0;34m\u001b[0m\u001b[0;34m\u001b[0m\u001b[0m\n",
      "\u001b[0;32m/persistent/Sefaria-Project/ML/scripts/classes.py\u001b[0m in \u001b[0;36mget_top_topics\u001b[0;34m(self)\u001b[0m\n\u001b[1;32m    164\u001b[0m         df_topics = df.drop(['Ref', 'ref_features','En','Topics',\n\u001b[1;32m    165\u001b[0m         \u001b[0;31m# 'Extended-topics'\u001b[0m\u001b[0;34m\u001b[0m\u001b[0;34m\u001b[0m\u001b[0;34m\u001b[0m\u001b[0m\n\u001b[0;32m--> 166\u001b[0;31m         ], axis=1)\n\u001b[0m\u001b[1;32m    167\u001b[0m \u001b[0;34m\u001b[0m\u001b[0m\n\u001b[1;32m    168\u001b[0m         \u001b[0mcounts\u001b[0m \u001b[0;34m=\u001b[0m \u001b[0;34m[\u001b[0m\u001b[0;34m]\u001b[0m\u001b[0;34m\u001b[0m\u001b[0;34m\u001b[0m\u001b[0m\n",
      "\u001b[0;32m/usr/local/lib/python3.7/site-packages/pandas/core/frame.py\u001b[0m in \u001b[0;36mdrop\u001b[0;34m(self, labels, axis, index, columns, level, inplace, errors)\u001b[0m\n\u001b[1;32m   3995\u001b[0m             \u001b[0mlevel\u001b[0m\u001b[0;34m=\u001b[0m\u001b[0mlevel\u001b[0m\u001b[0;34m,\u001b[0m\u001b[0;34m\u001b[0m\u001b[0;34m\u001b[0m\u001b[0m\n\u001b[1;32m   3996\u001b[0m             \u001b[0minplace\u001b[0m\u001b[0;34m=\u001b[0m\u001b[0minplace\u001b[0m\u001b[0;34m,\u001b[0m\u001b[0;34m\u001b[0m\u001b[0;34m\u001b[0m\u001b[0m\n\u001b[0;32m-> 3997\u001b[0;31m             \u001b[0merrors\u001b[0m\u001b[0;34m=\u001b[0m\u001b[0merrors\u001b[0m\u001b[0;34m,\u001b[0m\u001b[0;34m\u001b[0m\u001b[0;34m\u001b[0m\u001b[0m\n\u001b[0m\u001b[1;32m   3998\u001b[0m         )\n\u001b[1;32m   3999\u001b[0m \u001b[0;34m\u001b[0m\u001b[0m\n",
      "\u001b[0;32m/usr/local/lib/python3.7/site-packages/pandas/core/generic.py\u001b[0m in \u001b[0;36mdrop\u001b[0;34m(self, labels, axis, index, columns, level, inplace, errors)\u001b[0m\n\u001b[1;32m   3934\u001b[0m         \u001b[0;32mfor\u001b[0m \u001b[0maxis\u001b[0m\u001b[0;34m,\u001b[0m \u001b[0mlabels\u001b[0m \u001b[0;32min\u001b[0m \u001b[0maxes\u001b[0m\u001b[0;34m.\u001b[0m\u001b[0mitems\u001b[0m\u001b[0;34m(\u001b[0m\u001b[0;34m)\u001b[0m\u001b[0;34m:\u001b[0m\u001b[0;34m\u001b[0m\u001b[0;34m\u001b[0m\u001b[0m\n\u001b[1;32m   3935\u001b[0m             \u001b[0;32mif\u001b[0m \u001b[0mlabels\u001b[0m \u001b[0;32mis\u001b[0m \u001b[0;32mnot\u001b[0m \u001b[0;32mNone\u001b[0m\u001b[0;34m:\u001b[0m\u001b[0;34m\u001b[0m\u001b[0;34m\u001b[0m\u001b[0m\n\u001b[0;32m-> 3936\u001b[0;31m                 \u001b[0mobj\u001b[0m \u001b[0;34m=\u001b[0m \u001b[0mobj\u001b[0m\u001b[0;34m.\u001b[0m\u001b[0m_drop_axis\u001b[0m\u001b[0;34m(\u001b[0m\u001b[0mlabels\u001b[0m\u001b[0;34m,\u001b[0m \u001b[0maxis\u001b[0m\u001b[0;34m,\u001b[0m \u001b[0mlevel\u001b[0m\u001b[0;34m=\u001b[0m\u001b[0mlevel\u001b[0m\u001b[0;34m,\u001b[0m \u001b[0merrors\u001b[0m\u001b[0;34m=\u001b[0m\u001b[0merrors\u001b[0m\u001b[0;34m)\u001b[0m\u001b[0;34m\u001b[0m\u001b[0;34m\u001b[0m\u001b[0m\n\u001b[0m\u001b[1;32m   3937\u001b[0m \u001b[0;34m\u001b[0m\u001b[0m\n\u001b[1;32m   3938\u001b[0m         \u001b[0;32mif\u001b[0m \u001b[0minplace\u001b[0m\u001b[0;34m:\u001b[0m\u001b[0;34m\u001b[0m\u001b[0;34m\u001b[0m\u001b[0m\n",
      "\u001b[0;32m/usr/local/lib/python3.7/site-packages/pandas/core/generic.py\u001b[0m in \u001b[0;36m_drop_axis\u001b[0;34m(self, labels, axis, level, errors)\u001b[0m\n\u001b[1;32m   3968\u001b[0m                 \u001b[0mnew_axis\u001b[0m \u001b[0;34m=\u001b[0m \u001b[0maxis\u001b[0m\u001b[0;34m.\u001b[0m\u001b[0mdrop\u001b[0m\u001b[0;34m(\u001b[0m\u001b[0mlabels\u001b[0m\u001b[0;34m,\u001b[0m \u001b[0mlevel\u001b[0m\u001b[0;34m=\u001b[0m\u001b[0mlevel\u001b[0m\u001b[0;34m,\u001b[0m \u001b[0merrors\u001b[0m\u001b[0;34m=\u001b[0m\u001b[0merrors\u001b[0m\u001b[0;34m)\u001b[0m\u001b[0;34m\u001b[0m\u001b[0;34m\u001b[0m\u001b[0m\n\u001b[1;32m   3969\u001b[0m             \u001b[0;32melse\u001b[0m\u001b[0;34m:\u001b[0m\u001b[0;34m\u001b[0m\u001b[0;34m\u001b[0m\u001b[0m\n\u001b[0;32m-> 3970\u001b[0;31m                 \u001b[0mnew_axis\u001b[0m \u001b[0;34m=\u001b[0m \u001b[0maxis\u001b[0m\u001b[0;34m.\u001b[0m\u001b[0mdrop\u001b[0m\u001b[0;34m(\u001b[0m\u001b[0mlabels\u001b[0m\u001b[0;34m,\u001b[0m \u001b[0merrors\u001b[0m\u001b[0;34m=\u001b[0m\u001b[0merrors\u001b[0m\u001b[0;34m)\u001b[0m\u001b[0;34m\u001b[0m\u001b[0;34m\u001b[0m\u001b[0m\n\u001b[0m\u001b[1;32m   3971\u001b[0m             \u001b[0mresult\u001b[0m \u001b[0;34m=\u001b[0m \u001b[0mself\u001b[0m\u001b[0;34m.\u001b[0m\u001b[0mreindex\u001b[0m\u001b[0;34m(\u001b[0m\u001b[0;34m**\u001b[0m\u001b[0;34m{\u001b[0m\u001b[0maxis_name\u001b[0m\u001b[0;34m:\u001b[0m \u001b[0mnew_axis\u001b[0m\u001b[0;34m}\u001b[0m\u001b[0;34m)\u001b[0m\u001b[0;34m\u001b[0m\u001b[0;34m\u001b[0m\u001b[0m\n\u001b[1;32m   3972\u001b[0m \u001b[0;34m\u001b[0m\u001b[0m\n",
      "\u001b[0;32m/usr/local/lib/python3.7/site-packages/pandas/core/indexes/base.py\u001b[0m in \u001b[0;36mdrop\u001b[0;34m(self, labels, errors)\u001b[0m\n\u001b[1;32m   5016\u001b[0m         \u001b[0;32mif\u001b[0m \u001b[0mmask\u001b[0m\u001b[0;34m.\u001b[0m\u001b[0many\u001b[0m\u001b[0;34m(\u001b[0m\u001b[0;34m)\u001b[0m\u001b[0;34m:\u001b[0m\u001b[0;34m\u001b[0m\u001b[0;34m\u001b[0m\u001b[0m\n\u001b[1;32m   5017\u001b[0m             \u001b[0;32mif\u001b[0m \u001b[0merrors\u001b[0m \u001b[0;34m!=\u001b[0m \u001b[0;34m\"ignore\"\u001b[0m\u001b[0;34m:\u001b[0m\u001b[0;34m\u001b[0m\u001b[0;34m\u001b[0m\u001b[0m\n\u001b[0;32m-> 5018\u001b[0;31m                 \u001b[0;32mraise\u001b[0m \u001b[0mKeyError\u001b[0m\u001b[0;34m(\u001b[0m\u001b[0;34mf\"{labels[mask]} not found in axis\"\u001b[0m\u001b[0;34m)\u001b[0m\u001b[0;34m\u001b[0m\u001b[0;34m\u001b[0m\u001b[0m\n\u001b[0m\u001b[1;32m   5019\u001b[0m             \u001b[0mindexer\u001b[0m \u001b[0;34m=\u001b[0m \u001b[0mindexer\u001b[0m\u001b[0;34m[\u001b[0m\u001b[0;34m~\u001b[0m\u001b[0mmask\u001b[0m\u001b[0;34m]\u001b[0m\u001b[0;34m\u001b[0m\u001b[0;34m\u001b[0m\u001b[0m\n\u001b[1;32m   5020\u001b[0m         \u001b[0;32mreturn\u001b[0m \u001b[0mself\u001b[0m\u001b[0;34m.\u001b[0m\u001b[0mdelete\u001b[0m\u001b[0;34m(\u001b[0m\u001b[0mindexer\u001b[0m\u001b[0;34m)\u001b[0m\u001b[0;34m\u001b[0m\u001b[0;34m\u001b[0m\u001b[0m\n",
      "\u001b[0;31mKeyError\u001b[0m: \"['ref_features'] not found in axis\""
     ]
    }
   ],
   "source": [
    "# get shape\n",
    "print('\\ntraining passages',X_train.shape[0])\n",
    "print('testing passages',X_test.shape[0])\n",
    "\n",
    "# get most poular topics\n",
    "top_topics_df = data_manager.get_top_topics()\n",
    "top_topics_list = list(top_topics_df['topic']) # + ['ammon']\n",
    "print(top_topics_list)\n",
    "# top_topics = 'laws-of-judges-and-courts judgements1 laws-of-setting-the-months-and-leap-years sanhedrin'.split()\n",
    "# top_topics = 'ammon'.split()\n",
    "# top_topics = 'fate-of-the-nations-of-the-world punishment'.split()"
   ]
  },
  {
   "cell_type": "code",
   "execution_count": null,
   "metadata": {},
   "outputs": [],
   "source": [
    "# select a model: Linear SVC, Multinimial Naive-Bayes, or Logistic Regression\n",
    "pipeline = PipelineFactory(\n",
    "    # 'LinSVC'\n",
    "    'LogReg'\n",
    "    # 'MultNB' # seems buggy! predicts all zeroes!\n",
    "    ).get_pipeline()\n",
    "\n",
    "\n",
    "# init\n",
    "topic_accuracies_testing = {}\n",
    "topic_accuracies_training = {}\n",
    "\n",
    "# for each topic, train (i.e. \"fit\") and classify (\"predict\") and evaulate\n",
    "print(f'For each topic, the model is: training, predicting, and evaluating.')\n",
    "# for topic in tqdm(top_topics_list):\n",
    "for topic in top_topics_list:\n",
    "    \n",
    "    # train the model \n",
    "    pipeline.fit(X_train, train[topic])\n",
    "\n",
    "    # make predictions\n",
    "    prediction_training = pipeline.predict(X_train)\n",
    "    prediction_testing = pipeline.predict(X_test)\n",
    "\n",
    "    for i in range(test.shape[0]):\n",
    "        if prediction_testing[i] != 0:\n",
    "\n",
    "    # for i in range(train.shape[0]):\n",
    "    #     if prediction_training[i] != 0:\n",
    "\n",
    "            print(f\"{topic} --> for test item #{i}!\")\n",
    "            # continue\n",
    "\n",
    "    # print(prediction_testing[test_index].shape)\n",
    "    # print(type(prediction_testing))\n",
    "    # print()\n",
    "    # my_prediction = pipeline.predict(X_test[test_index:test_index+1])\n",
    "\n",
    "    # evaluate and record performance\n",
    "    train_accuracy = accuracy_score(train[topic], prediction_training)\n",
    "    topic_accuracies_training[topic] = round(train_accuracy,3)\n",
    "    \n",
    "    test_accuracy = accuracy_score(test[topic], prediction_testing)\n",
    "    topic_accuracies_testing[topic] = round(test_accuracy,3)\n",
    "\n",
    "# ranked_topic_accuracies = \n",
    "for topic in top_topics_list:\n",
    "# for topic, accuracy in topic_accuracies.items():\n",
    "    # if True:\n",
    "    if False:\n",
    "        print()\n",
    "        print(topic)\n",
    "        print(topic_accuracies_training[topic], '<--', \"train\")\n",
    "        print(topic_accuracies_testing[topic], '<--', \"test\")\n",
    "    continue\n",
    "\n",
    "\n",
    "\n",
    "selected_topics = []\n",
    "# selected_topics = [\"some topic\"]\n",
    "\n",
    "# selected_topics = [topic for topic in test.columns[4:] if test[:,topic] != 0]\n",
    "# for idx, selected_topic in enumerate(test.columns[:10]):\n",
    "\n",
    "for idx, selected_topic in enumerate(selected_topics):\n",
    "    print(idx, selected_topic)\n",
    "\n",
    "print(f\"\\nFinished at {datetime.now()} for {NUM_DATA_POINTS} rows and {NUM_TOPICS} topics!\")"
   ]
  },
  {
   "cell_type": "code",
   "execution_count": null,
   "metadata": {},
   "outputs": [],
   "source": []
  }
 ],
 "metadata": {
  "anaconda-cloud": {},
  "kernelspec": {
   "display_name": "Python 3",
   "language": "python",
   "name": "python3"
  }
 },
 "nbformat": 4,
 "nbformat_minor": 1
}
