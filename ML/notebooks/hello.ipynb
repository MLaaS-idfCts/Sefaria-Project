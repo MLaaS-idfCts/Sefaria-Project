{
 "cells": [
  {
   "cell_type": "markdown",
   "metadata": {},
   "source": [
    "Import libraries"
   ]
  },
  {
   "cell_type": "code",
   "execution_count": 1,
   "metadata": {},
   "outputs": [
    {
     "output_type": "stream",
     "name": "stdout",
     "text": "Success!\n"
    }
   ],
   "source": [
    "import pandas as pd\n",
    "import numpy as np\n",
    "print(\"Success!\")\n",
    "\n"
   ]
  },
  {
   "cell_type": "markdown",
   "metadata": {},
   "source": [
    "Load data"
   ]
  },
  {
   "cell_type": "code",
   "execution_count": 2,
   "metadata": {},
   "outputs": [
    {
     "output_type": "stream",
     "name": "stdout",
     "text": "Original shape: (174267, 5)\nAfter dropping nulls: (114802, 5)\nAfter dropping duplicates: (114802, 5)\n"
    },
    {
     "output_type": "execute_result",
     "data": {
      "text/plain": "                                      Ref  \\\n60463                      Arakhin 11b:16   \n77653  Shulchan Arukh, Even HaEzer 155:15   \n7043              Likutei Moharan 31:15:4   \n\n                                                      En  \\\n60463  The Gemara has still not proven whether or not...   \n77653  When she is checked it is done by approved wom...   \n7043   “<i>Hevel</i>” alludes to the <i>hevel</i> (br...   \n\n                                                      He  \\\n60463  ת\"ש רבי יוסי אומר מגלגלין זכות ליום זכאי וחובה...   \n77653  <i data-commentator=\"Be'er HaGolah\" data-label...   \n7043   הֶבֶל, הוּא בְּחִינַת הֶבֶל פֶּה, שֶׁמִּשָּׁם ...   \n\n                                  Topics  \\\n60463                         merit time   \n77653  principle-concepts-of-marital-law   \n7043         wanting-want tsaddik souls1   \n\n                                         Expanded Topics  \n60463  disposition time entity one-dimensional-tempor...  \n77653  entity continuant laws-of-marriage laws mitzvo...  \n7043   disposition entity tsaddik philosophy generica...  ",
      "text/html": "<div>\n<style scoped>\n    .dataframe tbody tr th:only-of-type {\n        vertical-align: middle;\n    }\n\n    .dataframe tbody tr th {\n        vertical-align: top;\n    }\n\n    .dataframe thead th {\n        text-align: right;\n    }\n</style>\n<table border=\"1\" class=\"dataframe\">\n  <thead>\n    <tr style=\"text-align: right;\">\n      <th></th>\n      <th>Ref</th>\n      <th>En</th>\n      <th>He</th>\n      <th>Topics</th>\n      <th>Expanded Topics</th>\n    </tr>\n  </thead>\n  <tbody>\n    <tr>\n      <th>60463</th>\n      <td>Arakhin 11b:16</td>\n      <td>The Gemara has still not proven whether or not...</td>\n      <td>ת\"ש רבי יוסי אומר מגלגלין זכות ליום זכאי וחובה...</td>\n      <td>merit time</td>\n      <td>disposition time entity one-dimensional-tempor...</td>\n    </tr>\n    <tr>\n      <th>77653</th>\n      <td>Shulchan Arukh, Even HaEzer 155:15</td>\n      <td>When she is checked it is done by approved wom...</td>\n      <td>&lt;i data-commentator=\"Be'er HaGolah\" data-label...</td>\n      <td>principle-concepts-of-marital-law</td>\n      <td>entity continuant laws-of-marriage laws mitzvo...</td>\n    </tr>\n    <tr>\n      <th>7043</th>\n      <td>Likutei Moharan 31:15:4</td>\n      <td>“&lt;i&gt;Hevel&lt;/i&gt;” alludes to the &lt;i&gt;hevel&lt;/i&gt; (br...</td>\n      <td>הֶבֶל, הוּא בְּחִינַת הֶבֶל פֶּה, שֶׁמִּשָּׁם ...</td>\n      <td>wanting-want tsaddik souls1</td>\n      <td>disposition entity tsaddik philosophy generica...</td>\n    </tr>\n  </tbody>\n</table>\n</div>"
     },
     "metadata": {},
     "execution_count": 2
    }
   ],
   "source": [
    "df = pd.read_csv('/root/Sefaria-Project/ML/data/yishai_data.csv')\n",
    "print(\"Original shape:\",df.shape)\n",
    "df.dropna(inplace=True)\n",
    "print(\"After dropping nulls:\",df.shape)\n",
    "df.drop_duplicates(inplace=True)\n",
    "print(\"After dropping duplicates:\",df.shape)\n",
    "df.sample(3)"
   ]
  },
  {
   "cell_type": "markdown",
   "metadata": {},
   "source": [
    "Split by topics"
   ]
  },
  {
   "cell_type": "code",
   "execution_count": null,
   "metadata": {},
   "outputs": [],
   "source": [
    "eng_df = df[['En','Topics']]\n",
    "eng_df['Topics'].str.get_dummies(sep=' ')\n"
   ]
  }
 ],
 "metadata": {
  "language_info": {
   "codemirror_mode": {
    "name": "ipython",
    "version": 3
   },
   "file_extension": ".py",
   "mimetype": "text/x-python",
   "name": "python",
   "nbconvert_exporter": "python",
   "pygments_lexer": "ipython3",
   "version": "3.7.5-final"
  },
  "orig_nbformat": 2,
  "kernelspec": {
   "name": "python37564bit375pyenv7a275cabd00a434e95b6ffccd3adbe7c",
   "display_name": "Python 3.7.5 64-bit ('3.7.5': pyenv)"
  }
 },
 "nbformat": 4,
 "nbformat_minor": 2
}