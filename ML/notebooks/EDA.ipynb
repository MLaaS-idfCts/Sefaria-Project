{
  "cells": [
    {
      "cell_type": "markdown",
      "metadata": {
        "id": "view-in-github",
        "colab_type": "text"
      },
      "source": [
        "<a href=\"https://colab.research.google.com/github/yishairasowsky/Sefaria-Project/blob/master/ML/EDA.ipynb\" target=\"_parent\"><img src=\"https://colab.research.google.com/assets/colab-badge.svg\" alt=\"Open In Colab\"/></a>"
      ]
    },
    {
      "cell_type": "code",
      "metadata": {
        "id": "fw9_wzjb54PP",
        "colab_type": "code",
        "colab": {}
      },
      "source": [
        "import pandas as pd\n",
        " \n"
      ],
      "execution_count": null,
      "outputs": []
    },
    {
      "cell_type": "code",
      "metadata": {
        "id": "IiGDEfhqe4tS",
        "colab_type": "code",
        "colab": {}
      },
      "source": [
        " \n",
        "single_class_stem_df = pd.read_pickle('/content/drive/My Drive/Colab Datasets/single_class_stem_df.pkl')\n",
        "single_class_stem_df.head()\n",
        "df = single_class_stem_df"
      ],
      "execution_count": null,
      "outputs": []
    },
    {
      "cell_type": "code",
      "metadata": {
        "id": "-WW2kRtMe1iX",
        "colab_type": "code",
        "colab": {
          "base_uri": "https://localhost:8080/",
          "height": 904
        },
        "outputId": "a2912f3b-8548-4e02-c6de-3523d33e6709"
      },
      "source": [
        "\n",
        "# topics_df = pd.read_pickle('/content/drive/My Drive/Colab Datasets/single_class_topics_df.pkl')\n",
        "\n",
        "# topics_df = pd.read_pickle('/root/Sefaria-Project/ML/data/stem_top_ten_single_topics_df.pkl')\n",
        "# topics_df = pd.read_pickledata/stem_top_ten_single_topics_df.pklkl')\n",
        "# topics_df.head()"
      ],
      "execution_count": null,
      "outputs": []
    },
    {
      "cell_type": "code",
      "metadata": {
        "id": "TXZkCQYdC026",
        "colab_type": "code",
        "outputId": "5031d131-4055-426a-c58b-eba91dfe1b8e",
        "colab": {
          "base_uri": "https://localhost:8080/",
          "height": 199
        }
      },
      "source": [
        "topics_list = list(topics_df.columns)[1:]\n",
        "hits = {topic:topics_df[topic].sum() for topic in topics_list}\n",
        "\n",
        "from collections import Counter\n",
        "counter = Counter(hits)\n",
        "top_ten = counter.most_common(10)\n",
        "for topic, num in top_ten:\n",
        "     print(f'{topic}: {num}')"
      ],
      "execution_count": null,
      "outputs": []
    },
    {
      "cell_type": "code",
      "metadata": {
        "id": "mPGnb8_-DDLH",
        "colab_type": "code",
        "outputId": "2ecb2a6c-a935-4521-addb-2c8894ae9a44",
        "colab": {
          "base_uri": "https://localhost:8080/",
          "height": 809
        }
      },
      "source": [
        "import matplotlib as plt\n",
        "\n",
        "fig_size = plt.rcParams[\"figure.figsize\"]\n",
        "fig_size[0] = 10\n",
        "fig_size[1] = 8\n",
        "\n",
        "df = pd.DataFrame(top_ten, columns=['Topic','Occurences'])\n",
        "df.plot(kind='bar', x='Topic')"
      ],
      "execution_count": null,
      "outputs": []
    },
    {
      "cell_type": "code",
      "metadata": {
        "id": "kBGGdZpdECj8",
        "colab_type": "code",
        "outputId": "9dba046f-045b-4fe2-e72b-ff5d8cc54cc1",
        "colab": {
          "base_uri": "https://localhost:8080/",
          "height": 199
        }
      },
      "source": [
        "# topics_df.columns[:10]\n",
        "top_ten_list = [item[0] for item in top_ten]\n",
        "top_ten_list"
      ],
      "execution_count": null,
      "outputs": []
    },
    {
      "cell_type": "code",
      "metadata": {
        "id": "Og23fPP_SJRz",
        "colab_type": "code",
        "outputId": "a1f2f013-2461-48c5-e386-02dc0e85ee03",
        "colab": {
          "base_uri": "https://localhost:8080/",
          "height": 561
        }
      },
      "source": [
        "# top_ten_topics_df = topics_df[['En'] + top_ten_list]\n",
        "top_ten_topics_df = topics_df[['En'] + top_ten_list]\n",
        "top_ten_topics_df.head()"
      ],
      "execution_count": null,
      "outputs": []
    },
    {
      "cell_type": "code",
      "metadata": {
        "id": "7w5UewWrTADn",
        "colab_type": "code",
        "colab": {}
      },
      "source": [
        "top_ten_topics_df.to_pickle('/content/drive/My Drive/Colab Datasets/top_ten_topics_df.pkl')"
      ],
      "execution_count": null,
      "outputs": []
    },
    {
      "cell_type": "code",
      "metadata": {
        "colab_type": "code",
        "outputId": "1f0a0036-e2c3-4da8-ead7-5c2a78039cd3",
        "id": "4Loeb03LS5Le",
        "colab": {
          "base_uri": "https://localhost:8080/",
          "height": 250
        }
      },
      "source": [
        "top_ten_labels_df = topics_df[top_ten_list]\n",
        "top_ten_labels_df.head()"
      ],
      "execution_count": null,
      "outputs": []
    },
    {
      "cell_type": "code",
      "metadata": {
        "id": "CYvkEhF6TITf",
        "colab_type": "code",
        "colab": {}
      },
      "source": [
        "top_ten_labels_df.to_pickle('/content/drive/My Drive/Colab Datasets/top_ten_labels_df.pkl')"
      ],
      "execution_count": null,
      "outputs": []
    },
    {
      "cell_type": "code",
      "metadata": {
        "id": "Uar-QNTWDKZl",
        "colab_type": "code",
        "outputId": "69935110-fa56-4505-df9c-29e5aab91293",
        "colab": {
          "base_uri": "https://localhost:8080/",
          "height": 1000
        }
      },
      "source": [
        "from wordcloud import WordCloud\n",
        "import matplotlib.pyplot as plt\n",
        "import nltk\n",
        "nltk.download('stopwords')\n",
        "\n",
        "\n",
        "stopwords = nltk.corpus.stopwords.words('english')\n",
        "newStopWords = ['one','say','said','may']\n",
        "stopwords.extend(newStopWords)\n",
        "\n",
        "for index, topic in enumerate(top_ten_list[:]):\n",
        "\n",
        "    words = ' '.join(list(topics_df[topics_df[topic] == 1]['En']))\n",
        "    wc = WordCloud(stopwords=stopwords).generate(words)\n",
        "    \n",
        "    plt.figure(\n",
        "        figsize = (8, 8), \n",
        "        facecolor = 'w')\n",
        "    plt.imshow(wc, interpolation=\"bilinear\")\n",
        "    plt.tight_layout(pad = 3)\n",
        "    plt.axis(\"off\")\n",
        "    plt.title(topic)\n",
        "\n",
        "plt.show()"
      ],
      "execution_count": null,
      "outputs": []
    },
    {
      "cell_type": "code",
      "metadata": {
        "id": "Mgpi-4R6yKi7",
        "colab_type": "code",
        "colab": {}
      },
      "source": [
        "# df = top_ten_topics_df[pd.notnull(top_ten_topics_df['En'])]\n",
        "# df = top_ten_topics_df[pd.notnull(top_ten_topics_df['En'])]"
      ],
      "execution_count": null,
      "outputs": []
    },
    {
      "cell_type": "code",
      "metadata": {
        "id": "nG46XH2Uysq0",
        "colab_type": "code",
        "colab": {
          "base_uri": "https://localhost:8080/",
          "height": 181
        },
        "outputId": "3eae08ff-14a3-47a0-fa8f-b80dc11ac77d"
      },
      "source": [
        "df.info()"
      ],
      "execution_count": null,
      "outputs": []
    },
    {
      "cell_type": "code",
      "metadata": {
        "id": "JfyGTIaVyxM4",
        "colab_type": "code",
        "colab": {}
      },
      "source": [
        "col = ['En', 'Topics']\n",
        "df = df[col]"
      ],
      "execution_count": null,
      "outputs": []
    },
    {
      "cell_type": "code",
      "metadata": {
        "id": "hnzIjZhly2jH",
        "colab_type": "code",
        "colab": {
          "base_uri": "https://localhost:8080/",
          "height": 35
        },
        "outputId": "8a57689a-ed6e-477f-c8cb-ec99187abb02"
      },
      "source": [
        "df.columns"
      ],
      "execution_count": null,
      "outputs": []
    },
    {
      "cell_type": "code",
      "metadata": {
        "id": "yV_CK9jty60T",
        "colab_type": "code",
        "colab": {}
      },
      "source": [
        "df.columns = ['En', 'Topics']"
      ],
      "execution_count": null,
      "outputs": []
    },
    {
      "cell_type": "code",
      "metadata": {
        "id": "VGIYUo2LzF6h",
        "colab_type": "code",
        "colab": {
          "base_uri": "https://localhost:8080/",
          "height": 126
        },
        "outputId": "fc3acb7f-1699-4a29-8549-1ff5415a6c49"
      },
      "source": [
        "df['category_id'] = df['Topics'].factorize()[0]\n",
        "from io import StringIO\n",
        "category_id_df = df[['Topics', 'category_id']].drop_duplicates().sort_values('category_id')\n",
        "category_to_id = dict(category_id_df.values)\n",
        "id_to_category = dict(category_id_df[['category_id', 'Topics']].values)"
      ],
      "execution_count": null,
      "outputs": []
    },
    {
      "cell_type": "code",
      "metadata": {
        "id": "kxnFHwwW4Cyq",
        "colab_type": "code",
        "colab": {
          "base_uri": "https://localhost:8080/",
          "height": 199
        },
        "outputId": "8e8df445-c455-4221-cba4-221e7d31c705"
      },
      "source": [
        "top_ten_list"
      ],
      "execution_count": null,
      "outputs": []
    },
    {
      "cell_type": "code",
      "metadata": {
        "id": "3att6SdRzMdm",
        "colab_type": "code",
        "colab": {
          "base_uri": "https://localhost:8080/",
          "height": 198
        },
        "outputId": "3fb320a7-31c9-4638-f854-a4a2c6434c9f"
      },
      "source": [
        "# df = df.loc[df['Topics'].to_string in top_ten_list]\n",
        "df = df[df.Topics.isin(top_ten_list)]\n",
        "\n",
        "# df = df.loc[df['Topics'].isin()]\n",
        "df.head()"
      ],
      "execution_count": null,
      "outputs": []
    },
    {
      "cell_type": "code",
      "metadata": {
        "id": "hX1x0Q1TzfoO",
        "colab_type": "code",
        "colab": {
          "base_uri": "https://localhost:8080/",
          "height": 683
        },
        "outputId": "247a61ca-538b-44f0-8f01-238531887add"
      },
      "source": [
        "import matplotlib.pyplot as plt\n",
        "fig = plt.figure(figsize=(8,6))\n",
        "\n",
        "# df.groupby(['Topic','category_id']).agg(lambda x:x.value_counts().index[0:3])\n",
        "\n",
        "df.groupby('Topics').En.count().plot.bar(ylim=0)\n",
        "plt.show()"
      ],
      "execution_count": null,
      "outputs": []
    },
    {
      "cell_type": "code",
      "metadata": {
        "id": "T-T-7nG35mqF",
        "colab_type": "code",
        "colab": {}
      },
      "source": [
        ""
      ],
      "execution_count": null,
      "outputs": []
    },
    {
      "cell_type": "code",
      "metadata": {
        "id": "Nb-Q3OGl2xHI",
        "colab_type": "code",
        "colab": {
          "base_uri": "https://localhost:8080/",
          "height": 35
        },
        "outputId": "3b901094-e6b4-4dda-a7ac-63571c5f6b62"
      },
      "source": [
        "\n",
        "from sklearn.feature_extraction.text import TfidfVectorizer\n",
        "\n",
        "tfidf = TfidfVectorizer(sublinear_tf=True, min_df=5, norm='l2', encoding='latin-1', ngram_range=(1, 2), stop_words='english')\n",
        "\n",
        "features = tfidf.fit_transform(df.En).toarray()\n",
        "labels = df.category_id\n",
        "features.shape"
      ],
      "execution_count": null,
      "outputs": []
    },
    {
      "cell_type": "code",
      "metadata": {
        "id": "A-62p9KF6HbE",
        "colab_type": "code",
        "colab": {
          "base_uri": "https://localhost:8080/",
          "height": 1000
        },
        "outputId": "54c03ae0-a5ea-41df-c532-a2f78af434be"
      },
      "source": [
        "from sklearn.feature_selection import chi2\n",
        "import numpy as np\n",
        "\n",
        "N = 3\n",
        "for Topic, category_id in sorted(category_to_id.items()):\n",
        "  features_chi2 = chi2(features, labels == category_id)\n",
        "  indices = np.argsort(features_chi2[0])\n",
        "  feature_names = np.array(tfidf.get_feature_names())[indices]\n",
        "  unigrams = [v for v in feature_names if len(v.split(' ')) == 1]\n",
        "  bigrams = [v for v in feature_names if len(v.split(' ')) == 2]\n",
        "  # trigrams = [v for v in feature_names if len(v.split(' ')) == 3]\n",
        "  print(\"# '{}':\".format(Topic))\n",
        "  print(\"  . Most correlated unigrams:\\n       . {}\".format('\\n       . '.join(unigrams[-N:])))\n",
        "  print(\"  . Most correlated bigrams:\\n       . {}\".format('\\n       . '.join(bigrams[-N:])))\n",
        "  # print(\"  . Most correlated trigrams:\\n       . {}\".format('\\n       . '.join(trigrams[-N:])))"
      ],
      "execution_count": null,
      "outputs": []
    },
    {
      "cell_type": "code",
      "metadata": {
        "id": "xIPRKk887UyC",
        "colab_type": "code",
        "colab": {}
      },
      "source": [
        "from sklearn.model_selection import train_test_split\n",
        "from sklearn.feature_extraction.text import CountVectorizer\n",
        "from sklearn.feature_extraction.text import TfidfTransformer\n",
        "from sklearn.naive_bayes import MultinomialNB\n",
        "\n",
        "X_train, X_test, y_train, y_test = train_test_split(df['En'], df['Topics'], random_state = 0)\n",
        "count_vect = CountVectorizer()\n",
        "X_train_counts = count_vect.fit_transform(X_train)\n",
        "tfidf_transformer = TfidfTransformer()\n",
        "X_train_tfidf = tfidf_transformer.fit_transform(X_train_counts)\n",
        "\n",
        "clf = MultinomialNB().fit(X_train_tfidf, y_train)"
      ],
      "execution_count": null,
      "outputs": []
    },
    {
      "cell_type": "code",
      "metadata": {
        "id": "0CLX3_w77dPX",
        "colab_type": "code",
        "colab": {
          "base_uri": "https://localhost:8080/",
          "height": 35
        },
        "outputId": "e8111b61-e522-4d7d-9123-5dc71886bcfa"
      },
      "source": [
        "print(clf.predict(count_vect.transform([\"You cannot cook milk with meat.\"])))\n"
      ],
      "execution_count": null,
      "outputs": []
    },
    {
      "cell_type": "code",
      "metadata": {
        "id": "Vtw8yaGN7uO-",
        "colab_type": "code",
        "colab": {
          "base_uri": "https://localhost:8080/",
          "height": 35
        },
        "outputId": "215f0a08-4c34-47dd-c35a-ac4a2530ee4f"
      },
      "source": [
        "print(clf.predict(count_vect.transform([\"The kohen could bring the blood to the altar.\"])))\n"
      ],
      "execution_count": null,
      "outputs": []
    },
    {
      "cell_type": "code",
      "metadata": {
        "id": "Y-I7_-ii78wE",
        "colab_type": "code",
        "colab": {}
      },
      "source": [
        "from sklearn.linear_model import LogisticRegression\n",
        "from sklearn.ensemble import RandomForestClassifier\n",
        "from sklearn.naive_bayes import MultinomialNB\n",
        "from sklearn.svm import LinearSVC\n",
        "\n",
        "from sklearn.model_selection import cross_val_score\n",
        "\n",
        "\n",
        "models = [\n",
        "    RandomForestClassifier(n_estimators=200, max_depth=3, random_state=0),\n",
        "    LinearSVC(),\n",
        "    MultinomialNB(),\n",
        "    LogisticRegression(random_state=0),\n",
        "]\n",
        "CV = 5\n",
        "cv_df = pd.DataFrame(index=range(CV * len(models)))\n",
        "entries = []\n",
        "for model in models:\n",
        "  model_name = model.__class__.__name__\n",
        "  accuracies = cross_val_score(model, features, labels, scoring='accuracy', cv=CV)\n",
        "  for fold_idx, accuracy in enumerate(accuracies):\n",
        "    entries.append((model_name, fold_idx, accuracy))\n",
        "cv_df = pd.DataFrame(entries, columns=['model_name', 'fold_idx', 'accuracy'])"
      ],
      "execution_count": null,
      "outputs": []
    },
    {
      "cell_type": "code",
      "metadata": {
        "id": "yoEjXPG08Khi",
        "colab_type": "code",
        "colab": {
          "base_uri": "https://localhost:8080/",
          "height": 555
        },
        "outputId": "57327be2-cda0-4ae1-cd6e-63886020863c"
      },
      "source": [
        "import seaborn as sns\n",
        "\n",
        "sns.boxplot(x='model_name', y='accuracy', data=cv_df)\n",
        "sns.stripplot(x='model_name', y='accuracy', data=cv_df, \n",
        "              size=8, jitter=True, edgecolor=\"gray\", linewidth=2)\n",
        "plt.show()"
      ],
      "execution_count": null,
      "outputs": []
    },
    {
      "cell_type": "code",
      "metadata": {
        "id": "EGUbPOf_8coB",
        "colab_type": "code",
        "colab": {
          "base_uri": "https://localhost:8080/",
          "height": 126
        },
        "outputId": "54201930-beaf-4c86-888f-7b09aecfb1c7"
      },
      "source": [
        "cv_df.groupby('model_name').accuracy.mean()\n"
      ],
      "execution_count": null,
      "outputs": []
    },
    {
      "cell_type": "code",
      "metadata": {
        "id": "-CwiGSeZ8hKO",
        "colab_type": "code",
        "colab": {}
      },
      "source": [
        "from sklearn.model_selection import train_test_split\n",
        "\n",
        "model = LinearSVC()\n",
        "\n",
        "X_train, X_test, y_train, y_test, indices_train, indices_test = train_test_split(features, labels, df.index, test_size=0.33, random_state=0)\n",
        "model.fit(X_train, y_train)\n",
        "y_pred = model.predict(X_test)"
      ],
      "execution_count": null,
      "outputs": []
    },
    {
      "cell_type": "code",
      "metadata": {
        "id": "qm6PZeSY8ibw",
        "colab_type": "code",
        "colab": {
          "base_uri": "https://localhost:8080/",
          "height": 683
        },
        "outputId": "21c6e0f9-bd07-43c3-a892-ec4a8145b1a0"
      },
      "source": [
        "\n",
        "from sklearn.metrics import confusion_matrix\n",
        "\n",
        "conf_mat = confusion_matrix(y_test, y_pred)\n",
        "fig, ax = plt.subplots(figsize=(8,6))\n",
        "sns.heatmap(conf_mat, annot=True, fmt='d',\n",
        "            xticklabels=category_id_df.Topics.values, yticklabels=category_id_df.Topics.values)\n",
        "plt.ylabel('Actual')\n",
        "plt.xlabel('Predicted')\n",
        "plt.show()"
      ],
      "execution_count": null,
      "outputs": []
    },
    {
      "cell_type": "code",
      "metadata": {
        "id": "ZEZlW3ym9Zr7",
        "colab_type": "code",
        "colab": {
          "base_uri": "https://localhost:8080/",
          "height": 572
        },
        "outputId": "ce9b5620-cbda-43bc-fb58-5c75d4d24fa4"
      },
      "source": [
        "\n",
        "from IPython.display import display\n",
        "\n",
        "for predicted in category_id_df.category_id:\n",
        "  for actual in category_id_df.category_id:\n",
        "    if predicted != actual and conf_mat[actual, predicted] >= 6:\n",
        "      print(\"'{}' predicted as '{}' : {} examples.\".format(id_to_category[actual], id_to_category[predicted], conf_mat[actual, predicted]))\n",
        "      display(df.loc[indices_test[(y_test == actual) & (y_pred == predicted)]][['Topics', 'En']])\n",
        "      print('')"
      ],
      "execution_count": null,
      "outputs": []
    },
    {
      "cell_type": "code",
      "metadata": {
        "id": "mWUl_qzW9mpO",
        "colab_type": "code",
        "colab": {}
      },
      "source": [
        ""
      ],
      "execution_count": null,
      "outputs": []
    },
    {
      "cell_type": "code",
      "metadata": {
        "id": "AVVvIgJRX000",
        "colab_type": "code",
        "colab": {}
      },
      "source": [
        "from sklearn.svm import LinearSVC\n",
        "model = LinearSVC()\n",
        "X_train, X_test, y_train, y_test, indices_train, indices_test = train_test_split(features, labels, df.index, test_size=0.33, random_state=0)\n",
        "model.fit(X_train, y_train)\n",
        "y_pred = model.predict(X_test)\n",
        "from sklearn.metrics import confusion_matrix\n",
        "conf_mat = confusion_matrix(y_test, y_pred)\n",
        "fig, ax = plt.subplots(figsize=(10,10))\n",
        "sns.heatmap(conf_mat, annot=True, fmt='d',\n",
        "            xticklabels=category_id_df.Product.values, yticklabels=category_id_df.Product.values)\n",
        "plt.ylabel('Actual')\n",
        "plt.xlabel('Predicted')\n",
        "plt.show()"
      ],
      "execution_count": null,
      "outputs": []
    },
    {
      "cell_type": "code",
      "metadata": {
        "id": "FIL73XL7W164",
        "colab_type": "code",
        "colab": {}
      },
      "source": [
        "from sklearn.feature_extraction.text import TfidfVectorizer\n",
        "tfidf = TfidfVectorizer(sublinear_tf=True, min_df=5, norm='l2', \n",
        "                        encoding='latin-1', ngram_range=(1, 2), stop_words='english')\n",
        "features = tfidf.fit_transform(single_class_stem_df.En).toarray()\n",
        "# labels = top_ten_topics_df.category_id\n",
        "labels = single_class_stem_df.Topics\n",
        "features.shape"
      ],
      "execution_count": null,
      "outputs": []
    },
    {
      "cell_type": "code",
      "metadata": {
        "id": "SRWByf07XOsg",
        "colab_type": "code",
        "colab": {}
      },
      "source": [
        "# from sklearn.feature_selection import chi2\n",
        "# import numpy as np\n",
        "# N = 2\n",
        "# category_to_id = {topic:index for index,topic in enumerate(top_ten_list)}\n",
        "\n",
        "# for topic, category_id in sorted(category_to_id.items()):\n",
        "  \n",
        "#   features_chi2 = chi2(features, labels == category_id)\n",
        "#   indices = np.argsort(features_chi2[0])\n",
        "\n",
        "#   feature_names = np.array(tfidf.get_feature_names())[indices]\n",
        "#   unigrams = [v for v in feature_names if len(v.split(' ')) == 1]\n",
        "#   bigrams = [v for v in feature_names if len(v.split(' ')) == 2]\n",
        "  \n",
        "#   print(\"# '{}':\".format(Product))\n",
        "#   print(\"  . Most correlated unigrams:\\n. {}\".format('\\n. '.join(unigrams[-N:])))\n",
        "#   print(\"  . Most correlated bigrams:\\n. {}\".format('\\n. '.join(bigrams[-N:])))\n"
      ],
      "execution_count": null,
      "outputs": []
    },
    {
      "cell_type": "code",
      "metadata": {
        "id": "pXGzA-7nZJbo",
        "colab_type": "code",
        "colab": {}
      },
      "source": [
        "from sklearn.model_selection import train_test_split\n",
        "from sklearn.feature_extraction.text import CountVectorizer\n",
        "from sklearn.feature_extraction.text import TfidfTransformer\n",
        "from sklearn.naive_bayes import MultinomialNB\n",
        "\n",
        "# X_train, X_test, y_train, y_test = train_test_split(top_ten_topics_df['En'], top_ten_labels_df, random_state = 0)\n",
        "X_train, X_test, y_train, y_test = train_test_split(single_class_stem_df['En'], single_class_stem_df['Topics'], random_state = 0)\n",
        "count_vect = CountVectorizer()\n",
        "X_train_counts = count_vect.fit_transform(X_train)\n",
        "tfidf_transformer = TfidfTransformer()\n",
        "X_train_tfidf = tfidf_transformer.fit_transform(X_train_counts)\n",
        "clf = MultinomialNB().fit(X_train_tfidf, y_train)"
      ],
      "execution_count": null,
      "outputs": []
    },
    {
      "cell_type": "code",
      "metadata": {
        "id": "wYXwfW7AEhZL",
        "colab_type": "code",
        "colab": {}
      },
      "source": [
        "# import seaborn as sns\n",
        "\n",
        "# categories = list(top_ten_labels_df.columns.values)\n",
        "# sns.set(font_scale = 2)\n",
        "# plt.figure(figsize=(15,8))\n",
        "# # ax= sns.barplot(categories, top_ten_labels_df.iloc[1:,1:].sum().values)\n",
        "# plt.title(\"Comments in each category\", fontsize=24)\n",
        "# plt.ylabel('Number of comments', fontsize=18)\n",
        "# plt.xlabel('Comment Type ', fontsize=18)\n",
        "# #adding the text labels\n",
        "# rects = ax.patches\n",
        "# labels = top_ten_labels_df.iloc[:,2:].sum().values\n",
        "# for rect, label in zip(rects, labels):\n",
        "#     height = rect.get_height()\n",
        "#     ax.text(rect.get_x() + rect.get_width()/2, height + 5, label, ha='center', va='bottom', fontsize=18)\n",
        "# plt.show()"
      ],
      "execution_count": null,
      "outputs": []
    },
    {
      "cell_type": "code",
      "metadata": {
        "id": "wFWHuxZ3Q4Ne",
        "colab_type": "code",
        "colab": {}
      },
      "source": [
        "print(clf.predict(count_vect.transform([\"\"\"\n",
        "A woman ca get married in one of three ways.Two stages are kiddushin and chuppah. \n",
        "\"\"\"])))\n"
      ],
      "execution_count": null,
      "outputs": []
    },
    {
      "cell_type": "code",
      "metadata": {
        "id": "Dm9iDYqSj_aq",
        "colab_type": "code",
        "colab": {}
      },
      "source": [
        "# using binary relevance\n",
        "!pip install scikit-multilearn\n",
        "from skmultilearn.problem_transform import BinaryRelevance\n",
        "from sklearn.naive_bayes import GaussianNB\n",
        "# initialize binary relevance multi-label classifier\n",
        "# with a gaussian naive bayes base classifier\n",
        "# classifier = BinaryRelevance(GaussianNB())\n",
        "classifier = MultinomialNB()\n",
        "# train\n",
        "classifier.fit(X_train, y_train)\n",
        "# predict\n",
        "predictions = classifier.predict(X_test)\n",
        "# accuracy\n",
        "print(\"Accuracy = \",accuracy_score(y_test,predictions))"
      ],
      "execution_count": null,
      "outputs": []
    },
    {
      "cell_type": "code",
      "metadata": {
        "id": "Ot4j8kdwgxdM",
        "colab_type": "code",
        "colab": {}
      },
      "source": [
        "from sklearn.linear_model import LogisticRegression\n",
        "from sklearn.ensemble import RandomForestClassifier\n",
        "from sklearn.svm import LinearSVC\n",
        "from sklearn.model_selection import cross_val_score\n",
        "\n",
        "models = [\n",
        "    RandomForestClassifier(n_estimators=200, max_depth=3, random_state=0),\n",
        "    LinearSVC(),\n",
        "    MultinomialNB(),\n",
        "    LogisticRegression(random_state=0),\n",
        "]\n",
        "\n",
        "CV = 5\n",
        "cv_df = pd.DataFrame(index=range(CV * len(models)))\n",
        "entries = []\n",
        "\n",
        "for model in models:\n",
        "  model_name = model.__class__.__name__\n",
        "  accuracies = cross_val_score(model, features, labels, scoring='accuracy', cv=CV)\n",
        "  for fold_idx, accuracy in enumerate(accuracies):\n",
        "    entries.append((model_name, fold_idx, accuracy))\n",
        "\n",
        "cv_df = pd.DataFrame(entries, columns=['model_name', 'fold_idx', 'accuracy'])\n",
        "\n",
        "import seaborn as sns\n",
        "sns.boxplot(x='model_name', y='accuracy', data=cv_df)\n",
        "sns.stripplot(x='model_name', y='accuracy', data=cv_df, \n",
        "              size=8, jitter=True, edgecolor=\"gray\", linewidth=2)\n",
        "plt.show()\n"
      ],
      "execution_count": null,
      "outputs": []
    },
    {
      "cell_type": "code",
      "metadata": {
        "id": "-Ra1YGtTg3Y7",
        "colab_type": "code",
        "colab": {}
      },
      "source": [
        ""
      ],
      "execution_count": null,
      "outputs": []
    }
  ],
  "metadata": {
    "colab": {
      "name": "ML/EDA.ipynb",
      "provenance": [],
      "mount_file_id": "https://github.com/yishairasowsky/Sefaria-Project/blob/master/ML/EDA.ipynb",
      "authorship_tag": "ABX9TyPew2wqupxwv1DjSLEmBhEO",
      "include_colab_link": true
    },
    "kernelspec": {
      "name": "python3",
      "display_name": "Python 3"
    }
  },
  "nbformat": 4,
  "nbformat_minor": 0
}